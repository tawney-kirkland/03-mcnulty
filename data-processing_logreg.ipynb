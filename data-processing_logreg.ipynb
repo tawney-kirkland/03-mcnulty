{
 "cells": [
  {
   "cell_type": "code",
   "execution_count": 69,
   "metadata": {},
   "outputs": [],
   "source": [
    "import pandas as pd\n",
    "import numpy as np\n",
    "\n",
    "from sklearn.model_selection import train_test_split\n",
    "from sklearn.preprocessing import StandardScaler, PolynomialFeatures, OneHotEncoder\n",
    "from sklearn.linear_model import LogisticRegression\n",
    "from sklearn.metrics import roc_auc_score, confusion_matrix, roc_curve\n",
    "\n",
    "import seaborn as sns\n",
    "import matplotlib.pyplot as plt\n",
    "\n",
    "import datetime as dt\n",
    "from datetime import datetime\n",
    "\n",
    "import statsmodels.api as sm\n",
    "import statsmodels.formula.api as smf\n",
    "\n",
    "from pandasql import sqldf"
   ]
  },
  {
   "cell_type": "code",
   "execution_count": 70,
   "metadata": {},
   "outputs": [],
   "source": [
    "df = pd.read_csv('data.csv')"
   ]
  },
  {
   "cell_type": "code",
   "execution_count": 71,
   "metadata": {},
   "outputs": [],
   "source": [
    "x = df[['country', 'year', 'uniqueid', 'location_type',\n",
    "       'cellphone_access', 'household_size', 'age_of_respondent',\n",
    "       'gender_of_respondent', 'relationship_with_head', 'marital_status',\n",
    "       'education_level', 'job_type']]\n",
    "\n",
    "\n",
    "y = df[['bank_account']]\n",
    "\n",
    "x_tr, x_test, y_tr, y_test = train_test_split(x, y,test_size=.25, random_state=12)"
   ]
  },
  {
   "cell_type": "code",
   "execution_count": 72,
   "metadata": {
    "scrolled": true
   },
   "outputs": [
    {
     "name": "stderr",
     "output_type": "stream",
     "text": [
      "<ipython-input-72-02e3f9e08314>:1: SettingWithCopyWarning: \n",
      "A value is trying to be set on a copy of a slice from a DataFrame.\n",
      "Try using .loc[row_indexer,col_indexer] = value instead\n",
      "\n",
      "See the caveats in the documentation: https://pandas.pydata.org/pandas-docs/stable/user_guide/indexing.html#returning-a-view-versus-a-copy\n",
      "  x_tr['is_urban'] = np.where(x_tr['location_type'] == 'Urban',1,0)\n",
      "<ipython-input-72-02e3f9e08314>:2: SettingWithCopyWarning: \n",
      "A value is trying to be set on a copy of a slice from a DataFrame.\n",
      "Try using .loc[row_indexer,col_indexer] = value instead\n",
      "\n",
      "See the caveats in the documentation: https://pandas.pydata.org/pandas-docs/stable/user_guide/indexing.html#returning-a-view-versus-a-copy\n",
      "  x_tr['cellphone'] = np.where(x_tr['cellphone_access'] == 'Yes',1,0)\n",
      "<ipython-input-72-02e3f9e08314>:3: SettingWithCopyWarning: \n",
      "A value is trying to be set on a copy of a slice from a DataFrame.\n",
      "Try using .loc[row_indexer,col_indexer] = value instead\n",
      "\n",
      "See the caveats in the documentation: https://pandas.pydata.org/pandas-docs/stable/user_guide/indexing.html#returning-a-view-versus-a-copy\n",
      "  x_tr['is_male'] = np.where(x_tr['gender_of_respondent'] == 'Male',1,0)\n"
     ]
    }
   ],
   "source": [
    "x_tr['is_urban'] = np.where(x_tr['location_type'] == 'Urban',1,0)\n",
    "x_tr['cellphone'] = np.where(x_tr['cellphone_access'] == 'Yes',1,0)\n",
    "x_tr['is_male'] = np.where(x_tr['gender_of_respondent'] == 'Male',1,0)"
   ]
  },
  {
   "cell_type": "code",
   "execution_count": 73,
   "metadata": {},
   "outputs": [],
   "source": [
    "x_tr_cont = x_tr[['year','household_size','age_of_respondent','is_urban','cellphone','is_male']]\n",
    "x_tr_cat = x_tr[['country','relationship_with_head', 'marital_status','education_level', 'job_type']]"
   ]
  },
  {
   "cell_type": "code",
   "execution_count": 74,
   "metadata": {},
   "outputs": [
    {
     "name": "stderr",
     "output_type": "stream",
     "text": [
      "/Users/tawneykirkland/opt/anaconda3/lib/python3.8/site-packages/pandas/core/indexing.py:670: SettingWithCopyWarning: \n",
      "A value is trying to be set on a copy of a slice from a DataFrame\n",
      "\n",
      "See the caveats in the documentation: https://pandas.pydata.org/pandas-docs/stable/user_guide/indexing.html#returning-a-view-versus-a-copy\n",
      "  iloc._setitem_with_indexer(indexer, value)\n",
      "<ipython-input-74-fd79ac22a8b3>:2: SettingWithCopyWarning: \n",
      "A value is trying to be set on a copy of a slice from a DataFrame\n",
      "\n",
      "See the caveats in the documentation: https://pandas.pydata.org/pandas-docs/stable/user_guide/indexing.html#returning-a-view-versus-a-copy\n",
      "  x_tr_cat.loc[x_tr_cat['marital_status'] == 'Dont know', ['marital_status']] = 'Single/Never Married'\n",
      "<ipython-input-74-fd79ac22a8b3>:3: SettingWithCopyWarning: \n",
      "A value is trying to be set on a copy of a slice from a DataFrame\n",
      "\n",
      "See the caveats in the documentation: https://pandas.pydata.org/pandas-docs/stable/user_guide/indexing.html#returning-a-view-versus-a-copy\n",
      "  x_tr_cat.loc[x_tr_cat['education_level'] == 'Other/Dont know/RTA', ['education_level']] = 'No formal education'\n",
      "<ipython-input-74-fd79ac22a8b3>:4: SettingWithCopyWarning: \n",
      "A value is trying to be set on a copy of a slice from a DataFrame\n",
      "\n",
      "See the caveats in the documentation: https://pandas.pydata.org/pandas-docs/stable/user_guide/indexing.html#returning-a-view-versus-a-copy\n",
      "  x_tr_cat.loc[x_tr_cat['job_type'] == 'Dont Know/Refuse to answer', ['job_type']] = 'No Income'\n",
      "<ipython-input-74-fd79ac22a8b3>:5: SettingWithCopyWarning: \n",
      "A value is trying to be set on a copy of a slice from a DataFrame\n",
      "\n",
      "See the caveats in the documentation: https://pandas.pydata.org/pandas-docs/stable/user_guide/indexing.html#returning-a-view-versus-a-copy\n",
      "  x_tr_cat.loc[x_tr_cat['relationship_with_head'] == 'Other non-relatives', ['relationship_with_head']] = 'Other relative'\n"
     ]
    }
   ],
   "source": [
    "# Regroup to reduce number of categories\n",
    "x_tr_cat.loc[x_tr_cat['marital_status'] == 'Dont know', ['marital_status']] = 'Single/Never Married'\n",
    "x_tr_cat.loc[x_tr_cat['education_level'] == 'Other/Dont know/RTA', ['education_level']] = 'No formal education'\n",
    "x_tr_cat.loc[x_tr_cat['job_type'] == 'Dont Know/Refuse to answer', ['job_type']] = 'No Income'\n",
    "x_tr_cat.loc[x_tr_cat['relationship_with_head'] == 'Other non-relatives', ['relationship_with_head']] = 'Other relative'"
   ]
  },
  {
   "cell_type": "code",
   "execution_count": 75,
   "metadata": {
    "scrolled": true
   },
   "outputs": [],
   "source": [
    "ohe = OneHotEncoder(drop='first', sparse=False)\n",
    "\n",
    "ohe.fit(x_tr_cat)\n",
    "\n",
    "ohe_x_train = ohe.transform(x_tr_cat)\n",
    "\n",
    "columns = ohe.get_feature_names(['county',\n",
    "                                 'relationship_with_head', \n",
    "                                 'marital_status',\n",
    "                                 'education_level', \n",
    "                                 'job_type'])\n",
    "\n",
    "ohe_x_tr_df = pd.DataFrame(ohe_x_train, columns=columns, index=x_tr.index)"
   ]
  },
  {
   "cell_type": "code",
   "execution_count": 76,
   "metadata": {},
   "outputs": [],
   "source": [
    "combo_train_df = pd.concat([x_tr_cont, ohe_x_tr_df], axis=1)"
   ]
  },
  {
   "cell_type": "code",
   "execution_count": 77,
   "metadata": {
    "scrolled": true
   },
   "outputs": [
    {
     "name": "stderr",
     "output_type": "stream",
     "text": [
      "<ipython-input-77-b1430f2c33c5>:2: SettingWithCopyWarning: \n",
      "A value is trying to be set on a copy of a slice from a DataFrame.\n",
      "Try using .loc[row_indexer,col_indexer] = value instead\n",
      "\n",
      "See the caveats in the documentation: https://pandas.pydata.org/pandas-docs/stable/user_guide/indexing.html#returning-a-view-versus-a-copy\n",
      "  y_tr['bank_acc'] = np.where(y_tr['bank_account'] == 'Yes', 1,0)\n"
     ]
    }
   ],
   "source": [
    "# Create dummy variable for bank account\n",
    "y_tr['bank_acc'] = np.where(y_tr['bank_account'] == 'Yes', 1,0)"
   ]
  },
  {
   "cell_type": "code",
   "execution_count": 78,
   "metadata": {},
   "outputs": [],
   "source": [
    "x_train, x_val, y_train, y_val = train_test_split(combo_train_df, y_tr, test_size=.20, random_state=11)"
   ]
  },
  {
   "cell_type": "code",
   "execution_count": 79,
   "metadata": {
    "scrolled": true
   },
   "outputs": [
    {
     "name": "stderr",
     "output_type": "stream",
     "text": [
      "/Users/tawneykirkland/opt/anaconda3/lib/python3.8/site-packages/pandas/core/frame.py:4163: SettingWithCopyWarning: \n",
      "A value is trying to be set on a copy of a slice from a DataFrame\n",
      "\n",
      "See the caveats in the documentation: https://pandas.pydata.org/pandas-docs/stable/user_guide/indexing.html#returning-a-view-versus-a-copy\n",
      "  return super().drop(\n"
     ]
    }
   ],
   "source": [
    "y_train.drop(columns='bank_account',inplace=True)\n",
    "y_val.drop(columns='bank_account',inplace=True)"
   ]
  },
  {
   "cell_type": "code",
   "execution_count": 80,
   "metadata": {
    "scrolled": true
   },
   "outputs": [
    {
     "data": {
      "image/png": "[encoded data removed]",
      "text/plain": [
       "<Figure size 432x288 with 1 Axes>"
      ]
     },
     "metadata": {
      "needs_background": "light"
     },
     "output_type": "display_data"
    }
   ],
   "source": [
    "sns.countplot(x='bank_acc', data=y_train)\n",
    "plt.title('Bank account holding status',family='arial',fontsize=16)\n",
    "plt.xlabel('Bank account')\n",
    "plt.ylabel('Count')\n",
    "plt.show;"
   ]
  },
  {
   "cell_type": "code",
   "execution_count": 81,
   "metadata": {},
   "outputs": [
    {
     "name": "stdout",
     "output_type": "stream",
     "text": [
      "percentage of no account: 85.9288649567805\n",
      "percentage of account 14.071135043219499\n"
     ]
    }
   ],
   "source": [
    "count_no_acc = len(y_train[y_train['bank_acc']==0])\n",
    "count_acc = len(y_train[y_train['bank_acc']==1])\n",
    "pct_of_no_acc = count_no_acc/(count_no_acc+count_acc)\n",
    "print(\"percentage of no account:\", pct_of_no_acc*100)\n",
    "pct_of_acc = count_acc/(count_no_acc+count_acc)\n",
    "print(\"percentage of account\", pct_of_acc*100)"
   ]
  },
  {
   "cell_type": "markdown",
   "metadata": {},
   "source": [
    "Classes are __very imbalanced__ - investigate threshold, over and undersampling"
   ]
  },
  {
   "cell_type": "code",
   "execution_count": 82,
   "metadata": {},
   "outputs": [],
   "source": [
    "df_train = pd.concat([x_train,y_train],axis=1)\n",
    "df_val = pd.concat([x_val,y_val],axis=1)"
   ]
  },
  {
   "cell_type": "code",
   "execution_count": 83,
   "metadata": {},
   "outputs": [],
   "source": [
    "# Create dateframes to use for visualisations\n",
    "df_vis_cont = pd.concat([x_tr_cont,y_tr],axis=1)\n",
    "df_vis_cat = pd.concat([ohe_x_tr_df,y_tr],axis=1)"
   ]
  },
  {
   "cell_type": "code",
   "execution_count": 84,
   "metadata": {
    "scrolled": true
   },
   "outputs": [
    {
     "data": {
      "image/png": "[encoded data removed]",
      "text/plain": [
       "<Figure size 1080x1080 with 2 Axes>"
      ]
     },
     "metadata": {
      "needs_background": "light"
     },
     "output_type": "display_data"
    }
   ],
   "source": [
    "fig, ax = plt.subplots(figsize=(15, 15))\n",
    "sns.heatmap(df_train.corr(), cmap=\"seismic\", vmin=-1, vmax=1, ax=ax);"
   ]
  },
  {
   "cell_type": "markdown",
   "metadata": {},
   "source": [
    "## Simple logistic regression\n",
    "\n",
    "Testing with a single variable: is_male"
   ]
  },
  {
   "cell_type": "code",
   "execution_count": 85,
   "metadata": {},
   "outputs": [
    {
     "name": "stdout",
     "output_type": "stream",
     "text": [
      "Optimization terminated successfully.\n",
      "         Current function value: 0.399382\n",
      "         Iterations 6\n"
     ]
    }
   ],
   "source": [
    "#Model on is_male first\n",
    "lm_1 = sm.Logit(df_train['bank_acc'],  # with statsmodels, `y` comes first\n",
    "                sm.add_constant(df_train[['is_male']]))  # and then `x`\n",
    "lm_1 = lm_1.fit()"
   ]
  },
  {
   "cell_type": "code",
   "execution_count": 86,
   "metadata": {},
   "outputs": [
    {
     "data": {
      "text/html": [
       "<table class=\"simpletable\">\n",
       "<caption>Logit Regression Results</caption>\n",
       "<tr>\n",
       "  <th>Dep. Variable:</th>       <td>bank_acc</td>     <th>  No. Observations:  </th>  <td> 14114</td>  \n",
       "</tr>\n",
       "<tr>\n",
       "  <th>Model:</th>                 <td>Logit</td>      <th>  Df Residuals:      </th>  <td> 14112</td>  \n",
       "</tr>\n",
       "<tr>\n",
       "  <th>Method:</th>                 <td>MLE</td>       <th>  Df Model:          </th>  <td>     1</td>  \n",
       "</tr>\n",
       "<tr>\n",
       "  <th>Date:</th>            <td>Wed, 03 Feb 2021</td> <th>  Pseudo R-squ.:     </th>  <td>0.01691</td> \n",
       "</tr>\n",
       "<tr>\n",
       "  <th>Time:</th>                <td>09:24:43</td>     <th>  Log-Likelihood:    </th> <td> -5636.9</td> \n",
       "</tr>\n",
       "<tr>\n",
       "  <th>converged:</th>             <td>True</td>       <th>  LL-Null:           </th> <td> -5733.9</td> \n",
       "</tr>\n",
       "<tr>\n",
       "  <th>Covariance Type:</th>     <td>nonrobust</td>    <th>  LLR p-value:       </th> <td>4.398e-44</td>\n",
       "</tr>\n",
       "</table>\n",
       "<table class=\"simpletable\">\n",
       "<tr>\n",
       "     <td></td>        <th>coef</th>     <th>std err</th>      <th>z</th>      <th>P>|z|</th>  <th>[0.025</th>    <th>0.975]</th>  \n",
       "</tr>\n",
       "<tr>\n",
       "  <th>const</th>   <td>   -2.1251</td> <td>    0.035</td> <td>  -60.055</td> <td> 0.000</td> <td>   -2.194</td> <td>   -2.056</td>\n",
       "</tr>\n",
       "<tr>\n",
       "  <th>is_male</th> <td>    0.6779</td> <td>    0.049</td> <td>   13.887</td> <td> 0.000</td> <td>    0.582</td> <td>    0.774</td>\n",
       "</tr>\n",
       "</table>"
      ],
      "text/plain": [
       "<class 'statsmodels.iolib.summary.Summary'>\n",
       "\"\"\"\n",
       "                           Logit Regression Results                           \n",
       "==============================================================================\n",
       "Dep. Variable:               bank_acc   No. Observations:                14114\n",
       "Model:                          Logit   Df Residuals:                    14112\n",
       "Method:                           MLE   Df Model:                            1\n",
       "Date:                Wed, 03 Feb 2021   Pseudo R-squ.:                 0.01691\n",
       "Time:                        09:24:43   Log-Likelihood:                -5636.9\n",
       "converged:                       True   LL-Null:                       -5733.9\n",
       "Covariance Type:            nonrobust   LLR p-value:                 4.398e-44\n",
       "==============================================================================\n",
       "                 coef    std err          z      P>|z|      [0.025      0.975]\n",
       "------------------------------------------------------------------------------\n",
       "const         -2.1251      0.035    -60.055      0.000      -2.194      -2.056\n",
       "is_male        0.6779      0.049     13.887      0.000       0.582       0.774\n",
       "==============================================================================\n",
       "\"\"\""
      ]
     },
     "execution_count": 86,
     "metadata": {},
     "output_type": "execute_result"
    }
   ],
   "source": [
    "lm_1.summary()"
   ]
  },
  {
   "cell_type": "code",
   "execution_count": 87,
   "metadata": {},
   "outputs": [
    {
     "data": {
      "text/plain": [
       "LogisticRegression(C=100000, solver='newton-cg')"
      ]
     },
     "execution_count": 87,
     "metadata": {},
     "output_type": "execute_result"
    }
   ],
   "source": [
    "lm_1 = LogisticRegression(solver='newton-cg',  # For comparison, use the same solver as statsmodels default\n",
    "                          C=100000)  # No regularization\n",
    "\n",
    "lm_1.fit(df_train[['is_male']], df_train['bank_acc'])"
   ]
  },
  {
   "cell_type": "code",
   "execution_count": 88,
   "metadata": {},
   "outputs": [
    {
     "name": "stdout",
     "output_type": "stream",
     "text": [
      "intercept:  -2.1251\n",
      "is_male coef:  0.6779\n"
     ]
    }
   ],
   "source": [
    "print('intercept: ', round(lm_1.intercept_[0], 4))\n",
    "print('is_male coef: ', round(lm_1.coef_[0][0], 4))"
   ]
  },
  {
   "cell_type": "code",
   "execution_count": 89,
   "metadata": {},
   "outputs": [],
   "source": [
    "df_eval = df_val.copy()\n",
    "df_eval['pred'] = lm_1.predict(df_val[['is_male']])\n",
    "df_eval.loc[:, 'pred'] = df_eval['pred'].astype('category')\n",
    "df_eval['correct_pred'] = df_eval['pred'] == df_eval['bank_acc']"
   ]
  },
  {
   "cell_type": "code",
   "execution_count": 90,
   "metadata": {},
   "outputs": [
    {
     "data": {
      "image/png": "[encoded data removed]",
      "text/plain": [
       "<Figure size 432x288 with 1 Axes>"
      ]
     },
     "metadata": {
      "needs_background": "light"
     },
     "output_type": "display_data"
    }
   ],
   "source": [
    "sns.stripplot(data=df_eval,\n",
    "              x='is_male',\n",
    "              y='pred',\n",
    "              hue='correct_pred',\n",
    "              palette={False: '#f03b20', True: '#3182bd'});"
   ]
  },
  {
   "cell_type": "code",
   "execution_count": 91,
   "metadata": {
    "scrolled": true
   },
   "outputs": [
    {
     "data": {
      "text/plain": [
       "array([[0.89331742, 0.10668258],\n",
       "       [0.80955703, 0.19044297],\n",
       "       [0.89331742, 0.10668258],\n",
       "       [0.89331742, 0.10668258],\n",
       "       [0.80955703, 0.19044297]])"
      ]
     },
     "execution_count": 91,
     "metadata": {},
     "output_type": "execute_result"
    }
   ],
   "source": [
    "lm_1.predict_proba(df_val[['is_male']])[:5]"
   ]
  },
  {
   "cell_type": "code",
   "execution_count": 92,
   "metadata": {},
   "outputs": [
    {
     "data": {
      "text/plain": [
       "array([[3037,    0],\n",
       "       [ 492,    0]])"
      ]
     },
     "execution_count": 92,
     "metadata": {},
     "output_type": "execute_result"
    }
   ],
   "source": [
    "confusion_matrix(df_eval['bank_acc'], df_eval['pred'])"
   ]
  },
  {
   "cell_type": "markdown",
   "metadata": {},
   "source": [
    "\n",
    "| | predict No account (0) | predict account (1)|\n",
    "|---|---|---|\n",
    "| **is no account (0)** | 3037 | 0|\n",
    "| **is account (1)** | 492 | 0 |"
   ]
  },
  {
   "cell_type": "markdown",
   "metadata": {},
   "source": [
    "I believe it is predicting all no account because of the following:\n",
    "* Classes are very imbalanced (85:15 no account to account)\n",
    "* One variable alone may not be sufficient enough in this instance\n",
    "* Perhaps because is_male class is also imbalanced?"
   ]
  },
  {
   "cell_type": "markdown",
   "metadata": {},
   "source": [
    "## Multiple regression\n",
    "The below analysis is a multiple logistic regression for all features "
   ]
  },
  {
   "cell_type": "code",
   "execution_count": 93,
   "metadata": {},
   "outputs": [],
   "source": [
    "features = ['household_size', 'age_of_respondent', 'is_urban', 'cellphone',\n",
    "       'is_male', 'county_Rwanda', 'county_Tanzania', 'county_Uganda',\n",
    "       'relationship_with_head_Head of Household',\n",
    "       'relationship_with_head_Other relative',\n",
    "       'relationship_with_head_Parent', 'relationship_with_head_Spouse',\n",
    "       'marital_status_Married/Living together',\n",
    "       'marital_status_Single/Never Married', 'marital_status_Widowed',\n",
    "       'education_level_Primary education',\n",
    "       'education_level_Secondary education',\n",
    "       'education_level_Tertiary education',\n",
    "       'education_level_Vocational/Specialised training',\n",
    "       'job_type_Formally employed Government',\n",
    "       'job_type_Formally employed Private', 'job_type_Government Dependent',\n",
    "       'job_type_Informally employed', 'job_type_No Income',\n",
    "       'job_type_Other Income', 'job_type_Remittance Dependent',\n",
    "       'job_type_Self employed']"
   ]
  },
  {
   "cell_type": "code",
   "execution_count": 94,
   "metadata": {
    "scrolled": true
   },
   "outputs": [
    {
     "name": "stdout",
     "output_type": "stream",
     "text": [
      "Optimization terminated successfully.\n",
      "         Current function value: 0.311113\n",
      "         Iterations 7\n",
      "                                         Results: Logit\n",
      "================================================================================================\n",
      "Model:                          Logit                      Pseudo R-squared:           0.234    \n",
      "Dependent Variable:             bank_acc                   AIC:                        8836.0953\n",
      "Date:                           2021-02-03 09:24           BIC:                        9040.0782\n",
      "No. Observations:               14114                      Log-Likelihood:             -4391.0  \n",
      "Df Model:                       26                         LL-Null:                    -5733.9  \n",
      "Df Residuals:                   14087                      LLR p-value:                0.0000   \n",
      "Converged:                      1.0000                     Scale:                      1.0000   \n",
      "No. Iterations:                 7.0000                                                          \n",
      "------------------------------------------------------------------------------------------------\n",
      "                                                 Coef.  Std.Err.    z     P>|z|   [0.025  0.975]\n",
      "------------------------------------------------------------------------------------------------\n",
      "household_size                                  -0.1282   0.0145  -8.8488 0.0000 -0.1566 -0.0998\n",
      "age_of_respondent                               -0.0104   0.0021  -4.9337 0.0000 -0.0146 -0.0063\n",
      "is_urban                                         0.2342   0.0647   3.6190 0.0003  0.1074  0.3610\n",
      "cellphone                                        0.6532   0.0854   7.6440 0.0000  0.4857  0.8206\n",
      "is_male                                          0.3731   0.0722   5.1646 0.0000  0.2315  0.5146\n",
      "county_Rwanda                                   -0.7126   0.0677 -10.5285 0.0000 -0.8453 -0.5800\n",
      "county_Tanzania                                 -1.5826   0.1000 -15.8320 0.0000 -1.7786 -1.3867\n",
      "county_Uganda                                   -1.3558   0.1277 -10.6196 0.0000 -1.6060 -1.1056\n",
      "relationship_with_head_Head of Household        -0.4056   0.1086  -3.7339 0.0002 -0.6186 -0.1927\n",
      "relationship_with_head_Other relative           -1.1772   0.1805  -6.5203 0.0000 -1.5311 -0.8233\n",
      "relationship_with_head_Parent                   -1.3055   0.1931  -6.7615 0.0000 -1.6840 -0.9271\n",
      "relationship_with_head_Spouse                   -0.6759   0.1274  -5.3065 0.0000 -0.9255 -0.4262\n",
      "marital_status_Married/Living together          -0.5525   0.1085  -5.0897 0.0000 -0.7652 -0.3397\n",
      "marital_status_Single/Never Married             -1.1845   0.0951 -12.4552 0.0000 -1.3709 -0.9981\n",
      "marital_status_Widowed                          -0.7343   0.1368  -5.3684 0.0000 -1.0025 -0.4662\n",
      "education_level_Primary education               -0.1644   0.0837  -1.9644 0.0495 -0.3285 -0.0004\n",
      "education_level_Secondary education              0.6764   0.0938   7.2146 0.0000  0.4926  0.8602\n",
      "education_level_Tertiary education               2.2489   0.1281  17.5564 0.0000  1.9979  2.5000\n",
      "education_level_Vocational/Specialised training  1.7894   0.1359  13.1650 0.0000  1.5230  2.0558\n",
      "job_type_Formally employed Government            1.2863   0.1840   6.9911 0.0000  0.9257  1.6469\n",
      "job_type_Formally employed Private               1.3257   0.1196  11.0841 0.0000  1.0913  1.5601\n",
      "job_type_Government Dependent                    0.9457   0.2284   4.1406 0.0000  0.4980  1.3933\n",
      "job_type_Informally employed                    -0.9462   0.0868 -10.9031 0.0000 -1.1162 -0.7761\n",
      "job_type_No Income                              -0.8642   0.2668  -3.2387 0.0012 -1.3872 -0.3412\n",
      "job_type_Other Income                            0.2105   0.1395   1.5087 0.1314 -0.0630  0.4840\n",
      "job_type_Remittance Dependent                   -0.9994   0.1145  -8.7309 0.0000 -1.2238 -0.7751\n",
      "job_type_Self employed                           0.0252   0.0905   0.2779 0.7811 -0.1523  0.2026\n",
      "================================================================================================\n",
      "\n"
     ]
    }
   ],
   "source": [
    "logit_model=sm.Logit(df_train['bank_acc'],df_train[features])\n",
    "result=logit_model.fit()\n",
    "print(result.summary2())"
   ]
  },
  {
   "cell_type": "markdown",
   "metadata": {},
   "source": [
    "The below analysis includes all features. Thereafter the analyses remove insignificant features one by one."
   ]
  },
  {
   "cell_type": "code",
   "execution_count": 95,
   "metadata": {},
   "outputs": [
    {
     "name": "stdout",
     "output_type": "stream",
     "text": [
      "Accuracy of logistic regression classifier on val set: 0.88\n"
     ]
    },
    {
     "name": "stderr",
     "output_type": "stream",
     "text": [
      "/Users/tawneykirkland/opt/anaconda3/lib/python3.8/site-packages/sklearn/linear_model/_logistic.py:762: ConvergenceWarning: lbfgs failed to converge (status=1):\n",
      "STOP: TOTAL NO. of ITERATIONS REACHED LIMIT.\n",
      "\n",
      "Increase the number of iterations (max_iter) or scale the data as shown in:\n",
      "    https://scikit-learn.org/stable/modules/preprocessing.html\n",
      "Please also refer to the documentation for alternative solver options:\n",
      "    https://scikit-learn.org/stable/modules/linear_model.html#logistic-regression\n",
      "  n_iter_i = _check_optimize_result(\n"
     ]
    }
   ],
   "source": [
    "lm_2 = LogisticRegression()\n",
    "lm_2.fit(df_train[features], df_train['bank_acc'])\n",
    "\n",
    "preds = lm_2.predict(df_val[features])\n",
    "print('Accuracy of logistic regression classifier on val set: {:.2f}'.format(lm_2.score(df_val[features], y_val)))"
   ]
  },
  {
   "cell_type": "code",
   "execution_count": 96,
   "metadata": {},
   "outputs": [],
   "source": [
    "import sys\n",
    "np.set_printoptions(threshold=sys.maxsize)"
   ]
  },
  {
   "cell_type": "code",
   "execution_count": 97,
   "metadata": {},
   "outputs": [],
   "source": [
    "y_prob = lm_2.predict_proba(df_val[features])"
   ]
  },
  {
   "cell_type": "code",
   "execution_count": 98,
   "metadata": {
    "scrolled": true
   },
   "outputs": [
    {
     "data": {
      "text/plain": [
       "array([[2954,   83],\n",
       "       [ 337,  155]])"
      ]
     },
     "execution_count": 98,
     "metadata": {},
     "output_type": "execute_result"
    }
   ],
   "source": [
    "confusion_matrix(df_val['bank_acc'], \n",
    "                 preds)"
   ]
  },
  {
   "cell_type": "markdown",
   "metadata": {},
   "source": [
    "\n",
    "| | predict No account (0) | predict account (1)|\n",
    "|---|---|---|\n",
    "| **is no account (0)** | 2954 | 83|\n",
    "| **is account (1)** | 337 | 155 |"
   ]
  },
  {
   "cell_type": "markdown",
   "metadata": {},
   "source": [
    "Need to understand and decide on the __trade off between recall and precision__\n",
    "\n",
    "Precision is the number of observations predicted positive over the total actual positives. The precision is intuitively the ability of the classifier to not label a sample as positive if it is negative.\n",
    "\n",
    "The recall is the number of actually positive observations over the number predicted positive. The recall is intuitively the ability of the classifier to find all the positive samples."
   ]
  },
  {
   "cell_type": "code",
   "execution_count": 99,
   "metadata": {
    "scrolled": true
   },
   "outputs": [
    {
     "name": "stdout",
     "output_type": "stream",
     "text": [
      "              precision    recall  f1-score   support\n",
      "\n",
      "           0       0.90      0.97      0.93      3037\n",
      "           1       0.65      0.32      0.42       492\n",
      "\n",
      "    accuracy                           0.88      3529\n",
      "   macro avg       0.77      0.64      0.68      3529\n",
      "weighted avg       0.86      0.88      0.86      3529\n",
      "\n"
     ]
    }
   ],
   "source": [
    "from sklearn.metrics import classification_report\n",
    "print(classification_report(y_val, preds))"
   ]
  },
  {
   "cell_type": "code",
   "execution_count": 100,
   "metadata": {},
   "outputs": [],
   "source": [
    "df_val['proba_bank'] = lm_2.predict_proba(df_val[features])[:, 1]\n",
    "\n",
    "fpr2, tpr2, thresholds2 = roc_curve(df_val['bank_acc'],\n",
    "                                 df_val['proba_bank'])"
   ]
  },
  {
   "cell_type": "code",
   "execution_count": 101,
   "metadata": {},
   "outputs": [],
   "source": [
    "def plot_roc(true, probas,fpr,tpr):\n",
    "    auc = roc_auc_score(true, probas)\n",
    "\n",
    "    plt.plot(fpr, tpr, marker='o')\n",
    "    plt.xlabel('1 - Specificity (FPR)')\n",
    "    plt.ylabel('Sensitivity (TPR)');\n",
    "    plt.title(f\"Area Under the ROC Curve: {round(auc, 3)}\");"
   ]
  },
  {
   "cell_type": "code",
   "execution_count": 102,
   "metadata": {
    "scrolled": false
   },
   "outputs": [
    {
     "data": {
      "image/png": "[encoded data removed]",
      "text/plain": [
       "<Figure size 432x288 with 1 Axes>"
      ]
     },
     "metadata": {
      "needs_background": "light"
     },
     "output_type": "display_data"
    }
   ],
   "source": [
    "plot_roc(df_val['bank_acc'], df_val['proba_bank'],fpr2,tpr2)"
   ]
  },
  {
   "cell_type": "markdown",
   "metadata": {},
   "source": [
    "## Adjusting threshold"
   ]
  },
  {
   "cell_type": "code",
   "execution_count": 103,
   "metadata": {},
   "outputs": [],
   "source": [
    "threshold = .60\n",
    "y_pred = np.where((y_prob[:, 0] > threshold),0,1)"
   ]
  },
  {
   "cell_type": "code",
   "execution_count": 104,
   "metadata": {
    "scrolled": true
   },
   "outputs": [
    {
     "data": {
      "text/plain": [
       "array([[2915,  122],\n",
       "       [ 292,  200]])"
      ]
     },
     "execution_count": 104,
     "metadata": {},
     "output_type": "execute_result"
    }
   ],
   "source": [
    "confusion_matrix(df_val['bank_acc'], \n",
    "                 y_pred)"
   ]
  },
  {
   "cell_type": "markdown",
   "metadata": {},
   "source": [
    "## Multiple regression removing insignificant features one by one\n",
    "\n",
    "## Removing household size\n",
    "\n",
    "Based on logit summary above"
   ]
  },
  {
   "cell_type": "code",
   "execution_count": 105,
   "metadata": {},
   "outputs": [],
   "source": [
    "x_train_3 = df_train.drop(columns = ['year', 'household_size'])\n",
    "\n",
    "df_val_3 = df_val.drop(columns = ['year', 'household_size'])"
   ]
  },
  {
   "cell_type": "code",
   "execution_count": 106,
   "metadata": {},
   "outputs": [],
   "source": [
    "features3 = ['age_of_respondent', 'is_urban', 'cellphone',\n",
    "       'is_male', 'county_Rwanda', 'county_Tanzania', 'county_Uganda',\n",
    "       'relationship_with_head_Head of Household',\n",
    "       'relationship_with_head_Other relative',\n",
    "       'relationship_with_head_Parent', 'relationship_with_head_Spouse',\n",
    "       'marital_status_Married/Living together',\n",
    "       'marital_status_Single/Never Married', 'marital_status_Widowed',\n",
    "       'education_level_Primary education',\n",
    "       'education_level_Secondary education',\n",
    "       'education_level_Tertiary education',\n",
    "       'education_level_Vocational/Specialised training',\n",
    "       'job_type_Formally employed Government',\n",
    "       'job_type_Formally employed Private', 'job_type_Government Dependent',\n",
    "       'job_type_Informally employed', 'job_type_No Income',\n",
    "       'job_type_Other Income', 'job_type_Remittance Dependent',\n",
    "       'job_type_Self employed']"
   ]
  },
  {
   "cell_type": "code",
   "execution_count": 107,
   "metadata": {},
   "outputs": [
    {
     "name": "stdout",
     "output_type": "stream",
     "text": [
      "Optimization terminated successfully.\n",
      "         Current function value: 0.314047\n",
      "         Iterations 7\n",
      "                                         Results: Logit\n",
      "================================================================================================\n",
      "Model:                          Logit                      Pseudo R-squared:           0.227    \n",
      "Dependent Variable:             bank_acc                   AIC:                        8916.9278\n",
      "Date:                           2021-02-03 09:24           BIC:                        9113.3558\n",
      "No. Observations:               14114                      Log-Likelihood:             -4432.5  \n",
      "Df Model:                       25                         LL-Null:                    -5733.9  \n",
      "Df Residuals:                   14088                      LLR p-value:                0.0000   \n",
      "Converged:                      1.0000                     Scale:                      1.0000   \n",
      "No. Iterations:                 7.0000                                                          \n",
      "------------------------------------------------------------------------------------------------\n",
      "                                                 Coef.  Std.Err.    z     P>|z|   [0.025  0.975]\n",
      "------------------------------------------------------------------------------------------------\n",
      "age_of_respondent                               -0.0144   0.0021  -6.8265 0.0000 -0.0185 -0.0102\n",
      "is_urban                                         0.2756   0.0642   4.2915 0.0000  0.1497  0.4015\n",
      "cellphone                                        0.5468   0.0822   6.6521 0.0000  0.3857  0.7079\n",
      "is_male                                          0.3360   0.0719   4.6696 0.0000  0.1949  0.4770\n",
      "county_Rwanda                                   -0.8314   0.0658 -12.6434 0.0000 -0.9602 -0.7025\n",
      "county_Tanzania                                 -1.5294   0.1004 -15.2323 0.0000 -1.7262 -1.3327\n",
      "county_Uganda                                   -1.4784   0.1260 -11.7369 0.0000 -1.7253 -1.2316\n",
      "relationship_with_head_Head of Household        -0.2261   0.1057  -2.1385 0.0325 -0.4333 -0.0189\n",
      "relationship_with_head_Other relative           -1.2239   0.1795  -6.8196 0.0000 -1.5757 -0.8722\n",
      "relationship_with_head_Parent                   -1.4950   0.1927  -7.7598 0.0000 -1.8725 -1.1174\n",
      "relationship_with_head_Spouse                   -0.5822   0.1264  -4.6058 0.0000 -0.8300 -0.3344\n",
      "marital_status_Married/Living together          -0.8531   0.1026  -8.3164 0.0000 -1.0542 -0.6521\n",
      "marital_status_Single/Never Married             -1.3582   0.0920 -14.7658 0.0000 -1.5385 -1.1779\n",
      "marital_status_Widowed                          -0.8518   0.1348  -6.3178 0.0000 -1.1161 -0.5876\n",
      "education_level_Primary education               -0.2461   0.0812  -3.0293 0.0025 -0.4053 -0.0869\n",
      "education_level_Secondary education              0.5925   0.0914   6.4802 0.0000  0.4133  0.7717\n",
      "education_level_Tertiary education               2.1783   0.1268  17.1791 0.0000  1.9298  2.4268\n",
      "education_level_Vocational/Specialised training  1.7316   0.1343  12.8893 0.0000  1.4683  1.9949\n",
      "job_type_Formally employed Government            1.2643   0.1835   6.8911 0.0000  0.9047  1.6239\n",
      "job_type_Formally employed Private               1.3279   0.1190  11.1576 0.0000  1.0947  1.5612\n",
      "job_type_Government Dependent                    0.9511   0.2285   4.1630 0.0000  0.5033  1.3988\n",
      "job_type_Informally employed                    -1.0053   0.0860 -11.6936 0.0000 -1.1738 -0.8368\n",
      "job_type_No Income                              -0.9260   0.2677  -3.4590 0.0005 -1.4506 -0.4013\n",
      "job_type_Other Income                            0.1774   0.1384   1.2822 0.1998 -0.0938  0.4486\n",
      "job_type_Remittance Dependent                   -1.0989   0.1135  -9.6824 0.0000 -1.3213 -0.8764\n",
      "job_type_Self employed                          -0.0114   0.0897  -0.1277 0.8984 -0.1872  0.1643\n",
      "================================================================================================\n",
      "\n"
     ]
    }
   ],
   "source": [
    "logit_model3=sm.Logit(df_train['bank_acc'],x_train_3[features3])\n",
    "result=logit_model3.fit()\n",
    "print(result.summary2())"
   ]
  },
  {
   "cell_type": "code",
   "execution_count": 108,
   "metadata": {},
   "outputs": [
    {
     "name": "stdout",
     "output_type": "stream",
     "text": [
      "Accuracy of logistic regression classifier on val set: 0.886\n"
     ]
    },
    {
     "name": "stderr",
     "output_type": "stream",
     "text": [
      "/Users/tawneykirkland/opt/anaconda3/lib/python3.8/site-packages/sklearn/linear_model/_logistic.py:762: ConvergenceWarning: lbfgs failed to converge (status=1):\n",
      "STOP: TOTAL NO. of ITERATIONS REACHED LIMIT.\n",
      "\n",
      "Increase the number of iterations (max_iter) or scale the data as shown in:\n",
      "    https://scikit-learn.org/stable/modules/preprocessing.html\n",
      "Please also refer to the documentation for alternative solver options:\n",
      "    https://scikit-learn.org/stable/modules/linear_model.html#logistic-regression\n",
      "  n_iter_i = _check_optimize_result(\n"
     ]
    }
   ],
   "source": [
    "lm_3 = LogisticRegression()\n",
    "lm_3.fit(x_train_3[features3], x_train_3['bank_acc'])\n",
    "\n",
    "preds3 = lm_3.predict(df_val_3[features3])\n",
    "print('Accuracy of logistic regression classifier on val set: {:.3f}'.format(\n",
    "    lm_3.score(df_val_3[features3], df_val_3['bank_acc'])))"
   ]
  },
  {
   "cell_type": "code",
   "execution_count": 109,
   "metadata": {
    "scrolled": false
   },
   "outputs": [
    {
     "data": {
      "text/plain": [
       "array([[2963,   74],\n",
       "       [ 327,  165]])"
      ]
     },
     "execution_count": 109,
     "metadata": {},
     "output_type": "execute_result"
    }
   ],
   "source": [
    "confusion_matrix(df_val_3['bank_acc'], \n",
    "                 preds3)"
   ]
  },
  {
   "cell_type": "markdown",
   "metadata": {},
   "source": [
    "Essentially no change in precision and recall when household size is removed"
   ]
  },
  {
   "cell_type": "code",
   "execution_count": 110,
   "metadata": {
    "scrolled": true
   },
   "outputs": [
    {
     "name": "stdout",
     "output_type": "stream",
     "text": [
      "              precision    recall  f1-score   support\n",
      "\n",
      "           0       0.90      0.98      0.94      3037\n",
      "           1       0.69      0.34      0.45       492\n",
      "\n",
      "    accuracy                           0.89      3529\n",
      "   macro avg       0.80      0.66      0.69      3529\n",
      "weighted avg       0.87      0.89      0.87      3529\n",
      "\n"
     ]
    }
   ],
   "source": [
    "print(classification_report(df_val_3['bank_acc'], preds3))"
   ]
  },
  {
   "cell_type": "markdown",
   "metadata": {},
   "source": [
    "## Removing relationship with head - Other \n",
    "\n",
    "Based on logit summary above. Note each iteration is building off the previous"
   ]
  },
  {
   "cell_type": "code",
   "execution_count": 111,
   "metadata": {},
   "outputs": [],
   "source": [
    "x_train_4 = df_train.drop(columns = ['year','relationship_with_head_Other relative'])\n",
    "\n",
    "df_val_4 = df_val.drop(columns = ['year','relationship_with_head_Other relative'])"
   ]
  },
  {
   "cell_type": "code",
   "execution_count": 112,
   "metadata": {},
   "outputs": [],
   "source": [
    "features4 = ['age_of_respondent','household_size', 'is_urban', 'cellphone',\n",
    "       'is_male', 'county_Rwanda', 'county_Tanzania', 'county_Uganda',\n",
    "       'relationship_with_head_Head of Household',\n",
    "       'relationship_with_head_Parent', 'relationship_with_head_Spouse',\n",
    "       'marital_status_Married/Living together',\n",
    "       'marital_status_Single/Never Married', 'marital_status_Widowed',\n",
    "       'education_level_Primary education',\n",
    "       'education_level_Secondary education',\n",
    "       'education_level_Tertiary education',\n",
    "       'education_level_Vocational/Specialised training',\n",
    "       'job_type_Formally employed Government',\n",
    "       'job_type_Formally employed Private', 'job_type_Government Dependent',\n",
    "       'job_type_Informally employed', 'job_type_No Income',\n",
    "       'job_type_Remittance Dependent','job_type_Other Income','job_type_Self employed']"
   ]
  },
  {
   "cell_type": "code",
   "execution_count": 113,
   "metadata": {},
   "outputs": [
    {
     "name": "stdout",
     "output_type": "stream",
     "text": [
      "Optimization terminated successfully.\n",
      "         Current function value: 0.312819\n",
      "         Iterations 7\n",
      "                                         Results: Logit\n",
      "================================================================================================\n",
      "Model:                          Logit                      Pseudo R-squared:           0.230    \n",
      "Dependent Variable:             bank_acc                   AIC:                        8882.2598\n",
      "Date:                           2021-02-03 09:24           BIC:                        9078.6878\n",
      "No. Observations:               14114                      Log-Likelihood:             -4415.1  \n",
      "Df Model:                       25                         LL-Null:                    -5733.9  \n",
      "Df Residuals:                   14088                      LLR p-value:                0.0000   \n",
      "Converged:                      1.0000                     Scale:                      1.0000   \n",
      "No. Iterations:                 7.0000                                                          \n",
      "------------------------------------------------------------------------------------------------\n",
      "                                                 Coef.  Std.Err.    z     P>|z|   [0.025  0.975]\n",
      "------------------------------------------------------------------------------------------------\n",
      "age_of_respondent                               -0.0128   0.0021  -6.1380 0.0000 -0.0169 -0.0087\n",
      "household_size                                  -0.1315   0.0144  -9.1066 0.0000 -0.1598 -0.1032\n",
      "is_urban                                         0.2111   0.0645   3.2718 0.0011  0.0846  0.3375\n",
      "cellphone                                        0.5843   0.0835   6.9971 0.0000  0.4206  0.7480\n",
      "is_male                                          0.3592   0.0718   5.0026 0.0000  0.2185  0.4999\n",
      "county_Rwanda                                   -0.7184   0.0674 -10.6568 0.0000 -0.8505 -0.5863\n",
      "county_Tanzania                                 -1.6682   0.0988 -16.8803 0.0000 -1.8619 -1.4745\n",
      "county_Uganda                                   -1.4328   0.1268 -11.3006 0.0000 -1.6813 -1.1843\n",
      "relationship_with_head_Head of Household        -0.0967   0.0993  -0.9734 0.3303 -0.2914  0.0980\n",
      "relationship_with_head_Parent                   -0.9976   0.1871  -5.3325 0.0000 -1.3643 -0.6309\n",
      "relationship_with_head_Spouse                   -0.3856   0.1206  -3.1974 0.0014 -0.6220 -0.1492\n",
      "marital_status_Married/Living together          -0.5814   0.1077  -5.3979 0.0000 -0.7925 -0.3703\n",
      "marital_status_Single/Never Married             -1.1624   0.0940 -12.3716 0.0000 -1.3466 -0.9783\n",
      "marital_status_Widowed                          -0.7680   0.1362  -5.6395 0.0000 -1.0349 -0.5011\n",
      "education_level_Primary education               -0.2266   0.0823  -2.7549 0.0059 -0.3879 -0.0654\n",
      "education_level_Secondary education              0.6208   0.0926   6.7012 0.0000  0.4392  0.8024\n",
      "education_level_Tertiary education               2.1983   0.1270  17.3138 0.0000  1.9494  2.4471\n",
      "education_level_Vocational/Specialised training  1.7256   0.1347  12.8110 0.0000  1.4616  1.9896\n",
      "job_type_Formally employed Government            1.2614   0.1833   6.8827 0.0000  0.9022  1.6206\n",
      "job_type_Formally employed Private               1.2267   0.1179  10.4036 0.0000  0.9956  1.4577\n",
      "job_type_Government Dependent                    0.9467   0.2277   4.1570 0.0000  0.5003  1.3930\n",
      "job_type_Informally employed                    -1.0006   0.0863 -11.5917 0.0000 -1.1698 -0.8314\n",
      "job_type_No Income                              -0.9275   0.2670  -3.4734 0.0005 -1.4509 -0.4041\n",
      "job_type_Remittance Dependent                   -1.0575   0.1142  -9.2595 0.0000 -1.2813 -0.8336\n",
      "job_type_Other Income                            0.1786   0.1391   1.2840 0.1991 -0.0940  0.4513\n",
      "job_type_Self employed                          -0.0010   0.0902  -0.0106 0.9916 -0.1778  0.1758\n",
      "================================================================================================\n",
      "\n"
     ]
    }
   ],
   "source": [
    "logit_model4=sm.Logit(x_train_4['bank_acc'],x_train_4[features4])\n",
    "result=logit_model4.fit()\n",
    "print(result.summary2())"
   ]
  },
  {
   "cell_type": "code",
   "execution_count": 114,
   "metadata": {},
   "outputs": [
    {
     "name": "stdout",
     "output_type": "stream",
     "text": [
      "Accuracy of logistic regression classifier on val set: 0.886\n"
     ]
    },
    {
     "name": "stderr",
     "output_type": "stream",
     "text": [
      "/Users/tawneykirkland/opt/anaconda3/lib/python3.8/site-packages/sklearn/linear_model/_logistic.py:762: ConvergenceWarning: lbfgs failed to converge (status=1):\n",
      "STOP: TOTAL NO. of ITERATIONS REACHED LIMIT.\n",
      "\n",
      "Increase the number of iterations (max_iter) or scale the data as shown in:\n",
      "    https://scikit-learn.org/stable/modules/preprocessing.html\n",
      "Please also refer to the documentation for alternative solver options:\n",
      "    https://scikit-learn.org/stable/modules/linear_model.html#logistic-regression\n",
      "  n_iter_i = _check_optimize_result(\n"
     ]
    }
   ],
   "source": [
    "lm_4 = LogisticRegression()\n",
    "lm_4.fit(x_train_4[features4], x_train_4['bank_acc'])\n",
    "\n",
    "preds4 = lm_4.predict(df_val_4[features4])\n",
    "print('Accuracy of logistic regression classifier on val set: {:.3f}'.format(\n",
    "    lm_4.score(df_val_4[features4],df_val_4['bank_acc'])))"
   ]
  },
  {
   "cell_type": "code",
   "execution_count": 115,
   "metadata": {
    "scrolled": true
   },
   "outputs": [
    {
     "data": {
      "text/plain": [
       "array([[2960,   77],\n",
       "       [ 325,  167]])"
      ]
     },
     "execution_count": 115,
     "metadata": {},
     "output_type": "execute_result"
    }
   ],
   "source": [
    "confusion_matrix(df_val_4['bank_acc'], \n",
    "                 preds4)"
   ]
  },
  {
   "cell_type": "code",
   "execution_count": 116,
   "metadata": {
    "scrolled": true
   },
   "outputs": [
    {
     "name": "stdout",
     "output_type": "stream",
     "text": [
      "              precision    recall  f1-score   support\n",
      "\n",
      "           0       0.90      0.97      0.94      3037\n",
      "           1       0.68      0.34      0.45       492\n",
      "\n",
      "    accuracy                           0.89      3529\n",
      "   macro avg       0.79      0.66      0.70      3529\n",
      "weighted avg       0.87      0.89      0.87      3529\n",
      "\n"
     ]
    }
   ],
   "source": [
    "print(classification_report(df_val_4['bank_acc'], preds4))"
   ]
  },
  {
   "cell_type": "code",
   "execution_count": 117,
   "metadata": {},
   "outputs": [],
   "source": [
    "df_val_4['proba_bank'] = lm_4.predict_proba(df_val_4[features4])[:, 1]\n",
    "\n",
    "fpr4, tpr4, thresholds4 = roc_curve(df_val_4['bank_acc'],\n",
    "                                 df_val_4['proba_bank'])"
   ]
  },
  {
   "cell_type": "code",
   "execution_count": 118,
   "metadata": {},
   "outputs": [
    {
     "name": "stdout",
     "output_type": "stream",
     "text": [
      "AUC: 0.840\n"
     ]
    }
   ],
   "source": [
    "auc4 = roc_auc_score(df_val_4['bank_acc'], df_val_4['proba_bank'])\n",
    "print('AUC: %.3f' % auc4)"
   ]
  },
  {
   "cell_type": "code",
   "execution_count": 119,
   "metadata": {},
   "outputs": [
    {
     "data": {
      "image/png": "[encoded data removed]",
      "text/plain": [
       "<Figure size 432x288 with 1 Axes>"
      ]
     },
     "metadata": {
      "needs_background": "light"
     },
     "output_type": "display_data"
    }
   ],
   "source": [
    "plot_roc(df_val_4['bank_acc'], df_val_4['proba_bank'],fpr4,tpr4)"
   ]
  },
  {
   "cell_type": "markdown",
   "metadata": {},
   "source": [
    "## Removing self employed\n",
    "\n",
    "Based on logit summary above"
   ]
  },
  {
   "cell_type": "code",
   "execution_count": 120,
   "metadata": {},
   "outputs": [],
   "source": [
    "x_train_9 = df_train.drop(columns = ['year',\n",
    "                                     'relationship_with_head_Other relative',\n",
    "                                     'job_type_Self employed'])\n",
    "\n",
    "df_val_9 = df_val.drop(columns = ['year', \n",
    "                                  'relationship_with_head_Other relative',\n",
    "                                  'job_type_Self employed'])\n",
    "\n",
    "features9 = ['age_of_respondent','household_size', 'is_urban', 'cellphone',\n",
    "       'is_male', 'county_Rwanda', 'county_Tanzania', 'county_Uganda',\n",
    "       'relationship_with_head_Head of Household',\n",
    "       'relationship_with_head_Parent', 'relationship_with_head_Spouse',\n",
    "       'marital_status_Married/Living together',\n",
    "       'marital_status_Single/Never Married', 'marital_status_Widowed',\n",
    "       'education_level_Primary education',\n",
    "       'education_level_Secondary education',\n",
    "       'education_level_Tertiary education',\n",
    "       'education_level_Vocational/Specialised training',\n",
    "       'job_type_Formally employed Government',\n",
    "       'job_type_Formally employed Private', 'job_type_Government Dependent',\n",
    "       'job_type_Informally employed', 'job_type_No Income',\n",
    "       'job_type_Remittance Dependent','job_type_Other Income']"
   ]
  },
  {
   "cell_type": "code",
   "execution_count": 121,
   "metadata": {},
   "outputs": [
    {
     "name": "stdout",
     "output_type": "stream",
     "text": [
      "Optimization terminated successfully.\n",
      "         Current function value: 0.312819\n",
      "         Iterations 7\n",
      "                                         Results: Logit\n",
      "================================================================================================\n",
      "Model:                          Logit                      Pseudo R-squared:           0.230    \n",
      "Dependent Variable:             bank_acc                   AIC:                        8880.2599\n",
      "Date:                           2021-02-03 09:24           BIC:                        9069.1330\n",
      "No. Observations:               14114                      Log-Likelihood:             -4415.1  \n",
      "Df Model:                       24                         LL-Null:                    -5733.9  \n",
      "Df Residuals:                   14089                      LLR p-value:                0.0000   \n",
      "Converged:                      1.0000                     Scale:                      1.0000   \n",
      "No. Iterations:                 7.0000                                                          \n",
      "------------------------------------------------------------------------------------------------\n",
      "                                                 Coef.  Std.Err.    z     P>|z|   [0.025  0.975]\n",
      "------------------------------------------------------------------------------------------------\n",
      "age_of_respondent                               -0.0128   0.0021  -6.1383 0.0000 -0.0169 -0.0087\n",
      "household_size                                  -0.1315   0.0144  -9.1158 0.0000 -0.1598 -0.1032\n",
      "is_urban                                         0.2109   0.0618   3.4140 0.0006  0.0898  0.3319\n",
      "cellphone                                        0.5842   0.0833   7.0170 0.0000  0.4210  0.7474\n",
      "is_male                                          0.3592   0.0718   5.0029 0.0000  0.2185  0.4999\n",
      "county_Rwanda                                   -0.7183   0.0671 -10.7037 0.0000 -0.8499 -0.5868\n",
      "county_Tanzania                                 -1.6686   0.0931 -17.9217 0.0000 -1.8511 -1.4861\n",
      "county_Uganda                                   -1.4332   0.1224 -11.7102 0.0000 -1.6730 -1.1933\n",
      "relationship_with_head_Head of Household        -0.0968   0.0987  -0.9810 0.3266 -0.2903  0.0966\n",
      "relationship_with_head_Parent                   -0.9977   0.1870  -5.3351 0.0000 -1.3642 -0.6311\n",
      "relationship_with_head_Spouse                   -0.3857   0.1204  -3.2036 0.0014 -0.6217 -0.1497\n",
      "marital_status_Married/Living together          -0.5815   0.1077  -5.4011 0.0000 -0.7925 -0.3705\n",
      "marital_status_Single/Never Married             -1.1625   0.0936 -12.4197 0.0000 -1.3460 -0.9791\n",
      "marital_status_Widowed                          -0.7680   0.1362  -5.6396 0.0000 -1.0349 -0.5011\n",
      "education_level_Primary education               -0.2267   0.0816  -2.7785 0.0055 -0.3867 -0.0668\n",
      "education_level_Secondary education              0.6207   0.0918   6.7607 0.0000  0.4407  0.8006\n",
      "education_level_Tertiary education               2.1982   0.1268  17.3348 0.0000  1.9497  2.4468\n",
      "education_level_Vocational/Specialised training  1.7255   0.1343  12.8486 0.0000  1.4623  1.9887\n",
      "job_type_Formally employed Government            1.2618   0.1791   7.0453 0.0000  0.9108  1.6128\n",
      "job_type_Formally employed Private               1.2272   0.1041  11.7940 0.0000  1.0233  1.4312\n",
      "job_type_Government Dependent                    0.9470   0.2252   4.2048 0.0000  0.5056  1.3885\n",
      "job_type_Informally employed                    -1.0002   0.0778 -12.8503 0.0000 -1.1527 -0.8476\n",
      "job_type_No Income                              -0.9269   0.2597  -3.5695 0.0004 -1.4358 -0.4179\n",
      "job_type_Remittance Dependent                   -1.0571   0.1069  -9.8906 0.0000 -1.2665 -0.8476\n",
      "job_type_Other Income                            0.1791   0.1302   1.3755 0.1690 -0.0761  0.4344\n",
      "================================================================================================\n",
      "\n"
     ]
    }
   ],
   "source": [
    "logit_model9=sm.Logit(x_train_9['bank_acc'],x_train_9[features9])\n",
    "result9=logit_model9.fit()\n",
    "print(result9.summary2())"
   ]
  },
  {
   "cell_type": "code",
   "execution_count": 122,
   "metadata": {},
   "outputs": [
    {
     "name": "stdout",
     "output_type": "stream",
     "text": [
      "Accuracy of logistic regression classifier on val set: 0.885\n"
     ]
    },
    {
     "name": "stderr",
     "output_type": "stream",
     "text": [
      "/Users/tawneykirkland/opt/anaconda3/lib/python3.8/site-packages/sklearn/linear_model/_logistic.py:762: ConvergenceWarning: lbfgs failed to converge (status=1):\n",
      "STOP: TOTAL NO. of ITERATIONS REACHED LIMIT.\n",
      "\n",
      "Increase the number of iterations (max_iter) or scale the data as shown in:\n",
      "    https://scikit-learn.org/stable/modules/preprocessing.html\n",
      "Please also refer to the documentation for alternative solver options:\n",
      "    https://scikit-learn.org/stable/modules/linear_model.html#logistic-regression\n",
      "  n_iter_i = _check_optimize_result(\n"
     ]
    }
   ],
   "source": [
    "lm_9 = LogisticRegression()\n",
    "lm_9.fit(x_train_9[features9], x_train_9['bank_acc'])\n",
    "\n",
    "preds9 = lm_9.predict(df_val_9[features9])\n",
    "print('Accuracy of logistic regression classifier on val set: {:.3f}'.format(\n",
    "    lm_9.score(df_val_9[features9], df_val_9['bank_acc'])))"
   ]
  },
  {
   "cell_type": "code",
   "execution_count": 123,
   "metadata": {
    "scrolled": true
   },
   "outputs": [
    {
     "data": {
      "text/plain": [
       "array([[2964,   73],\n",
       "       [ 332,  160]])"
      ]
     },
     "execution_count": 123,
     "metadata": {},
     "output_type": "execute_result"
    }
   ],
   "source": [
    "confusion_matrix(df_val_9['bank_acc'], \n",
    "                 preds9)"
   ]
  },
  {
   "cell_type": "markdown",
   "metadata": {},
   "source": [
    "No change in recall for non-account but minor improvement in recall for account"
   ]
  },
  {
   "cell_type": "code",
   "execution_count": 124,
   "metadata": {
    "scrolled": true
   },
   "outputs": [
    {
     "name": "stdout",
     "output_type": "stream",
     "text": [
      "              precision    recall  f1-score   support\n",
      "\n",
      "           0       0.90      0.98      0.94      3037\n",
      "           1       0.69      0.33      0.44       492\n",
      "\n",
      "    accuracy                           0.89      3529\n",
      "   macro avg       0.79      0.65      0.69      3529\n",
      "weighted avg       0.87      0.89      0.87      3529\n",
      "\n"
     ]
    }
   ],
   "source": [
    "print(classification_report(df_val_9['bank_acc'], preds9))"
   ]
  },
  {
   "cell_type": "markdown",
   "metadata": {},
   "source": [
    "## Adding female head hh interaction"
   ]
  },
  {
   "cell_type": "code",
   "execution_count": 125,
   "metadata": {},
   "outputs": [],
   "source": [
    "x_train_10 = x_train_9.copy()\n",
    "df_val_10 = df_val_9.copy()\n",
    "\n",
    "x_train_10['female_hh'] = np.where((x_train_10['is_male'] == 0) &\n",
    "                                   (x_train_10['relationship_with_head_Head of Household']==1), 1,0)\n",
    "\n",
    "df_val_10['female_hh'] = np.where((df_val_10['is_male'] == 0) &\n",
    "                                  (df_val_10['relationship_with_head_Head of Household']==1), 1,0)\n",
    "\n",
    "features10 = ['age_of_respondent','household_size', 'is_urban', 'cellphone',\n",
    "       'is_male', 'county_Rwanda', 'county_Tanzania', 'county_Uganda',\n",
    "       'relationship_with_head_Head of Household',\n",
    "       'relationship_with_head_Parent', 'relationship_with_head_Spouse',\n",
    "       'marital_status_Married/Living together',\n",
    "       'marital_status_Single/Never Married', 'marital_status_Widowed',\n",
    "       'education_level_Primary education',\n",
    "       'education_level_Secondary education',\n",
    "       'education_level_Tertiary education',\n",
    "       'education_level_Vocational/Specialised training',\n",
    "       'job_type_Formally employed Government',\n",
    "       'job_type_Formally employed Private', 'job_type_Government Dependent',\n",
    "       'job_type_Informally employed', 'job_type_No Income',\n",
    "       'job_type_Remittance Dependent','job_type_Other Income','female_hh']"
   ]
  },
  {
   "cell_type": "code",
   "execution_count": 126,
   "metadata": {},
   "outputs": [
    {
     "name": "stdout",
     "output_type": "stream",
     "text": [
      "Optimization terminated successfully.\n",
      "         Current function value: 0.308925\n",
      "         Iterations 7\n",
      "                                         Results: Logit\n",
      "================================================================================================\n",
      "Model:                          Logit                      Pseudo R-squared:           0.240    \n",
      "Dependent Variable:             bank_acc                   AIC:                        8772.3399\n",
      "Date:                           2021-02-03 09:24           BIC:                        8968.7679\n",
      "No. Observations:               14114                      Log-Likelihood:             -4360.2  \n",
      "Df Model:                       25                         LL-Null:                    -5733.9  \n",
      "Df Residuals:                   14088                      LLR p-value:                0.0000   \n",
      "Converged:                      1.0000                     Scale:                      1.0000   \n",
      "No. Iterations:                 7.0000                                                          \n",
      "------------------------------------------------------------------------------------------------\n",
      "                                                 Coef.  Std.Err.    z     P>|z|   [0.025  0.975]\n",
      "------------------------------------------------------------------------------------------------\n",
      "age_of_respondent                               -0.0108   0.0021  -5.1404 0.0000 -0.0150 -0.0067\n",
      "household_size                                  -0.1163   0.0146  -7.9758 0.0000 -0.1449 -0.0877\n",
      "is_urban                                         0.2251   0.0621   3.6236 0.0003  0.1034  0.3469\n",
      "cellphone                                        0.6968   0.0866   8.0458 0.0000  0.5271  0.8666\n",
      "is_male                                         -0.7242   0.1333  -5.4347 0.0000 -0.9854 -0.4630\n",
      "county_Rwanda                                   -0.7188   0.0677 -10.6097 0.0000 -0.8516 -0.5860\n",
      "county_Tanzania                                 -1.6628   0.0945 -17.5904 0.0000 -1.8481 -1.4775\n",
      "county_Uganda                                   -1.4161   0.1234 -11.4755 0.0000 -1.6579 -1.1742\n",
      "relationship_with_head_Head of Household         0.8364   0.1412   5.9225 0.0000  0.5596  1.1132\n",
      "relationship_with_head_Parent                   -0.8968   0.1878  -4.7763 0.0000 -1.2647 -0.5288\n",
      "relationship_with_head_Spouse                   -0.6165   0.1219  -5.0583 0.0000 -0.8554 -0.3776\n",
      "marital_status_Married/Living together          -0.6842   0.1115  -6.1376 0.0000 -0.9027 -0.4657\n",
      "marital_status_Single/Never Married             -1.1113   0.0951 -11.6796 0.0000 -1.2978 -0.9248\n",
      "marital_status_Widowed                          -0.5119   0.1408  -3.6361 0.0003 -0.7878 -0.2360\n",
      "education_level_Primary education               -0.1590   0.0835  -1.9034 0.0570 -0.3226  0.0047\n",
      "education_level_Secondary education              0.7222   0.0934   7.7283 0.0000  0.5390  0.9053\n",
      "education_level_Tertiary education               2.2671   0.1280  17.7174 0.0000  2.0163  2.5178\n",
      "education_level_Vocational/Specialised training  1.8049   0.1353  13.3372 0.0000  1.5396  2.0701\n",
      "job_type_Formally employed Government            1.2604   0.1787   7.0520 0.0000  0.9101  1.6107\n",
      "job_type_Formally employed Private               1.2566   0.1044  12.0399 0.0000  1.0520  1.4612\n",
      "job_type_Government Dependent                    0.9868   0.2275   4.3383 0.0000  0.5410  1.4327\n",
      "job_type_Informally employed                    -0.9495   0.0783 -12.1237 0.0000 -1.1030 -0.7960\n",
      "job_type_No Income                              -0.8716   0.2602  -3.3501 0.0008 -1.3815 -0.3617\n",
      "job_type_Remittance Dependent                   -0.9790   0.1077  -9.0877 0.0000 -1.1902 -0.7679\n",
      "job_type_Other Income                            0.2269   0.1316   1.7246 0.0846 -0.0310  0.4847\n",
      "female_hh                                       -1.5872   0.1572 -10.0974 0.0000 -1.8953 -1.2791\n",
      "================================================================================================\n",
      "\n"
     ]
    }
   ],
   "source": [
    "logit_model10=sm.Logit(x_train_10['bank_acc'],x_train_10[features10])\n",
    "result10=logit_model10.fit()\n",
    "print(result10.summary2())"
   ]
  },
  {
   "cell_type": "code",
   "execution_count": 127,
   "metadata": {},
   "outputs": [
    {
     "name": "stdout",
     "output_type": "stream",
     "text": [
      "Accuracy of logistic regression classifier on val set: 0.883\n"
     ]
    },
    {
     "name": "stderr",
     "output_type": "stream",
     "text": [
      "/Users/tawneykirkland/opt/anaconda3/lib/python3.8/site-packages/sklearn/linear_model/_logistic.py:762: ConvergenceWarning: lbfgs failed to converge (status=1):\n",
      "STOP: TOTAL NO. of ITERATIONS REACHED LIMIT.\n",
      "\n",
      "Increase the number of iterations (max_iter) or scale the data as shown in:\n",
      "    https://scikit-learn.org/stable/modules/preprocessing.html\n",
      "Please also refer to the documentation for alternative solver options:\n",
      "    https://scikit-learn.org/stable/modules/linear_model.html#logistic-regression\n",
      "  n_iter_i = _check_optimize_result(\n"
     ]
    }
   ],
   "source": [
    "lm_10 = LogisticRegression()\n",
    "lm_10.fit(x_train_10[features10], x_train_10['bank_acc'])\n",
    "\n",
    "preds10 = lm_10.predict(df_val_10[features10])\n",
    "print('Accuracy of logistic regression classifier on val set: {:.3f}'.format(\n",
    "    lm_10.score(df_val_10[features10], df_val_10['bank_acc'])))"
   ]
  },
  {
   "cell_type": "code",
   "execution_count": 128,
   "metadata": {},
   "outputs": [
    {
     "data": {
      "text/plain": [
       "array([[2955,   82],\n",
       "       [ 330,  162]])"
      ]
     },
     "execution_count": 128,
     "metadata": {},
     "output_type": "execute_result"
    }
   ],
   "source": [
    "confusion_matrix(df_val_10['bank_acc'], \n",
    "                 preds10)"
   ]
  },
  {
   "cell_type": "code",
   "execution_count": 129,
   "metadata": {
    "scrolled": false
   },
   "outputs": [
    {
     "name": "stdout",
     "output_type": "stream",
     "text": [
      "              precision    recall  f1-score   support\n",
      "\n",
      "           0       0.90      0.97      0.93      3037\n",
      "           1       0.66      0.33      0.44       492\n",
      "\n",
      "    accuracy                           0.88      3529\n",
      "   macro avg       0.78      0.65      0.69      3529\n",
      "weighted avg       0.87      0.88      0.87      3529\n",
      "\n"
     ]
    }
   ],
   "source": [
    "print(classification_report(df_val_10['bank_acc'], preds10))"
   ]
  },
  {
   "cell_type": "code",
   "execution_count": 130,
   "metadata": {},
   "outputs": [],
   "source": [
    "df_val_10['proba_bank'] = lm_10.predict_proba(df_val_10[features10])[:, 1]\n",
    "\n",
    "fpr10, tpr10, thresholds10 = roc_curve(df_val_10['bank_acc'],\n",
    "                                 df_val_10['proba_bank'])"
   ]
  },
  {
   "cell_type": "code",
   "execution_count": 131,
   "metadata": {
    "scrolled": true
   },
   "outputs": [
    {
     "data": {
      "image/png": "[encoded data removed]",
      "text/plain": [
       "<Figure size 432x288 with 1 Axes>"
      ]
     },
     "metadata": {
      "needs_background": "light"
     },
     "output_type": "display_data"
    }
   ],
   "source": [
    "plot_roc(df_val_10['bank_acc'], df_val_10['proba_bank'],fpr10,tpr10)"
   ]
  },
  {
   "cell_type": "code",
   "execution_count": 132,
   "metadata": {
    "scrolled": true
   },
   "outputs": [
    {
     "data": {
      "text/plain": [
       "array([[ 0.00854269, -0.01390535,  0.32747246,  1.43813864, -0.14838379,\n",
       "        -0.55143579, -1.07152305, -1.27780293,  1.09692421, -0.59503095,\n",
       "         0.10246542, -0.23830446, -0.51165229, -0.26087345,  0.48380279,\n",
       "         1.53097205,  3.02377779,  2.44467886,  1.64060689,  1.35128478,\n",
       "         0.74076205, -0.66016009, -0.67933169, -0.55889144,  0.56302474,\n",
       "        -0.81623467]])"
      ]
     },
     "execution_count": 132,
     "metadata": {},
     "output_type": "execute_result"
    }
   ],
   "source": [
    "lm_10.coef_"
   ]
  },
  {
   "cell_type": "markdown",
   "metadata": {},
   "source": [
    "## To do: Try oversampling with model 10"
   ]
  },
  {
   "cell_type": "markdown",
   "metadata": {},
   "source": [
    "## Adding rural and primary education interaction"
   ]
  },
  {
   "cell_type": "code",
   "execution_count": 133,
   "metadata": {},
   "outputs": [],
   "source": [
    "x_train_11 = x_train_10.copy()\n",
    "df_val_11 = df_val_10.copy()\n",
    "\n",
    "x_train_11['rural_primary'] = np.where((x_train_11['is_urban'] == 0) & \n",
    "                                   (x_train_11['education_level_Primary education']==1), 1,0)\n",
    "\n",
    "df_val_11['rural_primary'] = np.where((df_val_11['is_urban'] == 0) &\n",
    "                                      (df_val_11['education_level_Primary education']==1), 1,0)\n",
    "\n",
    "features11 = ['age_of_respondent','household_size', 'is_urban', 'cellphone',\n",
    "       'is_male', 'county_Rwanda', 'county_Tanzania', 'county_Uganda',\n",
    "       'relationship_with_head_Head of Household',\n",
    "       'relationship_with_head_Parent', 'relationship_with_head_Spouse',\n",
    "       'marital_status_Married/Living together',\n",
    "       'marital_status_Single/Never Married', 'marital_status_Widowed',\n",
    "       'education_level_Primary education',\n",
    "       'education_level_Secondary education',\n",
    "       'education_level_Tertiary education',\n",
    "       'education_level_Vocational/Specialised training',\n",
    "       'job_type_Formally employed Government',\n",
    "       'job_type_Formally employed Private', 'job_type_Government Dependent',\n",
    "       'job_type_Informally employed', 'job_type_No Income',\n",
    "       'job_type_Remittance Dependent','job_type_Other Income','female_hh','rural_primary']"
   ]
  },
  {
   "cell_type": "code",
   "execution_count": 134,
   "metadata": {},
   "outputs": [
    {
     "name": "stdout",
     "output_type": "stream",
     "text": [
      "Optimization terminated successfully.\n",
      "         Current function value: 0.308923\n",
      "         Iterations 7\n",
      "                                         Results: Logit\n",
      "================================================================================================\n",
      "Model:                          Logit                      Pseudo R-squared:           0.240    \n",
      "Dependent Variable:             bank_acc                   AIC:                        8774.2788\n",
      "Date:                           2021-02-03 09:24           BIC:                        8978.2617\n",
      "No. Observations:               14114                      Log-Likelihood:             -4360.1  \n",
      "Df Model:                       26                         LL-Null:                    -5733.9  \n",
      "Df Residuals:                   14087                      LLR p-value:                0.0000   \n",
      "Converged:                      1.0000                     Scale:                      1.0000   \n",
      "No. Iterations:                 7.0000                                                          \n",
      "------------------------------------------------------------------------------------------------\n",
      "                                                 Coef.  Std.Err.    z     P>|z|   [0.025  0.975]\n",
      "------------------------------------------------------------------------------------------------\n",
      "age_of_respondent                               -0.0108   0.0021  -5.1419 0.0000 -0.0150 -0.0067\n",
      "household_size                                  -0.1163   0.0146  -7.9755 0.0000 -0.1449 -0.0877\n",
      "is_urban                                         0.2365   0.0772   3.0640 0.0022  0.0852  0.3877\n",
      "cellphone                                        0.6968   0.0866   8.0460 0.0000  0.5270  0.8665\n",
      "is_male                                         -0.7248   0.1333  -5.4387 0.0000 -0.9860 -0.4636\n",
      "county_Rwanda                                   -0.7202   0.0680 -10.5935 0.0000 -0.8535 -0.5870\n",
      "county_Tanzania                                 -1.6596   0.0954 -17.4044 0.0000 -1.8465 -1.4727\n",
      "county_Uganda                                   -1.4170   0.1235 -11.4779 0.0000 -1.6589 -1.1750\n",
      "relationship_with_head_Head of Household         0.8359   0.1412   5.9194 0.0000  0.5591  1.1127\n",
      "relationship_with_head_Parent                   -0.8980   0.1878  -4.7807 0.0000 -1.2662 -0.5298\n",
      "relationship_with_head_Spouse                   -0.6177   0.1220  -5.0645 0.0000 -0.8568 -0.3787\n",
      "marital_status_Married/Living together          -0.6846   0.1115  -6.1409 0.0000 -0.9031 -0.4661\n",
      "marital_status_Single/Never Married             -1.1112   0.0951 -11.6795 0.0000 -1.2977 -0.9247\n",
      "marital_status_Widowed                          -0.5121   0.1408  -3.6379 0.0003 -0.7880 -0.2362\n",
      "education_level_Primary education               -0.1810   0.1221  -1.4826 0.1382 -0.4202  0.0583\n",
      "education_level_Secondary education              0.7188   0.0944   7.6136 0.0000  0.5338  0.9039\n",
      "education_level_Tertiary education               2.2605   0.1306  17.3051 0.0000  2.0045  2.5165\n",
      "education_level_Vocational/Specialised training  1.8002   0.1367  13.1725 0.0000  1.5323  2.0680\n",
      "job_type_Formally employed Government            1.2609   0.1788   7.0537 0.0000  0.9106  1.6113\n",
      "job_type_Formally employed Private               1.2558   0.1044  12.0265 0.0000  1.0511  1.4605\n",
      "job_type_Government Dependent                    0.9860   0.2275   4.3337 0.0000  0.5401  1.4320\n",
      "job_type_Informally employed                    -0.9499   0.0783 -12.1258 0.0000 -1.1035 -0.7964\n",
      "job_type_No Income                              -0.8727   0.2602  -3.3539 0.0008 -1.3826 -0.3627\n",
      "job_type_Remittance Dependent                   -0.9803   0.1079  -9.0873 0.0000 -1.1918 -0.7689\n",
      "job_type_Other Income                            0.2265   0.1316   1.7215 0.0852 -0.0314  0.4844\n",
      "female_hh                                       -1.5880   0.1572 -10.1005 0.0000 -1.8961 -1.2798\n",
      "rural_primary                                    0.0300   0.1213   0.2473 0.8047 -0.2078  0.2678\n",
      "================================================================================================\n",
      "\n"
     ]
    }
   ],
   "source": [
    "logit_model11=sm.Logit(x_train_11['bank_acc'],x_train_11[features11])\n",
    "result11=logit_model11.fit()\n",
    "print(result11.summary2())"
   ]
  },
  {
   "cell_type": "code",
   "execution_count": 137,
   "metadata": {},
   "outputs": [
    {
     "name": "stdout",
     "output_type": "stream",
     "text": [
      "Accuracy of logistic regression classifier on val set: 0.884\n"
     ]
    },
    {
     "name": "stderr",
     "output_type": "stream",
     "text": [
      "/Users/tawneykirkland/opt/anaconda3/lib/python3.8/site-packages/sklearn/linear_model/_logistic.py:762: ConvergenceWarning: lbfgs failed to converge (status=1):\n",
      "STOP: TOTAL NO. of ITERATIONS REACHED LIMIT.\n",
      "\n",
      "Increase the number of iterations (max_iter) or scale the data as shown in:\n",
      "    https://scikit-learn.org/stable/modules/preprocessing.html\n",
      "Please also refer to the documentation for alternative solver options:\n",
      "    https://scikit-learn.org/stable/modules/linear_model.html#logistic-regression\n",
      "  n_iter_i = _check_optimize_result(\n"
     ]
    }
   ],
   "source": [
    "lm_11 = LogisticRegression()\n",
    "lm_11.fit(x_train_11[features11], x_train_11['bank_acc'])\n",
    "\n",
    "preds11 = lm_11.predict(df_val_11[features11])\n",
    "print('Accuracy of logistic regression classifier on val set: {:.3f}'.format(\n",
    "    lm_11.score(df_val_11[features11], df_val_11['bank_acc'])))"
   ]
  },
  {
   "cell_type": "code",
   "execution_count": 138,
   "metadata": {},
   "outputs": [
    {
     "data": {
      "text/plain": [
       "array([[2964,   73],\n",
       "       [ 337,  155]])"
      ]
     },
     "execution_count": 138,
     "metadata": {},
     "output_type": "execute_result"
    }
   ],
   "source": [
    "confusion_matrix(df_val_11['bank_acc'], \n",
    "                 preds11)"
   ]
  },
  {
   "cell_type": "code",
   "execution_count": 139,
   "metadata": {
    "scrolled": false
   },
   "outputs": [
    {
     "name": "stdout",
     "output_type": "stream",
     "text": [
      "              precision    recall  f1-score   support\n",
      "\n",
      "           0       0.90      0.98      0.94      3037\n",
      "           1       0.68      0.32      0.43       492\n",
      "\n",
      "    accuracy                           0.88      3529\n",
      "   macro avg       0.79      0.65      0.68      3529\n",
      "weighted avg       0.87      0.88      0.86      3529\n",
      "\n"
     ]
    }
   ],
   "source": [
    "print(classification_report(df_val_11['bank_acc'], preds11))"
   ]
  },
  {
   "cell_type": "code",
   "execution_count": 140,
   "metadata": {},
   "outputs": [],
   "source": [
    "df_val_11['proba_bank'] = lm_11.predict_proba(df_val_11[features11])[:, 1]\n",
    "\n",
    "fpr11, tpr11, thresholds11 = roc_curve(df_val_11['bank_acc'],\n",
    "                                 df_val_11['proba_bank'])"
   ]
  },
  {
   "cell_type": "code",
   "execution_count": 141,
   "metadata": {
    "scrolled": true
   },
   "outputs": [
    {
     "data": {
      "image/png": "[encoded data removed]",
      "text/plain": [
       "<Figure size 432x288 with 1 Axes>"
      ]
     },
     "metadata": {
      "needs_background": "light"
     },
     "output_type": "display_data"
    }
   ],
   "source": [
    "plot_roc(df_val_11['bank_acc'], df_val_11['proba_bank'],fpr11,tpr11)"
   ]
  },
  {
   "cell_type": "markdown",
   "metadata": {},
   "source": [
    "## Removing Other income"
   ]
  },
  {
   "cell_type": "code",
   "execution_count": 142,
   "metadata": {},
   "outputs": [],
   "source": [
    "x_train_12 = x_train_10.copy()\n",
    "df_val_12 = df_val_10.copy()\n",
    "\n",
    "x_train_12 = x_train_12.drop(columns='job_type_Other Income')\n",
    "\n",
    "df_val_12 = df_val_12.drop(columns='job_type_Other Income')\n",
    "\n",
    "features12 = ['age_of_respondent','household_size', 'is_urban', 'cellphone',\n",
    "       'is_male', 'county_Rwanda', 'county_Tanzania', 'county_Uganda',\n",
    "       'relationship_with_head_Head of Household',\n",
    "       'relationship_with_head_Parent', 'relationship_with_head_Spouse',\n",
    "       'marital_status_Married/Living together',\n",
    "       'marital_status_Single/Never Married', 'marital_status_Widowed',\n",
    "       'education_level_Primary education',\n",
    "       'education_level_Secondary education',\n",
    "       'education_level_Tertiary education',\n",
    "       'education_level_Vocational/Specialised training',\n",
    "       'job_type_Formally employed Government',\n",
    "       'job_type_Formally employed Private', 'job_type_Government Dependent',\n",
    "       'job_type_Informally employed', 'job_type_No Income',\n",
    "       'job_type_Remittance Dependent','female_hh']"
   ]
  },
  {
   "cell_type": "code",
   "execution_count": 143,
   "metadata": {},
   "outputs": [
    {
     "name": "stdout",
     "output_type": "stream",
     "text": [
      "Optimization terminated successfully.\n",
      "         Current function value: 0.309028\n",
      "         Iterations 7\n",
      "                                         Results: Logit\n",
      "================================================================================================\n",
      "Model:                          Logit                      Pseudo R-squared:           0.239    \n",
      "Dependent Variable:             bank_acc                   AIC:                        8773.2494\n",
      "Date:                           2021-02-03 09:27           BIC:                        8962.1225\n",
      "No. Observations:               14114                      Log-Likelihood:             -4361.6  \n",
      "Df Model:                       24                         LL-Null:                    -5733.9  \n",
      "Df Residuals:                   14089                      LLR p-value:                0.0000   \n",
      "Converged:                      1.0000                     Scale:                      1.0000   \n",
      "No. Iterations:                 7.0000                                                          \n",
      "------------------------------------------------------------------------------------------------\n",
      "                                                 Coef.  Std.Err.    z     P>|z|   [0.025  0.975]\n",
      "------------------------------------------------------------------------------------------------\n",
      "age_of_respondent                               -0.0107   0.0021  -5.0815 0.0000 -0.0148 -0.0066\n",
      "household_size                                  -0.1162   0.0146  -7.9685 0.0000 -0.1447 -0.0876\n",
      "is_urban                                         0.2353   0.0619   3.8016 0.0001  0.1140  0.3565\n",
      "cellphone                                        0.6955   0.0866   8.0276 0.0000  0.5257  0.8653\n",
      "is_male                                         -0.7173   0.1332  -5.3870 0.0000 -0.9783 -0.4563\n",
      "county_Rwanda                                   -0.7102   0.0676 -10.5129 0.0000 -0.8426 -0.5778\n",
      "county_Tanzania                                 -1.6713   0.0944 -17.7073 0.0000 -1.8563 -1.4863\n",
      "county_Uganda                                   -1.3557   0.1180 -11.4859 0.0000 -1.5870 -1.1244\n",
      "relationship_with_head_Head of Household         0.8274   0.1411   5.8655 0.0000  0.5509  1.1039\n",
      "relationship_with_head_Parent                   -0.8975   0.1878  -4.7789 0.0000 -1.2656 -0.5294\n",
      "relationship_with_head_Spouse                   -0.6189   0.1219  -5.0789 0.0000 -0.8577 -0.3801\n",
      "marital_status_Married/Living together          -0.6841   0.1115  -6.1347 0.0000 -0.9026 -0.4655\n",
      "marital_status_Single/Never Married             -1.1062   0.0951 -11.6327 0.0000 -1.2926 -0.9198\n",
      "marital_status_Widowed                          -0.5119   0.1408  -3.6362 0.0003 -0.7878 -0.2360\n",
      "education_level_Primary education               -0.1568   0.0835  -1.8779 0.0604 -0.3205  0.0069\n",
      "education_level_Secondary education              0.7288   0.0934   7.8046 0.0000  0.5458  0.9118\n",
      "education_level_Tertiary education               2.2802   0.1277  17.8606 0.0000  2.0300  2.5304\n",
      "education_level_Vocational/Specialised training  1.8127   0.1352  13.4032 0.0000  1.5476  2.0778\n",
      "job_type_Formally employed Government            1.2400   0.1783   6.9528 0.0000  0.8904  1.5895\n",
      "job_type_Formally employed Private               1.2346   0.1035  11.9248 0.0000  1.0317  1.4376\n",
      "job_type_Government Dependent                    0.9696   0.2273   4.2656 0.0000  0.5241  1.4151\n",
      "job_type_Informally employed                    -0.9644   0.0778 -12.3901 0.0000 -1.1169 -0.8118\n",
      "job_type_No Income                              -0.9057   0.2592  -3.4938 0.0005 -1.4137 -0.3976\n",
      "job_type_Remittance Dependent                   -0.9975   0.1073  -9.3004 0.0000 -1.2077 -0.7873\n",
      "female_hh                                       -1.5787   0.1571 -10.0503 0.0000 -1.8866 -1.2708\n",
      "================================================================================================\n",
      "\n"
     ]
    }
   ],
   "source": [
    "logit_model12=sm.Logit(x_train_12['bank_acc'],x_train_12[features12])\n",
    "result12=logit_model12.fit()\n",
    "print(result12.summary2())"
   ]
  },
  {
   "cell_type": "code",
   "execution_count": 144,
   "metadata": {},
   "outputs": [
    {
     "name": "stdout",
     "output_type": "stream",
     "text": [
      "Accuracy of logistic regression classifier on val set: 0.884\n"
     ]
    },
    {
     "name": "stderr",
     "output_type": "stream",
     "text": [
      "/Users/tawneykirkland/opt/anaconda3/lib/python3.8/site-packages/sklearn/linear_model/_logistic.py:762: ConvergenceWarning: lbfgs failed to converge (status=1):\n",
      "STOP: TOTAL NO. of ITERATIONS REACHED LIMIT.\n",
      "\n",
      "Increase the number of iterations (max_iter) or scale the data as shown in:\n",
      "    https://scikit-learn.org/stable/modules/preprocessing.html\n",
      "Please also refer to the documentation for alternative solver options:\n",
      "    https://scikit-learn.org/stable/modules/linear_model.html#logistic-regression\n",
      "  n_iter_i = _check_optimize_result(\n"
     ]
    }
   ],
   "source": [
    "lm_12 = LogisticRegression()\n",
    "lm_12.fit(x_train_12[features12], x_train_12['bank_acc'])\n",
    "\n",
    "preds12 = lm_12.predict(df_val_12[features12])\n",
    "print('Accuracy of logistic regression classifier on val set: {:.3f}'.format(lm_12.score(\n",
    "    df_val_12[features12], df_val_12['bank_acc'])))"
   ]
  },
  {
   "cell_type": "code",
   "execution_count": 145,
   "metadata": {},
   "outputs": [
    {
     "data": {
      "text/plain": [
       "array([[2964,   73],\n",
       "       [ 335,  157]])"
      ]
     },
     "execution_count": 145,
     "metadata": {},
     "output_type": "execute_result"
    }
   ],
   "source": [
    "confusion_matrix(df_val_12['bank_acc'], \n",
    "                 preds12)"
   ]
  },
  {
   "cell_type": "code",
   "execution_count": 146,
   "metadata": {
    "scrolled": false
   },
   "outputs": [
    {
     "name": "stdout",
     "output_type": "stream",
     "text": [
      "              precision    recall  f1-score   support\n",
      "\n",
      "           0       0.90      0.98      0.94      3037\n",
      "           1       0.68      0.32      0.43       492\n",
      "\n",
      "    accuracy                           0.88      3529\n",
      "   macro avg       0.79      0.65      0.69      3529\n",
      "weighted avg       0.87      0.88      0.87      3529\n",
      "\n"
     ]
    }
   ],
   "source": [
    "print(classification_report(df_val_12['bank_acc'], preds12))"
   ]
  },
  {
   "cell_type": "code",
   "execution_count": 147,
   "metadata": {},
   "outputs": [],
   "source": [
    "from sklearn.metrics import precision_recall_curve\n",
    "from sklearn.metrics import f1_score\n",
    "from sklearn.metrics import auc\n",
    "from matplotlib import pyplot"
   ]
  },
  {
   "cell_type": "code",
   "execution_count": 148,
   "metadata": {},
   "outputs": [],
   "source": [
    "df_val_12['proba_bank'] = lm_12.predict_proba(df_val_12[features12])[:, 1]\n",
    "\n",
    "fpr12, tpr12, thresholds12 = roc_curve(df_val_12['bank_acc'],\n",
    "                                 df_val_12['proba_bank'])"
   ]
  },
  {
   "cell_type": "code",
   "execution_count": 149,
   "metadata": {},
   "outputs": [
    {
     "data": {
      "image/png": "[encoded data removed]",
      "text/plain": [
       "<Figure size 432x288 with 1 Axes>"
      ]
     },
     "metadata": {
      "needs_background": "light"
     },
     "output_type": "display_data"
    }
   ],
   "source": [
    "plot_roc(df_val_12['bank_acc'], df_val_12['proba_bank'],fpr12,tpr12)"
   ]
  },
  {
   "cell_type": "code",
   "execution_count": 150,
   "metadata": {},
   "outputs": [
    {
     "name": "stdout",
     "output_type": "stream",
     "text": [
      "F1 score for model 12:\n"
     ]
    },
    {
     "data": {
      "text/plain": [
       "0.4349030470914127"
      ]
     },
     "execution_count": 150,
     "metadata": {},
     "output_type": "execute_result"
    }
   ],
   "source": [
    "# calculate F1 score\n",
    "f1_12 = f1_score(df_val_12['bank_acc'], preds12)\n",
    "print('F1 score for model 12:')\n",
    "f1_12"
   ]
  },
  {
   "cell_type": "markdown",
   "metadata": {},
   "source": [
    "## Removing primary education"
   ]
  },
  {
   "cell_type": "code",
   "execution_count": 151,
   "metadata": {},
   "outputs": [],
   "source": [
    "x_train_13 = x_train_12.drop(columns='education_level_Primary education')\n",
    "\n",
    "df_val_13 = df_val_12.drop(columns='education_level_Primary education')\n",
    "\n",
    "features13 = ['age_of_respondent','household_size', 'is_urban', 'cellphone',\n",
    "       'is_male', 'county_Rwanda', 'county_Tanzania', 'county_Uganda',\n",
    "       'relationship_with_head_Head of Household',\n",
    "       'relationship_with_head_Parent', 'relationship_with_head_Spouse',\n",
    "       'marital_status_Married/Living together',\n",
    "       'marital_status_Single/Never Married', 'marital_status_Widowed',\n",
    "       'education_level_Secondary education',\n",
    "       'education_level_Tertiary education',\n",
    "       'education_level_Vocational/Specialised training',\n",
    "       'job_type_Formally employed Government',\n",
    "       'job_type_Formally employed Private', 'job_type_Government Dependent',\n",
    "       'job_type_Informally employed', 'job_type_No Income',\n",
    "       'job_type_Remittance Dependent','female_hh']"
   ]
  },
  {
   "cell_type": "code",
   "execution_count": 152,
   "metadata": {},
   "outputs": [
    {
     "name": "stdout",
     "output_type": "stream",
     "text": [
      "Optimization terminated successfully.\n",
      "         Current function value: 0.309152\n",
      "         Iterations 7\n",
      "                                         Results: Logit\n",
      "================================================================================================\n",
      "Model:                          Logit                      Pseudo R-squared:           0.239    \n",
      "Dependent Variable:             bank_acc                   AIC:                        8774.7363\n",
      "Date:                           2021-02-03 09:28           BIC:                        8956.0544\n",
      "No. Observations:               14114                      Log-Likelihood:             -4363.4  \n",
      "Df Model:                       23                         LL-Null:                    -5733.9  \n",
      "Df Residuals:                   14090                      LLR p-value:                0.0000   \n",
      "Converged:                      1.0000                     Scale:                      1.0000   \n",
      "No. Iterations:                 7.0000                                                          \n",
      "------------------------------------------------------------------------------------------------\n",
      "                                                 Coef.  Std.Err.    z     P>|z|   [0.025  0.975]\n",
      "------------------------------------------------------------------------------------------------\n",
      "age_of_respondent                               -0.0107   0.0021  -5.0912 0.0000 -0.0149 -0.0066\n",
      "household_size                                  -0.1193   0.0145  -8.2276 0.0000 -0.1478 -0.0909\n",
      "is_urban                                         0.2253   0.0616   3.6566 0.0003  0.1045  0.3460\n",
      "cellphone                                        0.6508   0.0828   7.8637 0.0000  0.4886  0.8129\n",
      "is_male                                         -0.7427   0.1323  -5.6148 0.0000 -1.0019 -0.4834\n",
      "county_Rwanda                                   -0.7148   0.0675 -10.5901 0.0000 -0.8470 -0.5825\n",
      "county_Tanzania                                 -1.6956   0.0934 -18.1606 0.0000 -1.8786 -1.5126\n",
      "county_Uganda                                   -1.3697   0.1177 -11.6404 0.0000 -1.6003 -1.1391\n",
      "relationship_with_head_Head of Household         0.8201   0.1409   5.8206 0.0000  0.5439  1.0962\n",
      "relationship_with_head_Parent                   -0.9244   0.1872  -4.9392 0.0000 -1.2912 -0.5576\n",
      "relationship_with_head_Spouse                   -0.6474   0.1206  -5.3673 0.0000 -0.8839 -0.4110\n",
      "marital_status_Married/Living together          -0.7084   0.1106  -6.4076 0.0000 -0.9251 -0.4917\n",
      "marital_status_Single/Never Married             -1.1398   0.0932 -12.2360 0.0000 -1.3224 -0.9572\n",
      "marital_status_Widowed                          -0.5173   0.1406  -3.6803 0.0002 -0.7929 -0.2418\n",
      "education_level_Secondary education              0.8483   0.0689  12.3164 0.0000  0.7133  0.9833\n",
      "education_level_Tertiary education               2.4122   0.1071  22.5179 0.0000  2.2022  2.6222\n",
      "education_level_Vocational/Specialised training  1.9395   0.1176  16.4876 0.0000  1.7089  2.1700\n",
      "job_type_Formally employed Government            1.2315   0.1783   6.9078 0.0000  0.8821  1.5810\n",
      "job_type_Formally employed Private               1.2277   0.1034  11.8687 0.0000  1.0250  1.4304\n",
      "job_type_Government Dependent                    0.9857   0.2276   4.3310 0.0000  0.5396  1.4317\n",
      "job_type_Informally employed                    -0.9759   0.0776 -12.5756 0.0000 -1.1279 -0.8238\n",
      "job_type_No Income                              -0.9187   0.2593  -3.5431 0.0004 -1.4269 -0.4105\n",
      "job_type_Remittance Dependent                   -1.0141   0.1070  -9.4812 0.0000 -1.2237 -0.8045\n",
      "female_hh                                       -1.5995   0.1566 -10.2170 0.0000 -1.9064 -1.2927\n",
      "================================================================================================\n",
      "\n"
     ]
    }
   ],
   "source": [
    "logit_model13=sm.Logit(x_train_13['bank_acc'],x_train_13[features13])\n",
    "result13=logit_model13.fit()\n",
    "print(result13.summary2())"
   ]
  },
  {
   "cell_type": "code",
   "execution_count": 153,
   "metadata": {},
   "outputs": [
    {
     "name": "stdout",
     "output_type": "stream",
     "text": [
      "Accuracy of logistic regression classifier on val set: 0.885\n"
     ]
    },
    {
     "name": "stderr",
     "output_type": "stream",
     "text": [
      "/Users/tawneykirkland/opt/anaconda3/lib/python3.8/site-packages/sklearn/linear_model/_logistic.py:762: ConvergenceWarning: lbfgs failed to converge (status=1):\n",
      "STOP: TOTAL NO. of ITERATIONS REACHED LIMIT.\n",
      "\n",
      "Increase the number of iterations (max_iter) or scale the data as shown in:\n",
      "    https://scikit-learn.org/stable/modules/preprocessing.html\n",
      "Please also refer to the documentation for alternative solver options:\n",
      "    https://scikit-learn.org/stable/modules/linear_model.html#logistic-regression\n",
      "  n_iter_i = _check_optimize_result(\n"
     ]
    }
   ],
   "source": [
    "lm_13 = LogisticRegression()\n",
    "lm_13.fit(x_train_13[features13], x_train_13['bank_acc'])\n",
    "\n",
    "preds13 = lm_13.predict(df_val_13[features13])\n",
    "print('Accuracy of logistic regression classifier on val set: {:.3f}'.format(lm_13.score(\n",
    "    df_val_13[features13], df_val_13['bank_acc'])))"
   ]
  },
  {
   "cell_type": "code",
   "execution_count": 210,
   "metadata": {},
   "outputs": [
    {
     "data": {
      "text/plain": [
       "array([0, 0, 0, 0, 1, 0, 1, 0, 0, 0, 0, 0, 0, 1, 0, 0, 0, 0, 0, 0, 0, 0,\n",
       "       0, 0, 0, 0, 0, 0, 0, 0, 0, 0, 0, 0, 0, 0, 0, 0, 0, 1, 0, 0, 1, 0,\n",
       "       0, 0, 0, 0, 0, 0, 0, 1, 0, 0, 0, 0, 0, 0, 0, 0, 0, 0, 0, 0, 0, 0,\n",
       "       0, 0, 0, 0, 0, 0, 0, 0, 0, 0, 0, 0, 0, 0, 0, 0, 0, 0, 0, 0, 1, 0,\n",
       "       0, 0, 0, 0, 0, 0, 0, 0, 0, 0, 1, 0, 0, 0, 0, 0, 0, 0, 0, 0, 0, 0,\n",
       "       0, 0, 0, 0, 0, 0, 0, 0, 0, 0, 0, 0, 0, 0, 0, 0, 0, 0, 0, 0, 0, 0,\n",
       "       0, 0, 0, 0, 0, 0, 0, 0, 1, 0, 0, 0, 0, 0, 0, 0, 0, 0, 0, 0, 0, 0,\n",
       "       1, 0, 0, 0, 1, 0, 0, 0, 1, 0, 0, 0, 0, 0, 0, 0, 0, 0, 0, 0, 0, 0,\n",
       "       0, 0, 0, 0, 0, 0, 0, 0, 0, 0, 0, 0, 0, 0, 0, 0, 0, 0, 1, 0, 0, 0,\n",
       "       0, 0, 0, 0, 0, 0, 0, 0, 0, 1, 0, 0, 0, 0, 0, 0, 0, 0, 0, 0, 0, 1,\n",
       "       0, 0, 0, 0, 0, 0, 0, 0, 0, 0, 0, 1, 1, 0, 0, 0, 0, 0, 0, 0, 0, 0,\n",
       "       0, 0, 0, 0, 0, 0, 0, 0, 0, 0, 0, 0, 0, 0, 0, 0, 0, 0, 0, 0, 0, 0,\n",
       "       0, 0, 0, 0, 0, 0, 0, 0, 0, 0, 0, 0, 0, 0, 0, 0, 1, 0, 0, 0, 0, 0,\n",
       "       0, 1, 0, 0, 0, 0, 1, 0, 0, 0, 0, 0, 0, 0, 0, 0, 0, 1, 0, 0, 0, 0,\n",
       "       0, 0, 0, 0, 0, 0, 0, 0, 0, 1, 0, 0, 0, 0, 0, 0, 0, 0, 0, 0, 0, 0,\n",
       "       0, 0, 0, 0, 0, 0, 0, 0, 0, 0, 0, 1, 0, 0, 0, 0, 0, 0, 0, 0, 0, 0,\n",
       "       1, 0, 0, 0, 0, 0, 0, 0, 0, 0, 0, 0, 0, 0, 0, 0, 0, 0, 0, 0, 0, 1,\n",
       "       1, 0, 1, 0, 0, 0, 0, 0, 0, 0, 0, 0, 0, 0, 0, 0, 0, 0, 0, 0, 0, 0,\n",
       "       0, 0, 0, 0, 1, 0, 0, 1, 0, 0, 0, 0, 0, 0, 0, 0, 0, 0, 0, 0, 0, 1,\n",
       "       0, 0, 0, 0, 1, 0, 0, 0, 0, 0, 0, 0, 0, 0, 0, 1, 0, 0, 0, 0, 0, 0,\n",
       "       0, 0, 0, 0, 0, 0, 0, 0, 0, 0, 1, 0, 0, 0, 0, 0, 0, 0, 0, 0, 0, 0,\n",
       "       0, 0, 0, 0, 0, 0, 0, 0, 0, 0, 0, 0, 0, 0, 0, 0, 0, 0, 0, 0, 0, 0,\n",
       "       0, 1, 0, 0, 0, 0, 1, 0, 0, 0, 0, 0, 0, 0, 0, 1, 1, 0, 0, 0, 0, 0,\n",
       "       0, 0, 0, 0, 0, 0, 0, 0, 0, 0, 0, 0, 0, 0, 0, 0, 0, 0, 0, 0, 0, 0,\n",
       "       0, 0, 0, 0, 0, 0, 0, 0, 0, 0, 0, 0, 0, 0, 0, 0, 0, 0, 0, 0, 0, 0,\n",
       "       0, 0, 0, 0, 0, 0, 0, 0, 0, 0, 0, 0, 0, 0, 1, 0, 0, 0, 0, 0, 0, 0,\n",
       "       0, 0, 0, 0, 1, 0, 0, 0, 0, 0, 0, 0, 0, 0, 0, 1, 1, 0, 1, 0, 0, 0,\n",
       "       0, 0, 1, 0, 0, 0, 0, 0, 0, 0, 0, 0, 0, 0, 0, 0, 0, 0, 0, 0, 0, 0,\n",
       "       0, 0, 0, 0, 0, 0, 0, 0, 0, 0, 0, 0, 0, 0, 0, 0, 0, 0, 0, 0, 0, 0,\n",
       "       0, 0, 0, 0, 0, 0, 0, 0, 0, 0, 0, 0, 0, 0, 0, 0, 0, 0, 0, 0, 0, 0,\n",
       "       0, 0, 0, 0, 0, 0, 0, 0, 0, 0, 0, 0, 0, 0, 0, 0, 0, 0, 0, 0, 0, 0,\n",
       "       0, 1, 0, 0, 0, 0, 0, 1, 0, 1, 1, 0, 0, 0, 0, 0, 0, 0, 0, 0, 0, 0,\n",
       "       0, 0, 0, 0, 0, 0, 0, 0, 0, 0, 0, 0, 0, 1, 0, 0, 0, 0, 0, 0, 0, 0,\n",
       "       0, 0, 0, 0, 0, 0, 0, 0, 0, 0, 0, 0, 0, 0, 0, 0, 0, 0, 0, 0, 0, 0,\n",
       "       1, 0, 0, 0, 0, 0, 0, 0, 0, 0, 0, 0, 0, 1, 0, 0, 0, 0, 0, 1, 0, 0,\n",
       "       0, 0, 0, 0, 0, 0, 0, 0, 0, 0, 0, 0, 0, 0, 0, 0, 1, 0, 0, 0, 0, 0,\n",
       "       0, 0, 0, 0, 0, 0, 0, 0, 0, 0, 0, 0, 0, 0, 0, 0, 0, 0, 0, 0, 0, 0,\n",
       "       0, 0, 0, 0, 0, 0, 1, 0, 0, 0, 0, 0, 0, 0, 0, 0, 0, 0, 0, 0, 0, 0,\n",
       "       1, 0, 0, 1, 0, 0, 0, 0, 0, 0, 0, 0, 0, 0, 0, 0, 1, 0, 0, 0, 0, 0,\n",
       "       0, 0, 1, 0, 0, 0, 1, 0, 0, 0, 1, 0, 0, 0, 0, 0, 0, 0, 0, 0, 0, 0,\n",
       "       0, 0, 0, 1, 0, 0, 0, 0, 0, 0, 0, 0, 0, 0, 0, 1, 1, 0, 0, 0, 0, 0,\n",
       "       0, 0, 0, 0, 0, 1, 0, 0, 0, 0, 0, 0, 1, 0, 0, 0, 0, 0, 0, 1, 0, 0,\n",
       "       0, 0, 0, 0, 0, 0, 0, 1, 0, 0, 0, 0, 0, 0, 0, 0, 0, 0, 0, 0, 0, 0,\n",
       "       0, 0, 0, 0, 0, 0, 0, 0, 0, 1, 0, 0, 0, 0, 0, 0, 0, 0, 1, 0, 0, 0,\n",
       "       0, 0, 0, 0, 0, 0, 0, 0, 0, 0, 0, 0, 1, 0, 0, 0, 0, 0, 0, 0, 0, 0,\n",
       "       0, 0, 0, 0, 0, 0, 0, 1, 0, 1, 0, 0, 0, 0, 0, 0, 0, 0, 0, 0, 0, 0,\n",
       "       0, 0, 0, 0, 0, 1, 0, 0, 0, 0, 0, 0, 0, 0, 0, 0, 0, 0, 0, 0, 0, 0,\n",
       "       0, 0, 1, 0, 0, 0, 0, 0, 0, 0, 0, 0, 0, 0, 0, 0, 0, 0, 0, 0, 0, 0,\n",
       "       0, 0, 0, 0, 0, 0, 0, 0, 0, 0, 0, 0, 0, 0, 0, 0, 0, 0, 0, 0, 0, 0,\n",
       "       0, 0, 0, 0, 0, 0, 0, 0, 0, 0, 1, 0, 0, 0, 0, 0, 0, 0, 0, 0, 0, 0,\n",
       "       0, 0, 0, 1, 0, 0, 0, 0, 0, 0, 0, 0, 0, 0, 0, 0, 0, 0, 0, 0, 0, 0,\n",
       "       0, 0, 0, 0, 0, 0, 0, 1, 0, 0, 0, 0, 0, 1, 0, 0, 0, 0, 1, 0, 0, 0,\n",
       "       0, 0, 0, 0, 0, 0, 0, 0, 0, 0, 0, 0, 0, 0, 0, 0, 0, 0, 1, 0, 0, 1,\n",
       "       0, 0, 0, 0, 0, 0, 0, 0, 0, 0, 0, 0, 0, 0, 0, 0, 0, 0, 0, 0, 0, 0,\n",
       "       0, 0, 0, 0, 0, 0, 0, 0, 0, 0, 0, 0, 0, 0, 0, 0, 0, 0, 0, 0, 0, 1,\n",
       "       0, 0, 0, 0, 0, 0, 0, 0, 0, 0, 0, 0, 0, 0, 0, 0, 0, 0, 0, 0, 0, 1,\n",
       "       0, 0, 0, 0, 0, 0, 0, 0, 0, 0, 0, 0, 1, 0, 0, 0, 0, 0, 0, 0, 0, 1,\n",
       "       1, 0, 0, 0, 0, 0, 0, 0, 0, 0, 0, 0, 0, 1, 0, 0, 0, 0, 0, 0, 0, 0,\n",
       "       0, 0, 0, 0, 0, 0, 0, 0, 0, 0, 0, 0, 0, 0, 0, 0, 0, 0, 1, 0, 0, 0,\n",
       "       0, 0, 0, 0, 0, 1, 0, 0, 0, 0, 0, 0, 0, 0, 0, 0, 0, 0, 0, 0, 0, 0,\n",
       "       0, 0, 0, 0, 0, 0, 0, 0, 1, 0, 0, 0, 0, 0, 0, 0, 0, 0, 0, 0, 0, 0,\n",
       "       0, 0, 0, 0, 0, 0, 0, 0, 0, 1, 0, 0, 0, 0, 0, 0, 0, 0, 0, 0, 0, 0,\n",
       "       0, 0, 0, 0, 0, 0, 0, 0, 1, 0, 0, 0, 0, 0, 0, 0, 0, 1, 0, 0, 0, 0,\n",
       "       0, 0, 0, 0, 0, 1, 0, 0, 1, 0, 0, 0, 0, 1, 0, 0, 0, 0, 0, 0, 0, 0,\n",
       "       1, 1, 0, 0, 0, 0, 0, 0, 0, 0, 1, 1, 0, 0, 0, 0, 0, 0, 0, 0, 0, 0,\n",
       "       0, 0, 0, 0, 0, 0, 0, 0, 0, 0, 0, 0, 0, 0, 0, 0, 0, 0, 0, 0, 0, 0,\n",
       "       0, 0, 0, 0, 0, 0, 0, 0, 0, 0, 0, 0, 0, 0, 0, 0, 0, 0, 0, 0, 0, 0,\n",
       "       0, 0, 0, 0, 0, 0, 0, 0, 0, 0, 0, 1, 0, 0, 0, 1, 0, 0, 0, 0, 0, 0,\n",
       "       0, 0, 0, 1, 0, 0, 0, 0, 0, 0, 0, 0, 0, 0, 0, 0, 0, 0, 0, 0, 0, 0,\n",
       "       0, 0, 0, 0, 0, 0, 0, 0, 0, 0, 0, 0, 0, 0, 0, 0, 0, 1, 0, 0, 0, 0,\n",
       "       0, 0, 0, 0, 0, 0, 0, 0, 0, 0, 0, 0, 0, 0, 1, 0, 0, 0, 0, 0, 0, 0,\n",
       "       1, 0, 0, 0, 0, 0, 0, 0, 0, 0, 1, 1, 0, 0, 0, 0, 0, 0, 1, 0, 0, 0,\n",
       "       0, 0, 0, 0, 0, 0, 0, 0, 0, 0, 1, 0, 1, 1, 0, 0, 0, 0, 0, 0, 0, 0,\n",
       "       0, 0, 1, 1, 0, 1, 0, 0, 0, 0, 0, 0, 0, 0, 0, 0, 0, 0, 0, 0, 0, 0,\n",
       "       0, 0, 0, 0, 0, 0, 0, 0, 1, 0, 0, 0, 0, 0, 0, 0, 0, 1, 0, 0, 0, 0,\n",
       "       1, 0, 0, 0, 0, 0, 0, 0, 0, 0, 0, 0, 0, 0, 0, 0, 0, 0, 1, 0, 0, 0,\n",
       "       0, 0, 0, 0, 0, 0, 0, 0, 0, 0, 0, 0, 0, 0, 0, 0, 0, 0, 0, 0, 0, 0,\n",
       "       0, 0, 0, 0, 0, 0, 0, 0, 0, 0, 0, 0, 0, 0, 0, 0, 0, 0, 0, 0, 0, 0,\n",
       "       0, 0, 0, 0, 0, 0, 1, 0, 0, 1, 0, 1, 0, 0, 0, 0, 0, 1, 0, 0, 1, 0,\n",
       "       0, 0, 0, 0, 0, 0, 0, 0, 0, 0, 0, 0, 0, 1, 0, 0, 0, 0, 0, 0, 1, 0,\n",
       "       0, 0, 0, 0, 0, 0, 0, 0, 0, 0, 1, 0, 0, 0, 0, 0, 0, 0, 0, 0, 0, 0,\n",
       "       0, 0, 0, 0, 0, 0, 0, 0, 0, 0, 0, 0, 0, 0, 0, 0, 1, 0, 0, 0, 0, 0,\n",
       "       0, 0, 0, 0, 0, 0, 0, 0, 0, 0, 0, 0, 1, 0, 1, 0, 0, 0, 0, 0, 0, 0,\n",
       "       0, 0, 0, 0, 1, 0, 0, 0, 0, 0, 0, 0, 0, 0, 0, 0, 0, 0, 0, 0, 0, 0,\n",
       "       0, 1, 0, 0, 0, 0, 0, 0, 0, 0, 0, 0, 0, 0, 0, 0, 0, 0, 0, 0, 0, 0,\n",
       "       0, 0, 0, 0, 0, 0, 0, 0, 0, 0, 0, 0, 0, 0, 0, 0, 0, 0, 0, 0, 0, 0,\n",
       "       0, 1, 0, 0, 0, 0, 0, 0, 1, 0, 0, 0, 0, 0, 0, 0, 0, 0, 0, 0, 0, 1,\n",
       "       0, 0, 0, 0, 0, 0, 0, 0, 0, 0, 0, 1, 0, 0, 0, 0, 0, 0, 0, 0, 0, 0,\n",
       "       0, 0, 0, 0, 0, 0, 0, 0, 1, 0, 0, 0, 0, 0, 0, 0, 0, 0, 1, 0, 0, 0,\n",
       "       0, 0, 0, 0, 0, 0, 0, 0, 0, 0, 1, 0, 0, 0, 0, 0, 0, 0, 0, 0, 0, 0,\n",
       "       0, 0, 0, 0, 0, 0, 0, 1, 0, 0, 0, 0, 0, 0, 1, 0, 0, 0, 0, 0, 0, 0,\n",
       "       0, 0, 0, 0, 0, 0, 0, 0, 0, 0, 0, 1, 0, 0, 0, 0, 0, 0, 1, 0, 0, 0,\n",
       "       0, 0, 0, 0, 0, 0, 0, 0, 0, 1, 0, 0, 0, 0, 0, 0, 0, 0, 0, 1, 0, 0,\n",
       "       0, 0, 0, 1, 0, 0, 0, 0, 0, 0, 0, 0, 0, 0, 0, 0, 0, 0, 0, 0, 0, 0,\n",
       "       0, 0, 0, 0, 0, 0, 0, 0, 0, 0, 0, 0, 0, 0, 0, 0, 0, 0, 0, 0, 0, 0,\n",
       "       0, 0, 1, 0, 0, 0, 0, 0, 0, 0, 0, 0, 0, 0, 0, 1, 0, 0, 0, 0, 0, 0,\n",
       "       0, 1, 0, 0, 0, 0, 0, 0, 1, 0, 0, 0, 0, 0, 0, 0, 0, 0, 0, 0, 0, 0,\n",
       "       0, 0, 0, 0, 0, 0, 0, 0, 0, 0, 0, 0, 0, 0, 0, 0, 0, 0, 0, 0, 0, 0,\n",
       "       0, 0, 0, 0, 0, 1, 0, 0, 0, 0, 0, 0, 0, 0, 0, 0, 0, 0, 0, 0, 0, 0,\n",
       "       0, 0, 0, 0, 0, 0, 0, 0, 0, 0, 1, 1, 0, 0, 0, 0, 0, 0, 0, 0, 0, 0,\n",
       "       0, 0, 1, 0, 0, 0, 0, 0, 0, 0, 0, 0, 0, 0, 0, 0, 0, 0, 0, 0, 1, 0,\n",
       "       0, 0, 0, 0, 0, 0, 0, 0, 0, 0, 0, 0, 0, 0, 0, 0, 0, 0, 0, 0, 0, 0,\n",
       "       0, 0, 0, 0, 0, 0, 0, 0, 0, 0, 0, 0, 0, 0, 0, 0, 0, 0, 0, 1, 0, 0,\n",
       "       1, 0, 0, 0, 0, 0, 0, 0, 0, 0, 0, 0, 0, 0, 0, 0, 0, 0, 0, 0, 0, 1,\n",
       "       0, 0, 0, 0, 0, 0, 1, 0, 0, 0, 0, 0, 0, 0, 0, 0, 0, 0, 0, 0, 0, 1,\n",
       "       0, 0, 0, 0, 0, 0, 0, 0, 0, 0, 0, 0, 0, 0, 0, 0, 0, 0, 0, 0, 0, 0,\n",
       "       0, 0, 0, 1, 0, 0, 0, 0, 0, 0, 0, 0, 1, 0, 1, 0, 0, 0, 0, 1, 0, 0,\n",
       "       0, 0, 0, 0, 1, 1, 0, 0, 0, 0, 0, 0, 0, 0, 0, 0, 0, 0, 1, 0, 0, 0,\n",
       "       0, 0, 0, 0, 0, 0, 0, 1, 0, 0, 0, 1, 0, 0, 0, 0, 0, 0, 0, 1, 0, 0,\n",
       "       0, 1, 0, 0, 0, 0, 0, 0, 0, 0, 0, 0, 0, 0, 0, 0, 0, 0, 0, 0, 0, 0,\n",
       "       0, 0, 0, 0, 0, 0, 0, 0, 1, 0, 0, 0, 0, 0, 0, 0, 1, 0, 0, 0, 0, 0,\n",
       "       0, 0, 0, 0, 0, 0, 0, 0, 0, 1, 0, 0, 0, 0, 0, 0, 0, 1, 0, 0, 0, 0,\n",
       "       0, 0, 0, 0, 0, 0, 0, 0, 0, 0, 0, 0, 0, 0, 0, 1, 0, 0, 0, 0, 1, 0,\n",
       "       0, 0, 0, 0, 0, 1, 0, 0, 0, 0, 1, 0, 0, 0, 0, 0, 0, 0, 0, 0, 0, 0,\n",
       "       0, 0, 0, 0, 0, 0, 0, 0, 0, 0, 0, 0, 0, 0, 0, 0, 0, 0, 0, 0, 0, 0,\n",
       "       0, 0, 0, 0, 0, 0, 0, 0, 0, 0, 0, 0, 0, 0, 0, 0, 0, 0, 0, 0, 0, 0,\n",
       "       0, 0, 0, 0, 1, 0, 1, 0, 0, 0, 0, 0, 0, 0, 0, 0, 0, 0, 0, 0, 0, 0,\n",
       "       0, 0, 0, 0, 0, 0, 0, 0, 0, 0, 0, 0, 0, 0, 0, 0, 0, 0, 0, 0, 0, 0,\n",
       "       0, 1, 0, 0, 0, 0, 0, 0, 0, 0, 0, 0, 0, 0, 0, 0, 1, 0, 0, 0, 0, 0,\n",
       "       0, 0, 0, 0, 0, 0, 0, 0, 0, 0, 1, 0, 0, 0, 0, 0, 0, 0, 0, 0, 0, 0,\n",
       "       0, 0, 0, 0, 0, 0, 0, 0, 0, 0, 0, 0, 0, 0, 0, 0, 0, 0, 0, 0, 0, 0,\n",
       "       0, 0, 0, 0, 0, 0, 0, 0, 0, 0, 0, 0, 0, 0, 0, 0, 0, 0, 0, 0, 0, 0,\n",
       "       0, 0, 0, 0, 0, 0, 0, 0, 0, 0, 1, 1, 0, 1, 0, 0, 0, 1, 0, 0, 0, 0,\n",
       "       0, 0, 0, 0, 0, 0, 0, 0, 0, 0, 0, 0, 0, 0, 0, 0, 0, 0, 1, 0, 0, 0,\n",
       "       0, 0, 0, 0, 0, 0, 0, 0, 0, 0, 0, 0, 0, 0, 0, 0, 0, 0, 0, 0, 0, 0,\n",
       "       0, 0, 0, 0, 0, 0, 0, 0, 0, 0, 0, 0, 0, 0, 0, 0, 0, 0, 0, 1, 0, 1,\n",
       "       0, 0, 0, 0, 0, 0, 0, 0, 0, 0, 0, 0, 0, 0, 0, 0, 0, 0, 0, 0, 0, 0,\n",
       "       0, 0, 0, 0, 0, 0, 0, 0, 0, 0, 0, 0, 0, 0, 0, 0, 0, 0, 0, 0, 1, 0,\n",
       "       0, 0, 0, 0, 0, 0, 0, 0, 0, 0, 0, 0, 0, 0, 0, 0, 0, 0, 0, 0, 0, 0,\n",
       "       0, 1, 0, 0, 1, 0, 0, 0, 0, 1, 0, 0, 1, 0, 0, 0, 0, 0, 0, 0, 0, 0,\n",
       "       0, 0, 0, 0, 1, 0, 0, 0, 0, 0, 0, 0, 0, 0, 0, 0, 1, 0, 0, 1, 0, 0,\n",
       "       0, 0, 0, 0, 1, 0, 1, 0, 0, 0, 0, 1, 0, 0, 1, 0, 0, 0, 1, 0, 0, 0,\n",
       "       0, 0, 0, 0, 0, 0, 0, 0, 0, 0, 1, 0, 0, 0, 0, 0, 1, 0, 1, 0, 0, 0,\n",
       "       0, 0, 0, 0, 0, 0, 0, 0, 0, 0, 0, 0, 1, 0, 0, 0, 0, 0, 0, 0, 0, 0,\n",
       "       1, 0, 0, 0, 0, 0, 0, 0, 0, 0, 0, 0, 0, 0, 0, 0, 0, 0, 0, 0, 0, 0,\n",
       "       0, 0, 0, 0, 0, 0, 0, 0, 0, 0, 1, 0, 0, 0, 0, 0, 0, 0, 0, 0, 0, 0,\n",
       "       0, 0, 0, 0, 1, 0, 0, 0, 0, 0, 0, 0, 0, 0, 0, 1, 0, 0, 0, 0, 0, 0,\n",
       "       0, 0, 0, 0, 0, 0, 0, 0, 0, 0, 0, 0, 0, 0, 0, 0, 0, 0, 0, 0, 0, 0,\n",
       "       1, 0, 0, 0, 0, 0, 0, 0, 1, 0, 0, 0, 0, 0, 0, 0, 0, 0, 0, 0, 0, 0,\n",
       "       0, 1, 0, 1, 0, 0, 0, 0, 0, 0, 1, 0, 0, 0, 0, 0, 0, 0, 0, 0, 0, 0,\n",
       "       0, 0, 0, 0, 0, 0, 0, 0, 0, 0, 0, 0, 0, 0, 0, 0, 0, 0, 0, 0, 0, 0,\n",
       "       0, 0, 0, 0, 0, 0, 0, 0, 1, 0, 0, 0, 0, 0, 0, 0, 0, 0, 0, 0, 1, 0,\n",
       "       0, 0, 1, 0, 0, 0, 0, 0, 0, 0, 0, 0, 0, 0, 1, 0, 0, 0, 0, 0, 0, 0,\n",
       "       1, 0, 0, 0, 0, 0, 0, 0, 0, 0, 0, 0, 0, 1, 1, 0, 1, 0, 0, 0, 0, 0,\n",
       "       0, 0, 0, 0, 0, 0, 0, 0, 0, 0, 0, 0, 0, 0, 0, 0, 0, 0, 0, 0, 0, 0,\n",
       "       0, 0, 0, 0, 0, 0, 0, 0, 0, 0, 0, 0, 0, 0, 0, 0, 0, 0, 0, 0, 0, 0,\n",
       "       0, 0, 0, 0, 0, 0, 0, 0, 0, 0, 0, 0, 0, 0, 0, 0, 0, 0, 0, 0, 0, 0,\n",
       "       0, 0, 0, 1, 0, 0, 0, 0, 0, 0, 0, 0, 0, 0, 0, 0, 0, 0, 0, 0, 0, 0,\n",
       "       0, 0, 0, 0, 0, 0, 0, 0, 0, 0, 0, 0, 0, 0, 0, 0, 0, 0, 0, 0, 0, 0,\n",
       "       0, 0, 0, 0, 0, 0, 0, 0, 0, 0, 0, 0, 0, 1, 0, 0, 0, 0, 0, 0, 0, 0,\n",
       "       0, 0, 0, 0, 0, 0, 0, 0, 0, 0, 0, 0, 0, 0, 0, 0, 0, 0, 0, 0, 0, 1,\n",
       "       0, 0, 0, 0, 0, 0, 0, 0, 0, 0, 0, 1, 0, 0, 0, 0, 0, 1, 0, 1, 0, 0,\n",
       "       0, 0, 0, 0, 0, 0, 0, 0, 0, 0, 0, 0, 0, 0, 0, 0, 0, 0, 0, 0, 1, 0,\n",
       "       0, 0, 0, 0, 0, 0, 0, 1, 0, 0, 0, 0, 0, 0, 0, 0, 0, 0, 0, 0, 0, 1,\n",
       "       0, 0, 0, 0, 0, 0, 0, 0, 0, 0, 0, 0, 0, 0, 0, 0, 0, 0, 0, 0, 0, 0,\n",
       "       0, 0, 0, 0, 0, 0, 0, 0, 0, 0, 0, 0, 0, 0, 0, 0, 0, 0, 0, 0, 0, 0,\n",
       "       1, 0, 0, 1, 0, 0, 0, 0, 0, 0, 0, 0, 0, 0, 0, 0, 0, 0, 0, 0, 0, 0,\n",
       "       0, 0, 0, 0, 0, 0, 0, 0, 0, 0, 0, 0, 0, 0, 0, 0, 0, 0, 0, 0, 0, 0,\n",
       "       0, 0, 1, 0, 0, 0, 0, 0, 0, 0, 0, 0, 0, 0, 0, 0, 0, 0, 0, 0, 0, 0,\n",
       "       0, 0, 0, 0, 0, 0, 0, 0, 0, 0, 0, 0, 0, 0, 0, 0, 0, 0, 1, 0, 0, 0,\n",
       "       0, 0, 0, 0, 0, 0, 0, 0, 0])"
      ]
     },
     "execution_count": 210,
     "metadata": {},
     "output_type": "execute_result"
    }
   ],
   "source": [
    "preds13"
   ]
  },
  {
   "cell_type": "code",
   "execution_count": 154,
   "metadata": {},
   "outputs": [
    {
     "data": {
      "text/plain": [
       "array([[2961,   76],\n",
       "       [ 331,  161]])"
      ]
     },
     "execution_count": 154,
     "metadata": {},
     "output_type": "execute_result"
    }
   ],
   "source": [
    "confusion_matrix(df_val_13['bank_acc'], \n",
    "                 preds13)"
   ]
  },
  {
   "cell_type": "code",
   "execution_count": 155,
   "metadata": {},
   "outputs": [
    {
     "name": "stdout",
     "output_type": "stream",
     "text": [
      "              precision    recall  f1-score   support\n",
      "\n",
      "           0       0.90      0.97      0.94      3037\n",
      "           1       0.68      0.33      0.44       492\n",
      "\n",
      "    accuracy                           0.88      3529\n",
      "   macro avg       0.79      0.65      0.69      3529\n",
      "weighted avg       0.87      0.88      0.87      3529\n",
      "\n"
     ]
    }
   ],
   "source": [
    "print(classification_report(df_val_13['bank_acc'], preds13))"
   ]
  },
  {
   "cell_type": "code",
   "execution_count": 156,
   "metadata": {},
   "outputs": [],
   "source": [
    "df_val_13['proba_bank'] = lm_13.predict_proba(df_val_13[features13])[:, 1]\n",
    "\n",
    "fpr13, tpr13, thresholds13 = roc_curve(df_val_13['bank_acc'],\n",
    "                                 df_val_13['proba_bank'])"
   ]
  },
  {
   "cell_type": "code",
   "execution_count": 211,
   "metadata": {},
   "outputs": [
    {
     "data": {
      "text/html": [
       "<div>\n",
       "<style scoped>\n",
       "    .dataframe tbody tr th:only-of-type {\n",
       "        vertical-align: middle;\n",
       "    }\n",
       "\n",
       "    .dataframe tbody tr th {\n",
       "        vertical-align: top;\n",
       "    }\n",
       "\n",
       "    .dataframe thead th {\n",
       "        text-align: right;\n",
       "    }\n",
       "</style>\n",
       "<table border=\"1\" class=\"dataframe\">\n",
       "  <thead>\n",
       "    <tr style=\"text-align: right;\">\n",
       "      <th></th>\n",
       "      <th>household_size</th>\n",
       "      <th>age_of_respondent</th>\n",
       "      <th>is_urban</th>\n",
       "      <th>cellphone</th>\n",
       "      <th>is_male</th>\n",
       "      <th>county_Rwanda</th>\n",
       "      <th>county_Tanzania</th>\n",
       "      <th>county_Uganda</th>\n",
       "      <th>relationship_with_head_Head of Household</th>\n",
       "      <th>relationship_with_head_Parent</th>\n",
       "      <th>...</th>\n",
       "      <th>education_level_Vocational/Specialised training</th>\n",
       "      <th>job_type_Formally employed Government</th>\n",
       "      <th>job_type_Formally employed Private</th>\n",
       "      <th>job_type_Government Dependent</th>\n",
       "      <th>job_type_Informally employed</th>\n",
       "      <th>job_type_No Income</th>\n",
       "      <th>job_type_Remittance Dependent</th>\n",
       "      <th>bank_acc</th>\n",
       "      <th>proba_bank</th>\n",
       "      <th>female_hh</th>\n",
       "    </tr>\n",
       "  </thead>\n",
       "  <tbody>\n",
       "    <tr>\n",
       "      <th>18940</th>\n",
       "      <td>2</td>\n",
       "      <td>35</td>\n",
       "      <td>0</td>\n",
       "      <td>1</td>\n",
       "      <td>0</td>\n",
       "      <td>0.0</td>\n",
       "      <td>1.0</td>\n",
       "      <td>0.0</td>\n",
       "      <td>0.0</td>\n",
       "      <td>0.0</td>\n",
       "      <td>...</td>\n",
       "      <td>0.0</td>\n",
       "      <td>0.0</td>\n",
       "      <td>0.0</td>\n",
       "      <td>0.0</td>\n",
       "      <td>0.0</td>\n",
       "      <td>0.0</td>\n",
       "      <td>1.0</td>\n",
       "      <td>1</td>\n",
       "      <td>0.018110</td>\n",
       "      <td>0</td>\n",
       "    </tr>\n",
       "    <tr>\n",
       "      <th>6809</th>\n",
       "      <td>11</td>\n",
       "      <td>17</td>\n",
       "      <td>1</td>\n",
       "      <td>1</td>\n",
       "      <td>1</td>\n",
       "      <td>1.0</td>\n",
       "      <td>0.0</td>\n",
       "      <td>0.0</td>\n",
       "      <td>0.0</td>\n",
       "      <td>0.0</td>\n",
       "      <td>...</td>\n",
       "      <td>0.0</td>\n",
       "      <td>0.0</td>\n",
       "      <td>0.0</td>\n",
       "      <td>0.0</td>\n",
       "      <td>0.0</td>\n",
       "      <td>0.0</td>\n",
       "      <td>1.0</td>\n",
       "      <td>0</td>\n",
       "      <td>0.091962</td>\n",
       "      <td>0</td>\n",
       "    </tr>\n",
       "    <tr>\n",
       "      <th>5121</th>\n",
       "      <td>3</td>\n",
       "      <td>23</td>\n",
       "      <td>1</td>\n",
       "      <td>1</td>\n",
       "      <td>0</td>\n",
       "      <td>0.0</td>\n",
       "      <td>0.0</td>\n",
       "      <td>0.0</td>\n",
       "      <td>0.0</td>\n",
       "      <td>0.0</td>\n",
       "      <td>...</td>\n",
       "      <td>0.0</td>\n",
       "      <td>0.0</td>\n",
       "      <td>0.0</td>\n",
       "      <td>0.0</td>\n",
       "      <td>0.0</td>\n",
       "      <td>0.0</td>\n",
       "      <td>0.0</td>\n",
       "      <td>0</td>\n",
       "      <td>0.356944</td>\n",
       "      <td>0</td>\n",
       "    </tr>\n",
       "    <tr>\n",
       "      <th>1279</th>\n",
       "      <td>1</td>\n",
       "      <td>50</td>\n",
       "      <td>0</td>\n",
       "      <td>1</td>\n",
       "      <td>0</td>\n",
       "      <td>0.0</td>\n",
       "      <td>0.0</td>\n",
       "      <td>0.0</td>\n",
       "      <td>1.0</td>\n",
       "      <td>0.0</td>\n",
       "      <td>...</td>\n",
       "      <td>0.0</td>\n",
       "      <td>0.0</td>\n",
       "      <td>0.0</td>\n",
       "      <td>0.0</td>\n",
       "      <td>0.0</td>\n",
       "      <td>0.0</td>\n",
       "      <td>0.0</td>\n",
       "      <td>1</td>\n",
       "      <td>0.141793</td>\n",
       "      <td>1</td>\n",
       "    </tr>\n",
       "    <tr>\n",
       "      <th>2037</th>\n",
       "      <td>3</td>\n",
       "      <td>48</td>\n",
       "      <td>1</td>\n",
       "      <td>1</td>\n",
       "      <td>1</td>\n",
       "      <td>0.0</td>\n",
       "      <td>0.0</td>\n",
       "      <td>0.0</td>\n",
       "      <td>1.0</td>\n",
       "      <td>0.0</td>\n",
       "      <td>...</td>\n",
       "      <td>0.0</td>\n",
       "      <td>1.0</td>\n",
       "      <td>0.0</td>\n",
       "      <td>0.0</td>\n",
       "      <td>0.0</td>\n",
       "      <td>0.0</td>\n",
       "      <td>0.0</td>\n",
       "      <td>1</td>\n",
       "      <td>0.961474</td>\n",
       "      <td>0</td>\n",
       "    </tr>\n",
       "  </tbody>\n",
       "</table>\n",
       "<p>5 rows × 26 columns</p>\n",
       "</div>"
      ],
      "text/plain": [
       "       household_size  age_of_respondent  is_urban  cellphone  is_male  \\\n",
       "18940               2                 35         0          1        0   \n",
       "6809               11                 17         1          1        1   \n",
       "5121                3                 23         1          1        0   \n",
       "1279                1                 50         0          1        0   \n",
       "2037                3                 48         1          1        1   \n",
       "\n",
       "       county_Rwanda  county_Tanzania  county_Uganda  \\\n",
       "18940            0.0              1.0            0.0   \n",
       "6809             1.0              0.0            0.0   \n",
       "5121             0.0              0.0            0.0   \n",
       "1279             0.0              0.0            0.0   \n",
       "2037             0.0              0.0            0.0   \n",
       "\n",
       "       relationship_with_head_Head of Household  \\\n",
       "18940                                       0.0   \n",
       "6809                                        0.0   \n",
       "5121                                        0.0   \n",
       "1279                                        1.0   \n",
       "2037                                        1.0   \n",
       "\n",
       "       relationship_with_head_Parent  ...  \\\n",
       "18940                            0.0  ...   \n",
       "6809                             0.0  ...   \n",
       "5121                             0.0  ...   \n",
       "1279                             0.0  ...   \n",
       "2037                             0.0  ...   \n",
       "\n",
       "       education_level_Vocational/Specialised training  \\\n",
       "18940                                              0.0   \n",
       "6809                                               0.0   \n",
       "5121                                               0.0   \n",
       "1279                                               0.0   \n",
       "2037                                               0.0   \n",
       "\n",
       "       job_type_Formally employed Government  \\\n",
       "18940                                    0.0   \n",
       "6809                                     0.0   \n",
       "5121                                     0.0   \n",
       "1279                                     0.0   \n",
       "2037                                     1.0   \n",
       "\n",
       "       job_type_Formally employed Private  job_type_Government Dependent  \\\n",
       "18940                                 0.0                            0.0   \n",
       "6809                                  0.0                            0.0   \n",
       "5121                                  0.0                            0.0   \n",
       "1279                                  0.0                            0.0   \n",
       "2037                                  0.0                            0.0   \n",
       "\n",
       "       job_type_Informally employed  job_type_No Income  \\\n",
       "18940                           0.0                 0.0   \n",
       "6809                            0.0                 0.0   \n",
       "5121                            0.0                 0.0   \n",
       "1279                            0.0                 0.0   \n",
       "2037                            0.0                 0.0   \n",
       "\n",
       "       job_type_Remittance Dependent  bank_acc  proba_bank  female_hh  \n",
       "18940                            1.0         1    0.018110          0  \n",
       "6809                             1.0         0    0.091962          0  \n",
       "5121                             0.0         0    0.356944          0  \n",
       "1279                             0.0         1    0.141793          1  \n",
       "2037                             0.0         1    0.961474          0  \n",
       "\n",
       "[5 rows x 26 columns]"
      ]
     },
     "execution_count": 211,
     "metadata": {},
     "output_type": "execute_result"
    }
   ],
   "source": [
    "df_val_13.head()"
   ]
  },
  {
   "cell_type": "code",
   "execution_count": 157,
   "metadata": {},
   "outputs": [
    {
     "data": {
      "image/png": "[encoded data removed]",
      "text/plain": [
       "<Figure size 432x288 with 1 Axes>"
      ]
     },
     "metadata": {
      "needs_background": "light"
     },
     "output_type": "display_data"
    }
   ],
   "source": [
    "plot_roc(df_val_13['bank_acc'], df_val_13['proba_bank'],fpr13,tpr13)"
   ]
  },
  {
   "cell_type": "code",
   "execution_count": 158,
   "metadata": {},
   "outputs": [
    {
     "name": "stdout",
     "output_type": "stream",
     "text": [
      "F1 score for bank account holiders in model 13:\n"
     ]
    },
    {
     "data": {
      "text/plain": [
       "0.44170096021947874"
      ]
     },
     "execution_count": 158,
     "metadata": {},
     "output_type": "execute_result"
    }
   ],
   "source": [
    "# calculate F1 score\n",
    "f1_13 = f1_score(df_val_13['bank_acc'], preds13)\n",
    "print('F1 score for bank account holiders in model 13:')\n",
    "f1_13"
   ]
  },
  {
   "cell_type": "code",
   "execution_count": 159,
   "metadata": {},
   "outputs": [],
   "source": [
    "precision13, recall13, thresholds_13 = precision_recall_curve(df_val_13['bank_acc'], df_val_13['proba_bank'])"
   ]
  },
  {
   "cell_type": "code",
   "execution_count": 160,
   "metadata": {
    "scrolled": true
   },
   "outputs": [
    {
     "data": {
      "image/png": "[encoded data removed]",
      "text/plain": [
       "<Figure size 432x288 with 1 Axes>"
      ]
     },
     "metadata": {
      "needs_background": "light"
     },
     "output_type": "display_data"
    }
   ],
   "source": [
    "plt.plot(precision13, recall13, label='Precision-recall curve')\n",
    "_ = plt.xlabel('Precision')\n",
    "_ = plt.ylabel('Recall')\n",
    "_ = plt.title('Precision-recall curve')\n",
    "_ = plt.legend(loc=\"lower left\")"
   ]
  },
  {
   "cell_type": "code",
   "execution_count": 199,
   "metadata": {},
   "outputs": [
    {
     "data": {
      "text/plain": [
       "0.5424825588324116"
      ]
     },
     "execution_count": 199,
     "metadata": {},
     "output_type": "execute_result"
    }
   ],
   "source": [
    "auc13 = auc(recall13, precision13)\n",
    "auc13"
   ]
  },
  {
   "cell_type": "markdown",
   "metadata": {},
   "source": [
    "## Model 13 - Adjusting threshold"
   ]
  },
  {
   "cell_type": "code",
   "execution_count": 161,
   "metadata": {},
   "outputs": [],
   "source": [
    "y_prob_13t = lm_13.predict_proba(df_val_13[features13])"
   ]
  },
  {
   "cell_type": "code",
   "execution_count": 207,
   "metadata": {},
   "outputs": [],
   "source": [
    "threshold13 = .82\n",
    "y_pred13 = np.where((y_prob_13t[:, 0] > threshold13),0,1)"
   ]
  },
  {
   "cell_type": "code",
   "execution_count": 208,
   "metadata": {
    "scrolled": true
   },
   "outputs": [
    {
     "data": {
      "text/plain": [
       "array([[2584,  453],\n",
       "       [ 164,  328]])"
      ]
     },
     "execution_count": 208,
     "metadata": {},
     "output_type": "execute_result"
    }
   ],
   "source": [
    "confusion_matrix(df_val_13['bank_acc'], \n",
    "                 y_pred13)"
   ]
  },
  {
   "cell_type": "code",
   "execution_count": 209,
   "metadata": {},
   "outputs": [
    {
     "name": "stdout",
     "output_type": "stream",
     "text": [
      "F1 score for model 13 with adjusted threshold: 0.515\n"
     ]
    }
   ],
   "source": [
    "f1_13th = f1_score(df_val_13['bank_acc'], y_pred13)\n",
    "print('F1 score for model 13 with adjusted threshold: {:.3f}'.format(f1_13th))"
   ]
  },
  {
   "cell_type": "markdown",
   "metadata": {},
   "source": [
    "# Model 12 - Oversampling minority class in train"
   ]
  },
  {
   "cell_type": "code",
   "execution_count": 184,
   "metadata": {},
   "outputs": [],
   "source": [
    "from imblearn.over_sampling import RandomOverSampler\n",
    "ros = RandomOverSampler(random_state=0)\n",
    "X_resampled, y_resampled = ros.fit_sample(x_train_13[features13], df_train['bank_acc'])"
   ]
  },
  {
   "cell_type": "code",
   "execution_count": 185,
   "metadata": {},
   "outputs": [
    {
     "data": {
      "text/plain": [
       "Counter({0: 12128, 1: 12128})"
      ]
     },
     "execution_count": 185,
     "metadata": {},
     "output_type": "execute_result"
    }
   ],
   "source": [
    "from collections import Counter\n",
    "Counter(y_resampled)"
   ]
  },
  {
   "cell_type": "code",
   "execution_count": 187,
   "metadata": {},
   "outputs": [],
   "source": [
    "df_val_13o = df_val_13.drop(columns=['proba_bank'])"
   ]
  },
  {
   "cell_type": "code",
   "execution_count": 189,
   "metadata": {},
   "outputs": [
    {
     "name": "stdout",
     "output_type": "stream",
     "text": [
      "Accuracy of logistic regression classifier on val set: 0.780\n"
     ]
    },
    {
     "name": "stderr",
     "output_type": "stream",
     "text": [
      "/Users/tawneykirkland/opt/anaconda3/lib/python3.8/site-packages/sklearn/linear_model/_logistic.py:762: ConvergenceWarning: lbfgs failed to converge (status=1):\n",
      "STOP: TOTAL NO. of ITERATIONS REACHED LIMIT.\n",
      "\n",
      "Increase the number of iterations (max_iter) or scale the data as shown in:\n",
      "    https://scikit-learn.org/stable/modules/preprocessing.html\n",
      "Please also refer to the documentation for alternative solver options:\n",
      "    https://scikit-learn.org/stable/modules/linear_model.html#logistic-regression\n",
      "  n_iter_i = _check_optimize_result(\n"
     ]
    }
   ],
   "source": [
    "lm_13o = LogisticRegression()\n",
    "lm_13o.fit(X_resampled, y_resampled)\n",
    "\n",
    "preds13o = lm_13o.predict(df_val_13o[features13])\n",
    "print('Accuracy of logistic regression classifier on val set: {:.3f}'.format(\n",
    "    lm_13o.score(df_val_13o[features13], df_val_13o['bank_acc'])))"
   ]
  },
  {
   "cell_type": "code",
   "execution_count": 190,
   "metadata": {},
   "outputs": [
    {
     "data": {
      "text/plain": [
       "array([[2395,  642],\n",
       "       [ 135,  357]])"
      ]
     },
     "execution_count": 190,
     "metadata": {},
     "output_type": "execute_result"
    }
   ],
   "source": [
    "confusion_matrix(df_val_13o['bank_acc'], \n",
    "                 preds13o)"
   ]
  },
  {
   "cell_type": "code",
   "execution_count": 191,
   "metadata": {},
   "outputs": [
    {
     "name": "stdout",
     "output_type": "stream",
     "text": [
      "              precision    recall  f1-score   support\n",
      "\n",
      "           0       0.95      0.79      0.86      3037\n",
      "           1       0.36      0.73      0.48       492\n",
      "\n",
      "    accuracy                           0.78      3529\n",
      "   macro avg       0.65      0.76      0.67      3529\n",
      "weighted avg       0.86      0.78      0.81      3529\n",
      "\n"
     ]
    }
   ],
   "source": [
    "print(classification_report(df_val_13o['bank_acc'], preds13o))"
   ]
  },
  {
   "cell_type": "code",
   "execution_count": 192,
   "metadata": {},
   "outputs": [
    {
     "name": "stdout",
     "output_type": "stream",
     "text": [
      "F1 score for model 13 with oversampling: 0.479\n"
     ]
    }
   ],
   "source": [
    "f1_13o = f1_score(df_val_13o['bank_acc'], preds13o)\n",
    "print('F1 score for model 13 with oversampling: {:.3f}'.format(f1_13o))"
   ]
  },
  {
   "cell_type": "code",
   "execution_count": 193,
   "metadata": {},
   "outputs": [],
   "source": [
    "df_val_13o['proba_bank'] = lm_13o.predict_proba(df_val_13o[features13])[:, 1]\n",
    "\n",
    "fpr_13o, tpr_13o, thresholds_13o = roc_curve(df_val_13o['bank_acc'],\n",
    "                                 df_val_13o['proba_bank'])"
   ]
  },
  {
   "cell_type": "code",
   "execution_count": 194,
   "metadata": {
    "scrolled": true
   },
   "outputs": [
    {
     "data": {
      "image/png": "[encoded data removed]",
      "text/plain": [
       "<Figure size 432x288 with 1 Axes>"
      ]
     },
     "metadata": {
      "needs_background": "light"
     },
     "output_type": "display_data"
    }
   ],
   "source": [
    "plot_roc(df_val_13o['bank_acc'],df_val_13o['proba_bank'],fpr_13o,tpr_13o)"
   ]
  },
  {
   "cell_type": "code",
   "execution_count": 195,
   "metadata": {},
   "outputs": [],
   "source": [
    "precision13o, recall13o, thresholds_13o = precision_recall_curve(df_val_13o['bank_acc'], \n",
    "                                                                    df_val_13o['proba_bank'])"
   ]
  },
  {
   "cell_type": "code",
   "execution_count": 196,
   "metadata": {
    "scrolled": true
   },
   "outputs": [
    {
     "data": {
      "image/png": "[encoded data removed]",
      "text/plain": [
       "<Figure size 432x288 with 1 Axes>"
      ]
     },
     "metadata": {
      "needs_background": "light"
     },
     "output_type": "display_data"
    }
   ],
   "source": [
    "plt.plot(precision13o, recall13o, label='Precision-recall curve')\n",
    "_ = plt.xlabel('Precision')\n",
    "_ = plt.ylabel('Recall')\n",
    "_ = plt.title('Precision-recall curve')\n",
    "_ = plt.legend(loc=\"lower left\")"
   ]
  },
  {
   "cell_type": "code",
   "execution_count": 197,
   "metadata": {},
   "outputs": [
    {
     "data": {
      "text/plain": [
       "0.5420619594589168"
      ]
     },
     "execution_count": 197,
     "metadata": {},
     "output_type": "execute_result"
    }
   ],
   "source": [
    "auc13o = auc(recall13o, precision13o)\n",
    "auc13o"
   ]
  },
  {
   "cell_type": "markdown",
   "metadata": {},
   "source": [
    "## Testing the model on the test set\n",
    "\n",
    "Note the first analysis is based on the first multiple regression model above (including all features, no interactions)"
   ]
  },
  {
   "cell_type": "markdown",
   "metadata": {},
   "source": [
    "## 1. Preparing the test sample "
   ]
  },
  {
   "cell_type": "code",
   "execution_count": null,
   "metadata": {},
   "outputs": [],
   "source": [
    "x_test['is_urban'] = np.where(x_test['location_type'] == 'Urban',1,0)\n",
    "x_test['cellphone'] = np.where(x_test['cellphone_access'] == 'Yes',1,0)\n",
    "x_test['is_male'] = np.where(x_test['gender_of_respondent'] == 'Male',1,0)"
   ]
  },
  {
   "cell_type": "code",
   "execution_count": null,
   "metadata": {},
   "outputs": [],
   "source": [
    "x_test_cont = x_test[['year','household_size','age_of_respondent','is_urban','cellphone','is_male']]\n",
    "x_test_cat = x_test[['country','relationship_with_head', 'marital_status','education_level', 'job_type']]"
   ]
  },
  {
   "cell_type": "code",
   "execution_count": null,
   "metadata": {},
   "outputs": [],
   "source": [
    "x_test_cat.loc[x_test_cat['marital_status'] == 'Dont know', ['marital_status']] = 'Single/Never Married'\n",
    "x_test_cat.loc[x_test_cat['education_level'] == 'Other/Dont know/RTA', ['education_level']] = 'No formal education'\n",
    "x_test_cat.loc[x_test_cat['job_type'] == 'Dont Know/Refuse to answer', ['job_type']] = 'No Income'\n",
    "x_test_cat.loc[x_test_cat['relationship_with_head'] == 'Other non-relatives', ['relationship_with_head']] = 'Other relative'"
   ]
  },
  {
   "cell_type": "code",
   "execution_count": null,
   "metadata": {},
   "outputs": [],
   "source": [
    "ohe = OneHotEncoder(drop='first', sparse=False)\n",
    "\n",
    "ohe.fit(x_test_cat)\n",
    "\n",
    "ohe_x_test = ohe.transform(x_test_cat)\n",
    "\n",
    "columns = ohe.get_feature_names(['county','relationship_with_head', 'marital_status',\n",
    "       'education_level', 'job_type'])\n",
    "\n",
    "ohe_x_test_df = pd.DataFrame(ohe_x_test, columns=columns, index=x_test.index)"
   ]
  },
  {
   "cell_type": "code",
   "execution_count": null,
   "metadata": {},
   "outputs": [],
   "source": [
    "combo_test_df = pd.concat([x_test_cont, ohe_x_test_df], axis=1)"
   ]
  },
  {
   "cell_type": "code",
   "execution_count": null,
   "metadata": {},
   "outputs": [],
   "source": [
    "y_test['bank_acc'] = np.where(y_test['bank_account'] == 'Yes', 1,0)\n",
    "y_test.drop(columns='bank_account',inplace=True)\n",
    "df_test = pd.concat([combo_test_df,y_test],axis=1)"
   ]
  },
  {
   "cell_type": "markdown",
   "metadata": {},
   "source": [
    "## 2. Testing the model on the test sample"
   ]
  },
  {
   "cell_type": "markdown",
   "metadata": {},
   "source": [
    "## Model 1 - all features"
   ]
  },
  {
   "cell_type": "code",
   "execution_count": null,
   "metadata": {},
   "outputs": [],
   "source": [
    "preds1_test = lm_2.predict(df_test[features])\n",
    "print('Accuracy of logistic regression classifier on test set: {:.3f}'.format(\n",
    "    lm_2.score(df_test[features], df_test['bank_acc'])))"
   ]
  },
  {
   "cell_type": "code",
   "execution_count": null,
   "metadata": {},
   "outputs": [],
   "source": [
    "confusion_matrix(df_test['bank_acc'], \n",
    "                 preds1_test)"
   ]
  },
  {
   "cell_type": "markdown",
   "metadata": {},
   "source": [
    "\n",
    "| | predict No account (0) | predict account (1)|\n",
    "|---|---|---|\n",
    "| **is no account (0)** | 4909 | 138|\n",
    "| **is account (1)** | 540 | 294 |"
   ]
  },
  {
   "cell_type": "markdown",
   "metadata": {},
   "source": [
    "Need to do the following:\n",
    "* Check error metrics\n",
    "* Conduct cross validation\n",
    "* Test with other classification models "
   ]
  },
  {
   "cell_type": "code",
   "execution_count": null,
   "metadata": {},
   "outputs": [],
   "source": [
    "print(classification_report(df_test['bank_acc'], preds1_test))"
   ]
  },
  {
   "cell_type": "markdown",
   "metadata": {},
   "source": [
    "## Multiple regression with model 13"
   ]
  },
  {
   "cell_type": "code",
   "execution_count": null,
   "metadata": {},
   "outputs": [],
   "source": [
    "df_test_13 = df_test.drop(columns= ['year','relationship_with_head_Other relative','job_type_Other Income',\n",
    "                                   'job_type_Self employed','education_level_Primary education'])\n",
    "\n",
    "\n",
    "df_test_13['female_hh'] = np.where((df_test_13['is_male'] == 0) & \n",
    "                                   (df_test_13['relationship_with_head_Head of Household']==1),\n",
    "                                  1,0)\n"
   ]
  },
  {
   "cell_type": "code",
   "execution_count": null,
   "metadata": {},
   "outputs": [],
   "source": [
    "preds13_test = lm_13.predict(df_test_13[features13])\n",
    "print('Accuracy of logistic regression classifier on test set: {:.3f}'.format(\n",
    "    lm_13.score(df_test_13[features13],df_test_13['bank_acc'])))"
   ]
  },
  {
   "cell_type": "code",
   "execution_count": null,
   "metadata": {},
   "outputs": [],
   "source": [
    "confusion_matrix(df_test_13['bank_acc'], \n",
    "                 preds13_test)"
   ]
  },
  {
   "cell_type": "code",
   "execution_count": null,
   "metadata": {},
   "outputs": [],
   "source": [
    "print(classification_report(df_test_13['bank_acc'], preds13_test))"
   ]
  },
  {
   "cell_type": "markdown",
   "metadata": {},
   "source": [
    "Model is broadly consistent across train - val - test"
   ]
  },
  {
   "cell_type": "code",
   "execution_count": null,
   "metadata": {},
   "outputs": [],
   "source": [
    "df_test_13['proba_bank'] = lm_13.predict_proba(df_test_13[features13])[:, 1]\n",
    "\n",
    "fpr13_test, tpr13_test, thresholds13_test = roc_curve(df_test_13['bank_acc'],\n",
    "                                 df_test_13['proba_bank'])"
   ]
  },
  {
   "cell_type": "code",
   "execution_count": null,
   "metadata": {},
   "outputs": [],
   "source": [
    "plot_roc(df_test_13['bank_acc'], df_test_13['proba_bank'],fpr13_test,tpr13_test)"
   ]
  },
  {
   "cell_type": "code",
   "execution_count": null,
   "metadata": {},
   "outputs": [],
   "source": [
    "# calculate F1 score\n",
    "f1_13_test = f1_score(df_test_13['bank_acc'], preds13_test)\n",
    "print('F1 score for bank account holiders in model 13:')\n",
    "f1_13_test"
   ]
  },
  {
   "cell_type": "code",
   "execution_count": null,
   "metadata": {},
   "outputs": [],
   "source": []
  }
 ],
 "metadata": {
  "kernelspec": {
   "display_name": "Python 3",
   "language": "python",
   "name": "python3"
  },
  "language_info": {
   "codemirror_mode": {
    "name": "ipython",
    "version": 3
   },
   "file_extension": ".py",
   "mimetype": "text/x-python",
   "name": "python",
   "nbconvert_exporter": "python",
   "pygments_lexer": "ipython3",
   "version": "3.8.5"
  }
 },
 "nbformat": 4,
 "nbformat_minor": 4
}
