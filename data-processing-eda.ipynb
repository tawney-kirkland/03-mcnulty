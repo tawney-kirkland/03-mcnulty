{
 "cells": [
  {
   "cell_type": "code",
   "execution_count": 16,
   "metadata": {},
   "outputs": [],
   "source": [
    "import pandas as pd\n",
    "import numpy as np\n",
    "\n",
    "from sklearn.model_selection import train_test_split\n",
    "from sklearn.preprocessing import StandardScaler, PolynomialFeatures, OneHotEncoder\n",
    "from sklearn.linear_model import LogisticRegression\n",
    "from sklearn.metrics import roc_auc_score, confusion_matrix, roc_curve\n",
    "\n",
    "import seaborn as sns\n",
    "import matplotlib.pyplot as plt\n",
    "\n",
    "import datetime as dt\n",
    "from datetime import datetime\n",
    "\n",
    "import statsmodels.api as sm\n",
    "import statsmodels.formula.api as smf\n",
    "\n",
    "from pandasql import sqldf"
   ]
  },
  {
   "cell_type": "code",
   "execution_count": 17,
   "metadata": {},
   "outputs": [],
   "source": [
    "df = pd.read_csv('data.csv')"
   ]
  },
  {
   "cell_type": "code",
   "execution_count": 18,
   "metadata": {},
   "outputs": [],
   "source": [
    "x = df[['country', 'year', 'uniqueid', 'location_type',\n",
    "       'cellphone_access', 'household_size', 'age_of_respondent',\n",
    "       'gender_of_respondent', 'relationship_with_head', 'marital_status',\n",
    "       'education_level', 'job_type']]\n",
    "\n",
    "\n",
    "y = df[['bank_account']]\n",
    "\n",
    "x_tr, x_test, y_tr, y_test = train_test_split(x, y,test_size=.25, random_state=12)"
   ]
  },
  {
   "cell_type": "code",
   "execution_count": 19,
   "metadata": {
    "scrolled": true
   },
   "outputs": [
    {
     "name": "stderr",
     "output_type": "stream",
     "text": [
      "<ipython-input-19-02e3f9e08314>:1: SettingWithCopyWarning: \n",
      "A value is trying to be set on a copy of a slice from a DataFrame.\n",
      "Try using .loc[row_indexer,col_indexer] = value instead\n",
      "\n",
      "See the caveats in the documentation: https://pandas.pydata.org/pandas-docs/stable/user_guide/indexing.html#returning-a-view-versus-a-copy\n",
      "  x_tr['is_urban'] = np.where(x_tr['location_type'] == 'Urban',1,0)\n",
      "<ipython-input-19-02e3f9e08314>:2: SettingWithCopyWarning: \n",
      "A value is trying to be set on a copy of a slice from a DataFrame.\n",
      "Try using .loc[row_indexer,col_indexer] = value instead\n",
      "\n",
      "See the caveats in the documentation: https://pandas.pydata.org/pandas-docs/stable/user_guide/indexing.html#returning-a-view-versus-a-copy\n",
      "  x_tr['cellphone'] = np.where(x_tr['cellphone_access'] == 'Yes',1,0)\n",
      "<ipython-input-19-02e3f9e08314>:3: SettingWithCopyWarning: \n",
      "A value is trying to be set on a copy of a slice from a DataFrame.\n",
      "Try using .loc[row_indexer,col_indexer] = value instead\n",
      "\n",
      "See the caveats in the documentation: https://pandas.pydata.org/pandas-docs/stable/user_guide/indexing.html#returning-a-view-versus-a-copy\n",
      "  x_tr['is_male'] = np.where(x_tr['gender_of_respondent'] == 'Male',1,0)\n"
     ]
    }
   ],
   "source": [
    "x_tr['is_urban'] = np.where(x_tr['location_type'] == 'Urban',1,0)\n",
    "x_tr['cellphone'] = np.where(x_tr['cellphone_access'] == 'Yes',1,0)\n",
    "x_tr['is_male'] = np.where(x_tr['gender_of_respondent'] == 'Male',1,0)"
   ]
  },
  {
   "cell_type": "code",
   "execution_count": 20,
   "metadata": {},
   "outputs": [],
   "source": [
    "x_tr_cont = x_tr[['year','household_size','age_of_respondent','is_urban','cellphone','is_male']]\n",
    "x_tr_cat = x_tr[['country','relationship_with_head', 'marital_status','education_level', 'job_type']]"
   ]
  },
  {
   "cell_type": "code",
   "execution_count": 21,
   "metadata": {
    "scrolled": true
   },
   "outputs": [
    {
     "name": "stderr",
     "output_type": "stream",
     "text": [
      "/Users/tawneykirkland/opt/anaconda3/lib/python3.8/site-packages/pandas/core/indexing.py:670: SettingWithCopyWarning: \n",
      "A value is trying to be set on a copy of a slice from a DataFrame\n",
      "\n",
      "See the caveats in the documentation: https://pandas.pydata.org/pandas-docs/stable/user_guide/indexing.html#returning-a-view-versus-a-copy\n",
      "  iloc._setitem_with_indexer(indexer, value)\n",
      "<ipython-input-21-fd79ac22a8b3>:2: SettingWithCopyWarning: \n",
      "A value is trying to be set on a copy of a slice from a DataFrame\n",
      "\n",
      "See the caveats in the documentation: https://pandas.pydata.org/pandas-docs/stable/user_guide/indexing.html#returning-a-view-versus-a-copy\n",
      "  x_tr_cat.loc[x_tr_cat['marital_status'] == 'Dont know', ['marital_status']] = 'Single/Never Married'\n",
      "<ipython-input-21-fd79ac22a8b3>:3: SettingWithCopyWarning: \n",
      "A value is trying to be set on a copy of a slice from a DataFrame\n",
      "\n",
      "See the caveats in the documentation: https://pandas.pydata.org/pandas-docs/stable/user_guide/indexing.html#returning-a-view-versus-a-copy\n",
      "  x_tr_cat.loc[x_tr_cat['education_level'] == 'Other/Dont know/RTA', ['education_level']] = 'No formal education'\n",
      "<ipython-input-21-fd79ac22a8b3>:4: SettingWithCopyWarning: \n",
      "A value is trying to be set on a copy of a slice from a DataFrame\n",
      "\n",
      "See the caveats in the documentation: https://pandas.pydata.org/pandas-docs/stable/user_guide/indexing.html#returning-a-view-versus-a-copy\n",
      "  x_tr_cat.loc[x_tr_cat['job_type'] == 'Dont Know/Refuse to answer', ['job_type']] = 'No Income'\n",
      "<ipython-input-21-fd79ac22a8b3>:5: SettingWithCopyWarning: \n",
      "A value is trying to be set on a copy of a slice from a DataFrame\n",
      "\n",
      "See the caveats in the documentation: https://pandas.pydata.org/pandas-docs/stable/user_guide/indexing.html#returning-a-view-versus-a-copy\n",
      "  x_tr_cat.loc[x_tr_cat['relationship_with_head'] == 'Other non-relatives', ['relationship_with_head']] = 'Other relative'\n"
     ]
    }
   ],
   "source": [
    "# Regroup to reduce number of categories\n",
    "x_tr_cat.loc[x_tr_cat['marital_status'] == 'Dont know', ['marital_status']] = 'Single/Never Married'\n",
    "x_tr_cat.loc[x_tr_cat['education_level'] == 'Other/Dont know/RTA', ['education_level']] = 'No formal education'\n",
    "x_tr_cat.loc[x_tr_cat['job_type'] == 'Dont Know/Refuse to answer', ['job_type']] = 'No Income'\n",
    "x_tr_cat.loc[x_tr_cat['relationship_with_head'] == 'Other non-relatives', ['relationship_with_head']] = 'Other relative'"
   ]
  },
  {
   "cell_type": "code",
   "execution_count": 42,
   "metadata": {},
   "outputs": [],
   "source": [
    "combo_train = pd.concat([x_tr_cont, x_tr_cat], axis=1)"
   ]
  },
  {
   "cell_type": "code",
   "execution_count": 43,
   "metadata": {
    "scrolled": true
   },
   "outputs": [
    {
     "name": "stderr",
     "output_type": "stream",
     "text": [
      "<ipython-input-43-b1430f2c33c5>:2: SettingWithCopyWarning: \n",
      "A value is trying to be set on a copy of a slice from a DataFrame.\n",
      "Try using .loc[row_indexer,col_indexer] = value instead\n",
      "\n",
      "See the caveats in the documentation: https://pandas.pydata.org/pandas-docs/stable/user_guide/indexing.html#returning-a-view-versus-a-copy\n",
      "  y_tr['bank_acc'] = np.where(y_tr['bank_account'] == 'Yes', 1,0)\n"
     ]
    }
   ],
   "source": [
    "# Create dummy variable for bank account\n",
    "y_tr['bank_acc'] = np.where(y_tr['bank_account'] == 'Yes', 1,0)"
   ]
  },
  {
   "cell_type": "code",
   "execution_count": 106,
   "metadata": {
    "scrolled": true
   },
   "outputs": [],
   "source": [
    "df_train = pd.concat([combo_train,y_tr],axis=1)"
   ]
  },
  {
   "cell_type": "markdown",
   "metadata": {},
   "source": [
    "## EDA for target variable: Has bank account (yes/no)\n",
    "Analysis of train sample (including val)"
   ]
  },
  {
   "cell_type": "code",
   "execution_count": 45,
   "metadata": {},
   "outputs": [
    {
     "data": {
      "image/png": "[encoded data removed]",
      "text/plain": [
       "<Figure size 432x288 with 1 Axes>"
      ]
     },
     "metadata": {
      "needs_background": "light"
     },
     "output_type": "display_data"
    }
   ],
   "source": [
    "sns.countplot(x='bank_acc', data=df_train)\n",
    "plt.title('Bank account holding status',family='arial',fontsize=16)\n",
    "plt.xlabel('Bank account')\n",
    "plt.ylabel('Count')\n",
    "plt.show;"
   ]
  },
  {
   "cell_type": "code",
   "execution_count": 46,
   "metadata": {
    "scrolled": true
   },
   "outputs": [
    {
     "name": "stdout",
     "output_type": "stream",
     "text": [
      "percentage of no account: 85.95476959700731\n",
      "percentage of account 14.04523040299269\n"
     ]
    }
   ],
   "source": [
    "count_no_acc = len(df_train[df_train['bank_acc']==0])\n",
    "count_acc = len(df_train[df_train['bank_acc']==1])\n",
    "pct_of_no_acc = count_no_acc/(count_no_acc+count_acc)\n",
    "print(\"percentage of no account:\", pct_of_no_acc*100)\n",
    "pct_of_acc = count_acc/(count_no_acc+count_acc)\n",
    "print(\"percentage of account\", pct_of_acc*100)"
   ]
  },
  {
   "cell_type": "markdown",
   "metadata": {},
   "source": [
    "Classes are very __imbalanced__. Suggests I should try adjust the threshold for the decision."
   ]
  },
  {
   "cell_type": "code",
   "execution_count": 109,
   "metadata": {},
   "outputs": [],
   "source": [
    "def calculate_pct(feature1,label1,label2,feature2,title):\n",
    "    df1 = df_train[(df_train[feature1]== label1) & (df_train[feature2]== 1)]\n",
    "    df1_acc = len(df1)\n",
    "    df2 = df_train[(df_train[feature1]== label2) & (df_train[feature2]== 0)]\n",
    "    df2_no_acc = len(df2)\n",
    "    print(title)\n",
    "    pct_no_acc = df2_no_acc / (df1_acc + df2_no_acc)\n",
    "    print(\"Percentage of no account:\", pct_no_acc*100)\n",
    "    pct_acc = 1-pct_no_acc\n",
    "    print(\"Percentage of account\", pct_acc*100)"
   ]
  },
  {
   "cell_type": "markdown",
   "metadata": {},
   "source": [
    "## By country"
   ]
  },
  {
   "cell_type": "code",
   "execution_count": 47,
   "metadata": {
    "scrolled": true
   },
   "outputs": [
    {
     "data": {
      "image/png": "[encoded data removed]",
      "text/plain": [
       "<Figure size 432x288 with 1 Axes>"
      ]
     },
     "metadata": {
      "needs_background": "light"
     },
     "output_type": "display_data"
    }
   ],
   "source": [
    "bank_country = sns.countplot(\n",
    "        data=df_train,\n",
    "        x=\"country\", hue=\"bank_acc\")\n",
    "plt.title('Bank account holding status by country',family='arial',fontsize=12)\n",
    "plt.xlabel('Country')\n",
    "plt.ylabel('Count');"
   ]
  },
  {
   "cell_type": "code",
   "execution_count": 110,
   "metadata": {},
   "outputs": [
    {
     "name": "stdout",
     "output_type": "stream",
     "text": [
      "Rwanda\n",
      "Percentage of no account: 88.64648947611\n",
      "Percentage of account 11.353510523889998\n"
     ]
    }
   ],
   "source": [
    "calculate_pct('country','Rwanda','Rwanda','bank_acc','Rwanda')"
   ]
  },
  {
   "cell_type": "code",
   "execution_count": 99,
   "metadata": {},
   "outputs": [
    {
     "name": "stdout",
     "output_type": "stream",
     "text": [
      "Kenya\n",
      "Percentage of no account: 75.08327781479014\n",
      "Percentage of account 24.91672218520986\n"
     ]
    }
   ],
   "source": [
    "calculate_pct('country','Kenya','Kenya','bank_acc','Kenya')"
   ]
  },
  {
   "cell_type": "code",
   "execution_count": 100,
   "metadata": {},
   "outputs": [
    {
     "name": "stdout",
     "output_type": "stream",
     "text": [
      "Tanzania\n",
      "Percentage of no account: 90.70735090152566\n",
      "Percentage of account 9.292649098474337\n"
     ]
    }
   ],
   "source": [
    "calculate_pct('country','Tanzania','Tanzania','bank_acc','Tanzania')"
   ]
  },
  {
   "cell_type": "code",
   "execution_count": 101,
   "metadata": {},
   "outputs": [
    {
     "name": "stdout",
     "output_type": "stream",
     "text": [
      "Uganda\n",
      "Percentage of no account: 90.65656565656566\n",
      "Percentage of account 9.343434343434343\n"
     ]
    }
   ],
   "source": [
    "calculate_pct('country','Uganda','Uganda','bank_acc','Uganda')"
   ]
  },
  {
   "cell_type": "markdown",
   "metadata": {},
   "source": [
    "## By gender"
   ]
  },
  {
   "cell_type": "code",
   "execution_count": 49,
   "metadata": {
    "scrolled": true
   },
   "outputs": [
    {
     "data": {
      "image/png": "[encoded data removed]",
      "text/plain": [
       "<Figure size 432x288 with 1 Axes>"
      ]
     },
     "metadata": {
      "needs_background": "light"
     },
     "output_type": "display_data"
    }
   ],
   "source": [
    "bank_gender = sns.countplot(\n",
    "        data=df_train,\n",
    "        x=\"is_male\", hue=\"bank_acc\")\n",
    "plt.title('Bank account holding status by respondent gender',family='arial',fontsize=12)\n",
    "plt.xlabel('Gender')\n",
    "plt.ylabel('Count');"
   ]
  },
  {
   "cell_type": "markdown",
   "metadata": {},
   "source": [
    "Majority of respondents in the sample identified as female; lower percentage of females have an account in comparison to male respondents"
   ]
  },
  {
   "cell_type": "code",
   "execution_count": 102,
   "metadata": {},
   "outputs": [
    {
     "name": "stdout",
     "output_type": "stream",
     "text": [
      "Male\n",
      "Percentage of no account: 80.9285515707534\n",
      "Percentage of account 19.071448429246594\n"
     ]
    }
   ],
   "source": [
    "calculate_pct('is_male',1,1,'bank_acc','Male')"
   ]
  },
  {
   "cell_type": "code",
   "execution_count": 103,
   "metadata": {},
   "outputs": [
    {
     "name": "stdout",
     "output_type": "stream",
     "text": [
      "Female\n",
      "Percentage of no account: 89.41525504832998\n",
      "Percentage of account 10.584744951670011\n"
     ]
    }
   ],
   "source": [
    "calculate_pct('is_male',0,0,'bank_acc','Female')"
   ]
  },
  {
   "cell_type": "markdown",
   "metadata": {},
   "source": [
    "## By location type"
   ]
  },
  {
   "cell_type": "code",
   "execution_count": 79,
   "metadata": {
    "scrolled": true
   },
   "outputs": [
    {
     "data": {
      "image/png": "[encoded data removed]",
      "text/plain": [
       "<Figure size 432x288 with 1 Axes>"
      ]
     },
     "metadata": {
      "needs_background": "light"
     },
     "output_type": "display_data"
    }
   ],
   "source": [
    "bank_urban = sns.countplot(\n",
    "        data=df_train,\n",
    "        x=\"is_urban\", hue=\"bank_acc\")\n",
    "plt.title('Bank account holding status by location type',family='arial',fontsize=12)\n",
    "plt.xlabel('Rural and urban')\n",
    "plt.ylabel('Count');"
   ]
  },
  {
   "cell_type": "code",
   "execution_count": 104,
   "metadata": {},
   "outputs": [
    {
     "name": "stdout",
     "output_type": "stream",
     "text": [
      "Urban\n",
      "Percentage of no account: 82.04979733642153\n",
      "Percentage of account 17.950202663578462\n"
     ]
    }
   ],
   "source": [
    "calculate_pct('is_urban',1,1,'bank_acc','Urban')"
   ]
  },
  {
   "cell_type": "code",
   "execution_count": 105,
   "metadata": {},
   "outputs": [
    {
     "name": "stdout",
     "output_type": "stream",
     "text": [
      "Rural\n",
      "Percentage of no account: 88.46762925011645\n",
      "Percentage of account 11.532370749883558\n"
     ]
    }
   ],
   "source": [
    "calculate_pct('is_urban',0,0,'bank_acc','Rural')"
   ]
  },
  {
   "cell_type": "markdown",
   "metadata": {},
   "source": [
    "## By education level"
   ]
  },
  {
   "cell_type": "code",
   "execution_count": 52,
   "metadata": {
    "scrolled": true
   },
   "outputs": [
    {
     "data": {
      "image/png": "[encoded data removed]",
      "text/plain": [
       "<Figure size 1080x288 with 1 Axes>"
      ]
     },
     "metadata": {
      "needs_background": "light"
     },
     "output_type": "display_data"
    }
   ],
   "source": [
    "plt.figure(figsize=[15,4])\n",
    "bank_education = sns.countplot(\n",
    "        data=df_train,\n",
    "        x=\"education_level\", hue=\"bank_acc\")\n",
    "plt.title('Bank account holding status by education level',family='arial',fontsize=12)\n",
    "plt.xlabel('Level of education')\n",
    "plt.ylabel('Count');"
   ]
  },
  {
   "cell_type": "code",
   "execution_count": 111,
   "metadata": {},
   "outputs": [
    {
     "name": "stdout",
     "output_type": "stream",
     "text": [
      "No formal education\n",
      "Percentage of no account: 95.80297289419994\n",
      "Percentage of account 4.197027105800055\n"
     ]
    }
   ],
   "source": [
    "calculate_pct('education_level','No formal education','No formal education','bank_acc','No formal education')"
   ]
  },
  {
   "cell_type": "code",
   "execution_count": 112,
   "metadata": {},
   "outputs": [
    {
     "name": "stdout",
     "output_type": "stream",
     "text": [
      "Primary education\n",
      "Percentage of no account: 91.49666944213156\n",
      "Percentage of account 8.503330557868438\n"
     ]
    }
   ],
   "source": [
    "calculate_pct('education_level','Primary education','Primary education','bank_acc','Primary education')"
   ]
  },
  {
   "cell_type": "code",
   "execution_count": 113,
   "metadata": {},
   "outputs": [
    {
     "name": "stdout",
     "output_type": "stream",
     "text": [
      "Secondary education\n",
      "Percentage of no account: 76.41781480294777\n",
      "Percentage of account 23.58218519705223\n"
     ]
    }
   ],
   "source": [
    "calculate_pct('education_level','Secondary education','Secondary education','bank_acc','Secondary education')"
   ]
  },
  {
   "cell_type": "code",
   "execution_count": 116,
   "metadata": {},
   "outputs": [
    {
     "name": "stdout",
     "output_type": "stream",
     "text": [
      "Vocational/Specialised training\n",
      "Percentage of no account: 44.42595673876872\n",
      "Percentage of account 55.574043261231274\n"
     ]
    }
   ],
   "source": [
    "calculate_pct('education_level','Vocational/Specialised training','Vocational/Specialised training','bank_acc','Vocational/Specialised training')"
   ]
  },
  {
   "cell_type": "code",
   "execution_count": 117,
   "metadata": {},
   "outputs": [
    {
     "name": "stdout",
     "output_type": "stream",
     "text": [
      "Tertiary education\n",
      "Percentage of no account: 49.31972789115646\n",
      "Percentage of account 50.68027210884354\n"
     ]
    }
   ],
   "source": [
    "calculate_pct('education_level','Tertiary education','Tertiary education','bank_acc','Tertiary education')"
   ]
  },
  {
   "cell_type": "markdown",
   "metadata": {},
   "source": [
    "## By relationship with head of household"
   ]
  },
  {
   "cell_type": "code",
   "execution_count": 53,
   "metadata": {
    "scrolled": true
   },
   "outputs": [
    {
     "data": {
      "image/png": "[encoded data removed]",
      "text/plain": [
       "<Figure size 1080x288 with 1 Axes>"
      ]
     },
     "metadata": {
      "needs_background": "light"
     },
     "output_type": "display_data"
    }
   ],
   "source": [
    "plt.figure(figsize=[15,4])\n",
    "bank_education = sns.countplot(\n",
    "        data=df_train,\n",
    "        x=\"relationship_with_head\", hue=\"bank_acc\")\n",
    "plt.title('Bank account holding status by household position',family='arial',fontsize=12)\n",
    "plt.xlabel('Position in household')\n",
    "plt.ylabel('Count');"
   ]
  },
  {
   "cell_type": "code",
   "execution_count": 118,
   "metadata": {},
   "outputs": [
    {
     "name": "stdout",
     "output_type": "stream",
     "text": [
      "Head of Household\n",
      "Percentage of no account: 82.15586307356155\n",
      "Percentage of account 17.84413692643846\n"
     ]
    }
   ],
   "source": [
    "calculate_pct('relationship_with_head','Head of Household','Head of Household','bank_acc','Head of Household')"
   ]
  },
  {
   "cell_type": "code",
   "execution_count": 119,
   "metadata": {},
   "outputs": [
    {
     "name": "stdout",
     "output_type": "stream",
     "text": [
      "Spouse\n",
      "Percentage of no account: 89.98578102782857\n",
      "Percentage of account 10.01421897217144\n"
     ]
    }
   ],
   "source": [
    "calculate_pct('relationship_with_head','Spouse','Spouse','bank_acc','Spouse')"
   ]
  },
  {
   "cell_type": "code",
   "execution_count": 120,
   "metadata": {},
   "outputs": [
    {
     "name": "stdout",
     "output_type": "stream",
     "text": [
      "Parent\n",
      "Percentage of no account: 93.4065934065934\n",
      "Percentage of account 6.593406593406592\n"
     ]
    }
   ],
   "source": [
    "calculate_pct('relationship_with_head','Parent','Parent','bank_acc','Parent')"
   ]
  },
  {
   "cell_type": "code",
   "execution_count": 121,
   "metadata": {},
   "outputs": [
    {
     "name": "stdout",
     "output_type": "stream",
     "text": [
      "Child\n",
      "Percentage of no account: 90.99153567110037\n",
      "Percentage of account 9.008464328899635\n"
     ]
    }
   ],
   "source": [
    "calculate_pct('relationship_with_head','Child','Child','bank_acc','Child')"
   ]
  },
  {
   "cell_type": "code",
   "execution_count": 122,
   "metadata": {},
   "outputs": [
    {
     "name": "stdout",
     "output_type": "stream",
     "text": [
      "Other relative\n",
      "Percentage of no account: 89.46540880503144\n",
      "Percentage of account 10.534591194968556\n"
     ]
    }
   ],
   "source": [
    "calculate_pct('relationship_with_head','Other relative','Other relative','bank_acc','Other relative')"
   ]
  },
  {
   "cell_type": "markdown",
   "metadata": {},
   "source": [
    "## By marital status"
   ]
  },
  {
   "cell_type": "code",
   "execution_count": 54,
   "metadata": {
    "scrolled": true
   },
   "outputs": [
    {
     "data": {
      "image/png": "[encoded data removed]",
      "text/plain": [
       "<Figure size 1080x288 with 1 Axes>"
      ]
     },
     "metadata": {
      "needs_background": "light"
     },
     "output_type": "display_data"
    }
   ],
   "source": [
    "plt.figure(figsize=[15,4])\n",
    "bank_education = sns.countplot(\n",
    "        data=df_train,\n",
    "        x=\"marital_status\", hue=\"bank_acc\")\n",
    "plt.title('Bank account holding status by marital status',family='arial',fontsize=12)\n",
    "plt.xlabel('Marital status')\n",
    "plt.ylabel('Count');"
   ]
  },
  {
   "cell_type": "code",
   "execution_count": 124,
   "metadata": {},
   "outputs": [
    {
     "name": "stdout",
     "output_type": "stream",
     "text": [
      "Widowed\n",
      "Percentage of no account: 90.44522261130565\n",
      "Percentage of account 9.554777388694347\n"
     ]
    }
   ],
   "source": [
    "calculate_pct('marital_status','Widowed','Widowed','bank_acc','Widowed')"
   ]
  },
  {
   "cell_type": "code",
   "execution_count": 123,
   "metadata": {},
   "outputs": [
    {
     "name": "stdout",
     "output_type": "stream",
     "text": [
      "Married/Living together\n",
      "Percentage of no account: 83.17745354782392\n",
      "Percentage of account 16.82254645217608\n"
     ]
    }
   ],
   "source": [
    "calculate_pct('marital_status','Married/Living together','Married/Living together','bank_acc','Married/Living together')"
   ]
  },
  {
   "cell_type": "code",
   "execution_count": 125,
   "metadata": {},
   "outputs": [
    {
     "name": "stdout",
     "output_type": "stream",
     "text": [
      "Divorced/Seperated\n",
      "Percentage of no account: 87.93548387096774\n",
      "Percentage of account 12.064516129032254\n"
     ]
    }
   ],
   "source": [
    "calculate_pct('marital_status','Divorced/Seperated','Divorced/Seperated','bank_acc','Divorced/Seperated')"
   ]
  },
  {
   "cell_type": "code",
   "execution_count": 127,
   "metadata": {},
   "outputs": [
    {
     "name": "stdout",
     "output_type": "stream",
     "text": [
      "Single/Never married\n",
      "Percentage of no account: 87.63786008230453\n",
      "Percentage of account 12.362139917695469\n"
     ]
    }
   ],
   "source": [
    "calculate_pct('marital_status','Single/Never Married','Single/Never Married','bank_acc','Single/Never married')"
   ]
  },
  {
   "cell_type": "markdown",
   "metadata": {},
   "source": [
    "## By job type"
   ]
  },
  {
   "cell_type": "code",
   "execution_count": 129,
   "metadata": {},
   "outputs": [
    {
     "data": {
      "image/png": "[encoded data removed]",
      "text/plain": [
       "<Figure size 1584x288 with 1 Axes>"
      ]
     },
     "metadata": {
      "needs_background": "light"
     },
     "output_type": "display_data"
    }
   ],
   "source": [
    "plt.figure(figsize=[22,4])\n",
    "bank_education = sns.countplot(\n",
    "        data=df_train,\n",
    "        x=\"job_type\", hue=\"bank_acc\")\n",
    "plt.title('Bank account holding status by job type',family='arial',fontsize=12)\n",
    "plt.xlabel('Source of income')\n",
    "plt.ylabel('Count');"
   ]
  },
  {
   "cell_type": "code",
   "execution_count": 128,
   "metadata": {},
   "outputs": [
    {
     "name": "stdout",
     "output_type": "stream",
     "text": [
      "Farming and fishing\n",
      "Percentage of no account: 88.36174944403261\n",
      "Percentage of account 11.638250555967389\n"
     ]
    }
   ],
   "source": [
    "calculate_pct('job_type','Farming and Fishing','Farming and Fishing','bank_acc','Farming and fishing')"
   ]
  },
  {
   "cell_type": "code",
   "execution_count": 130,
   "metadata": {},
   "outputs": [
    {
     "name": "stdout",
     "output_type": "stream",
     "text": [
      "Remittance dependent\n",
      "Percentage of no account: 90.66736183524505\n",
      "Percentage of account 9.332638164754957\n"
     ]
    }
   ],
   "source": [
    "calculate_pct('job_type','Remittance Dependent','Remittance Dependent','bank_acc','Remittance dependent')"
   ]
  },
  {
   "cell_type": "code",
   "execution_count": 131,
   "metadata": {},
   "outputs": [
    {
     "name": "stdout",
     "output_type": "stream",
     "text": [
      "Other income\n",
      "Percentage of no account: 82.16482164821647\n",
      "Percentage of account 17.83517835178352\n"
     ]
    }
   ],
   "source": [
    "calculate_pct('job_type','Other Income','Other Income','bank_acc','Other income')"
   ]
  },
  {
   "cell_type": "code",
   "execution_count": 132,
   "metadata": {},
   "outputs": [
    {
     "name": "stdout",
     "output_type": "stream",
     "text": [
      "Self employed\n",
      "Percentage of no account: 86.91282051282052\n",
      "Percentage of account 13.08717948717949\n"
     ]
    }
   ],
   "source": [
    "calculate_pct('job_type','Self employed','Self employed','bank_acc','Self employed')"
   ]
  },
  {
   "cell_type": "code",
   "execution_count": 133,
   "metadata": {},
   "outputs": [
    {
     "name": "stdout",
     "output_type": "stream",
     "text": [
      "Informally employed\n",
      "Percentage of no account: 92.05931595312127\n",
      "Percentage of account 7.940684046878732\n"
     ]
    }
   ],
   "source": [
    "calculate_pct('job_type','Informally employed','Informally employed','bank_acc','Informally employed')"
   ]
  },
  {
   "cell_type": "code",
   "execution_count": 134,
   "metadata": {},
   "outputs": [
    {
     "name": "stdout",
     "output_type": "stream",
     "text": [
      "Formerly employed Private\n",
      "Percentage of no account: 0.0\n",
      "Percentage of account 100.0\n"
     ]
    }
   ],
   "source": [
    "calculate_pct('job_type','Formally employed Private','Formerly employed Private','bank_acc','Formerly employed Private')"
   ]
  },
  {
   "cell_type": "code",
   "execution_count": 135,
   "metadata": {},
   "outputs": [
    {
     "name": "stdout",
     "output_type": "stream",
     "text": [
      "Formerly employed Government\n",
      "Percentage of no account: 0.0\n",
      "Percentage of account 100.0\n"
     ]
    }
   ],
   "source": [
    "calculate_pct('job_type','Formally employed Government','Formerly employed Government','bank_acc','Formerly employed Government')"
   ]
  },
  {
   "cell_type": "code",
   "execution_count": 136,
   "metadata": {},
   "outputs": [
    {
     "name": "stdout",
     "output_type": "stream",
     "text": [
      "Government Dependent\n",
      "Percentage of no account: 78.80434782608695\n",
      "Percentage of account 21.19565217391305\n"
     ]
    }
   ],
   "source": [
    "calculate_pct('job_type','Government Dependent','Government Dependent','bank_acc','Government Dependent')"
   ]
  },
  {
   "cell_type": "code",
   "execution_count": 137,
   "metadata": {},
   "outputs": [
    {
     "name": "stdout",
     "output_type": "stream",
     "text": [
      "No Income\n",
      "Percentage of no account: 96.27659574468085\n",
      "Percentage of account 3.7234042553191515\n"
     ]
    }
   ],
   "source": [
    "calculate_pct('job_type','No Income','No Income','bank_acc','No Income')"
   ]
  },
  {
   "cell_type": "markdown",
   "metadata": {},
   "source": [
    "## By cellphone access"
   ]
  },
  {
   "cell_type": "code",
   "execution_count": 138,
   "metadata": {},
   "outputs": [
    {
     "data": {
      "image/png": "[encoded data removed]",
      "text/plain": [
       "<Figure size 432x288 with 1 Axes>"
      ]
     },
     "metadata": {
      "needs_background": "light"
     },
     "output_type": "display_data"
    }
   ],
   "source": [
    "bank_cell = sns.countplot(\n",
    "        data=df_train,\n",
    "        x=\"cellphone\", hue=\"bank_acc\")\n",
    "plt.title('Bank account holding status by cellphone access',family='arial',fontsize=12)\n",
    "plt.xlabel('Cellphone access')\n",
    "plt.ylabel('Count');"
   ]
  },
  {
   "cell_type": "code",
   "execution_count": 139,
   "metadata": {},
   "outputs": [
    {
     "name": "stdout",
     "output_type": "stream",
     "text": [
      "Does not own a cellphone\n",
      "Percentage of no account: 98.11196487376509\n",
      "Percentage of account 1.8880351262349104\n"
     ]
    }
   ],
   "source": [
    "calculate_pct('cellphone',0,0,'bank_acc','Does not own a cellphone')"
   ]
  },
  {
   "cell_type": "code",
   "execution_count": 140,
   "metadata": {},
   "outputs": [
    {
     "name": "stdout",
     "output_type": "stream",
     "text": [
      "Owns a cellphone\n",
      "Percentage of no account: 81.72371638141809\n",
      "Percentage of account 18.276283618581914\n"
     ]
    }
   ],
   "source": [
    "calculate_pct('cellphone',1,1,'bank_acc','Owns a cellphone')"
   ]
  },
  {
   "cell_type": "code",
   "execution_count": 142,
   "metadata": {},
   "outputs": [],
   "source": [
    "df_train.to_excel('bank_train.xlsx')"
   ]
  },
  {
   "cell_type": "code",
   "execution_count": null,
   "metadata": {},
   "outputs": [],
   "source": []
  }
 ],
 "metadata": {
  "kernelspec": {
   "display_name": "Python 3",
   "language": "python",
   "name": "python3"
  },
  "language_info": {
   "codemirror_mode": {
    "name": "ipython",
    "version": 3
   },
   "file_extension": ".py",
   "mimetype": "text/x-python",
   "name": "python",
   "nbconvert_exporter": "python",
   "pygments_lexer": "ipython3",
   "version": "3.8.5"
  }
 },
 "nbformat": 4,
 "nbformat_minor": 4
}
