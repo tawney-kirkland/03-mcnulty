{
 "cells": [
  {
   "cell_type": "code",
   "execution_count": 124,
   "metadata": {},
   "outputs": [],
   "source": [
    "import pandas as pd\n",
    "import numpy as np\n",
    "\n",
    "from sklearn.model_selection import train_test_split\n",
    "from sklearn.preprocessing import StandardScaler, PolynomialFeatures, OneHotEncoder\n",
    "from sklearn.linear_model import LogisticRegression\n",
    "from sklearn.metrics import roc_auc_score, confusion_matrix, roc_curve\n",
    "\n",
    "import seaborn as sns\n",
    "import matplotlib.pyplot as plt\n",
    "\n",
    "import datetime as dt\n",
    "from datetime import datetime\n",
    "\n",
    "import statsmodels.api as sm\n",
    "import statsmodels.formula.api as smf\n",
    "\n",
    "from pandasql import sqldf"
   ]
  },
  {
   "cell_type": "code",
   "execution_count": 125,
   "metadata": {},
   "outputs": [],
   "source": [
    "df = pd.read_csv('data.csv')"
   ]
  },
  {
   "cell_type": "code",
   "execution_count": 126,
   "metadata": {},
   "outputs": [],
   "source": [
    "x = df[['country', 'year', 'uniqueid', 'location_type',\n",
    "       'cellphone_access', 'household_size', 'age_of_respondent',\n",
    "       'gender_of_respondent', 'relationship_with_head', 'marital_status',\n",
    "       'education_level', 'job_type']]\n",
    "\n",
    "\n",
    "y = df[['bank_account']]\n",
    "\n",
    "x_tr, x_test, y_tr, y_test = train_test_split(x, y,test_size=.25, random_state=12)"
   ]
  },
  {
   "cell_type": "code",
   "execution_count": 127,
   "metadata": {
    "scrolled": true
   },
   "outputs": [
    {
     "name": "stderr",
     "output_type": "stream",
     "text": [
      "<ipython-input-127-02e3f9e08314>:1: SettingWithCopyWarning: \n",
      "A value is trying to be set on a copy of a slice from a DataFrame.\n",
      "Try using .loc[row_indexer,col_indexer] = value instead\n",
      "\n",
      "See the caveats in the documentation: https://pandas.pydata.org/pandas-docs/stable/user_guide/indexing.html#returning-a-view-versus-a-copy\n",
      "  x_tr['is_urban'] = np.where(x_tr['location_type'] == 'Urban',1,0)\n",
      "<ipython-input-127-02e3f9e08314>:2: SettingWithCopyWarning: \n",
      "A value is trying to be set on a copy of a slice from a DataFrame.\n",
      "Try using .loc[row_indexer,col_indexer] = value instead\n",
      "\n",
      "See the caveats in the documentation: https://pandas.pydata.org/pandas-docs/stable/user_guide/indexing.html#returning-a-view-versus-a-copy\n",
      "  x_tr['cellphone'] = np.where(x_tr['cellphone_access'] == 'Yes',1,0)\n",
      "<ipython-input-127-02e3f9e08314>:3: SettingWithCopyWarning: \n",
      "A value is trying to be set on a copy of a slice from a DataFrame.\n",
      "Try using .loc[row_indexer,col_indexer] = value instead\n",
      "\n",
      "See the caveats in the documentation: https://pandas.pydata.org/pandas-docs/stable/user_guide/indexing.html#returning-a-view-versus-a-copy\n",
      "  x_tr['is_male'] = np.where(x_tr['gender_of_respondent'] == 'Male',1,0)\n"
     ]
    }
   ],
   "source": [
    "x_tr['is_urban'] = np.where(x_tr['location_type'] == 'Urban',1,0)\n",
    "x_tr['cellphone'] = np.where(x_tr['cellphone_access'] == 'Yes',1,0)\n",
    "x_tr['is_male'] = np.where(x_tr['gender_of_respondent'] == 'Male',1,0)"
   ]
  },
  {
   "cell_type": "code",
   "execution_count": 128,
   "metadata": {},
   "outputs": [],
   "source": [
    "x_tr_cont = x_tr[['year','household_size','age_of_respondent','is_urban','cellphone','is_male']]\n",
    "x_tr_cat = x_tr[['country','relationship_with_head', 'marital_status','education_level', 'job_type']]"
   ]
  },
  {
   "cell_type": "code",
   "execution_count": 129,
   "metadata": {},
   "outputs": [
    {
     "name": "stderr",
     "output_type": "stream",
     "text": [
      "/Users/tawneykirkland/opt/anaconda3/lib/python3.8/site-packages/pandas/core/indexing.py:670: SettingWithCopyWarning: \n",
      "A value is trying to be set on a copy of a slice from a DataFrame\n",
      "\n",
      "See the caveats in the documentation: https://pandas.pydata.org/pandas-docs/stable/user_guide/indexing.html#returning-a-view-versus-a-copy\n",
      "  iloc._setitem_with_indexer(indexer, value)\n",
      "<ipython-input-129-fd79ac22a8b3>:2: SettingWithCopyWarning: \n",
      "A value is trying to be set on a copy of a slice from a DataFrame\n",
      "\n",
      "See the caveats in the documentation: https://pandas.pydata.org/pandas-docs/stable/user_guide/indexing.html#returning-a-view-versus-a-copy\n",
      "  x_tr_cat.loc[x_tr_cat['marital_status'] == 'Dont know', ['marital_status']] = 'Single/Never Married'\n",
      "<ipython-input-129-fd79ac22a8b3>:3: SettingWithCopyWarning: \n",
      "A value is trying to be set on a copy of a slice from a DataFrame\n",
      "\n",
      "See the caveats in the documentation: https://pandas.pydata.org/pandas-docs/stable/user_guide/indexing.html#returning-a-view-versus-a-copy\n",
      "  x_tr_cat.loc[x_tr_cat['education_level'] == 'Other/Dont know/RTA', ['education_level']] = 'No formal education'\n",
      "<ipython-input-129-fd79ac22a8b3>:4: SettingWithCopyWarning: \n",
      "A value is trying to be set on a copy of a slice from a DataFrame\n",
      "\n",
      "See the caveats in the documentation: https://pandas.pydata.org/pandas-docs/stable/user_guide/indexing.html#returning-a-view-versus-a-copy\n",
      "  x_tr_cat.loc[x_tr_cat['job_type'] == 'Dont Know/Refuse to answer', ['job_type']] = 'No Income'\n",
      "<ipython-input-129-fd79ac22a8b3>:5: SettingWithCopyWarning: \n",
      "A value is trying to be set on a copy of a slice from a DataFrame\n",
      "\n",
      "See the caveats in the documentation: https://pandas.pydata.org/pandas-docs/stable/user_guide/indexing.html#returning-a-view-versus-a-copy\n",
      "  x_tr_cat.loc[x_tr_cat['relationship_with_head'] == 'Other non-relatives', ['relationship_with_head']] = 'Other relative'\n"
     ]
    }
   ],
   "source": [
    "# Regroup to reduce number of categories\n",
    "x_tr_cat.loc[x_tr_cat['marital_status'] == 'Dont know', ['marital_status']] = 'Single/Never Married'\n",
    "x_tr_cat.loc[x_tr_cat['education_level'] == 'Other/Dont know/RTA', ['education_level']] = 'No formal education'\n",
    "x_tr_cat.loc[x_tr_cat['job_type'] == 'Dont Know/Refuse to answer', ['job_type']] = 'No Income'\n",
    "x_tr_cat.loc[x_tr_cat['relationship_with_head'] == 'Other non-relatives', ['relationship_with_head']] = 'Other relative'"
   ]
  },
  {
   "cell_type": "code",
   "execution_count": 130,
   "metadata": {
    "scrolled": true
   },
   "outputs": [],
   "source": [
    "ohe = OneHotEncoder(drop='first', sparse=False)\n",
    "\n",
    "ohe.fit(x_tr_cat)\n",
    "\n",
    "ohe_x_train = ohe.transform(x_tr_cat)\n",
    "\n",
    "columns = ohe.get_feature_names(['county','relationship_with_head', 'marital_status',\n",
    "       'education_level', 'job_type'])\n",
    "\n",
    "ohe_x_tr_df = pd.DataFrame(ohe_x_train, columns=columns, index=x_tr.index)"
   ]
  },
  {
   "cell_type": "code",
   "execution_count": 131,
   "metadata": {},
   "outputs": [],
   "source": [
    "combo_train_df = pd.concat([x_tr_cont, ohe_x_tr_df], axis=1)"
   ]
  },
  {
   "cell_type": "code",
   "execution_count": 132,
   "metadata": {},
   "outputs": [
    {
     "data": {
      "text/plain": [
       "Index(['year', 'household_size', 'age_of_respondent', 'is_urban', 'cellphone',\n",
       "       'is_male', 'county_Rwanda', 'county_Tanzania', 'county_Uganda',\n",
       "       'relationship_with_head_Head of Household',\n",
       "       'relationship_with_head_Other relative',\n",
       "       'relationship_with_head_Parent', 'relationship_with_head_Spouse',\n",
       "       'marital_status_Married/Living together',\n",
       "       'marital_status_Single/Never Married', 'marital_status_Widowed',\n",
       "       'education_level_Primary education',\n",
       "       'education_level_Secondary education',\n",
       "       'education_level_Tertiary education',\n",
       "       'education_level_Vocational/Specialised training',\n",
       "       'job_type_Formally employed Government',\n",
       "       'job_type_Formally employed Private', 'job_type_Government Dependent',\n",
       "       'job_type_Informally employed', 'job_type_No Income',\n",
       "       'job_type_Other Income', 'job_type_Remittance Dependent',\n",
       "       'job_type_Self employed'],\n",
       "      dtype='object')"
      ]
     },
     "execution_count": 132,
     "metadata": {},
     "output_type": "execute_result"
    }
   ],
   "source": [
    "combo_train_df.columns"
   ]
  },
  {
   "cell_type": "code",
   "execution_count": 133,
   "metadata": {},
   "outputs": [
    {
     "data": {
      "text/plain": [
       "6075.0"
      ]
     },
     "execution_count": 133,
     "metadata": {},
     "output_type": "execute_result"
    }
   ],
   "source": [
    "combo_train_df['marital_status_Single/Never Married'].sum()"
   ]
  },
  {
   "cell_type": "code",
   "execution_count": 134,
   "metadata": {
    "scrolled": true
   },
   "outputs": [
    {
     "name": "stderr",
     "output_type": "stream",
     "text": [
      "<ipython-input-134-b1430f2c33c5>:2: SettingWithCopyWarning: \n",
      "A value is trying to be set on a copy of a slice from a DataFrame.\n",
      "Try using .loc[row_indexer,col_indexer] = value instead\n",
      "\n",
      "See the caveats in the documentation: https://pandas.pydata.org/pandas-docs/stable/user_guide/indexing.html#returning-a-view-versus-a-copy\n",
      "  y_tr['bank_acc'] = np.where(y_tr['bank_account'] == 'Yes', 1,0)\n"
     ]
    }
   ],
   "source": [
    "# Create dummy variable for bank account\n",
    "y_tr['bank_acc'] = np.where(y_tr['bank_account'] == 'Yes', 1,0)"
   ]
  },
  {
   "cell_type": "code",
   "execution_count": 135,
   "metadata": {},
   "outputs": [],
   "source": [
    "x_train, x_val, y_train, y_val = train_test_split(combo_train_df, y_tr, test_size=.20, random_state=11)"
   ]
  },
  {
   "cell_type": "code",
   "execution_count": 136,
   "metadata": {
    "scrolled": true
   },
   "outputs": [
    {
     "name": "stderr",
     "output_type": "stream",
     "text": [
      "/Users/tawneykirkland/opt/anaconda3/lib/python3.8/site-packages/pandas/core/frame.py:4163: SettingWithCopyWarning: \n",
      "A value is trying to be set on a copy of a slice from a DataFrame\n",
      "\n",
      "See the caveats in the documentation: https://pandas.pydata.org/pandas-docs/stable/user_guide/indexing.html#returning-a-view-versus-a-copy\n",
      "  return super().drop(\n"
     ]
    }
   ],
   "source": [
    "y_train.drop(columns='bank_account',inplace=True)\n",
    "y_val.drop(columns='bank_account',inplace=True)"
   ]
  },
  {
   "cell_type": "code",
   "execution_count": 137,
   "metadata": {
    "scrolled": true
   },
   "outputs": [
    {
     "data": {
      "image/png": "[encoded data removed]",
      "text/plain": [
       "<Figure size 432x288 with 1 Axes>"
      ]
     },
     "metadata": {
      "needs_background": "light"
     },
     "output_type": "display_data"
    }
   ],
   "source": [
    "sns.countplot(x='bank_acc', data=y_train)\n",
    "plt.title('Bank account holding status',family='arial',fontsize=16)\n",
    "plt.xlabel('Bank account')\n",
    "plt.ylabel('Count')\n",
    "plt.show;"
   ]
  },
  {
   "cell_type": "code",
   "execution_count": 138,
   "metadata": {},
   "outputs": [
    {
     "name": "stdout",
     "output_type": "stream",
     "text": [
      "percentage of no account: 85.9288649567805\n",
      "percentage of account 14.071135043219499\n"
     ]
    }
   ],
   "source": [
    "count_no_acc = len(y_train[y_train['bank_acc']==0])\n",
    "count_acc = len(y_train[y_train['bank_acc']==1])\n",
    "pct_of_no_acc = count_no_acc/(count_no_acc+count_acc)\n",
    "print(\"percentage of no account:\", pct_of_no_acc*100)\n",
    "pct_of_acc = count_acc/(count_no_acc+count_acc)\n",
    "print(\"percentage of account\", pct_of_acc*100)"
   ]
  },
  {
   "cell_type": "markdown",
   "metadata": {},
   "source": [
    "Classes are __very imbalanced__ - how to deal with this?"
   ]
  },
  {
   "cell_type": "code",
   "execution_count": 139,
   "metadata": {},
   "outputs": [],
   "source": [
    "df_train = pd.concat([x_train,y_train],axis=1)\n",
    "df_val = pd.concat([x_val,y_val],axis=1)"
   ]
  },
  {
   "cell_type": "code",
   "execution_count": 140,
   "metadata": {},
   "outputs": [],
   "source": [
    "# Create dateframes to use for visualisations\n",
    "df_vis_cont = pd.concat([x_tr_cont,y_tr],axis=1)\n",
    "df_vis_cat = pd.concat([ohe_x_tr_df,y_tr],axis=1)"
   ]
  },
  {
   "cell_type": "code",
   "execution_count": 141,
   "metadata": {
    "scrolled": true
   },
   "outputs": [
    {
     "data": {
      "image/png": "[encoded data removed]",
      "text/plain": [
       "<Figure size 1080x1080 with 2 Axes>"
      ]
     },
     "metadata": {
      "needs_background": "light"
     },
     "output_type": "display_data"
    }
   ],
   "source": [
    "fig, ax = plt.subplots(figsize=(15, 15))\n",
    "sns.heatmap(df_train.corr(), cmap=\"seismic\", vmin=-1, vmax=1, ax=ax);"
   ]
  },
  {
   "cell_type": "code",
   "execution_count": 142,
   "metadata": {
    "scrolled": true
   },
   "outputs": [],
   "source": [
    "#fig, ax = plt.subplots(figsize=(15, 15))\n",
    "#pd.plotting.scatter_matrix(df_vis_cont[df_vis_cont.columns[0:]], ax=ax);"
   ]
  },
  {
   "cell_type": "markdown",
   "metadata": {},
   "source": [
    "## Simple logistic regression\n",
    "\n",
    "Testing with a single variable: is_male"
   ]
  },
  {
   "cell_type": "code",
   "execution_count": 144,
   "metadata": {},
   "outputs": [
    {
     "name": "stdout",
     "output_type": "stream",
     "text": [
      "Optimization terminated successfully.\n",
      "         Current function value: 0.399382\n",
      "         Iterations 6\n"
     ]
    }
   ],
   "source": [
    "#Model on is_male first\n",
    "lm_1 = sm.Logit(df_train['bank_acc'],  # with statsmodels, `y` comes first\n",
    "                sm.add_constant(df_train[['is_male']]))  # and then `x`\n",
    "lm_1 = lm_1.fit()"
   ]
  },
  {
   "cell_type": "code",
   "execution_count": 145,
   "metadata": {},
   "outputs": [
    {
     "data": {
      "text/html": [
       "<table class=\"simpletable\">\n",
       "<caption>Logit Regression Results</caption>\n",
       "<tr>\n",
       "  <th>Dep. Variable:</th>       <td>bank_acc</td>     <th>  No. Observations:  </th>  <td> 14114</td>  \n",
       "</tr>\n",
       "<tr>\n",
       "  <th>Model:</th>                 <td>Logit</td>      <th>  Df Residuals:      </th>  <td> 14112</td>  \n",
       "</tr>\n",
       "<tr>\n",
       "  <th>Method:</th>                 <td>MLE</td>       <th>  Df Model:          </th>  <td>     1</td>  \n",
       "</tr>\n",
       "<tr>\n",
       "  <th>Date:</th>            <td>Sat, 30 Jan 2021</td> <th>  Pseudo R-squ.:     </th>  <td>0.01691</td> \n",
       "</tr>\n",
       "<tr>\n",
       "  <th>Time:</th>                <td>11:33:39</td>     <th>  Log-Likelihood:    </th> <td> -5636.9</td> \n",
       "</tr>\n",
       "<tr>\n",
       "  <th>converged:</th>             <td>True</td>       <th>  LL-Null:           </th> <td> -5733.9</td> \n",
       "</tr>\n",
       "<tr>\n",
       "  <th>Covariance Type:</th>     <td>nonrobust</td>    <th>  LLR p-value:       </th> <td>4.398e-44</td>\n",
       "</tr>\n",
       "</table>\n",
       "<table class=\"simpletable\">\n",
       "<tr>\n",
       "     <td></td>        <th>coef</th>     <th>std err</th>      <th>z</th>      <th>P>|z|</th>  <th>[0.025</th>    <th>0.975]</th>  \n",
       "</tr>\n",
       "<tr>\n",
       "  <th>const</th>   <td>   -2.1251</td> <td>    0.035</td> <td>  -60.055</td> <td> 0.000</td> <td>   -2.194</td> <td>   -2.056</td>\n",
       "</tr>\n",
       "<tr>\n",
       "  <th>is_male</th> <td>    0.6779</td> <td>    0.049</td> <td>   13.887</td> <td> 0.000</td> <td>    0.582</td> <td>    0.774</td>\n",
       "</tr>\n",
       "</table>"
      ],
      "text/plain": [
       "<class 'statsmodels.iolib.summary.Summary'>\n",
       "\"\"\"\n",
       "                           Logit Regression Results                           \n",
       "==============================================================================\n",
       "Dep. Variable:               bank_acc   No. Observations:                14114\n",
       "Model:                          Logit   Df Residuals:                    14112\n",
       "Method:                           MLE   Df Model:                            1\n",
       "Date:                Sat, 30 Jan 2021   Pseudo R-squ.:                 0.01691\n",
       "Time:                        11:33:39   Log-Likelihood:                -5636.9\n",
       "converged:                       True   LL-Null:                       -5733.9\n",
       "Covariance Type:            nonrobust   LLR p-value:                 4.398e-44\n",
       "==============================================================================\n",
       "                 coef    std err          z      P>|z|      [0.025      0.975]\n",
       "------------------------------------------------------------------------------\n",
       "const         -2.1251      0.035    -60.055      0.000      -2.194      -2.056\n",
       "is_male        0.6779      0.049     13.887      0.000       0.582       0.774\n",
       "==============================================================================\n",
       "\"\"\""
      ]
     },
     "execution_count": 145,
     "metadata": {},
     "output_type": "execute_result"
    }
   ],
   "source": [
    "lm_1.summary()"
   ]
  },
  {
   "cell_type": "code",
   "execution_count": 146,
   "metadata": {},
   "outputs": [
    {
     "data": {
      "text/plain": [
       "LogisticRegression(C=100000, solver='newton-cg')"
      ]
     },
     "execution_count": 146,
     "metadata": {},
     "output_type": "execute_result"
    }
   ],
   "source": [
    "lm_1 = LogisticRegression(solver='newton-cg',  # For comparison, use the same solver as statsmodels default\n",
    "                          C=100000)  # No regularization\n",
    "\n",
    "lm_1.fit(df_train[['is_male']], df_train['bank_acc'])"
   ]
  },
  {
   "cell_type": "code",
   "execution_count": 147,
   "metadata": {},
   "outputs": [
    {
     "name": "stdout",
     "output_type": "stream",
     "text": [
      "intercept:  -2.1251\n",
      "is_male coef:  0.6779\n"
     ]
    }
   ],
   "source": [
    "print('intercept: ', round(lm_1.intercept_[0], 4))\n",
    "print('is_male coef: ', round(lm_1.coef_[0][0], 4))"
   ]
  },
  {
   "cell_type": "code",
   "execution_count": 148,
   "metadata": {},
   "outputs": [],
   "source": [
    "df_eval = df_val.copy()\n",
    "df_eval['pred'] = lm_1.predict(df_val[['is_male']])\n",
    "df_eval.loc[:, 'pred'] = df_eval['pred'].astype('category')\n",
    "df_eval['correct_pred'] = df_eval['pred'] == df_eval['bank_acc']"
   ]
  },
  {
   "cell_type": "code",
   "execution_count": 149,
   "metadata": {},
   "outputs": [
    {
     "data": {
      "image/png": "[encoded data removed]",
      "text/plain": [
       "<Figure size 432x288 with 1 Axes>"
      ]
     },
     "metadata": {
      "needs_background": "light"
     },
     "output_type": "display_data"
    }
   ],
   "source": [
    "sns.stripplot(data=df_eval,\n",
    "              x='is_male',\n",
    "              y='pred',\n",
    "              hue='correct_pred',\n",
    "              palette={False: '#f03b20', True: '#3182bd'});"
   ]
  },
  {
   "cell_type": "code",
   "execution_count": 150,
   "metadata": {
    "scrolled": true
   },
   "outputs": [
    {
     "data": {
      "text/plain": [
       "array([[0.89331742, 0.10668258],\n",
       "       [0.80955703, 0.19044297],\n",
       "       [0.89331742, 0.10668258],\n",
       "       [0.89331742, 0.10668258],\n",
       "       [0.80955703, 0.19044297]])"
      ]
     },
     "execution_count": 150,
     "metadata": {},
     "output_type": "execute_result"
    }
   ],
   "source": [
    "lm_1.predict_proba(df_val[['is_male']])[:5]"
   ]
  },
  {
   "cell_type": "code",
   "execution_count": 151,
   "metadata": {},
   "outputs": [
    {
     "data": {
      "text/plain": [
       "array([[3037,    0],\n",
       "       [ 492,    0]])"
      ]
     },
     "execution_count": 151,
     "metadata": {},
     "output_type": "execute_result"
    }
   ],
   "source": [
    "confusion_matrix(df_eval['bank_acc'], df_eval['pred'])"
   ]
  },
  {
   "cell_type": "markdown",
   "metadata": {},
   "source": [
    "\n",
    "| | predict No account (0) | predict account (1)|\n",
    "|---|---|---|\n",
    "| **is no account (0)** | 3037 | 0|\n",
    "| **is account (1)** | 492 | 0 |"
   ]
  },
  {
   "cell_type": "markdown",
   "metadata": {},
   "source": [
    "I believe it is predicting all no account because of the following:\n",
    "* Classes are very imbalanced (85:15 no account to account)\n",
    "* One variable alone may not be sufficient enough in this instance\n",
    "* Perhaps because is_male class is also imbalanced?"
   ]
  },
  {
   "cell_type": "markdown",
   "metadata": {},
   "source": [
    "## Multiple regression\n",
    "The below analysis is a multiple logistic regression for all features \n",
    "\n",
    "__IMPORTANT NOTES__: \n",
    "* Investigate adjusting the threshold given how imbalanced the classes are.\n",
    "* Test feature interactions"
   ]
  },
  {
   "cell_type": "code",
   "execution_count": 152,
   "metadata": {},
   "outputs": [],
   "source": [
    "features = ['household_size', 'age_of_respondent', 'is_urban', 'cellphone',\n",
    "       'is_male', 'county_Rwanda', 'county_Tanzania', 'county_Uganda',\n",
    "       'relationship_with_head_Head of Household',\n",
    "       'relationship_with_head_Other relative',\n",
    "       'relationship_with_head_Parent', 'relationship_with_head_Spouse',\n",
    "       'marital_status_Married/Living together',\n",
    "       'marital_status_Single/Never Married', 'marital_status_Widowed',\n",
    "       'education_level_Primary education',\n",
    "       'education_level_Secondary education',\n",
    "       'education_level_Tertiary education',\n",
    "       'education_level_Vocational/Specialised training',\n",
    "       'job_type_Formally employed Government',\n",
    "       'job_type_Formally employed Private', 'job_type_Government Dependent',\n",
    "       'job_type_Informally employed', 'job_type_No Income',\n",
    "       'job_type_Other Income', 'job_type_Remittance Dependent',\n",
    "       'job_type_Self employed']\n",
    "\n",
    "scaler = StandardScaler()\n",
    "x_train1 = scaler.fit_transform(df_train[features])\n",
    "y_train1 = df_train['bank_acc']"
   ]
  },
  {
   "cell_type": "code",
   "execution_count": 153,
   "metadata": {
    "scrolled": true
   },
   "outputs": [
    {
     "name": "stdout",
     "output_type": "stream",
     "text": [
      "Optimization terminated successfully.\n",
      "         Current function value: 0.601423\n",
      "         Iterations 8\n",
      "                         Results: Logit\n",
      "=================================================================\n",
      "Model:              Logit            Pseudo R-squared: -0.480    \n",
      "Dependent Variable: bank_acc         AIC:              17030.9785\n",
      "Date:               2021-01-30 11:33 BIC:              17234.9614\n",
      "No. Observations:   14114            Log-Likelihood:   -8488.5   \n",
      "Df Model:           26               LL-Null:          -5733.9   \n",
      "Df Residuals:       14087            LLR p-value:      1.0000    \n",
      "Converged:          1.0000           Scale:            1.0000    \n",
      "No. Iterations:     8.0000                                       \n",
      "-------------------------------------------------------------------\n",
      "           Coef.    Std.Err.      z      P>|z|     [0.025    0.975]\n",
      "-------------------------------------------------------------------\n",
      "x1        -0.0068     0.0223   -0.3028   0.7621   -0.0505    0.0370\n",
      "x2         0.0787     0.0244    3.2231   0.0013    0.0308    0.1265\n",
      "x3         0.1034     0.0224    4.6097   0.0000    0.0594    0.1473\n",
      "x4         0.1353     0.0203    6.6619   0.0000    0.0955    0.1752\n",
      "x5         0.0952     0.0245    3.8840   0.0001    0.0471    0.1432\n",
      "x6        -0.0963     0.0243   -3.9638   0.0001   -0.1439   -0.0487\n",
      "x7        -0.2940     0.0309   -9.5030   0.0000   -0.3547   -0.2334\n",
      "x8        -0.1850     0.0246   -7.5107   0.0000   -0.2332   -0.1367\n",
      "x9         0.1976     0.0426    4.6408   0.0000    0.1141    0.2811\n",
      "x10       -0.0078     0.0226   -0.3453   0.7299   -0.0520    0.0364\n",
      "x11        0.0151     0.0245    0.6155   0.5382   -0.0330    0.0632\n",
      "x12        0.1349     0.0412    3.2760   0.0011    0.0542    0.2156\n",
      "x13        0.0511     0.0410    1.2461   0.2127   -0.0293    0.1315\n",
      "x14        0.0058     0.0359    0.1622   0.8712   -0.0646    0.0763\n",
      "x15        0.0182     0.0303    0.5990   0.5492   -0.0413    0.0777\n",
      "x16        0.1042     0.0263    3.9635   0.0001    0.0527    0.1558\n",
      "x17        0.2727     0.0262   10.4123   0.0000    0.2214    0.3240\n",
      "x18        0.4378     0.0249   17.6147   0.0000    0.3891    0.4865\n",
      "x19        0.3324     0.0248   13.3898   0.0000    0.2837    0.3811\n",
      "x20        3.3248     0.1484   22.4074   0.0000    3.0340    3.6156\n",
      "x21        0.3438     0.0257   13.4003   0.0000    0.2935    0.3941\n",
      "x22        0.0522     0.0181    2.8747   0.0040    0.0166    0.0877\n",
      "x23       -0.0403     0.0237   -1.7031   0.0885   -0.0867    0.0061\n",
      "x24        0.0220     0.0221    0.9954   0.3196   -0.0213    0.0654\n",
      "x25        0.0747     0.0215    3.4797   0.0005    0.0326    0.1167\n",
      "x26       -0.0346     0.0229   -1.5076   0.1317   -0.0795    0.0104\n",
      "x27        0.1162     0.0295    3.9411   0.0001    0.0584    0.1740\n",
      "=================================================================\n",
      "\n"
     ]
    }
   ],
   "source": [
    "logit_model=sm.Logit(y_train1,x_train1)\n",
    "result=logit_model.fit()\n",
    "print(result.summary2())"
   ]
  },
  {
   "cell_type": "markdown",
   "metadata": {},
   "source": [
    "The below analysis includes all features. Thereafter the analyses remove insignificant features one by one."
   ]
  },
  {
   "cell_type": "code",
   "execution_count": 154,
   "metadata": {},
   "outputs": [
    {
     "name": "stdout",
     "output_type": "stream",
     "text": [
      "Accuracy of logistic regression classifier on val set: 0.89\n"
     ]
    }
   ],
   "source": [
    "lm_2 = LogisticRegression()\n",
    "lm_2.fit(x_train1, y_train1)\n",
    "\n",
    "x_val1 = scaler.transform(df_val[features])\n",
    "preds = lm_2.predict(x_val1)\n",
    "print('Accuracy of logistic regression classifier on val set: {:.2f}'.format(lm_2.score(x_val1, y_val)))"
   ]
  },
  {
   "cell_type": "code",
   "execution_count": 155,
   "metadata": {},
   "outputs": [],
   "source": [
    "import sys\n",
    "np.set_printoptions(threshold=sys.maxsize)"
   ]
  },
  {
   "cell_type": "code",
   "execution_count": 156,
   "metadata": {},
   "outputs": [],
   "source": [
    "y_prob = lm_2.predict_proba(x_val[features])"
   ]
  },
  {
   "cell_type": "code",
   "execution_count": 157,
   "metadata": {
    "scrolled": true
   },
   "outputs": [
    {
     "data": {
      "text/plain": [
       "array([[2958,   79],\n",
       "       [ 324,  168]])"
      ]
     },
     "execution_count": 157,
     "metadata": {},
     "output_type": "execute_result"
    }
   ],
   "source": [
    "confusion_matrix(df_val['bank_acc'], \n",
    "                 preds)"
   ]
  },
  {
   "cell_type": "markdown",
   "metadata": {},
   "source": [
    "\n",
    "| | predict No account (0) | predict account (1)|\n",
    "|---|---|---|\n",
    "| **is no account (0)** | 2958 | 79|\n",
    "| **is account (1)** | 324 | 168 |"
   ]
  },
  {
   "cell_type": "markdown",
   "metadata": {},
   "source": [
    "Need to understand and decide on the __trade off between recall and precision__\n",
    "\n",
    "Precision is the number of observations predicted positive over the total actual positives. The precision is intuitively the ability of the classifier to not label a sample as positive if it is negative.\n",
    "\n",
    "The recall is the number of actually positive observations over the number predicted positive. The recall is intuitively the ability of the classifier to find all the positive samples."
   ]
  },
  {
   "cell_type": "code",
   "execution_count": 158,
   "metadata": {
    "scrolled": true
   },
   "outputs": [
    {
     "name": "stdout",
     "output_type": "stream",
     "text": [
      "              precision    recall  f1-score   support\n",
      "\n",
      "           0       0.90      0.97      0.94      3037\n",
      "           1       0.68      0.34      0.45       492\n",
      "\n",
      "    accuracy                           0.89      3529\n",
      "   macro avg       0.79      0.66      0.70      3529\n",
      "weighted avg       0.87      0.89      0.87      3529\n",
      "\n"
     ]
    }
   ],
   "source": [
    "from sklearn.metrics import classification_report\n",
    "print(classification_report(y_val, preds))"
   ]
  },
  {
   "cell_type": "code",
   "execution_count": 159,
   "metadata": {},
   "outputs": [],
   "source": [
    "df_val['proba_bank'] = lm_2.predict_proba(df_val[['household_size', 'age_of_respondent', 'is_urban', 'cellphone',\n",
    "       'is_male', 'county_Rwanda', 'county_Tanzania', 'county_Uganda',\n",
    "       'relationship_with_head_Head of Household',\n",
    "       'relationship_with_head_Other relative',\n",
    "       'relationship_with_head_Parent', 'relationship_with_head_Spouse',\n",
    "       'marital_status_Married/Living together',\n",
    "       'marital_status_Single/Never Married', 'marital_status_Widowed',\n",
    "       'education_level_Primary education',\n",
    "       'education_level_Secondary education',\n",
    "       'education_level_Tertiary education',\n",
    "       'education_level_Vocational/Specialised training',\n",
    "       'job_type_Formally employed Government',\n",
    "       'job_type_Formally employed Private', 'job_type_Government Dependent',\n",
    "       'job_type_Informally employed', 'job_type_No Income',\n",
    "       'job_type_Other Income', 'job_type_Remittance Dependent',\n",
    "       'job_type_Self employed']])[:, 1]\n",
    "\n",
    "fpr, tpr, thresholds = roc_curve(df_val['bank_acc'],\n",
    "                                 df_val['proba_bank'])"
   ]
  },
  {
   "cell_type": "code",
   "execution_count": 160,
   "metadata": {},
   "outputs": [],
   "source": [
    "def plot_roc(true, probas):\n",
    "    auc = roc_auc_score(true, probas)\n",
    "\n",
    "    plt.plot(fpr, tpr, marker='o')\n",
    "    plt.xlabel('1 - Specificity (FPR)')\n",
    "    plt.ylabel('Sensitivity (TPR)');\n",
    "    plt.title(f\"Area Under the ROC Curve: {round(auc, 3)}\");"
   ]
  },
  {
   "cell_type": "code",
   "execution_count": 161,
   "metadata": {
    "scrolled": false
   },
   "outputs": [
    {
     "data": {
      "image/png": "[encoded data removed]",
      "text/plain": [
       "<Figure size 432x288 with 1 Axes>"
      ]
     },
     "metadata": {
      "needs_background": "light"
     },
     "output_type": "display_data"
    }
   ],
   "source": [
    "plot_roc(df_val['bank_acc'], lm_2.predict_proba(x_val1)[:, 1]) # new Y's would go here"
   ]
  },
  {
   "cell_type": "markdown",
   "metadata": {},
   "source": [
    "## Adjusting threshold"
   ]
  },
  {
   "cell_type": "code",
   "execution_count": 162,
   "metadata": {},
   "outputs": [
    {
     "data": {
      "text/plain": [
       "array([0, 0, 0, 0, 0, 0, 0, 0, 0, 0, 0, 0, 0, 0, 0, 0, 0, 0, 0, 0, 0, 0,\n",
       "       0, 0, 0, 0, 0, 0, 0, 0, 0, 0, 0, 0, 0, 0, 0, 0, 0, 0, 0, 0, 0, 0,\n",
       "       0, 0, 0, 0, 0, 0, 0, 0, 0, 0, 0, 0, 1, 0, 0, 0, 0, 0, 0, 0, 0, 0,\n",
       "       0, 0, 0, 0, 0, 0, 0, 0, 0, 1, 1, 0, 0, 0, 0, 0, 0, 0, 0, 0, 0, 0,\n",
       "       0, 0, 0, 0, 0, 0, 0, 0, 0, 0, 0, 0, 0, 0, 0, 0, 0, 1, 0, 0, 0, 0,\n",
       "       0, 0, 0, 0, 0, 1, 0, 0, 0, 0, 0, 0, 0, 0, 0, 0, 0, 0, 0, 0, 0, 0,\n",
       "       0, 0, 0, 0, 0, 0, 0, 0, 0, 0, 0, 0, 0, 0, 0, 0, 0, 0, 0, 0, 0, 0,\n",
       "       0, 0, 0, 0, 0, 0, 0, 0, 0, 0, 0, 0, 0, 0, 0, 0, 0, 0, 0, 0, 0, 0,\n",
       "       0, 0, 0, 0, 0, 0, 0, 0, 0, 0, 0, 0, 0, 0, 0, 0, 0, 0, 0, 0, 0, 0,\n",
       "       0, 0, 0, 0, 0, 0, 0, 0, 0, 0, 0, 0, 0, 0, 0, 0, 0, 0, 0, 0, 0, 0,\n",
       "       0, 0, 0, 0, 0, 0, 0, 0, 0, 0, 0, 0, 0, 0, 0, 0, 0, 0, 0, 0, 0, 0,\n",
       "       0, 0, 0, 0, 0, 0, 0, 0, 0, 0, 0, 0, 0, 0, 0, 0, 0, 0, 0, 0, 0, 0,\n",
       "       0, 0, 0, 0, 0, 0, 0, 0, 0, 0, 0, 0, 0, 0, 0, 0, 0, 0, 0, 0, 0, 0,\n",
       "       0, 0, 0, 0, 0, 0, 0, 0, 0, 0, 0, 0, 0, 0, 0, 0, 0, 0, 0, 0, 0, 0,\n",
       "       0, 0, 0, 0, 0, 0, 0, 0, 0, 0, 0, 0, 0, 0, 0, 0, 0, 0, 0, 0, 0, 0,\n",
       "       0, 0, 0, 0, 0, 0, 0, 0, 0, 0, 0, 0, 0, 0, 0, 0, 0, 0, 0, 0, 0, 0,\n",
       "       0, 0, 0, 0, 0, 0, 0, 0, 0, 0, 0, 0, 0, 0, 0, 0, 0, 0, 0, 0, 0, 0,\n",
       "       0, 0, 0, 0, 0, 0, 0, 0, 0, 0, 0, 0, 0, 0, 0, 0, 0, 0, 0, 0, 0, 0,\n",
       "       0, 0, 0, 0, 0, 0, 0, 0, 0, 0, 0, 0, 0, 0, 0, 0, 0, 0, 0, 0, 0, 0,\n",
       "       0, 0, 0, 0, 0, 0, 0, 0, 0, 0, 0, 0, 0, 0, 0, 0, 0, 0, 0, 0, 0, 0,\n",
       "       0, 0, 0, 0, 0, 0, 0, 0, 0, 0, 0, 0, 0, 0, 0, 0, 0, 0, 0, 0, 0, 0,\n",
       "       0, 0, 0, 0, 0, 0, 0, 0, 0, 0, 0, 0, 0, 0, 0, 0, 0, 0, 0, 0, 0, 1,\n",
       "       0, 0, 0, 0, 0, 1, 0, 0, 0, 0, 0, 0, 0, 0, 0, 0, 0, 0, 0, 0, 0, 0,\n",
       "       0, 0, 0, 0, 0, 0, 0, 0, 0, 0, 0, 0, 0, 0, 0, 0, 0, 0, 0, 0, 0, 0,\n",
       "       0, 0, 0, 0, 0, 0, 0, 0, 0, 0, 0, 0, 0, 0, 0, 0, 0, 0, 0, 0, 0, 0,\n",
       "       0, 0, 0, 0, 0, 0, 0, 0, 0, 0, 0, 0, 0, 0, 0, 0, 0, 0, 0, 0, 0, 0,\n",
       "       0, 0, 0, 0, 0, 0, 0, 0, 0, 0, 0, 0, 0, 0, 0, 0, 0, 0, 0, 0, 0, 0,\n",
       "       0, 0, 0, 0, 0, 0, 0, 0, 0, 0, 0, 0, 0, 0, 0, 0, 0, 0, 0, 0, 0, 0,\n",
       "       0, 0, 0, 0, 0, 0, 0, 0, 0, 0, 0, 0, 0, 0, 1, 0, 0, 0, 0, 0, 0, 0,\n",
       "       0, 0, 0, 0, 0, 0, 0, 0, 0, 0, 0, 0, 0, 0, 0, 0, 0, 1, 0, 0, 0, 0,\n",
       "       0, 0, 0, 0, 0, 0, 0, 0, 0, 0, 0, 0, 0, 0, 0, 0, 0, 0, 0, 0, 0, 0,\n",
       "       0, 0, 0, 0, 0, 0, 0, 0, 0, 0, 0, 0, 0, 0, 0, 0, 0, 0, 0, 0, 0, 0,\n",
       "       0, 0, 0, 0, 0, 0, 0, 0, 0, 0, 0, 0, 0, 0, 0, 0, 0, 0, 0, 0, 0, 0,\n",
       "       0, 0, 0, 0, 0, 0, 0, 0, 0, 1, 0, 0, 0, 0, 0, 0, 0, 0, 0, 0, 0, 0,\n",
       "       0, 0, 0, 0, 0, 0, 0, 0, 0, 0, 0, 0, 0, 0, 0, 0, 0, 0, 0, 0, 0, 0,\n",
       "       0, 0, 0, 0, 0, 0, 0, 0, 0, 0, 0, 0, 0, 0, 0, 0, 0, 0, 0, 0, 0, 0,\n",
       "       0, 0, 0, 0, 0, 0, 0, 0, 0, 0, 0, 0, 0, 0, 0, 0, 0, 0, 0, 0, 0, 0,\n",
       "       0, 0, 0, 0, 1, 0, 0, 0, 0, 0, 0, 0, 0, 0, 0, 0, 0, 0, 0, 0, 0, 0,\n",
       "       0, 0, 0, 0, 0, 0, 0, 1, 0, 0, 0, 0, 0, 0, 0, 0, 0, 0, 0, 0, 0, 0,\n",
       "       0, 0, 0, 0, 0, 0, 0, 0, 0, 0, 0, 0, 0, 0, 0, 0, 0, 0, 0, 0, 0, 0,\n",
       "       0, 0, 0, 0, 1, 0, 0, 0, 0, 0, 0, 0, 0, 0, 0, 0, 0, 0, 0, 0, 0, 0,\n",
       "       0, 0, 0, 0, 0, 0, 0, 0, 0, 0, 0, 0, 0, 0, 0, 0, 0, 0, 0, 0, 0, 0,\n",
       "       0, 0, 0, 0, 0, 0, 0, 0, 0, 0, 0, 0, 0, 0, 0, 0, 0, 0, 0, 0, 0, 0,\n",
       "       0, 0, 0, 0, 0, 0, 0, 0, 0, 0, 0, 0, 1, 0, 0, 0, 0, 0, 0, 0, 0, 0,\n",
       "       0, 0, 0, 0, 0, 0, 0, 0, 0, 0, 0, 0, 0, 0, 0, 0, 0, 0, 0, 0, 0, 0,\n",
       "       0, 0, 0, 0, 0, 0, 0, 0, 0, 0, 0, 0, 0, 0, 0, 0, 0, 0, 0, 0, 0, 0,\n",
       "       0, 0, 0, 0, 0, 0, 0, 0, 0, 0, 0, 0, 0, 0, 0, 0, 0, 0, 0, 0, 0, 0,\n",
       "       0, 0, 0, 0, 0, 0, 0, 0, 0, 0, 0, 0, 0, 0, 0, 0, 0, 0, 0, 0, 0, 0,\n",
       "       0, 0, 0, 0, 0, 0, 0, 0, 0, 0, 0, 0, 1, 0, 0, 0, 0, 0, 0, 0, 0, 0,\n",
       "       0, 0, 0, 0, 0, 0, 0, 0, 0, 0, 0, 0, 0, 0, 1, 0, 0, 0, 0, 0, 0, 0,\n",
       "       0, 0, 0, 0, 0, 0, 0, 0, 0, 0, 0, 0, 0, 0, 0, 0, 0, 0, 0, 0, 0, 0,\n",
       "       0, 0, 0, 0, 0, 0, 0, 0, 0, 0, 0, 0, 0, 0, 0, 0, 0, 0, 0, 0, 0, 0,\n",
       "       0, 0, 0, 0, 0, 0, 0, 0, 0, 0, 0, 0, 0, 0, 0, 0, 0, 0, 0, 0, 0, 0,\n",
       "       0, 0, 0, 0, 0, 0, 0, 0, 0, 0, 0, 0, 0, 0, 0, 0, 0, 0, 0, 0, 0, 0,\n",
       "       0, 0, 0, 0, 0, 0, 0, 0, 0, 0, 0, 0, 0, 0, 0, 0, 0, 0, 0, 0, 0, 0,\n",
       "       0, 0, 0, 0, 0, 0, 0, 0, 0, 0, 0, 0, 0, 0, 0, 0, 0, 0, 0, 0, 0, 0,\n",
       "       0, 0, 0, 0, 0, 0, 0, 0, 0, 0, 0, 0, 0, 0, 0, 0, 0, 0, 0, 0, 0, 0,\n",
       "       0, 0, 0, 0, 0, 0, 0, 0, 0, 0, 0, 0, 0, 0, 0, 0, 0, 0, 0, 0, 0, 0,\n",
       "       0, 0, 0, 0, 0, 0, 0, 0, 0, 0, 0, 0, 0, 0, 0, 0, 0, 0, 0, 0, 0, 0,\n",
       "       0, 0, 0, 0, 0, 0, 0, 0, 0, 0, 0, 0, 0, 0, 0, 0, 0, 0, 0, 0, 0, 0,\n",
       "       0, 0, 0, 0, 0, 0, 0, 0, 0, 0, 0, 0, 0, 0, 0, 0, 0, 0, 0, 0, 0, 0,\n",
       "       0, 0, 0, 0, 0, 0, 0, 0, 0, 0, 0, 0, 0, 0, 0, 0, 0, 0, 0, 0, 0, 0,\n",
       "       0, 0, 0, 0, 0, 0, 0, 0, 0, 0, 0, 0, 0, 0, 0, 0, 0, 0, 0, 0, 0, 0,\n",
       "       0, 0, 0, 0, 0, 0, 0, 0, 0, 0, 0, 0, 0, 0, 0, 0, 0, 0, 0, 0, 0, 0,\n",
       "       0, 0, 0, 0, 0, 0, 0, 0, 0, 0, 0, 0, 0, 0, 0, 0, 0, 0, 0, 0, 0, 0,\n",
       "       0, 0, 0, 0, 0, 0, 0, 0, 0, 0, 1, 0, 0, 0, 0, 0, 0, 0, 0, 0, 0, 0,\n",
       "       0, 0, 0, 0, 0, 0, 0, 0, 0, 0, 0, 0, 0, 0, 0, 0, 0, 0, 0, 0, 0, 0,\n",
       "       0, 0, 0, 0, 0, 0, 0, 0, 0, 0, 0, 0, 0, 0, 0, 0, 0, 0, 0, 0, 0, 0,\n",
       "       0, 0, 0, 0, 0, 0, 0, 0, 0, 1, 0, 0, 0, 0, 0, 0, 0, 0, 0, 0, 0, 0,\n",
       "       0, 0, 0, 0, 0, 0, 0, 0, 0, 0, 0, 0, 0, 0, 0, 0, 0, 0, 0, 0, 0, 0,\n",
       "       0, 0, 0, 0, 0, 0, 0, 1, 1, 0, 0, 0, 0, 0, 0, 0, 0, 0, 0, 0, 0, 0,\n",
       "       0, 0, 0, 0, 0, 0, 0, 0, 0, 0, 0, 0, 0, 0, 0, 0, 0, 0, 0, 0, 0, 0,\n",
       "       0, 0, 0, 0, 0, 0, 0, 0, 0, 0, 0, 0, 0, 0, 0, 0, 0, 0, 0, 0, 0, 0,\n",
       "       0, 0, 0, 0, 0, 0, 0, 0, 0, 0, 0, 0, 0, 0, 0, 0, 0, 0, 0, 0, 0, 0,\n",
       "       0, 0, 0, 0, 0, 0, 0, 0, 0, 0, 0, 0, 0, 0, 0, 0, 0, 0, 0, 0, 0, 0,\n",
       "       0, 0, 0, 0, 0, 0, 0, 0, 0, 0, 0, 0, 0, 0, 0, 0, 0, 0, 0, 0, 0, 0,\n",
       "       0, 0, 0, 0, 0, 0, 0, 0, 0, 0, 0, 0, 0, 0, 0, 0, 0, 0, 0, 0, 0, 0,\n",
       "       0, 1, 0, 0, 0, 0, 0, 1, 0, 0, 0, 0, 1, 0, 0, 0, 0, 0, 0, 0, 0, 0,\n",
       "       0, 0, 1, 0, 0, 0, 0, 0, 0, 0, 0, 0, 0, 0, 0, 0, 0, 0, 0, 0, 0, 0,\n",
       "       0, 0, 0, 0, 0, 0, 0, 0, 0, 0, 0, 0, 0, 0, 0, 0, 0, 0, 1, 0, 0, 0,\n",
       "       0, 0, 0, 0, 0, 0, 0, 0, 0, 0, 0, 0, 0, 0, 0, 0, 0, 0, 0, 0, 0, 0,\n",
       "       0, 0, 0, 0, 0, 0, 0, 0, 0, 0, 0, 1, 0, 1, 0, 0, 0, 0, 0, 0, 0, 0,\n",
       "       0, 0, 0, 0, 0, 0, 0, 0, 0, 0, 0, 0, 0, 0, 0, 0, 0, 0, 0, 0, 0, 0,\n",
       "       0, 0, 0, 0, 0, 0, 0, 0, 0, 0, 0, 0, 0, 0, 0, 0, 0, 0, 0, 0, 0, 0,\n",
       "       0, 0, 0, 0, 0, 0, 0, 0, 0, 0, 0, 0, 0, 0, 0, 0, 0, 0, 0, 0, 0, 0,\n",
       "       0, 0, 0, 0, 0, 0, 0, 0, 0, 0, 0, 0, 0, 0, 0, 0, 0, 0, 0, 0, 0, 0,\n",
       "       0, 0, 0, 0, 0, 0, 0, 0, 0, 0, 0, 0, 0, 1, 0, 0, 0, 0, 0, 0, 0, 0,\n",
       "       0, 0, 0, 1, 1, 0, 0, 0, 0, 0, 0, 0, 0, 0, 0, 0, 0, 0, 0, 0, 0, 0,\n",
       "       0, 0, 0, 0, 0, 0, 0, 0, 0, 0, 0, 0, 0, 0, 0, 0, 0, 0, 0, 0, 0, 0,\n",
       "       0, 0, 0, 0, 0, 0, 0, 0, 0, 0, 0, 0, 0, 0, 0, 0, 0, 0, 0, 0, 0, 0,\n",
       "       0, 0, 0, 0, 0, 0, 0, 0, 0, 0, 0, 0, 0, 0, 0, 0, 0, 0, 0, 0, 0, 0,\n",
       "       0, 0, 0, 0, 0, 0, 0, 0, 1, 0, 0, 0, 0, 0, 0, 0, 0, 0, 0, 0, 0, 0,\n",
       "       0, 0, 0, 0, 0, 0, 0, 0, 0, 0, 0, 0, 0, 0, 1, 0, 0, 0, 0, 0, 0, 0,\n",
       "       0, 0, 0, 0, 0, 0, 0, 0, 0, 0, 0, 0, 0, 0, 0, 0, 0, 0, 0, 0, 0, 0,\n",
       "       0, 0, 0, 0, 0, 0, 0, 0, 0, 0, 0, 0, 0, 0, 0, 0, 0, 0, 0, 0, 0, 0,\n",
       "       0, 0, 0, 0, 0, 0, 0, 0, 0, 0, 0, 0, 0, 0, 0, 0, 0, 0, 0, 0, 0, 0,\n",
       "       0, 0, 0, 0, 0, 0, 0, 0, 0, 0, 1, 0, 0, 0, 0, 0, 1, 0, 0, 0, 0, 0,\n",
       "       0, 0, 0, 0, 0, 0, 0, 0, 0, 0, 0, 0, 0, 0, 0, 0, 0, 0, 0, 0, 0, 0,\n",
       "       0, 0, 0, 0, 0, 0, 0, 0, 0, 0, 0, 0, 0, 0, 0, 0, 0, 0, 0, 0, 0, 0,\n",
       "       0, 0, 0, 0, 0, 0, 0, 0, 0, 0, 0, 0, 0, 0, 0, 0, 0, 0, 0, 0, 0, 0,\n",
       "       0, 0, 0, 0, 0, 0, 0, 0, 0, 0, 0, 0, 0, 1, 0, 0, 0, 0, 0, 0, 0, 0,\n",
       "       0, 1, 0, 0, 0, 0, 0, 0, 0, 0, 0, 0, 0, 0, 0, 0, 0, 0, 0, 0, 0, 0,\n",
       "       0, 0, 0, 0, 0, 0, 0, 0, 0, 0, 0, 0, 0, 0, 0, 0, 0, 0, 0, 0, 0, 0,\n",
       "       0, 0, 0, 0, 0, 0, 0, 0, 0, 0, 0, 0, 0, 0, 0, 0, 0, 0, 0, 0, 0, 0,\n",
       "       0, 0, 0, 0, 0, 0, 0, 0, 0, 0, 0, 0, 0, 0, 0, 0, 0, 1, 0, 0, 0, 0,\n",
       "       0, 0, 0, 0, 0, 0, 0, 0, 0, 0, 0, 0, 0, 0, 0, 0, 0, 0, 0, 0, 0, 0,\n",
       "       0, 1, 0, 0, 0, 0, 0, 0, 0, 0, 0, 0, 0, 0, 0, 0, 0, 0, 0, 0, 0, 0,\n",
       "       0, 0, 0, 0, 0, 0, 0, 0, 0, 0, 0, 0, 0, 0, 0, 0, 0, 0, 0, 0, 0, 0,\n",
       "       0, 0, 0, 0, 0, 0, 0, 0, 0, 0, 0, 0, 0, 0, 0, 0, 0, 0, 0, 0, 0, 0,\n",
       "       0, 0, 0, 0, 0, 0, 0, 0, 0, 0, 0, 0, 0, 0, 0, 0, 0, 0, 0, 0, 0, 0,\n",
       "       0, 0, 0, 0, 0, 0, 0, 0, 0, 0, 0, 0, 0, 1, 0, 0, 0, 0, 0, 0, 0, 0,\n",
       "       0, 0, 0, 0, 0, 0, 0, 0, 0, 0, 0, 0, 0, 0, 0, 0, 0, 0, 0, 0, 0, 0,\n",
       "       0, 0, 0, 0, 0, 0, 0, 0, 0, 0, 0, 0, 0, 0, 0, 0, 0, 0, 0, 0, 0, 0,\n",
       "       0, 0, 0, 0, 0, 0, 0, 0, 0, 0, 0, 0, 0, 0, 0, 0, 0, 0, 0, 0, 0, 0,\n",
       "       0, 0, 0, 0, 0, 0, 0, 0, 0, 0, 0, 0, 0, 0, 0, 0, 0, 0, 0, 0, 0, 0,\n",
       "       0, 1, 0, 0, 0, 0, 0, 0, 0, 0, 0, 0, 0, 0, 0, 0, 0, 0, 0, 0, 0, 0,\n",
       "       0, 0, 0, 0, 0, 0, 0, 0, 0, 0, 0, 0, 0, 0, 0, 0, 0, 0, 0, 0, 0, 0,\n",
       "       0, 0, 0, 0, 0, 0, 0, 0, 0, 0, 0, 0, 0, 0, 0, 0, 0, 0, 0, 0, 0, 0,\n",
       "       0, 0, 0, 0, 0, 0, 0, 0, 0, 0, 0, 0, 0, 0, 0, 0, 0, 0, 0, 0, 0, 0,\n",
       "       0, 0, 0, 0, 0, 0, 0, 0, 0, 0, 0, 0, 0, 0, 0, 0, 0, 0, 0, 0, 0, 0,\n",
       "       0, 0, 0, 0, 0, 0, 0, 0, 0, 0, 0, 0, 0, 0, 0, 1, 0, 0, 0, 0, 0, 0,\n",
       "       0, 0, 0, 0, 0, 0, 0, 0, 0, 0, 0, 0, 0, 0, 0, 0, 0, 0, 0, 0, 0, 0,\n",
       "       0, 0, 0, 0, 0, 0, 0, 0, 0, 0, 0, 0, 0, 0, 0, 0, 0, 0, 0, 0, 0, 0,\n",
       "       0, 0, 0, 0, 0, 0, 0, 0, 0, 0, 0, 0, 0, 0, 0, 0, 0, 0, 0, 0, 0, 0,\n",
       "       0, 0, 0, 0, 0, 0, 0, 0, 0, 0, 0, 0, 0, 0, 0, 0, 0, 0, 0, 0, 0, 0,\n",
       "       0, 0, 0, 0, 0, 0, 0, 0, 0, 0, 0, 0, 0, 0, 0, 0, 0, 0, 0, 0, 0, 0,\n",
       "       0, 0, 0, 0, 0, 0, 0, 0, 0, 0, 0, 0, 0, 0, 0, 0, 0, 0, 0, 0, 0, 0,\n",
       "       0, 0, 0, 0, 0, 0, 0, 1, 0, 0, 0, 0, 0, 0, 0, 0, 0, 0, 0, 0, 0, 0,\n",
       "       0, 0, 0, 0, 0, 0, 0, 0, 0, 0, 0, 0, 0, 0, 0, 0, 0, 0, 0, 0, 0, 0,\n",
       "       0, 0, 0, 0, 0, 0, 0, 0, 0, 0, 0, 0, 0, 0, 0, 0, 0, 0, 0, 0, 0, 0,\n",
       "       0, 0, 0, 0, 0, 0, 0, 0, 0, 0, 0, 0, 0, 0, 0, 0, 0, 0, 0, 0, 0, 0,\n",
       "       0, 0, 0, 0, 0, 0, 0, 0, 0, 0, 0, 0, 0, 0, 0, 0, 0, 0, 0, 0, 0, 0,\n",
       "       0, 0, 0, 0, 0, 0, 0, 0, 0, 0, 0, 0, 0, 0, 0, 0, 0, 0, 0, 0, 0, 0,\n",
       "       0, 0, 0, 0, 0, 0, 0, 0, 0, 0, 0, 0, 0, 0, 0, 0, 1, 0, 0, 0, 0, 0,\n",
       "       0, 0, 0, 0, 0, 1, 0, 0, 0, 0, 0, 0, 0, 0, 0, 0, 0, 0, 0, 0, 0, 0,\n",
       "       0, 0, 0, 0, 0, 0, 0, 0, 0, 0, 0, 0, 0, 0, 0, 0, 0, 0, 0, 0, 0, 0,\n",
       "       0, 0, 0, 0, 0, 0, 0, 0, 0, 0, 0, 0, 0, 0, 0, 0, 0, 0, 0, 0, 0, 0,\n",
       "       0, 0, 0, 0, 0, 0, 0, 0, 0, 0, 0, 0, 0, 0, 0, 0, 0, 0, 0, 0, 0, 0,\n",
       "       0, 0, 0, 0, 1, 0, 0, 0, 0, 0, 0, 0, 0, 0, 0, 0, 0, 0, 0, 0, 0, 0,\n",
       "       0, 0, 0, 0, 0, 0, 0, 0, 0, 0, 0, 0, 0, 0, 0, 0, 0, 0, 0, 0, 0, 0,\n",
       "       0, 0, 0, 0, 0, 0, 0, 0, 0, 0, 0, 0, 0, 0, 0, 0, 0, 0, 0, 0, 0, 0,\n",
       "       0, 0, 0, 0, 0, 0, 0, 0, 0, 0, 0, 0, 0, 0, 0, 0, 0, 0, 0, 0, 0, 0,\n",
       "       0, 0, 0, 0, 0, 0, 0, 0, 1, 0, 0, 0, 0, 0, 0, 0, 0, 0, 0, 0, 0, 0,\n",
       "       0, 0, 1, 0, 0, 1, 0, 0, 0, 0, 0, 0, 0, 0, 0, 0, 0, 0, 0, 0, 0, 0,\n",
       "       0, 0, 0, 0, 0, 1, 0, 0, 0, 0, 0, 0, 0, 0, 0, 0, 0, 0, 1, 0, 0, 0,\n",
       "       0, 0, 0, 0, 0, 0, 0, 0, 0, 0, 0, 0, 0, 0, 0, 0, 0, 0, 0, 0, 0, 0,\n",
       "       0, 0, 0, 0, 0, 0, 0, 0, 0, 0, 1, 0, 0, 0, 0, 0, 0, 0, 0, 0, 0, 1,\n",
       "       0, 0, 0, 0, 0, 0, 0, 0, 0, 0, 0, 0, 0, 0, 0, 0, 0, 0, 0, 0, 0, 0,\n",
       "       0, 0, 0, 0, 0, 0, 0, 0, 0, 0, 0, 0, 0, 0, 0, 0, 0, 0, 0, 1, 0, 0,\n",
       "       0, 0, 0, 0, 0, 0, 0, 0, 0, 0, 0, 0, 0, 0, 0, 0, 0, 0, 0, 0, 0, 0,\n",
       "       0, 0, 0, 0, 0, 0, 0, 0, 1, 0, 0, 0, 0, 0, 0, 0, 0, 0, 0, 0, 0, 0,\n",
       "       0, 0, 0, 0, 0, 0, 0, 0, 0, 0, 0, 0, 0, 0, 0, 0, 0, 0, 0, 0, 0, 0,\n",
       "       0, 0, 0, 0, 0, 0, 0, 0, 0, 0, 0, 0, 0, 0, 0, 0, 0, 0, 0, 0, 0, 0,\n",
       "       0, 0, 0, 0, 0, 0, 0, 0, 0, 0, 0, 0, 0, 0, 0, 0, 0, 0, 0, 0, 0, 0,\n",
       "       0, 0, 0, 0, 0, 0, 0, 0, 0, 0, 0, 0, 0, 0, 0, 1, 0, 0, 0, 0, 0, 0,\n",
       "       0, 0, 0, 0, 0, 0, 0, 0, 0, 0, 0, 0, 0, 0, 0, 0, 0, 0, 0, 0, 0, 0,\n",
       "       0, 0, 0, 0, 0, 0, 0, 0, 0, 0, 0, 0, 0, 0, 0, 0, 0, 0, 0, 0, 0, 0,\n",
       "       0, 0, 0, 0, 0, 0, 0, 0, 0, 0, 0, 0, 0, 0, 0, 0, 0, 0, 0, 0, 0, 0,\n",
       "       0, 0, 0, 0, 0, 0, 0, 0, 0, 0, 0, 0, 0, 0, 0, 0, 0, 0, 0, 0, 0, 0,\n",
       "       0, 0, 0, 0, 0, 0, 0, 0, 0, 0, 0, 0, 0, 0, 0, 0, 0, 0, 0, 0, 0, 0,\n",
       "       0, 0, 0, 1, 0, 0, 0, 0, 0])"
      ]
     },
     "execution_count": 162,
     "metadata": {},
     "output_type": "execute_result"
    }
   ],
   "source": [
    "threshold = .20\n",
    "y_pred = np.where((y_prob[:, 0] > threshold),1,0)\n",
    "y_pred"
   ]
  },
  {
   "cell_type": "code",
   "execution_count": 163,
   "metadata": {},
   "outputs": [
    {
     "data": {
      "text/plain": [
       "array([[2981,   56],\n",
       "       [ 492,    0]])"
      ]
     },
     "execution_count": 163,
     "metadata": {},
     "output_type": "execute_result"
    }
   ],
   "source": [
    "confusion_matrix(df_val['bank_acc'], \n",
    "                 y_pred)"
   ]
  },
  {
   "cell_type": "markdown",
   "metadata": {},
   "source": [
    "Something is not right in the above, I am clearly referring to the wrong items. The adjusted threshold analysis is worse than with a 50-50 threshold"
   ]
  },
  {
   "cell_type": "markdown",
   "metadata": {},
   "source": [
    "## Multiple regression removing insignificant features one by one\n",
    "\n",
    "## Removing household size\n",
    "\n",
    "Based on logit summary above"
   ]
  },
  {
   "cell_type": "code",
   "execution_count": 164,
   "metadata": {},
   "outputs": [],
   "source": [
    "x_train_3 = df_train.drop(columns = ['year', 'household_size'])\n",
    "\n",
    "df_val_3 = df_val.drop(columns = ['year', 'household_size'])"
   ]
  },
  {
   "cell_type": "code",
   "execution_count": 165,
   "metadata": {},
   "outputs": [],
   "source": [
    "features3 = ['age_of_respondent', 'is_urban', 'cellphone',\n",
    "       'is_male', 'county_Rwanda', 'county_Tanzania', 'county_Uganda',\n",
    "       'relationship_with_head_Head of Household',\n",
    "       'relationship_with_head_Other relative',\n",
    "       'relationship_with_head_Parent', 'relationship_with_head_Spouse',\n",
    "       'marital_status_Married/Living together',\n",
    "       'marital_status_Single/Never Married', 'marital_status_Widowed',\n",
    "       'education_level_Primary education',\n",
    "       'education_level_Secondary education',\n",
    "       'education_level_Tertiary education',\n",
    "       'education_level_Vocational/Specialised training',\n",
    "       'job_type_Formally employed Government',\n",
    "       'job_type_Formally employed Private', 'job_type_Government Dependent',\n",
    "       'job_type_Informally employed', 'job_type_No Income',\n",
    "       'job_type_Other Income', 'job_type_Remittance Dependent',\n",
    "       'job_type_Self employed']"
   ]
  },
  {
   "cell_type": "code",
   "execution_count": 166,
   "metadata": {
    "scrolled": false
   },
   "outputs": [],
   "source": [
    "scaler3 = StandardScaler()\n",
    "x_train3 = scaler3.fit_transform(x_train_3[features3])\n",
    "y_train3 = df_train['bank_acc']"
   ]
  },
  {
   "cell_type": "code",
   "execution_count": 167,
   "metadata": {},
   "outputs": [
    {
     "name": "stdout",
     "output_type": "stream",
     "text": [
      "Optimization terminated successfully.\n",
      "         Current function value: 0.601427\n",
      "         Iterations 8\n",
      "                         Results: Logit\n",
      "=================================================================\n",
      "Model:              Logit            Pseudo R-squared: -0.480    \n",
      "Dependent Variable: bank_acc         AIC:              17029.0702\n",
      "Date:               2021-01-30 11:33 BIC:              17225.4982\n",
      "No. Observations:   14114            Log-Likelihood:   -8488.5   \n",
      "Df Model:           25               LL-Null:          -5733.9   \n",
      "Df Residuals:       14088            LLR p-value:      1.0000    \n",
      "Converged:          1.0000           Scale:            1.0000    \n",
      "No. Iterations:     8.0000                                       \n",
      "-------------------------------------------------------------------\n",
      "           Coef.    Std.Err.      z      P>|z|     [0.025    0.975]\n",
      "-------------------------------------------------------------------\n",
      "x1         0.0786     0.0244    3.2196   0.0013    0.0308    0.1265\n",
      "x2         0.1038     0.0224    4.6388   0.0000    0.0600    0.1477\n",
      "x3         0.1352     0.0203    6.6577   0.0000    0.0954    0.1751\n",
      "x4         0.0947     0.0245    3.8728   0.0001    0.0468    0.1427\n",
      "x5        -0.0967     0.0243   -3.9859   0.0001   -0.1442   -0.0491\n",
      "x6        -0.2925     0.0305   -9.5770   0.0000   -0.3524   -0.2327\n",
      "x7        -0.1856     0.0245   -7.5714   0.0000   -0.2337   -0.1376\n",
      "x8         0.2009     0.0411    4.8857   0.0000    0.1203    0.2816\n",
      "x9        -0.0074     0.0225   -0.3294   0.7419   -0.0516    0.0367\n",
      "x10        0.0151     0.0245    0.6142   0.5391   -0.0330    0.0632\n",
      "x11        0.1370     0.0406    3.3745   0.0007    0.0574    0.2165\n",
      "x12        0.0491     0.0405    1.2132   0.2250   -0.0302    0.1285\n",
      "x13        0.0055     0.0359    0.1520   0.8792   -0.0650    0.0759\n",
      "x14        0.0182     0.0303    0.6001   0.5484   -0.0413    0.0777\n",
      "x15        0.1045     0.0263    3.9742   0.0001    0.0530    0.1560\n",
      "x16        0.2731     0.0262   10.4391   0.0000    0.2218    0.3243\n",
      "x17        0.4380     0.0248   17.6314   0.0000    0.3893    0.4867\n",
      "x18        0.3326     0.0248   13.4077   0.0000    0.2840    0.3813\n",
      "x19        3.3250     0.1484   22.4093   0.0000    3.0342    3.6158\n",
      "x20        0.3440     0.0256   13.4172   0.0000    0.2938    0.3943\n",
      "x21        0.0522     0.0181    2.8792   0.0040    0.0167    0.0878\n",
      "x22       -0.0401     0.0237   -1.6953   0.0900   -0.0865    0.0063\n",
      "x23        0.0222     0.0221    1.0025   0.3161   -0.0212    0.0655\n",
      "x24        0.0748     0.0214    3.4863   0.0005    0.0327    0.1168\n",
      "x25       -0.0345     0.0229   -1.5043   0.1325   -0.0795    0.0105\n",
      "x26        0.1163     0.0295    3.9434   0.0001    0.0585    0.1741\n",
      "=================================================================\n",
      "\n"
     ]
    }
   ],
   "source": [
    "logit_model3=sm.Logit(y_train3,x_train3)\n",
    "result=logit_model3.fit()\n",
    "print(result.summary2())"
   ]
  },
  {
   "cell_type": "code",
   "execution_count": 168,
   "metadata": {},
   "outputs": [
    {
     "name": "stdout",
     "output_type": "stream",
     "text": [
      "Accuracy of logistic regression classifier on val set: 0.89\n"
     ]
    }
   ],
   "source": [
    "lm_3 = LogisticRegression()\n",
    "lm_3.fit(x_train3, y_train3)\n",
    "\n",
    "x_val3 = scaler3.transform(df_val_3[features3])\n",
    "preds3 = lm_3.predict(x_val3)\n",
    "print('Accuracy of logistic regression classifier on val set: {:.2f}'.format(lm_3.score(x_val3, y_val)))"
   ]
  },
  {
   "cell_type": "code",
   "execution_count": 169,
   "metadata": {
    "scrolled": false
   },
   "outputs": [
    {
     "data": {
      "text/plain": [
       "array([[2958,   79],\n",
       "       [ 325,  167]])"
      ]
     },
     "execution_count": 169,
     "metadata": {},
     "output_type": "execute_result"
    }
   ],
   "source": [
    "confusion_matrix(df_val['bank_acc'], \n",
    "                 preds3)"
   ]
  },
  {
   "cell_type": "markdown",
   "metadata": {},
   "source": [
    "Essentially no change in precision and recall when household size is removed"
   ]
  },
  {
   "cell_type": "code",
   "execution_count": 170,
   "metadata": {
    "scrolled": true
   },
   "outputs": [
    {
     "name": "stdout",
     "output_type": "stream",
     "text": [
      "              precision    recall  f1-score   support\n",
      "\n",
      "           0       0.90      0.97      0.94      3037\n",
      "           1       0.68      0.34      0.45       492\n",
      "\n",
      "    accuracy                           0.89      3529\n",
      "   macro avg       0.79      0.66      0.69      3529\n",
      "weighted avg       0.87      0.89      0.87      3529\n",
      "\n"
     ]
    }
   ],
   "source": [
    "print(classification_report(y_val, preds3))"
   ]
  },
  {
   "cell_type": "markdown",
   "metadata": {},
   "source": [
    "## Removing relationship with head - Other \n",
    "\n",
    "Based on logit summary above. Note each iteration is building off the previous"
   ]
  },
  {
   "cell_type": "code",
   "execution_count": 171,
   "metadata": {},
   "outputs": [],
   "source": [
    "x_train_4 = df_train.drop(columns = ['year', 'household_size','relationship_with_head_Other relative'])\n",
    "\n",
    "df_val_4 = df_val.drop(columns = ['year', 'household_size','relationship_with_head_Other relative'])"
   ]
  },
  {
   "cell_type": "code",
   "execution_count": 172,
   "metadata": {},
   "outputs": [],
   "source": [
    "features4 = ['age_of_respondent', 'is_urban', 'cellphone',\n",
    "       'is_male', 'county_Rwanda', 'county_Tanzania', 'county_Uganda',\n",
    "       'relationship_with_head_Head of Household',\n",
    "       'relationship_with_head_Parent', 'relationship_with_head_Spouse',\n",
    "       'marital_status_Married/Living together',\n",
    "       'marital_status_Single/Never Married', 'marital_status_Widowed',\n",
    "       'education_level_Primary education',\n",
    "       'education_level_Secondary education',\n",
    "       'education_level_Tertiary education',\n",
    "       'education_level_Vocational/Specialised training',\n",
    "       'job_type_Formally employed Government',\n",
    "       'job_type_Formally employed Private', 'job_type_Government Dependent',\n",
    "       'job_type_Informally employed', 'job_type_No Income',\n",
    "       'job_type_Other Income', 'job_type_Remittance Dependent',\n",
    "       'job_type_Self employed']"
   ]
  },
  {
   "cell_type": "code",
   "execution_count": 173,
   "metadata": {},
   "outputs": [],
   "source": [
    "scaler4 = StandardScaler()\n",
    "x_train4 = scaler4.fit_transform(x_train_4[features4])\n",
    "y_train4 = df_train['bank_acc']"
   ]
  },
  {
   "cell_type": "code",
   "execution_count": 174,
   "metadata": {},
   "outputs": [
    {
     "name": "stdout",
     "output_type": "stream",
     "text": [
      "Optimization terminated successfully.\n",
      "         Current function value: 0.601430\n",
      "         Iterations 8\n",
      "                         Results: Logit\n",
      "=================================================================\n",
      "Model:              Logit            Pseudo R-squared: -0.480    \n",
      "Dependent Variable: bank_acc         AIC:              17027.1788\n",
      "Date:               2021-01-30 11:33 BIC:              17216.0519\n",
      "No. Observations:   14114            Log-Likelihood:   -8488.6   \n",
      "Df Model:           24               LL-Null:          -5733.9   \n",
      "Df Residuals:       14089            LLR p-value:      1.0000    \n",
      "Converged:          1.0000           Scale:            1.0000    \n",
      "No. Iterations:     8.0000                                       \n",
      "-------------------------------------------------------------------\n",
      "           Coef.    Std.Err.      z      P>|z|     [0.025    0.975]\n",
      "-------------------------------------------------------------------\n",
      "x1         0.0785     0.0244    3.2140   0.0013    0.0306    0.1263\n",
      "x2         0.1035     0.0224    4.6290   0.0000    0.0597    0.1473\n",
      "x3         0.1351     0.0203    6.6521   0.0000    0.0953    0.1749\n",
      "x4         0.0948     0.0245    3.8730   0.0001    0.0468    0.1427\n",
      "x5        -0.0963     0.0242   -3.9746   0.0001   -0.1438   -0.0488\n",
      "x6        -0.2933     0.0304   -9.6331   0.0000   -0.3530   -0.2336\n",
      "x7        -0.1861     0.0245   -7.6007   0.0000   -0.2341   -0.1381\n",
      "x8         0.2073     0.0364    5.6987   0.0000    0.1360    0.2786\n",
      "x9         0.0178     0.0231    0.7723   0.4399   -0.0274    0.0631\n",
      "x10        0.1426     0.0369    3.8689   0.0001    0.0703    0.2148\n",
      "x11        0.0494     0.0405    1.2210   0.2221   -0.0299    0.1288\n",
      "x12        0.0068     0.0357    0.1913   0.8483   -0.0631    0.0768\n",
      "x13        0.0185     0.0303    0.6098   0.5420   -0.0410    0.0779\n",
      "x14        0.1045     0.0263    3.9745   0.0001    0.0530    0.1560\n",
      "x15        0.2733     0.0261   10.4506   0.0000    0.2220    0.3245\n",
      "x16        0.4381     0.0248   17.6344   0.0000    0.3894    0.4868\n",
      "x17        0.3326     0.0248   13.4080   0.0000    0.2840    0.3812\n",
      "x18        3.3255     0.1484   22.4139   0.0000    3.0347    3.6163\n",
      "x19        0.3434     0.0256   13.4368   0.0000    0.2933    0.3935\n",
      "x20        0.0523     0.0181    2.8825   0.0039    0.0167    0.0879\n",
      "x21       -0.0402     0.0237   -1.6994   0.0892   -0.0866    0.0062\n",
      "x22        0.0222     0.0221    1.0034   0.3157   -0.0212    0.0655\n",
      "x23        0.0748     0.0214    3.4851   0.0005    0.0327    0.1168\n",
      "x24       -0.0344     0.0229   -1.4989   0.1339   -0.0793    0.0106\n",
      "x25        0.1165     0.0295    3.9503   0.0001    0.0587    0.1742\n",
      "=================================================================\n",
      "\n"
     ]
    }
   ],
   "source": [
    "logit_model4=sm.Logit(y_train4,x_train4)\n",
    "result=logit_model4.fit()\n",
    "print(result.summary2())"
   ]
  },
  {
   "cell_type": "code",
   "execution_count": 175,
   "metadata": {},
   "outputs": [
    {
     "name": "stdout",
     "output_type": "stream",
     "text": [
      "Accuracy of logistic regression classifier on val set: 0.89\n"
     ]
    }
   ],
   "source": [
    "lm_4 = LogisticRegression()\n",
    "lm_4.fit(x_train4, y_train4)\n",
    "\n",
    "x_val4 = scaler4.transform(df_val_4[features4])\n",
    "preds4 = lm_4.predict(x_val4)\n",
    "print('Accuracy of logistic regression classifier on val set: {:.2f}'.format(lm_4.score(x_val4, y_val)))"
   ]
  },
  {
   "cell_type": "code",
   "execution_count": 176,
   "metadata": {
    "scrolled": true
   },
   "outputs": [
    {
     "data": {
      "text/plain": [
       "array([[2959,   78],\n",
       "       [ 324,  168]])"
      ]
     },
     "execution_count": 176,
     "metadata": {},
     "output_type": "execute_result"
    }
   ],
   "source": [
    "confusion_matrix(df_val['bank_acc'], \n",
    "                 preds4)"
   ]
  },
  {
   "cell_type": "markdown",
   "metadata": {},
   "source": [
    "Minor (1) improvement in predictions for both account and non-account holders"
   ]
  },
  {
   "cell_type": "code",
   "execution_count": 177,
   "metadata": {},
   "outputs": [
    {
     "name": "stdout",
     "output_type": "stream",
     "text": [
      "              precision    recall  f1-score   support\n",
      "\n",
      "           0       0.90      0.97      0.94      3037\n",
      "           1       0.68      0.34      0.46       492\n",
      "\n",
      "    accuracy                           0.89      3529\n",
      "   macro avg       0.79      0.66      0.70      3529\n",
      "weighted avg       0.87      0.89      0.87      3529\n",
      "\n"
     ]
    }
   ],
   "source": [
    "print(classification_report(y_val, preds4))"
   ]
  },
  {
   "cell_type": "markdown",
   "metadata": {},
   "source": [
    "## Removing relationship with head - Parent \n",
    "\n",
    "Based on logit summary above"
   ]
  },
  {
   "cell_type": "code",
   "execution_count": 178,
   "metadata": {},
   "outputs": [],
   "source": [
    "x_train_5 = df_train.drop(columns = ['year', 'household_size','relationship_with_head_Other relative',\n",
    "                                     'relationship_with_head_Parent'])\n",
    "\n",
    "df_val_5 = df_val.drop(columns = ['year', 'household_size','relationship_with_head_Other relative',\n",
    "                                  'relationship_with_head_Parent'])\n",
    "\n",
    "features5 = ['age_of_respondent', 'is_urban', 'cellphone',\n",
    "       'is_male', 'county_Rwanda', 'county_Tanzania', 'county_Uganda',\n",
    "       'relationship_with_head_Head of Household',\n",
    "       'relationship_with_head_Spouse',\n",
    "       'marital_status_Married/Living together',\n",
    "       'marital_status_Single/Never Married', 'marital_status_Widowed',\n",
    "       'education_level_Primary education',\n",
    "       'education_level_Secondary education',\n",
    "       'education_level_Tertiary education',\n",
    "       'education_level_Vocational/Specialised training',\n",
    "       'job_type_Formally employed Government',\n",
    "       'job_type_Formally employed Private', 'job_type_Government Dependent',\n",
    "       'job_type_Informally employed', 'job_type_No Income',\n",
    "       'job_type_Other Income', 'job_type_Remittance Dependent',\n",
    "       'job_type_Self employed']"
   ]
  },
  {
   "cell_type": "code",
   "execution_count": 179,
   "metadata": {},
   "outputs": [],
   "source": [
    "scaler5 = StandardScaler()\n",
    "x_train5 = scaler5.fit_transform(x_train_5[features5])\n",
    "y_train5 = df_train['bank_acc']"
   ]
  },
  {
   "cell_type": "code",
   "execution_count": 180,
   "metadata": {},
   "outputs": [
    {
     "name": "stdout",
     "output_type": "stream",
     "text": [
      "Optimization terminated successfully.\n",
      "         Current function value: 0.601452\n",
      "         Iterations 8\n",
      "                         Results: Logit\n",
      "=================================================================\n",
      "Model:              Logit            Pseudo R-squared: -0.480    \n",
      "Dependent Variable: bank_acc         AIC:              17025.7733\n",
      "Date:               2021-01-30 11:33 BIC:              17207.0914\n",
      "No. Observations:   14114            Log-Likelihood:   -8488.9   \n",
      "Df Model:           23               LL-Null:          -5733.9   \n",
      "Df Residuals:       14090            LLR p-value:      1.0000    \n",
      "Converged:          1.0000           Scale:            1.0000    \n",
      "No. Iterations:     8.0000                                       \n",
      "-------------------------------------------------------------------\n",
      "           Coef.    Std.Err.      z      P>|z|     [0.025    0.975]\n",
      "-------------------------------------------------------------------\n",
      "x1         0.0783     0.0244    3.2091   0.0013    0.0305    0.1262\n",
      "x2         0.1042     0.0223    4.6670   0.0000    0.0605    0.1480\n",
      "x3         0.1353     0.0203    6.6648   0.0000    0.0955    0.1751\n",
      "x4         0.0948     0.0245    3.8728   0.0001    0.0468    0.1427\n",
      "x5        -0.0956     0.0242   -3.9506   0.0001   -0.1431   -0.0482\n",
      "x6        -0.2890     0.0299   -9.6586   0.0000   -0.3476   -0.2304\n",
      "x7        -0.1845     0.0244   -7.5630   0.0000   -0.2323   -0.1367\n",
      "x8         0.1950     0.0326    5.9749   0.0000    0.1310    0.2589\n",
      "x9         0.1315     0.0339    3.8786   0.0001    0.0651    0.1980\n",
      "x10        0.0475     0.0404    1.1761   0.2396   -0.0317    0.1267\n",
      "x11        0.0014     0.0350    0.0401   0.9680   -0.0672    0.0700\n",
      "x12        0.0169     0.0303    0.5585   0.5765   -0.0424    0.0762\n",
      "x13        0.1045     0.0263    3.9754   0.0001    0.0530    0.1560\n",
      "x14        0.2730     0.0261   10.4410   0.0000    0.2217    0.3242\n",
      "x15        0.4381     0.0248   17.6361   0.0000    0.3895    0.4868\n",
      "x16        0.3326     0.0248   13.4067   0.0000    0.2840    0.3812\n",
      "x17        3.3261     0.1484   22.4187   0.0000    3.0353    3.6169\n",
      "x18        0.3428     0.0255   13.4254   0.0000    0.2928    0.3929\n",
      "x19        0.0523     0.0181    2.8811   0.0040    0.0167    0.0878\n",
      "x20       -0.0409     0.0236   -1.7320   0.0833   -0.0873    0.0054\n",
      "x21        0.0228     0.0221    1.0312   0.3025   -0.0205    0.0661\n",
      "x22        0.0746     0.0214    3.4763   0.0005    0.0325    0.1166\n",
      "x23       -0.0355     0.0229   -1.5488   0.1214   -0.0803    0.0094\n",
      "x24        0.1159     0.0295    3.9321   0.0001    0.0581    0.1737\n",
      "=================================================================\n",
      "\n"
     ]
    }
   ],
   "source": [
    "logit_model5=sm.Logit(y_train5,x_train5)\n",
    "result=logit_model5.fit()\n",
    "print(result.summary2())"
   ]
  },
  {
   "cell_type": "code",
   "execution_count": 181,
   "metadata": {},
   "outputs": [
    {
     "name": "stdout",
     "output_type": "stream",
     "text": [
      "Accuracy of logistic regression classifier on val set: 0.89\n"
     ]
    }
   ],
   "source": [
    "lm_5 = LogisticRegression()\n",
    "lm_5.fit(x_train5, y_train5)\n",
    "\n",
    "x_val5 = scaler5.transform(df_val_5[features5])\n",
    "preds5 = lm_5.predict(x_val5)\n",
    "print('Accuracy of logistic regression classifier on val set: {:.2f}'.format(lm_5.score(x_val5, y_val)))"
   ]
  },
  {
   "cell_type": "code",
   "execution_count": 182,
   "metadata": {
    "scrolled": true
   },
   "outputs": [
    {
     "data": {
      "text/plain": [
       "array([[2959,   78],\n",
       "       [ 324,  168]])"
      ]
     },
     "execution_count": 182,
     "metadata": {},
     "output_type": "execute_result"
    }
   ],
   "source": [
    "confusion_matrix(df_val['bank_acc'], \n",
    "                 preds5)"
   ]
  },
  {
   "cell_type": "markdown",
   "metadata": {},
   "source": [
    "No change from the results above"
   ]
  },
  {
   "cell_type": "code",
   "execution_count": 183,
   "metadata": {},
   "outputs": [
    {
     "name": "stdout",
     "output_type": "stream",
     "text": [
      "              precision    recall  f1-score   support\n",
      "\n",
      "           0       0.90      0.97      0.94      3037\n",
      "           1       0.68      0.34      0.46       492\n",
      "\n",
      "    accuracy                           0.89      3529\n",
      "   macro avg       0.79      0.66      0.70      3529\n",
      "weighted avg       0.87      0.89      0.87      3529\n",
      "\n"
     ]
    }
   ],
   "source": [
    "print(classification_report(y_val, preds5))"
   ]
  },
  {
   "cell_type": "markdown",
   "metadata": {},
   "source": [
    "## Removing marital status - widowed\n",
    "\n",
    "Based on logit summary above"
   ]
  },
  {
   "cell_type": "code",
   "execution_count": 184,
   "metadata": {},
   "outputs": [],
   "source": [
    "x_train_6 = df_train.drop(columns = ['year', 'household_size','relationship_with_head_Other relative',\n",
    "                                     'relationship_with_head_Parent','marital_status_Widowed'])\n",
    "\n",
    "df_val_6 = df_val.drop(columns = ['year', 'household_size','relationship_with_head_Other relative',\n",
    "                                  'relationship_with_head_Parent','marital_status_Widowed'])\n",
    "\n",
    "features6 = ['age_of_respondent', 'is_urban', 'cellphone',\n",
    "       'is_male', 'county_Rwanda', 'county_Tanzania', 'county_Uganda',\n",
    "       'relationship_with_head_Head of Household',\n",
    "       'relationship_with_head_Spouse',\n",
    "       'marital_status_Married/Living together',\n",
    "       'marital_status_Single/Never Married',\n",
    "       'education_level_Primary education',\n",
    "       'education_level_Secondary education',\n",
    "       'education_level_Tertiary education',\n",
    "       'education_level_Vocational/Specialised training',\n",
    "       'job_type_Formally employed Government',\n",
    "       'job_type_Formally employed Private', 'job_type_Government Dependent',\n",
    "       'job_type_Informally employed', 'job_type_No Income',\n",
    "       'job_type_Other Income', 'job_type_Remittance Dependent',\n",
    "       'job_type_Self employed']"
   ]
  },
  {
   "cell_type": "code",
   "execution_count": 185,
   "metadata": {},
   "outputs": [],
   "source": [
    "scaler6 = StandardScaler()\n",
    "x_train6 = scaler6.fit_transform(x_train_6[features6])\n",
    "y_train6 = df_train['bank_acc']"
   ]
  },
  {
   "cell_type": "code",
   "execution_count": 186,
   "metadata": {},
   "outputs": [
    {
     "name": "stdout",
     "output_type": "stream",
     "text": [
      "Optimization terminated successfully.\n",
      "         Current function value: 0.601463\n",
      "         Iterations 8\n",
      "                         Results: Logit\n",
      "=================================================================\n",
      "Model:              Logit            Pseudo R-squared: -0.481    \n",
      "Dependent Variable: bank_acc         AIC:              17024.0854\n",
      "Date:               2021-01-30 11:33 BIC:              17197.8486\n",
      "No. Observations:   14114            Log-Likelihood:   -8489.0   \n",
      "Df Model:           22               LL-Null:          -5733.9   \n",
      "Df Residuals:       14091            LLR p-value:      1.0000    \n",
      "Converged:          1.0000           Scale:            1.0000    \n",
      "No. Iterations:     8.0000                                       \n",
      "-------------------------------------------------------------------\n",
      "           Coef.    Std.Err.      z      P>|z|     [0.025    0.975]\n",
      "-------------------------------------------------------------------\n",
      "x1         0.0821     0.0234    3.5024   0.0005    0.0362    0.1281\n",
      "x2         0.1044     0.0223    4.6753   0.0000    0.0606    0.1482\n",
      "x3         0.1349     0.0203    6.6482   0.0000    0.0951    0.1747\n",
      "x4         0.0922     0.0240    3.8368   0.0001    0.0451    0.1393\n",
      "x5        -0.0951     0.0242   -3.9317   0.0001   -0.1425   -0.0477\n",
      "x6        -0.2913     0.0296   -9.8280   0.0000   -0.3494   -0.2332\n",
      "x7        -0.1843     0.0244   -7.5588   0.0000   -0.2321   -0.1365\n",
      "x8         0.1978     0.0322    6.1354   0.0000    0.1346    0.2610\n",
      "x9         0.1324     0.0339    3.9105   0.0001    0.0661    0.1988\n",
      "x10        0.0333     0.0314    1.0621   0.2882   -0.0282    0.0949\n",
      "x11       -0.0093     0.0292   -0.3192   0.7496   -0.0666    0.0479\n",
      "x12        0.1039     0.0263    3.9567   0.0001    0.0524    0.1554\n",
      "x13        0.2723     0.0261   10.4274   0.0000    0.2211    0.3235\n",
      "x14        0.4372     0.0248   17.6469   0.0000    0.3886    0.4857\n",
      "x15        0.3322     0.0248   13.3969   0.0000    0.2836    0.3807\n",
      "x16        3.3262     0.1484   22.4203   0.0000    3.0355    3.6170\n",
      "x17        0.3424     0.0255   13.4171   0.0000    0.2924    0.3924\n",
      "x18        0.0526     0.0181    2.9004   0.0037    0.0171    0.0882\n",
      "x19       -0.0415     0.0236   -1.7555   0.0792   -0.0878    0.0048\n",
      "x20        0.0225     0.0221    1.0197   0.3079   -0.0208    0.0658\n",
      "x21        0.0744     0.0214    3.4701   0.0005    0.0324    0.1165\n",
      "x22       -0.0352     0.0229   -1.5396   0.1237   -0.0801    0.0096\n",
      "x23        0.1154     0.0295    3.9186   0.0001    0.0577    0.1732\n",
      "=================================================================\n",
      "\n"
     ]
    }
   ],
   "source": [
    "logit_model6=sm.Logit(y_train6,x_train6)\n",
    "result6=logit_model6.fit()\n",
    "print(result6.summary2())"
   ]
  },
  {
   "cell_type": "code",
   "execution_count": 187,
   "metadata": {},
   "outputs": [
    {
     "name": "stdout",
     "output_type": "stream",
     "text": [
      "Accuracy of logistic regression classifier on val set: 0.89\n"
     ]
    }
   ],
   "source": [
    "lm_6 = LogisticRegression()\n",
    "lm_6.fit(x_train6, y_train6)\n",
    "\n",
    "x_val6 = scaler6.transform(df_val_6[features6])\n",
    "preds6 = lm_6.predict(x_val6)\n",
    "print('Accuracy of logistic regression classifier on val set: {:.2f}'.format(lm_6.score(x_val6, y_val)))"
   ]
  },
  {
   "cell_type": "code",
   "execution_count": 188,
   "metadata": {},
   "outputs": [
    {
     "data": {
      "text/plain": [
       "array([[2959,   78],\n",
       "       [ 323,  169]])"
      ]
     },
     "execution_count": 188,
     "metadata": {},
     "output_type": "execute_result"
    }
   ],
   "source": [
    "confusion_matrix(df_val['bank_acc'], \n",
    "                 preds6)"
   ]
  },
  {
   "cell_type": "markdown",
   "metadata": {},
   "source": [
    "Minor (1) improvement in prediction of account holders with the removal of widows"
   ]
  },
  {
   "cell_type": "code",
   "execution_count": 189,
   "metadata": {
    "scrolled": true
   },
   "outputs": [
    {
     "name": "stdout",
     "output_type": "stream",
     "text": [
      "              precision    recall  f1-score   support\n",
      "\n",
      "           0       0.90      0.97      0.94      3037\n",
      "           1       0.68      0.34      0.46       492\n",
      "\n",
      "    accuracy                           0.89      3529\n",
      "   macro avg       0.79      0.66      0.70      3529\n",
      "weighted avg       0.87      0.89      0.87      3529\n",
      "\n"
     ]
    }
   ],
   "source": [
    "print(classification_report(y_val, preds6))"
   ]
  },
  {
   "cell_type": "markdown",
   "metadata": {},
   "source": [
    "## Removing remittance / no income \n",
    "\n",
    "Based on logit summary above. HOWEVER, consider merging these two and adding as a new column"
   ]
  },
  {
   "cell_type": "code",
   "execution_count": 190,
   "metadata": {},
   "outputs": [],
   "source": [
    "x_train_7 = df_train.drop(columns = ['year', 'household_size','relationship_with_head_Other relative',\n",
    "                                     'relationship_with_head_Parent','marital_status_Widowed',\n",
    "                                    'job_type_Remittance Dependent', 'job_type_No Income'])\n",
    "\n",
    "df_val_7 = df_val.drop(columns = ['year', 'household_size','relationship_with_head_Other relative',\n",
    "                                  'relationship_with_head_Parent','marital_status_Widowed',\n",
    "                                 'job_type_Remittance Dependent','job_type_No Income'])\n",
    "\n",
    "features7 = ['age_of_respondent', 'is_urban', 'cellphone',\n",
    "       'is_male', 'county_Rwanda', 'county_Tanzania', 'county_Uganda',\n",
    "       'relationship_with_head_Head of Household',\n",
    "       'relationship_with_head_Spouse',\n",
    "       'marital_status_Married/Living together',\n",
    "       'marital_status_Single/Never Married',\n",
    "       'education_level_Primary education',\n",
    "       'education_level_Secondary education',\n",
    "       'education_level_Tertiary education',\n",
    "       'education_level_Vocational/Specialised training',\n",
    "       'job_type_Formally employed Government',\n",
    "       'job_type_Formally employed Private', 'job_type_Government Dependent',\n",
    "       'job_type_Informally employed',\n",
    "       'job_type_Other Income',\n",
    "       'job_type_Self employed']"
   ]
  },
  {
   "cell_type": "code",
   "execution_count": 191,
   "metadata": {},
   "outputs": [],
   "source": [
    "scaler7 = StandardScaler()\n",
    "x_train7 = scaler7.fit_transform(x_train_7[features7])\n",
    "y_train7 = df_train['bank_acc']"
   ]
  },
  {
   "cell_type": "code",
   "execution_count": 192,
   "metadata": {
    "scrolled": true
   },
   "outputs": [
    {
     "name": "stdout",
     "output_type": "stream",
     "text": [
      "Optimization terminated successfully.\n",
      "         Current function value: 0.601623\n",
      "         Iterations 8\n",
      "                         Results: Logit\n",
      "=================================================================\n",
      "Model:              Logit            Pseudo R-squared: -0.481    \n",
      "Dependent Variable: bank_acc         AIC:              17024.6108\n",
      "Date:               2021-01-30 11:33 BIC:              17183.2642\n",
      "No. Observations:   14114            Log-Likelihood:   -8491.3   \n",
      "Df Model:           20               LL-Null:          -5733.9   \n",
      "Df Residuals:       14093            LLR p-value:      1.0000    \n",
      "Converged:          1.0000           Scale:            1.0000    \n",
      "No. Iterations:     8.0000                                       \n",
      "-------------------------------------------------------------------\n",
      "           Coef.    Std.Err.      z      P>|z|     [0.025    0.975]\n",
      "-------------------------------------------------------------------\n",
      "x1         0.0821     0.0234    3.5057   0.0005    0.0362    0.1280\n",
      "x2         0.1020     0.0221    4.6185   0.0000    0.0587    0.1453\n",
      "x3         0.1364     0.0202    6.7432   0.0000    0.0967    0.1760\n",
      "x4         0.0957     0.0239    4.0008   0.0001    0.0488    0.1426\n",
      "x5        -0.0888     0.0239   -3.7211   0.0002   -0.1356   -0.0420\n",
      "x6        -0.2835     0.0290   -9.7747   0.0000   -0.3404   -0.2267\n",
      "x7        -0.1735     0.0231   -7.5184   0.0000   -0.2188   -0.1283\n",
      "x8         0.2022     0.0321    6.3013   0.0000    0.1393    0.2651\n",
      "x9         0.1382     0.0337    4.0999   0.0000    0.0721    0.2043\n",
      "x10        0.0324     0.0314    1.0338   0.3012   -0.0290    0.0939\n",
      "x11       -0.0133     0.0292   -0.4567   0.6479   -0.0705    0.0438\n",
      "x12        0.1046     0.0263    3.9809   0.0001    0.0531    0.1560\n",
      "x13        0.2709     0.0261   10.3915   0.0000    0.2198    0.3220\n",
      "x14        0.4352     0.0247   17.6083   0.0000    0.3868    0.4837\n",
      "x15        0.3310     0.0248   13.3628   0.0000    0.2825    0.3796\n",
      "x16        3.3321     0.1483   22.4675   0.0000    3.0414    3.6228\n",
      "x17        0.3470     0.0246   14.1220   0.0000    0.2988    0.3952\n",
      "x18        0.0547     0.0179    3.0511   0.0023    0.0196    0.0899\n",
      "x19       -0.0324     0.0210   -1.5404   0.1235   -0.0735    0.0088\n",
      "x20        0.0764     0.0202    3.7918   0.0001    0.0369    0.1159\n",
      "x21        0.1228     0.0248    4.9461   0.0000    0.0741    0.1714\n",
      "=================================================================\n",
      "\n"
     ]
    }
   ],
   "source": [
    "logit_model7=sm.Logit(y_train7,x_train7)\n",
    "result7=logit_model7.fit()\n",
    "print(result7.summary2())"
   ]
  },
  {
   "cell_type": "markdown",
   "metadata": {},
   "source": [
    "Note that Government dependent has now become a signficant feature"
   ]
  },
  {
   "cell_type": "code",
   "execution_count": 193,
   "metadata": {},
   "outputs": [
    {
     "name": "stdout",
     "output_type": "stream",
     "text": [
      "Accuracy of logistic regression classifier on val set: 0.89\n"
     ]
    }
   ],
   "source": [
    "lm_7 = LogisticRegression()\n",
    "lm_7.fit(x_train7, y_train7)\n",
    "\n",
    "x_val7 = scaler7.transform(df_val_7[features7])\n",
    "preds7 = lm_7.predict(x_val7)\n",
    "print('Accuracy of logistic regression classifier on val set: {:.2f}'.format(lm_7.score(x_val7, y_val)))"
   ]
  },
  {
   "cell_type": "code",
   "execution_count": 194,
   "metadata": {
    "scrolled": true
   },
   "outputs": [
    {
     "data": {
      "text/plain": [
       "array([[2959,   78],\n",
       "       [ 324,  168]])"
      ]
     },
     "execution_count": 194,
     "metadata": {},
     "output_type": "execute_result"
    }
   ],
   "source": [
    "confusion_matrix(df_val['bank_acc'], \n",
    "                 preds7)"
   ]
  },
  {
   "cell_type": "markdown",
   "metadata": {},
   "source": [
    "Minor (1) drop in prediction of account holders with removal of remittance dependent / no income"
   ]
  },
  {
   "cell_type": "code",
   "execution_count": 195,
   "metadata": {},
   "outputs": [
    {
     "name": "stdout",
     "output_type": "stream",
     "text": [
      "              precision    recall  f1-score   support\n",
      "\n",
      "           0       0.90      0.97      0.94      3037\n",
      "           1       0.68      0.34      0.46       492\n",
      "\n",
      "    accuracy                           0.89      3529\n",
      "   macro avg       0.79      0.66      0.70      3529\n",
      "weighted avg       0.87      0.89      0.87      3529\n",
      "\n"
     ]
    }
   ],
   "source": [
    "print(classification_report(y_val, preds7))"
   ]
  },
  {
   "cell_type": "markdown",
   "metadata": {},
   "source": [
    "## Removing informally employed\n",
    "\n",
    "Based on logit summary above"
   ]
  },
  {
   "cell_type": "code",
   "execution_count": 196,
   "metadata": {},
   "outputs": [],
   "source": [
    "x_train_8 = df_train.drop(columns = ['year', 'household_size','relationship_with_head_Other relative',\n",
    "                                     'relationship_with_head_Parent','marital_status_Widowed',\n",
    "                                    'job_type_Remittance Dependent', 'job_type_No Income',\n",
    "                                     'job_type_Informally employed'])\n",
    "\n",
    "df_val_8 = df_val.drop(columns = ['year', 'household_size','relationship_with_head_Other relative',\n",
    "                                  'relationship_with_head_Parent','marital_status_Widowed',\n",
    "                                 'job_type_Remittance Dependent','job_type_No Income',\n",
    "                                 'job_type_Informally employed'])\n",
    "\n",
    "features8 = ['age_of_respondent', 'is_urban', 'cellphone',\n",
    "       'is_male', 'county_Rwanda', 'county_Tanzania', 'county_Uganda',\n",
    "       'relationship_with_head_Head of Household',\n",
    "       'relationship_with_head_Spouse',\n",
    "       'marital_status_Married/Living together',\n",
    "       'marital_status_Single/Never Married',\n",
    "       'education_level_Primary education',\n",
    "       'education_level_Secondary education',\n",
    "       'education_level_Tertiary education',\n",
    "       'education_level_Vocational/Specialised training',\n",
    "       'job_type_Formally employed Government',\n",
    "       'job_type_Formally employed Private', 'job_type_Government Dependent',\n",
    "       'job_type_Other Income',\n",
    "       'job_type_Self employed']"
   ]
  },
  {
   "cell_type": "code",
   "execution_count": 197,
   "metadata": {},
   "outputs": [],
   "source": [
    "scaler8 = StandardScaler()\n",
    "x_train8 = scaler8.fit_transform(x_train_8[features8])\n",
    "y_train8 = df_train['bank_acc']"
   ]
  },
  {
   "cell_type": "code",
   "execution_count": 198,
   "metadata": {},
   "outputs": [
    {
     "name": "stdout",
     "output_type": "stream",
     "text": [
      "Optimization terminated successfully.\n",
      "         Current function value: 0.601707\n",
      "         Iterations 8\n",
      "                         Results: Logit\n",
      "=================================================================\n",
      "Model:              Logit            Pseudo R-squared: -0.481    \n",
      "Dependent Variable: bank_acc         AIC:              17024.9873\n",
      "Date:               2021-01-30 11:33 BIC:              17176.0858\n",
      "No. Observations:   14114            Log-Likelihood:   -8492.5   \n",
      "Df Model:           19               LL-Null:          -5733.9   \n",
      "Df Residuals:       14094            LLR p-value:      1.0000    \n",
      "Converged:          1.0000           Scale:            1.0000    \n",
      "No. Iterations:     8.0000                                       \n",
      "-------------------------------------------------------------------\n",
      "           Coef.    Std.Err.      z      P>|z|     [0.025    0.975]\n",
      "-------------------------------------------------------------------\n",
      "x1         0.0877     0.0231    3.7936   0.0001    0.0424    0.1331\n",
      "x2         0.0995     0.0220    4.5203   0.0000    0.0564    0.1427\n",
      "x3         0.1365     0.0202    6.7498   0.0000    0.0968    0.1761\n",
      "x4         0.0935     0.0239    3.9168   0.0001    0.0467    0.1403\n",
      "x5        -0.0901     0.0239   -3.7764   0.0002   -0.1368   -0.0433\n",
      "x6        -0.2864     0.0289   -9.8987   0.0000   -0.3431   -0.2297\n",
      "x7        -0.1734     0.0231   -7.5089   0.0000   -0.2187   -0.1281\n",
      "x8         0.1977     0.0319    6.1910   0.0000    0.1351    0.2603\n",
      "x9         0.1361     0.0337    4.0435   0.0001    0.0702    0.2021\n",
      "x10        0.0327     0.0313    1.0440   0.2965   -0.0287    0.0942\n",
      "x11       -0.0127     0.0292   -0.4359   0.6629   -0.0698    0.0444\n",
      "x12        0.1048     0.0263    3.9905   0.0001    0.0533    0.1562\n",
      "x13        0.2732     0.0260   10.4997   0.0000    0.2222    0.3242\n",
      "x14        0.4365     0.0247   17.6724   0.0000    0.3881    0.4849\n",
      "x15        0.3318     0.0248   13.3940   0.0000    0.2832    0.3803\n",
      "x16        3.3339     0.1483   22.4821   0.0000    3.0433    3.6246\n",
      "x17        0.3536     0.0242   14.6081   0.0000    0.3061    0.4010\n",
      "x18        0.0572     0.0179    3.1975   0.0014    0.0221    0.0922\n",
      "x19        0.0823     0.0198    4.1605   0.0000    0.0436    0.1211\n",
      "x20        0.1378     0.0228    6.0390   0.0000    0.0931    0.1826\n",
      "=================================================================\n",
      "\n"
     ]
    }
   ],
   "source": [
    "logit_model8=sm.Logit(y_train8,x_train8)\n",
    "result8=logit_model8.fit()\n",
    "print(result8.summary2())"
   ]
  },
  {
   "cell_type": "code",
   "execution_count": 199,
   "metadata": {},
   "outputs": [
    {
     "name": "stdout",
     "output_type": "stream",
     "text": [
      "Accuracy of logistic regression classifier on val set: 0.89\n"
     ]
    }
   ],
   "source": [
    "lm_8 = LogisticRegression()\n",
    "lm_8.fit(x_train8, y_train8)\n",
    "\n",
    "x_val8 = scaler8.transform(df_val_8[features8])\n",
    "preds8 = lm_8.predict(x_val8)\n",
    "print('Accuracy of logistic regression classifier on val set: {:.2f}'.format(lm_8.score(x_val8, y_val)))"
   ]
  },
  {
   "cell_type": "code",
   "execution_count": 200,
   "metadata": {
    "scrolled": true
   },
   "outputs": [
    {
     "data": {
      "text/plain": [
       "array([[2961,   76],\n",
       "       [ 326,  166]])"
      ]
     },
     "execution_count": 200,
     "metadata": {},
     "output_type": "execute_result"
    }
   ],
   "source": [
    "confusion_matrix(df_val['bank_acc'], \n",
    "                 preds8)"
   ]
  },
  {
   "cell_type": "markdown",
   "metadata": {},
   "source": [
    "Minor improvement in recall for non-account but decrease in recall for account"
   ]
  },
  {
   "cell_type": "code",
   "execution_count": 201,
   "metadata": {},
   "outputs": [
    {
     "name": "stdout",
     "output_type": "stream",
     "text": [
      "              precision    recall  f1-score   support\n",
      "\n",
      "           0       0.90      0.97      0.94      3037\n",
      "           1       0.69      0.34      0.45       492\n",
      "\n",
      "    accuracy                           0.89      3529\n",
      "   macro avg       0.79      0.66      0.69      3529\n",
      "weighted avg       0.87      0.89      0.87      3529\n",
      "\n"
     ]
    }
   ],
   "source": [
    "print(classification_report(y_val, preds8))"
   ]
  },
  {
   "cell_type": "markdown",
   "metadata": {},
   "source": [
    "## Removing Single/Never married\n",
    "\n",
    "Based on logit summary above"
   ]
  },
  {
   "cell_type": "code",
   "execution_count": 202,
   "metadata": {},
   "outputs": [],
   "source": [
    "x_train_9 = df_train.drop(columns = ['year', 'household_size','relationship_with_head_Other relative',\n",
    "                                     'relationship_with_head_Parent','marital_status_Widowed',\n",
    "                                    'job_type_Remittance Dependent', 'job_type_No Income',\n",
    "                                     'job_type_Informally employed','marital_status_Single/Never Married'])\n",
    "\n",
    "df_val_9 = df_val.drop(columns = ['year', 'household_size','relationship_with_head_Other relative',\n",
    "                                  'relationship_with_head_Parent','marital_status_Widowed',\n",
    "                                 'job_type_Remittance Dependent','job_type_No Income',\n",
    "                                 'job_type_Informally employed','marital_status_Single/Never Married'])\n",
    "\n",
    "features9 = ['age_of_respondent', 'is_urban', 'cellphone',\n",
    "       'is_male', 'county_Rwanda', 'county_Tanzania', 'county_Uganda',\n",
    "       'relationship_with_head_Head of Household',\n",
    "       'relationship_with_head_Spouse',\n",
    "       'marital_status_Married/Living together',\n",
    "       'education_level_Primary education',\n",
    "       'education_level_Secondary education',\n",
    "       'education_level_Tertiary education',\n",
    "       'education_level_Vocational/Specialised training',\n",
    "       'job_type_Formally employed Government',\n",
    "       'job_type_Formally employed Private', 'job_type_Government Dependent',\n",
    "       'job_type_Other Income',\n",
    "       'job_type_Self employed']"
   ]
  },
  {
   "cell_type": "code",
   "execution_count": 203,
   "metadata": {},
   "outputs": [],
   "source": [
    "scaler9 = StandardScaler()\n",
    "x_train9 = scaler9.fit_transform(x_train_9[features9])\n",
    "y_train9 = df_train['bank_acc']"
   ]
  },
  {
   "cell_type": "code",
   "execution_count": 204,
   "metadata": {},
   "outputs": [
    {
     "name": "stdout",
     "output_type": "stream",
     "text": [
      "Optimization terminated successfully.\n",
      "         Current function value: 0.601714\n",
      "         Iterations 8\n",
      "                         Results: Logit\n",
      "=================================================================\n",
      "Model:              Logit            Pseudo R-squared: -0.481    \n",
      "Dependent Variable: bank_acc         AIC:              17023.1773\n",
      "Date:               2021-01-30 11:33 BIC:              17166.7208\n",
      "No. Observations:   14114            Log-Likelihood:   -8492.6   \n",
      "Df Model:           18               LL-Null:          -5733.9   \n",
      "Df Residuals:       14095            LLR p-value:      1.0000    \n",
      "Converged:          1.0000           Scale:            1.0000    \n",
      "No. Iterations:     8.0000                                       \n",
      "-------------------------------------------------------------------\n",
      "           Coef.    Std.Err.      z      P>|z|     [0.025    0.975]\n",
      "-------------------------------------------------------------------\n",
      "x1         0.0899     0.0226    3.9815   0.0001    0.0456    0.1342\n",
      "x2         0.0987     0.0219    4.4994   0.0000    0.0557    0.1417\n",
      "x3         0.1364     0.0202    6.7454   0.0000    0.0968    0.1760\n",
      "x4         0.0903     0.0227    3.9767   0.0001    0.0458    0.1348\n",
      "x5        -0.0900     0.0239   -3.7721   0.0002   -0.1367   -0.0432\n",
      "x6        -0.2873     0.0289   -9.9492   0.0000   -0.3439   -0.2307\n",
      "x7        -0.1729     0.0231   -7.4964   0.0000   -0.2181   -0.1277\n",
      "x8         0.1993     0.0318    6.2763   0.0000    0.1370    0.2615\n",
      "x9         0.1341     0.0333    4.0220   0.0001    0.0688    0.1995\n",
      "x10        0.0411     0.0247    1.6658   0.0958   -0.0073    0.0896\n",
      "x11        0.1042     0.0262    3.9731   0.0001    0.0528    0.1555\n",
      "x12        0.2724     0.0259   10.4971   0.0000    0.2215    0.3232\n",
      "x13        0.4368     0.0247   17.6781   0.0000    0.3883    0.4852\n",
      "x14        0.3315     0.0248   13.3870   0.0000    0.2830    0.3801\n",
      "x15        3.3333     0.1483   22.4787   0.0000    3.0427    3.6240\n",
      "x16        0.3535     0.0242   14.6028   0.0000    0.3061    0.4010\n",
      "x17        0.0572     0.0179    3.1996   0.0014    0.0222    0.0923\n",
      "x18        0.0821     0.0198    4.1506   0.0000    0.0433    0.1209\n",
      "x19        0.1373     0.0228    6.0240   0.0000    0.0926    0.1819\n",
      "=================================================================\n",
      "\n"
     ]
    }
   ],
   "source": [
    "logit_model9=sm.Logit(y_train9,x_train9)\n",
    "result9=logit_model9.fit()\n",
    "print(result9.summary2())"
   ]
  },
  {
   "cell_type": "code",
   "execution_count": 205,
   "metadata": {},
   "outputs": [
    {
     "name": "stdout",
     "output_type": "stream",
     "text": [
      "Accuracy of logistic regression classifier on val set: 0.89\n"
     ]
    }
   ],
   "source": [
    "lm_9 = LogisticRegression()\n",
    "lm_9.fit(x_train9, y_train9)\n",
    "\n",
    "x_val9 = scaler9.transform(df_val_9[features9])\n",
    "preds9 = lm_9.predict(x_val9)\n",
    "print('Accuracy of logistic regression classifier on val set: {:.2f}'.format(lm_9.score(x_val9, y_val)))"
   ]
  },
  {
   "cell_type": "code",
   "execution_count": 206,
   "metadata": {
    "scrolled": true
   },
   "outputs": [
    {
     "data": {
      "text/plain": [
       "array([[2961,   76],\n",
       "       [ 325,  167]])"
      ]
     },
     "execution_count": 206,
     "metadata": {},
     "output_type": "execute_result"
    }
   ],
   "source": [
    "confusion_matrix(df_val['bank_acc'], \n",
    "                 preds9)"
   ]
  },
  {
   "cell_type": "markdown",
   "metadata": {},
   "source": [
    "No change in recall for non-account but minor improvement in recall for account"
   ]
  },
  {
   "cell_type": "code",
   "execution_count": 207,
   "metadata": {},
   "outputs": [
    {
     "name": "stdout",
     "output_type": "stream",
     "text": [
      "              precision    recall  f1-score   support\n",
      "\n",
      "           0       0.90      0.97      0.94      3037\n",
      "           1       0.69      0.34      0.45       492\n",
      "\n",
      "    accuracy                           0.89      3529\n",
      "   macro avg       0.79      0.66      0.70      3529\n",
      "weighted avg       0.87      0.89      0.87      3529\n",
      "\n"
     ]
    }
   ],
   "source": [
    "print(classification_report(y_val, preds9))"
   ]
  },
  {
   "cell_type": "markdown",
   "metadata": {},
   "source": [
    "## Adding female head hh interaction"
   ]
  },
  {
   "cell_type": "code",
   "execution_count": 208,
   "metadata": {},
   "outputs": [],
   "source": [
    "x_train_10 = x_train_9.copy()\n",
    "df_val_10 = df_val_9.copy()\n",
    "\n",
    "x_train_10['female_hh'] = np.where((x_train_10['is_male'] == 0) & \n",
    "                                   (x_train_10['relationship_with_head_Head of Household']==1),\n",
    "                                  1,0)\n",
    "\n",
    "df_val_10['female_hh'] = np.where((df_val_10['is_male'] == 0) & (df_val_10['relationship_with_head_Head of Household']==1),\n",
    "                                  1,0)\n",
    "\n",
    "features10 = ['age_of_respondent', 'is_urban', 'cellphone',\n",
    "       'is_male', 'county_Rwanda', 'county_Tanzania', 'county_Uganda',\n",
    "       'relationship_with_head_Head of Household',\n",
    "       'relationship_with_head_Spouse',\n",
    "       'marital_status_Married/Living together',\n",
    "       'education_level_Primary education',\n",
    "       'education_level_Secondary education',\n",
    "       'education_level_Tertiary education',\n",
    "       'education_level_Vocational/Specialised training',\n",
    "       'job_type_Formally employed Government',\n",
    "       'job_type_Formally employed Private', 'job_type_Government Dependent',\n",
    "       'job_type_Other Income',\n",
    "       'job_type_Self employed','female_hh']"
   ]
  },
  {
   "cell_type": "code",
   "execution_count": 209,
   "metadata": {},
   "outputs": [],
   "source": [
    "scaler10 = StandardScaler()\n",
    "x_train10 = scaler10.fit_transform(x_train_10[features10])\n",
    "y_train10 = df_train['bank_acc']"
   ]
  },
  {
   "cell_type": "code",
   "execution_count": 210,
   "metadata": {},
   "outputs": [
    {
     "name": "stdout",
     "output_type": "stream",
     "text": [
      "Optimization terminated successfully.\n",
      "         Current function value: 0.601569\n",
      "         Iterations 8\n",
      "                         Results: Logit\n",
      "=================================================================\n",
      "Model:              Logit            Pseudo R-squared: -0.481    \n",
      "Dependent Variable: bank_acc         AIC:              17021.0991\n",
      "Date:               2021-01-30 11:33 BIC:              17172.1975\n",
      "No. Observations:   14114            Log-Likelihood:   -8490.5   \n",
      "Df Model:           19               LL-Null:          -5733.9   \n",
      "Df Residuals:       14094            LLR p-value:      1.0000    \n",
      "Converged:          1.0000           Scale:            1.0000    \n",
      "No. Iterations:     8.0000                                       \n",
      "-------------------------------------------------------------------\n",
      "          Coef.    Std.Err.      z       P>|z|     [0.025    0.975]\n",
      "-------------------------------------------------------------------\n",
      "x1        0.0906     0.0226     4.0113   0.0001    0.0463    0.1349\n",
      "x2        0.0978     0.0219     4.4561   0.0000    0.0548    0.1408\n",
      "x3        0.1362     0.0202     6.7365   0.0000    0.0966    0.1759\n",
      "x4        0.0173     0.0427     0.4052   0.6854   -0.0664    0.1010\n",
      "x5       -0.0930     0.0239    -3.8884   0.0001   -0.1398   -0.0461\n",
      "x6       -0.2935     0.0291   -10.0941   0.0000   -0.3504   -0.2365\n",
      "x7       -0.1743     0.0231    -7.5502   0.0000   -0.2195   -0.1290\n",
      "x8        0.2551     0.0422     6.0399   0.0000    0.1723    0.3378\n",
      "x9        0.1111     0.0351     3.1626   0.0016    0.0422    0.1799\n",
      "x10       0.0308     0.0253     1.2206   0.2222   -0.0187    0.0803\n",
      "x11       0.1010     0.0263     3.8464   0.0001    0.0495    0.1525\n",
      "x12       0.2700     0.0260    10.3956   0.0000    0.2191    0.3209\n",
      "x13       0.4350     0.0247    17.5986   0.0000    0.3866    0.4835\n",
      "x14       0.3303     0.0248    13.3310   0.0000    0.2817    0.3788\n",
      "x15       3.3326     0.1483    22.4722   0.0000    3.0420    3.6233\n",
      "x16       0.3530     0.0242    14.5812   0.0000    0.3055    0.4004\n",
      "x17       0.0579     0.0179     3.2332   0.0012    0.0228    0.0930\n",
      "x18       0.0826     0.0198     4.1734   0.0000    0.0438    0.1214\n",
      "x19       0.1367     0.0228     5.9991   0.0000    0.0921    0.1814\n",
      "x20      -0.0861     0.0427    -2.0179   0.0436   -0.1698   -0.0025\n",
      "=================================================================\n",
      "\n"
     ]
    }
   ],
   "source": [
    "logit_model10=sm.Logit(y_train10,x_train10)\n",
    "result10=logit_model10.fit()\n",
    "print(result10.summary2())"
   ]
  },
  {
   "cell_type": "code",
   "execution_count": 211,
   "metadata": {},
   "outputs": [
    {
     "name": "stdout",
     "output_type": "stream",
     "text": [
      "Accuracy of logistic regression classifier on val set: 0.89\n"
     ]
    }
   ],
   "source": [
    "lm_10 = LogisticRegression()\n",
    "lm_10.fit(x_train10, y_train10)\n",
    "\n",
    "x_val10 = scaler10.transform(df_val_10[features10])\n",
    "preds10 = lm_10.predict(x_val10)\n",
    "print('Accuracy of logistic regression classifier on val set: {:.2f}'.format(lm_10.score(x_val10, y_val)))"
   ]
  },
  {
   "cell_type": "code",
   "execution_count": 212,
   "metadata": {},
   "outputs": [
    {
     "data": {
      "text/plain": [
       "array([[2962,   75],\n",
       "       [ 326,  166]])"
      ]
     },
     "execution_count": 212,
     "metadata": {},
     "output_type": "execute_result"
    }
   ],
   "source": [
    "confusion_matrix(df_val['bank_acc'], \n",
    "                 preds10)"
   ]
  },
  {
   "cell_type": "code",
   "execution_count": 213,
   "metadata": {
    "scrolled": true
   },
   "outputs": [
    {
     "name": "stdout",
     "output_type": "stream",
     "text": [
      "              precision    recall  f1-score   support\n",
      "\n",
      "           0       0.90      0.98      0.94      3037\n",
      "           1       0.69      0.34      0.45       492\n",
      "\n",
      "    accuracy                           0.89      3529\n",
      "   macro avg       0.79      0.66      0.69      3529\n",
      "weighted avg       0.87      0.89      0.87      3529\n",
      "\n"
     ]
    }
   ],
   "source": [
    "print(classification_report(y_val, preds10))"
   ]
  },
  {
   "cell_type": "code",
   "execution_count": 214,
   "metadata": {},
   "outputs": [],
   "source": [
    "df_val_10['proba_bank'] = lm_10.predict_proba(df_val_10[['age_of_respondent', 'is_urban', 'cellphone',\n",
    "       'is_male', 'county_Rwanda', 'county_Tanzania', 'county_Uganda',\n",
    "       'relationship_with_head_Head of Household',\n",
    "       'relationship_with_head_Spouse',\n",
    "       'marital_status_Married/Living together',\n",
    "       'education_level_Primary education',\n",
    "       'education_level_Secondary education',\n",
    "       'education_level_Tertiary education',\n",
    "       'education_level_Vocational/Specialised training',\n",
    "       'job_type_Formally employed Government',\n",
    "       'job_type_Formally employed Private', 'job_type_Government Dependent',\n",
    "       'job_type_Other Income',\n",
    "       'job_type_Self employed','female_hh']])[:, 1]\n",
    "\n",
    "fpr10, tpr10, thresholds10 = roc_curve(df_val_10['bank_acc'],\n",
    "                                 df_val_10['proba_bank'])"
   ]
  },
  {
   "cell_type": "code",
   "execution_count": 215,
   "metadata": {
    "scrolled": false
   },
   "outputs": [
    {
     "data": {
      "image/png": "[encoded data removed]",
      "text/plain": [
       "<Figure size 432x288 with 1 Axes>"
      ]
     },
     "metadata": {
      "needs_background": "light"
     },
     "output_type": "display_data"
    }
   ],
   "source": [
    "plot_roc(df_val_10['bank_acc'], lm_10.predict_proba(x_val10)[:, 1])"
   ]
  },
  {
   "cell_type": "markdown",
   "metadata": {},
   "source": [
    "## Adding rural and primary education interaction"
   ]
  },
  {
   "cell_type": "code",
   "execution_count": 216,
   "metadata": {},
   "outputs": [],
   "source": [
    "x_train_11 = x_train_10.copy()\n",
    "df_val_11 = df_val_10.copy()\n",
    "\n",
    "x_train_11['rural_primary'] = np.where((x_train_11['is_urban'] == 0) & \n",
    "                                   (x_train_11['education_level_Primary education']==1),\n",
    "                                  1,0)\n",
    "\n",
    "df_val_11['rural_primary'] = np.where((df_val_11['is_urban'] == 0) & (df_val_11['education_level_Primary education']==1),\n",
    "                                  1,0)\n",
    "\n",
    "features11 = ['age_of_respondent', 'is_urban', 'cellphone',\n",
    "       'is_male', 'county_Rwanda', 'county_Tanzania', 'county_Uganda',\n",
    "       'relationship_with_head_Head of Household',\n",
    "       'relationship_with_head_Spouse',\n",
    "       'marital_status_Married/Living together',\n",
    "       'education_level_Primary education',\n",
    "       'education_level_Secondary education',\n",
    "       'education_level_Tertiary education',\n",
    "       'education_level_Vocational/Specialised training',\n",
    "       'job_type_Formally employed Government',\n",
    "       'job_type_Formally employed Private', 'job_type_Government Dependent',\n",
    "       'job_type_Other Income',\n",
    "       'job_type_Self employed','female_hh','rural_primary']"
   ]
  },
  {
   "cell_type": "code",
   "execution_count": 217,
   "metadata": {},
   "outputs": [],
   "source": [
    "scaler11 = StandardScaler()\n",
    "x_train11 = scaler11.fit_transform(x_train_11[features11])\n",
    "y_train11 = df_train['bank_acc']"
   ]
  },
  {
   "cell_type": "code",
   "execution_count": 218,
   "metadata": {},
   "outputs": [
    {
     "name": "stdout",
     "output_type": "stream",
     "text": [
      "Optimization terminated successfully.\n",
      "         Current function value: 0.601255\n",
      "         Iterations 8\n",
      "                         Results: Logit\n",
      "=================================================================\n",
      "Model:              Logit            Pseudo R-squared: -0.480    \n",
      "Dependent Variable: bank_acc         AIC:              17014.2368\n",
      "Date:               2021-01-30 11:33 BIC:              17172.8902\n",
      "No. Observations:   14114            Log-Likelihood:   -8486.1   \n",
      "Df Model:           20               LL-Null:          -5733.9   \n",
      "Df Residuals:       14093            LLR p-value:      1.0000    \n",
      "Converged:          1.0000           Scale:            1.0000    \n",
      "No. Iterations:     8.0000                                       \n",
      "-------------------------------------------------------------------\n",
      "           Coef.    Std.Err.      z      P>|z|     [0.025    0.975]\n",
      "-------------------------------------------------------------------\n",
      "x1         0.0916     0.0226    4.0544   0.0001    0.0473    0.1358\n",
      "x2         0.1573     0.0297    5.3036   0.0000    0.0992    0.2154\n",
      "x3         0.1373     0.0202    6.7842   0.0000    0.0977    0.1770\n",
      "x4         0.0178     0.0427    0.4162   0.6772   -0.0660    0.1015\n",
      "x5        -0.0947     0.0239   -3.9598   0.0001   -0.1416   -0.0478\n",
      "x6        -0.2856     0.0292   -9.7889   0.0000   -0.3428   -0.2284\n",
      "x7        -0.1759     0.0231   -7.6112   0.0000   -0.2211   -0.1306\n",
      "x8         0.2558     0.0422    6.0565   0.0000    0.1730    0.3386\n",
      "x9         0.1122     0.0351    3.1930   0.0014    0.0433    0.1811\n",
      "x10        0.0281     0.0253    1.1116   0.2663   -0.0215    0.0777\n",
      "x11        0.0225     0.0371    0.6071   0.5438   -0.0502    0.0953\n",
      "x12        0.2653     0.0260   10.1898   0.0000    0.2143    0.3164\n",
      "x13        0.4264     0.0249   17.1293   0.0000    0.3776    0.4752\n",
      "x14        0.3265     0.0248   13.1506   0.0000    0.2779    0.3752\n",
      "x15        3.3272     0.1484   22.4248   0.0000    3.0364    3.6180\n",
      "x16        0.3514     0.0242   14.5160   0.0000    0.3040    0.3989\n",
      "x17        0.0579     0.0179    3.2322   0.0012    0.0228    0.0929\n",
      "x18        0.0823     0.0198    4.1540   0.0000    0.0435    0.1211\n",
      "x19        0.1387     0.0228    6.0780   0.0000    0.0940    0.1834\n",
      "x20       -0.0865     0.0427   -2.0247   0.0429   -0.1702   -0.0028\n",
      "x21        0.1105     0.0371    2.9782   0.0029    0.0378    0.1832\n",
      "=================================================================\n",
      "\n"
     ]
    }
   ],
   "source": [
    "logit_model11=sm.Logit(y_train11,x_train11)\n",
    "result11=logit_model11.fit()\n",
    "print(result11.summary2())"
   ]
  },
  {
   "cell_type": "code",
   "execution_count": 219,
   "metadata": {},
   "outputs": [
    {
     "name": "stdout",
     "output_type": "stream",
     "text": [
      "Accuracy of logistic regression classifier on val set: 0.89\n"
     ]
    }
   ],
   "source": [
    "lm_11 = LogisticRegression()\n",
    "lm_11.fit(x_train11, y_train11)\n",
    "\n",
    "x_val11 = scaler11.transform(df_val_11[features11])\n",
    "preds11 = lm_11.predict(x_val11)\n",
    "print('Accuracy of logistic regression classifier on val set: {:.2f}'.format(lm_11.score(x_val11, y_val)))"
   ]
  },
  {
   "cell_type": "code",
   "execution_count": 220,
   "metadata": {},
   "outputs": [
    {
     "data": {
      "text/plain": [
       "array([[2963,   74],\n",
       "       [ 325,  167]])"
      ]
     },
     "execution_count": 220,
     "metadata": {},
     "output_type": "execute_result"
    }
   ],
   "source": [
    "confusion_matrix(df_val['bank_acc'], \n",
    "                 preds11)"
   ]
  },
  {
   "cell_type": "code",
   "execution_count": 221,
   "metadata": {
    "scrolled": true
   },
   "outputs": [
    {
     "name": "stdout",
     "output_type": "stream",
     "text": [
      "              precision    recall  f1-score   support\n",
      "\n",
      "           0       0.90      0.98      0.94      3037\n",
      "           1       0.69      0.34      0.46       492\n",
      "\n",
      "    accuracy                           0.89      3529\n",
      "   macro avg       0.80      0.66      0.70      3529\n",
      "weighted avg       0.87      0.89      0.87      3529\n",
      "\n"
     ]
    }
   ],
   "source": [
    "print(classification_report(y_val, preds11))"
   ]
  },
  {
   "cell_type": "markdown",
   "metadata": {},
   "source": [
    "## Removing married / living together"
   ]
  },
  {
   "cell_type": "code",
   "execution_count": 222,
   "metadata": {},
   "outputs": [],
   "source": [
    "x_train_12 = x_train_11.drop(columns='marital_status_Married/Living together')\n",
    "\n",
    "df_val_12 = df_val_11.drop(columns='marital_status_Married/Living together')\n",
    "\n",
    "features12 = ['age_of_respondent', 'is_urban', 'cellphone',\n",
    "       'is_male', 'county_Rwanda', 'county_Tanzania', 'county_Uganda',\n",
    "       'relationship_with_head_Head of Household',\n",
    "       'relationship_with_head_Spouse',\n",
    "       'education_level_Primary education',\n",
    "       'education_level_Secondary education',\n",
    "       'education_level_Tertiary education',\n",
    "       'education_level_Vocational/Specialised training',\n",
    "       'job_type_Formally employed Government',\n",
    "       'job_type_Formally employed Private', 'job_type_Government Dependent',\n",
    "       'job_type_Other Income',\n",
    "       'job_type_Self employed','female_hh','rural_primary']"
   ]
  },
  {
   "cell_type": "code",
   "execution_count": 223,
   "metadata": {},
   "outputs": [],
   "source": [
    "scaler12 = StandardScaler()\n",
    "x_train12 = scaler12.fit_transform(x_train_12[features12])\n",
    "y_train12 = df_train['bank_acc']"
   ]
  },
  {
   "cell_type": "code",
   "execution_count": 224,
   "metadata": {},
   "outputs": [
    {
     "name": "stdout",
     "output_type": "stream",
     "text": [
      "Optimization terminated successfully.\n",
      "         Current function value: 0.601299\n",
      "         Iterations 8\n",
      "                         Results: Logit\n",
      "=================================================================\n",
      "Model:              Logit            Pseudo R-squared: -0.480    \n",
      "Dependent Variable: bank_acc         AIC:              17013.4704\n",
      "Date:               2021-01-30 11:33 BIC:              17164.5688\n",
      "No. Observations:   14114            Log-Likelihood:   -8486.7   \n",
      "Df Model:           19               LL-Null:          -5733.9   \n",
      "Df Residuals:       14094            LLR p-value:      1.0000    \n",
      "Converged:          1.0000           Scale:            1.0000    \n",
      "No. Iterations:     8.0000                                       \n",
      "-------------------------------------------------------------------\n",
      "          Coef.    Std.Err.      z       P>|z|     [0.025    0.975]\n",
      "-------------------------------------------------------------------\n",
      "x1        0.0909     0.0226     4.0246   0.0001    0.0466    0.1351\n",
      "x2        0.1565     0.0297     5.2770   0.0000    0.0984    0.2146\n",
      "x3        0.1385     0.0202     6.8535   0.0000    0.0989    0.1782\n",
      "x4        0.0166     0.0427     0.3887   0.6975   -0.0671    0.1003\n",
      "x5       -0.0955     0.0239    -3.9956   0.0001   -0.1424   -0.0487\n",
      "x6       -0.2980     0.0270   -11.0421   0.0000   -0.3509   -0.2451\n",
      "x7       -0.1753     0.0231    -7.5896   0.0000   -0.2206   -0.1300\n",
      "x8        0.2720     0.0397     6.8536   0.0000    0.1942    0.3497\n",
      "x9        0.1285     0.0320     4.0188   0.0001    0.0658    0.1912\n",
      "x10       0.0218     0.0371     0.5876   0.5568   -0.0510    0.0946\n",
      "x11       0.2651     0.0260    10.1813   0.0000    0.2141    0.3161\n",
      "x12       0.4259     0.0249    17.1039   0.0000    0.3771    0.4747\n",
      "x13       0.3266     0.0248    13.1513   0.0000    0.2779    0.3753\n",
      "x14       3.3273     0.1484    22.4248   0.0000    3.0364    3.6181\n",
      "x15       0.3515     0.0242    14.5146   0.0000    0.3040    0.3990\n",
      "x16       0.0572     0.0179     3.1942   0.0014    0.0221    0.0923\n",
      "x17       0.0820     0.0198     4.1395   0.0000    0.0432    0.1208\n",
      "x18       0.1386     0.0228     6.0742   0.0000    0.0939    0.1833\n",
      "x19      -0.0961     0.0418    -2.2968   0.0216   -0.1781   -0.0141\n",
      "x20       0.1120     0.0371     3.0205   0.0025    0.0393    0.1847\n",
      "=================================================================\n",
      "\n"
     ]
    }
   ],
   "source": [
    "logit_model12=sm.Logit(y_train12,x_train12)\n",
    "result12=logit_model12.fit()\n",
    "print(result12.summary2())"
   ]
  },
  {
   "cell_type": "code",
   "execution_count": 225,
   "metadata": {},
   "outputs": [
    {
     "name": "stdout",
     "output_type": "stream",
     "text": [
      "Accuracy of logistic regression classifier on val set: 0.89\n"
     ]
    }
   ],
   "source": [
    "lm_12 = LogisticRegression()\n",
    "lm_12.fit(x_train12, y_train12)\n",
    "\n",
    "x_val12 = scaler12.transform(df_val_12[features12])\n",
    "preds12 = lm_12.predict(x_val12)\n",
    "print('Accuracy of logistic regression classifier on val set: {:.2f}'.format(lm_12.score(x_val12, y_val)))"
   ]
  },
  {
   "cell_type": "code",
   "execution_count": 226,
   "metadata": {},
   "outputs": [
    {
     "data": {
      "text/plain": [
       "array([[2962,   75],\n",
       "       [ 324,  168]])"
      ]
     },
     "execution_count": 226,
     "metadata": {},
     "output_type": "execute_result"
    }
   ],
   "source": [
    "confusion_matrix(df_val['bank_acc'], \n",
    "                 preds12)"
   ]
  },
  {
   "cell_type": "code",
   "execution_count": 227,
   "metadata": {
    "scrolled": true
   },
   "outputs": [
    {
     "name": "stdout",
     "output_type": "stream",
     "text": [
      "              precision    recall  f1-score   support\n",
      "\n",
      "           0       0.90      0.98      0.94      3037\n",
      "           1       0.69      0.34      0.46       492\n",
      "\n",
      "    accuracy                           0.89      3529\n",
      "   macro avg       0.80      0.66      0.70      3529\n",
      "weighted avg       0.87      0.89      0.87      3529\n",
      "\n"
     ]
    }
   ],
   "source": [
    "print(classification_report(y_val, preds12))"
   ]
  },
  {
   "cell_type": "markdown",
   "metadata": {},
   "source": [
    "## Removing secondary education"
   ]
  },
  {
   "cell_type": "code",
   "execution_count": 228,
   "metadata": {},
   "outputs": [],
   "source": [
    "x_train_13 = x_train_12.drop(columns='education_level_Secondary education')\n",
    "\n",
    "df_val_13 = df_val_12.drop(columns='education_level_Secondary education')\n",
    "\n",
    "features13 = ['age_of_respondent', 'is_urban', 'cellphone',\n",
    "       'is_male', 'county_Rwanda', 'county_Tanzania', 'county_Uganda',\n",
    "       'relationship_with_head_Head of Household',\n",
    "       'relationship_with_head_Spouse',\n",
    "       'education_level_Primary education',\n",
    "       'education_level_Tertiary education',\n",
    "       'education_level_Vocational/Specialised training',\n",
    "       'job_type_Formally employed Government',\n",
    "       'job_type_Formally employed Private', 'job_type_Government Dependent',\n",
    "       'job_type_Other Income',\n",
    "       'job_type_Self employed','female_hh','rural_primary']"
   ]
  },
  {
   "cell_type": "code",
   "execution_count": 229,
   "metadata": {},
   "outputs": [],
   "source": [
    "scaler13 = StandardScaler()\n",
    "x_train13 = scaler13.fit_transform(x_train_13[features13])\n",
    "y_train13 = df_train['bank_acc']"
   ]
  },
  {
   "cell_type": "code",
   "execution_count": 230,
   "metadata": {},
   "outputs": [
    {
     "name": "stdout",
     "output_type": "stream",
     "text": [
      "Optimization terminated successfully.\n",
      "         Current function value: 0.605012\n",
      "         Iterations 8\n",
      "                         Results: Logit\n",
      "=================================================================\n",
      "Model:              Logit            Pseudo R-squared: -0.489    \n",
      "Dependent Variable: bank_acc         AIC:              17116.2881\n",
      "Date:               2021-01-30 11:33 BIC:              17259.8316\n",
      "No. Observations:   14114            Log-Likelihood:   -8539.1   \n",
      "Df Model:           18               LL-Null:          -5733.9   \n",
      "Df Residuals:       14095            LLR p-value:      1.0000    \n",
      "Converged:          1.0000           Scale:            1.0000    \n",
      "No. Iterations:     8.0000                                       \n",
      "-------------------------------------------------------------------\n",
      "          Coef.    Std.Err.      z       P>|z|     [0.025    0.975]\n",
      "-------------------------------------------------------------------\n",
      "x1        0.0332     0.0217     1.5293   0.1262   -0.0094    0.0758\n",
      "x2        0.1910     0.0292     6.5359   0.0000    0.1337    0.2483\n",
      "x3        0.1753     0.0199     8.8252   0.0000    0.1364    0.2142\n",
      "x4        0.0206     0.0427     0.4822   0.6296   -0.0631    0.1042\n",
      "x5       -0.1303     0.0235    -5.5348   0.0000   -0.1764   -0.0842\n",
      "x6       -0.3386     0.0267   -12.6998   0.0000   -0.3909   -0.2864\n",
      "x7       -0.1818     0.0230    -7.9107   0.0000   -0.2269   -0.1368\n",
      "x8        0.2383     0.0393     6.0571   0.0000    0.1612    0.3154\n",
      "x9        0.0922     0.0316     2.9132   0.0036    0.0302    0.1542\n",
      "x10      -0.1636     0.0319    -5.1296   0.0000   -0.2261   -0.1011\n",
      "x11       0.3379     0.0233    14.5100   0.0000    0.2923    0.3835\n",
      "x12       0.2516     0.0237    10.6342   0.0000    0.2052    0.2980\n",
      "x13       3.3137     0.1478    22.4180   0.0000    3.0240    3.6034\n",
      "x14       0.3618     0.0241    14.9966   0.0000    0.3145    0.4090\n",
      "x15       0.0559     0.0178     3.1372   0.0017    0.0210    0.0908\n",
      "x16       0.0869     0.0197     4.4071   0.0000    0.0482    0.1255\n",
      "x17       0.1439     0.0227     6.3339   0.0000    0.0994    0.1885\n",
      "x18      -0.1152     0.0417    -2.7621   0.0057   -0.1970   -0.0335\n",
      "x19       0.1353     0.0367     3.6815   0.0002    0.0633    0.2073\n",
      "=================================================================\n",
      "\n"
     ]
    }
   ],
   "source": [
    "logit_model13=sm.Logit(y_train13,x_train13)\n",
    "result13=logit_model13.fit()\n",
    "print(result13.summary2())"
   ]
  },
  {
   "cell_type": "code",
   "execution_count": 231,
   "metadata": {},
   "outputs": [
    {
     "name": "stdout",
     "output_type": "stream",
     "text": [
      "Accuracy of logistic regression classifier on val set: 0.88\n"
     ]
    }
   ],
   "source": [
    "lm_13 = LogisticRegression()\n",
    "lm_13.fit(x_train13, y_train13)\n",
    "\n",
    "x_val13 = scaler13.transform(df_val_13[features13])\n",
    "preds13 = lm_13.predict(x_val13)\n",
    "print('Accuracy of logistic regression classifier on val set: {:.2f}'.format(lm_13.score(x_val13, y_val)))"
   ]
  },
  {
   "cell_type": "code",
   "execution_count": 232,
   "metadata": {},
   "outputs": [
    {
     "data": {
      "text/plain": [
       "array([[2963,   74],\n",
       "       [ 338,  154]])"
      ]
     },
     "execution_count": 232,
     "metadata": {},
     "output_type": "execute_result"
    }
   ],
   "source": [
    "confusion_matrix(df_val['bank_acc'], \n",
    "                 preds13)"
   ]
  },
  {
   "cell_type": "code",
   "execution_count": 233,
   "metadata": {
    "scrolled": true
   },
   "outputs": [
    {
     "name": "stdout",
     "output_type": "stream",
     "text": [
      "              precision    recall  f1-score   support\n",
      "\n",
      "           0       0.90      0.98      0.93      3037\n",
      "           1       0.68      0.31      0.43       492\n",
      "\n",
      "    accuracy                           0.88      3529\n",
      "   macro avg       0.79      0.64      0.68      3529\n",
      "weighted avg       0.87      0.88      0.86      3529\n",
      "\n"
     ]
    }
   ],
   "source": [
    "print(classification_report(y_val, preds13))"
   ]
  },
  {
   "cell_type": "markdown",
   "metadata": {},
   "source": [
    "Note the model does better at predicting WITH secondary education and therefore I should __not use this model__"
   ]
  },
  {
   "cell_type": "markdown",
   "metadata": {},
   "source": [
    "## Merging formal employment"
   ]
  },
  {
   "cell_type": "code",
   "execution_count": 272,
   "metadata": {},
   "outputs": [],
   "source": [
    "x_train_14 = x_train_12.copy()\n",
    "\n",
    "df_val_14 = df_val_12.copy()\n",
    "\n",
    "x_train_14['job_type_Formally employed'] = np.where((x_train_14['job_type_Formally employed Government'] == 1) |\n",
    "                                                    (x_train_14['job_type_Formally employed Private'] == 1),1,0)\n",
    "\n",
    "df_val_14['job_type_Formally employed'] = np.where((df_val_14['job_type_Formally employed Government'] == 1) |\n",
    "                                                    (df_val_14['job_type_Formally employed Private'] == 1),1,0)\n",
    "\n",
    "x_train_14 = x_train_14.drop(columns=['job_type_Formally employed Government','job_type_Formally employed Private'])\n",
    "\n",
    "df_val_14 = df_val_14.drop(columns=['job_type_Formally employed Government','job_type_Formally employed Private'])\n",
    "\n",
    "\n",
    "features14 = ['age_of_respondent', 'is_urban', 'cellphone',\n",
    "       'is_male', 'county_Rwanda', 'county_Tanzania', 'county_Uganda',\n",
    "       'relationship_with_head_Head of Household',\n",
    "       'relationship_with_head_Spouse',\n",
    "       'education_level_Primary education',\n",
    "       'education_level_Tertiary education',\n",
    "       'education_level_Vocational/Specialised training',\n",
    "       'job_type_Government Dependent',\n",
    "       'job_type_Other Income',\n",
    "       'job_type_Self employed','female_hh','rural_primary','job_type_Formally employed']"
   ]
  },
  {
   "cell_type": "code",
   "execution_count": 273,
   "metadata": {},
   "outputs": [],
   "source": [
    "scaler14 = StandardScaler()\n",
    "x_train14 = scaler14.fit_transform(x_train_14[features14])\n",
    "y_train14 = df_train['bank_acc']"
   ]
  },
  {
   "cell_type": "code",
   "execution_count": 274,
   "metadata": {},
   "outputs": [
    {
     "name": "stdout",
     "output_type": "stream",
     "text": [
      "Optimization terminated successfully.\n",
      "         Current function value: 0.620508\n",
      "         Iterations 7\n",
      "                         Results: Logit\n",
      "=================================================================\n",
      "Model:              Logit            Pseudo R-squared: -0.527    \n",
      "Dependent Variable: bank_acc         AIC:              17551.7002\n",
      "Date:               2021-01-30 16:07 BIC:              17687.6888\n",
      "No. Observations:   14114            Log-Likelihood:   -8757.9   \n",
      "Df Model:           17               LL-Null:          -5733.9   \n",
      "Df Residuals:       14096            LLR p-value:      1.0000    \n",
      "Converged:          1.0000           Scale:            1.0000    \n",
      "No. Iterations:     7.0000                                       \n",
      "-------------------------------------------------------------------\n",
      "          Coef.    Std.Err.      z       P>|z|     [0.025    0.975]\n",
      "-------------------------------------------------------------------\n",
      "x1        0.0298     0.0213     1.3994   0.1617   -0.0119    0.0715\n",
      "x2        0.2071     0.0296     6.9990   0.0000    0.1491    0.2651\n",
      "x3        0.1573     0.0190     8.2974   0.0000    0.1202    0.1945\n",
      "x4        0.0167     0.0416     0.4009   0.6885   -0.0649    0.0983\n",
      "x5       -0.1272     0.0233    -5.4641   0.0000   -0.1728   -0.0816\n",
      "x6       -0.3505     0.0266   -13.1645   0.0000   -0.4026   -0.2983\n",
      "x7       -0.1853     0.0227    -8.1572   0.0000   -0.2298   -0.1407\n",
      "x8        0.2429     0.0387     6.2806   0.0000    0.1671    0.3187\n",
      "x9        0.0985     0.0308     3.2006   0.0014    0.0382    0.1588\n",
      "x10      -0.1644     0.0315    -5.2196   0.0000   -0.2261   -0.1026\n",
      "x11       0.3854     0.0261    14.7944   0.0000    0.3344    0.4365\n",
      "x12       0.3026     0.0284    10.6519   0.0000    0.2469    0.3583\n",
      "x13       0.0544     0.0178     3.0505   0.0023    0.0194    0.0893\n",
      "x14       0.0851     0.0196     4.3450   0.0000    0.0467    0.1236\n",
      "x15       0.1450     0.0223     6.4889   0.0000    0.1012    0.1888\n",
      "x16      -0.1148     0.0408    -2.8143   0.0049   -0.1948   -0.0349\n",
      "x17       0.1396     0.0363     3.8510   0.0001    0.0686    0.2107\n",
      "x18       0.6418     0.0360    17.8049   0.0000    0.5712    0.7125\n",
      "=================================================================\n",
      "\n"
     ]
    }
   ],
   "source": [
    "logit_model14=sm.Logit(y_train14,x_train14)\n",
    "result14=logit_model14.fit()\n",
    "print(result14.summary2())"
   ]
  },
  {
   "cell_type": "code",
   "execution_count": 275,
   "metadata": {},
   "outputs": [
    {
     "name": "stdout",
     "output_type": "stream",
     "text": [
      "Accuracy of logistic regression classifier on val set: 0.88\n"
     ]
    }
   ],
   "source": [
    "lm_14 = LogisticRegression()\n",
    "lm_14.fit(x_train14, y_train14)\n",
    "\n",
    "x_val14 = scaler14.transform(df_val_14[features14])\n",
    "preds14 = lm_14.predict(x_val14)\n",
    "print('Accuracy of logistic regression classifier on val set: {:.2f}'.format(lm_14.score(x_val14, y_val)))"
   ]
  },
  {
   "cell_type": "code",
   "execution_count": 276,
   "metadata": {},
   "outputs": [
    {
     "data": {
      "text/plain": [
       "array([[2963,   74],\n",
       "       [ 338,  154]])"
      ]
     },
     "execution_count": 276,
     "metadata": {},
     "output_type": "execute_result"
    }
   ],
   "source": [
    "confusion_matrix(df_val['bank_acc'], \n",
    "                 preds14)"
   ]
  },
  {
   "cell_type": "code",
   "execution_count": 277,
   "metadata": {},
   "outputs": [
    {
     "name": "stdout",
     "output_type": "stream",
     "text": [
      "              precision    recall  f1-score   support\n",
      "\n",
      "           0       0.90      0.98      0.93      3037\n",
      "           1       0.68      0.31      0.43       492\n",
      "\n",
      "    accuracy                           0.88      3529\n",
      "   macro avg       0.79      0.64      0.68      3529\n",
      "weighted avg       0.87      0.88      0.86      3529\n",
      "\n"
     ]
    }
   ],
   "source": [
    "print(classification_report(y_val, preds14))"
   ]
  },
  {
   "cell_type": "code",
   "execution_count": 278,
   "metadata": {
    "scrolled": true
   },
   "outputs": [
    {
     "data": {
      "image/png": "[encoded data removed]",
      "text/plain": [
       "<Figure size 432x288 with 1 Axes>"
      ]
     },
     "metadata": {
      "needs_background": "light"
     },
     "output_type": "display_data"
    }
   ],
   "source": [
    "plot_roc(df_val_14['bank_acc'], lm_14.predict_proba(x_val14)[:, 1])"
   ]
  },
  {
   "cell_type": "markdown",
   "metadata": {},
   "source": [
    "Did not improve the model, therefore, keep formal employment seperated"
   ]
  },
  {
   "cell_type": "markdown",
   "metadata": {},
   "source": [
    "## Testing the model on the test set\n",
    "\n",
    "Note the first analysis is based on the first multiple regression model above (including all features, no interactions)"
   ]
  },
  {
   "cell_type": "markdown",
   "metadata": {},
   "source": [
    "1. Preparing the test sample "
   ]
  },
  {
   "cell_type": "code",
   "execution_count": 234,
   "metadata": {},
   "outputs": [
    {
     "name": "stderr",
     "output_type": "stream",
     "text": [
      "<ipython-input-234-120e2e6065ba>:1: SettingWithCopyWarning: \n",
      "A value is trying to be set on a copy of a slice from a DataFrame.\n",
      "Try using .loc[row_indexer,col_indexer] = value instead\n",
      "\n",
      "See the caveats in the documentation: https://pandas.pydata.org/pandas-docs/stable/user_guide/indexing.html#returning-a-view-versus-a-copy\n",
      "  x_test['is_urban'] = np.where(x_test['location_type'] == 'Urban',1,0)\n",
      "<ipython-input-234-120e2e6065ba>:2: SettingWithCopyWarning: \n",
      "A value is trying to be set on a copy of a slice from a DataFrame.\n",
      "Try using .loc[row_indexer,col_indexer] = value instead\n",
      "\n",
      "See the caveats in the documentation: https://pandas.pydata.org/pandas-docs/stable/user_guide/indexing.html#returning-a-view-versus-a-copy\n",
      "  x_test['cellphone'] = np.where(x_test['cellphone_access'] == 'Yes',1,0)\n",
      "<ipython-input-234-120e2e6065ba>:3: SettingWithCopyWarning: \n",
      "A value is trying to be set on a copy of a slice from a DataFrame.\n",
      "Try using .loc[row_indexer,col_indexer] = value instead\n",
      "\n",
      "See the caveats in the documentation: https://pandas.pydata.org/pandas-docs/stable/user_guide/indexing.html#returning-a-view-versus-a-copy\n",
      "  x_test['is_male'] = np.where(x_test['gender_of_respondent'] == 'Male',1,0)\n"
     ]
    }
   ],
   "source": [
    "x_test['is_urban'] = np.where(x_test['location_type'] == 'Urban',1,0)\n",
    "x_test['cellphone'] = np.where(x_test['cellphone_access'] == 'Yes',1,0)\n",
    "x_test['is_male'] = np.where(x_test['gender_of_respondent'] == 'Male',1,0)"
   ]
  },
  {
   "cell_type": "code",
   "execution_count": 235,
   "metadata": {},
   "outputs": [],
   "source": [
    "x_test_cont = x_test[['year','household_size','age_of_respondent','is_urban','cellphone','is_male']]\n",
    "x_test_cat = x_test[['country','relationship_with_head', 'marital_status','education_level', 'job_type']]"
   ]
  },
  {
   "cell_type": "code",
   "execution_count": 236,
   "metadata": {},
   "outputs": [
    {
     "name": "stderr",
     "output_type": "stream",
     "text": [
      "/Users/tawneykirkland/opt/anaconda3/lib/python3.8/site-packages/pandas/core/indexing.py:670: SettingWithCopyWarning: \n",
      "A value is trying to be set on a copy of a slice from a DataFrame\n",
      "\n",
      "See the caveats in the documentation: https://pandas.pydata.org/pandas-docs/stable/user_guide/indexing.html#returning-a-view-versus-a-copy\n",
      "  iloc._setitem_with_indexer(indexer, value)\n",
      "<ipython-input-236-c58a8d9a8085>:1: SettingWithCopyWarning: \n",
      "A value is trying to be set on a copy of a slice from a DataFrame\n",
      "\n",
      "See the caveats in the documentation: https://pandas.pydata.org/pandas-docs/stable/user_guide/indexing.html#returning-a-view-versus-a-copy\n",
      "  x_test_cat.loc[x_test_cat['marital_status'] == 'Dont know', ['marital_status']] = 'Single/Never Married'\n",
      "<ipython-input-236-c58a8d9a8085>:2: SettingWithCopyWarning: \n",
      "A value is trying to be set on a copy of a slice from a DataFrame\n",
      "\n",
      "See the caveats in the documentation: https://pandas.pydata.org/pandas-docs/stable/user_guide/indexing.html#returning-a-view-versus-a-copy\n",
      "  x_test_cat.loc[x_test_cat['education_level'] == 'Other/Dont know/RTA', ['education_level']] = 'No formal education'\n",
      "<ipython-input-236-c58a8d9a8085>:3: SettingWithCopyWarning: \n",
      "A value is trying to be set on a copy of a slice from a DataFrame\n",
      "\n",
      "See the caveats in the documentation: https://pandas.pydata.org/pandas-docs/stable/user_guide/indexing.html#returning-a-view-versus-a-copy\n",
      "  x_test_cat.loc[x_test_cat['job_type'] == 'Dont Know/Refuse to answer', ['job_type']] = 'No Income'\n",
      "<ipython-input-236-c58a8d9a8085>:4: SettingWithCopyWarning: \n",
      "A value is trying to be set on a copy of a slice from a DataFrame\n",
      "\n",
      "See the caveats in the documentation: https://pandas.pydata.org/pandas-docs/stable/user_guide/indexing.html#returning-a-view-versus-a-copy\n",
      "  x_test_cat.loc[x_test_cat['relationship_with_head'] == 'Other non-relatives', ['relationship_with_head']] = 'Other relative'\n"
     ]
    }
   ],
   "source": [
    "x_test_cat.loc[x_test_cat['marital_status'] == 'Dont know', ['marital_status']] = 'Single/Never Married'\n",
    "x_test_cat.loc[x_test_cat['education_level'] == 'Other/Dont know/RTA', ['education_level']] = 'No formal education'\n",
    "x_test_cat.loc[x_test_cat['job_type'] == 'Dont Know/Refuse to answer', ['job_type']] = 'No Income'\n",
    "x_test_cat.loc[x_test_cat['relationship_with_head'] == 'Other non-relatives', ['relationship_with_head']] = 'Other relative'"
   ]
  },
  {
   "cell_type": "code",
   "execution_count": 237,
   "metadata": {},
   "outputs": [],
   "source": [
    "ohe = OneHotEncoder(drop='first', sparse=False)\n",
    "\n",
    "ohe.fit(x_test_cat)\n",
    "\n",
    "ohe_x_test = ohe.transform(x_test_cat)\n",
    "\n",
    "columns = ohe.get_feature_names(['county','relationship_with_head', 'marital_status',\n",
    "       'education_level', 'job_type'])\n",
    "\n",
    "ohe_x_test_df = pd.DataFrame(ohe_x_test, columns=columns, index=x_test.index)"
   ]
  },
  {
   "cell_type": "code",
   "execution_count": 238,
   "metadata": {},
   "outputs": [],
   "source": [
    "combo_test_df = pd.concat([x_test_cont, ohe_x_test_df], axis=1)"
   ]
  },
  {
   "cell_type": "code",
   "execution_count": 239,
   "metadata": {},
   "outputs": [
    {
     "name": "stderr",
     "output_type": "stream",
     "text": [
      "<ipython-input-239-52765b19127d>:1: SettingWithCopyWarning: \n",
      "A value is trying to be set on a copy of a slice from a DataFrame.\n",
      "Try using .loc[row_indexer,col_indexer] = value instead\n",
      "\n",
      "See the caveats in the documentation: https://pandas.pydata.org/pandas-docs/stable/user_guide/indexing.html#returning-a-view-versus-a-copy\n",
      "  y_test['bank_acc'] = np.where(y_test['bank_account'] == 'Yes', 1,0)\n",
      "/Users/tawneykirkland/opt/anaconda3/lib/python3.8/site-packages/pandas/core/frame.py:4163: SettingWithCopyWarning: \n",
      "A value is trying to be set on a copy of a slice from a DataFrame\n",
      "\n",
      "See the caveats in the documentation: https://pandas.pydata.org/pandas-docs/stable/user_guide/indexing.html#returning-a-view-versus-a-copy\n",
      "  return super().drop(\n"
     ]
    }
   ],
   "source": [
    "y_test['bank_acc'] = np.where(y_test['bank_account'] == 'Yes', 1,0)\n",
    "y_test.drop(columns='bank_account',inplace=True)\n",
    "df_test = pd.concat([combo_test_df,y_test],axis=1)"
   ]
  },
  {
   "cell_type": "markdown",
   "metadata": {},
   "source": [
    "2. Testing the model on the test sample"
   ]
  },
  {
   "cell_type": "code",
   "execution_count": 240,
   "metadata": {},
   "outputs": [
    {
     "name": "stdout",
     "output_type": "stream",
     "text": [
      "Accuracy of logistic regression classifier on test set: 0.88\n"
     ]
    }
   ],
   "source": [
    "x_test1 = scaler.transform(df_test[features])\n",
    "preds1 = lm_2.predict(x_test1)\n",
    "print('Accuracy of logistic regression classifier on test set: {:.2f}'.format(lm_2.score(x_test1, y_test)))"
   ]
  },
  {
   "cell_type": "code",
   "execution_count": 241,
   "metadata": {},
   "outputs": [
    {
     "data": {
      "text/plain": [
       "array([[4897,  150],\n",
       "       [ 543,  291]])"
      ]
     },
     "execution_count": 241,
     "metadata": {},
     "output_type": "execute_result"
    }
   ],
   "source": [
    "confusion_matrix(df_test['bank_acc'], \n",
    "                 preds1)"
   ]
  },
  {
   "cell_type": "markdown",
   "metadata": {},
   "source": [
    "\n",
    "| | predict No account (0) | predict account (1)|\n",
    "|---|---|---|\n",
    "| **is no account (0)** | 4839 | 149|\n",
    "| **is account (1)** | 543 | 291 |"
   ]
  },
  {
   "cell_type": "markdown",
   "metadata": {},
   "source": [
    "Need to do the following:\n",
    "* Check error metrics\n",
    "* Conduct cross validation\n",
    "* Test with other classification models "
   ]
  },
  {
   "cell_type": "code",
   "execution_count": 242,
   "metadata": {},
   "outputs": [
    {
     "name": "stdout",
     "output_type": "stream",
     "text": [
      "              precision    recall  f1-score   support\n",
      "\n",
      "           0       0.90      0.97      0.93      5047\n",
      "           1       0.66      0.35      0.46       834\n",
      "\n",
      "    accuracy                           0.88      5881\n",
      "   macro avg       0.78      0.66      0.70      5881\n",
      "weighted avg       0.87      0.88      0.87      5881\n",
      "\n"
     ]
    }
   ],
   "source": [
    "print(classification_report(y_test, preds1))"
   ]
  },
  {
   "cell_type": "code",
   "execution_count": 243,
   "metadata": {},
   "outputs": [
    {
     "data": {
      "image/png": "[encoded data removed]",
      "text/plain": [
       "<Figure size 432x288 with 1 Axes>"
      ]
     },
     "metadata": {
      "needs_background": "light"
     },
     "output_type": "display_data"
    }
   ],
   "source": [
    "plot_roc(df_test['bank_acc'], lm_2.predict_proba(x_test1)[:, 1])"
   ]
  },
  {
   "cell_type": "markdown",
   "metadata": {},
   "source": [
    "## Multiple regression with model 12"
   ]
  },
  {
   "cell_type": "code",
   "execution_count": 253,
   "metadata": {},
   "outputs": [],
   "source": [
    "df_test_12 = df_test.drop(columns= ['year', 'household_size','marital_status_Married/Living together',\n",
    "                          'relationship_with_head_Other relative',\n",
    "                          'relationship_with_head_Parent','marital_status_Widowed','job_type_Remittance Dependent',\n",
    "                         'job_type_No Income'])\n",
    "\n",
    "\n",
    "df_test_12['female_hh'] = np.where((df_test_12['is_male'] == 0) & \n",
    "                                   (df_test_12['relationship_with_head_Head of Household']==1),\n",
    "                                  1,0)\n",
    "\n",
    "df_test_12['rural_primary'] = np.where((df_test_12['is_urban'] == 0) & \n",
    "                                   (df_test_12['education_level_Primary education']==1),\n",
    "                                  1,0)\n",
    "\n",
    "features12 = ['age_of_respondent', 'is_urban', 'cellphone',\n",
    "       'is_male', 'county_Rwanda', 'county_Tanzania', 'county_Uganda',\n",
    "       'relationship_with_head_Head of Household',\n",
    "       'relationship_with_head_Spouse',\n",
    "       'education_level_Primary education',\n",
    "       'education_level_Secondary education',\n",
    "       'education_level_Tertiary education',\n",
    "       'education_level_Vocational/Specialised training',\n",
    "       'job_type_Formally employed Government',\n",
    "       'job_type_Formally employed Private', 'job_type_Government Dependent',\n",
    "       'job_type_Other Income',\n",
    "       'job_type_Self employed','female_hh','rural_primary']"
   ]
  },
  {
   "cell_type": "code",
   "execution_count": 258,
   "metadata": {},
   "outputs": [
    {
     "name": "stdout",
     "output_type": "stream",
     "text": [
      "Accuracy of logistic regression classifier on test set: 0.88\n"
     ]
    }
   ],
   "source": [
    "x_test12 = scaler12.transform(df_test_12[features12])\n",
    "preds12_test = lm_12.predict(x_test12)\n",
    "print('Accuracy of logistic regression classifier on test set: {:.2f}'.format(lm_12.score(x_test12, y_test)))"
   ]
  },
  {
   "cell_type": "code",
   "execution_count": 259,
   "metadata": {},
   "outputs": [
    {
     "data": {
      "text/plain": [
       "array([[4899,  148],\n",
       "       [ 546,  288]])"
      ]
     },
     "execution_count": 259,
     "metadata": {},
     "output_type": "execute_result"
    }
   ],
   "source": [
    "confusion_matrix(df_test_12['bank_acc'], \n",
    "                 preds12_test)"
   ]
  },
  {
   "cell_type": "code",
   "execution_count": 260,
   "metadata": {},
   "outputs": [
    {
     "name": "stdout",
     "output_type": "stream",
     "text": [
      "              precision    recall  f1-score   support\n",
      "\n",
      "           0       0.90      0.97      0.93      5047\n",
      "           1       0.66      0.35      0.45       834\n",
      "\n",
      "    accuracy                           0.88      5881\n",
      "   macro avg       0.78      0.66      0.69      5881\n",
      "weighted avg       0.87      0.88      0.87      5881\n",
      "\n"
     ]
    }
   ],
   "source": [
    "print(classification_report(y_test, preds12_test))"
   ]
  },
  {
   "cell_type": "markdown",
   "metadata": {},
   "source": [
    "Model is broadly consistent across train - val - test"
   ]
  },
  {
   "cell_type": "code",
   "execution_count": null,
   "metadata": {},
   "outputs": [],
   "source": []
  },
  {
   "cell_type": "code",
   "execution_count": null,
   "metadata": {},
   "outputs": [],
   "source": []
  }
 ],
 "metadata": {
  "kernelspec": {
   "display_name": "Python 3",
   "language": "python",
   "name": "python3"
  },
  "language_info": {
   "codemirror_mode": {
    "name": "ipython",
    "version": 3
   },
   "file_extension": ".py",
   "mimetype": "text/x-python",
   "name": "python",
   "nbconvert_exporter": "python",
   "pygments_lexer": "ipython3",
   "version": "3.8.5"
  }
 },
 "nbformat": 4,
 "nbformat_minor": 4
}
