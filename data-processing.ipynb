{
 "cells": [
  {
   "cell_type": "code",
   "execution_count": 593,
   "metadata": {},
   "outputs": [],
   "source": [
    "import pandas as pd\n",
    "import numpy as np\n",
    "\n",
    "from sklearn.model_selection import train_test_split\n",
    "from sklearn.preprocessing import StandardScaler, PolynomialFeatures, OneHotEncoder\n",
    "from sklearn.linear_model import LogisticRegression\n",
    "from sklearn.metrics import roc_auc_score, confusion_matrix, roc_curve\n",
    "\n",
    "import seaborn as sns\n",
    "import matplotlib.pyplot as plt\n",
    "\n",
    "import datetime as dt\n",
    "from datetime import datetime\n",
    "\n",
    "import statsmodels.api as sm\n",
    "import statsmodels.formula.api as smf\n",
    "\n",
    "from pandasql import sqldf"
   ]
  },
  {
   "cell_type": "code",
   "execution_count": 594,
   "metadata": {},
   "outputs": [],
   "source": [
    "df = pd.read_csv('data.csv')"
   ]
  },
  {
   "cell_type": "code",
   "execution_count": 595,
   "metadata": {},
   "outputs": [],
   "source": [
    "x = df[['country', 'year', 'uniqueid', 'location_type',\n",
    "       'cellphone_access', 'household_size', 'age_of_respondent',\n",
    "       'gender_of_respondent', 'relationship_with_head', 'marital_status',\n",
    "       'education_level', 'job_type']]\n",
    "\n",
    "\n",
    "y = df[['bank_account']]\n",
    "\n",
    "x_tr, x_test, y_tr, y_test = train_test_split(x, y,test_size=.25, random_state=12)"
   ]
  },
  {
   "cell_type": "code",
   "execution_count": 596,
   "metadata": {
    "scrolled": true
   },
   "outputs": [
    {
     "name": "stderr",
     "output_type": "stream",
     "text": [
      "<ipython-input-596-02e3f9e08314>:1: SettingWithCopyWarning: \n",
      "A value is trying to be set on a copy of a slice from a DataFrame.\n",
      "Try using .loc[row_indexer,col_indexer] = value instead\n",
      "\n",
      "See the caveats in the documentation: https://pandas.pydata.org/pandas-docs/stable/user_guide/indexing.html#returning-a-view-versus-a-copy\n",
      "  x_tr['is_urban'] = np.where(x_tr['location_type'] == 'Urban',1,0)\n",
      "<ipython-input-596-02e3f9e08314>:2: SettingWithCopyWarning: \n",
      "A value is trying to be set on a copy of a slice from a DataFrame.\n",
      "Try using .loc[row_indexer,col_indexer] = value instead\n",
      "\n",
      "See the caveats in the documentation: https://pandas.pydata.org/pandas-docs/stable/user_guide/indexing.html#returning-a-view-versus-a-copy\n",
      "  x_tr['cellphone'] = np.where(x_tr['cellphone_access'] == 'Yes',1,0)\n",
      "<ipython-input-596-02e3f9e08314>:3: SettingWithCopyWarning: \n",
      "A value is trying to be set on a copy of a slice from a DataFrame.\n",
      "Try using .loc[row_indexer,col_indexer] = value instead\n",
      "\n",
      "See the caveats in the documentation: https://pandas.pydata.org/pandas-docs/stable/user_guide/indexing.html#returning-a-view-versus-a-copy\n",
      "  x_tr['is_male'] = np.where(x_tr['gender_of_respondent'] == 'Male',1,0)\n"
     ]
    }
   ],
   "source": [
    "x_tr['is_urban'] = np.where(x_tr['location_type'] == 'Urban',1,0)\n",
    "x_tr['cellphone'] = np.where(x_tr['cellphone_access'] == 'Yes',1,0)\n",
    "x_tr['is_male'] = np.where(x_tr['gender_of_respondent'] == 'Male',1,0)"
   ]
  },
  {
   "cell_type": "code",
   "execution_count": 597,
   "metadata": {},
   "outputs": [],
   "source": [
    "x_tr_cont = x_tr[['year','household_size','age_of_respondent','is_urban','cellphone','is_male']]\n",
    "x_tr_cat = x_tr[['country','relationship_with_head', 'marital_status','education_level', 'job_type']]"
   ]
  },
  {
   "cell_type": "code",
   "execution_count": 598,
   "metadata": {},
   "outputs": [
    {
     "name": "stderr",
     "output_type": "stream",
     "text": [
      "/Users/tawneykirkland/opt/anaconda3/lib/python3.8/site-packages/pandas/core/indexing.py:670: SettingWithCopyWarning: \n",
      "A value is trying to be set on a copy of a slice from a DataFrame\n",
      "\n",
      "See the caveats in the documentation: https://pandas.pydata.org/pandas-docs/stable/user_guide/indexing.html#returning-a-view-versus-a-copy\n",
      "  iloc._setitem_with_indexer(indexer, value)\n",
      "<ipython-input-598-fd79ac22a8b3>:2: SettingWithCopyWarning: \n",
      "A value is trying to be set on a copy of a slice from a DataFrame\n",
      "\n",
      "See the caveats in the documentation: https://pandas.pydata.org/pandas-docs/stable/user_guide/indexing.html#returning-a-view-versus-a-copy\n",
      "  x_tr_cat.loc[x_tr_cat['marital_status'] == 'Dont know', ['marital_status']] = 'Single/Never Married'\n",
      "<ipython-input-598-fd79ac22a8b3>:3: SettingWithCopyWarning: \n",
      "A value is trying to be set on a copy of a slice from a DataFrame\n",
      "\n",
      "See the caveats in the documentation: https://pandas.pydata.org/pandas-docs/stable/user_guide/indexing.html#returning-a-view-versus-a-copy\n",
      "  x_tr_cat.loc[x_tr_cat['education_level'] == 'Other/Dont know/RTA', ['education_level']] = 'No formal education'\n",
      "<ipython-input-598-fd79ac22a8b3>:4: SettingWithCopyWarning: \n",
      "A value is trying to be set on a copy of a slice from a DataFrame\n",
      "\n",
      "See the caveats in the documentation: https://pandas.pydata.org/pandas-docs/stable/user_guide/indexing.html#returning-a-view-versus-a-copy\n",
      "  x_tr_cat.loc[x_tr_cat['job_type'] == 'Dont Know/Refuse to answer', ['job_type']] = 'No Income'\n",
      "<ipython-input-598-fd79ac22a8b3>:5: SettingWithCopyWarning: \n",
      "A value is trying to be set on a copy of a slice from a DataFrame\n",
      "\n",
      "See the caveats in the documentation: https://pandas.pydata.org/pandas-docs/stable/user_guide/indexing.html#returning-a-view-versus-a-copy\n",
      "  x_tr_cat.loc[x_tr_cat['relationship_with_head'] == 'Other non-relatives', ['relationship_with_head']] = 'Other relative'\n"
     ]
    }
   ],
   "source": [
    "# Regroup to reduce number of categories\n",
    "x_tr_cat.loc[x_tr_cat['marital_status'] == 'Dont know', ['marital_status']] = 'Single/Never Married'\n",
    "x_tr_cat.loc[x_tr_cat['education_level'] == 'Other/Dont know/RTA', ['education_level']] = 'No formal education'\n",
    "x_tr_cat.loc[x_tr_cat['job_type'] == 'Dont Know/Refuse to answer', ['job_type']] = 'No Income'\n",
    "x_tr_cat.loc[x_tr_cat['relationship_with_head'] == 'Other non-relatives', ['relationship_with_head']] = 'Other relative'"
   ]
  },
  {
   "cell_type": "code",
   "execution_count": 599,
   "metadata": {
    "scrolled": true
   },
   "outputs": [],
   "source": [
    "ohe = OneHotEncoder(drop='first', sparse=False)\n",
    "\n",
    "ohe.fit(x_tr_cat)\n",
    "\n",
    "ohe_x_train = ohe.transform(x_tr_cat)\n",
    "\n",
    "columns = ohe.get_feature_names(['county','relationship_with_head', 'marital_status',\n",
    "       'education_level', 'job_type'])\n",
    "\n",
    "ohe_x_tr_df = pd.DataFrame(ohe_x_train, columns=columns, index=x_tr.index)"
   ]
  },
  {
   "cell_type": "code",
   "execution_count": 600,
   "metadata": {},
   "outputs": [],
   "source": [
    "combo_train_df = pd.concat([x_tr_cont, ohe_x_tr_df], axis=1)"
   ]
  },
  {
   "cell_type": "code",
   "execution_count": 601,
   "metadata": {},
   "outputs": [
    {
     "data": {
      "text/plain": [
       "Index(['year', 'household_size', 'age_of_respondent', 'is_urban', 'cellphone',\n",
       "       'is_male', 'county_Rwanda', 'county_Tanzania', 'county_Uganda',\n",
       "       'relationship_with_head_Head of Household',\n",
       "       'relationship_with_head_Other relative',\n",
       "       'relationship_with_head_Parent', 'relationship_with_head_Spouse',\n",
       "       'marital_status_Married/Living together',\n",
       "       'marital_status_Single/Never Married', 'marital_status_Widowed',\n",
       "       'education_level_Primary education',\n",
       "       'education_level_Secondary education',\n",
       "       'education_level_Tertiary education',\n",
       "       'education_level_Vocational/Specialised training',\n",
       "       'job_type_Formally employed Government',\n",
       "       'job_type_Formally employed Private', 'job_type_Government Dependent',\n",
       "       'job_type_Informally employed', 'job_type_No Income',\n",
       "       'job_type_Other Income', 'job_type_Remittance Dependent',\n",
       "       'job_type_Self employed'],\n",
       "      dtype='object')"
      ]
     },
     "execution_count": 601,
     "metadata": {},
     "output_type": "execute_result"
    }
   ],
   "source": [
    "combo_train_df.columns"
   ]
  },
  {
   "cell_type": "code",
   "execution_count": 602,
   "metadata": {},
   "outputs": [
    {
     "data": {
      "text/plain": [
       "6075.0"
      ]
     },
     "execution_count": 602,
     "metadata": {},
     "output_type": "execute_result"
    }
   ],
   "source": [
    "combo_train_df['marital_status_Single/Never Married'].sum()"
   ]
  },
  {
   "cell_type": "code",
   "execution_count": 603,
   "metadata": {
    "scrolled": true
   },
   "outputs": [
    {
     "name": "stderr",
     "output_type": "stream",
     "text": [
      "<ipython-input-603-b1430f2c33c5>:2: SettingWithCopyWarning: \n",
      "A value is trying to be set on a copy of a slice from a DataFrame.\n",
      "Try using .loc[row_indexer,col_indexer] = value instead\n",
      "\n",
      "See the caveats in the documentation: https://pandas.pydata.org/pandas-docs/stable/user_guide/indexing.html#returning-a-view-versus-a-copy\n",
      "  y_tr['bank_acc'] = np.where(y_tr['bank_account'] == 'Yes', 1,0)\n"
     ]
    }
   ],
   "source": [
    "# Create dummy variable for bank account\n",
    "y_tr['bank_acc'] = np.where(y_tr['bank_account'] == 'Yes', 1,0)"
   ]
  },
  {
   "cell_type": "code",
   "execution_count": 604,
   "metadata": {},
   "outputs": [],
   "source": [
    "x_train, x_val, y_train, y_val = train_test_split(combo_train_df, y_tr, test_size=.20, random_state=11)"
   ]
  },
  {
   "cell_type": "code",
   "execution_count": 605,
   "metadata": {
    "scrolled": true
   },
   "outputs": [
    {
     "name": "stderr",
     "output_type": "stream",
     "text": [
      "/Users/tawneykirkland/opt/anaconda3/lib/python3.8/site-packages/pandas/core/frame.py:4163: SettingWithCopyWarning: \n",
      "A value is trying to be set on a copy of a slice from a DataFrame\n",
      "\n",
      "See the caveats in the documentation: https://pandas.pydata.org/pandas-docs/stable/user_guide/indexing.html#returning-a-view-versus-a-copy\n",
      "  return super().drop(\n"
     ]
    }
   ],
   "source": [
    "y_train.drop(columns='bank_account',inplace=True)\n",
    "y_val.drop(columns='bank_account',inplace=True)"
   ]
  },
  {
   "cell_type": "code",
   "execution_count": 606,
   "metadata": {
    "scrolled": true
   },
   "outputs": [
    {
     "data": {
      "image/png": "[encoded data removed]",
      "text/plain": [
       "<Figure size 432x288 with 1 Axes>"
      ]
     },
     "metadata": {
      "needs_background": "light"
     },
     "output_type": "display_data"
    }
   ],
   "source": [
    "sns.countplot(x='bank_acc', data=y_train)\n",
    "plt.title('Bank account holding status',family='arial',fontsize=16)\n",
    "plt.xlabel('Bank account')\n",
    "plt.ylabel('Count')\n",
    "plt.show;"
   ]
  },
  {
   "cell_type": "code",
   "execution_count": 607,
   "metadata": {},
   "outputs": [
    {
     "name": "stdout",
     "output_type": "stream",
     "text": [
      "percentage of no account: 85.9288649567805\n",
      "percentage of account 14.071135043219499\n"
     ]
    }
   ],
   "source": [
    "count_no_acc = len(y_train[y_train['bank_acc']==0])\n",
    "count_acc = len(y_train[y_train['bank_acc']==1])\n",
    "pct_of_no_acc = count_no_acc/(count_no_acc+count_acc)\n",
    "print(\"percentage of no account:\", pct_of_no_acc*100)\n",
    "pct_of_acc = count_acc/(count_no_acc+count_acc)\n",
    "print(\"percentage of account\", pct_of_acc*100)"
   ]
  },
  {
   "cell_type": "markdown",
   "metadata": {},
   "source": [
    "Classes are __very imbalanced__ - investigate threshold, over and undersampling"
   ]
  },
  {
   "cell_type": "code",
   "execution_count": 608,
   "metadata": {},
   "outputs": [],
   "source": [
    "df_train = pd.concat([x_train,y_train],axis=1)\n",
    "df_val = pd.concat([x_val,y_val],axis=1)"
   ]
  },
  {
   "cell_type": "code",
   "execution_count": 609,
   "metadata": {},
   "outputs": [],
   "source": [
    "# Create dateframes to use for visualisations\n",
    "df_vis_cont = pd.concat([x_tr_cont,y_tr],axis=1)\n",
    "df_vis_cat = pd.concat([ohe_x_tr_df,y_tr],axis=1)"
   ]
  },
  {
   "cell_type": "code",
   "execution_count": 610,
   "metadata": {
    "scrolled": true
   },
   "outputs": [
    {
     "data": {
      "image/png": "[encoded data removed]",
      "text/plain": [
       "<Figure size 1080x1080 with 2 Axes>"
      ]
     },
     "metadata": {
      "needs_background": "light"
     },
     "output_type": "display_data"
    }
   ],
   "source": [
    "fig, ax = plt.subplots(figsize=(15, 15))\n",
    "sns.heatmap(df_train.corr(), cmap=\"seismic\", vmin=-1, vmax=1, ax=ax);"
   ]
  },
  {
   "cell_type": "markdown",
   "metadata": {},
   "source": [
    "## Simple logistic regression\n",
    "\n",
    "Testing with a single variable: is_male"
   ]
  },
  {
   "cell_type": "code",
   "execution_count": 611,
   "metadata": {},
   "outputs": [
    {
     "name": "stdout",
     "output_type": "stream",
     "text": [
      "Optimization terminated successfully.\n",
      "         Current function value: 0.399382\n",
      "         Iterations 6\n"
     ]
    }
   ],
   "source": [
    "#Model on is_male first\n",
    "lm_1 = sm.Logit(df_train['bank_acc'],  # with statsmodels, `y` comes first\n",
    "                sm.add_constant(df_train[['is_male']]))  # and then `x`\n",
    "lm_1 = lm_1.fit()"
   ]
  },
  {
   "cell_type": "code",
   "execution_count": 612,
   "metadata": {},
   "outputs": [
    {
     "data": {
      "text/html": [
       "<table class=\"simpletable\">\n",
       "<caption>Logit Regression Results</caption>\n",
       "<tr>\n",
       "  <th>Dep. Variable:</th>       <td>bank_acc</td>     <th>  No. Observations:  </th>  <td> 14114</td>  \n",
       "</tr>\n",
       "<tr>\n",
       "  <th>Model:</th>                 <td>Logit</td>      <th>  Df Residuals:      </th>  <td> 14112</td>  \n",
       "</tr>\n",
       "<tr>\n",
       "  <th>Method:</th>                 <td>MLE</td>       <th>  Df Model:          </th>  <td>     1</td>  \n",
       "</tr>\n",
       "<tr>\n",
       "  <th>Date:</th>            <td>Mon, 01 Feb 2021</td> <th>  Pseudo R-squ.:     </th>  <td>0.01691</td> \n",
       "</tr>\n",
       "<tr>\n",
       "  <th>Time:</th>                <td>20:32:31</td>     <th>  Log-Likelihood:    </th> <td> -5636.9</td> \n",
       "</tr>\n",
       "<tr>\n",
       "  <th>converged:</th>             <td>True</td>       <th>  LL-Null:           </th> <td> -5733.9</td> \n",
       "</tr>\n",
       "<tr>\n",
       "  <th>Covariance Type:</th>     <td>nonrobust</td>    <th>  LLR p-value:       </th> <td>4.398e-44</td>\n",
       "</tr>\n",
       "</table>\n",
       "<table class=\"simpletable\">\n",
       "<tr>\n",
       "     <td></td>        <th>coef</th>     <th>std err</th>      <th>z</th>      <th>P>|z|</th>  <th>[0.025</th>    <th>0.975]</th>  \n",
       "</tr>\n",
       "<tr>\n",
       "  <th>const</th>   <td>   -2.1251</td> <td>    0.035</td> <td>  -60.055</td> <td> 0.000</td> <td>   -2.194</td> <td>   -2.056</td>\n",
       "</tr>\n",
       "<tr>\n",
       "  <th>is_male</th> <td>    0.6779</td> <td>    0.049</td> <td>   13.887</td> <td> 0.000</td> <td>    0.582</td> <td>    0.774</td>\n",
       "</tr>\n",
       "</table>"
      ],
      "text/plain": [
       "<class 'statsmodels.iolib.summary.Summary'>\n",
       "\"\"\"\n",
       "                           Logit Regression Results                           \n",
       "==============================================================================\n",
       "Dep. Variable:               bank_acc   No. Observations:                14114\n",
       "Model:                          Logit   Df Residuals:                    14112\n",
       "Method:                           MLE   Df Model:                            1\n",
       "Date:                Mon, 01 Feb 2021   Pseudo R-squ.:                 0.01691\n",
       "Time:                        20:32:31   Log-Likelihood:                -5636.9\n",
       "converged:                       True   LL-Null:                       -5733.9\n",
       "Covariance Type:            nonrobust   LLR p-value:                 4.398e-44\n",
       "==============================================================================\n",
       "                 coef    std err          z      P>|z|      [0.025      0.975]\n",
       "------------------------------------------------------------------------------\n",
       "const         -2.1251      0.035    -60.055      0.000      -2.194      -2.056\n",
       "is_male        0.6779      0.049     13.887      0.000       0.582       0.774\n",
       "==============================================================================\n",
       "\"\"\""
      ]
     },
     "execution_count": 612,
     "metadata": {},
     "output_type": "execute_result"
    }
   ],
   "source": [
    "lm_1.summary()"
   ]
  },
  {
   "cell_type": "code",
   "execution_count": 613,
   "metadata": {},
   "outputs": [
    {
     "data": {
      "text/plain": [
       "LogisticRegression(C=100000, solver='newton-cg')"
      ]
     },
     "execution_count": 613,
     "metadata": {},
     "output_type": "execute_result"
    }
   ],
   "source": [
    "lm_1 = LogisticRegression(solver='newton-cg',  # For comparison, use the same solver as statsmodels default\n",
    "                          C=100000)  # No regularization\n",
    "\n",
    "lm_1.fit(df_train[['is_male']], df_train['bank_acc'])"
   ]
  },
  {
   "cell_type": "code",
   "execution_count": 614,
   "metadata": {},
   "outputs": [
    {
     "name": "stdout",
     "output_type": "stream",
     "text": [
      "intercept:  -2.1251\n",
      "is_male coef:  0.6779\n"
     ]
    }
   ],
   "source": [
    "print('intercept: ', round(lm_1.intercept_[0], 4))\n",
    "print('is_male coef: ', round(lm_1.coef_[0][0], 4))"
   ]
  },
  {
   "cell_type": "code",
   "execution_count": 615,
   "metadata": {},
   "outputs": [],
   "source": [
    "df_eval = df_val.copy()\n",
    "df_eval['pred'] = lm_1.predict(df_val[['is_male']])\n",
    "df_eval.loc[:, 'pred'] = df_eval['pred'].astype('category')\n",
    "df_eval['correct_pred'] = df_eval['pred'] == df_eval['bank_acc']"
   ]
  },
  {
   "cell_type": "code",
   "execution_count": 616,
   "metadata": {},
   "outputs": [
    {
     "data": {
      "image/png": "[encoded data removed]",
      "text/plain": [
       "<Figure size 432x288 with 1 Axes>"
      ]
     },
     "metadata": {
      "needs_background": "light"
     },
     "output_type": "display_data"
    }
   ],
   "source": [
    "sns.stripplot(data=df_eval,\n",
    "              x='is_male',\n",
    "              y='pred',\n",
    "              hue='correct_pred',\n",
    "              palette={False: '#f03b20', True: '#3182bd'});"
   ]
  },
  {
   "cell_type": "code",
   "execution_count": 617,
   "metadata": {
    "scrolled": true
   },
   "outputs": [
    {
     "data": {
      "text/plain": [
       "array([[0.89331742, 0.10668258],\n",
       "       [0.80955703, 0.19044297],\n",
       "       [0.89331742, 0.10668258],\n",
       "       [0.89331742, 0.10668258],\n",
       "       [0.80955703, 0.19044297]])"
      ]
     },
     "execution_count": 617,
     "metadata": {},
     "output_type": "execute_result"
    }
   ],
   "source": [
    "lm_1.predict_proba(df_val[['is_male']])[:5]"
   ]
  },
  {
   "cell_type": "code",
   "execution_count": 618,
   "metadata": {},
   "outputs": [
    {
     "data": {
      "text/plain": [
       "array([[3037,    0],\n",
       "       [ 492,    0]])"
      ]
     },
     "execution_count": 618,
     "metadata": {},
     "output_type": "execute_result"
    }
   ],
   "source": [
    "confusion_matrix(df_eval['bank_acc'], df_eval['pred'])"
   ]
  },
  {
   "cell_type": "markdown",
   "metadata": {},
   "source": [
    "\n",
    "| | predict No account (0) | predict account (1)|\n",
    "|---|---|---|\n",
    "| **is no account (0)** | 3037 | 0|\n",
    "| **is account (1)** | 492 | 0 |"
   ]
  },
  {
   "cell_type": "markdown",
   "metadata": {},
   "source": [
    "I believe it is predicting all no account because of the following:\n",
    "* Classes are very imbalanced (85:15 no account to account)\n",
    "* One variable alone may not be sufficient enough in this instance\n",
    "* Perhaps because is_male class is also imbalanced?"
   ]
  },
  {
   "cell_type": "markdown",
   "metadata": {},
   "source": [
    "## Multiple regression\n",
    "The below analysis is a multiple logistic regression for all features \n",
    "\n",
    "__IMPORTANT NOTES__: \n",
    "* Investigate adjusting the threshold given how imbalanced the classes are.\n",
    "* Test feature interactions"
   ]
  },
  {
   "cell_type": "code",
   "execution_count": 619,
   "metadata": {},
   "outputs": [],
   "source": [
    "features = ['household_size', 'age_of_respondent', 'is_urban', 'cellphone',\n",
    "       'is_male', 'county_Rwanda', 'county_Tanzania', 'county_Uganda',\n",
    "       'relationship_with_head_Head of Household',\n",
    "       'relationship_with_head_Other relative',\n",
    "       'relationship_with_head_Parent', 'relationship_with_head_Spouse',\n",
    "       'marital_status_Married/Living together',\n",
    "       'marital_status_Single/Never Married', 'marital_status_Widowed',\n",
    "       'education_level_Primary education',\n",
    "       'education_level_Secondary education',\n",
    "       'education_level_Tertiary education',\n",
    "       'education_level_Vocational/Specialised training',\n",
    "       'job_type_Formally employed Government',\n",
    "       'job_type_Formally employed Private', 'job_type_Government Dependent',\n",
    "       'job_type_Informally employed', 'job_type_No Income',\n",
    "       'job_type_Other Income', 'job_type_Remittance Dependent',\n",
    "       'job_type_Self employed']"
   ]
  },
  {
   "cell_type": "code",
   "execution_count": 620,
   "metadata": {
    "scrolled": true
   },
   "outputs": [
    {
     "name": "stdout",
     "output_type": "stream",
     "text": [
      "Optimization terminated successfully.\n",
      "         Current function value: 0.601423\n",
      "         Iterations 8\n",
      "                         Results: Logit\n",
      "=================================================================\n",
      "Model:              Logit            Pseudo R-squared: -0.480    \n",
      "Dependent Variable: bank_acc         AIC:              17030.9785\n",
      "Date:               2021-02-01 20:32 BIC:              17234.9614\n",
      "No. Observations:   14114            Log-Likelihood:   -8488.5   \n",
      "Df Model:           26               LL-Null:          -5733.9   \n",
      "Df Residuals:       14087            LLR p-value:      1.0000    \n",
      "Converged:          1.0000           Scale:            1.0000    \n",
      "No. Iterations:     8.0000                                       \n",
      "-------------------------------------------------------------------\n",
      "           Coef.    Std.Err.      z      P>|z|     [0.025    0.975]\n",
      "-------------------------------------------------------------------\n",
      "x1        -0.0068     0.0223   -0.3028   0.7621   -0.0505    0.0370\n",
      "x2         0.0787     0.0244    3.2231   0.0013    0.0308    0.1265\n",
      "x3         0.1034     0.0224    4.6097   0.0000    0.0594    0.1473\n",
      "x4         0.1353     0.0203    6.6619   0.0000    0.0955    0.1752\n",
      "x5         0.0952     0.0245    3.8840   0.0001    0.0471    0.1432\n",
      "x6        -0.0963     0.0243   -3.9638   0.0001   -0.1439   -0.0487\n",
      "x7        -0.2940     0.0309   -9.5030   0.0000   -0.3547   -0.2334\n",
      "x8        -0.1850     0.0246   -7.5107   0.0000   -0.2332   -0.1367\n",
      "x9         0.1976     0.0426    4.6408   0.0000    0.1141    0.2811\n",
      "x10       -0.0078     0.0226   -0.3453   0.7299   -0.0520    0.0364\n",
      "x11        0.0151     0.0245    0.6155   0.5382   -0.0330    0.0632\n",
      "x12        0.1349     0.0412    3.2760   0.0011    0.0542    0.2156\n",
      "x13        0.0511     0.0410    1.2461   0.2127   -0.0293    0.1315\n",
      "x14        0.0058     0.0359    0.1622   0.8712   -0.0646    0.0763\n",
      "x15        0.0182     0.0303    0.5990   0.5492   -0.0413    0.0777\n",
      "x16        0.1042     0.0263    3.9635   0.0001    0.0527    0.1558\n",
      "x17        0.2727     0.0262   10.4123   0.0000    0.2214    0.3240\n",
      "x18        0.4378     0.0249   17.6147   0.0000    0.3891    0.4865\n",
      "x19        0.3324     0.0248   13.3898   0.0000    0.2837    0.3811\n",
      "x20        3.3248     0.1484   22.4074   0.0000    3.0340    3.6156\n",
      "x21        0.3438     0.0257   13.4003   0.0000    0.2935    0.3941\n",
      "x22        0.0522     0.0181    2.8747   0.0040    0.0166    0.0877\n",
      "x23       -0.0403     0.0237   -1.7031   0.0885   -0.0867    0.0061\n",
      "x24        0.0220     0.0221    0.9954   0.3196   -0.0213    0.0654\n",
      "x25        0.0747     0.0215    3.4797   0.0005    0.0326    0.1167\n",
      "x26       -0.0346     0.0229   -1.5076   0.1317   -0.0795    0.0104\n",
      "x27        0.1162     0.0295    3.9411   0.0001    0.0584    0.1740\n",
      "=================================================================\n",
      "\n"
     ]
    }
   ],
   "source": [
    "logit_model=sm.Logit(y_train1,x_train1)\n",
    "result=logit_model.fit()\n",
    "print(result.summary2())"
   ]
  },
  {
   "cell_type": "markdown",
   "metadata": {},
   "source": [
    "The below analysis includes all features. Thereafter the analyses remove insignificant features one by one."
   ]
  },
  {
   "cell_type": "code",
   "execution_count": 621,
   "metadata": {},
   "outputs": [
    {
     "name": "stdout",
     "output_type": "stream",
     "text": [
      "Accuracy of logistic regression classifier on val set: 0.88\n"
     ]
    },
    {
     "name": "stderr",
     "output_type": "stream",
     "text": [
      "/Users/tawneykirkland/opt/anaconda3/lib/python3.8/site-packages/sklearn/linear_model/_logistic.py:762: ConvergenceWarning: lbfgs failed to converge (status=1):\n",
      "STOP: TOTAL NO. of ITERATIONS REACHED LIMIT.\n",
      "\n",
      "Increase the number of iterations (max_iter) or scale the data as shown in:\n",
      "    https://scikit-learn.org/stable/modules/preprocessing.html\n",
      "Please also refer to the documentation for alternative solver options:\n",
      "    https://scikit-learn.org/stable/modules/linear_model.html#logistic-regression\n",
      "  n_iter_i = _check_optimize_result(\n"
     ]
    }
   ],
   "source": [
    "lm_2 = LogisticRegression()\n",
    "lm_2.fit(df_train[features], df_train['bank_acc'])\n",
    "\n",
    "preds = lm_2.predict(df_val[features])\n",
    "print('Accuracy of logistic regression classifier on val set: {:.2f}'.format(lm_2.score(df_val[features], y_val)))"
   ]
  },
  {
   "cell_type": "code",
   "execution_count": 622,
   "metadata": {},
   "outputs": [],
   "source": [
    "import sys\n",
    "np.set_printoptions(threshold=sys.maxsize)"
   ]
  },
  {
   "cell_type": "code",
   "execution_count": 623,
   "metadata": {},
   "outputs": [],
   "source": [
    "y_prob = lm_2.predict_proba(df_val[features])"
   ]
  },
  {
   "cell_type": "code",
   "execution_count": 624,
   "metadata": {
    "scrolled": true
   },
   "outputs": [
    {
     "data": {
      "text/plain": [
       "array([[2954,   83],\n",
       "       [ 337,  155]])"
      ]
     },
     "execution_count": 624,
     "metadata": {},
     "output_type": "execute_result"
    }
   ],
   "source": [
    "confusion_matrix(df_val['bank_acc'], \n",
    "                 preds)"
   ]
  },
  {
   "cell_type": "markdown",
   "metadata": {},
   "source": [
    "\n",
    "| | predict No account (0) | predict account (1)|\n",
    "|---|---|---|\n",
    "| **is no account (0)** | 2954 | 83|\n",
    "| **is account (1)** | 337 | 155 |"
   ]
  },
  {
   "cell_type": "markdown",
   "metadata": {},
   "source": [
    "Need to understand and decide on the __trade off between recall and precision__\n",
    "\n",
    "Precision is the number of observations predicted positive over the total actual positives. The precision is intuitively the ability of the classifier to not label a sample as positive if it is negative.\n",
    "\n",
    "The recall is the number of actually positive observations over the number predicted positive. The recall is intuitively the ability of the classifier to find all the positive samples."
   ]
  },
  {
   "cell_type": "code",
   "execution_count": 625,
   "metadata": {
    "scrolled": true
   },
   "outputs": [
    {
     "name": "stdout",
     "output_type": "stream",
     "text": [
      "              precision    recall  f1-score   support\n",
      "\n",
      "           0       0.90      0.97      0.93      3037\n",
      "           1       0.65      0.32      0.42       492\n",
      "\n",
      "    accuracy                           0.88      3529\n",
      "   macro avg       0.77      0.64      0.68      3529\n",
      "weighted avg       0.86      0.88      0.86      3529\n",
      "\n"
     ]
    }
   ],
   "source": [
    "from sklearn.metrics import classification_report\n",
    "print(classification_report(y_val, preds))"
   ]
  },
  {
   "cell_type": "code",
   "execution_count": 626,
   "metadata": {},
   "outputs": [],
   "source": [
    "df_val['proba_bank'] = lm_2.predict_proba(df_val[features])[:, 1]\n",
    "\n",
    "fpr2, tpr2, thresholds2 = roc_curve(df_val['bank_acc'],\n",
    "                                 df_val['proba_bank'])"
   ]
  },
  {
   "cell_type": "code",
   "execution_count": 627,
   "metadata": {},
   "outputs": [],
   "source": [
    "def plot_roc(true, probas,fpr,tpr):\n",
    "    auc = roc_auc_score(true, probas)\n",
    "\n",
    "    plt.plot(fpr, tpr, marker='o')\n",
    "    plt.xlabel('1 - Specificity (FPR)')\n",
    "    plt.ylabel('Sensitivity (TPR)');\n",
    "    plt.title(f\"Area Under the ROC Curve: {round(auc, 3)}\");"
   ]
  },
  {
   "cell_type": "code",
   "execution_count": 628,
   "metadata": {
    "scrolled": false
   },
   "outputs": [
    {
     "data": {
      "image/png": "[encoded data removed]",
      "text/plain": [
       "<Figure size 432x288 with 1 Axes>"
      ]
     },
     "metadata": {
      "needs_background": "light"
     },
     "output_type": "display_data"
    }
   ],
   "source": [
    "plot_roc(df_val['bank_acc'], df_val['proba_bank'],fpr2,tpr2)"
   ]
  },
  {
   "cell_type": "markdown",
   "metadata": {},
   "source": [
    "## Adjusting threshold"
   ]
  },
  {
   "cell_type": "code",
   "execution_count": 629,
   "metadata": {},
   "outputs": [],
   "source": [
    "threshold = .60\n",
    "y_pred = np.where((y_prob[:, 0] > threshold),0,1)"
   ]
  },
  {
   "cell_type": "code",
   "execution_count": 630,
   "metadata": {
    "scrolled": true
   },
   "outputs": [
    {
     "data": {
      "text/plain": [
       "array([[2915,  122],\n",
       "       [ 292,  200]])"
      ]
     },
     "execution_count": 630,
     "metadata": {},
     "output_type": "execute_result"
    }
   ],
   "source": [
    "confusion_matrix(df_val['bank_acc'], \n",
    "                 y_pred)"
   ]
  },
  {
   "cell_type": "markdown",
   "metadata": {},
   "source": [
    "## Multiple regression removing insignificant features one by one\n",
    "\n",
    "## Removing household size\n",
    "\n",
    "Based on logit summary above"
   ]
  },
  {
   "cell_type": "code",
   "execution_count": 631,
   "metadata": {},
   "outputs": [],
   "source": [
    "x_train_3 = df_train.drop(columns = ['year', 'household_size'])\n",
    "\n",
    "df_val_3 = df_val.drop(columns = ['year', 'household_size'])"
   ]
  },
  {
   "cell_type": "code",
   "execution_count": 632,
   "metadata": {},
   "outputs": [],
   "source": [
    "features3 = ['age_of_respondent', 'is_urban', 'cellphone',\n",
    "       'is_male', 'county_Rwanda', 'county_Tanzania', 'county_Uganda',\n",
    "       'relationship_with_head_Head of Household',\n",
    "       'relationship_with_head_Other relative',\n",
    "       'relationship_with_head_Parent', 'relationship_with_head_Spouse',\n",
    "       'marital_status_Married/Living together',\n",
    "       'marital_status_Single/Never Married', 'marital_status_Widowed',\n",
    "       'education_level_Primary education',\n",
    "       'education_level_Secondary education',\n",
    "       'education_level_Tertiary education',\n",
    "       'education_level_Vocational/Specialised training',\n",
    "       'job_type_Formally employed Government',\n",
    "       'job_type_Formally employed Private', 'job_type_Government Dependent',\n",
    "       'job_type_Informally employed', 'job_type_No Income',\n",
    "       'job_type_Other Income', 'job_type_Remittance Dependent',\n",
    "       'job_type_Self employed']"
   ]
  },
  {
   "cell_type": "code",
   "execution_count": 633,
   "metadata": {},
   "outputs": [
    {
     "name": "stdout",
     "output_type": "stream",
     "text": [
      "Optimization terminated successfully.\n",
      "         Current function value: 0.314047\n",
      "         Iterations 7\n",
      "                                         Results: Logit\n",
      "================================================================================================\n",
      "Model:                          Logit                      Pseudo R-squared:           0.227    \n",
      "Dependent Variable:             bank_acc                   AIC:                        8916.9278\n",
      "Date:                           2021-02-01 20:32           BIC:                        9113.3558\n",
      "No. Observations:               14114                      Log-Likelihood:             -4432.5  \n",
      "Df Model:                       25                         LL-Null:                    -5733.9  \n",
      "Df Residuals:                   14088                      LLR p-value:                0.0000   \n",
      "Converged:                      1.0000                     Scale:                      1.0000   \n",
      "No. Iterations:                 7.0000                                                          \n",
      "------------------------------------------------------------------------------------------------\n",
      "                                                 Coef.  Std.Err.    z     P>|z|   [0.025  0.975]\n",
      "------------------------------------------------------------------------------------------------\n",
      "age_of_respondent                               -0.0144   0.0021  -6.8265 0.0000 -0.0185 -0.0102\n",
      "is_urban                                         0.2756   0.0642   4.2915 0.0000  0.1497  0.4015\n",
      "cellphone                                        0.5468   0.0822   6.6521 0.0000  0.3857  0.7079\n",
      "is_male                                          0.3360   0.0719   4.6696 0.0000  0.1949  0.4770\n",
      "county_Rwanda                                   -0.8314   0.0658 -12.6434 0.0000 -0.9602 -0.7025\n",
      "county_Tanzania                                 -1.5294   0.1004 -15.2323 0.0000 -1.7262 -1.3327\n",
      "county_Uganda                                   -1.4784   0.1260 -11.7369 0.0000 -1.7253 -1.2316\n",
      "relationship_with_head_Head of Household        -0.2261   0.1057  -2.1385 0.0325 -0.4333 -0.0189\n",
      "relationship_with_head_Other relative           -1.2239   0.1795  -6.8196 0.0000 -1.5757 -0.8722\n",
      "relationship_with_head_Parent                   -1.4950   0.1927  -7.7598 0.0000 -1.8725 -1.1174\n",
      "relationship_with_head_Spouse                   -0.5822   0.1264  -4.6058 0.0000 -0.8300 -0.3344\n",
      "marital_status_Married/Living together          -0.8531   0.1026  -8.3164 0.0000 -1.0542 -0.6521\n",
      "marital_status_Single/Never Married             -1.3582   0.0920 -14.7658 0.0000 -1.5385 -1.1779\n",
      "marital_status_Widowed                          -0.8518   0.1348  -6.3178 0.0000 -1.1161 -0.5876\n",
      "education_level_Primary education               -0.2461   0.0812  -3.0293 0.0025 -0.4053 -0.0869\n",
      "education_level_Secondary education              0.5925   0.0914   6.4802 0.0000  0.4133  0.7717\n",
      "education_level_Tertiary education               2.1783   0.1268  17.1791 0.0000  1.9298  2.4268\n",
      "education_level_Vocational/Specialised training  1.7316   0.1343  12.8893 0.0000  1.4683  1.9949\n",
      "job_type_Formally employed Government            1.2643   0.1835   6.8911 0.0000  0.9047  1.6239\n",
      "job_type_Formally employed Private               1.3279   0.1190  11.1576 0.0000  1.0947  1.5612\n",
      "job_type_Government Dependent                    0.9511   0.2285   4.1630 0.0000  0.5033  1.3988\n",
      "job_type_Informally employed                    -1.0053   0.0860 -11.6936 0.0000 -1.1738 -0.8368\n",
      "job_type_No Income                              -0.9260   0.2677  -3.4590 0.0005 -1.4506 -0.4013\n",
      "job_type_Other Income                            0.1774   0.1384   1.2822 0.1998 -0.0938  0.4486\n",
      "job_type_Remittance Dependent                   -1.0989   0.1135  -9.6824 0.0000 -1.3213 -0.8764\n",
      "job_type_Self employed                          -0.0114   0.0897  -0.1277 0.8984 -0.1872  0.1643\n",
      "================================================================================================\n",
      "\n"
     ]
    }
   ],
   "source": [
    "logit_model3=sm.Logit(df_train['bank_acc'],x_train_3[features3])\n",
    "result=logit_model3.fit()\n",
    "print(result.summary2())"
   ]
  },
  {
   "cell_type": "code",
   "execution_count": 634,
   "metadata": {},
   "outputs": [
    {
     "name": "stdout",
     "output_type": "stream",
     "text": [
      "Accuracy of logistic regression classifier on val set: 0.886\n"
     ]
    },
    {
     "name": "stderr",
     "output_type": "stream",
     "text": [
      "/Users/tawneykirkland/opt/anaconda3/lib/python3.8/site-packages/sklearn/linear_model/_logistic.py:762: ConvergenceWarning: lbfgs failed to converge (status=1):\n",
      "STOP: TOTAL NO. of ITERATIONS REACHED LIMIT.\n",
      "\n",
      "Increase the number of iterations (max_iter) or scale the data as shown in:\n",
      "    https://scikit-learn.org/stable/modules/preprocessing.html\n",
      "Please also refer to the documentation for alternative solver options:\n",
      "    https://scikit-learn.org/stable/modules/linear_model.html#logistic-regression\n",
      "  n_iter_i = _check_optimize_result(\n"
     ]
    }
   ],
   "source": [
    "lm_3 = LogisticRegression()\n",
    "lm_3.fit(x_train_3[features3], x_train_3['bank_acc'])\n",
    "\n",
    "preds3 = lm_3.predict(df_val_3[features3])\n",
    "print('Accuracy of logistic regression classifier on val set: {:.3f}'.format(\n",
    "    lm_3.score(df_val_3[features3], df_val_3['bank_acc'])))"
   ]
  },
  {
   "cell_type": "code",
   "execution_count": 635,
   "metadata": {
    "scrolled": false
   },
   "outputs": [
    {
     "data": {
      "text/plain": [
       "array([[2963,   74],\n",
       "       [ 327,  165]])"
      ]
     },
     "execution_count": 635,
     "metadata": {},
     "output_type": "execute_result"
    }
   ],
   "source": [
    "confusion_matrix(df_val_3['bank_acc'], \n",
    "                 preds3)"
   ]
  },
  {
   "cell_type": "markdown",
   "metadata": {},
   "source": [
    "Essentially no change in precision and recall when household size is removed"
   ]
  },
  {
   "cell_type": "code",
   "execution_count": 636,
   "metadata": {
    "scrolled": true
   },
   "outputs": [
    {
     "name": "stdout",
     "output_type": "stream",
     "text": [
      "              precision    recall  f1-score   support\n",
      "\n",
      "           0       0.90      0.98      0.94      3037\n",
      "           1       0.69      0.34      0.45       492\n",
      "\n",
      "    accuracy                           0.89      3529\n",
      "   macro avg       0.80      0.66      0.69      3529\n",
      "weighted avg       0.87      0.89      0.87      3529\n",
      "\n"
     ]
    }
   ],
   "source": [
    "print(classification_report(df_val_3['bank_acc'], preds3))"
   ]
  },
  {
   "cell_type": "markdown",
   "metadata": {},
   "source": [
    "## Removing relationship with head - Other \n",
    "\n",
    "Based on logit summary above. Note each iteration is building off the previous"
   ]
  },
  {
   "cell_type": "code",
   "execution_count": 637,
   "metadata": {},
   "outputs": [],
   "source": [
    "x_train_4 = df_train.drop(columns = ['year', 'household_size','relationship_with_head_Other relative'])\n",
    "\n",
    "df_val_4 = df_val.drop(columns = ['year', 'household_size','relationship_with_head_Other relative'])"
   ]
  },
  {
   "cell_type": "code",
   "execution_count": 638,
   "metadata": {},
   "outputs": [],
   "source": [
    "features4 = ['age_of_respondent', 'is_urban', 'cellphone',\n",
    "       'is_male', 'county_Rwanda', 'county_Tanzania', 'county_Uganda',\n",
    "       'relationship_with_head_Head of Household',\n",
    "       'relationship_with_head_Parent', 'relationship_with_head_Spouse',\n",
    "       'marital_status_Married/Living together',\n",
    "       'marital_status_Single/Never Married', 'marital_status_Widowed',\n",
    "       'education_level_Primary education',\n",
    "       'education_level_Secondary education',\n",
    "       'education_level_Tertiary education',\n",
    "       'education_level_Vocational/Specialised training',\n",
    "       'job_type_Formally employed Government',\n",
    "       'job_type_Formally employed Private', 'job_type_Government Dependent',\n",
    "       'job_type_Informally employed', 'job_type_No Income',\n",
    "       'job_type_Other Income', 'job_type_Remittance Dependent',\n",
    "       'job_type_Self employed']"
   ]
  },
  {
   "cell_type": "code",
   "execution_count": 639,
   "metadata": {},
   "outputs": [
    {
     "name": "stdout",
     "output_type": "stream",
     "text": [
      "Optimization terminated successfully.\n",
      "         Current function value: 0.315935\n",
      "         Iterations 7\n",
      "                                         Results: Logit\n",
      "================================================================================================\n",
      "Model:                          Logit                      Pseudo R-squared:           0.222    \n",
      "Dependent Variable:             bank_acc                   AIC:                        8968.2273\n",
      "Date:                           2021-02-01 20:32           BIC:                        9157.1003\n",
      "No. Observations:               14114                      Log-Likelihood:             -4459.1  \n",
      "Df Model:                       24                         LL-Null:                    -5733.9  \n",
      "Df Residuals:                   14089                      LLR p-value:                0.0000   \n",
      "Converged:                      1.0000                     Scale:                      1.0000   \n",
      "No. Iterations:                 7.0000                                                          \n",
      "------------------------------------------------------------------------------------------------\n",
      "                                                 Coef.  Std.Err.    z     P>|z|   [0.025  0.975]\n",
      "------------------------------------------------------------------------------------------------\n",
      "age_of_respondent                               -0.0170   0.0021  -8.1964 0.0000 -0.0211 -0.0129\n",
      "is_urban                                         0.2523   0.0640   3.9414 0.0001  0.1268  0.3777\n",
      "cellphone                                        0.4756   0.0804   5.9185 0.0000  0.3181  0.6331\n",
      "is_male                                          0.3242   0.0715   4.5357 0.0000  0.1841  0.4643\n",
      "county_Rwanda                                   -0.8394   0.0655 -12.8198 0.0000 -0.9678 -0.7111\n",
      "county_Tanzania                                 -1.6226   0.0992 -16.3550 0.0000 -1.8170 -1.4281\n",
      "county_Uganda                                   -1.5592   0.1251 -12.4663 0.0000 -1.8044 -1.3141\n",
      "relationship_with_head_Head of Household         0.0939   0.0965   0.9734 0.3304 -0.0952  0.2831\n",
      "relationship_with_head_Parent                   -1.1822   0.1867  -6.3333 0.0000 -1.5480 -0.8163\n",
      "relationship_with_head_Spouse                   -0.2815   0.1197  -2.3520 0.0187 -0.5160 -0.0469\n",
      "marital_status_Married/Living together          -0.8944   0.1016  -8.8036 0.0000 -1.0935 -0.6953\n",
      "marital_status_Single/Never Married             -1.3376   0.0909 -14.7228 0.0000 -1.5157 -1.1595\n",
      "marital_status_Widowed                          -0.8891   0.1343  -6.6220 0.0000 -1.1522 -0.6259\n",
      "education_level_Primary education               -0.3101   0.0799  -3.8819 0.0001 -0.4666 -0.1535\n",
      "education_level_Secondary education              0.5369   0.0904   5.9403 0.0000  0.3598  0.7141\n",
      "education_level_Tertiary education               2.1269   0.1257  16.9265 0.0000  1.8806  2.3732\n",
      "education_level_Vocational/Specialised training  1.6683   0.1331  12.5339 0.0000  1.4075  1.9292\n",
      "job_type_Formally employed Government            1.2368   0.1826   6.7723 0.0000  0.8789  1.5947\n",
      "job_type_Formally employed Private               1.2225   0.1172  10.4296 0.0000  0.9928  1.4523\n",
      "job_type_Government Dependent                    0.9548   0.2282   4.1846 0.0000  0.5076  1.4020\n",
      "job_type_Informally employed                    -1.0630   0.0855 -12.4364 0.0000 -1.2306 -0.8955\n",
      "job_type_No Income                              -0.9972   0.2678  -3.7238 0.0002 -1.5221 -0.4723\n",
      "job_type_Other Income                            0.1420   0.1378   1.0301 0.3029 -0.1282  0.4121\n",
      "job_type_Remittance Dependent                   -1.1606   0.1132 -10.2570 0.0000 -1.3824 -0.9388\n",
      "job_type_Self employed                          -0.0386   0.0893  -0.4317 0.6660 -0.2136  0.1365\n",
      "================================================================================================\n",
      "\n"
     ]
    }
   ],
   "source": [
    "logit_model4=sm.Logit(x_train_4['bank_acc'],x_train_4[features4])\n",
    "result=logit_model4.fit()\n",
    "print(result.summary2())"
   ]
  },
  {
   "cell_type": "code",
   "execution_count": 640,
   "metadata": {},
   "outputs": [
    {
     "name": "stdout",
     "output_type": "stream",
     "text": [
      "Accuracy of logistic regression classifier on val set: 0.886\n"
     ]
    },
    {
     "name": "stderr",
     "output_type": "stream",
     "text": [
      "/Users/tawneykirkland/opt/anaconda3/lib/python3.8/site-packages/sklearn/linear_model/_logistic.py:762: ConvergenceWarning: lbfgs failed to converge (status=1):\n",
      "STOP: TOTAL NO. of ITERATIONS REACHED LIMIT.\n",
      "\n",
      "Increase the number of iterations (max_iter) or scale the data as shown in:\n",
      "    https://scikit-learn.org/stable/modules/preprocessing.html\n",
      "Please also refer to the documentation for alternative solver options:\n",
      "    https://scikit-learn.org/stable/modules/linear_model.html#logistic-regression\n",
      "  n_iter_i = _check_optimize_result(\n"
     ]
    }
   ],
   "source": [
    "lm_4 = LogisticRegression()\n",
    "lm_4.fit(x_train_4[features4], x_train_4['bank_acc'])\n",
    "\n",
    "preds4 = lm_4.predict(df_val_4[features4])\n",
    "print('Accuracy of logistic regression classifier on val set: {:.3f}'.format(\n",
    "    lm_4.score(df_val_4[features4],df_val_4['bank_acc'])))"
   ]
  },
  {
   "cell_type": "code",
   "execution_count": 641,
   "metadata": {
    "scrolled": true
   },
   "outputs": [
    {
     "data": {
      "text/plain": [
       "array([[2957,   80],\n",
       "       [ 322,  170]])"
      ]
     },
     "execution_count": 641,
     "metadata": {},
     "output_type": "execute_result"
    }
   ],
   "source": [
    "confusion_matrix(df_val_4['bank_acc'], \n",
    "                 preds4)"
   ]
  },
  {
   "cell_type": "markdown",
   "metadata": {},
   "source": [
    "Minor (1) improvement in predictions for both account and non-account holders"
   ]
  },
  {
   "cell_type": "code",
   "execution_count": 642,
   "metadata": {
    "scrolled": true
   },
   "outputs": [
    {
     "name": "stdout",
     "output_type": "stream",
     "text": [
      "              precision    recall  f1-score   support\n",
      "\n",
      "           0       0.90      0.97      0.94      3037\n",
      "           1       0.68      0.35      0.46       492\n",
      "\n",
      "    accuracy                           0.89      3529\n",
      "   macro avg       0.79      0.66      0.70      3529\n",
      "weighted avg       0.87      0.89      0.87      3529\n",
      "\n"
     ]
    }
   ],
   "source": [
    "print(classification_report(df_val_4['bank_acc'], preds4))"
   ]
  },
  {
   "cell_type": "code",
   "execution_count": 643,
   "metadata": {},
   "outputs": [],
   "source": [
    "df_val_4['proba_bank'] = lm_4.predict_proba(df_val_4[features4])[:, 1]\n",
    "\n",
    "fpr4, tpr4, thresholds4 = roc_curve(df_val_4['bank_acc'],\n",
    "                                 df_val_4['proba_bank'])"
   ]
  },
  {
   "cell_type": "code",
   "execution_count": 644,
   "metadata": {},
   "outputs": [
    {
     "name": "stdout",
     "output_type": "stream",
     "text": [
      "AUC: 0.839\n"
     ]
    }
   ],
   "source": [
    "auc4 = roc_auc_score(df_val_4['bank_acc'], df_val_4['proba_bank'])\n",
    "print('AUC: %.3f' % auc4)"
   ]
  },
  {
   "cell_type": "code",
   "execution_count": 645,
   "metadata": {},
   "outputs": [
    {
     "data": {
      "image/png": "[encoded data removed]",
      "text/plain": [
       "<Figure size 432x288 with 1 Axes>"
      ]
     },
     "metadata": {
      "needs_background": "light"
     },
     "output_type": "display_data"
    }
   ],
   "source": [
    "plot_roc(df_val_4['bank_acc'], df_val_4['proba_bank'],fpr4,tpr4)"
   ]
  },
  {
   "cell_type": "markdown",
   "metadata": {},
   "source": [
    "## Removing relationship with head - Parent \n",
    "\n",
    "Based on logit summary above"
   ]
  },
  {
   "cell_type": "code",
   "execution_count": 646,
   "metadata": {},
   "outputs": [],
   "source": [
    "x_train_5 = df_train.drop(columns = ['year', 'household_size','relationship_with_head_Other relative',\n",
    "                                     'relationship_with_head_Parent'])\n",
    "\n",
    "df_val_5 = df_val.drop(columns = ['year', 'household_size','relationship_with_head_Other relative',\n",
    "                                  'relationship_with_head_Parent'])\n",
    "\n",
    "features5 = ['age_of_respondent', 'is_urban', 'cellphone',\n",
    "       'is_male', 'county_Rwanda', 'county_Tanzania', 'county_Uganda',\n",
    "       'relationship_with_head_Head of Household',\n",
    "       'relationship_with_head_Spouse',\n",
    "       'marital_status_Married/Living together',\n",
    "       'marital_status_Single/Never Married', 'marital_status_Widowed',\n",
    "       'education_level_Primary education',\n",
    "       'education_level_Secondary education',\n",
    "       'education_level_Tertiary education',\n",
    "       'education_level_Vocational/Specialised training',\n",
    "       'job_type_Formally employed Government',\n",
    "       'job_type_Formally employed Private', 'job_type_Government Dependent',\n",
    "       'job_type_Informally employed', 'job_type_No Income',\n",
    "       'job_type_Other Income', 'job_type_Remittance Dependent',\n",
    "       'job_type_Self employed']"
   ]
  },
  {
   "cell_type": "code",
   "execution_count": 647,
   "metadata": {},
   "outputs": [
    {
     "name": "stdout",
     "output_type": "stream",
     "text": [
      "Optimization terminated successfully.\n",
      "         Current function value: 0.317599\n",
      "         Iterations 7\n",
      "                                         Results: Logit\n",
      "================================================================================================\n",
      "Model:                          Logit                      Pseudo R-squared:           0.218    \n",
      "Dependent Variable:             bank_acc                   AIC:                        9013.1901\n",
      "Date:                           2021-02-01 20:32           BIC:                        9194.5083\n",
      "No. Observations:               14114                      Log-Likelihood:             -4482.6  \n",
      "Df Model:                       23                         LL-Null:                    -5733.9  \n",
      "Df Residuals:                   14090                      LLR p-value:                0.0000   \n",
      "Converged:                      1.0000                     Scale:                      1.0000   \n",
      "No. Iterations:                 7.0000                                                          \n",
      "------------------------------------------------------------------------------------------------\n",
      "                                                 Coef.  Std.Err.    z     P>|z|   [0.025  0.975]\n",
      "------------------------------------------------------------------------------------------------\n",
      "age_of_respondent                               -0.0188   0.0021  -9.1425 0.0000 -0.0229 -0.0148\n",
      "is_urban                                         0.2239   0.0638   3.5094 0.0004  0.0989  0.3490\n",
      "cellphone                                        0.4196   0.0790   5.3125 0.0000  0.2648  0.5743\n",
      "is_male                                          0.3130   0.0710   4.4085 0.0000  0.1738  0.4522\n",
      "county_Rwanda                                   -0.8846   0.0650 -13.6173 0.0000 -1.0119 -0.7573\n",
      "county_Tanzania                                 -1.7788   0.0969 -18.3605 0.0000 -1.9687 -1.5889\n",
      "county_Uganda                                   -1.6477   0.1243 -13.2530 0.0000 -1.8914 -1.4040\n",
      "relationship_with_head_Head of Household         0.3354   0.0904   3.7093 0.0002  0.1582  0.5126\n",
      "relationship_with_head_Spouse                   -0.0524   0.1154  -0.4537 0.6500 -0.2786  0.1739\n",
      "marital_status_Married/Living together          -0.9071   0.1011  -8.9752 0.0000 -1.1052 -0.7090\n",
      "marital_status_Single/Never Married             -1.2644   0.0891 -14.1909 0.0000 -1.4391 -1.0898\n",
      "marital_status_Widowed                          -0.8947   0.1343  -6.6624 0.0000 -1.1579 -0.6315\n",
      "education_level_Primary education               -0.3617   0.0789  -4.5832 0.0000 -0.5163 -0.2070\n",
      "education_level_Secondary education              0.4806   0.0895   5.3716 0.0000  0.3052  0.6559\n",
      "education_level_Tertiary education               2.0644   0.1247  16.5589 0.0000  1.8201  2.3088\n",
      "education_level_Vocational/Specialised training  1.6191   0.1323  12.2407 0.0000  1.3599  1.8783\n",
      "job_type_Formally employed Government            1.2130   0.1822   6.6594 0.0000  0.8560  1.5700\n",
      "job_type_Formally employed Private               1.2091   0.1169  10.3398 0.0000  0.9799  1.4382\n",
      "job_type_Government Dependent                    0.9549   0.2281   4.1864 0.0000  0.5079  1.4020\n",
      "job_type_Informally employed                    -1.0784   0.0852 -12.6644 0.0000 -1.2453 -0.9115\n",
      "job_type_No Income                              -1.1783   0.2679  -4.3978 0.0000 -1.7034 -0.6532\n",
      "job_type_Other Income                            0.1254   0.1375   0.9124 0.3616 -0.1440  0.3949\n",
      "job_type_Remittance Dependent                   -1.1734   0.1128 -10.4033 0.0000 -1.3944 -0.9523\n",
      "job_type_Self employed                          -0.0597   0.0890  -0.6705 0.5026 -0.2341  0.1147\n",
      "================================================================================================\n",
      "\n"
     ]
    }
   ],
   "source": [
    "logit_model5=sm.Logit(x_train_5['bank_acc'],x_train_5[features5])\n",
    "result=logit_model5.fit()\n",
    "print(result.summary2())"
   ]
  },
  {
   "cell_type": "code",
   "execution_count": 648,
   "metadata": {},
   "outputs": [
    {
     "name": "stdout",
     "output_type": "stream",
     "text": [
      "Accuracy of logistic regression classifier on val set: 0.887\n"
     ]
    },
    {
     "name": "stderr",
     "output_type": "stream",
     "text": [
      "/Users/tawneykirkland/opt/anaconda3/lib/python3.8/site-packages/sklearn/linear_model/_logistic.py:762: ConvergenceWarning: lbfgs failed to converge (status=1):\n",
      "STOP: TOTAL NO. of ITERATIONS REACHED LIMIT.\n",
      "\n",
      "Increase the number of iterations (max_iter) or scale the data as shown in:\n",
      "    https://scikit-learn.org/stable/modules/preprocessing.html\n",
      "Please also refer to the documentation for alternative solver options:\n",
      "    https://scikit-learn.org/stable/modules/linear_model.html#logistic-regression\n",
      "  n_iter_i = _check_optimize_result(\n"
     ]
    }
   ],
   "source": [
    "lm_5 = LogisticRegression()\n",
    "lm_5.fit(x_train_5[features5], x_train_5['bank_acc'])\n",
    "\n",
    "preds5 = lm_5.predict(df_val_5[features5])\n",
    "print('Accuracy of logistic regression classifier on val set: {:.3f}'.format(\n",
    "    lm_5.score(df_val_5[features5], df_val_5['bank_acc'])))"
   ]
  },
  {
   "cell_type": "code",
   "execution_count": 649,
   "metadata": {
    "scrolled": true
   },
   "outputs": [
    {
     "data": {
      "text/plain": [
       "array([[2960,   77],\n",
       "       [ 323,  169]])"
      ]
     },
     "execution_count": 649,
     "metadata": {},
     "output_type": "execute_result"
    }
   ],
   "source": [
    "confusion_matrix(df_val_5['bank_acc'], \n",
    "                 preds5)"
   ]
  },
  {
   "cell_type": "markdown",
   "metadata": {},
   "source": [
    "No change from the results above"
   ]
  },
  {
   "cell_type": "code",
   "execution_count": 650,
   "metadata": {},
   "outputs": [
    {
     "name": "stdout",
     "output_type": "stream",
     "text": [
      "              precision    recall  f1-score   support\n",
      "\n",
      "           0       0.90      0.97      0.94      3037\n",
      "           1       0.69      0.34      0.46       492\n",
      "\n",
      "    accuracy                           0.89      3529\n",
      "   macro avg       0.79      0.66      0.70      3529\n",
      "weighted avg       0.87      0.89      0.87      3529\n",
      "\n"
     ]
    }
   ],
   "source": [
    "print(classification_report(df_val_5['bank_acc'], preds5))"
   ]
  },
  {
   "cell_type": "markdown",
   "metadata": {},
   "source": [
    "## Removing marital status - widowed\n",
    "\n",
    "Based on logit summary above"
   ]
  },
  {
   "cell_type": "code",
   "execution_count": 651,
   "metadata": {},
   "outputs": [],
   "source": [
    "x_train_6 = df_train.drop(columns = ['year', 'household_size','relationship_with_head_Other relative',\n",
    "                                     'relationship_with_head_Parent','marital_status_Widowed'])\n",
    "\n",
    "df_val_6 = df_val.drop(columns = ['year', 'household_size','relationship_with_head_Other relative',\n",
    "                                  'relationship_with_head_Parent','marital_status_Widowed'])\n",
    "\n",
    "features6 = ['age_of_respondent', 'is_urban', 'cellphone',\n",
    "       'is_male', 'county_Rwanda', 'county_Tanzania', 'county_Uganda',\n",
    "       'relationship_with_head_Head of Household',\n",
    "       'relationship_with_head_Spouse',\n",
    "       'marital_status_Married/Living together',\n",
    "       'marital_status_Single/Never Married',\n",
    "       'education_level_Primary education',\n",
    "       'education_level_Secondary education',\n",
    "       'education_level_Tertiary education',\n",
    "       'education_level_Vocational/Specialised training',\n",
    "       'job_type_Formally employed Government',\n",
    "       'job_type_Formally employed Private', 'job_type_Government Dependent',\n",
    "       'job_type_Informally employed', 'job_type_No Income',\n",
    "       'job_type_Other Income', 'job_type_Remittance Dependent',\n",
    "       'job_type_Self employed']"
   ]
  },
  {
   "cell_type": "code",
   "execution_count": 652,
   "metadata": {},
   "outputs": [
    {
     "name": "stdout",
     "output_type": "stream",
     "text": [
      "Optimization terminated successfully.\n",
      "         Current function value: 0.319210\n",
      "         Iterations 7\n",
      "                                         Results: Logit\n",
      "================================================================================================\n",
      "Model:                          Logit                      Pseudo R-squared:           0.214    \n",
      "Dependent Variable:             bank_acc                   AIC:                        9056.6465\n",
      "Date:                           2021-02-01 20:32           BIC:                        9230.4098\n",
      "No. Observations:               14114                      Log-Likelihood:             -4505.3  \n",
      "Df Model:                       22                         LL-Null:                    -5733.9  \n",
      "Df Residuals:                   14091                      LLR p-value:                0.0000   \n",
      "Converged:                      1.0000                     Scale:                      1.0000   \n",
      "No. Iterations:                 7.0000                                                          \n",
      "------------------------------------------------------------------------------------------------\n",
      "                                                 Coef.  Std.Err.    z     P>|z|   [0.025  0.975]\n",
      "------------------------------------------------------------------------------------------------\n",
      "age_of_respondent                               -0.0253   0.0018 -13.7368 0.0000 -0.0290 -0.0217\n",
      "is_urban                                         0.2196   0.0637   3.4474 0.0006  0.0948  0.3445\n",
      "cellphone                                        0.4059   0.0782   5.1893 0.0000  0.2526  0.5592\n",
      "is_male                                          0.3896   0.0701   5.5583 0.0000  0.2523  0.5270\n",
      "county_Rwanda                                   -0.9317   0.0645 -14.4473 0.0000 -1.0581 -0.8053\n",
      "county_Tanzania                                 -1.7080   0.0958 -17.8355 0.0000 -1.8957 -1.5203\n",
      "county_Uganda                                   -1.6740   0.1245 -13.4512 0.0000 -1.9180 -1.4301\n",
      "relationship_with_head_Head of Household         0.2331   0.0890   2.6185 0.0088  0.0586  0.4076\n",
      "relationship_with_head_Spouse                   -0.1150   0.1149  -1.0008 0.3169 -0.3402  0.1102\n",
      "marital_status_Married/Living together          -0.5565   0.0883  -6.3035 0.0000 -0.7295 -0.3835\n",
      "marital_status_Single/Never Married             -1.0402   0.0839 -12.4041 0.0000 -1.2045 -0.8758\n",
      "education_level_Primary education               -0.3844   0.0784  -4.9045 0.0000 -0.5380 -0.2308\n",
      "education_level_Secondary education              0.4604   0.0893   5.1579 0.0000  0.2854  0.6353\n",
      "education_level_Tertiary education               2.0714   0.1245  16.6363 0.0000  1.8274  2.3155\n",
      "education_level_Vocational/Specialised training  1.6161   0.1322  12.2285 0.0000  1.3571  1.8752\n",
      "job_type_Formally employed Government            1.2196   0.1827   6.6749 0.0000  0.8615  1.5778\n",
      "job_type_Formally employed Private               1.2166   0.1170  10.3983 0.0000  0.9873  1.4459\n",
      "job_type_Government Dependent                    0.8754   0.2270   3.8571 0.0001  0.4306  1.3202\n",
      "job_type_Informally employed                    -1.0788   0.0849 -12.7114 0.0000 -1.2451 -0.9125\n",
      "job_type_No Income                              -1.1855   0.2670  -4.4393 0.0000 -1.7089 -0.6621\n",
      "job_type_Other Income                            0.1164   0.1376   0.8457 0.3977 -0.1533  0.3861\n",
      "job_type_Remittance Dependent                   -1.2246   0.1123 -10.9016 0.0000 -1.4448 -1.0045\n",
      "job_type_Self employed                          -0.0653   0.0888  -0.7353 0.4621 -0.2394  0.1088\n",
      "================================================================================================\n",
      "\n"
     ]
    }
   ],
   "source": [
    "logit_model6=sm.Logit(x_train_6['bank_acc'],x_train_6[features6])\n",
    "result6=logit_model6.fit()\n",
    "print(result6.summary2())"
   ]
  },
  {
   "cell_type": "code",
   "execution_count": 653,
   "metadata": {},
   "outputs": [
    {
     "name": "stdout",
     "output_type": "stream",
     "text": [
      "Accuracy of logistic regression classifier on val set: 0.885\n"
     ]
    },
    {
     "name": "stderr",
     "output_type": "stream",
     "text": [
      "/Users/tawneykirkland/opt/anaconda3/lib/python3.8/site-packages/sklearn/linear_model/_logistic.py:762: ConvergenceWarning: lbfgs failed to converge (status=1):\n",
      "STOP: TOTAL NO. of ITERATIONS REACHED LIMIT.\n",
      "\n",
      "Increase the number of iterations (max_iter) or scale the data as shown in:\n",
      "    https://scikit-learn.org/stable/modules/preprocessing.html\n",
      "Please also refer to the documentation for alternative solver options:\n",
      "    https://scikit-learn.org/stable/modules/linear_model.html#logistic-regression\n",
      "  n_iter_i = _check_optimize_result(\n"
     ]
    }
   ],
   "source": [
    "lm_6 = LogisticRegression()\n",
    "lm_6.fit(x_train_6[features6], x_train_6['bank_acc'])\n",
    "\n",
    "preds6 = lm_6.predict(df_val_6[features6])\n",
    "print('Accuracy of logistic regression classifier on val set: {:.3f}'.format(\n",
    "    lm_6.score(df_val_6[features6], df_val_6['bank_acc'])))"
   ]
  },
  {
   "cell_type": "code",
   "execution_count": 654,
   "metadata": {},
   "outputs": [
    {
     "data": {
      "text/plain": [
       "array([[2954,   83],\n",
       "       [ 324,  168]])"
      ]
     },
     "execution_count": 654,
     "metadata": {},
     "output_type": "execute_result"
    }
   ],
   "source": [
    "confusion_matrix(df_val_6['bank_acc'], \n",
    "                 preds6)"
   ]
  },
  {
   "cell_type": "markdown",
   "metadata": {},
   "source": [
    "Minor (1) improvement in prediction of account holders with the removal of widows"
   ]
  },
  {
   "cell_type": "code",
   "execution_count": 655,
   "metadata": {
    "scrolled": true
   },
   "outputs": [
    {
     "name": "stdout",
     "output_type": "stream",
     "text": [
      "              precision    recall  f1-score   support\n",
      "\n",
      "           0       0.90      0.97      0.94      3037\n",
      "           1       0.67      0.34      0.45       492\n",
      "\n",
      "    accuracy                           0.88      3529\n",
      "   macro avg       0.79      0.66      0.69      3529\n",
      "weighted avg       0.87      0.88      0.87      3529\n",
      "\n"
     ]
    }
   ],
   "source": [
    "print(classification_report(df_val_6['bank_acc'], preds6))"
   ]
  },
  {
   "cell_type": "markdown",
   "metadata": {},
   "source": [
    "## Removing remittance / no income \n",
    "\n",
    "Based on logit summary above. HOWEVER, consider merging these two and adding as a new column"
   ]
  },
  {
   "cell_type": "code",
   "execution_count": 661,
   "metadata": {},
   "outputs": [],
   "source": [
    "x_train_7 = df_train.drop(columns = ['year', 'household_size','relationship_with_head_Other relative',\n",
    "                                     'relationship_with_head_Parent','marital_status_Widowed',\n",
    "                                    'job_type_Other Income'])\n",
    "\n",
    "df_val_7 = df_val.drop(columns = ['year', 'household_size','relationship_with_head_Other relative',\n",
    "                                  'relationship_with_head_Parent','marital_status_Widowed',\n",
    "                                 'job_type_Other Income'])\n",
    "\n",
    "features7 = ['age_of_respondent', 'is_urban', 'cellphone',\n",
    "       'is_male', 'county_Rwanda', 'county_Tanzania', 'county_Uganda',\n",
    "       'relationship_with_head_Head of Household',\n",
    "       'relationship_with_head_Spouse',\n",
    "       'marital_status_Married/Living together',\n",
    "       'marital_status_Single/Never Married',\n",
    "       'education_level_Primary education',\n",
    "       'education_level_Secondary education',\n",
    "       'education_level_Tertiary education',\n",
    "       'education_level_Vocational/Specialised training',\n",
    "       'job_type_Formally employed Government',\n",
    "       'job_type_Formally employed Private', 'job_type_Government Dependent',\n",
    "       'job_type_Informally employed',\n",
    "       'job_type_No Income',\n",
    "        'job_type_Remittance Dependent',\n",
    "       'job_type_Self employed']"
   ]
  },
  {
   "cell_type": "code",
   "execution_count": 662,
   "metadata": {},
   "outputs": [
    {
     "data": {
      "text/plain": [
       "Index(['age_of_respondent', 'is_urban', 'cellphone', 'is_male',\n",
       "       'county_Rwanda', 'county_Tanzania', 'county_Uganda',\n",
       "       'relationship_with_head_Head of Household',\n",
       "       'relationship_with_head_Spouse',\n",
       "       'marital_status_Married/Living together',\n",
       "       'marital_status_Single/Never Married',\n",
       "       'education_level_Primary education',\n",
       "       'education_level_Secondary education',\n",
       "       'education_level_Tertiary education',\n",
       "       'education_level_Vocational/Specialised training',\n",
       "       'job_type_Formally employed Government',\n",
       "       'job_type_Formally employed Private', 'job_type_Government Dependent',\n",
       "       'job_type_Informally employed', 'job_type_No Income',\n",
       "       'job_type_Remittance Dependent', 'job_type_Self employed', 'bank_acc'],\n",
       "      dtype='object')"
      ]
     },
     "execution_count": 662,
     "metadata": {},
     "output_type": "execute_result"
    }
   ],
   "source": [
    "x_train_7.columns"
   ]
  },
  {
   "cell_type": "code",
   "execution_count": 663,
   "metadata": {
    "scrolled": true
   },
   "outputs": [
    {
     "name": "stdout",
     "output_type": "stream",
     "text": [
      "Optimization terminated successfully.\n",
      "         Current function value: 0.319235\n",
      "         Iterations 7\n",
      "                                         Results: Logit\n",
      "================================================================================================\n",
      "Model:                          Logit                      Pseudo R-squared:           0.214    \n",
      "Dependent Variable:             bank_acc                   AIC:                        9055.3548\n",
      "Date:                           2021-02-01 20:33           BIC:                        9221.5631\n",
      "No. Observations:               14114                      Log-Likelihood:             -4505.7  \n",
      "Df Model:                       21                         LL-Null:                    -5733.9  \n",
      "Df Residuals:                   14092                      LLR p-value:                0.0000   \n",
      "Converged:                      1.0000                     Scale:                      1.0000   \n",
      "No. Iterations:                 7.0000                                                          \n",
      "------------------------------------------------------------------------------------------------\n",
      "                                                 Coef.  Std.Err.    z     P>|z|   [0.025  0.975]\n",
      "------------------------------------------------------------------------------------------------\n",
      "age_of_respondent                               -0.0253   0.0018 -13.7120 0.0000 -0.0289 -0.0217\n",
      "is_urban                                         0.2294   0.0627   3.6605 0.0003  0.1066  0.3522\n",
      "cellphone                                        0.4071   0.0782   5.2024 0.0000  0.2537  0.5605\n",
      "is_male                                          0.3900   0.0701   5.5624 0.0000  0.2526  0.5274\n",
      "county_Rwanda                                   -0.9295   0.0644 -14.4254 0.0000 -1.0558 -0.8032\n",
      "county_Tanzania                                 -1.7023   0.0956 -17.8154 0.0000 -1.8896 -1.5150\n",
      "county_Uganda                                   -1.6355   0.1159 -14.1125 0.0000 -1.8627 -1.4084\n",
      "relationship_with_head_Head of Household         0.2337   0.0890   2.6249 0.0087  0.0592  0.4081\n",
      "relationship_with_head_Spouse                   -0.1154   0.1149  -1.0041 0.3153 -0.3406  0.1098\n",
      "marital_status_Married/Living together          -0.5548   0.0883  -6.2843 0.0000 -0.7278 -0.3818\n",
      "marital_status_Single/Never Married             -1.0345   0.0836 -12.3759 0.0000 -1.1984 -0.8707\n",
      "education_level_Primary education               -0.3798   0.0782  -4.8558 0.0000 -0.5331 -0.2265\n",
      "education_level_Secondary education              0.4675   0.0889   5.2603 0.0000  0.2933  0.6417\n",
      "education_level_Tertiary education               2.0798   0.1241  16.7605 0.0000  1.8366  2.3230\n",
      "education_level_Vocational/Specialised training  1.6233   0.1319  12.3073 0.0000  1.3648  1.8818\n",
      "job_type_Formally employed Government            1.1993   0.1811   6.6209 0.0000  0.8443  1.5543\n",
      "job_type_Formally employed Private               1.1905   0.1128  10.5513 0.0000  0.9694  1.4117\n",
      "job_type_Government Dependent                    0.8585   0.2261   3.7979 0.0001  0.4155  1.3016\n",
      "job_type_Informally employed                    -1.0957   0.0825 -13.2866 0.0000 -1.2573 -0.9341\n",
      "job_type_No Income                              -1.2173   0.2643  -4.6059 0.0000 -1.7353 -0.6993\n",
      "job_type_Remittance Dependent                   -1.2442   0.1100 -11.3134 0.0000 -1.4597 -1.0286\n",
      "job_type_Self employed                          -0.0910   0.0835  -1.0901 0.2757 -0.2546  0.0726\n",
      "================================================================================================\n",
      "\n"
     ]
    }
   ],
   "source": [
    "logit_model7=sm.Logit(x_train_7['bank_acc'],x_train_7[features7])\n",
    "result7=logit_model7.fit()\n",
    "print(result7.summary2())"
   ]
  },
  {
   "cell_type": "code",
   "execution_count": 665,
   "metadata": {},
   "outputs": [
    {
     "name": "stdout",
     "output_type": "stream",
     "text": [
      "Accuracy of logistic regression classifier on val set: 0.883\n"
     ]
    },
    {
     "name": "stderr",
     "output_type": "stream",
     "text": [
      "/Users/tawneykirkland/opt/anaconda3/lib/python3.8/site-packages/sklearn/linear_model/_logistic.py:762: ConvergenceWarning: lbfgs failed to converge (status=1):\n",
      "STOP: TOTAL NO. of ITERATIONS REACHED LIMIT.\n",
      "\n",
      "Increase the number of iterations (max_iter) or scale the data as shown in:\n",
      "    https://scikit-learn.org/stable/modules/preprocessing.html\n",
      "Please also refer to the documentation for alternative solver options:\n",
      "    https://scikit-learn.org/stable/modules/linear_model.html#logistic-regression\n",
      "  n_iter_i = _check_optimize_result(\n"
     ]
    }
   ],
   "source": [
    "lm_7 = LogisticRegression()\n",
    "lm_7.fit(x_train_7[features7], x_train_7['bank_acc'])\n",
    "\n",
    "preds7 = lm_7.predict(df_val_7[features7])\n",
    "print('Accuracy of logistic regression classifier on val set: {:.3f}'.format(\n",
    "    lm_7.score(df_val_7[features7], df_val_7['bank_acc'])))"
   ]
  },
  {
   "cell_type": "code",
   "execution_count": 666,
   "metadata": {
    "scrolled": true
   },
   "outputs": [
    {
     "data": {
      "text/plain": [
       "array([[2959,   78],\n",
       "       [ 334,  158]])"
      ]
     },
     "execution_count": 666,
     "metadata": {},
     "output_type": "execute_result"
    }
   ],
   "source": [
    "confusion_matrix(df_val_7['bank_acc'], \n",
    "                 preds7)"
   ]
  },
  {
   "cell_type": "markdown",
   "metadata": {},
   "source": [
    "Minor (1) drop in prediction of account holders with removal of remittance dependent / no income"
   ]
  },
  {
   "cell_type": "code",
   "execution_count": 667,
   "metadata": {},
   "outputs": [
    {
     "name": "stdout",
     "output_type": "stream",
     "text": [
      "              precision    recall  f1-score   support\n",
      "\n",
      "           0       0.90      0.97      0.93      3037\n",
      "           1       0.67      0.32      0.43       492\n",
      "\n",
      "    accuracy                           0.88      3529\n",
      "   macro avg       0.78      0.65      0.68      3529\n",
      "weighted avg       0.87      0.88      0.87      3529\n",
      "\n"
     ]
    }
   ],
   "source": [
    "print(classification_report(df_val_7['bank_acc'], preds7))"
   ]
  },
  {
   "cell_type": "markdown",
   "metadata": {},
   "source": [
    "## Removing spouse\n",
    "\n",
    "Based on logit summary above"
   ]
  },
  {
   "cell_type": "code",
   "execution_count": 671,
   "metadata": {},
   "outputs": [],
   "source": [
    "x_train_8 = df_train.drop(columns = ['year', 'household_size','relationship_with_head_Other relative',\n",
    "                                     'relationship_with_head_Parent','marital_status_Widowed',\n",
    "                                    'job_type_Other Income','relationship_with_head_Spouse'])\n",
    "\n",
    "df_val_8 = df_val.drop(columns = ['year', 'household_size','relationship_with_head_Other relative',\n",
    "                                  'relationship_with_head_Parent','marital_status_Widowed',\n",
    "                                 'job_type_Other Income','relationship_with_head_Spouse'])\n",
    "\n",
    "features8 = ['age_of_respondent', 'is_urban', 'cellphone',\n",
    "       'is_male', 'county_Rwanda', 'county_Tanzania', 'county_Uganda',\n",
    "       'relationship_with_head_Head of Household',\n",
    "       'marital_status_Married/Living together',\n",
    "       'marital_status_Single/Never Married',\n",
    "       'education_level_Primary education',\n",
    "       'education_level_Secondary education',\n",
    "       'education_level_Tertiary education',\n",
    "       'education_level_Vocational/Specialised training',\n",
    "       'job_type_Formally employed Government',\n",
    "       'job_type_Formally employed Private', 'job_type_Government Dependent',\n",
    "       'job_type_Informally employed',\n",
    "       'job_type_No Income',\n",
    "        'job_type_Remittance Dependent',\n",
    "       'job_type_Self employed']"
   ]
  },
  {
   "cell_type": "code",
   "execution_count": 672,
   "metadata": {},
   "outputs": [
    {
     "name": "stdout",
     "output_type": "stream",
     "text": [
      "Optimization terminated successfully.\n",
      "         Current function value: 0.319270\n",
      "         Iterations 7\n",
      "                                         Results: Logit\n",
      "================================================================================================\n",
      "Model:                          Logit                      Pseudo R-squared:           0.214    \n",
      "Dependent Variable:             bank_acc                   AIC:                        9054.3615\n",
      "Date:                           2021-02-01 20:41           BIC:                        9213.0149\n",
      "No. Observations:               14114                      Log-Likelihood:             -4506.2  \n",
      "Df Model:                       20                         LL-Null:                    -5733.9  \n",
      "Df Residuals:                   14093                      LLR p-value:                0.0000   \n",
      "Converged:                      1.0000                     Scale:                      1.0000   \n",
      "No. Iterations:                 7.0000                                                          \n",
      "------------------------------------------------------------------------------------------------\n",
      "                                                 Coef.  Std.Err.    z     P>|z|   [0.025  0.975]\n",
      "------------------------------------------------------------------------------------------------\n",
      "age_of_respondent                               -0.0260   0.0017 -15.2371 0.0000 -0.0293 -0.0226\n",
      "is_urban                                         0.2271   0.0627   3.6246 0.0003  0.1043  0.3499\n",
      "cellphone                                        0.4004   0.0779   5.1405 0.0000  0.2477  0.5531\n",
      "is_male                                          0.4203   0.0635   6.6215 0.0000  0.2959  0.5447\n",
      "county_Rwanda                                   -0.9335   0.0643 -14.5161 0.0000 -1.0595 -0.8074\n",
      "county_Tanzania                                 -1.7194   0.0942 -18.2522 0.0000 -1.9041 -1.5348\n",
      "county_Uganda                                   -1.6407   0.1158 -14.1741 0.0000 -1.8675 -1.4138\n",
      "relationship_with_head_Head of Household         0.2889   0.0701   4.1189 0.0000  0.1514  0.4264\n",
      "marital_status_Married/Living together          -0.6046   0.0732  -8.2638 0.0000 -0.7480 -0.4612\n",
      "marital_status_Single/Never Married             -1.0488   0.0824 -12.7254 0.0000 -1.2103 -0.8873\n",
      "education_level_Primary education               -0.3860   0.0779  -4.9556 0.0000 -0.5387 -0.2334\n",
      "education_level_Secondary education              0.4661   0.0888   5.2478 0.0000  0.2920  0.6402\n",
      "education_level_Tertiary education               2.0772   0.1240  16.7551 0.0000  1.8342  2.3202\n",
      "education_level_Vocational/Specialised training  1.6221   0.1319  12.2986 0.0000  1.3636  1.8806\n",
      "job_type_Formally employed Government            1.1958   0.1811   6.6015 0.0000  0.8407  1.5508\n",
      "job_type_Formally employed Private               1.1890   0.1129  10.5333 0.0000  0.9677  1.4102\n",
      "job_type_Government Dependent                    0.8641   0.2262   3.8198 0.0001  0.4207  1.3075\n",
      "job_type_Informally employed                    -1.0995   0.0824 -13.3472 0.0000 -1.2609 -0.9380\n",
      "job_type_No Income                              -1.2147   0.2640  -4.6015 0.0000 -1.7320 -0.6973\n",
      "job_type_Remittance Dependent                   -1.2398   0.1099 -11.2825 0.0000 -1.4552 -1.0244\n",
      "job_type_Self employed                          -0.0953   0.0834  -1.1429 0.2531 -0.2587  0.0681\n",
      "================================================================================================\n",
      "\n"
     ]
    }
   ],
   "source": [
    "logit_model8=sm.Logit(x_train_8['bank_acc'],x_train_8[features8])\n",
    "result8=logit_model8.fit()\n",
    "print(result8.summary2())"
   ]
  },
  {
   "cell_type": "code",
   "execution_count": 674,
   "metadata": {},
   "outputs": [
    {
     "name": "stdout",
     "output_type": "stream",
     "text": [
      "Accuracy of logistic regression classifier on val set: 0.885\n"
     ]
    },
    {
     "name": "stderr",
     "output_type": "stream",
     "text": [
      "/Users/tawneykirkland/opt/anaconda3/lib/python3.8/site-packages/sklearn/linear_model/_logistic.py:762: ConvergenceWarning: lbfgs failed to converge (status=1):\n",
      "STOP: TOTAL NO. of ITERATIONS REACHED LIMIT.\n",
      "\n",
      "Increase the number of iterations (max_iter) or scale the data as shown in:\n",
      "    https://scikit-learn.org/stable/modules/preprocessing.html\n",
      "Please also refer to the documentation for alternative solver options:\n",
      "    https://scikit-learn.org/stable/modules/linear_model.html#logistic-regression\n",
      "  n_iter_i = _check_optimize_result(\n"
     ]
    }
   ],
   "source": [
    "lm_8 = LogisticRegression()\n",
    "lm_8.fit(x_train_8[features8], x_train_8['bank_acc'])\n",
    "\n",
    "preds8 = lm_8.predict(df_val_8[features8])\n",
    "print('Accuracy of logistic regression classifier on val set: {:.3f}'.format(\n",
    "    lm_8.score(df_val_8[features8], df_val_8['bank_acc'])))"
   ]
  },
  {
   "cell_type": "code",
   "execution_count": 675,
   "metadata": {
    "scrolled": true
   },
   "outputs": [
    {
     "data": {
      "text/plain": [
       "array([[2963,   74],\n",
       "       [ 331,  161]])"
      ]
     },
     "execution_count": 675,
     "metadata": {},
     "output_type": "execute_result"
    }
   ],
   "source": [
    "confusion_matrix(df_val_8['bank_acc'], \n",
    "                 preds8)"
   ]
  },
  {
   "cell_type": "markdown",
   "metadata": {},
   "source": [
    "Minor improvement in recall for non-account but decrease in recall for account"
   ]
  },
  {
   "cell_type": "code",
   "execution_count": 676,
   "metadata": {},
   "outputs": [
    {
     "name": "stdout",
     "output_type": "stream",
     "text": [
      "              precision    recall  f1-score   support\n",
      "\n",
      "           0       0.90      0.98      0.94      3037\n",
      "           1       0.69      0.33      0.44       492\n",
      "\n",
      "    accuracy                           0.89      3529\n",
      "   macro avg       0.79      0.65      0.69      3529\n",
      "weighted avg       0.87      0.89      0.87      3529\n",
      "\n"
     ]
    }
   ],
   "source": [
    "print(classification_report(df_val_8['bank_acc'], preds8))"
   ]
  },
  {
   "cell_type": "markdown",
   "metadata": {},
   "source": [
    "## Removing self employed\n",
    "\n",
    "Based on logit summary above"
   ]
  },
  {
   "cell_type": "code",
   "execution_count": 677,
   "metadata": {},
   "outputs": [],
   "source": [
    "x_train_9 = df_train.drop(columns = ['year', 'household_size','relationship_with_head_Other relative',\n",
    "                                     'relationship_with_head_Parent','marital_status_Widowed',\n",
    "                                    'job_type_Other Income','relationship_with_head_Spouse','job_type_Self employed'])\n",
    "\n",
    "df_val_9 = df_val.drop(columns = ['year', 'household_size','relationship_with_head_Other relative',\n",
    "                                  'relationship_with_head_Parent','marital_status_Widowed',\n",
    "                                 'job_type_Other Income','relationship_with_head_Spouse','job_type_Self employed'])\n",
    "\n",
    "features9 = ['age_of_respondent', 'is_urban', 'cellphone',\n",
    "       'is_male', 'county_Rwanda', 'county_Tanzania', 'county_Uganda',\n",
    "       'relationship_with_head_Head of Household',\n",
    "       'marital_status_Married/Living together',\n",
    "       'marital_status_Single/Never Married',\n",
    "       'education_level_Primary education',\n",
    "       'education_level_Secondary education',\n",
    "       'education_level_Tertiary education',\n",
    "       'education_level_Vocational/Specialised training',\n",
    "       'job_type_Formally employed Government',\n",
    "       'job_type_Formally employed Private', 'job_type_Government Dependent',\n",
    "       'job_type_Informally employed',\n",
    "       'job_type_No Income',\n",
    "        'job_type_Remittance Dependent']"
   ]
  },
  {
   "cell_type": "code",
   "execution_count": 678,
   "metadata": {},
   "outputs": [
    {
     "name": "stdout",
     "output_type": "stream",
     "text": [
      "Optimization terminated successfully.\n",
      "         Current function value: 0.319317\n",
      "         Iterations 7\n",
      "                                         Results: Logit\n",
      "================================================================================================\n",
      "Model:                          Logit                      Pseudo R-squared:           0.214    \n",
      "Dependent Variable:             bank_acc                   AIC:                        9053.6708\n",
      "Date:                           2021-02-01 20:44           BIC:                        9204.7693\n",
      "No. Observations:               14114                      Log-Likelihood:             -4506.8  \n",
      "Df Model:                       19                         LL-Null:                    -5733.9  \n",
      "Df Residuals:                   14094                      LLR p-value:                0.0000   \n",
      "Converged:                      1.0000                     Scale:                      1.0000   \n",
      "No. Iterations:                 7.0000                                                          \n",
      "------------------------------------------------------------------------------------------------\n",
      "                                                 Coef.  Std.Err.    z     P>|z|   [0.025  0.975]\n",
      "------------------------------------------------------------------------------------------------\n",
      "age_of_respondent                               -0.0260   0.0017 -15.2570 0.0000 -0.0293 -0.0227\n",
      "is_urban                                         0.2093   0.0607   3.4489 0.0006  0.0904  0.3283\n",
      "cellphone                                        0.3931   0.0775   5.0694 0.0000  0.2411  0.5450\n",
      "is_male                                          0.4231   0.0634   6.6705 0.0000  0.2988  0.5474\n",
      "county_Rwanda                                   -0.9259   0.0640 -14.4772 0.0000 -1.0512 -0.8005\n",
      "county_Tanzania                                 -1.7593   0.0876 -20.0937 0.0000 -1.9309 -1.5877\n",
      "county_Uganda                                   -1.6653   0.1137 -14.6503 0.0000 -1.8881 -1.4425\n",
      "relationship_with_head_Head of Household         0.2816   0.0698   4.0313 0.0001  0.1447  0.4184\n",
      "marital_status_Married/Living together          -0.6130   0.0728  -8.4235 0.0000 -0.7556 -0.4704\n",
      "marital_status_Single/Never Married             -1.0575   0.0820 -12.8897 0.0000 -1.2183 -0.8967\n",
      "education_level_Primary education               -0.3970   0.0772  -5.1399 0.0000 -0.5484 -0.2456\n",
      "education_level_Secondary education              0.4540   0.0881   5.1513 0.0000  0.2813  0.6267\n",
      "education_level_Tertiary education               2.0733   0.1239  16.7279 0.0000  1.8304  2.3162\n",
      "education_level_Vocational/Specialised training  1.6130   0.1317  12.2507 0.0000  1.3550  1.8711\n",
      "job_type_Formally employed Government            1.2314   0.1784   6.9038 0.0000  0.8818  1.5810\n",
      "job_type_Formally employed Private               1.2425   0.1028  12.0885 0.0000  1.0411  1.4440\n",
      "job_type_Government Dependent                    0.8958   0.2246   3.9879 0.0001  0.4556  1.3361\n",
      "job_type_Informally employed                    -1.0645   0.0765 -13.9213 0.0000 -1.2144 -0.9147\n",
      "job_type_No Income                              -1.1562   0.2590  -4.4644 0.0000 -1.6638 -0.6486\n",
      "job_type_Remittance Dependent                   -1.2022   0.1048 -11.4697 0.0000 -1.4076 -0.9967\n",
      "================================================================================================\n",
      "\n"
     ]
    }
   ],
   "source": [
    "logit_model9=sm.Logit(x_train_9['bank_acc'],x_train_9[features9])\n",
    "result9=logit_model9.fit()\n",
    "print(result9.summary2())"
   ]
  },
  {
   "cell_type": "code",
   "execution_count": 679,
   "metadata": {},
   "outputs": [
    {
     "name": "stdout",
     "output_type": "stream",
     "text": [
      "Accuracy of logistic regression classifier on val set: 0.883\n"
     ]
    },
    {
     "name": "stderr",
     "output_type": "stream",
     "text": [
      "/Users/tawneykirkland/opt/anaconda3/lib/python3.8/site-packages/sklearn/linear_model/_logistic.py:762: ConvergenceWarning: lbfgs failed to converge (status=1):\n",
      "STOP: TOTAL NO. of ITERATIONS REACHED LIMIT.\n",
      "\n",
      "Increase the number of iterations (max_iter) or scale the data as shown in:\n",
      "    https://scikit-learn.org/stable/modules/preprocessing.html\n",
      "Please also refer to the documentation for alternative solver options:\n",
      "    https://scikit-learn.org/stable/modules/linear_model.html#logistic-regression\n",
      "  n_iter_i = _check_optimize_result(\n"
     ]
    }
   ],
   "source": [
    "lm_9 = LogisticRegression()\n",
    "lm_9.fit(x_train_9[features9], x_train_9['bank_acc'])\n",
    "\n",
    "preds9 = lm_9.predict(df_val_9[features9])\n",
    "print('Accuracy of logistic regression classifier on val set: {:.3f}'.format(\n",
    "    lm_9.score(df_val_9[features9], df_val_9['bank_acc'])))"
   ]
  },
  {
   "cell_type": "code",
   "execution_count": 681,
   "metadata": {
    "scrolled": true
   },
   "outputs": [
    {
     "data": {
      "text/plain": [
       "array([[2958,   79],\n",
       "       [ 333,  159]])"
      ]
     },
     "execution_count": 681,
     "metadata": {},
     "output_type": "execute_result"
    }
   ],
   "source": [
    "confusion_matrix(df_val_9['bank_acc'], \n",
    "                 preds9)"
   ]
  },
  {
   "cell_type": "markdown",
   "metadata": {},
   "source": [
    "No change in recall for non-account but minor improvement in recall for account"
   ]
  },
  {
   "cell_type": "code",
   "execution_count": 682,
   "metadata": {
    "scrolled": true
   },
   "outputs": [
    {
     "name": "stdout",
     "output_type": "stream",
     "text": [
      "              precision    recall  f1-score   support\n",
      "\n",
      "           0       0.90      0.97      0.93      3037\n",
      "           1       0.67      0.32      0.44       492\n",
      "\n",
      "    accuracy                           0.88      3529\n",
      "   macro avg       0.78      0.65      0.69      3529\n",
      "weighted avg       0.87      0.88      0.87      3529\n",
      "\n"
     ]
    }
   ],
   "source": [
    "print(classification_report(df_val_9['bank_acc'], preds9))"
   ]
  },
  {
   "cell_type": "markdown",
   "metadata": {},
   "source": [
    "## Adding female head hh interaction"
   ]
  },
  {
   "cell_type": "code",
   "execution_count": 688,
   "metadata": {},
   "outputs": [],
   "source": [
    "x_train_10 = x_train_9.copy()\n",
    "df_val_10 = df_val_9.copy()\n",
    "\n",
    "x_train_10['female_hh'] = np.where((x_train_10['is_male'] == 0) & \n",
    "                                   (x_train_10['relationship_with_head_Head of Household']==1),\n",
    "                                  1,0)\n",
    "\n",
    "df_val_10['female_hh'] = np.where((df_val_10['is_male'] == 0) & (df_val_10['relationship_with_head_Head of Household']==1),\n",
    "                                  1,0)\n",
    "\n",
    "features10 = ['age_of_respondent', 'is_urban', 'cellphone',\n",
    "       'is_male', 'county_Rwanda', 'county_Tanzania', 'county_Uganda',\n",
    "       'relationship_with_head_Head of Household',\n",
    "       'marital_status_Married/Living together',\n",
    "       'education_level_Primary education',\n",
    "       'education_level_Secondary education',\n",
    "       'education_level_Tertiary education',\n",
    "       'education_level_Vocational/Specialised training',\n",
    "       'job_type_Formally employed Government',\n",
    "       'job_type_Formally employed Private', 'job_type_Government Dependent',\n",
    "       'job_type_No Income', 'job_type_Remittance Dependent','female_hh']"
   ]
  },
  {
   "cell_type": "code",
   "execution_count": 689,
   "metadata": {},
   "outputs": [
    {
     "name": "stdout",
     "output_type": "stream",
     "text": [
      "Optimization terminated successfully.\n",
      "         Current function value: 0.327756\n",
      "         Iterations 7\n",
      "                                         Results: Logit\n",
      "================================================================================================\n",
      "Model:                          Logit                      Pseudo R-squared:           0.193    \n",
      "Dependent Variable:             bank_acc                   AIC:                        9289.8892\n",
      "Date:                           2021-02-01 20:47           BIC:                        9433.4327\n",
      "No. Observations:               14114                      Log-Likelihood:             -4625.9  \n",
      "Df Model:                       18                         LL-Null:                    -5733.9  \n",
      "Df Residuals:                   14095                      LLR p-value:                0.0000   \n",
      "Converged:                      1.0000                     Scale:                      1.0000   \n",
      "No. Iterations:                 7.0000                                                          \n",
      "------------------------------------------------------------------------------------------------\n",
      "                                                 Coef.  Std.Err.    z     P>|z|   [0.025  0.975]\n",
      "------------------------------------------------------------------------------------------------\n",
      "age_of_respondent                               -0.0240   0.0017 -13.8585 0.0000 -0.0274 -0.0206\n",
      "is_urban                                         0.0337   0.0593   0.5679 0.5701 -0.0826  0.1500\n",
      "cellphone                                        0.2670   0.0732   3.6464 0.0003  0.1235  0.4105\n",
      "is_male                                         -1.0481   0.1199  -8.7407 0.0000 -1.2832 -0.8131\n",
      "county_Rwanda                                   -1.0999   0.0620 -17.7345 0.0000 -1.2214 -0.9783\n",
      "county_Tanzania                                 -1.9739   0.0876 -22.5425 0.0000 -2.1455 -1.8023\n",
      "county_Uganda                                   -1.5624   0.1143 -13.6635 0.0000 -1.7865 -1.3383\n",
      "relationship_with_head_Head of Household         1.6532   0.1251  13.2116 0.0000  1.4079  1.8984\n",
      "marital_status_Married/Living together          -0.3649   0.0648  -5.6347 0.0000 -0.4919 -0.2380\n",
      "education_level_Primary education               -0.6860   0.0716  -9.5852 0.0000 -0.8263 -0.5457\n",
      "education_level_Secondary education              0.1617   0.0819   1.9754 0.0482  0.0013  0.3221\n",
      "education_level_Tertiary education               1.7927   0.1191  15.0573 0.0000  1.5594  2.0261\n",
      "education_level_Vocational/Specialised training  1.3500   0.1285  10.5068 0.0000  1.0982  1.6018\n",
      "job_type_Formally employed Government            1.5311   0.1780   8.6007 0.0000  1.1822  1.8800\n",
      "job_type_Formally employed Private               1.4768   0.1018  14.5039 0.0000  1.2772  1.6763\n",
      "job_type_Government Dependent                    1.1989   0.2287   5.2417 0.0000  0.7506  1.6471\n",
      "job_type_No Income                              -0.8282   0.2555  -3.2414 0.0012 -1.3290 -0.3274\n",
      "job_type_Remittance Dependent                   -1.0504   0.1043 -10.0669 0.0000 -1.2549 -0.8459\n",
      "female_hh                                       -1.8753   0.1481 -12.6606 0.0000 -2.1657 -1.5850\n",
      "================================================================================================\n",
      "\n"
     ]
    }
   ],
   "source": [
    "logit_model10=sm.Logit(x_train_10['bank_acc'],x_train_10[features10])\n",
    "result10=logit_model10.fit()\n",
    "print(result10.summary2())"
   ]
  },
  {
   "cell_type": "code",
   "execution_count": 690,
   "metadata": {},
   "outputs": [
    {
     "name": "stdout",
     "output_type": "stream",
     "text": [
      "Accuracy of logistic regression classifier on val set: 0.883\n"
     ]
    },
    {
     "name": "stderr",
     "output_type": "stream",
     "text": [
      "/Users/tawneykirkland/opt/anaconda3/lib/python3.8/site-packages/sklearn/linear_model/_logistic.py:762: ConvergenceWarning: lbfgs failed to converge (status=1):\n",
      "STOP: TOTAL NO. of ITERATIONS REACHED LIMIT.\n",
      "\n",
      "Increase the number of iterations (max_iter) or scale the data as shown in:\n",
      "    https://scikit-learn.org/stable/modules/preprocessing.html\n",
      "Please also refer to the documentation for alternative solver options:\n",
      "    https://scikit-learn.org/stable/modules/linear_model.html#logistic-regression\n",
      "  n_iter_i = _check_optimize_result(\n"
     ]
    }
   ],
   "source": [
    "lm_10 = LogisticRegression()\n",
    "lm_10.fit(x_train_10[features10], x_train_10['bank_acc'])\n",
    "\n",
    "preds10 = lm_10.predict(df_val_10[features10])\n",
    "print('Accuracy of logistic regression classifier on val set: {:.3f}'.format(\n",
    "    lm_10.score(df_val_10[features10], df_val_10['bank_acc'])))"
   ]
  },
  {
   "cell_type": "code",
   "execution_count": 691,
   "metadata": {},
   "outputs": [
    {
     "data": {
      "text/plain": [
       "array([[2968,   69],\n",
       "       [ 343,  149]])"
      ]
     },
     "execution_count": 691,
     "metadata": {},
     "output_type": "execute_result"
    }
   ],
   "source": [
    "confusion_matrix(df_val_10['bank_acc'], \n",
    "                 preds10)"
   ]
  },
  {
   "cell_type": "code",
   "execution_count": 692,
   "metadata": {
    "scrolled": true
   },
   "outputs": [
    {
     "name": "stdout",
     "output_type": "stream",
     "text": [
      "              precision    recall  f1-score   support\n",
      "\n",
      "           0       0.90      0.98      0.94      3037\n",
      "           1       0.68      0.30      0.42       492\n",
      "\n",
      "    accuracy                           0.88      3529\n",
      "   macro avg       0.79      0.64      0.68      3529\n",
      "weighted avg       0.87      0.88      0.86      3529\n",
      "\n"
     ]
    }
   ],
   "source": [
    "print(classification_report(df_val_10['bank_acc'], preds10))"
   ]
  },
  {
   "cell_type": "code",
   "execution_count": 693,
   "metadata": {},
   "outputs": [],
   "source": [
    "df_val_10['proba_bank'] = lm_10.predict_proba(df_val_10[features10])[:, 1]\n",
    "\n",
    "fpr10, tpr10, thresholds10 = roc_curve(df_val_10['bank_acc'],\n",
    "                                 df_val_10['proba_bank'])"
   ]
  },
  {
   "cell_type": "code",
   "execution_count": 694,
   "metadata": {
    "scrolled": true
   },
   "outputs": [
    {
     "data": {
      "image/png": "[encoded data removed]",
      "text/plain": [
       "<Figure size 432x288 with 1 Axes>"
      ]
     },
     "metadata": {
      "needs_background": "light"
     },
     "output_type": "display_data"
    }
   ],
   "source": [
    "plot_roc(df_val_10['bank_acc'], df_val_10['proba_bank'],fpr10,tpr10)"
   ]
  },
  {
   "cell_type": "code",
   "execution_count": 705,
   "metadata": {},
   "outputs": [
    {
     "data": {
      "text/plain": [
       "array([[ 0.01537416,  0.36979782,  1.62801462, -0.20781145, -0.40644897,\n",
       "        -1.05800023, -0.73452223,  0.96579578,  0.17370093,  0.63818275,\n",
       "         1.65058827,  3.05090062,  2.66071265,  1.62035109,  1.53084254,\n",
       "         0.90185455, -0.49055131, -0.33436406, -0.68129772]])"
      ]
     },
     "execution_count": 705,
     "metadata": {},
     "output_type": "execute_result"
    }
   ],
   "source": [
    "lm_10.coef_"
   ]
  },
  {
   "cell_type": "markdown",
   "metadata": {},
   "source": [
    "## Adding rural and primary education interaction"
   ]
  },
  {
   "cell_type": "code",
   "execution_count": 698,
   "metadata": {},
   "outputs": [],
   "source": [
    "x_train_11 = x_train_9.copy()\n",
    "df_val_11 = df_val_9.copy()\n",
    "\n",
    "x_train_11['rural_primary'] = np.where((x_train_11['is_urban'] == 0) & \n",
    "                                   (x_train_11['education_level_Primary education']==1),\n",
    "                                  1,0)\n",
    "\n",
    "df_val_11['rural_primary'] = np.where((df_val_11['is_urban'] == 0) & (df_val_11['education_level_Primary education']==1),\n",
    "                                  1,0)\n",
    "\n",
    "features11 = ['age_of_respondent', 'is_urban', 'cellphone',\n",
    "       'is_male', 'county_Rwanda', 'county_Tanzania', 'county_Uganda',\n",
    "       'relationship_with_head_Head of Household',\n",
    "       'marital_status_Married/Living together',\n",
    "       'education_level_Primary education',\n",
    "       'education_level_Secondary education',\n",
    "       'education_level_Tertiary education',\n",
    "       'education_level_Vocational/Specialised training',\n",
    "       'job_type_Formally employed Government',\n",
    "       'job_type_Formally employed Private', 'job_type_Government Dependent',\n",
    "       'job_type_No Income', 'job_type_Remittance Dependent','rural_primary']"
   ]
  },
  {
   "cell_type": "code",
   "execution_count": 699,
   "metadata": {},
   "outputs": [
    {
     "name": "stdout",
     "output_type": "stream",
     "text": [
      "Optimization terminated successfully.\n",
      "         Current function value: 0.334140\n",
      "         Iterations 7\n",
      "                                         Results: Logit\n",
      "================================================================================================\n",
      "Model:                          Logit                      Pseudo R-squared:           0.178    \n",
      "Dependent Variable:             bank_acc                   AIC:                        9470.0963\n",
      "Date:                           2021-02-01 20:52           BIC:                        9613.6398\n",
      "No. Observations:               14114                      Log-Likelihood:             -4716.0  \n",
      "Df Model:                       18                         LL-Null:                    -5733.9  \n",
      "Df Residuals:                   14095                      LLR p-value:                0.0000   \n",
      "Converged:                      1.0000                     Scale:                      1.0000   \n",
      "No. Iterations:                 7.0000                                                          \n",
      "------------------------------------------------------------------------------------------------\n",
      "                                                 Coef.  Std.Err.    z     P>|z|   [0.025  0.975]\n",
      "------------------------------------------------------------------------------------------------\n",
      "age_of_respondent                               -0.0283   0.0017 -16.7312 0.0000 -0.0316 -0.0250\n",
      "is_urban                                        -0.0009   0.0722  -0.0123 0.9902 -0.1424  0.1406\n",
      "cellphone                                        0.1561   0.0706   2.2107 0.0271  0.0177  0.2945\n",
      "is_male                                          0.1528   0.0597   2.5591 0.0105  0.0358  0.2698\n",
      "county_Rwanda                                   -1.1279   0.0615 -18.3327 0.0000 -1.2485 -1.0074\n",
      "county_Tanzania                                 -1.8625   0.0855 -21.7756 0.0000 -2.0302 -1.6949\n",
      "county_Uganda                                   -1.5969   0.1134 -14.0838 0.0000 -1.8192 -1.3747\n",
      "relationship_with_head_Head of Household         0.4190   0.0664   6.3113 0.0000  0.2889  0.5491\n",
      "marital_status_Married/Living together          -0.0571   0.0592  -0.9650 0.3345 -0.1730  0.0589\n",
      "education_level_Primary education               -0.7117   0.1111  -6.4063 0.0000 -0.9294 -0.4940\n",
      "education_level_Secondary education              0.0430   0.0814   0.5282 0.5974 -0.1166  0.2026\n",
      "education_level_Tertiary education               1.7026   0.1197  14.2301 0.0000  1.4681  1.9372\n",
      "education_level_Vocational/Specialised training  1.2503   0.1281   9.7577 0.0000  0.9991  1.5014\n",
      "job_type_Formally employed Government            1.5674   0.1780   8.8043 0.0000  1.2184  1.9163\n",
      "job_type_Formally employed Private               1.4612   0.1009  14.4826 0.0000  1.2635  1.6590\n",
      "job_type_Government Dependent                    1.1492   0.2261   5.0838 0.0000  0.7062  1.5923\n",
      "job_type_No Income                              -0.8839   0.2542  -3.4768 0.0005 -1.3822 -0.3856\n",
      "job_type_Remittance Dependent                   -1.1641   0.1030 -11.3028 0.0000 -1.3660 -0.9622\n",
      "rural_primary                                   -0.0794   0.1172  -0.6775 0.4981 -0.3092  0.1504\n",
      "================================================================================================\n",
      "\n"
     ]
    }
   ],
   "source": [
    "logit_model11=sm.Logit(x_train_11['bank_acc'],x_train_11[features11])\n",
    "result11=logit_model11.fit()\n",
    "print(result11.summary2())"
   ]
  },
  {
   "cell_type": "code",
   "execution_count": 700,
   "metadata": {},
   "outputs": [
    {
     "name": "stdout",
     "output_type": "stream",
     "text": [
      "Accuracy of logistic regression classifier on val set: 0.881\n"
     ]
    },
    {
     "name": "stderr",
     "output_type": "stream",
     "text": [
      "/Users/tawneykirkland/opt/anaconda3/lib/python3.8/site-packages/sklearn/linear_model/_logistic.py:762: ConvergenceWarning: lbfgs failed to converge (status=1):\n",
      "STOP: TOTAL NO. of ITERATIONS REACHED LIMIT.\n",
      "\n",
      "Increase the number of iterations (max_iter) or scale the data as shown in:\n",
      "    https://scikit-learn.org/stable/modules/preprocessing.html\n",
      "Please also refer to the documentation for alternative solver options:\n",
      "    https://scikit-learn.org/stable/modules/linear_model.html#logistic-regression\n",
      "  n_iter_i = _check_optimize_result(\n"
     ]
    }
   ],
   "source": [
    "lm_11 = LogisticRegression()\n",
    "lm_11.fit(x_train_11[features11], x_train_11['bank_acc'])\n",
    "\n",
    "preds11 = lm_11.predict(df_val_11[features11])\n",
    "print('Accuracy of logistic regression classifier on val set: {:.3f}'.format(\n",
    "    lm_11.score(df_val_11[features11], df_val_11['bank_acc'])))"
   ]
  },
  {
   "cell_type": "code",
   "execution_count": 486,
   "metadata": {},
   "outputs": [
    {
     "data": {
      "text/plain": [
       "array([[2963,   74],\n",
       "       [ 325,  167]])"
      ]
     },
     "execution_count": 486,
     "metadata": {},
     "output_type": "execute_result"
    }
   ],
   "source": [
    "confusion_matrix(df_val_11['bank_acc'], \n",
    "                 preds11)"
   ]
  },
  {
   "cell_type": "code",
   "execution_count": 701,
   "metadata": {
    "scrolled": false
   },
   "outputs": [
    {
     "name": "stdout",
     "output_type": "stream",
     "text": [
      "              precision    recall  f1-score   support\n",
      "\n",
      "           0       0.90      0.97      0.93      3037\n",
      "           1       0.66      0.31      0.42       492\n",
      "\n",
      "    accuracy                           0.88      3529\n",
      "   macro avg       0.78      0.64      0.68      3529\n",
      "weighted avg       0.86      0.88      0.86      3529\n",
      "\n"
     ]
    }
   ],
   "source": [
    "print(classification_report(df_val_11['bank_acc'], preds11))"
   ]
  },
  {
   "cell_type": "code",
   "execution_count": 702,
   "metadata": {},
   "outputs": [],
   "source": [
    "df_val_11['proba_bank'] = lm_11.predict_proba(df_val_11[features11])[:, 1]\n",
    "\n",
    "fpr11, tpr11, thresholds11 = roc_curve(df_val_11['bank_acc'],\n",
    "                                 df_val_11['proba_bank'])"
   ]
  },
  {
   "cell_type": "code",
   "execution_count": 703,
   "metadata": {},
   "outputs": [
    {
     "data": {
      "image/png": "[encoded data removed]",
      "text/plain": [
       "<Figure size 432x288 with 1 Axes>"
      ]
     },
     "metadata": {
      "needs_background": "light"
     },
     "output_type": "display_data"
    }
   ],
   "source": [
    "plot_roc(df_val_11['bank_acc'], df_val_11['proba_bank'],fpr11,tpr11)"
   ]
  },
  {
   "cell_type": "markdown",
   "metadata": {},
   "source": [
    "## Removing married / living together"
   ]
  },
  {
   "cell_type": "code",
   "execution_count": 490,
   "metadata": {},
   "outputs": [],
   "source": [
    "x_train_12 = x_train_11.drop(columns='marital_status_Married/Living together')\n",
    "\n",
    "df_val_12 = df_val_11.drop(columns='marital_status_Married/Living together')\n",
    "\n",
    "features12 = ['age_of_respondent', 'is_urban', 'cellphone',\n",
    "       'is_male', 'county_Rwanda', 'county_Tanzania', 'county_Uganda',\n",
    "       'relationship_with_head_Head of Household',\n",
    "       'relationship_with_head_Spouse',\n",
    "       'education_level_Primary education',\n",
    "       'education_level_Secondary education',\n",
    "       'education_level_Tertiary education',\n",
    "       'education_level_Vocational/Specialised training',\n",
    "       'job_type_Formally employed Government',\n",
    "       'job_type_Formally employed Private', 'job_type_Government Dependent',\n",
    "       'job_type_Other Income',\n",
    "       'job_type_Self employed','female_hh','rural_primary']"
   ]
  },
  {
   "cell_type": "code",
   "execution_count": 491,
   "metadata": {},
   "outputs": [],
   "source": [
    "scaler12 = StandardScaler()\n",
    "x_train12 = scaler12.fit_transform(x_train_12[features12])\n",
    "y_train12 = df_train['bank_acc']"
   ]
  },
  {
   "cell_type": "code",
   "execution_count": 492,
   "metadata": {},
   "outputs": [
    {
     "name": "stdout",
     "output_type": "stream",
     "text": [
      "Optimization terminated successfully.\n",
      "         Current function value: 0.601299\n",
      "         Iterations 8\n",
      "                         Results: Logit\n",
      "=================================================================\n",
      "Model:              Logit            Pseudo R-squared: -0.480    \n",
      "Dependent Variable: bank_acc         AIC:              17013.4704\n",
      "Date:               2021-02-01 19:54 BIC:              17164.5688\n",
      "No. Observations:   14114            Log-Likelihood:   -8486.7   \n",
      "Df Model:           19               LL-Null:          -5733.9   \n",
      "Df Residuals:       14094            LLR p-value:      1.0000    \n",
      "Converged:          1.0000           Scale:            1.0000    \n",
      "No. Iterations:     8.0000                                       \n",
      "-------------------------------------------------------------------\n",
      "          Coef.    Std.Err.      z       P>|z|     [0.025    0.975]\n",
      "-------------------------------------------------------------------\n",
      "x1        0.0909     0.0226     4.0246   0.0001    0.0466    0.1351\n",
      "x2        0.1565     0.0297     5.2770   0.0000    0.0984    0.2146\n",
      "x3        0.1385     0.0202     6.8535   0.0000    0.0989    0.1782\n",
      "x4        0.0166     0.0427     0.3887   0.6975   -0.0671    0.1003\n",
      "x5       -0.0955     0.0239    -3.9956   0.0001   -0.1424   -0.0487\n",
      "x6       -0.2980     0.0270   -11.0421   0.0000   -0.3509   -0.2451\n",
      "x7       -0.1753     0.0231    -7.5896   0.0000   -0.2206   -0.1300\n",
      "x8        0.2720     0.0397     6.8536   0.0000    0.1942    0.3497\n",
      "x9        0.1285     0.0320     4.0188   0.0001    0.0658    0.1912\n",
      "x10       0.0218     0.0371     0.5876   0.5568   -0.0510    0.0946\n",
      "x11       0.2651     0.0260    10.1813   0.0000    0.2141    0.3161\n",
      "x12       0.4259     0.0249    17.1039   0.0000    0.3771    0.4747\n",
      "x13       0.3266     0.0248    13.1513   0.0000    0.2779    0.3753\n",
      "x14       3.3273     0.1484    22.4248   0.0000    3.0364    3.6181\n",
      "x15       0.3515     0.0242    14.5146   0.0000    0.3040    0.3990\n",
      "x16       0.0572     0.0179     3.1942   0.0014    0.0221    0.0923\n",
      "x17       0.0820     0.0198     4.1395   0.0000    0.0432    0.1208\n",
      "x18       0.1386     0.0228     6.0742   0.0000    0.0939    0.1833\n",
      "x19      -0.0961     0.0418    -2.2968   0.0216   -0.1781   -0.0141\n",
      "x20       0.1120     0.0371     3.0205   0.0025    0.0393    0.1847\n",
      "=================================================================\n",
      "\n"
     ]
    }
   ],
   "source": [
    "logit_model12=sm.Logit(y_train12,x_train12)\n",
    "result12=logit_model12.fit()\n",
    "print(result12.summary2())"
   ]
  },
  {
   "cell_type": "code",
   "execution_count": 493,
   "metadata": {},
   "outputs": [
    {
     "name": "stdout",
     "output_type": "stream",
     "text": [
      "Accuracy of logistic regression classifier on val set: 0.89\n"
     ]
    }
   ],
   "source": [
    "lm_12 = LogisticRegression()\n",
    "lm_12.fit(x_train12, y_train12)\n",
    "\n",
    "x_val12 = scaler12.transform(df_val_12[features12])\n",
    "preds12 = lm_12.predict(x_val12)\n",
    "print('Accuracy of logistic regression classifier on val set: {:.2f}'.format(lm_12.score(x_val12, y_val)))"
   ]
  },
  {
   "cell_type": "code",
   "execution_count": 494,
   "metadata": {},
   "outputs": [
    {
     "data": {
      "text/plain": [
       "array([[2962,   75],\n",
       "       [ 324,  168]])"
      ]
     },
     "execution_count": 494,
     "metadata": {},
     "output_type": "execute_result"
    }
   ],
   "source": [
    "confusion_matrix(df_val['bank_acc'], \n",
    "                 preds12)"
   ]
  },
  {
   "cell_type": "code",
   "execution_count": 495,
   "metadata": {
    "scrolled": false
   },
   "outputs": [
    {
     "name": "stdout",
     "output_type": "stream",
     "text": [
      "              precision    recall  f1-score   support\n",
      "\n",
      "           0       0.90      0.98      0.94      3037\n",
      "           1       0.69      0.34      0.46       492\n",
      "\n",
      "    accuracy                           0.89      3529\n",
      "   macro avg       0.80      0.66      0.70      3529\n",
      "weighted avg       0.87      0.89      0.87      3529\n",
      "\n"
     ]
    }
   ],
   "source": [
    "print(classification_report(y_val, preds12))"
   ]
  },
  {
   "cell_type": "code",
   "execution_count": 496,
   "metadata": {},
   "outputs": [],
   "source": [
    "from sklearn.metrics import precision_recall_curve\n",
    "from sklearn.metrics import f1_score\n",
    "from sklearn.metrics import auc\n",
    "from matplotlib import pyplot"
   ]
  },
  {
   "cell_type": "code",
   "execution_count": 501,
   "metadata": {},
   "outputs": [],
   "source": [
    "df_val_12['proba_bank'] = lm_12.predict_proba(df_val_12[features12])[:, 1]\n",
    "\n",
    "fpr12, tpr12, thresholds12 = roc_curve(df_val_12['bank_acc'],\n",
    "                                 df_val_12['proba_bank'])"
   ]
  },
  {
   "cell_type": "code",
   "execution_count": 499,
   "metadata": {},
   "outputs": [
    {
     "data": {
      "image/png": "[encoded data removed]",
      "text/plain": [
       "<Figure size 432x288 with 1 Axes>"
      ]
     },
     "metadata": {
      "needs_background": "light"
     },
     "output_type": "display_data"
    }
   ],
   "source": [
    "plot_roc(df_val_12['bank_acc'], df_val_12['proba_bank'],fpr12,tpr12)"
   ]
  },
  {
   "cell_type": "code",
   "execution_count": 500,
   "metadata": {},
   "outputs": [
    {
     "name": "stdout",
     "output_type": "stream",
     "text": [
      "F1 score for model 12:\n"
     ]
    },
    {
     "data": {
      "text/plain": [
       "0.45714285714285713"
      ]
     },
     "execution_count": 500,
     "metadata": {},
     "output_type": "execute_result"
    }
   ],
   "source": [
    "# calculate F1 score\n",
    "f1_12 = f1_score(df_val_12['bank_acc'], preds12)\n",
    "print('F1 score for model 12:')\n",
    "f1_12"
   ]
  },
  {
   "cell_type": "markdown",
   "metadata": {},
   "source": [
    "## Model 12 - Adjusting threshold"
   ]
  },
  {
   "cell_type": "code",
   "execution_count": 502,
   "metadata": {},
   "outputs": [],
   "source": [
    "y_prob_12t = lm_12.predict_proba(x_val12)"
   ]
  },
  {
   "cell_type": "code",
   "execution_count": 505,
   "metadata": {},
   "outputs": [],
   "source": [
    "threshold12 = .86\n",
    "y_pred12 = np.where((y_prob_12t[:, 0] > threshold12),0,1)"
   ]
  },
  {
   "cell_type": "code",
   "execution_count": 506,
   "metadata": {
    "scrolled": true
   },
   "outputs": [
    {
     "data": {
      "text/plain": [
       "array([[2444,  593],\n",
       "       [ 138,  354]])"
      ]
     },
     "execution_count": 506,
     "metadata": {},
     "output_type": "execute_result"
    }
   ],
   "source": [
    "confusion_matrix(df_val_12['bank_acc'], \n",
    "                 y_pred12)"
   ]
  },
  {
   "cell_type": "code",
   "execution_count": null,
   "metadata": {},
   "outputs": [],
   "source": [
    "df_val_12['proba_bank'] = lm_12.predict_proba(df_val_12[features12])[:, 1]\n",
    "\n",
    "fpr12, tpr12, thresholds12 = roc_curve(df_val_12['bank_acc'],\n",
    "                                 df_val_12['proba_bank'])"
   ]
  },
  {
   "cell_type": "code",
   "execution_count": 533,
   "metadata": {},
   "outputs": [
    {
     "name": "stdout",
     "output_type": "stream",
     "text": [
      "F1 score for model 12 with oversampling: 0.492\n"
     ]
    }
   ],
   "source": [
    "f1_12 = f1_score(df_val_12['bank_acc'], y_pred12)\n",
    "print('F1 score for model 12 with oversampling: {:.3f}'.format(f1_12))"
   ]
  },
  {
   "cell_type": "markdown",
   "metadata": {},
   "source": [
    "# Model 12 - Oversampling minority class in train"
   ]
  },
  {
   "cell_type": "code",
   "execution_count": 507,
   "metadata": {},
   "outputs": [],
   "source": [
    "from imblearn.over_sampling import RandomOverSampler\n",
    "ros = RandomOverSampler(random_state=0)\n",
    "X_resampled, y_resampled = ros.fit_sample(x_train_12[features12], df_train['bank_acc'])"
   ]
  },
  {
   "cell_type": "code",
   "execution_count": 508,
   "metadata": {},
   "outputs": [
    {
     "data": {
      "text/plain": [
       "Counter({0: 12128, 1: 12128})"
      ]
     },
     "execution_count": 508,
     "metadata": {},
     "output_type": "execute_result"
    }
   ],
   "source": [
    "from collections import Counter\n",
    "Counter(y_resampled)"
   ]
  },
  {
   "cell_type": "code",
   "execution_count": 342,
   "metadata": {},
   "outputs": [],
   "source": [
    "#df_val_12_re = df_val_12.drop(columns=['proba_bank'])"
   ]
  },
  {
   "cell_type": "code",
   "execution_count": 526,
   "metadata": {},
   "outputs": [
    {
     "name": "stdout",
     "output_type": "stream",
     "text": [
      "Accuracy of logistic regression classifier on val set: 0.793\n"
     ]
    }
   ],
   "source": [
    "lm_12_1 = LogisticRegression()\n",
    "lm_12_1.fit(X_resampled, y_resampled)\n",
    "\n",
    "preds12_1 = lm_12_1.predict(df_val_12_re[features12])\n",
    "print('Accuracy of logistic regression classifier on val set: {:.3f}'.format(\n",
    "    lm_12_1.score(df_val_12_re[features12], df_val_12_re['bank_acc'])))"
   ]
  },
  {
   "cell_type": "code",
   "execution_count": 527,
   "metadata": {},
   "outputs": [
    {
     "data": {
      "text/plain": [
       "array([[2447,  590],\n",
       "       [ 139,  353]])"
      ]
     },
     "execution_count": 527,
     "metadata": {},
     "output_type": "execute_result"
    }
   ],
   "source": [
    "confusion_matrix(df_val_12_re['bank_acc'], \n",
    "                 preds12_1)"
   ]
  },
  {
   "cell_type": "code",
   "execution_count": 528,
   "metadata": {},
   "outputs": [
    {
     "name": "stdout",
     "output_type": "stream",
     "text": [
      "              precision    recall  f1-score   support\n",
      "\n",
      "           0       0.95      0.81      0.87      3037\n",
      "           1       0.37      0.72      0.49       492\n",
      "\n",
      "    accuracy                           0.79      3529\n",
      "   macro avg       0.66      0.76      0.68      3529\n",
      "weighted avg       0.87      0.79      0.82      3529\n",
      "\n"
     ]
    }
   ],
   "source": [
    "print(classification_report(df_val_12_re['bank_acc'], preds12_1))"
   ]
  },
  {
   "cell_type": "code",
   "execution_count": 529,
   "metadata": {},
   "outputs": [
    {
     "name": "stdout",
     "output_type": "stream",
     "text": [
      "F1 score for model 12 with oversampling: 0.492\n"
     ]
    }
   ],
   "source": [
    "f1_12_1 = f1_score(df_val_12_re['bank_acc'], preds12_1)\n",
    "print('F1 score for model 12 with oversampling: {:.3f}'.format(f1_12_1))"
   ]
  },
  {
   "cell_type": "code",
   "execution_count": 530,
   "metadata": {},
   "outputs": [],
   "source": [
    "df_val_12_re['proba_bank'] = lm_12_1.predict_proba(df_val_12_re[features12])[:, 1]\n",
    "\n",
    "fpr_12o, tpr_12o, thresholds_12o = roc_curve(df_val_12_re['bank_acc'],\n",
    "                                 df_val_12_re['proba_bank'])"
   ]
  },
  {
   "cell_type": "code",
   "execution_count": 531,
   "metadata": {
    "scrolled": true
   },
   "outputs": [
    {
     "data": {
      "image/png": "[encoded data removed]",
      "text/plain": [
       "<Figure size 432x288 with 1 Axes>"
      ]
     },
     "metadata": {
      "needs_background": "light"
     },
     "output_type": "display_data"
    }
   ],
   "source": [
    "plot_roc(df_val_12_re['bank_acc'],df_val_12_re['proba_bank'],fpr_12o,tpr_12o)"
   ]
  },
  {
   "cell_type": "markdown",
   "metadata": {},
   "source": [
    "## Removing secondary education"
   ]
  },
  {
   "cell_type": "code",
   "execution_count": 104,
   "metadata": {},
   "outputs": [],
   "source": [
    "x_train_13 = x_train_12.drop(columns='education_level_Secondary education')\n",
    "\n",
    "df_val_13 = df_val_12.drop(columns='education_level_Secondary education')\n",
    "\n",
    "features13 = ['age_of_respondent', 'is_urban', 'cellphone',\n",
    "       'is_male', 'county_Rwanda', 'county_Tanzania', 'county_Uganda',\n",
    "       'relationship_with_head_Head of Household',\n",
    "       'relationship_with_head_Spouse',\n",
    "       'education_level_Primary education',\n",
    "       'education_level_Tertiary education',\n",
    "       'education_level_Vocational/Specialised training',\n",
    "       'job_type_Formally employed Government',\n",
    "       'job_type_Formally employed Private', 'job_type_Government Dependent',\n",
    "       'job_type_Other Income',\n",
    "       'job_type_Self employed','female_hh','rural_primary']"
   ]
  },
  {
   "cell_type": "code",
   "execution_count": 105,
   "metadata": {},
   "outputs": [],
   "source": [
    "scaler13 = StandardScaler()\n",
    "x_train13 = scaler13.fit_transform(x_train_13[features13])\n",
    "y_train13 = df_train['bank_acc']"
   ]
  },
  {
   "cell_type": "code",
   "execution_count": 106,
   "metadata": {},
   "outputs": [
    {
     "name": "stdout",
     "output_type": "stream",
     "text": [
      "Optimization terminated successfully.\n",
      "         Current function value: 0.605012\n",
      "         Iterations 8\n",
      "                         Results: Logit\n",
      "=================================================================\n",
      "Model:              Logit            Pseudo R-squared: -0.489    \n",
      "Dependent Variable: bank_acc         AIC:              17116.2881\n",
      "Date:               2021-02-01 07:58 BIC:              17259.8316\n",
      "No. Observations:   14114            Log-Likelihood:   -8539.1   \n",
      "Df Model:           18               LL-Null:          -5733.9   \n",
      "Df Residuals:       14095            LLR p-value:      1.0000    \n",
      "Converged:          1.0000           Scale:            1.0000    \n",
      "No. Iterations:     8.0000                                       \n",
      "-------------------------------------------------------------------\n",
      "          Coef.    Std.Err.      z       P>|z|     [0.025    0.975]\n",
      "-------------------------------------------------------------------\n",
      "x1        0.0332     0.0217     1.5293   0.1262   -0.0094    0.0758\n",
      "x2        0.1910     0.0292     6.5359   0.0000    0.1337    0.2483\n",
      "x3        0.1753     0.0199     8.8252   0.0000    0.1364    0.2142\n",
      "x4        0.0206     0.0427     0.4822   0.6296   -0.0631    0.1042\n",
      "x5       -0.1303     0.0235    -5.5348   0.0000   -0.1764   -0.0842\n",
      "x6       -0.3386     0.0267   -12.6998   0.0000   -0.3909   -0.2864\n",
      "x7       -0.1818     0.0230    -7.9107   0.0000   -0.2269   -0.1368\n",
      "x8        0.2383     0.0393     6.0571   0.0000    0.1612    0.3154\n",
      "x9        0.0922     0.0316     2.9132   0.0036    0.0302    0.1542\n",
      "x10      -0.1636     0.0319    -5.1296   0.0000   -0.2261   -0.1011\n",
      "x11       0.3379     0.0233    14.5100   0.0000    0.2923    0.3835\n",
      "x12       0.2516     0.0237    10.6342   0.0000    0.2052    0.2980\n",
      "x13       3.3137     0.1478    22.4180   0.0000    3.0240    3.6034\n",
      "x14       0.3618     0.0241    14.9966   0.0000    0.3145    0.4090\n",
      "x15       0.0559     0.0178     3.1372   0.0017    0.0210    0.0908\n",
      "x16       0.0869     0.0197     4.4071   0.0000    0.0482    0.1255\n",
      "x17       0.1439     0.0227     6.3339   0.0000    0.0994    0.1885\n",
      "x18      -0.1152     0.0417    -2.7621   0.0057   -0.1970   -0.0335\n",
      "x19       0.1353     0.0367     3.6815   0.0002    0.0633    0.2073\n",
      "=================================================================\n",
      "\n"
     ]
    }
   ],
   "source": [
    "logit_model13=sm.Logit(y_train13,x_train13)\n",
    "result13=logit_model13.fit()\n",
    "print(result13.summary2())"
   ]
  },
  {
   "cell_type": "code",
   "execution_count": 107,
   "metadata": {},
   "outputs": [
    {
     "name": "stdout",
     "output_type": "stream",
     "text": [
      "Accuracy of logistic regression classifier on val set: 0.88\n"
     ]
    }
   ],
   "source": [
    "lm_13 = LogisticRegression()\n",
    "lm_13.fit(x_train13, y_train13)\n",
    "\n",
    "x_val13 = scaler13.transform(df_val_13[features13])\n",
    "preds13 = lm_13.predict(x_val13)\n",
    "print('Accuracy of logistic regression classifier on val set: {:.2f}'.format(lm_13.score(x_val13, y_val)))"
   ]
  },
  {
   "cell_type": "code",
   "execution_count": 108,
   "metadata": {},
   "outputs": [
    {
     "data": {
      "text/plain": [
       "array([[2963,   74],\n",
       "       [ 338,  154]])"
      ]
     },
     "execution_count": 108,
     "metadata": {},
     "output_type": "execute_result"
    }
   ],
   "source": [
    "confusion_matrix(df_val['bank_acc'], \n",
    "                 preds13)"
   ]
  },
  {
   "cell_type": "code",
   "execution_count": 109,
   "metadata": {
    "scrolled": true
   },
   "outputs": [
    {
     "name": "stdout",
     "output_type": "stream",
     "text": [
      "              precision    recall  f1-score   support\n",
      "\n",
      "           0       0.90      0.98      0.93      3037\n",
      "           1       0.68      0.31      0.43       492\n",
      "\n",
      "    accuracy                           0.88      3529\n",
      "   macro avg       0.79      0.64      0.68      3529\n",
      "weighted avg       0.87      0.88      0.86      3529\n",
      "\n"
     ]
    }
   ],
   "source": [
    "print(classification_report(y_val, preds13))"
   ]
  },
  {
   "cell_type": "markdown",
   "metadata": {},
   "source": [
    "Note the model does better at predicting WITH secondary education and therefore I should __not use this model__"
   ]
  },
  {
   "cell_type": "markdown",
   "metadata": {},
   "source": [
    "## Testing the model on the test set\n",
    "\n",
    "Note the first analysis is based on the first multiple regression model above (including all features, no interactions)"
   ]
  },
  {
   "cell_type": "markdown",
   "metadata": {},
   "source": [
    "1. Preparing the test sample "
   ]
  },
  {
   "cell_type": "code",
   "execution_count": 117,
   "metadata": {},
   "outputs": [
    {
     "name": "stderr",
     "output_type": "stream",
     "text": [
      "<ipython-input-117-120e2e6065ba>:1: SettingWithCopyWarning: \n",
      "A value is trying to be set on a copy of a slice from a DataFrame.\n",
      "Try using .loc[row_indexer,col_indexer] = value instead\n",
      "\n",
      "See the caveats in the documentation: https://pandas.pydata.org/pandas-docs/stable/user_guide/indexing.html#returning-a-view-versus-a-copy\n",
      "  x_test['is_urban'] = np.where(x_test['location_type'] == 'Urban',1,0)\n",
      "<ipython-input-117-120e2e6065ba>:2: SettingWithCopyWarning: \n",
      "A value is trying to be set on a copy of a slice from a DataFrame.\n",
      "Try using .loc[row_indexer,col_indexer] = value instead\n",
      "\n",
      "See the caveats in the documentation: https://pandas.pydata.org/pandas-docs/stable/user_guide/indexing.html#returning-a-view-versus-a-copy\n",
      "  x_test['cellphone'] = np.where(x_test['cellphone_access'] == 'Yes',1,0)\n",
      "<ipython-input-117-120e2e6065ba>:3: SettingWithCopyWarning: \n",
      "A value is trying to be set on a copy of a slice from a DataFrame.\n",
      "Try using .loc[row_indexer,col_indexer] = value instead\n",
      "\n",
      "See the caveats in the documentation: https://pandas.pydata.org/pandas-docs/stable/user_guide/indexing.html#returning-a-view-versus-a-copy\n",
      "  x_test['is_male'] = np.where(x_test['gender_of_respondent'] == 'Male',1,0)\n"
     ]
    }
   ],
   "source": [
    "x_test['is_urban'] = np.where(x_test['location_type'] == 'Urban',1,0)\n",
    "x_test['cellphone'] = np.where(x_test['cellphone_access'] == 'Yes',1,0)\n",
    "x_test['is_male'] = np.where(x_test['gender_of_respondent'] == 'Male',1,0)"
   ]
  },
  {
   "cell_type": "code",
   "execution_count": 118,
   "metadata": {},
   "outputs": [],
   "source": [
    "x_test_cont = x_test[['year','household_size','age_of_respondent','is_urban','cellphone','is_male']]\n",
    "x_test_cat = x_test[['country','relationship_with_head', 'marital_status','education_level', 'job_type']]"
   ]
  },
  {
   "cell_type": "code",
   "execution_count": 119,
   "metadata": {},
   "outputs": [
    {
     "name": "stderr",
     "output_type": "stream",
     "text": [
      "/Users/tawneykirkland/opt/anaconda3/lib/python3.8/site-packages/pandas/core/indexing.py:670: SettingWithCopyWarning: \n",
      "A value is trying to be set on a copy of a slice from a DataFrame\n",
      "\n",
      "See the caveats in the documentation: https://pandas.pydata.org/pandas-docs/stable/user_guide/indexing.html#returning-a-view-versus-a-copy\n",
      "  iloc._setitem_with_indexer(indexer, value)\n",
      "<ipython-input-119-c58a8d9a8085>:1: SettingWithCopyWarning: \n",
      "A value is trying to be set on a copy of a slice from a DataFrame\n",
      "\n",
      "See the caveats in the documentation: https://pandas.pydata.org/pandas-docs/stable/user_guide/indexing.html#returning-a-view-versus-a-copy\n",
      "  x_test_cat.loc[x_test_cat['marital_status'] == 'Dont know', ['marital_status']] = 'Single/Never Married'\n",
      "<ipython-input-119-c58a8d9a8085>:2: SettingWithCopyWarning: \n",
      "A value is trying to be set on a copy of a slice from a DataFrame\n",
      "\n",
      "See the caveats in the documentation: https://pandas.pydata.org/pandas-docs/stable/user_guide/indexing.html#returning-a-view-versus-a-copy\n",
      "  x_test_cat.loc[x_test_cat['education_level'] == 'Other/Dont know/RTA', ['education_level']] = 'No formal education'\n",
      "<ipython-input-119-c58a8d9a8085>:3: SettingWithCopyWarning: \n",
      "A value is trying to be set on a copy of a slice from a DataFrame\n",
      "\n",
      "See the caveats in the documentation: https://pandas.pydata.org/pandas-docs/stable/user_guide/indexing.html#returning-a-view-versus-a-copy\n",
      "  x_test_cat.loc[x_test_cat['job_type'] == 'Dont Know/Refuse to answer', ['job_type']] = 'No Income'\n",
      "<ipython-input-119-c58a8d9a8085>:4: SettingWithCopyWarning: \n",
      "A value is trying to be set on a copy of a slice from a DataFrame\n",
      "\n",
      "See the caveats in the documentation: https://pandas.pydata.org/pandas-docs/stable/user_guide/indexing.html#returning-a-view-versus-a-copy\n",
      "  x_test_cat.loc[x_test_cat['relationship_with_head'] == 'Other non-relatives', ['relationship_with_head']] = 'Other relative'\n"
     ]
    }
   ],
   "source": [
    "x_test_cat.loc[x_test_cat['marital_status'] == 'Dont know', ['marital_status']] = 'Single/Never Married'\n",
    "x_test_cat.loc[x_test_cat['education_level'] == 'Other/Dont know/RTA', ['education_level']] = 'No formal education'\n",
    "x_test_cat.loc[x_test_cat['job_type'] == 'Dont Know/Refuse to answer', ['job_type']] = 'No Income'\n",
    "x_test_cat.loc[x_test_cat['relationship_with_head'] == 'Other non-relatives', ['relationship_with_head']] = 'Other relative'"
   ]
  },
  {
   "cell_type": "code",
   "execution_count": 120,
   "metadata": {},
   "outputs": [],
   "source": [
    "ohe = OneHotEncoder(drop='first', sparse=False)\n",
    "\n",
    "ohe.fit(x_test_cat)\n",
    "\n",
    "ohe_x_test = ohe.transform(x_test_cat)\n",
    "\n",
    "columns = ohe.get_feature_names(['county','relationship_with_head', 'marital_status',\n",
    "       'education_level', 'job_type'])\n",
    "\n",
    "ohe_x_test_df = pd.DataFrame(ohe_x_test, columns=columns, index=x_test.index)"
   ]
  },
  {
   "cell_type": "code",
   "execution_count": 121,
   "metadata": {},
   "outputs": [],
   "source": [
    "combo_test_df = pd.concat([x_test_cont, ohe_x_test_df], axis=1)"
   ]
  },
  {
   "cell_type": "code",
   "execution_count": 122,
   "metadata": {},
   "outputs": [
    {
     "name": "stderr",
     "output_type": "stream",
     "text": [
      "<ipython-input-122-52765b19127d>:1: SettingWithCopyWarning: \n",
      "A value is trying to be set on a copy of a slice from a DataFrame.\n",
      "Try using .loc[row_indexer,col_indexer] = value instead\n",
      "\n",
      "See the caveats in the documentation: https://pandas.pydata.org/pandas-docs/stable/user_guide/indexing.html#returning-a-view-versus-a-copy\n",
      "  y_test['bank_acc'] = np.where(y_test['bank_account'] == 'Yes', 1,0)\n",
      "/Users/tawneykirkland/opt/anaconda3/lib/python3.8/site-packages/pandas/core/frame.py:4163: SettingWithCopyWarning: \n",
      "A value is trying to be set on a copy of a slice from a DataFrame\n",
      "\n",
      "See the caveats in the documentation: https://pandas.pydata.org/pandas-docs/stable/user_guide/indexing.html#returning-a-view-versus-a-copy\n",
      "  return super().drop(\n"
     ]
    }
   ],
   "source": [
    "y_test['bank_acc'] = np.where(y_test['bank_account'] == 'Yes', 1,0)\n",
    "y_test.drop(columns='bank_account',inplace=True)\n",
    "df_test = pd.concat([combo_test_df,y_test],axis=1)"
   ]
  },
  {
   "cell_type": "markdown",
   "metadata": {},
   "source": [
    "2. Testing the model on the test sample"
   ]
  },
  {
   "cell_type": "code",
   "execution_count": 329,
   "metadata": {},
   "outputs": [
    {
     "name": "stdout",
     "output_type": "stream",
     "text": [
      "Accuracy of logistic regression classifier on test set: 0.88\n"
     ]
    }
   ],
   "source": [
    "x_test1 = scaler.transform(df_test[features])\n",
    "preds1_test = lm_2.predict(x_test1)\n",
    "print('Accuracy of logistic regression classifier on test set: {:.2f}'.format(lm_2.score(x_test1, y_test)))"
   ]
  },
  {
   "cell_type": "code",
   "execution_count": 330,
   "metadata": {},
   "outputs": [
    {
     "data": {
      "text/plain": [
       "array([[4897,  150],\n",
       "       [ 543,  291]])"
      ]
     },
     "execution_count": 330,
     "metadata": {},
     "output_type": "execute_result"
    }
   ],
   "source": [
    "confusion_matrix(df_test['bank_acc'], \n",
    "                 preds1_test)"
   ]
  },
  {
   "cell_type": "markdown",
   "metadata": {},
   "source": [
    "\n",
    "| | predict No account (0) | predict account (1)|\n",
    "|---|---|---|\n",
    "| **is no account (0)** | 4839 | 149|\n",
    "| **is account (1)** | 543 | 291 |"
   ]
  },
  {
   "cell_type": "markdown",
   "metadata": {},
   "source": [
    "Need to do the following:\n",
    "* Check error metrics\n",
    "* Conduct cross validation\n",
    "* Test with other classification models "
   ]
  },
  {
   "cell_type": "code",
   "execution_count": 331,
   "metadata": {},
   "outputs": [
    {
     "name": "stdout",
     "output_type": "stream",
     "text": [
      "              precision    recall  f1-score   support\n",
      "\n",
      "           0       0.90      0.97      0.93      5047\n",
      "           1       0.66      0.35      0.46       834\n",
      "\n",
      "    accuracy                           0.88      5881\n",
      "   macro avg       0.78      0.66      0.70      5881\n",
      "weighted avg       0.87      0.88      0.87      5881\n",
      "\n"
     ]
    }
   ],
   "source": [
    "print(classification_report(y_test, preds1_test))"
   ]
  },
  {
   "cell_type": "code",
   "execution_count": 332,
   "metadata": {},
   "outputs": [
    {
     "data": {
      "image/png": "[encoded data removed]",
      "text/plain": [
       "<Figure size 432x288 with 1 Axes>"
      ]
     },
     "metadata": {
      "needs_background": "light"
     },
     "output_type": "display_data"
    }
   ],
   "source": [
    "plot_roc(df_test['bank_acc'], preds1_test)"
   ]
  },
  {
   "cell_type": "markdown",
   "metadata": {},
   "source": [
    "## Multiple regression with model 12"
   ]
  },
  {
   "cell_type": "code",
   "execution_count": 127,
   "metadata": {},
   "outputs": [],
   "source": [
    "df_test_12 = df_test.drop(columns= ['year', 'household_size','marital_status_Married/Living together',\n",
    "                          'relationship_with_head_Other relative',\n",
    "                          'relationship_with_head_Parent','marital_status_Widowed','job_type_Remittance Dependent',\n",
    "                         'job_type_No Income'])\n",
    "\n",
    "\n",
    "df_test_12['female_hh'] = np.where((df_test_12['is_male'] == 0) & \n",
    "                                   (df_test_12['relationship_with_head_Head of Household']==1),\n",
    "                                  1,0)\n",
    "\n",
    "df_test_12['rural_primary'] = np.where((df_test_12['is_urban'] == 0) & \n",
    "                                   (df_test_12['education_level_Primary education']==1),\n",
    "                                  1,0)\n",
    "\n",
    "features12 = ['age_of_respondent', 'is_urban', 'cellphone',\n",
    "       'is_male', 'county_Rwanda', 'county_Tanzania', 'county_Uganda',\n",
    "       'relationship_with_head_Head of Household',\n",
    "       'relationship_with_head_Spouse',\n",
    "       'education_level_Primary education',\n",
    "       'education_level_Secondary education',\n",
    "       'education_level_Tertiary education',\n",
    "       'education_level_Vocational/Specialised training',\n",
    "       'job_type_Formally employed Government',\n",
    "       'job_type_Formally employed Private', 'job_type_Government Dependent',\n",
    "       'job_type_Other Income',\n",
    "       'job_type_Self employed','female_hh','rural_primary']"
   ]
  },
  {
   "cell_type": "code",
   "execution_count": 128,
   "metadata": {},
   "outputs": [
    {
     "name": "stdout",
     "output_type": "stream",
     "text": [
      "Accuracy of logistic regression classifier on test set: 0.88\n"
     ]
    }
   ],
   "source": [
    "x_test12 = scaler12.transform(df_test_12[features12])\n",
    "preds12_test = lm_12.predict(x_test12)\n",
    "print('Accuracy of logistic regression classifier on test set: {:.2f}'.format(lm_12.score(x_test12, y_test)))"
   ]
  },
  {
   "cell_type": "code",
   "execution_count": 129,
   "metadata": {},
   "outputs": [
    {
     "data": {
      "text/plain": [
       "array([[4899,  148],\n",
       "       [ 546,  288]])"
      ]
     },
     "execution_count": 129,
     "metadata": {},
     "output_type": "execute_result"
    }
   ],
   "source": [
    "confusion_matrix(df_test_12['bank_acc'], \n",
    "                 preds12_test)"
   ]
  },
  {
   "cell_type": "code",
   "execution_count": 130,
   "metadata": {},
   "outputs": [
    {
     "name": "stdout",
     "output_type": "stream",
     "text": [
      "              precision    recall  f1-score   support\n",
      "\n",
      "           0       0.90      0.97      0.93      5047\n",
      "           1       0.66      0.35      0.45       834\n",
      "\n",
      "    accuracy                           0.88      5881\n",
      "   macro avg       0.78      0.66      0.69      5881\n",
      "weighted avg       0.87      0.88      0.87      5881\n",
      "\n"
     ]
    }
   ],
   "source": [
    "print(classification_report(y_test, preds12_test))"
   ]
  },
  {
   "cell_type": "markdown",
   "metadata": {},
   "source": [
    "Model is broadly consistent across train - val - test"
   ]
  },
  {
   "cell_type": "markdown",
   "metadata": {},
   "source": [
    "## With oversampling"
   ]
  },
  {
   "cell_type": "code",
   "execution_count": 326,
   "metadata": {},
   "outputs": [
    {
     "name": "stdout",
     "output_type": "stream",
     "text": [
      "Accuracy of logistic regression classifier on val set: 0.79\n"
     ]
    }
   ],
   "source": [
    "preds12_1_test = lm_12_1.predict(df_test_12[features12])\n",
    "print('Accuracy of logistic regression classifier on val set: {:.2f}'.format(lm_12_1.score(df_test_12[features12], y_test)))"
   ]
  },
  {
   "cell_type": "code",
   "execution_count": 327,
   "metadata": {
    "scrolled": true
   },
   "outputs": [
    {
     "data": {
      "text/plain": [
       "array([[4034, 1013],\n",
       "       [ 223,  611]])"
      ]
     },
     "execution_count": 327,
     "metadata": {},
     "output_type": "execute_result"
    }
   ],
   "source": [
    "confusion_matrix(df_test_12['bank_acc'], \n",
    "                 preds12_1_test)"
   ]
  },
  {
   "cell_type": "code",
   "execution_count": 353,
   "metadata": {},
   "outputs": [],
   "source": [
    "df_test_12['proba_bank'] = lm_12_1.predict_proba(df_test_12[features12])[:, 1]\n",
    "\n",
    "fpr_test12, tpr_test12, thresholds_test12 = roc_curve(df_test_12['bank_acc'],\n",
    "                                 df_test_12['proba_bank'])"
   ]
  },
  {
   "cell_type": "code",
   "execution_count": 375,
   "metadata": {},
   "outputs": [
    {
     "data": {
      "image/png": "[encoded data removed]",
      "text/plain": [
       "<Figure size 432x288 with 1 Axes>"
      ]
     },
     "metadata": {
      "needs_background": "light"
     },
     "output_type": "display_data"
    }
   ],
   "source": [
    "plot_roc(df_test_12['bank_acc'], df_test_12['proba_bank'],fpr_test12,tpr_test12)"
   ]
  },
  {
   "cell_type": "code",
   "execution_count": 358,
   "metadata": {},
   "outputs": [
    {
     "name": "stdout",
     "output_type": "stream",
     "text": [
      "F1 score for model 12 with oversampling:\n"
     ]
    },
    {
     "data": {
      "text/plain": [
       "0.4971521562245729"
      ]
     },
     "execution_count": 358,
     "metadata": {},
     "output_type": "execute_result"
    }
   ],
   "source": [
    "f1_12_1_test = f1_score(df_test_12['bank_acc'], preds12_1_test)\n",
    "print('F1 score for model 12 with oversampling:')\n",
    "f1_12_1_test"
   ]
  },
  {
   "cell_type": "code",
   "execution_count": 349,
   "metadata": {},
   "outputs": [],
   "source": [
    "lr_auc = roc_auc_score(df_test_12['bank_acc'], df_test_12['proba_bank'])"
   ]
  },
  {
   "cell_type": "code",
   "execution_count": 350,
   "metadata": {},
   "outputs": [
    {
     "data": {
      "text/plain": [
       "0.8530040639570768"
      ]
     },
     "execution_count": 350,
     "metadata": {},
     "output_type": "execute_result"
    }
   ],
   "source": [
    "lr_auc"
   ]
  },
  {
   "cell_type": "code",
   "execution_count": null,
   "metadata": {},
   "outputs": [],
   "source": []
  }
 ],
 "metadata": {
  "kernelspec": {
   "display_name": "Python 3",
   "language": "python",
   "name": "python3"
  },
  "language_info": {
   "codemirror_mode": {
    "name": "ipython",
    "version": 3
   },
   "file_extension": ".py",
   "mimetype": "text/x-python",
   "name": "python",
   "nbconvert_exporter": "python",
   "pygments_lexer": "ipython3",
   "version": "3.8.5"
  }
 },
 "nbformat": 4,
 "nbformat_minor": 4
}
