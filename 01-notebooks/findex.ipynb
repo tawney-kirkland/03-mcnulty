{
 "cells": [
  {
   "cell_type": "code",
   "execution_count": 1,
   "metadata": {},
   "outputs": [],
   "source": [
    "import pandas as pd\n",
    "import numpy as np"
   ]
  },
  {
   "cell_type": "markdown",
   "metadata": {},
   "source": [
    "Note this notebook is to clean Findex data for use in Tableau - used to make a spatial map of financial inclusion across sub saharan africa"
   ]
  },
  {
   "cell_type": "code",
   "execution_count": 2,
   "metadata": {},
   "outputs": [],
   "source": [
    "df = pd.read_excel('03-data/Global Findex Database.xlsx',\n",
    "                  usecols = [\"Unnamed: 0\", \"Unnamed: 1\", \"Unnamed: 2\", \"Unnamed: 3\", \"Unnamed: 4\", \n",
    "                   \"Financial institution account (% age 15+) \"])"
   ]
  },
  {
   "cell_type": "code",
   "execution_count": 4,
   "metadata": {},
   "outputs": [],
   "source": [
    "df_ssa = df[(df['Unnamed: 3'] == \"Sub-Saharan Africa (excluding high income)\") & (df[\"Unnamed: 0\"] == 2017)]"
   ]
  },
  {
   "cell_type": "code",
   "execution_count": 5,
   "metadata": {},
   "outputs": [
    {
     "name": "stderr",
     "output_type": "stream",
     "text": [
      "/Users/tawneykirkland/opt/anaconda3/lib/python3.8/site-packages/pandas/core/frame.py:4296: SettingWithCopyWarning: \n",
      "A value is trying to be set on a copy of a slice from a DataFrame\n",
      "\n",
      "See the caveats in the documentation: https://pandas.pydata.org/pandas-docs/stable/user_guide/indexing.html#returning-a-view-versus-a-copy\n",
      "  return super().rename(\n"
     ]
    }
   ],
   "source": [
    "df_ssa.rename(columns = {\"Unnamed: 0\" : \"year\",\n",
    "                         \"Unnamed: 1\" : \"country_label\", \n",
    "                         \"Unnamed: 2\" : \"country\",\n",
    "                         \"Unnamed: 3\" : \"region\",\n",
    "                         \"Unnamed: 4\" : \"income_level\"},inplace = True)"
   ]
  },
  {
   "cell_type": "code",
   "execution_count": 6,
   "metadata": {},
   "outputs": [
    {
     "name": "stderr",
     "output_type": "stream",
     "text": [
      "/Users/tawneykirkland/opt/anaconda3/lib/python3.8/site-packages/pandas/core/indexing.py:1765: SettingWithCopyWarning: \n",
      "A value is trying to be set on a copy of a slice from a DataFrame.\n",
      "Try using .loc[row_indexer,col_indexer] = value instead\n",
      "\n",
      "See the caveats in the documentation: https://pandas.pydata.org/pandas-docs/stable/user_guide/indexing.html#returning-a-view-versus-a-copy\n",
      "  isetter(loc, value)\n"
     ]
    }
   ],
   "source": [
    "df_ssa.loc[(df_ssa[\"country\"] == 'Congo, Dem. Rep.'), [\"country\"]] = \"Democratic Republic of the Congo\"\n",
    "df_ssa.loc[(df_ssa[\"country\"] == 'Congo, Rep.'), [\"country\"]] = \"Republic of the Congo\""
   ]
  },
  {
   "cell_type": "code",
   "execution_count": 7,
   "metadata": {},
   "outputs": [
    {
     "data": {
      "text/plain": [
       "[Country(alpha_2='AW', alpha_3='ABW', name='Aruba', numeric='533')]"
      ]
     },
     "execution_count": 7,
     "metadata": {},
     "output_type": "execute_result"
    }
   ],
   "source": [
    "import pycountry\n",
    "len(pycountry.countries)\n",
    "\n",
    "list(pycountry.countries)[0:1]"
   ]
  },
  {
   "cell_type": "code",
   "execution_count": 8,
   "metadata": {},
   "outputs": [],
   "source": [
    "ssa_list = [\"Angola\", \"Benin\", \"Botswana\", \"Burkina Faso\", \"Burundi\", \"Cape Verde\", \n",
    "            \"Cameroon\", \"Central African Republic\", \"Chad\", \"Comoros\", \"Democratic Republic of the Congo\", \n",
    "            \"Republic of the Congo\", \"Cote d'Ivoire\", \"Djibouti\", \"Equatorial Guinea\", \"Eritrea\", \"Ethiopia\", \n",
    "            \"Gabon\", \"Gambia\", \"Ghana\", \"Guinea\", \"Guinea-Bissau\", \"Kenya\", \"Lesotho\", \"Liberia\", \"Madagascar\", \n",
    "            \"Malawi\", \"Mali\", \"Mauritania\", \"Mauritius\", \"Mozambique\", \"Namibia\", \"Niger\", \"Nigeria\", \"Rwanda\", \n",
    "            \"Sao Tome and Principe\", \"Senegal\", \"Seychelles\", \"Sierra Leone\", \"Somalia\", \"South Africa\", \"South Sudan\", \n",
    "            \"Sudan\", \"Swaziland\", \"Tanzania\", \"Togo\", \"Uganda\", \"Zambia\", \"Zimbabwe\"]"
   ]
  },
  {
   "cell_type": "code",
   "execution_count": 9,
   "metadata": {},
   "outputs": [
    {
     "name": "stderr",
     "output_type": "stream",
     "text": [
      "<ipython-input-9-0a53f9154b01>:13: SettingWithCopyWarning: \n",
      "A value is trying to be set on a copy of a slice from a DataFrame.\n",
      "Try using .loc[row_indexer,col_indexer] = value instead\n",
      "\n",
      "See the caveats in the documentation: https://pandas.pydata.org/pandas-docs/stable/user_guide/indexing.html#returning-a-view-versus-a-copy\n",
      "  df_ssa['alpha2'] = [countries.get(country, 'Unknown code') for country in input_countries]\n"
     ]
    }
   ],
   "source": [
    "input_countries = ['Benin', 'Burkina Faso', 'Botswana', 'Central African Republic',\n",
    "       \"Cote d'Ivoire\", 'Cameroon', 'Democratic Republic of the Congo',\n",
    "       'Republic of the Congo', 'Ethiopia', 'Gabon', 'Ghana', 'Guinea',\n",
    "       'Kenya', 'Liberia', 'Lesotho', 'Madagascar', 'Mali', 'Mozambique',\n",
    "       'Mauritania', 'Mauritius', 'Malawi', 'Namibia', 'Niger', 'Nigeria',\n",
    "       'Rwanda', 'Senegal', 'Sierra Leone', 'South Sudan', 'Chad', 'Togo',\n",
    "       'Tanzania', 'Uganda', 'South Africa', 'Zambia', 'Zimbabwe']\n",
    "\n",
    "countries = {}\n",
    "for country in pycountry.countries:\n",
    "    countries[country.name] = country.alpha_2\n",
    "\n",
    "df_ssa['alpha2'] = [countries.get(country, 'Unknown code') for country in input_countries]"
   ]
  },
  {
   "cell_type": "code",
   "execution_count": 10,
   "metadata": {},
   "outputs": [
    {
     "name": "stderr",
     "output_type": "stream",
     "text": [
      "/Users/tawneykirkland/opt/anaconda3/lib/python3.8/site-packages/pandas/core/indexing.py:1765: SettingWithCopyWarning: \n",
      "A value is trying to be set on a copy of a slice from a DataFrame.\n",
      "Try using .loc[row_indexer,col_indexer] = value instead\n",
      "\n",
      "See the caveats in the documentation: https://pandas.pydata.org/pandas-docs/stable/user_guide/indexing.html#returning-a-view-versus-a-copy\n",
      "  isetter(loc, value)\n"
     ]
    }
   ],
   "source": [
    "df_ssa.loc[(df_ssa[\"country\"] == \"Cote d'Ivoire\"), [\"alpha2\"]] = \"CI\"\n",
    "df_ssa.loc[(df_ssa[\"country\"] == \"Democratic Republic of the Congo\"), [\"alpha2\"]] = \"CD\"\n",
    "df_ssa.loc[(df_ssa[\"country\"] == \"Republic of the Congo\"), [\"alpha2\"]] = \"CG\"\n",
    "df_ssa.loc[(df_ssa[\"country\"] == \"Tanzania\"), [\"alpha2\"]] = \"TZ\""
   ]
  },
  {
   "cell_type": "code",
   "execution_count": 123,
   "metadata": {},
   "outputs": [],
   "source": [
    "from geopy.geocoders import Nominatim\n",
    "geolocator = Nominatim(user_agent='tk')\n",
    "\n",
    "alphas = ['BJ', 'BF', 'BW', 'CF', 'CI', 'CM', 'CD', 'CG', 'ET', 'GA', 'GH',\n",
    "       'GN', 'KE', 'LR', 'LS', 'MG', 'ML', 'MZ', 'MR', 'MU', 'MW', 'NA',\n",
    "       'NE', 'NG', 'RW', 'SN', 'SL', 'SS', 'TD', 'TG', 'TZ', 'UG', 'ZA',\n",
    "       'ZM', 'ZW']\n",
    "\n",
    "def geolocate(country):\n",
    "    try:\n",
    "        # Geolocate the center of the country\n",
    "        loc = geolocator.geocode(country)\n",
    "        # And return latitude and longitude\n",
    "        df_ssa['geolocate'] = [(loc.latitude, loc.longitude) for country in alphas]\n",
    "    except:\n",
    "        # Return missing value\n",
    "        return np.nan"
   ]
  },
  {
   "cell_type": "code",
   "execution_count": 126,
   "metadata": {},
   "outputs": [],
   "source": [
    "df_ssa.to_csv('ssa_findex.csv')"
   ]
  }
 ],
 "metadata": {
  "kernelspec": {
   "display_name": "Python 3",
   "language": "python",
   "name": "python3"
  },
  "language_info": {
   "codemirror_mode": {
    "name": "ipython",
    "version": 3
   },
   "file_extension": ".py",
   "mimetype": "text/x-python",
   "name": "python",
   "nbconvert_exporter": "python",
   "pygments_lexer": "ipython3",
   "version": "3.8.5"
  }
 },
 "nbformat": 4,
 "nbformat_minor": 4
}
