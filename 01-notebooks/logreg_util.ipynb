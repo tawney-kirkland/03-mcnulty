{
 "cells": [
  {
   "cell_type": "code",
   "execution_count": null,
   "metadata": {},
   "outputs": [],
   "source": [
    "class LogReg:\n",
    "    \n",
    "    def __init__(self, train_x, train_y, features, val_x, val_y):\n",
    "        self.train_x = train_x\n",
    "        self.train_y = train_y\n",
    "        self.features = features\n",
    "        self.val_x = val_x\n",
    "        self.val_y = val_y\n",
    "        \n",
    "    def copy_drop(self, train_x, val_x, drop=None): #drop isn't working - why?\n",
    "        self.train_x = train_x.drop(columns=self.drop)\n",
    "        self.val_x = val_x.drop(columns=self.drop)\n",
    "        self.drop = drop\n",
    "        return train_x, val_x\n",
    "        \n",
    "    def fit_pred(self, train_x, train_y, features, val_x, val_y):\n",
    "        self.lm = LogisticRegression(C=1e13,penalty='l1',solver='liblinear')\n",
    "        self.lm_fit = self.lm.fit(train_x[features],train_y)\n",
    "        self.features = features\n",
    "        self.preds = self.lm.predict(val_x[features])\n",
    "        print('Accuracy of logistic regression classifier on val set: {:.2f}'.format(\n",
    "                                                                            self.lm.score(val_x[features], val_y)))\n",
    "    \n",
    "    def get_preds(self):\n",
    "        return self.preds    \n",
    "        \n",
    "    def get_coefs(self):\n",
    "        print('\\n','Feature coefficient results: \\n')\n",
    "        for feature, coef in zip(self.train_x[features].columns, self.lm.coef_.reshape(1, -1)[0]):\n",
    "            print(feature, ':', f'{coef:.3f}')\n",
    "            \n",
    "    def get_proba(self):\n",
    "        return self.lm.predict_proba(self.val_x[features])\n",
    "    \n",
    "    def conf_matrix(self):\n",
    "        print('\\n','Confusion matrix')\n",
    "        print(confusion_matrix(self.val_y, self.preds),'\\n')\n",
    "        print('Classification report')\n",
    "        print(classification_report(self.val_y, self.preds))\n",
    "            \n",
    "    def roc(self):\n",
    "        self.val_x['proba_bank'] = self.lm.predict_proba(self.val_x[features])[:, 1]\n",
    "        self.fpr, self.tpr, self.thresholds = roc_curve(self.val_y, self.val_x['proba_bank'])\n",
    "        self.auc = roc_auc_score(self.val_y, self.val_x['proba_bank'])\n",
    "        plt.plot(self.fpr, self.tpr, marker='o')\n",
    "        plt.xlabel('1 - Specificity (FPR)')\n",
    "        plt.ylabel('Sensitivity (TPR)');\n",
    "        plt.title(f\"Area Under the ROC Curve: {round(self.auc, 3)}\");"
   ]
  }
 ],
 "metadata": {
  "kernelspec": {
   "display_name": "Python 3",
   "language": "python",
   "name": "python3"
  },
  "language_info": {
   "codemirror_mode": {
    "name": "ipython",
    "version": 3
   },
   "file_extension": ".py",
   "mimetype": "text/x-python",
   "name": "python",
   "nbconvert_exporter": "python",
   "pygments_lexer": "ipython3",
   "version": "3.8.5"
  }
 },
 "nbformat": 4,
 "nbformat_minor": 4
}
