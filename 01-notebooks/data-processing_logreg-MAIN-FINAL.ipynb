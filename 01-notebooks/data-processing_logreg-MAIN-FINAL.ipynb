{
 "cells": [
  {
   "cell_type": "code",
   "execution_count": 1,
   "metadata": {},
   "outputs": [],
   "source": [
    "import pandas as pd\n",
    "import numpy as np\n",
    "\n",
    "from sklearn.model_selection import train_test_split\n",
    "from sklearn.preprocessing import StandardScaler, PolynomialFeatures, OneHotEncoder\n",
    "from sklearn.linear_model import LogisticRegression\n",
    "from sklearn.metrics import auc,roc_auc_score, confusion_matrix, roc_curve, accuracy_score, precision_score, recall_score, f1_score, precision_recall_curve\n",
    "\n",
    "import seaborn as sns\n",
    "import matplotlib.pyplot as plt\n",
    "from matplotlib import pyplot\n",
    "\n",
    "import datetime as dt\n",
    "from datetime import datetime\n",
    "\n",
    "import statsmodels.api as sm\n",
    "import statsmodels.formula.api as smf\n",
    "\n",
    "from pandasql import sqldf\n",
    "\n",
    "from sklearn.compose import ColumnTransformer\n",
    "from sklearn.datasets import fetch_openml\n",
    "from sklearn.pipeline import Pipeline"
   ]
  },
  {
   "cell_type": "markdown",
   "metadata": {},
   "source": [
    "This is the final notebook for the  logistic regression analysis. Previous iterations are in the archive folder."
   ]
  },
  {
   "cell_type": "code",
   "execution_count": 2,
   "metadata": {},
   "outputs": [
    {
     "data": {
      "text/plain": [
       "(23524, 13)"
      ]
     },
     "execution_count": 2,
     "metadata": {},
     "output_type": "execute_result"
    }
   ],
   "source": [
    "df = pd.read_csv('/Users/tawneykirkland/GitStuff/03-mcnulty/04-data/data.csv')\n",
    "df.shape"
   ]
  },
  {
   "cell_type": "code",
   "execution_count": 3,
   "metadata": {},
   "outputs": [],
   "source": [
    "x = df[['country', 'year', 'uniqueid', 'location_type',\n",
    "       'cellphone_access', 'household_size', 'age_of_respondent',\n",
    "       'gender_of_respondent', 'relationship_with_head', 'marital_status',\n",
    "       'education_level', 'job_type']]\n",
    "\n",
    "\n",
    "y = df[['bank_account']]\n",
    "\n",
    "x_tr, x_test, y_tr, y_test = train_test_split(x, y,test_size=.25, random_state=12)"
   ]
  },
  {
   "cell_type": "code",
   "execution_count": 4,
   "metadata": {
    "scrolled": true
   },
   "outputs": [
    {
     "name": "stderr",
     "output_type": "stream",
     "text": [
      "<ipython-input-4-02e3f9e08314>:1: SettingWithCopyWarning: \n",
      "A value is trying to be set on a copy of a slice from a DataFrame.\n",
      "Try using .loc[row_indexer,col_indexer] = value instead\n",
      "\n",
      "See the caveats in the documentation: https://pandas.pydata.org/pandas-docs/stable/user_guide/indexing.html#returning-a-view-versus-a-copy\n",
      "  x_tr['is_urban'] = np.where(x_tr['location_type'] == 'Urban',1,0)\n",
      "<ipython-input-4-02e3f9e08314>:2: SettingWithCopyWarning: \n",
      "A value is trying to be set on a copy of a slice from a DataFrame.\n",
      "Try using .loc[row_indexer,col_indexer] = value instead\n",
      "\n",
      "See the caveats in the documentation: https://pandas.pydata.org/pandas-docs/stable/user_guide/indexing.html#returning-a-view-versus-a-copy\n",
      "  x_tr['cellphone'] = np.where(x_tr['cellphone_access'] == 'Yes',1,0)\n",
      "<ipython-input-4-02e3f9e08314>:3: SettingWithCopyWarning: \n",
      "A value is trying to be set on a copy of a slice from a DataFrame.\n",
      "Try using .loc[row_indexer,col_indexer] = value instead\n",
      "\n",
      "See the caveats in the documentation: https://pandas.pydata.org/pandas-docs/stable/user_guide/indexing.html#returning-a-view-versus-a-copy\n",
      "  x_tr['is_male'] = np.where(x_tr['gender_of_respondent'] == 'Male',1,0)\n"
     ]
    }
   ],
   "source": [
    "x_tr['is_urban'] = np.where(x_tr['location_type'] == 'Urban',1,0)\n",
    "x_tr['cellphone'] = np.where(x_tr['cellphone_access'] == 'Yes',1,0)\n",
    "x_tr['is_male'] = np.where(x_tr['gender_of_respondent'] == 'Male',1,0)"
   ]
  },
  {
   "cell_type": "code",
   "execution_count": 5,
   "metadata": {},
   "outputs": [],
   "source": [
    "x_tr_cont = x_tr[['year','household_size','age_of_respondent','is_urban','cellphone','is_male']]\n",
    "x_tr_cat = x_tr[['country','relationship_with_head', 'marital_status','education_level', 'job_type']]"
   ]
  },
  {
   "cell_type": "code",
   "execution_count": 6,
   "metadata": {},
   "outputs": [
    {
     "name": "stderr",
     "output_type": "stream",
     "text": [
      "/Users/tawneykirkland/opt/anaconda3/lib/python3.8/site-packages/pandas/core/indexing.py:670: SettingWithCopyWarning: \n",
      "A value is trying to be set on a copy of a slice from a DataFrame\n",
      "\n",
      "See the caveats in the documentation: https://pandas.pydata.org/pandas-docs/stable/user_guide/indexing.html#returning-a-view-versus-a-copy\n",
      "  iloc._setitem_with_indexer(indexer, value)\n",
      "<ipython-input-6-4a08e3cd5a34>:2: SettingWithCopyWarning: \n",
      "A value is trying to be set on a copy of a slice from a DataFrame\n",
      "\n",
      "See the caveats in the documentation: https://pandas.pydata.org/pandas-docs/stable/user_guide/indexing.html#returning-a-view-versus-a-copy\n",
      "  x_tr_cat.loc[x_tr['marital_status'] == 'Dont know', ['marital_status']] = 'Single/Never Married'\n",
      "<ipython-input-6-4a08e3cd5a34>:3: SettingWithCopyWarning: \n",
      "A value is trying to be set on a copy of a slice from a DataFrame\n",
      "\n",
      "See the caveats in the documentation: https://pandas.pydata.org/pandas-docs/stable/user_guide/indexing.html#returning-a-view-versus-a-copy\n",
      "  x_tr_cat.loc[x_tr['education_level'] == 'Other/Dont know/RTA', ['education_level']] = 'No formal education'\n",
      "<ipython-input-6-4a08e3cd5a34>:4: SettingWithCopyWarning: \n",
      "A value is trying to be set on a copy of a slice from a DataFrame\n",
      "\n",
      "See the caveats in the documentation: https://pandas.pydata.org/pandas-docs/stable/user_guide/indexing.html#returning-a-view-versus-a-copy\n",
      "  x_tr_cat.loc[x_tr['job_type'] == 'Dont Know/Refuse to answer', ['job_type']] = 'No Income'\n",
      "<ipython-input-6-4a08e3cd5a34>:5: SettingWithCopyWarning: \n",
      "A value is trying to be set on a copy of a slice from a DataFrame\n",
      "\n",
      "See the caveats in the documentation: https://pandas.pydata.org/pandas-docs/stable/user_guide/indexing.html#returning-a-view-versus-a-copy\n",
      "  x_tr_cat.loc[x_tr['relationship_with_head'] == 'Other non-relatives', ['relationship_with_head']] = 'Other relative'\n"
     ]
    }
   ],
   "source": [
    "# Regroup to reduce number of categories\n",
    "x_tr_cat.loc[x_tr['marital_status'] == 'Dont know', ['marital_status']] = 'Single/Never Married'\n",
    "x_tr_cat.loc[x_tr['education_level'] == 'Other/Dont know/RTA', ['education_level']] = 'No formal education'\n",
    "x_tr_cat.loc[x_tr['job_type'] == 'Dont Know/Refuse to answer', ['job_type']] = 'No Income'\n",
    "x_tr_cat.loc[x_tr['relationship_with_head'] == 'Other non-relatives', ['relationship_with_head']] = 'Other relative'"
   ]
  },
  {
   "cell_type": "code",
   "execution_count": 7,
   "metadata": {},
   "outputs": [
    {
     "name": "stderr",
     "output_type": "stream",
     "text": [
      "<ipython-input-7-dc6323112d16>:1: SettingWithCopyWarning: \n",
      "A value is trying to be set on a copy of a slice from a DataFrame.\n",
      "Try using .loc[row_indexer,col_indexer] = value instead\n",
      "\n",
      "See the caveats in the documentation: https://pandas.pydata.org/pandas-docs/stable/user_guide/indexing.html#returning-a-view-versus-a-copy\n",
      "  y_tr['no_acc'] = np.where(y_tr['bank_account'] == 'No', 1,0)\n",
      "/Users/tawneykirkland/opt/anaconda3/lib/python3.8/site-packages/pandas/core/frame.py:4163: SettingWithCopyWarning: \n",
      "A value is trying to be set on a copy of a slice from a DataFrame\n",
      "\n",
      "See the caveats in the documentation: https://pandas.pydata.org/pandas-docs/stable/user_guide/indexing.html#returning-a-view-versus-a-copy\n",
      "  return super().drop(\n"
     ]
    }
   ],
   "source": [
    "y_tr['no_acc'] = np.where(y_tr['bank_account'] == 'No', 1,0)\n",
    "y_tr.drop(columns='bank_account',inplace=True)"
   ]
  },
  {
   "cell_type": "code",
   "execution_count": 8,
   "metadata": {
    "scrolled": true
   },
   "outputs": [],
   "source": [
    "ohe = OneHotEncoder(drop='first', sparse=False)\n",
    "\n",
    "ohe.fit(x_tr_cat)\n",
    "\n",
    "ohe_x_train = ohe.transform(x_tr_cat)\n",
    "\n",
    "columns = ohe.get_feature_names(['country',\n",
    "                                 'relationship_with_head', \n",
    "                                 'marital_status',\n",
    "                                 'education_level', \n",
    "                                 'job_type'])\n",
    "\n",
    "ohe_x_tr_df = pd.DataFrame(ohe_x_train, columns=columns, index=x_tr.index)"
   ]
  },
  {
   "cell_type": "code",
   "execution_count": 9,
   "metadata": {},
   "outputs": [],
   "source": [
    "combo_train_df = pd.concat([x_tr_cont, ohe_x_tr_df], axis=1)"
   ]
  },
  {
   "cell_type": "code",
   "execution_count": 10,
   "metadata": {},
   "outputs": [],
   "source": [
    "x_train, x_val, y_train, y_val = train_test_split(combo_train_df, y_tr, test_size=.20, random_state=11)"
   ]
  },
  {
   "cell_type": "code",
   "execution_count": 11,
   "metadata": {
    "scrolled": true
   },
   "outputs": [
    {
     "data": {
      "image/png": "[encoded data removed]",
      "text/plain": [
       "<Figure size 432x288 with 1 Axes>"
      ]
     },
     "metadata": {
      "needs_background": "light"
     },
     "output_type": "display_data"
    }
   ],
   "source": [
    "sns.countplot(x='no_acc', data=y_train)\n",
    "plt.title('Bank account holding status',family='arial',fontsize=16)\n",
    "plt.xlabel('Unbanked')\n",
    "plt.ylabel('Count')\n",
    "plt.show;"
   ]
  },
  {
   "cell_type": "code",
   "execution_count": 12,
   "metadata": {},
   "outputs": [
    {
     "name": "stdout",
     "output_type": "stream",
     "text": [
      "percentage of no account: 85.93\n",
      "percentage of account 14.07\n"
     ]
    }
   ],
   "source": [
    "count_no_acc = len(y_train[y_train['no_acc']==1])\n",
    "count_acc = len(y_train[y_train['no_acc']==0])\n",
    "pct_of_no_acc = count_no_acc/(count_no_acc+count_acc)\n",
    "print(\"percentage of no account:\", round(pct_of_no_acc*100,2))\n",
    "pct_of_acc = count_acc/(count_no_acc+count_acc)\n",
    "print(\"percentage of account\", round(pct_of_acc*100,2))"
   ]
  },
  {
   "cell_type": "markdown",
   "metadata": {},
   "source": [
    "Classes are __very imbalanced__ - investigate threshold, over and undersampling"
   ]
  },
  {
   "cell_type": "code",
   "execution_count": 13,
   "metadata": {},
   "outputs": [],
   "source": [
    "df_train = pd.concat([x_train,y_train],axis=1)\n",
    "df_val = pd.concat([x_val,y_val],axis=1)"
   ]
  },
  {
   "cell_type": "code",
   "execution_count": 14,
   "metadata": {},
   "outputs": [],
   "source": [
    "# Create dateframes to use for visualisations\n",
    "df_vis_cont = pd.concat([x_tr_cont,y_tr],axis=1)\n",
    "df_vis_cat = pd.concat([ohe_x_tr_df,y_tr],axis=1)"
   ]
  },
  {
   "cell_type": "code",
   "execution_count": 15,
   "metadata": {
    "scrolled": true
   },
   "outputs": [
    {
     "data": {
      "image/png": "[encoded data removed]",
      "text/plain": [
       "<Figure size 1080x1080 with 2 Axes>"
      ]
     },
     "metadata": {
      "needs_background": "light"
     },
     "output_type": "display_data"
    }
   ],
   "source": [
    "fig, ax = plt.subplots(figsize=(15, 15))\n",
    "sns.heatmap(df_train.corr(), cmap=\"seismic\", vmin=-1, vmax=1, ax=ax);"
   ]
  },
  {
   "cell_type": "markdown",
   "metadata": {},
   "source": [
    "Note that some of these features are correlated and should be removed during analysis below"
   ]
  },
  {
   "cell_type": "markdown",
   "metadata": {},
   "source": [
    "## Simple logistic regression\n",
    "\n",
    "Testing with a single variable: is_male"
   ]
  },
  {
   "cell_type": "code",
   "execution_count": 16,
   "metadata": {},
   "outputs": [
    {
     "name": "stdout",
     "output_type": "stream",
     "text": [
      "Optimization terminated successfully.\n",
      "         Current function value: 0.399382\n",
      "         Iterations 6\n"
     ]
    }
   ],
   "source": [
    "#Model on is_male first\n",
    "lm_1 = sm.Logit(df_train['no_acc'],  # with statsmodels, `y` comes first\n",
    "                sm.add_constant(df_train[['is_male']]))  # and then `x`\n",
    "lm_1 = lm_1.fit()"
   ]
  },
  {
   "cell_type": "code",
   "execution_count": 17,
   "metadata": {},
   "outputs": [
    {
     "data": {
      "text/html": [
       "<table class=\"simpletable\">\n",
       "<caption>Logit Regression Results</caption>\n",
       "<tr>\n",
       "  <th>Dep. Variable:</th>        <td>no_acc</td>      <th>  No. Observations:  </th>  <td> 14114</td>  \n",
       "</tr>\n",
       "<tr>\n",
       "  <th>Model:</th>                 <td>Logit</td>      <th>  Df Residuals:      </th>  <td> 14112</td>  \n",
       "</tr>\n",
       "<tr>\n",
       "  <th>Method:</th>                 <td>MLE</td>       <th>  Df Model:          </th>  <td>     1</td>  \n",
       "</tr>\n",
       "<tr>\n",
       "  <th>Date:</th>            <td>Sat, 15 May 2021</td> <th>  Pseudo R-squ.:     </th>  <td>0.01691</td> \n",
       "</tr>\n",
       "<tr>\n",
       "  <th>Time:</th>                <td>07:57:37</td>     <th>  Log-Likelihood:    </th> <td> -5636.9</td> \n",
       "</tr>\n",
       "<tr>\n",
       "  <th>converged:</th>             <td>True</td>       <th>  LL-Null:           </th> <td> -5733.9</td> \n",
       "</tr>\n",
       "<tr>\n",
       "  <th>Covariance Type:</th>     <td>nonrobust</td>    <th>  LLR p-value:       </th> <td>4.398e-44</td>\n",
       "</tr>\n",
       "</table>\n",
       "<table class=\"simpletable\">\n",
       "<tr>\n",
       "     <td></td>        <th>coef</th>     <th>std err</th>      <th>z</th>      <th>P>|z|</th>  <th>[0.025</th>    <th>0.975]</th>  \n",
       "</tr>\n",
       "<tr>\n",
       "  <th>const</th>   <td>    2.1251</td> <td>    0.035</td> <td>   60.055</td> <td> 0.000</td> <td>    2.056</td> <td>    2.194</td>\n",
       "</tr>\n",
       "<tr>\n",
       "  <th>is_male</th> <td>   -0.6779</td> <td>    0.049</td> <td>  -13.887</td> <td> 0.000</td> <td>   -0.774</td> <td>   -0.582</td>\n",
       "</tr>\n",
       "</table>"
      ],
      "text/plain": [
       "<class 'statsmodels.iolib.summary.Summary'>\n",
       "\"\"\"\n",
       "                           Logit Regression Results                           \n",
       "==============================================================================\n",
       "Dep. Variable:                 no_acc   No. Observations:                14114\n",
       "Model:                          Logit   Df Residuals:                    14112\n",
       "Method:                           MLE   Df Model:                            1\n",
       "Date:                Sat, 15 May 2021   Pseudo R-squ.:                 0.01691\n",
       "Time:                        07:57:37   Log-Likelihood:                -5636.9\n",
       "converged:                       True   LL-Null:                       -5733.9\n",
       "Covariance Type:            nonrobust   LLR p-value:                 4.398e-44\n",
       "==============================================================================\n",
       "                 coef    std err          z      P>|z|      [0.025      0.975]\n",
       "------------------------------------------------------------------------------\n",
       "const          2.1251      0.035     60.055      0.000       2.056       2.194\n",
       "is_male       -0.6779      0.049    -13.887      0.000      -0.774      -0.582\n",
       "==============================================================================\n",
       "\"\"\""
      ]
     },
     "execution_count": 17,
     "metadata": {},
     "output_type": "execute_result"
    }
   ],
   "source": [
    "lm_1.summary()"
   ]
  },
  {
   "cell_type": "code",
   "execution_count": 18,
   "metadata": {},
   "outputs": [
    {
     "data": {
      "text/plain": [
       "LogisticRegression(C=100000, solver='newton-cg')"
      ]
     },
     "execution_count": 18,
     "metadata": {},
     "output_type": "execute_result"
    }
   ],
   "source": [
    "lm_1 = LogisticRegression(solver='newton-cg',  # For comparison, use the same solver as statsmodels default\n",
    "                          C=100000)  # No regularization\n",
    "\n",
    "lm_1.fit(df_train[['is_male']], df_train['no_acc'])"
   ]
  },
  {
   "cell_type": "code",
   "execution_count": 19,
   "metadata": {},
   "outputs": [
    {
     "name": "stdout",
     "output_type": "stream",
     "text": [
      "intercept:  2.125\n",
      "is_male coef:  -0.678\n"
     ]
    }
   ],
   "source": [
    "print('intercept: ', round(lm_1.intercept_[0], 3))\n",
    "print('is_male coef: ', round(lm_1.coef_[0][0], 3))"
   ]
  },
  {
   "cell_type": "code",
   "execution_count": 20,
   "metadata": {},
   "outputs": [],
   "source": [
    "df_eval = df_val.copy()\n",
    "df_eval['pred'] = lm_1.predict(df_val[['is_male']])\n",
    "df_eval.loc[:, 'pred'] = df_eval['pred'].astype('category')\n",
    "df_eval['correct_pred'] = df_eval['pred'] == df_eval['no_acc']"
   ]
  },
  {
   "cell_type": "code",
   "execution_count": 21,
   "metadata": {},
   "outputs": [
    {
     "data": {
      "image/png": "[encoded data removed]",
      "text/plain": [
       "<Figure size 432x288 with 1 Axes>"
      ]
     },
     "metadata": {
      "needs_background": "light"
     },
     "output_type": "display_data"
    }
   ],
   "source": [
    "sns.stripplot(data=df_eval,\n",
    "              x='is_male',\n",
    "              y='pred',\n",
    "              hue='correct_pred',\n",
    "              palette={False: '#f03b20', True: '#3182bd'});"
   ]
  },
  {
   "cell_type": "code",
   "execution_count": 22,
   "metadata": {
    "scrolled": true
   },
   "outputs": [
    {
     "data": {
      "text/plain": [
       "array([[0.10668258, 0.89331742],\n",
       "       [0.19044297, 0.80955703],\n",
       "       [0.10668258, 0.89331742],\n",
       "       [0.10668258, 0.89331742],\n",
       "       [0.19044297, 0.80955703]])"
      ]
     },
     "execution_count": 22,
     "metadata": {},
     "output_type": "execute_result"
    }
   ],
   "source": [
    "lm_1.predict_proba(df_val[['is_male']])[:5]"
   ]
  },
  {
   "cell_type": "code",
   "execution_count": 23,
   "metadata": {},
   "outputs": [
    {
     "data": {
      "text/plain": [
       "array([[   0,  492],\n",
       "       [   0, 3037]])"
      ]
     },
     "execution_count": 23,
     "metadata": {},
     "output_type": "execute_result"
    }
   ],
   "source": [
    "confusion_matrix(df_eval['no_acc'], df_eval['pred'])"
   ]
  },
  {
   "cell_type": "markdown",
   "metadata": {},
   "source": [
    "\n",
    "| | predict No account (0) | predict account (1)|\n",
    "|---|---|---|\n",
    "| **is no account (0)** | 3037 | 0|\n",
    "| **is account (1)** | 492 | 0 |"
   ]
  },
  {
   "cell_type": "markdown",
   "metadata": {},
   "source": [
    "I believe it is predicting all no account because of the following:\n",
    "* Classes are very imbalanced (85:15 no account to account)\n",
    "* One variable alone may not be sufficient enough in this instance\n",
    "* Perhaps because is_male class is also imbalanced?"
   ]
  },
  {
   "cell_type": "markdown",
   "metadata": {},
   "source": [
    "## Multiple regression\n",
    "The below analysis is a multiple logistic regression for all features "
   ]
  },
  {
   "cell_type": "code",
   "execution_count": 24,
   "metadata": {},
   "outputs": [],
   "source": [
    "features = ['household_size', 'age_of_respondent', 'is_urban', 'cellphone',\n",
    "       'is_male', 'country_Rwanda', 'country_Tanzania', 'country_Uganda',\n",
    "       'relationship_with_head_Head of Household',\n",
    "       'relationship_with_head_Other relative',\n",
    "       'relationship_with_head_Parent', 'relationship_with_head_Spouse',\n",
    "       'marital_status_Married/Living together',\n",
    "       'marital_status_Single/Never Married', 'marital_status_Widowed',\n",
    "       'education_level_Primary education',\n",
    "       'education_level_Secondary education',\n",
    "       'education_level_Tertiary education',\n",
    "       'education_level_Vocational/Specialised training',\n",
    "       'job_type_Formally employed Government',\n",
    "       'job_type_Formally employed Private', 'job_type_Government Dependent',\n",
    "       'job_type_Informally employed', 'job_type_No Income',\n",
    "       'job_type_Other Income', 'job_type_Remittance Dependent',\n",
    "       'job_type_Self employed']"
   ]
  },
  {
   "cell_type": "markdown",
   "metadata": {},
   "source": [
    "The below analysis includes all features. Thereafter the analyses remove insignificant features one by one."
   ]
  },
  {
   "cell_type": "code",
   "execution_count": 25,
   "metadata": {
    "scrolled": true
   },
   "outputs": [
    {
     "name": "stdout",
     "output_type": "stream",
     "text": [
      "Accuracy of logistic regression classifier on val set: 0.89\n"
     ]
    }
   ],
   "source": [
    "lm_2 = LogisticRegression(C=1e13,penalty='l1',solver='liblinear')\n",
    "lm_2.fit(df_train[features], df_train['no_acc'])\n",
    "\n",
    "preds = lm_2.predict(df_val[features])\n",
    "print('Accuracy of logistic regression classifier on val set: {:.2f}'.format(lm_2.score(df_val[features], y_val)))"
   ]
  },
  {
   "cell_type": "code",
   "execution_count": 26,
   "metadata": {
    "scrolled": true
   },
   "outputs": [
    {
     "name": "stdout",
     "output_type": "stream",
     "text": [
      "Feature coefficient results: \n",
      "\n",
      "household_size : -0.002\n",
      "age_of_respondent : -0.013\n",
      "is_urban : -0.272\n",
      "cellphone : -1.633\n",
      "is_male : -0.456\n",
      "country_Rwanda : 0.336\n",
      "country_Tanzania : 1.267\n",
      "country_Uganda : 1.214\n",
      "relationship_with_head_Head of Household : -0.798\n",
      "relationship_with_head_Other relative : -0.122\n",
      "relationship_with_head_Parent : -0.027\n",
      "relationship_with_head_Spouse : -0.572\n",
      "marital_status_Married/Living together : -0.037\n",
      "marital_status_Single/Never Married : 0.125\n",
      "marital_status_Widowed : -0.064\n",
      "education_level_Primary education : -0.761\n",
      "education_level_Secondary education : -1.763\n",
      "education_level_Tertiary education : -3.234\n",
      "education_level_Vocational/Specialised training : -2.773\n",
      "job_type_Formally employed Government : -1.615\n",
      "job_type_Formally employed Private : -1.725\n",
      "job_type_Government Dependent : -1.214\n",
      "job_type_Informally employed : 0.360\n",
      "job_type_No Income : 0.187\n",
      "job_type_Other Income : -0.673\n",
      "job_type_Remittance Dependent : 0.203\n",
      "job_type_Self employed : -0.463\n"
     ]
    }
   ],
   "source": [
    "print('Feature coefficient results: \\n')\n",
    "for feature, coef in zip(df_train[features].columns, lm_2.coef_.reshape(1, -1)[0]):\n",
    "        print(feature, ':', f'{coef:.3f}')"
   ]
  },
  {
   "cell_type": "code",
   "execution_count": 27,
   "metadata": {},
   "outputs": [
    {
     "data": {
      "text/plain": [
       "array([5.66184332])"
      ]
     },
     "execution_count": 27,
     "metadata": {},
     "output_type": "execute_result"
    }
   ],
   "source": [
    "lm_2.intercept_"
   ]
  },
  {
   "cell_type": "code",
   "execution_count": 28,
   "metadata": {},
   "outputs": [],
   "source": [
    "df_val['preds'] = lm_2.predict(df_val[features])"
   ]
  },
  {
   "cell_type": "code",
   "execution_count": 29,
   "metadata": {},
   "outputs": [],
   "source": [
    "import sys\n",
    "np.set_printoptions(threshold=sys.maxsize)"
   ]
  },
  {
   "cell_type": "code",
   "execution_count": 30,
   "metadata": {},
   "outputs": [],
   "source": [
    "y_prob = lm_2.predict_proba(df_val[features])"
   ]
  },
  {
   "cell_type": "code",
   "execution_count": 31,
   "metadata": {
    "scrolled": true
   },
   "outputs": [
    {
     "data": {
      "text/plain": [
       "array([[ 168,  324],\n",
       "       [  79, 2958]])"
      ]
     },
     "execution_count": 31,
     "metadata": {},
     "output_type": "execute_result"
    }
   ],
   "source": [
    "confusion_matrix(df_val['no_acc'], \n",
    "                 preds)"
   ]
  },
  {
   "cell_type": "markdown",
   "metadata": {},
   "source": [
    "\n",
    "| | predict banked (0) | predict unbanked (1)|\n",
    "|---|---|---|\n",
    "| **is banked (0)** | 168 | 324|\n",
    "| **is UNbanked (1)** | 79 | 2958 |"
   ]
  },
  {
   "cell_type": "code",
   "execution_count": 32,
   "metadata": {
    "scrolled": true
   },
   "outputs": [
    {
     "name": "stdout",
     "output_type": "stream",
     "text": [
      "              precision    recall  f1-score   support\n",
      "\n",
      "           0       0.68      0.34      0.45       492\n",
      "           1       0.90      0.97      0.94      3037\n",
      "\n",
      "    accuracy                           0.89      3529\n",
      "   macro avg       0.79      0.66      0.70      3529\n",
      "weighted avg       0.87      0.89      0.87      3529\n",
      "\n"
     ]
    }
   ],
   "source": [
    "from sklearn.metrics import classification_report\n",
    "print(classification_report(y_val, preds))"
   ]
  },
  {
   "cell_type": "markdown",
   "metadata": {},
   "source": [
    "The model should optimise for recall given the importance of identifying the unbanked and understanding the most important features linked to being unbanked. Therefore, the recall for the positive class is quite good. However, precision is comparatively low meaning that banked individuals are being classified as unbanked. \n",
    "\n",
    "Precision and recall for negative class are much lower - again because many banked are being classified as unbanked"
   ]
  },
  {
   "cell_type": "code",
   "execution_count": 33,
   "metadata": {},
   "outputs": [],
   "source": [
    "df_val['proba_bank'] = lm_2.predict_proba(df_val[features])[:, 1]\n",
    "\n",
    "fpr2, tpr2, thresholds2 = roc_curve(df_val['no_acc'],\n",
    "                                 df_val['proba_bank'])"
   ]
  },
  {
   "cell_type": "code",
   "execution_count": 34,
   "metadata": {},
   "outputs": [],
   "source": [
    "def plot_roc(true, probas,fpr,tpr):\n",
    "    auc = roc_auc_score(true, probas)\n",
    "\n",
    "    plt.plot(fpr, tpr, marker='o')\n",
    "    plt.xlabel('1 - Specificity (FPR)')\n",
    "    plt.ylabel('Sensitivity (TPR)');\n",
    "    plt.title(f\"Area Under the ROC Curve: {round(auc, 3)}\");"
   ]
  },
  {
   "cell_type": "code",
   "execution_count": 35,
   "metadata": {
    "scrolled": false
   },
   "outputs": [
    {
     "data": {
      "image/png": "[encoded data removed]",
      "text/plain": [
       "<Figure size 432x288 with 1 Axes>"
      ]
     },
     "metadata": {
      "needs_background": "light"
     },
     "output_type": "display_data"
    }
   ],
   "source": [
    "plot_roc(df_val['no_acc'], df_val['proba_bank'],fpr2,tpr2)"
   ]
  },
  {
   "cell_type": "markdown",
   "metadata": {},
   "source": [
    "## Adjusting threshold"
   ]
  },
  {
   "cell_type": "code",
   "execution_count": 36,
   "metadata": {},
   "outputs": [],
   "source": [
    "threshold = .55\n",
    "y_pred = np.where((y_prob[:, 0] > threshold),0,1)"
   ]
  },
  {
   "cell_type": "code",
   "execution_count": 37,
   "metadata": {
    "scrolled": false
   },
   "outputs": [
    {
     "data": {
      "text/plain": [
       "array([[ 149,  343],\n",
       "       [  59, 2978]])"
      ]
     },
     "execution_count": 37,
     "metadata": {},
     "output_type": "execute_result"
    }
   ],
   "source": [
    "confusion_matrix(df_val['no_acc'], \n",
    "                 y_pred)"
   ]
  },
  {
   "cell_type": "code",
   "execution_count": 38,
   "metadata": {},
   "outputs": [],
   "source": [
    "df_val['preds'] = np.where((y_prob[:, 0] > threshold),0,1)\n",
    "df_comp = df_val[(df_val['no_acc'] != df_val['preds']) & (df_val['household_size'] ==1)]"
   ]
  },
  {
   "cell_type": "code",
   "execution_count": 39,
   "metadata": {},
   "outputs": [
    {
     "name": "stdout",
     "output_type": "stream",
     "text": [
      "              precision    recall  f1-score   support\n",
      "\n",
      "           0       0.72      0.30      0.43       492\n",
      "           1       0.90      0.98      0.94      3037\n",
      "\n",
      "    accuracy                           0.89      3529\n",
      "   macro avg       0.81      0.64      0.68      3529\n",
      "weighted avg       0.87      0.89      0.87      3529\n",
      "\n"
     ]
    }
   ],
   "source": [
    "print(classification_report(df_val['no_acc'], df_val['preds']))"
   ]
  },
  {
   "cell_type": "markdown",
   "metadata": {},
   "source": [
    "As expected, improvement in prediction of the positive class but correct prediction of negative class (the banked population) declines"
   ]
  },
  {
   "cell_type": "markdown",
   "metadata": {},
   "source": [
    "## Multiple regression removing unused features"
   ]
  },
  {
   "cell_type": "markdown",
   "metadata": {},
   "source": [
    "#### Removing parent and other relative"
   ]
  },
  {
   "cell_type": "code",
   "execution_count": 40,
   "metadata": {},
   "outputs": [],
   "source": [
    "x_train_9 = df_train.drop(columns = ['year','relationship_with_head_Parent','relationship_with_head_Other relative'])\n",
    "\n",
    "df_val_9 = df_val.drop(columns = ['year','relationship_with_head_Parent','relationship_with_head_Other relative'])\n",
    "\n",
    "features9 = ['age_of_respondent','household_size', 'is_urban', 'cellphone',\n",
    "       'is_male', 'country_Rwanda', 'country_Tanzania', 'country_Uganda',\n",
    "       'relationship_with_head_Head of Household',\n",
    "       'relationship_with_head_Spouse',\n",
    "       'marital_status_Married/Living together',\n",
    "       'marital_status_Single/Never Married', 'marital_status_Widowed',\n",
    "       'education_level_Primary education',\n",
    "       'education_level_Secondary education',\n",
    "       'education_level_Tertiary education',\n",
    "       'education_level_Vocational/Specialised training',\n",
    "       'job_type_Formally employed Government',\n",
    "       'job_type_Formally employed Private', 'job_type_Government Dependent',\n",
    "       'job_type_Informally employed', 'job_type_No Income',\n",
    "       'job_type_Remittance Dependent','job_type_Other Income','job_type_Self employed']"
   ]
  },
  {
   "cell_type": "code",
   "execution_count": 41,
   "metadata": {},
   "outputs": [
    {
     "name": "stdout",
     "output_type": "stream",
     "text": [
      "Accuracy of logistic regression classifier on val set: 0.886\n"
     ]
    }
   ],
   "source": [
    "lm_9 = LogisticRegression(C=1e13,penalty='l1',solver='liblinear')\n",
    "lm_9.fit(x_train_9[features9], x_train_9['no_acc'])\n",
    "\n",
    "preds9 = lm_9.predict(df_val_9[features9])\n",
    "print('Accuracy of logistic regression classifier on val set: {:.3f}'.format(\n",
    "    lm_9.score(df_val_9[features9], df_val_9['no_acc'])))"
   ]
  },
  {
   "cell_type": "code",
   "execution_count": 42,
   "metadata": {},
   "outputs": [
    {
     "name": "stdout",
     "output_type": "stream",
     "text": [
      "Feature coefficient results: \n",
      "\n",
      "age_of_respondent : -0.013\n",
      "household_size : -0.001\n",
      "is_urban : -0.273\n",
      "cellphone : -1.632\n",
      "is_male : -0.456\n",
      "country_Rwanda : 0.337\n",
      "country_Tanzania : 1.264\n",
      "country_Uganda : 1.209\n",
      "relationship_with_head_Head of Household : -0.761\n",
      "relationship_with_head_Spouse : -0.536\n",
      "marital_status_Married/Living together : -0.035\n",
      "marital_status_Single/Never Married : 0.132\n",
      "marital_status_Widowed : -0.062\n",
      "education_level_Primary education : -0.761\n",
      "education_level_Secondary education : -1.762\n",
      "education_level_Tertiary education : -3.232\n",
      "education_level_Vocational/Specialised training : -2.773\n",
      "job_type_Formally employed Government : -1.614\n",
      "job_type_Formally employed Private : -1.730\n",
      "job_type_Government Dependent : -1.213\n",
      "job_type_Informally employed : 0.360\n",
      "job_type_No Income : 0.188\n",
      "job_type_Remittance Dependent : 0.204\n",
      "job_type_Other Income : -0.672\n",
      "job_type_Self employed : -0.462\n"
     ]
    }
   ],
   "source": [
    "print('Feature coefficient results: \\n')\n",
    "for feature, coef in zip(x_train_9[features9].columns, lm_9.coef_.reshape(1, -1)[0]):\n",
    "        print(feature, ':', f'{coef:.3f}')"
   ]
  },
  {
   "cell_type": "code",
   "execution_count": 43,
   "metadata": {
    "scrolled": true
   },
   "outputs": [
    {
     "data": {
      "text/plain": [
       "array([[ 169,  323],\n",
       "       [  78, 2959]])"
      ]
     },
     "execution_count": 43,
     "metadata": {},
     "output_type": "execute_result"
    }
   ],
   "source": [
    "confusion_matrix(df_val_9['no_acc'], \n",
    "                 preds9)"
   ]
  },
  {
   "cell_type": "code",
   "execution_count": 44,
   "metadata": {
    "scrolled": true
   },
   "outputs": [
    {
     "name": "stdout",
     "output_type": "stream",
     "text": [
      "              precision    recall  f1-score   support\n",
      "\n",
      "           0       0.68      0.34      0.46       492\n",
      "           1       0.90      0.97      0.94      3037\n",
      "\n",
      "    accuracy                           0.89      3529\n",
      "   macro avg       0.79      0.66      0.70      3529\n",
      "weighted avg       0.87      0.89      0.87      3529\n",
      "\n"
     ]
    }
   ],
   "source": [
    "print(classification_report(df_val_9['no_acc'], preds9))"
   ]
  },
  {
   "cell_type": "markdown",
   "metadata": {},
   "source": [
    "Very minor improvement in prediction of both positive and negative classes"
   ]
  },
  {
   "cell_type": "markdown",
   "metadata": {},
   "source": [
    "#### Removing married / living together"
   ]
  },
  {
   "cell_type": "code",
   "execution_count": 45,
   "metadata": {},
   "outputs": [],
   "source": [
    "x_train_10 = x_train_9.drop(columns='marital_status_Married/Living together')\n",
    "\n",
    "df_val_10 = df_val_9.drop(columns='marital_status_Married/Living together')\n",
    "\n",
    "features10 = ['age_of_respondent','household_size', 'is_urban', 'cellphone',\n",
    "       'is_male', 'country_Rwanda', 'country_Tanzania', 'country_Uganda',\n",
    "       'relationship_with_head_Head of Household',\n",
    "       'relationship_with_head_Spouse',\n",
    "       'marital_status_Single/Never Married', 'marital_status_Widowed',\n",
    "       'education_level_Primary education',\n",
    "       'education_level_Secondary education',\n",
    "       'education_level_Tertiary education',\n",
    "       'education_level_Vocational/Specialised training',\n",
    "       'job_type_Formally employed Government',\n",
    "       'job_type_Formally employed Private', 'job_type_Government Dependent',\n",
    "       'job_type_Informally employed', 'job_type_No Income',\n",
    "       'job_type_Remittance Dependent','job_type_Other Income','job_type_Self employed']"
   ]
  },
  {
   "cell_type": "code",
   "execution_count": 46,
   "metadata": {},
   "outputs": [
    {
     "name": "stdout",
     "output_type": "stream",
     "text": [
      "Accuracy of logistic regression classifier on val set: 0.887\n"
     ]
    }
   ],
   "source": [
    "lm_10 = LogisticRegression(C=1e13,penalty='l1',solver='liblinear')\n",
    "lm_10.fit(x_train_10[features10], x_train_10['no_acc'])\n",
    "\n",
    "preds10 = lm_10.predict(df_val_10[features10])\n",
    "print('Accuracy of logistic regression classifier on val set: {:.3f}'.format(lm_10.score(\n",
    "    df_val_10[features10], df_val_10['no_acc'])))"
   ]
  },
  {
   "cell_type": "code",
   "execution_count": 47,
   "metadata": {},
   "outputs": [
    {
     "name": "stdout",
     "output_type": "stream",
     "text": [
      "Feature coefficient results: \n",
      "\n",
      "age_of_respondent : -0.013\n",
      "household_size : -0.002\n",
      "is_urban : -0.274\n",
      "cellphone : -1.633\n",
      "is_male : -0.460\n",
      "country_Rwanda : 0.338\n",
      "country_Tanzania : 1.273\n",
      "country_Uganda : 1.209\n",
      "relationship_with_head_Head of Household : -0.768\n",
      "relationship_with_head_Spouse : -0.550\n",
      "marital_status_Single/Never Married : 0.154\n",
      "marital_status_Widowed : -0.036\n",
      "education_level_Primary education : -0.762\n",
      "education_level_Secondary education : -1.763\n",
      "education_level_Tertiary education : -3.232\n",
      "education_level_Vocational/Specialised training : -2.774\n",
      "job_type_Formally employed Government : -1.614\n",
      "job_type_Formally employed Private : -1.730\n",
      "job_type_Government Dependent : -1.211\n",
      "job_type_Informally employed : 0.361\n",
      "job_type_No Income : 0.190\n",
      "job_type_Remittance Dependent : 0.204\n",
      "job_type_Other Income : -0.671\n",
      "job_type_Self employed : -0.462\n"
     ]
    }
   ],
   "source": [
    "print('Feature coefficient results: \\n')\n",
    "for feature, coef in zip(x_train_10[features10].columns, lm_10.coef_.reshape(1, -1)[0]):\n",
    "        print(feature, ':', f'{coef:.3f}')"
   ]
  },
  {
   "cell_type": "code",
   "execution_count": 48,
   "metadata": {
    "scrolled": true
   },
   "outputs": [
    {
     "data": {
      "text/plain": [
       "array([[ 170,  322],\n",
       "       [  78, 2959]])"
      ]
     },
     "execution_count": 48,
     "metadata": {},
     "output_type": "execute_result"
    }
   ],
   "source": [
    "confusion_matrix(df_val_10['no_acc'], \n",
    "                 preds10)"
   ]
  },
  {
   "cell_type": "code",
   "execution_count": 49,
   "metadata": {
    "scrolled": false
   },
   "outputs": [
    {
     "name": "stdout",
     "output_type": "stream",
     "text": [
      "              precision    recall  f1-score   support\n",
      "\n",
      "           0       0.69      0.35      0.46       492\n",
      "           1       0.90      0.97      0.94      3037\n",
      "\n",
      "    accuracy                           0.89      3529\n",
      "   macro avg       0.79      0.66      0.70      3529\n",
      "weighted avg       0.87      0.89      0.87      3529\n",
      "\n"
     ]
    }
   ],
   "source": [
    "print(classification_report(df_val_10['no_acc'], preds10))"
   ]
  },
  {
   "cell_type": "markdown",
   "metadata": {},
   "source": [
    "No change in prediction"
   ]
  },
  {
   "cell_type": "code",
   "execution_count": 50,
   "metadata": {},
   "outputs": [],
   "source": [
    "df_val_10['proba_bank'] = lm_10.predict_proba(df_val_10[features10])[:, 1]\n",
    "\n",
    "fpr10, tpr10, thresholds10 = roc_curve(df_val_10['no_acc'],\n",
    "                                 df_val_10['proba_bank'])"
   ]
  },
  {
   "cell_type": "code",
   "execution_count": 51,
   "metadata": {},
   "outputs": [
    {
     "data": {
      "image/png": "[encoded data removed]",
      "text/plain": [
       "<Figure size 432x288 with 1 Axes>"
      ]
     },
     "metadata": {
      "needs_background": "light"
     },
     "output_type": "display_data"
    }
   ],
   "source": [
    "plot_roc(df_val_10['no_acc'], df_val_10['proba_bank'],fpr10,tpr10)"
   ]
  },
  {
   "cell_type": "markdown",
   "metadata": {},
   "source": [
    "#### Removing household size"
   ]
  },
  {
   "cell_type": "code",
   "execution_count": 52,
   "metadata": {},
   "outputs": [],
   "source": [
    "x_train_13 = x_train_10.drop(columns=['household_size'])\n",
    "\n",
    "df_val_13 = df_val_10.drop(columns=['household_size'])\n",
    "\n",
    "features13 = ['age_of_respondent','is_urban', 'cellphone',\n",
    "       'is_male', 'country_Rwanda', 'country_Tanzania', 'country_Uganda',\n",
    "       'relationship_with_head_Head of Household',\n",
    "       'relationship_with_head_Spouse', \n",
    "       'marital_status_Single/Never Married', 'marital_status_Widowed',\n",
    "       'education_level_Primary education',\n",
    "       'education_level_Secondary education',\n",
    "       'education_level_Tertiary education',\n",
    "       'education_level_Vocational/Specialised training',\n",
    "       'job_type_Formally employed Government',\n",
    "       'job_type_Formally employed Private', 'job_type_Government Dependent',\n",
    "       'job_type_Informally employed', 'job_type_No Income',\n",
    "       'job_type_Remittance Dependent','job_type_Other Income','job_type_Self employed']"
   ]
  },
  {
   "cell_type": "code",
   "execution_count": 53,
   "metadata": {},
   "outputs": [
    {
     "name": "stdout",
     "output_type": "stream",
     "text": [
      "Accuracy of logistic regression classifier on val set: 0.886\n"
     ]
    }
   ],
   "source": [
    "lm_13 = LogisticRegression(C=1e13,penalty='l1',solver='liblinear')\n",
    "lm_13.fit(x_train_13[features13], x_train_13['no_acc'])\n",
    "\n",
    "preds13 = lm_13.predict(df_val_13[features13])\n",
    "print('Accuracy of logistic regression classifier on val set: {:.3f}'.format(lm_13.score(\n",
    "    df_val_13[features13], df_val_13['no_acc'])))"
   ]
  },
  {
   "cell_type": "code",
   "execution_count": 54,
   "metadata": {},
   "outputs": [
    {
     "name": "stdout",
     "output_type": "stream",
     "text": [
      "Feature coefficient results: \n",
      "\n",
      "age_of_respondent : -0.013\n",
      "is_urban : -0.273\n",
      "cellphone : -1.636\n",
      "is_male : -0.462\n",
      "country_Rwanda : 0.336\n",
      "country_Tanzania : 1.274\n",
      "country_Uganda : 1.207\n",
      "relationship_with_head_Head of Household : -0.765\n",
      "relationship_with_head_Spouse : -0.550\n",
      "marital_status_Single/Never Married : 0.156\n",
      "marital_status_Widowed : -0.035\n",
      "education_level_Primary education : -0.763\n",
      "education_level_Secondary education : -1.764\n",
      "education_level_Tertiary education : -3.233\n",
      "education_level_Vocational/Specialised training : -2.775\n",
      "job_type_Formally employed Government : -1.614\n",
      "job_type_Formally employed Private : -1.730\n",
      "job_type_Government Dependent : -1.212\n",
      "job_type_Informally employed : 0.361\n",
      "job_type_No Income : 0.190\n",
      "job_type_Other Income : 0.203\n",
      "job_type_Remittance Dependent : -0.672\n",
      "job_type_Self employed : -0.462\n"
     ]
    }
   ],
   "source": [
    "print('Feature coefficient results: \\n')\n",
    "for feature, coef in zip(x_train_13.columns, lm_13.coef_.reshape(1, -1)[0]):\n",
    "        print(feature, ':', f'{coef:.3f}')"
   ]
  },
  {
   "cell_type": "code",
   "execution_count": 55,
   "metadata": {
    "scrolled": true
   },
   "outputs": [
    {
     "name": "stdout",
     "output_type": "stream",
     "text": [
      "Intercept: [5.60467835]\n"
     ]
    }
   ],
   "source": [
    "print('Intercept:', lm_13.intercept_)"
   ]
  },
  {
   "cell_type": "code",
   "execution_count": 56,
   "metadata": {},
   "outputs": [
    {
     "data": {
      "text/plain": [
       "array([[ 169,  323],\n",
       "       [  78, 2959]])"
      ]
     },
     "execution_count": 56,
     "metadata": {},
     "output_type": "execute_result"
    }
   ],
   "source": [
    "confusion_matrix(df_val_13['no_acc'], \n",
    "                 preds13)"
   ]
  },
  {
   "cell_type": "code",
   "execution_count": 57,
   "metadata": {},
   "outputs": [
    {
     "name": "stdout",
     "output_type": "stream",
     "text": [
      "              precision    recall  f1-score   support\n",
      "\n",
      "           0       0.68      0.34      0.46       492\n",
      "           1       0.90      0.97      0.94      3037\n",
      "\n",
      "    accuracy                           0.89      3529\n",
      "   macro avg       0.79      0.66      0.70      3529\n",
      "weighted avg       0.87      0.89      0.87      3529\n",
      "\n"
     ]
    }
   ],
   "source": [
    "print(classification_report(df_val_13['no_acc'], preds13))"
   ]
  },
  {
   "cell_type": "code",
   "execution_count": 58,
   "metadata": {},
   "outputs": [],
   "source": [
    "df_val_13['proba_bank'] = lm_13.predict_proba(df_val_13[features13])[:, 1]\n",
    "\n",
    "fpr13, tpr13, thresholds13 = roc_curve(df_val_13['no_acc'],\n",
    "                                 df_val_13['proba_bank'])"
   ]
  },
  {
   "cell_type": "code",
   "execution_count": 59,
   "metadata": {},
   "outputs": [],
   "source": [
    "df_val_13['preds'] = lm_13.predict(df_val_13[features13])\n",
    "df_check = df_val_13[(df_val_13['no_acc'] != df_val_13['preds']) & (df_val_13['proba_bank'] >= 0.65)]"
   ]
  },
  {
   "cell_type": "code",
   "execution_count": 60,
   "metadata": {},
   "outputs": [
    {
     "data": {
      "image/png": "[encoded data removed]",
      "text/plain": [
       "<Figure size 432x288 with 1 Axes>"
      ]
     },
     "metadata": {
      "needs_background": "light"
     },
     "output_type": "display_data"
    }
   ],
   "source": [
    "plot_roc(df_val_13['no_acc'], df_val_13['proba_bank'],fpr13,tpr13)\n",
    "#plt.savefig(\"roc13.svg\")"
   ]
  },
  {
   "cell_type": "code",
   "execution_count": 61,
   "metadata": {
    "scrolled": false
   },
   "outputs": [
    {
     "name": "stdout",
     "output_type": "stream",
     "text": [
      "Rwanda wrong: 0.372 \n",
      "Tanzania wrong: 0.242 \n",
      "Uganda wrong: 0.048 \n",
      "Kenya wrong: 0.338\n"
     ]
    }
   ],
   "source": [
    "rw_wrong = len(df_check[df_check['country_Rwanda']==1]) / len(df_check)\n",
    "tz_wrong = len(df_check[df_check['country_Tanzania']==1]) / len(df_check)\n",
    "ug_wrong = len(df_check[df_check['country_Uganda']==1]) / len(df_check)\n",
    "ke_wrong = 1 - rw_wrong - tz_wrong - ug_wrong\n",
    "print(\"Rwanda wrong: {:0.3f} \\nTanzania wrong: {:0.3f} \\nUganda wrong: {:0.3f} \\nKenya wrong: {:0.3f}\".format(rw_wrong,tz_wrong,ug_wrong,ke_wrong))"
   ]
  },
  {
   "cell_type": "markdown",
   "metadata": {},
   "source": [
    "The majority of the highly confident, incorrect predictions are in Rwanda (37%) and Kenya (33%). Review Tableau dashboard to identify common features linked to highly confident, false predictions."
   ]
  },
  {
   "cell_type": "code",
   "execution_count": 62,
   "metadata": {},
   "outputs": [
    {
     "data": {
      "image/png": "[encoded data removed]",
      "text/plain": [
       "<Figure size 1080x1080 with 2 Axes>"
      ]
     },
     "metadata": {
      "needs_background": "light"
     },
     "output_type": "display_data"
    }
   ],
   "source": [
    "fig, ax = plt.subplots(figsize=(15, 15))\n",
    "sns.heatmap(x_train_13.corr(), cmap=\"seismic\", vmin=-1, vmax=1, ax=ax);"
   ]
  },
  {
   "cell_type": "markdown",
   "metadata": {},
   "source": [
    "#### Oversampling with model 13 features"
   ]
  },
  {
   "cell_type": "code",
   "execution_count": 63,
   "metadata": {},
   "outputs": [],
   "source": [
    "from imblearn.over_sampling import RandomOverSampler\n",
    "ros = RandomOverSampler(random_state=0)\n",
    "X_resampled, y_resampled = ros.fit_sample(x_train_13[features13], x_train_13['no_acc'])"
   ]
  },
  {
   "cell_type": "code",
   "execution_count": 64,
   "metadata": {},
   "outputs": [
    {
     "data": {
      "text/plain": [
       "Counter({1: 12128, 0: 12128})"
      ]
     },
     "execution_count": 64,
     "metadata": {},
     "output_type": "execute_result"
    }
   ],
   "source": [
    "from collections import Counter\n",
    "Counter(y_resampled)"
   ]
  },
  {
   "cell_type": "code",
   "execution_count": 65,
   "metadata": {},
   "outputs": [
    {
     "name": "stdout",
     "output_type": "stream",
     "text": [
      "Accuracy of logistic regression classifier on val set: 0.791\n"
     ]
    }
   ],
   "source": [
    "lm_15 = LogisticRegression(C=1,penalty='l1',solver='liblinear')\n",
    "lm_15.fit(X_resampled[features13], y_resampled)\n",
    "\n",
    "preds15 = lm_15.predict(df_val_13[features13])\n",
    "print('Accuracy of logistic regression classifier on val set: {:.3f}'.format(lm_15.score(\n",
    "    df_val_13[features13], df_val_13['no_acc'])))"
   ]
  },
  {
   "cell_type": "code",
   "execution_count": 66,
   "metadata": {},
   "outputs": [
    {
     "name": "stdout",
     "output_type": "stream",
     "text": [
      "Feature coefficient results: \n",
      "\n",
      "age_of_respondent : -0.013\n",
      "is_urban : -0.226\n",
      "cellphone : -1.697\n",
      "is_male : -0.495\n",
      "country_Rwanda : 0.423\n",
      "country_Tanzania : 1.405\n",
      "country_Uganda : 1.406\n",
      "relationship_with_head_Head of Household : -0.661\n",
      "relationship_with_head_Spouse : -0.434\n",
      "marital_status_Single/Never Married : 0.184\n",
      "marital_status_Widowed : -0.106\n",
      "education_level_Primary education : -0.801\n",
      "education_level_Secondary education : -1.795\n",
      "education_level_Tertiary education : -3.255\n",
      "education_level_Vocational/Specialised training : -2.885\n",
      "job_type_Formally employed Government : -1.727\n",
      "job_type_Formally employed Private : -1.778\n",
      "job_type_Government Dependent : -1.439\n",
      "job_type_Informally employed : 0.334\n",
      "job_type_No Income : 0.138\n",
      "job_type_Remittance Dependent : 0.185\n",
      "job_type_Other Income : -0.682\n",
      "job_type_Self employed : -0.547\n"
     ]
    }
   ],
   "source": [
    "print('Feature coefficient results: \\n')\n",
    "for feature, coef in zip(X_resampled.columns, lm_15.coef_.reshape(1, -1)[0]):\n",
    "        print(feature, ':', f'{coef:.3f}')"
   ]
  },
  {
   "cell_type": "code",
   "execution_count": 67,
   "metadata": {},
   "outputs": [
    {
     "data": {
      "text/plain": [
       "array([[ 354,  138],\n",
       "       [ 601, 2436]])"
      ]
     },
     "execution_count": 67,
     "metadata": {},
     "output_type": "execute_result"
    }
   ],
   "source": [
    "confusion_matrix(df_val_13['no_acc'], \n",
    "                 preds15)"
   ]
  },
  {
   "cell_type": "code",
   "execution_count": 68,
   "metadata": {
    "scrolled": true
   },
   "outputs": [
    {
     "name": "stdout",
     "output_type": "stream",
     "text": [
      "              precision    recall  f1-score   support\n",
      "\n",
      "           0       0.37      0.72      0.49       492\n",
      "           1       0.95      0.80      0.87      3037\n",
      "\n",
      "    accuracy                           0.79      3529\n",
      "   macro avg       0.66      0.76      0.68      3529\n",
      "weighted avg       0.87      0.79      0.82      3529\n",
      "\n"
     ]
    }
   ],
   "source": [
    "print(classification_report(df_val_13['no_acc'], preds15))"
   ]
  },
  {
   "cell_type": "markdown",
   "metadata": {},
   "source": [
    "As expected, improved prediction of the minority class but worse prediction of the majority (positive) class. "
   ]
  },
  {
   "cell_type": "markdown",
   "metadata": {},
   "source": [
    "#### Removing widowed"
   ]
  },
  {
   "cell_type": "code",
   "execution_count": 69,
   "metadata": {},
   "outputs": [],
   "source": [
    "x_train_14 = x_train_13.drop(columns=['marital_status_Widowed'])\n",
    "\n",
    "df_val_14 = df_val_13.drop(columns=['marital_status_Widowed'])\n",
    "\n",
    "features14 = ['age_of_respondent','is_urban', 'cellphone',\n",
    "       'is_male', 'country_Rwanda', 'country_Tanzania', 'country_Uganda',\n",
    "       'relationship_with_head_Head of Household',\n",
    "       'relationship_with_head_Spouse', \n",
    "       'marital_status_Single/Never Married',\n",
    "       'education_level_Primary education',\n",
    "       'education_level_Secondary education',\n",
    "       'education_level_Tertiary education',\n",
    "       'education_level_Vocational/Specialised training',\n",
    "       'job_type_Formally employed Government',\n",
    "       'job_type_Formally employed Private', 'job_type_Government Dependent',\n",
    "       'job_type_Informally employed', 'job_type_No Income',\n",
    "       'job_type_Remittance Dependent','job_type_Other Income','job_type_Self employed']"
   ]
  },
  {
   "cell_type": "code",
   "execution_count": 70,
   "metadata": {},
   "outputs": [
    {
     "name": "stdout",
     "output_type": "stream",
     "text": [
      "Accuracy of logistic regression classifier on val set: 0.886\n"
     ]
    }
   ],
   "source": [
    "lm_14 = LogisticRegression(C=1e13,penalty='l1',solver='liblinear')\n",
    "lm_14.fit(x_train_14[features14], x_train_14['no_acc'])\n",
    "\n",
    "preds14 = lm_14.predict(df_val_14[features14])\n",
    "print('Accuracy of logistic regression classifier on val set: {:.3f}'.format(lm_14.score(\n",
    "    df_val_14[features14], df_val_14['no_acc'])))"
   ]
  },
  {
   "cell_type": "code",
   "execution_count": 71,
   "metadata": {},
   "outputs": [
    {
     "name": "stdout",
     "output_type": "stream",
     "text": [
      "Feature coefficient results: \n",
      "\n",
      "age_of_respondent : -0.013\n",
      "is_urban : -0.273\n",
      "cellphone : -1.632\n",
      "is_male : -0.453\n",
      "country_Rwanda : 0.335\n",
      "country_Tanzania : 1.273\n",
      "country_Uganda : 1.207\n",
      "relationship_with_head_Head of Household : -0.765\n",
      "relationship_with_head_Spouse : -0.539\n",
      "marital_status_Single/Never Married : 0.160\n",
      "education_level_Primary education : -0.760\n",
      "education_level_Secondary education : -1.760\n",
      "education_level_Tertiary education : -3.229\n",
      "education_level_Vocational/Specialised training : -2.771\n",
      "job_type_Formally employed Government : -1.612\n",
      "job_type_Formally employed Private : -1.728\n",
      "job_type_Government Dependent : -1.215\n",
      "job_type_Informally employed : 0.362\n",
      "job_type_No Income : 0.190\n",
      "job_type_Other Income : 0.203\n",
      "job_type_Remittance Dependent : -0.670\n",
      "job_type_Self employed : -0.461\n"
     ]
    }
   ],
   "source": [
    "print('Feature coefficient results: \\n')\n",
    "for feature, coef in zip(x_train_14.columns, lm_14.coef_.reshape(1, -1)[0]):\n",
    "        print(feature, ':', f'{coef:.3f}')"
   ]
  },
  {
   "cell_type": "code",
   "execution_count": 72,
   "metadata": {
    "scrolled": true
   },
   "outputs": [
    {
     "name": "stdout",
     "output_type": "stream",
     "text": [
      "Intercept: [5.59284262]\n"
     ]
    }
   ],
   "source": [
    "print('Intercept:', lm_14.intercept_)"
   ]
  },
  {
   "cell_type": "code",
   "execution_count": 73,
   "metadata": {},
   "outputs": [
    {
     "data": {
      "text/plain": [
       "array([[ 169,  323],\n",
       "       [  78, 2959]])"
      ]
     },
     "execution_count": 73,
     "metadata": {},
     "output_type": "execute_result"
    }
   ],
   "source": [
    "confusion_matrix(df_val_14['no_acc'], \n",
    "                 preds14)"
   ]
  },
  {
   "cell_type": "code",
   "execution_count": 74,
   "metadata": {},
   "outputs": [
    {
     "name": "stdout",
     "output_type": "stream",
     "text": [
      "              precision    recall  f1-score   support\n",
      "\n",
      "           0       0.68      0.34      0.46       492\n",
      "           1       0.90      0.97      0.94      3037\n",
      "\n",
      "    accuracy                           0.89      3529\n",
      "   macro avg       0.79      0.66      0.70      3529\n",
      "weighted avg       0.87      0.89      0.87      3529\n",
      "\n"
     ]
    }
   ],
   "source": [
    "print(classification_report(df_val_14['no_acc'], preds14))"
   ]
  },
  {
   "cell_type": "code",
   "execution_count": 75,
   "metadata": {},
   "outputs": [],
   "source": [
    "df_val_14['proba_bank'] = lm_14.predict_proba(df_val_14[features14])[:, 1]\n",
    "\n",
    "fpr14, tpr14, thresholds14 = roc_curve(df_val_14['no_acc'],\n",
    "                                 df_val_14['proba_bank'])"
   ]
  },
  {
   "cell_type": "code",
   "execution_count": 76,
   "metadata": {},
   "outputs": [],
   "source": [
    "df_val_14['preds'] = lm_14.predict(df_val_14[features14])\n",
    "df_check = df_val_14[(df_val_14['no_acc'] != df_val_14['preds']) & (df_val_14['proba_bank'] >= 0.65)]"
   ]
  },
  {
   "cell_type": "code",
   "execution_count": 77,
   "metadata": {},
   "outputs": [
    {
     "data": {
      "image/png": "[encoded data removed]",
      "text/plain": [
       "<Figure size 432x288 with 1 Axes>"
      ]
     },
     "metadata": {
      "needs_background": "light"
     },
     "output_type": "display_data"
    }
   ],
   "source": [
    "plot_roc(df_val_14['no_acc'], df_val_14['proba_bank'],fpr14,tpr14)\n",
    "#plt.savefig(\"roc14.svg\")"
   ]
  },
  {
   "cell_type": "markdown",
   "metadata": {},
   "source": [
    "#### Removing Tanzania"
   ]
  },
  {
   "cell_type": "code",
   "execution_count": 80,
   "metadata": {},
   "outputs": [],
   "source": [
    "x_train_16 = x_train_14.drop(columns=['country_Rwanda'])\n",
    "\n",
    "df_val_16 = df_val_14.drop(columns=['country_Rwanda'])\n",
    "\n",
    "features16 = ['age_of_respondent','is_urban', 'cellphone',\n",
    "       'is_male', 'country_Tanzania', 'country_Uganda',\n",
    "       'relationship_with_head_Head of Household',\n",
    "       'relationship_with_head_Spouse', \n",
    "       'education_level_Primary education',\n",
    "       'education_level_Secondary education',\n",
    "       'education_level_Tertiary education',\n",
    "       'education_level_Vocational/Specialised training',\n",
    "       'job_type_Formally employed Government',\n",
    "       'job_type_Formally employed Private', 'job_type_Government Dependent',\n",
    "       'job_type_Informally employed', 'job_type_No Income',\n",
    "       'job_type_Remittance Dependent','job_type_Other Income','job_type_Self employed']"
   ]
  },
  {
   "cell_type": "code",
   "execution_count": 81,
   "metadata": {
    "scrolled": true
   },
   "outputs": [
    {
     "name": "stdout",
     "output_type": "stream",
     "text": [
      "Accuracy of logistic regression classifier on val set: 0.887\n"
     ]
    }
   ],
   "source": [
    "lm_16 = LogisticRegression(C=1e13,penalty='l1',solver='liblinear')\n",
    "lm_16.fit(x_train_16[features16], x_train_16['no_acc'])\n",
    "\n",
    "preds16 = lm_16.predict(df_val_16[features16])\n",
    "print('Accuracy of logistic regression classifier on val set: {:.3f}'.format(lm_16.score(\n",
    "    df_val_16[features16], df_val_16['no_acc'])))"
   ]
  },
  {
   "cell_type": "code",
   "execution_count": 82,
   "metadata": {},
   "outputs": [
    {
     "name": "stdout",
     "output_type": "stream",
     "text": [
      "Feature coefficient results: \n",
      "\n",
      "age_of_respondent : -0.015\n",
      "is_urban : -0.314\n",
      "cellphone : -1.612\n",
      "is_male : -0.440\n",
      "country_Tanzania : 1.210\n",
      "country_Uganda : 1.050\n",
      "relationship_with_head_Head of Household : -0.857\n",
      "relationship_with_head_Spouse : -0.624\n",
      "marital_status_Single/Never Married : -0.783\n",
      "education_level_Primary education : -1.822\n",
      "education_level_Secondary education : -3.289\n",
      "education_level_Tertiary education : -2.873\n",
      "education_level_Vocational/Specialised training : -1.653\n",
      "job_type_Formally employed Government : -1.787\n",
      "job_type_Formally employed Private : -1.201\n",
      "job_type_Government Dependent : 0.337\n",
      "job_type_Informally employed : 0.166\n",
      "job_type_No Income : 0.149\n",
      "job_type_Other Income : -0.650\n",
      "job_type_Remittance Dependent : -0.515\n"
     ]
    }
   ],
   "source": [
    "print('Feature coefficient results: \\n')\n",
    "for feature, coef in zip(x_train_16.columns, lm_16.coef_.reshape(1, -1)[0]):\n",
    "        print(feature, ':', f'{coef:.3f}')"
   ]
  },
  {
   "cell_type": "code",
   "execution_count": 83,
   "metadata": {
    "scrolled": true
   },
   "outputs": [
    {
     "name": "stdout",
     "output_type": "stream",
     "text": [
      "Intercept: [5.99681894]\n"
     ]
    }
   ],
   "source": [
    "print('Intercept:', lm_16.intercept_)"
   ]
  },
  {
   "cell_type": "code",
   "execution_count": 84,
   "metadata": {},
   "outputs": [
    {
     "data": {
      "text/plain": [
       "array([[ 172,  320],\n",
       "       [  79, 2958]])"
      ]
     },
     "execution_count": 84,
     "metadata": {},
     "output_type": "execute_result"
    }
   ],
   "source": [
    "confusion_matrix(df_val_16['no_acc'], \n",
    "                 preds16)"
   ]
  },
  {
   "cell_type": "code",
   "execution_count": 85,
   "metadata": {
    "scrolled": true
   },
   "outputs": [
    {
     "name": "stdout",
     "output_type": "stream",
     "text": [
      "              precision    recall  f1-score   support\n",
      "\n",
      "           0       0.69      0.35      0.46       492\n",
      "           1       0.90      0.97      0.94      3037\n",
      "\n",
      "    accuracy                           0.89      3529\n",
      "   macro avg       0.79      0.66      0.70      3529\n",
      "weighted avg       0.87      0.89      0.87      3529\n",
      "\n"
     ]
    }
   ],
   "source": [
    "print(classification_report(df_val_16['no_acc'], preds16))"
   ]
  },
  {
   "cell_type": "code",
   "execution_count": 86,
   "metadata": {},
   "outputs": [],
   "source": [
    "df_val_16['proba_bank'] = lm_16.predict_proba(df_val_16[features16])[:, 1]\n",
    "\n",
    "fpr16, tpr16, thresholds16 = roc_curve(df_val_16['no_acc'],\n",
    "                                 df_val_16['proba_bank'])"
   ]
  },
  {
   "cell_type": "code",
   "execution_count": 87,
   "metadata": {},
   "outputs": [],
   "source": [
    "df_val_16['preds'] = lm_16.predict(df_val_16[features16])\n",
    "df_check = df_val_16[(df_val_16['no_acc'] != df_val_16['preds']) & (df_val_16['proba_bank'] >= 0.65)]"
   ]
  },
  {
   "cell_type": "code",
   "execution_count": 88,
   "metadata": {},
   "outputs": [
    {
     "data": {
      "image/png": "[encoded data removed]",
      "text/plain": [
       "<Figure size 432x288 with 1 Axes>"
      ]
     },
     "metadata": {
      "needs_background": "light"
     },
     "output_type": "display_data"
    }
   ],
   "source": [
    "plot_roc(df_val_16['no_acc'], df_val_16['proba_bank'],fpr16,tpr16)\n",
    "#plt.savefig(\"roc16.svg\")"
   ]
  },
  {
   "cell_type": "markdown",
   "metadata": {},
   "source": [
    "#### Removing Single"
   ]
  },
  {
   "cell_type": "code",
   "execution_count": 89,
   "metadata": {},
   "outputs": [],
   "source": [
    "x_train_15 = x_train_14.drop(columns=['marital_status_Single/Never Married'])\n",
    "\n",
    "df_val_15 = df_val_14.drop(columns=['marital_status_Single/Never Married'])\n",
    "\n",
    "features15 = ['age_of_respondent','is_urban', 'cellphone',\n",
    "       'is_male', 'country_Rwanda', 'country_Tanzania', 'country_Uganda',\n",
    "       'relationship_with_head_Head of Household',\n",
    "       'relationship_with_head_Spouse', \n",
    "       'education_level_Primary education',\n",
    "       'education_level_Secondary education',\n",
    "       'education_level_Tertiary education',\n",
    "       'education_level_Vocational/Specialised training',\n",
    "       'job_type_Formally employed Government',\n",
    "       'job_type_Formally employed Private', 'job_type_Government Dependent',\n",
    "       'job_type_Informally employed', 'job_type_No Income',\n",
    "       'job_type_Remittance Dependent','job_type_Other Income','job_type_Self employed']"
   ]
  },
  {
   "cell_type": "code",
   "execution_count": 90,
   "metadata": {
    "scrolled": true
   },
   "outputs": [
    {
     "name": "stdout",
     "output_type": "stream",
     "text": [
      "Accuracy of logistic regression classifier on val set: 0.887\n"
     ]
    }
   ],
   "source": [
    "lm_15 = LogisticRegression(C=1e13,penalty='l1',solver='liblinear')\n",
    "lm_15.fit(x_train_15[features15], x_train_15['no_acc'])\n",
    "\n",
    "preds15 = lm_15.predict(df_val_15[features15])\n",
    "print('Accuracy of logistic regression classifier on val set: {:.3f}'.format(lm_15.score(\n",
    "    df_val_15[features15], df_val_15['no_acc'])))"
   ]
  },
  {
   "cell_type": "code",
   "execution_count": 91,
   "metadata": {},
   "outputs": [
    {
     "name": "stdout",
     "output_type": "stream",
     "text": [
      "Feature coefficient results: \n",
      "\n",
      "age_of_respondent : -0.014\n",
      "is_urban : -0.257\n",
      "cellphone : -1.641\n",
      "is_male : -0.449\n",
      "country_Rwanda : 0.334\n",
      "country_Tanzania : 1.336\n",
      "country_Uganda : 1.200\n",
      "relationship_with_head_Head of Household : -0.825\n",
      "relationship_with_head_Spouse : -0.614\n",
      "education_level_Primary education : -0.759\n",
      "education_level_Secondary education : -1.757\n",
      "education_level_Tertiary education : -3.227\n",
      "education_level_Vocational/Specialised training : -2.768\n",
      "job_type_Formally employed Government : -1.610\n",
      "job_type_Formally employed Private : -1.721\n",
      "job_type_Government Dependent : -1.190\n",
      "job_type_Informally employed : 0.362\n",
      "job_type_No Income : 0.180\n",
      "job_type_Other Income : 0.218\n",
      "job_type_Remittance Dependent : -0.660\n",
      "job_type_Self employed : -0.457\n"
     ]
    }
   ],
   "source": [
    "print('Feature coefficient results: \\n')\n",
    "for feature, coef in zip(x_train_15.columns, lm_15.coef_.reshape(1, -1)[0]):\n",
    "        print(feature, ':', f'{coef:.3f}')"
   ]
  },
  {
   "cell_type": "code",
   "execution_count": 92,
   "metadata": {
    "scrolled": true
   },
   "outputs": [
    {
     "name": "stdout",
     "output_type": "stream",
     "text": [
      "Intercept: [5.71212789]\n"
     ]
    }
   ],
   "source": [
    "print('Intercept:', lm_15.intercept_)"
   ]
  },
  {
   "cell_type": "code",
   "execution_count": 93,
   "metadata": {},
   "outputs": [
    {
     "data": {
      "text/plain": [
       "array([[ 170,  322],\n",
       "       [  78, 2959]])"
      ]
     },
     "execution_count": 93,
     "metadata": {},
     "output_type": "execute_result"
    }
   ],
   "source": [
    "confusion_matrix(df_val_15['no_acc'], \n",
    "                 preds15)"
   ]
  },
  {
   "cell_type": "code",
   "execution_count": 94,
   "metadata": {
    "scrolled": true
   },
   "outputs": [
    {
     "name": "stdout",
     "output_type": "stream",
     "text": [
      "              precision    recall  f1-score   support\n",
      "\n",
      "           0       0.69      0.35      0.46       492\n",
      "           1       0.90      0.97      0.94      3037\n",
      "\n",
      "    accuracy                           0.89      3529\n",
      "   macro avg       0.79      0.66      0.70      3529\n",
      "weighted avg       0.87      0.89      0.87      3529\n",
      "\n"
     ]
    }
   ],
   "source": [
    "print(classification_report(df_val_15['no_acc'], preds15))"
   ]
  },
  {
   "cell_type": "code",
   "execution_count": 95,
   "metadata": {},
   "outputs": [],
   "source": [
    "df_val_15['proba_bank'] = lm_15.predict_proba(df_val_15[features15])[:, 1]\n",
    "\n",
    "fpr15, tpr15, thresholds15 = roc_curve(df_val_15['no_acc'],\n",
    "                                 df_val_15['proba_bank'])"
   ]
  },
  {
   "cell_type": "code",
   "execution_count": 96,
   "metadata": {},
   "outputs": [],
   "source": [
    "df_val_15['preds'] = lm_15.predict(df_val_15[features15])\n",
    "df_check = df_val_15[(df_val_15['no_acc'] != df_val_15['preds']) & (df_val_15['proba_bank'] >= 0.65)]"
   ]
  },
  {
   "cell_type": "code",
   "execution_count": 97,
   "metadata": {},
   "outputs": [
    {
     "data": {
      "image/png": "[encoded data removed]",
      "text/plain": [
       "<Figure size 432x288 with 1 Axes>"
      ]
     },
     "metadata": {
      "needs_background": "light"
     },
     "output_type": "display_data"
    }
   ],
   "source": [
    "plot_roc(df_val_15['no_acc'], df_val_15['proba_bank'],fpr15,tpr15)\n",
    "#plt.savefig(\"roc15.svg\")"
   ]
  },
  {
   "cell_type": "markdown",
   "metadata": {},
   "source": [
    "#### Removing Other income"
   ]
  },
  {
   "cell_type": "code",
   "execution_count": 98,
   "metadata": {},
   "outputs": [],
   "source": [
    "x_train_16 = x_train_15.drop(columns=['job_type_Other Income'])\n",
    "\n",
    "df_val_16 = df_val_15.drop(columns=['job_type_Other Income'])\n",
    "\n",
    "features16 = ['age_of_respondent','is_urban', 'cellphone',\n",
    "       'is_male', 'country_Tanzania','country_Rwanda', 'country_Uganda',\n",
    "       'relationship_with_head_Head of Household',\n",
    "       'relationship_with_head_Spouse', \n",
    "       'education_level_Primary education',\n",
    "       'education_level_Secondary education',\n",
    "       'education_level_Tertiary education',\n",
    "       'education_level_Vocational/Specialised training',\n",
    "       'job_type_Formally employed Government',\n",
    "       'job_type_Formally employed Private', 'job_type_Government Dependent',\n",
    "       'job_type_Informally employed', 'job_type_No Income',\n",
    "       'job_type_Remittance Dependent','job_type_Self employed']"
   ]
  },
  {
   "cell_type": "code",
   "execution_count": 99,
   "metadata": {
    "scrolled": true
   },
   "outputs": [
    {
     "name": "stdout",
     "output_type": "stream",
     "text": [
      "Accuracy of logistic regression classifier on val set: 0.887\n"
     ]
    }
   ],
   "source": [
    "lm_16 = LogisticRegression(C=1e13,penalty='l1',solver='liblinear')\n",
    "lm_16.fit(x_train_16[features16], x_train_16['no_acc'])\n",
    "\n",
    "preds16 = lm_16.predict(df_val_16[features16])\n",
    "print('Accuracy of logistic regression classifier on val set: {:.3f}'.format(lm_16.score(\n",
    "    df_val_16[features16], df_val_16['no_acc'])))"
   ]
  },
  {
   "cell_type": "code",
   "execution_count": 100,
   "metadata": {},
   "outputs": [
    {
     "name": "stdout",
     "output_type": "stream",
     "text": [
      "Feature coefficient results: \n",
      "\n",
      "age_of_respondent : -0.013\n",
      "is_urban : -0.312\n",
      "cellphone : -1.634\n",
      "is_male : -0.444\n",
      "country_Rwanda : 1.308\n",
      "country_Tanzania : 0.329\n",
      "country_Uganda : 1.023\n",
      "relationship_with_head_Head of Household : -0.816\n",
      "relationship_with_head_Spouse : -0.593\n",
      "education_level_Primary education : -0.764\n",
      "education_level_Secondary education : -1.773\n",
      "education_level_Tertiary education : -3.253\n",
      "education_level_Vocational/Specialised training : -2.788\n",
      "job_type_Formally employed Government : -1.482\n",
      "job_type_Formally employed Private : -1.566\n",
      "job_type_Government Dependent : -1.081\n",
      "job_type_Informally employed : 0.480\n",
      "job_type_No Income : 0.387\n",
      "job_type_Remittance Dependent : 0.351\n",
      "job_type_Self employed : -0.299\n"
     ]
    }
   ],
   "source": [
    "print('Feature coefficient results: \\n')\n",
    "for feature, coef in zip(x_train_16.columns, lm_16.coef_.reshape(1, -1)[0]):\n",
    "        print(feature, ':', f'{coef:.3f}')"
   ]
  },
  {
   "cell_type": "code",
   "execution_count": 101,
   "metadata": {
    "scrolled": true
   },
   "outputs": [
    {
     "name": "stdout",
     "output_type": "stream",
     "text": [
      "Intercept: [5.5994791]\n"
     ]
    }
   ],
   "source": [
    "print('Intercept:', lm_16.intercept_)"
   ]
  },
  {
   "cell_type": "code",
   "execution_count": 102,
   "metadata": {},
   "outputs": [
    {
     "data": {
      "text/plain": [
       "array([[ 170,  322],\n",
       "       [  78, 2959]])"
      ]
     },
     "execution_count": 102,
     "metadata": {},
     "output_type": "execute_result"
    }
   ],
   "source": [
    "confusion_matrix(df_val_16['no_acc'], \n",
    "                 preds16)"
   ]
  },
  {
   "cell_type": "code",
   "execution_count": 103,
   "metadata": {
    "scrolled": true
   },
   "outputs": [
    {
     "name": "stdout",
     "output_type": "stream",
     "text": [
      "              precision    recall  f1-score   support\n",
      "\n",
      "           0       0.69      0.35      0.46       492\n",
      "           1       0.90      0.97      0.94      3037\n",
      "\n",
      "    accuracy                           0.89      3529\n",
      "   macro avg       0.79      0.66      0.70      3529\n",
      "weighted avg       0.87      0.89      0.87      3529\n",
      "\n"
     ]
    }
   ],
   "source": [
    "print(classification_report(df_val_16['no_acc'], preds16))"
   ]
  },
  {
   "cell_type": "code",
   "execution_count": 104,
   "metadata": {},
   "outputs": [],
   "source": [
    "df_val_16['proba_bank'] = lm_16.predict_proba(df_val_16[features16])[:, 1]\n",
    "\n",
    "fpr16, tpr16, thresholds16 = roc_curve(df_val_16['no_acc'],\n",
    "                                 df_val_16['proba_bank'])"
   ]
  },
  {
   "cell_type": "code",
   "execution_count": 105,
   "metadata": {},
   "outputs": [],
   "source": [
    "df_val_16['preds'] = lm_16.predict(df_val_16[features16])\n",
    "df_check = df_val_16[(df_val_16['no_acc'] != df_val_16['preds']) & (df_val_16['proba_bank'] >= 0.65)]"
   ]
  },
  {
   "cell_type": "code",
   "execution_count": 106,
   "metadata": {},
   "outputs": [
    {
     "data": {
      "image/png": "[encoded data removed]",
      "text/plain": [
       "<Figure size 432x288 with 1 Axes>"
      ]
     },
     "metadata": {
      "needs_background": "light"
     },
     "output_type": "display_data"
    }
   ],
   "source": [
    "plot_roc(df_val_16['no_acc'], df_val_16['proba_bank'],fpr16,tpr16)\n",
    "#plt.savefig(\"roc16.svg\")"
   ]
  },
  {
   "cell_type": "markdown",
   "metadata": {},
   "source": [
    "#### Removing Age of respondent"
   ]
  },
  {
   "cell_type": "code",
   "execution_count": 107,
   "metadata": {},
   "outputs": [],
   "source": [
    "x_train_17 = x_train_16.drop(columns=['age_of_respondent'])\n",
    "\n",
    "df_val_17 = df_val_16.drop(columns=['age_of_respondent'])\n",
    "\n",
    "features17 = ['is_urban', 'cellphone',\n",
    "       'is_male', 'country_Tanzania','country_Rwanda', 'country_Uganda',\n",
    "       'relationship_with_head_Head of Household',\n",
    "       'relationship_with_head_Spouse', \n",
    "       'education_level_Primary education',\n",
    "       'education_level_Secondary education',\n",
    "       'education_level_Tertiary education',\n",
    "       'education_level_Vocational/Specialised training',\n",
    "       'job_type_Formally employed Government',\n",
    "       'job_type_Formally employed Private', 'job_type_Government Dependent',\n",
    "       'job_type_Informally employed', 'job_type_No Income',\n",
    "       'job_type_Remittance Dependent','job_type_Self employed']"
   ]
  },
  {
   "cell_type": "code",
   "execution_count": 108,
   "metadata": {
    "scrolled": true
   },
   "outputs": [
    {
     "name": "stdout",
     "output_type": "stream",
     "text": [
      "Accuracy of logistic regression classifier on val set: 0.882\n"
     ]
    }
   ],
   "source": [
    "lm_17 = LogisticRegression(C=1e13,penalty='l1',solver='liblinear')\n",
    "lm_17.fit(x_train_17[features17], x_train_17['no_acc'])\n",
    "\n",
    "preds17 = lm_17.predict(df_val_17[features17])\n",
    "print('Accuracy of logistic regression classifier on val set: {:.3f}'.format(lm_17.score(\n",
    "    df_val_17[features17], df_val_17['no_acc'])))"
   ]
  },
  {
   "cell_type": "code",
   "execution_count": 109,
   "metadata": {},
   "outputs": [
    {
     "name": "stdout",
     "output_type": "stream",
     "text": [
      "Feature coefficient results: \n",
      "\n",
      "is_urban : -0.301\n",
      "cellphone : -1.587\n",
      "is_male : -0.438\n",
      "country_Rwanda : 1.322\n",
      "country_Tanzania : 0.364\n",
      "country_Uganda : 1.096\n",
      "relationship_with_head_Head of Household : -1.034\n",
      "relationship_with_head_Spouse : -0.727\n",
      "education_level_Primary education : -0.655\n",
      "education_level_Secondary education : -1.622\n",
      "education_level_Tertiary education : -3.080\n",
      "education_level_Vocational/Specialised training : -2.655\n",
      "job_type_Formally employed Government : -1.426\n",
      "job_type_Formally employed Private : -1.481\n",
      "job_type_Government Dependent : -1.316\n",
      "job_type_Informally employed : 0.568\n",
      "job_type_No Income : 0.432\n",
      "job_type_Remittance Dependent : 0.410\n",
      "job_type_Self employed : -0.236\n"
     ]
    }
   ],
   "source": [
    "print('Feature coefficient results: \\n')\n",
    "for feature, coef in zip(x_train_17.columns, lm_17.coef_.reshape(1, -1)[0]):\n",
    "        print(feature, ':', f'{coef:.3f}')"
   ]
  },
  {
   "cell_type": "code",
   "execution_count": 110,
   "metadata": {
    "scrolled": true
   },
   "outputs": [
    {
     "name": "stdout",
     "output_type": "stream",
     "text": [
      "Intercept: [5.01124339]\n"
     ]
    }
   ],
   "source": [
    "print('Intercept:', lm_17.intercept_)"
   ]
  },
  {
   "cell_type": "code",
   "execution_count": 111,
   "metadata": {},
   "outputs": [
    {
     "data": {
      "text/plain": [
       "array([[ 160,  332],\n",
       "       [  84, 2953]])"
      ]
     },
     "execution_count": 111,
     "metadata": {},
     "output_type": "execute_result"
    }
   ],
   "source": [
    "confusion_matrix(df_val_17['no_acc'], \n",
    "                 preds17)"
   ]
  },
  {
   "cell_type": "code",
   "execution_count": 112,
   "metadata": {
    "scrolled": false
   },
   "outputs": [
    {
     "name": "stdout",
     "output_type": "stream",
     "text": [
      "              precision    recall  f1-score   support\n",
      "\n",
      "           0       0.66      0.33      0.43       492\n",
      "           1       0.90      0.97      0.93      3037\n",
      "\n",
      "    accuracy                           0.88      3529\n",
      "   macro avg       0.78      0.65      0.68      3529\n",
      "weighted avg       0.87      0.88      0.86      3529\n",
      "\n"
     ]
    }
   ],
   "source": [
    "print(classification_report(df_val_17['no_acc'], preds17))"
   ]
  },
  {
   "cell_type": "code",
   "execution_count": 113,
   "metadata": {},
   "outputs": [],
   "source": [
    "df_val_17['proba_bank'] = lm_17.predict_proba(df_val_17[features17])[:, 1]\n",
    "\n",
    "fpr17, tpr17, thresholds17 = roc_curve(df_val_17['no_acc'],\n",
    "                                 df_val_17['proba_bank'])"
   ]
  },
  {
   "cell_type": "code",
   "execution_count": 114,
   "metadata": {},
   "outputs": [],
   "source": [
    "df_val_17['preds'] = lm_17.predict(df_val_17[features17])\n",
    "df_check = df_val_17[(df_val_17['no_acc'] != df_val_17['preds']) & (df_val_17['proba_bank'] >= 0.65)]"
   ]
  },
  {
   "cell_type": "code",
   "execution_count": 115,
   "metadata": {},
   "outputs": [
    {
     "data": {
      "image/png": "[encoded data removed]",
      "text/plain": [
       "<Figure size 432x288 with 1 Axes>"
      ]
     },
     "metadata": {
      "needs_background": "light"
     },
     "output_type": "display_data"
    }
   ],
   "source": [
    "plot_roc(df_val_17['no_acc'], df_val_17['proba_bank'],fpr17,tpr17)\n",
    "#plt.savefig(\"roc17.svg\")"
   ]
  },
  {
   "cell_type": "code",
   "execution_count": 116,
   "metadata": {},
   "outputs": [
    {
     "data": {
      "image/png": "[encoded data removed]",
      "text/plain": [
       "<Figure size 1152x1152 with 2 Axes>"
      ]
     },
     "metadata": {
      "needs_background": "light"
     },
     "output_type": "display_data"
    }
   ],
   "source": [
    "fig, ax = plt.subplots(figsize=(16, 16))\n",
    "sns.heatmap(x_train_17.corr(), cmap=\"seismic\", vmin=-1, vmax=1, ax=ax);"
   ]
  },
  {
   "cell_type": "code",
   "execution_count": null,
   "metadata": {},
   "outputs": [],
   "source": []
  },
  {
   "cell_type": "markdown",
   "metadata": {},
   "source": [
    "# Testing the model on the test set\n",
    "\n",
    "Note the first analysis is based on the first multiple regression model above (including all features, no interactions)"
   ]
  },
  {
   "cell_type": "markdown",
   "metadata": {},
   "source": [
    "## 1. Preparing the test sample "
   ]
  },
  {
   "cell_type": "code",
   "execution_count": 117,
   "metadata": {},
   "outputs": [
    {
     "name": "stderr",
     "output_type": "stream",
     "text": [
      "<ipython-input-117-120e2e6065ba>:1: SettingWithCopyWarning: \n",
      "A value is trying to be set on a copy of a slice from a DataFrame.\n",
      "Try using .loc[row_indexer,col_indexer] = value instead\n",
      "\n",
      "See the caveats in the documentation: https://pandas.pydata.org/pandas-docs/stable/user_guide/indexing.html#returning-a-view-versus-a-copy\n",
      "  x_test['is_urban'] = np.where(x_test['location_type'] == 'Urban',1,0)\n",
      "<ipython-input-117-120e2e6065ba>:2: SettingWithCopyWarning: \n",
      "A value is trying to be set on a copy of a slice from a DataFrame.\n",
      "Try using .loc[row_indexer,col_indexer] = value instead\n",
      "\n",
      "See the caveats in the documentation: https://pandas.pydata.org/pandas-docs/stable/user_guide/indexing.html#returning-a-view-versus-a-copy\n",
      "  x_test['cellphone'] = np.where(x_test['cellphone_access'] == 'Yes',1,0)\n",
      "<ipython-input-117-120e2e6065ba>:3: SettingWithCopyWarning: \n",
      "A value is trying to be set on a copy of a slice from a DataFrame.\n",
      "Try using .loc[row_indexer,col_indexer] = value instead\n",
      "\n",
      "See the caveats in the documentation: https://pandas.pydata.org/pandas-docs/stable/user_guide/indexing.html#returning-a-view-versus-a-copy\n",
      "  x_test['is_male'] = np.where(x_test['gender_of_respondent'] == 'Male',1,0)\n"
     ]
    }
   ],
   "source": [
    "x_test['is_urban'] = np.where(x_test['location_type'] == 'Urban',1,0)\n",
    "x_test['cellphone'] = np.where(x_test['cellphone_access'] == 'Yes',1,0)\n",
    "x_test['is_male'] = np.where(x_test['gender_of_respondent'] == 'Male',1,0)"
   ]
  },
  {
   "cell_type": "code",
   "execution_count": 118,
   "metadata": {},
   "outputs": [],
   "source": [
    "x_test_cont = x_test[['year','household_size','age_of_respondent','is_urban','cellphone','is_male']]\n",
    "x_test_cat = x_test[['country','relationship_with_head', 'marital_status','education_level', 'job_type']]"
   ]
  },
  {
   "cell_type": "code",
   "execution_count": 119,
   "metadata": {},
   "outputs": [
    {
     "name": "stderr",
     "output_type": "stream",
     "text": [
      "/Users/tawneykirkland/opt/anaconda3/lib/python3.8/site-packages/pandas/core/indexing.py:670: SettingWithCopyWarning: \n",
      "A value is trying to be set on a copy of a slice from a DataFrame\n",
      "\n",
      "See the caveats in the documentation: https://pandas.pydata.org/pandas-docs/stable/user_guide/indexing.html#returning-a-view-versus-a-copy\n",
      "  iloc._setitem_with_indexer(indexer, value)\n",
      "<ipython-input-119-c58a8d9a8085>:1: SettingWithCopyWarning: \n",
      "A value is trying to be set on a copy of a slice from a DataFrame\n",
      "\n",
      "See the caveats in the documentation: https://pandas.pydata.org/pandas-docs/stable/user_guide/indexing.html#returning-a-view-versus-a-copy\n",
      "  x_test_cat.loc[x_test_cat['marital_status'] == 'Dont know', ['marital_status']] = 'Single/Never Married'\n",
      "<ipython-input-119-c58a8d9a8085>:2: SettingWithCopyWarning: \n",
      "A value is trying to be set on a copy of a slice from a DataFrame\n",
      "\n",
      "See the caveats in the documentation: https://pandas.pydata.org/pandas-docs/stable/user_guide/indexing.html#returning-a-view-versus-a-copy\n",
      "  x_test_cat.loc[x_test_cat['education_level'] == 'Other/Dont know/RTA', ['education_level']] = 'No formal education'\n",
      "<ipython-input-119-c58a8d9a8085>:3: SettingWithCopyWarning: \n",
      "A value is trying to be set on a copy of a slice from a DataFrame\n",
      "\n",
      "See the caveats in the documentation: https://pandas.pydata.org/pandas-docs/stable/user_guide/indexing.html#returning-a-view-versus-a-copy\n",
      "  x_test_cat.loc[x_test_cat['job_type'] == 'Dont Know/Refuse to answer', ['job_type']] = 'No Income'\n",
      "<ipython-input-119-c58a8d9a8085>:4: SettingWithCopyWarning: \n",
      "A value is trying to be set on a copy of a slice from a DataFrame\n",
      "\n",
      "See the caveats in the documentation: https://pandas.pydata.org/pandas-docs/stable/user_guide/indexing.html#returning-a-view-versus-a-copy\n",
      "  x_test_cat.loc[x_test_cat['relationship_with_head'] == 'Other non-relatives', ['relationship_with_head']] = 'Other relative'\n"
     ]
    }
   ],
   "source": [
    "x_test_cat.loc[x_test_cat['marital_status'] == 'Dont know', ['marital_status']] = 'Single/Never Married'\n",
    "x_test_cat.loc[x_test_cat['education_level'] == 'Other/Dont know/RTA', ['education_level']] = 'No formal education'\n",
    "x_test_cat.loc[x_test_cat['job_type'] == 'Dont Know/Refuse to answer', ['job_type']] = 'No Income'\n",
    "x_test_cat.loc[x_test_cat['relationship_with_head'] == 'Other non-relatives', ['relationship_with_head']] = 'Other relative'"
   ]
  },
  {
   "cell_type": "code",
   "execution_count": 120,
   "metadata": {},
   "outputs": [],
   "source": [
    "ohe = OneHotEncoder(drop='first', sparse=False)\n",
    "\n",
    "ohe.fit(x_test_cat)\n",
    "\n",
    "ohe_x_test = ohe.transform(x_test_cat)\n",
    "\n",
    "columns = ohe.get_feature_names(['country',\n",
    "                                 'relationship_with_head', \n",
    "                                 'marital_status',\n",
    "                                 'education_level', \n",
    "                                 'job_type'])\n",
    "\n",
    "ohe_x_test_df = pd.DataFrame(ohe_x_test, columns=columns, index=x_test.index)"
   ]
  },
  {
   "cell_type": "code",
   "execution_count": 121,
   "metadata": {},
   "outputs": [],
   "source": [
    "combo_test_df = pd.concat([x_test_cont, ohe_x_test_df], axis=1)"
   ]
  },
  {
   "cell_type": "code",
   "execution_count": 122,
   "metadata": {
    "scrolled": true
   },
   "outputs": [
    {
     "name": "stderr",
     "output_type": "stream",
     "text": [
      "<ipython-input-122-41dba9f5dd1c>:1: SettingWithCopyWarning: \n",
      "A value is trying to be set on a copy of a slice from a DataFrame.\n",
      "Try using .loc[row_indexer,col_indexer] = value instead\n",
      "\n",
      "See the caveats in the documentation: https://pandas.pydata.org/pandas-docs/stable/user_guide/indexing.html#returning-a-view-versus-a-copy\n",
      "  y_test['no_acc'] = np.where(y_test['bank_account'] == 'No', 1,0)\n",
      "/Users/tawneykirkland/opt/anaconda3/lib/python3.8/site-packages/pandas/core/frame.py:4163: SettingWithCopyWarning: \n",
      "A value is trying to be set on a copy of a slice from a DataFrame\n",
      "\n",
      "See the caveats in the documentation: https://pandas.pydata.org/pandas-docs/stable/user_guide/indexing.html#returning-a-view-versus-a-copy\n",
      "  return super().drop(\n"
     ]
    }
   ],
   "source": [
    "y_test['no_acc'] = np.where(y_test['bank_account'] == 'No', 1,0)\n",
    "y_test.drop(columns='bank_account',inplace=True)\n",
    "df_test = pd.concat([combo_test_df,y_test],axis=1)"
   ]
  },
  {
   "cell_type": "markdown",
   "metadata": {},
   "source": [
    "## 2. Testing the model on the test sample"
   ]
  },
  {
   "cell_type": "markdown",
   "metadata": {},
   "source": [
    "#### Model 1 - all features"
   ]
  },
  {
   "cell_type": "code",
   "execution_count": 123,
   "metadata": {},
   "outputs": [
    {
     "name": "stdout",
     "output_type": "stream",
     "text": [
      "Accuracy of logistic regression classifier on test set: 0.882\n"
     ]
    }
   ],
   "source": [
    "preds1_test = lm_2.predict(df_test[features])\n",
    "print('Accuracy of logistic regression classifier on test set: {:.3f}'.format(\n",
    "    lm_2.score(df_test[features], df_test['no_acc'])))"
   ]
  },
  {
   "cell_type": "code",
   "execution_count": 124,
   "metadata": {},
   "outputs": [
    {
     "data": {
      "text/plain": [
       "array([[ 291,  543],\n",
       "       [ 149, 4898]])"
      ]
     },
     "execution_count": 124,
     "metadata": {},
     "output_type": "execute_result"
    }
   ],
   "source": [
    "confusion_matrix(df_test['no_acc'], \n",
    "                 preds1_test)"
   ]
  },
  {
   "cell_type": "markdown",
   "metadata": {},
   "source": [
    "\n",
    "| | predict banked (0) | predict unbanked (1)|\n",
    "|---|---|---|\n",
    "| **is banked (0)** | 290 | 544|\n",
    "| **is UNbanked (1)** | 149 | 4898 |"
   ]
  },
  {
   "cell_type": "code",
   "execution_count": 125,
   "metadata": {},
   "outputs": [
    {
     "name": "stdout",
     "output_type": "stream",
     "text": [
      "              precision    recall  f1-score   support\n",
      "\n",
      "           0       0.66      0.35      0.46       834\n",
      "           1       0.90      0.97      0.93      5047\n",
      "\n",
      "    accuracy                           0.88      5881\n",
      "   macro avg       0.78      0.66      0.70      5881\n",
      "weighted avg       0.87      0.88      0.87      5881\n",
      "\n"
     ]
    }
   ],
   "source": [
    "print(classification_report(df_test['no_acc'], preds1_test))"
   ]
  },
  {
   "cell_type": "markdown",
   "metadata": {},
   "source": [
    "Consistent performance across validation and test"
   ]
  },
  {
   "cell_type": "markdown",
   "metadata": {},
   "source": [
    "#### Multiple regression with model 13"
   ]
  },
  {
   "cell_type": "code",
   "execution_count": 126,
   "metadata": {},
   "outputs": [],
   "source": [
    "df_test_17 = df_test.copy()"
   ]
  },
  {
   "cell_type": "code",
   "execution_count": 127,
   "metadata": {},
   "outputs": [
    {
     "name": "stdout",
     "output_type": "stream",
     "text": [
      "Accuracy of logistic regression classifier on test set: 0.881\n"
     ]
    }
   ],
   "source": [
    "preds17_test = lm_17.predict(df_test_17[features17])\n",
    "print('Accuracy of logistic regression classifier on test set: {:.3f}'.format(\n",
    "    lm_17.score(df_test_17[features17],df_test_17['no_acc'])))"
   ]
  },
  {
   "cell_type": "code",
   "execution_count": 128,
   "metadata": {
    "scrolled": false
   },
   "outputs": [
    {
     "data": {
      "text/plain": [
       "array([[ 284,  550],\n",
       "       [ 148, 4899]])"
      ]
     },
     "execution_count": 128,
     "metadata": {},
     "output_type": "execute_result"
    }
   ],
   "source": [
    "confusion_matrix(df_test_17['no_acc'], \n",
    "                 preds17_test)"
   ]
  },
  {
   "cell_type": "code",
   "execution_count": 129,
   "metadata": {},
   "outputs": [
    {
     "name": "stdout",
     "output_type": "stream",
     "text": [
      "              precision    recall  f1-score   support\n",
      "\n",
      "           0       0.66      0.34      0.45       834\n",
      "           1       0.90      0.97      0.93      5047\n",
      "\n",
      "    accuracy                           0.88      5881\n",
      "   macro avg       0.78      0.66      0.69      5881\n",
      "weighted avg       0.86      0.88      0.86      5881\n",
      "\n"
     ]
    }
   ],
   "source": [
    "print(classification_report(df_test_17['no_acc'], preds17_test))"
   ]
  },
  {
   "cell_type": "markdown",
   "metadata": {},
   "source": [
    "Model is broadly consistent across train - val - test"
   ]
  },
  {
   "cell_type": "code",
   "execution_count": 130,
   "metadata": {},
   "outputs": [],
   "source": [
    "df_test_17['proba_bank'] = lm_17.predict_proba(df_test_17[features17])[:, 1]\n",
    "\n",
    "fpr17_test, tpr17_test, thresholds17_test = roc_curve(df_test_17['no_acc'],\n",
    "                                 df_test_17['proba_bank'])"
   ]
  },
  {
   "cell_type": "code",
   "execution_count": 131,
   "metadata": {
    "scrolled": false
   },
   "outputs": [
    {
     "data": {
      "image/png": "[encoded data removed]",
      "text/plain": [
       "<Figure size 432x288 with 1 Axes>"
      ]
     },
     "metadata": {
      "needs_background": "light"
     },
     "output_type": "display_data"
    }
   ],
   "source": [
    "plot_roc(df_test_17['no_acc'], df_test_17['proba_bank'],fpr17_test,tpr17_test)"
   ]
  },
  {
   "cell_type": "markdown",
   "metadata": {},
   "source": [
    "With model 13 the AUC is 0.853"
   ]
  },
  {
   "cell_type": "code",
   "execution_count": 132,
   "metadata": {},
   "outputs": [],
   "source": [
    "df_test_17['preds'] = lm_17.predict(df_test_17[features17])"
   ]
  },
  {
   "cell_type": "code",
   "execution_count": 133,
   "metadata": {},
   "outputs": [],
   "source": [
    "final_test = pd.concat([df_test_17,x_test_cat],axis=1)"
   ]
  },
  {
   "cell_type": "code",
   "execution_count": 134,
   "metadata": {},
   "outputs": [],
   "source": [
    "# Send to csv for visualisation in Tableau\n",
    "#final_test.to_csv('test_preds.csv')"
   ]
  }
 ],
 "metadata": {
  "kernelspec": {
   "display_name": "Python 3",
   "language": "python",
   "name": "python3"
  },
  "language_info": {
   "codemirror_mode": {
    "name": "ipython",
    "version": 3
   },
   "file_extension": ".py",
   "mimetype": "text/x-python",
   "name": "python",
   "nbconvert_exporter": "python",
   "pygments_lexer": "ipython3",
   "version": "3.8.5"
  }
 },
 "nbformat": 4,
 "nbformat_minor": 4
}
