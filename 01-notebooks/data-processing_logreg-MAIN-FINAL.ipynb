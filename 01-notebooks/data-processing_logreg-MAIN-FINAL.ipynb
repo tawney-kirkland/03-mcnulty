{
 "cells": [
  {
   "cell_type": "code",
   "execution_count": 140,
   "metadata": {},
   "outputs": [],
   "source": [
    "import pandas as pd\n",
    "import numpy as np\n",
    "\n",
    "from sklearn.model_selection import train_test_split\n",
    "from sklearn.preprocessing import StandardScaler, PolynomialFeatures, OneHotEncoder\n",
    "from sklearn.linear_model import LogisticRegression\n",
    "from sklearn.metrics import auc,roc_auc_score, confusion_matrix, roc_curve, accuracy_score, precision_score, recall_score, f1_score, precision_recall_curve\n",
    "from sklearn.metrics import classification_report\n",
    "\n",
    "import seaborn as sns\n",
    "import matplotlib.pyplot as plt\n",
    "from matplotlib import pyplot\n",
    "\n",
    "import datetime as dt\n",
    "from datetime import datetime\n",
    "\n",
    "import statsmodels.api as sm\n",
    "import statsmodels.formula.api as smf\n",
    "\n",
    "from pandasql import sqldf\n",
    "\n",
    "from sklearn.compose import ColumnTransformer\n",
    "from sklearn.datasets import fetch_openml\n",
    "from sklearn.pipeline import Pipeline\n",
    "\n",
    "import sys\n",
    "np.set_printoptions(threshold=sys.maxsize)"
   ]
  },
  {
   "cell_type": "code",
   "execution_count": 173,
   "metadata": {},
   "outputs": [],
   "source": [
    "class LogReg:\n",
    "    \n",
    "    def __init__(self, train_x, train_y, features, val_x, val_y, dropped):\n",
    "        self.train_x = train_x\n",
    "        self.train_y = train_y\n",
    "        self.features = features\n",
    "        self.val_x = val_x\n",
    "        self.val_y = val_y\n",
    "        self.dropped = dropped\n",
    "        \n",
    "    def copy_drop(self, train_x, val_x, dropped=None): #drop isn't working - why?\n",
    "        self.train_x = train_x.drop(columns=self.dropped,inplace=True)\n",
    "        self.val_x = val_x.drop(columns=self.dropped,inplace=True)\n",
    "        self.dropped = dropped\n",
    "        \n",
    "    def fit_pred(self):\n",
    "        self.lm = LogisticRegression(C=1e13,penalty='l1',solver='liblinear')\n",
    "        self.lm_fit = self.lm.fit(self.train_x[self.features],self.train_y)\n",
    "        self.features = self.features\n",
    "        self.preds = self.lm.predict(self.val_x[self.features])\n",
    "        print('Accuracy of logistic regression classifier on val set: {:.2f}'.format(\n",
    "                                                                            self.lm.score(self.val_x[self.features], self.val_y)))\n",
    "    \n",
    "    def get_preds(self):\n",
    "        return self.preds    \n",
    "        \n",
    "    def get_coefs(self):\n",
    "        print('\\n','Feature coefficient results: \\n')\n",
    "        for feature, coef in zip(self.train_x[self.features].columns, self.lm.coef_.reshape(1, -1)[0]):\n",
    "            print(feature, ':', f'{coef:.3f}')\n",
    "            \n",
    "    def get_proba(self):\n",
    "        return self.lm.predict_proba(self.val_x[self.features])\n",
    "    \n",
    "    def conf_matrix(self):\n",
    "        print('\\n','Confusion matrix')\n",
    "        print(confusion_matrix(self.val_y, self.preds),'\\n')\n",
    "        print('Classification report')\n",
    "        print(classification_report(self.val_y, self.preds))\n",
    "            \n",
    "    def roc(self):\n",
    "        self.val_x['proba_bank'] = self.lm.predict_proba(self.val_x[self.features])[:, 1]\n",
    "        self.fpr, self.tpr, self.thresholds = roc_curve(self.val_y, self.val_x['proba_bank'])\n",
    "        self.auc = roc_auc_score(self.val_y, self.val_x['proba_bank'])\n",
    "        plt.plot(self.fpr, self.tpr, marker='o')\n",
    "        plt.xlabel('1 - Specificity (FPR)')\n",
    "        plt.ylabel('Sensitivity (TPR)');\n",
    "        plt.title(f\"Area Under the ROC Curve: {round(self.auc, 3)}\");   "
   ]
  },
  {
   "cell_type": "markdown",
   "metadata": {},
   "source": [
    "This is the final notebook for the  logistic regression analysis. Previous iterations are in the archive folder."
   ]
  },
  {
   "cell_type": "code",
   "execution_count": 142,
   "metadata": {},
   "outputs": [
    {
     "data": {
      "text/plain": [
       "(17643, 14)"
      ]
     },
     "execution_count": 142,
     "metadata": {},
     "output_type": "execute_result"
    }
   ],
   "source": [
    "df = pd.read_csv('/Users/tawneykirkland/GitStuff/03-mcnulty/04-data/data_clean.csv')\n",
    "df.shape"
   ]
  },
  {
   "cell_type": "code",
   "execution_count": 143,
   "metadata": {},
   "outputs": [],
   "source": [
    "x_tr_cont = df[['year','household_size','age_of_respondent','is_urban','cellphone','is_male']]\n",
    "x_tr_cat = df[['country','relationship_with_head', 'marital_status','education_level', 'job_type']]"
   ]
  },
  {
   "cell_type": "code",
   "execution_count": 144,
   "metadata": {},
   "outputs": [
    {
     "name": "stderr",
     "output_type": "stream",
     "text": [
      "/Users/tawneykirkland/opt/anaconda3/lib/python3.8/site-packages/pandas/core/indexing.py:670: SettingWithCopyWarning: \n",
      "A value is trying to be set on a copy of a slice from a DataFrame\n",
      "\n",
      "See the caveats in the documentation: https://pandas.pydata.org/pandas-docs/stable/user_guide/indexing.html#returning-a-view-versus-a-copy\n",
      "  iloc._setitem_with_indexer(indexer, value)\n",
      "<ipython-input-144-15d8e5817f18>:2: SettingWithCopyWarning: \n",
      "A value is trying to be set on a copy of a slice from a DataFrame\n",
      "\n",
      "See the caveats in the documentation: https://pandas.pydata.org/pandas-docs/stable/user_guide/indexing.html#returning-a-view-versus-a-copy\n",
      "  x_tr_cat.loc[df['marital_status'] == 'Dont know', ['marital_status']] = 'Single/Never Married'\n",
      "<ipython-input-144-15d8e5817f18>:3: SettingWithCopyWarning: \n",
      "A value is trying to be set on a copy of a slice from a DataFrame\n",
      "\n",
      "See the caveats in the documentation: https://pandas.pydata.org/pandas-docs/stable/user_guide/indexing.html#returning-a-view-versus-a-copy\n",
      "  x_tr_cat.loc[df['education_level'] == 'Other/Dont know/RTA', ['education_level']] = 'No formal education'\n",
      "<ipython-input-144-15d8e5817f18>:4: SettingWithCopyWarning: \n",
      "A value is trying to be set on a copy of a slice from a DataFrame\n",
      "\n",
      "See the caveats in the documentation: https://pandas.pydata.org/pandas-docs/stable/user_guide/indexing.html#returning-a-view-versus-a-copy\n",
      "  x_tr_cat.loc[df['job_type'] == 'Dont Know/Refuse to answer', ['job_type']] = 'No Income'\n",
      "<ipython-input-144-15d8e5817f18>:5: SettingWithCopyWarning: \n",
      "A value is trying to be set on a copy of a slice from a DataFrame\n",
      "\n",
      "See the caveats in the documentation: https://pandas.pydata.org/pandas-docs/stable/user_guide/indexing.html#returning-a-view-versus-a-copy\n",
      "  x_tr_cat.loc[df['relationship_with_head'] == 'Other non-relatives', ['relationship_with_head']] = 'Other relative'\n"
     ]
    }
   ],
   "source": [
    "# Regroup to reduce number of categories\n",
    "x_tr_cat.loc[df['marital_status'] == 'Dont know', ['marital_status']] = 'Single/Never Married'\n",
    "x_tr_cat.loc[df['education_level'] == 'Other/Dont know/RTA', ['education_level']] = 'No formal education'\n",
    "x_tr_cat.loc[df['job_type'] == 'Dont Know/Refuse to answer', ['job_type']] = 'No Income'\n",
    "x_tr_cat.loc[df['relationship_with_head'] == 'Other non-relatives', ['relationship_with_head']] = 'Other relative'"
   ]
  },
  {
   "cell_type": "code",
   "execution_count": 145,
   "metadata": {},
   "outputs": [],
   "source": [
    "df['no_acc'] = np.where(df['bank_account'] == 'No', 1,0)\n",
    "df.drop(columns='bank_account',inplace=True)"
   ]
  },
  {
   "cell_type": "code",
   "execution_count": 146,
   "metadata": {
    "scrolled": true
   },
   "outputs": [],
   "source": [
    "ohe = OneHotEncoder(drop='first', sparse=False)\n",
    "\n",
    "ohe.fit(x_tr_cat)\n",
    "\n",
    "ohe_x_train = ohe.transform(x_tr_cat)\n",
    "\n",
    "columns = ohe.get_feature_names(['country',\n",
    "                                 'relationship_with_head', \n",
    "                                 'marital_status',\n",
    "                                 'education_level', \n",
    "                                 'job_type'])\n",
    "\n",
    "ohe_x_tr_df = pd.DataFrame(ohe_x_train, columns=columns, index=df.index)"
   ]
  },
  {
   "cell_type": "code",
   "execution_count": 147,
   "metadata": {},
   "outputs": [],
   "source": [
    "combo_train_df = pd.concat([x_tr_cont, ohe_x_tr_df], axis=1)"
   ]
  },
  {
   "cell_type": "code",
   "execution_count": 148,
   "metadata": {},
   "outputs": [],
   "source": [
    "x_train, x_val, y_train, y_val = train_test_split(combo_train_df, df[['no_acc']], test_size=.20, random_state=11)"
   ]
  },
  {
   "cell_type": "code",
   "execution_count": 149,
   "metadata": {
    "scrolled": true
   },
   "outputs": [
    {
     "data": {
      "image/png": "[encoded data removed]",
      "text/plain": [
       "<Figure size 432x288 with 1 Axes>"
      ]
     },
     "metadata": {
      "needs_background": "light"
     },
     "output_type": "display_data"
    }
   ],
   "source": [
    "sns.countplot(x='no_acc', data=y_train)\n",
    "plt.title('Bank account holding status',family='arial',fontsize=16)\n",
    "plt.xlabel('Unbanked')\n",
    "plt.ylabel('Count')\n",
    "plt.show;"
   ]
  },
  {
   "cell_type": "code",
   "execution_count": 150,
   "metadata": {},
   "outputs": [
    {
     "name": "stdout",
     "output_type": "stream",
     "text": [
      "percentage of no account: 85.93\n",
      "percentage of account 14.07\n"
     ]
    }
   ],
   "source": [
    "count_no_acc = len(y_train[y_train['no_acc']==1])\n",
    "count_acc = len(y_train[y_train['no_acc']==0])\n",
    "pct_of_no_acc = count_no_acc/(count_no_acc+count_acc)\n",
    "print(\"percentage of no account:\", round(pct_of_no_acc*100,2))\n",
    "pct_of_acc = count_acc/(count_no_acc+count_acc)\n",
    "print(\"percentage of account\", round(pct_of_acc*100,2))"
   ]
  },
  {
   "cell_type": "markdown",
   "metadata": {},
   "source": [
    "Classes are __very imbalanced__ - investigate threshold, over and undersampling"
   ]
  },
  {
   "cell_type": "code",
   "execution_count": 151,
   "metadata": {},
   "outputs": [],
   "source": [
    "df_train = pd.concat([x_train,y_train],axis=1)\n",
    "df_val = pd.concat([x_val,y_val],axis=1)"
   ]
  },
  {
   "cell_type": "code",
   "execution_count": 152,
   "metadata": {},
   "outputs": [],
   "source": [
    "# Create dateframes to use for visualisations\n",
    "df_vis_cont = pd.concat([x_tr_cont,df['no_acc']],axis=1)\n",
    "df_vis_cat = pd.concat([ohe_x_tr_df, df['no_acc']],axis=1)"
   ]
  },
  {
   "cell_type": "code",
   "execution_count": 153,
   "metadata": {
    "scrolled": true
   },
   "outputs": [
    {
     "data": {
      "image/png": "[encoded data removed]",
      "text/plain": [
       "<Figure size 1080x1080 with 2 Axes>"
      ]
     },
     "metadata": {
      "needs_background": "light"
     },
     "output_type": "display_data"
    }
   ],
   "source": [
    "fig, ax = plt.subplots(figsize=(15, 15))\n",
    "sns.heatmap(df_train.corr(), cmap=\"seismic\", vmin=-1, vmax=1, ax=ax);"
   ]
  },
  {
   "cell_type": "markdown",
   "metadata": {},
   "source": [
    "Note that some of these features are correlated and should be removed during analysis below"
   ]
  },
  {
   "cell_type": "markdown",
   "metadata": {},
   "source": [
    "## Simple logistic regression\n",
    "\n",
    "Testing with a single variable: is_male"
   ]
  },
  {
   "cell_type": "code",
   "execution_count": 154,
   "metadata": {},
   "outputs": [
    {
     "name": "stdout",
     "output_type": "stream",
     "text": [
      "Optimization terminated successfully.\n",
      "         Current function value: 0.399382\n",
      "         Iterations 6\n"
     ]
    }
   ],
   "source": [
    "#Model on is_male first\n",
    "lm_1 = sm.Logit(df_train['no_acc'],  # with statsmodels, `y` comes first\n",
    "                sm.add_constant(df_train[['is_male']]))  # and then `x`\n",
    "lm_1 = lm_1.fit()"
   ]
  },
  {
   "cell_type": "code",
   "execution_count": 155,
   "metadata": {},
   "outputs": [
    {
     "data": {
      "text/html": [
       "<table class=\"simpletable\">\n",
       "<caption>Logit Regression Results</caption>\n",
       "<tr>\n",
       "  <th>Dep. Variable:</th>        <td>no_acc</td>      <th>  No. Observations:  </th>  <td> 14114</td>  \n",
       "</tr>\n",
       "<tr>\n",
       "  <th>Model:</th>                 <td>Logit</td>      <th>  Df Residuals:      </th>  <td> 14112</td>  \n",
       "</tr>\n",
       "<tr>\n",
       "  <th>Method:</th>                 <td>MLE</td>       <th>  Df Model:          </th>  <td>     1</td>  \n",
       "</tr>\n",
       "<tr>\n",
       "  <th>Date:</th>            <td>Sun, 20 Jun 2021</td> <th>  Pseudo R-squ.:     </th>  <td>0.01691</td> \n",
       "</tr>\n",
       "<tr>\n",
       "  <th>Time:</th>                <td>17:16:07</td>     <th>  Log-Likelihood:    </th> <td> -5636.9</td> \n",
       "</tr>\n",
       "<tr>\n",
       "  <th>converged:</th>             <td>True</td>       <th>  LL-Null:           </th> <td> -5733.9</td> \n",
       "</tr>\n",
       "<tr>\n",
       "  <th>Covariance Type:</th>     <td>nonrobust</td>    <th>  LLR p-value:       </th> <td>4.398e-44</td>\n",
       "</tr>\n",
       "</table>\n",
       "<table class=\"simpletable\">\n",
       "<tr>\n",
       "     <td></td>        <th>coef</th>     <th>std err</th>      <th>z</th>      <th>P>|z|</th>  <th>[0.025</th>    <th>0.975]</th>  \n",
       "</tr>\n",
       "<tr>\n",
       "  <th>const</th>   <td>    2.1251</td> <td>    0.035</td> <td>   60.055</td> <td> 0.000</td> <td>    2.056</td> <td>    2.194</td>\n",
       "</tr>\n",
       "<tr>\n",
       "  <th>is_male</th> <td>   -0.6779</td> <td>    0.049</td> <td>  -13.887</td> <td> 0.000</td> <td>   -0.774</td> <td>   -0.582</td>\n",
       "</tr>\n",
       "</table>"
      ],
      "text/plain": [
       "<class 'statsmodels.iolib.summary.Summary'>\n",
       "\"\"\"\n",
       "                           Logit Regression Results                           \n",
       "==============================================================================\n",
       "Dep. Variable:                 no_acc   No. Observations:                14114\n",
       "Model:                          Logit   Df Residuals:                    14112\n",
       "Method:                           MLE   Df Model:                            1\n",
       "Date:                Sun, 20 Jun 2021   Pseudo R-squ.:                 0.01691\n",
       "Time:                        17:16:07   Log-Likelihood:                -5636.9\n",
       "converged:                       True   LL-Null:                       -5733.9\n",
       "Covariance Type:            nonrobust   LLR p-value:                 4.398e-44\n",
       "==============================================================================\n",
       "                 coef    std err          z      P>|z|      [0.025      0.975]\n",
       "------------------------------------------------------------------------------\n",
       "const          2.1251      0.035     60.055      0.000       2.056       2.194\n",
       "is_male       -0.6779      0.049    -13.887      0.000      -0.774      -0.582\n",
       "==============================================================================\n",
       "\"\"\""
      ]
     },
     "execution_count": 155,
     "metadata": {},
     "output_type": "execute_result"
    }
   ],
   "source": [
    "lm_1.summary()"
   ]
  },
  {
   "cell_type": "code",
   "execution_count": 156,
   "metadata": {},
   "outputs": [
    {
     "data": {
      "text/plain": [
       "LogisticRegression(C=100000, solver='newton-cg')"
      ]
     },
     "execution_count": 156,
     "metadata": {},
     "output_type": "execute_result"
    }
   ],
   "source": [
    "lm_1 = LogisticRegression(solver='newton-cg',  # For comparison, use the same solver as statsmodels default\n",
    "                          C=100000)  # No regularization\n",
    "\n",
    "lm_1.fit(df_train[['is_male']], df_train['no_acc'])"
   ]
  },
  {
   "cell_type": "code",
   "execution_count": 157,
   "metadata": {},
   "outputs": [
    {
     "name": "stdout",
     "output_type": "stream",
     "text": [
      "intercept:  2.125\n",
      "is_male coef:  -0.678\n"
     ]
    }
   ],
   "source": [
    "print('intercept: ', round(lm_1.intercept_[0], 3))\n",
    "print('is_male coef: ', round(lm_1.coef_[0][0], 3))"
   ]
  },
  {
   "cell_type": "code",
   "execution_count": 158,
   "metadata": {},
   "outputs": [],
   "source": [
    "df_eval = df_val.copy()\n",
    "df_eval['pred'] = lm_1.predict(df_val[['is_male']])\n",
    "df_eval.loc[:, 'pred'] = df_eval['pred'].astype('category')\n",
    "df_eval['correct_pred'] = df_eval['pred'] == df_eval['no_acc']"
   ]
  },
  {
   "cell_type": "code",
   "execution_count": 159,
   "metadata": {},
   "outputs": [
    {
     "data": {
      "image/png": "[encoded data removed]",
      "text/plain": [
       "<Figure size 432x288 with 1 Axes>"
      ]
     },
     "metadata": {
      "needs_background": "light"
     },
     "output_type": "display_data"
    }
   ],
   "source": [
    "sns.stripplot(data=df_eval,\n",
    "              x='is_male',\n",
    "              y='pred',\n",
    "              hue='correct_pred',\n",
    "              palette={False: '#f03b20', True: '#3182bd'});"
   ]
  },
  {
   "cell_type": "code",
   "execution_count": 160,
   "metadata": {
    "scrolled": true
   },
   "outputs": [
    {
     "data": {
      "text/plain": [
       "array([[0.10668258, 0.89331742],\n",
       "       [0.19044297, 0.80955703],\n",
       "       [0.10668258, 0.89331742],\n",
       "       [0.10668258, 0.89331742],\n",
       "       [0.19044297, 0.80955703]])"
      ]
     },
     "execution_count": 160,
     "metadata": {},
     "output_type": "execute_result"
    }
   ],
   "source": [
    "lm_1.predict_proba(df_val[['is_male']])[:5]"
   ]
  },
  {
   "cell_type": "code",
   "execution_count": 161,
   "metadata": {},
   "outputs": [
    {
     "data": {
      "text/plain": [
       "array([[   0,  492],\n",
       "       [   0, 3037]])"
      ]
     },
     "execution_count": 161,
     "metadata": {},
     "output_type": "execute_result"
    }
   ],
   "source": [
    "confusion_matrix(df_eval['no_acc'], df_eval['pred'])"
   ]
  },
  {
   "cell_type": "markdown",
   "metadata": {},
   "source": [
    "\n",
    "| | predict No account (0) | predict account (1)|\n",
    "|---|---|---|\n",
    "| **is no account (0)** | 3037 | 0|\n",
    "| **is account (1)** | 492 | 0 |"
   ]
  },
  {
   "cell_type": "markdown",
   "metadata": {},
   "source": [
    "I believe it is predicting all no account because of the following:\n",
    "* Classes are very imbalanced (85:15 no account to account)\n",
    "* One variable alone may not be sufficient enough in this instance\n",
    "* Perhaps because is_male class is also imbalanced?"
   ]
  },
  {
   "cell_type": "markdown",
   "metadata": {},
   "source": [
    "## Multiple regression - all features\n",
    "The below analysis is a multiple logistic regression for all features "
   ]
  },
  {
   "cell_type": "code",
   "execution_count": 162,
   "metadata": {},
   "outputs": [],
   "source": [
    "features = ['household_size', 'age_of_respondent', 'is_urban', 'cellphone',\n",
    "       'is_male', 'country_Rwanda', 'country_Tanzania', 'country_Uganda',\n",
    "       'relationship_with_head_Head of Household',\n",
    "       'relationship_with_head_Other relative',\n",
    "       'relationship_with_head_Parent', 'relationship_with_head_Spouse',\n",
    "       'marital_status_Married/Living together',\n",
    "       'marital_status_Single/Never Married', 'marital_status_Widowed',\n",
    "       'education_level_Primary education',\n",
    "       'education_level_Secondary education',\n",
    "       'education_level_Tertiary education',\n",
    "       'education_level_Vocational/Specialised training',\n",
    "       'job_type_Formally employed Government',\n",
    "       'job_type_Formally employed Private', 'job_type_Government Dependent',\n",
    "       'job_type_Informally employed', 'job_type_No Income',\n",
    "       'job_type_Other Income', 'job_type_Remittance Dependent',\n",
    "       'job_type_Self employed']"
   ]
  },
  {
   "cell_type": "markdown",
   "metadata": {},
   "source": [
    "The below analysis includes all features. Thereafter the analyses remove insignificant features one by one."
   ]
  },
  {
   "cell_type": "code",
   "execution_count": 175,
   "metadata": {},
   "outputs": [
    {
     "name": "stderr",
     "output_type": "stream",
     "text": [
      "/Users/tawneykirkland/opt/anaconda3/lib/python3.8/site-packages/sklearn/utils/validation.py:72: DataConversionWarning: A column-vector y was passed when a 1d array was expected. Please change the shape of y to (n_samples, ), for example using ravel().\n",
      "  return f(**kwargs)\n"
     ]
    },
    {
     "name": "stdout",
     "output_type": "stream",
     "text": [
      "Accuracy of logistic regression classifier on val set: 0.89\n",
      "\n",
      " Feature coefficient results: \n",
      "\n",
      "household_size : -0.002\n",
      "age_of_respondent : -0.013\n",
      "is_urban : -0.272\n",
      "cellphone : -1.633\n",
      "is_male : -0.455\n",
      "country_Rwanda : 0.336\n",
      "country_Tanzania : 1.267\n",
      "country_Uganda : 1.214\n",
      "relationship_with_head_Head of Household : -0.800\n",
      "relationship_with_head_Other relative : -0.123\n",
      "relationship_with_head_Parent : -0.028\n",
      "relationship_with_head_Spouse : -0.573\n",
      "marital_status_Married/Living together : -0.036\n",
      "marital_status_Single/Never Married : 0.125\n",
      "marital_status_Widowed : -0.064\n",
      "education_level_Primary education : -0.761\n",
      "education_level_Secondary education : -1.764\n",
      "education_level_Tertiary education : -3.234\n",
      "education_level_Vocational/Specialised training : -2.774\n",
      "job_type_Formally employed Government : -1.615\n",
      "job_type_Formally employed Private : -1.725\n",
      "job_type_Government Dependent : -1.214\n",
      "job_type_Informally employed : 0.361\n",
      "job_type_No Income : 0.187\n",
      "job_type_Other Income : -0.673\n",
      "job_type_Remittance Dependent : 0.203\n",
      "job_type_Self employed : -0.463\n",
      "\n",
      " Confusion matrix\n",
      "[[ 168  324]\n",
      " [  79 2958]] \n",
      "\n",
      "Classification report\n",
      "              precision    recall  f1-score   support\n",
      "\n",
      "           0       0.68      0.34      0.45       492\n",
      "           1       0.90      0.97      0.94      3037\n",
      "\n",
      "    accuracy                           0.89      3529\n",
      "   macro avg       0.79      0.66      0.70      3529\n",
      "weighted avg       0.87      0.89      0.87      3529\n",
      "\n"
     ]
    },
    {
     "data": {
      "image/png": "[encoded data removed]",
      "text/plain": [
       "<Figure size 432x288 with 1 Axes>"
      ]
     },
     "metadata": {
      "needs_background": "light"
     },
     "output_type": "display_data"
    }
   ],
   "source": [
    "full = LogReg(train_x=x_train[features],train_y = y_train,features=features,val_x=x_val[features],val_y = y_val, dropped=None)\n",
    "\n",
    "full.fit_pred()\n",
    "\n",
    "full.get_coefs()\n",
    "\n",
    "df_val['preds'] = full.get_preds()\n",
    "\n",
    "full.conf_matrix()\n",
    "\n",
    "full.roc()"
   ]
  },
  {
   "cell_type": "markdown",
   "metadata": {},
   "source": [
    "The model should optimise for recall given the importance of identifying the unbanked and understanding the most important features linked to being unbanked. Therefore, the recall for the positive class is quite good. However, precision is comparatively low meaning that banked individuals are being classified as unbanked. \n",
    "\n",
    "Precision and recall for negative class are much lower - again because many banked are being classified as unbanked"
   ]
  },
  {
   "cell_type": "markdown",
   "metadata": {},
   "source": [
    "## Adjusting threshold"
   ]
  },
  {
   "cell_type": "code",
   "execution_count": 228,
   "metadata": {},
   "outputs": [
    {
     "name": "stdout",
     "output_type": "stream",
     "text": [
      "Confusion matrix\n",
      "[[ 168  324]\n",
      " [  79 2958]]\n"
     ]
    },
    {
     "name": "stderr",
     "output_type": "stream",
     "text": [
      "<ipython-input-228-d2c04af586f4>:8: SettingWithCopyWarning: \n",
      "A value is trying to be set on a copy of a slice from a DataFrame.\n",
      "Try using .loc[row_indexer,col_indexer] = value instead\n",
      "\n",
      "See the caveats in the documentation: https://pandas.pydata.org/pandas-docs/stable/user_guide/indexing.html#returning-a-view-versus-a-copy\n",
      "  x_val['preds'] = np.where((full.get_proba()[:, 0] > threshold),0,1)\n"
     ]
    },
    {
     "name": "stdout",
     "output_type": "stream",
     "text": [
      "\n",
      " Classification report\n",
      "              precision    recall  f1-score   support\n",
      "\n",
      "           0       0.72      0.30      0.43       492\n",
      "           1       0.90      0.98      0.94      3037\n",
      "\n",
      "    accuracy                           0.89      3529\n",
      "   macro avg       0.81      0.64      0.68      3529\n",
      "weighted avg       0.87      0.89      0.87      3529\n",
      "\n"
     ]
    }
   ],
   "source": [
    "threshold = .55\n",
    "y_pred = np.where((full.get_proba()[:, 0] > threshold),0,1)\n",
    "\n",
    "print('Confusion matrix')\n",
    "print(confusion_matrix(y_val, \n",
    "                 full.get_preds()))\n",
    "\n",
    "x_val['preds'] = np.where((full.get_proba()[:, 0] > threshold),0,1)\n",
    "df_comp = x_val[(y_val != x_val['preds']) & (x_val['household_size'] ==1)]\n",
    "\n",
    "print('\\n','Classification report')\n",
    "print(classification_report(y_val, x_val['preds']))"
   ]
  },
  {
   "cell_type": "markdown",
   "metadata": {},
   "source": [
    "As expected, improvement in prediction of the positive class but correct prediction of negative class (the banked population) declines"
   ]
  },
  {
   "cell_type": "markdown",
   "metadata": {},
   "source": [
    "## Multiple regression removing unused features"
   ]
  },
  {
   "cell_type": "markdown",
   "metadata": {},
   "source": [
    "### Removing parent and other relative"
   ]
  },
  {
   "cell_type": "code",
   "execution_count": 165,
   "metadata": {},
   "outputs": [],
   "source": [
    "features2 = ['age_of_respondent','household_size', 'is_urban', 'cellphone',\n",
    "       'is_male', 'country_Rwanda', 'country_Tanzania', 'country_Uganda',\n",
    "       'relationship_with_head_Head of Household',\n",
    "       'relationship_with_head_Spouse',\n",
    "       'marital_status_Married/Living together',\n",
    "       'marital_status_Single/Never Married', 'marital_status_Widowed',\n",
    "       'education_level_Primary education',\n",
    "       'education_level_Secondary education',\n",
    "       'education_level_Tertiary education',\n",
    "       'education_level_Vocational/Specialised training',\n",
    "       'job_type_Formally employed Government',\n",
    "       'job_type_Formally employed Private', 'job_type_Government Dependent',\n",
    "       'job_type_Informally employed', 'job_type_No Income',\n",
    "       'job_type_Remittance Dependent','job_type_Other Income','job_type_Self employed']"
   ]
  },
  {
   "cell_type": "code",
   "execution_count": 176,
   "metadata": {
    "scrolled": true
   },
   "outputs": [
    {
     "name": "stderr",
     "output_type": "stream",
     "text": [
      "/Users/tawneykirkland/opt/anaconda3/lib/python3.8/site-packages/sklearn/utils/validation.py:72: DataConversionWarning: A column-vector y was passed when a 1d array was expected. Please change the shape of y to (n_samples, ), for example using ravel().\n",
      "  return f(**kwargs)\n"
     ]
    },
    {
     "name": "stdout",
     "output_type": "stream",
     "text": [
      "Accuracy of logistic regression classifier on val set: 0.89\n",
      "\n",
      " Feature coefficient results: \n",
      "\n",
      "age_of_respondent : -0.013\n",
      "household_size : -0.001\n",
      "is_urban : -0.274\n",
      "cellphone : -1.632\n",
      "is_male : -0.456\n",
      "country_Rwanda : 0.337\n",
      "country_Tanzania : 1.264\n",
      "country_Uganda : 1.208\n",
      "relationship_with_head_Head of Household : -0.760\n",
      "relationship_with_head_Spouse : -0.535\n",
      "marital_status_Married/Living together : -0.035\n",
      "marital_status_Single/Never Married : 0.132\n",
      "marital_status_Widowed : -0.061\n",
      "education_level_Primary education : -0.762\n",
      "education_level_Secondary education : -1.763\n",
      "education_level_Tertiary education : -3.233\n",
      "education_level_Vocational/Specialised training : -2.774\n",
      "job_type_Formally employed Government : -1.614\n",
      "job_type_Formally employed Private : -1.730\n",
      "job_type_Government Dependent : -1.213\n",
      "job_type_Informally employed : 0.360\n",
      "job_type_No Income : 0.188\n",
      "job_type_Remittance Dependent : 0.203\n",
      "job_type_Other Income : -0.672\n",
      "job_type_Self employed : -0.462\n",
      "\n",
      " Confusion matrix\n",
      "[[ 169  323]\n",
      " [  78 2959]] \n",
      "\n",
      "Classification report\n",
      "              precision    recall  f1-score   support\n",
      "\n",
      "           0       0.68      0.34      0.46       492\n",
      "           1       0.90      0.97      0.94      3037\n",
      "\n",
      "    accuracy                           0.89      3529\n",
      "   macro avg       0.79      0.66      0.70      3529\n",
      "weighted avg       0.87      0.89      0.87      3529\n",
      "\n"
     ]
    },
    {
     "name": "stderr",
     "output_type": "stream",
     "text": [
      "<ipython-input-173-8a57167fe860>:42: SettingWithCopyWarning: \n",
      "A value is trying to be set on a copy of a slice from a DataFrame.\n",
      "Try using .loc[row_indexer,col_indexer] = value instead\n",
      "\n",
      "See the caveats in the documentation: https://pandas.pydata.org/pandas-docs/stable/user_guide/indexing.html#returning-a-view-versus-a-copy\n",
      "  self.val_x['proba_bank'] = self.lm.predict_proba(self.val_x[self.features])[:, 1]\n"
     ]
    },
    {
     "data": {
      "image/png": "[encoded data removed]",
      "text/plain": [
       "<Figure size 432x288 with 1 Axes>"
      ]
     },
     "metadata": {
      "needs_background": "light"
     },
     "output_type": "display_data"
    }
   ],
   "source": [
    "subset2 = LogReg(train_x=x_train[features2],train_y=y_train,features=features2,val_x=x_val[features2],val_y=y_val, dropped=['relationship_with_head_Other relative','relationship_with_head_Parent'])\n",
    "\n",
    "subset2.fit_pred()\n",
    "\n",
    "subset2.get_coefs()\n",
    "\n",
    "df_val['preds'] = subset2.get_preds()\n",
    "\n",
    "subset2.conf_matrix()\n",
    "\n",
    "subset2.roc()"
   ]
  },
  {
   "cell_type": "markdown",
   "metadata": {},
   "source": [
    "Very minor improvement in prediction of both positive and negative classes"
   ]
  },
  {
   "cell_type": "markdown",
   "metadata": {},
   "source": [
    "### Removing married / living together"
   ]
  },
  {
   "cell_type": "code",
   "execution_count": 177,
   "metadata": {},
   "outputs": [],
   "source": [
    "features3 = ['age_of_respondent','household_size', 'is_urban', 'cellphone',\n",
    "       'is_male', 'country_Rwanda', 'country_Tanzania', 'country_Uganda',\n",
    "       'relationship_with_head_Head of Household',\n",
    "       'relationship_with_head_Spouse',\n",
    "       'marital_status_Single/Never Married', 'marital_status_Widowed',\n",
    "       'education_level_Primary education',\n",
    "       'education_level_Secondary education',\n",
    "       'education_level_Tertiary education',\n",
    "       'education_level_Vocational/Specialised training',\n",
    "       'job_type_Formally employed Government',\n",
    "       'job_type_Formally employed Private', 'job_type_Government Dependent',\n",
    "       'job_type_Informally employed', 'job_type_No Income',\n",
    "       'job_type_Remittance Dependent','job_type_Other Income','job_type_Self employed']"
   ]
  },
  {
   "cell_type": "code",
   "execution_count": 178,
   "metadata": {},
   "outputs": [
    {
     "name": "stderr",
     "output_type": "stream",
     "text": [
      "/Users/tawneykirkland/opt/anaconda3/lib/python3.8/site-packages/sklearn/utils/validation.py:72: DataConversionWarning: A column-vector y was passed when a 1d array was expected. Please change the shape of y to (n_samples, ), for example using ravel().\n",
      "  return f(**kwargs)\n"
     ]
    },
    {
     "name": "stdout",
     "output_type": "stream",
     "text": [
      "Accuracy of logistic regression classifier on val set: 0.89\n",
      "\n",
      " Feature coefficient results: \n",
      "\n",
      "age_of_respondent : -0.013\n",
      "household_size : -0.002\n",
      "is_urban : -0.274\n",
      "cellphone : -1.635\n",
      "is_male : -0.460\n",
      "country_Rwanda : 0.337\n",
      "country_Tanzania : 1.272\n",
      "country_Uganda : 1.209\n",
      "relationship_with_head_Head of Household : -0.769\n",
      "relationship_with_head_Spouse : -0.551\n",
      "marital_status_Single/Never Married : 0.154\n",
      "marital_status_Widowed : -0.036\n",
      "education_level_Primary education : -0.763\n",
      "education_level_Secondary education : -1.764\n",
      "education_level_Tertiary education : -3.233\n",
      "education_level_Vocational/Specialised training : -2.776\n",
      "job_type_Formally employed Government : -1.614\n",
      "job_type_Formally employed Private : -1.730\n",
      "job_type_Government Dependent : -1.212\n",
      "job_type_Informally employed : 0.360\n",
      "job_type_No Income : 0.190\n",
      "job_type_Remittance Dependent : 0.203\n",
      "job_type_Other Income : -0.672\n",
      "job_type_Self employed : -0.462\n",
      "\n",
      " Confusion matrix\n",
      "[[ 170  322]\n",
      " [  78 2959]] \n",
      "\n",
      "Classification report\n",
      "              precision    recall  f1-score   support\n",
      "\n",
      "           0       0.69      0.35      0.46       492\n",
      "           1       0.90      0.97      0.94      3037\n",
      "\n",
      "    accuracy                           0.89      3529\n",
      "   macro avg       0.79      0.66      0.70      3529\n",
      "weighted avg       0.87      0.89      0.87      3529\n",
      "\n"
     ]
    },
    {
     "name": "stderr",
     "output_type": "stream",
     "text": [
      "<ipython-input-173-8a57167fe860>:42: SettingWithCopyWarning: \n",
      "A value is trying to be set on a copy of a slice from a DataFrame.\n",
      "Try using .loc[row_indexer,col_indexer] = value instead\n",
      "\n",
      "See the caveats in the documentation: https://pandas.pydata.org/pandas-docs/stable/user_guide/indexing.html#returning-a-view-versus-a-copy\n",
      "  self.val_x['proba_bank'] = self.lm.predict_proba(self.val_x[self.features])[:, 1]\n"
     ]
    },
    {
     "data": {
      "image/png": "[encoded data removed]",
      "text/plain": [
       "<Figure size 432x288 with 1 Axes>"
      ]
     },
     "metadata": {
      "needs_background": "light"
     },
     "output_type": "display_data"
    }
   ],
   "source": [
    "subset3 = LogReg(train_x=x_train[features3],train_y=y_train,features=features3,val_x=x_val[features3],val_y=y_val, dropped=['relationship_with_head_Other relative','relationship_with_head_Parent','marital_status_Married/Living together'])\n",
    "\n",
    "subset3.fit_pred()\n",
    "\n",
    "subset3.get_coefs()\n",
    "\n",
    "df_val['preds'] = subset3.get_preds()\n",
    "\n",
    "subset3.conf_matrix()\n",
    "\n",
    "subset3.roc()"
   ]
  },
  {
   "cell_type": "markdown",
   "metadata": {},
   "source": [
    "No change in prediction"
   ]
  },
  {
   "cell_type": "markdown",
   "metadata": {},
   "source": [
    "### Removing household size"
   ]
  },
  {
   "cell_type": "code",
   "execution_count": 179,
   "metadata": {},
   "outputs": [],
   "source": [
    "features4 = ['age_of_respondent','is_urban', 'cellphone',\n",
    "       'is_male', 'country_Rwanda', 'country_Tanzania', 'country_Uganda',\n",
    "       'relationship_with_head_Head of Household',\n",
    "       'relationship_with_head_Spouse', \n",
    "       'marital_status_Single/Never Married', 'marital_status_Widowed',\n",
    "       'education_level_Primary education',\n",
    "       'education_level_Secondary education',\n",
    "       'education_level_Tertiary education',\n",
    "       'education_level_Vocational/Specialised training',\n",
    "       'job_type_Formally employed Government',\n",
    "       'job_type_Formally employed Private', 'job_type_Government Dependent',\n",
    "       'job_type_Informally employed', 'job_type_No Income',\n",
    "       'job_type_Remittance Dependent','job_type_Other Income','job_type_Self employed']"
   ]
  },
  {
   "cell_type": "code",
   "execution_count": 180,
   "metadata": {},
   "outputs": [
    {
     "name": "stderr",
     "output_type": "stream",
     "text": [
      "/Users/tawneykirkland/opt/anaconda3/lib/python3.8/site-packages/sklearn/utils/validation.py:72: DataConversionWarning: A column-vector y was passed when a 1d array was expected. Please change the shape of y to (n_samples, ), for example using ravel().\n",
      "  return f(**kwargs)\n",
      "<ipython-input-173-8a57167fe860>:42: SettingWithCopyWarning: \n",
      "A value is trying to be set on a copy of a slice from a DataFrame.\n",
      "Try using .loc[row_indexer,col_indexer] = value instead\n",
      "\n",
      "See the caveats in the documentation: https://pandas.pydata.org/pandas-docs/stable/user_guide/indexing.html#returning-a-view-versus-a-copy\n",
      "  self.val_x['proba_bank'] = self.lm.predict_proba(self.val_x[self.features])[:, 1]\n"
     ]
    },
    {
     "name": "stdout",
     "output_type": "stream",
     "text": [
      "Accuracy of logistic regression classifier on val set: 0.89\n",
      "\n",
      " Feature coefficient results: \n",
      "\n",
      "age_of_respondent : -0.013\n",
      "is_urban : -0.273\n",
      "cellphone : -1.637\n",
      "is_male : -0.461\n",
      "country_Rwanda : 0.335\n",
      "country_Tanzania : 1.275\n",
      "country_Uganda : 1.207\n",
      "relationship_with_head_Head of Household : -0.766\n",
      "relationship_with_head_Spouse : -0.550\n",
      "marital_status_Single/Never Married : 0.155\n",
      "marital_status_Widowed : -0.035\n",
      "education_level_Primary education : -0.765\n",
      "education_level_Secondary education : -1.766\n",
      "education_level_Tertiary education : -3.234\n",
      "education_level_Vocational/Specialised training : -2.776\n",
      "job_type_Formally employed Government : -1.614\n",
      "job_type_Formally employed Private : -1.730\n",
      "job_type_Government Dependent : -1.212\n",
      "job_type_Informally employed : 0.360\n",
      "job_type_No Income : 0.189\n",
      "job_type_Remittance Dependent : 0.202\n",
      "job_type_Other Income : -0.672\n",
      "job_type_Self employed : -0.463\n",
      "\n",
      " Confusion matrix\n",
      "[[ 169  323]\n",
      " [  78 2959]] \n",
      "\n",
      "Classification report\n",
      "              precision    recall  f1-score   support\n",
      "\n",
      "           0       0.68      0.34      0.46       492\n",
      "           1       0.90      0.97      0.94      3037\n",
      "\n",
      "    accuracy                           0.89      3529\n",
      "   macro avg       0.79      0.66      0.70      3529\n",
      "weighted avg       0.87      0.89      0.87      3529\n",
      "\n"
     ]
    },
    {
     "data": {
      "image/png": "[encoded data removed]",
      "text/plain": [
       "<Figure size 432x288 with 1 Axes>"
      ]
     },
     "metadata": {
      "needs_background": "light"
     },
     "output_type": "display_data"
    }
   ],
   "source": [
    "subset4 = LogReg(train_x=x_train[features4],train_y=y_train,features=features4,val_x=x_val[features4],val_y=y_val, \n",
    "                 dropped=['relationship_with_head_Other relative','relationship_with_head_Parent','marital_status_Married/Living together','household_size'])\n",
    "\n",
    "subset4.fit_pred()\n",
    "\n",
    "subset4.get_coefs()\n",
    "\n",
    "df_val['preds'] = subset4.get_preds()\n",
    "\n",
    "subset4.conf_matrix()\n",
    "\n",
    "subset4.roc()"
   ]
  },
  {
   "cell_type": "markdown",
   "metadata": {},
   "source": [
    "### Oversampling with model 4 features"
   ]
  },
  {
   "cell_type": "code",
   "execution_count": 182,
   "metadata": {},
   "outputs": [],
   "source": [
    "from imblearn.over_sampling import RandomOverSampler\n",
    "ros = RandomOverSampler(random_state=0)\n",
    "X_resampled, y_resampled = ros.fit_sample(x_train[features4], y_train)"
   ]
  },
  {
   "cell_type": "code",
   "execution_count": 191,
   "metadata": {},
   "outputs": [
    {
     "name": "stderr",
     "output_type": "stream",
     "text": [
      "/Users/tawneykirkland/opt/anaconda3/lib/python3.8/site-packages/sklearn/utils/validation.py:72: DataConversionWarning: A column-vector y was passed when a 1d array was expected. Please change the shape of y to (n_samples, ), for example using ravel().\n",
      "  return f(**kwargs)\n"
     ]
    },
    {
     "name": "stdout",
     "output_type": "stream",
     "text": [
      "Accuracy of logistic regression classifier on val set: 0.791\n",
      "\n",
      " Feature coefficient results: \n",
      "\n",
      "age_of_respondent : -0.013\n",
      "is_urban : -0.226\n",
      "cellphone : -1.697\n",
      "is_male : -0.495\n",
      "country_Rwanda : 0.423\n",
      "country_Tanzania : 1.405\n",
      "country_Uganda : 1.406\n",
      "relationship_with_head_Head of Household : -0.661\n",
      "relationship_with_head_Spouse : -0.434\n",
      "marital_status_Single/Never Married : 0.184\n",
      "marital_status_Widowed : -0.106\n",
      "education_level_Primary education : -0.801\n",
      "education_level_Secondary education : -1.794\n",
      "education_level_Tertiary education : -3.254\n",
      "education_level_Vocational/Specialised training : -2.885\n",
      "job_type_Formally employed Government : -1.727\n",
      "job_type_Formally employed Private : -1.778\n",
      "job_type_Government Dependent : -1.439\n",
      "job_type_Informally employed : 0.334\n",
      "job_type_No Income : 0.138\n",
      "job_type_Remittance Dependent : 0.185\n",
      "job_type_Other Income : -0.682\n",
      "job_type_Self employed : -0.547\n",
      "\n",
      " Confusion matrix\n",
      "[[ 354  138]\n",
      " [ 601 2436]]\n",
      "\n",
      " Classification report\n",
      "              precision    recall  f1-score   support\n",
      "\n",
      "           0       0.37      0.72      0.49       492\n",
      "           1       0.95      0.80      0.87      3037\n",
      "\n",
      "    accuracy                           0.79      3529\n",
      "   macro avg       0.66      0.76      0.68      3529\n",
      "weighted avg       0.87      0.79      0.82      3529\n",
      "\n"
     ]
    }
   ],
   "source": [
    "from collections import Counter\n",
    "Counter(y_resampled)\n",
    "\n",
    "lm_os = LogisticRegression(C=1,penalty='l1',solver='liblinear')\n",
    "lm_os.fit(X_resampled[features4], y_resampled)\n",
    "\n",
    "preds_os = lm_os.predict(x_val[features4])\n",
    "print('Accuracy of logistic regression classifier on val set: {:.3f}'.format(lm_os.score(\n",
    "    x_val[features4], y_val)))\n",
    "\n",
    "print('\\n','Feature coefficient results: \\n')\n",
    "for feature, coef in zip(X_resampled.columns, lm_os.coef_.reshape(1, -1)[0]):\n",
    "        print(feature, ':', f'{coef:.3f}')\n",
    "        \n",
    "        \n",
    "print('\\n','Confusion matrix')\n",
    "print(confusion_matrix(y_val, \n",
    "                 preds_os))\n",
    "\n",
    "print('\\n','Classification report')\n",
    "print(classification_report(y_val, preds_os))"
   ]
  },
  {
   "cell_type": "markdown",
   "metadata": {},
   "source": [
    "As expected, improved prediction of the minority class but worse prediction of the majority (positive) class. "
   ]
  },
  {
   "cell_type": "markdown",
   "metadata": {},
   "source": [
    "### Removing widowed"
   ]
  },
  {
   "cell_type": "code",
   "execution_count": 192,
   "metadata": {},
   "outputs": [],
   "source": [
    "features5 = ['age_of_respondent','is_urban', 'cellphone',\n",
    "       'is_male', 'country_Rwanda', 'country_Tanzania', 'country_Uganda',\n",
    "       'relationship_with_head_Head of Household',\n",
    "       'relationship_with_head_Spouse', \n",
    "       'marital_status_Single/Never Married',\n",
    "       'education_level_Primary education',\n",
    "       'education_level_Secondary education',\n",
    "       'education_level_Tertiary education',\n",
    "       'education_level_Vocational/Specialised training',\n",
    "       'job_type_Formally employed Government',\n",
    "       'job_type_Formally employed Private', 'job_type_Government Dependent',\n",
    "       'job_type_Informally employed', 'job_type_No Income',\n",
    "       'job_type_Remittance Dependent','job_type_Other Income','job_type_Self employed']"
   ]
  },
  {
   "cell_type": "code",
   "execution_count": 193,
   "metadata": {},
   "outputs": [
    {
     "name": "stderr",
     "output_type": "stream",
     "text": [
      "/Users/tawneykirkland/opt/anaconda3/lib/python3.8/site-packages/sklearn/utils/validation.py:72: DataConversionWarning: A column-vector y was passed when a 1d array was expected. Please change the shape of y to (n_samples, ), for example using ravel().\n",
      "  return f(**kwargs)\n",
      "<ipython-input-173-8a57167fe860>:42: SettingWithCopyWarning: \n",
      "A value is trying to be set on a copy of a slice from a DataFrame.\n",
      "Try using .loc[row_indexer,col_indexer] = value instead\n",
      "\n",
      "See the caveats in the documentation: https://pandas.pydata.org/pandas-docs/stable/user_guide/indexing.html#returning-a-view-versus-a-copy\n",
      "  self.val_x['proba_bank'] = self.lm.predict_proba(self.val_x[self.features])[:, 1]\n"
     ]
    },
    {
     "name": "stdout",
     "output_type": "stream",
     "text": [
      "Accuracy of logistic regression classifier on val set: 0.89\n",
      "\n",
      " Feature coefficient results: \n",
      "\n",
      "age_of_respondent : -0.013\n",
      "is_urban : -0.273\n",
      "cellphone : -1.611\n",
      "is_male : -0.450\n",
      "country_Rwanda : 0.341\n",
      "country_Tanzania : 1.275\n",
      "country_Uganda : 1.212\n",
      "relationship_with_head_Head of Household : -0.757\n",
      "relationship_with_head_Spouse : -0.529\n",
      "marital_status_Single/Never Married : 0.165\n",
      "education_level_Primary education : -0.746\n",
      "education_level_Secondary education : -1.744\n",
      "education_level_Tertiary education : -3.213\n",
      "education_level_Vocational/Specialised training : -2.754\n",
      "job_type_Formally employed Government : -1.608\n",
      "job_type_Formally employed Private : -1.722\n",
      "job_type_Government Dependent : -1.211\n",
      "job_type_Informally employed : 0.368\n",
      "job_type_No Income : 0.197\n",
      "job_type_Remittance Dependent : 0.212\n",
      "job_type_Other Income : -0.666\n",
      "job_type_Self employed : -0.456\n",
      "\n",
      " Confusion matrix\n",
      "[[ 169  323]\n",
      " [  79 2958]] \n",
      "\n",
      "Classification report\n",
      "              precision    recall  f1-score   support\n",
      "\n",
      "           0       0.68      0.34      0.46       492\n",
      "           1       0.90      0.97      0.94      3037\n",
      "\n",
      "    accuracy                           0.89      3529\n",
      "   macro avg       0.79      0.66      0.70      3529\n",
      "weighted avg       0.87      0.89      0.87      3529\n",
      "\n"
     ]
    },
    {
     "data": {
      "image/png": "[encoded data removed]",
      "text/plain": [
       "<Figure size 432x288 with 1 Axes>"
      ]
     },
     "metadata": {
      "needs_background": "light"
     },
     "output_type": "display_data"
    }
   ],
   "source": [
    "subset5 = LogReg(train_x=x_train[features5],train_y=y_train,features=features5,val_x=x_val[features5],val_y=y_val, \n",
    "                 dropped=['relationship_with_head_Other relative','relationship_with_head_Parent',\n",
    "                          'marital_status_Married/Living together','household_size',\n",
    "                         'marital_status_Widowed'])\n",
    "\n",
    "subset5.fit_pred()\n",
    "\n",
    "subset5.get_coefs()\n",
    "\n",
    "df_val['preds'] = subset5.get_preds()\n",
    "\n",
    "subset5.conf_matrix()\n",
    "\n",
    "subset5.roc()"
   ]
  },
  {
   "cell_type": "markdown",
   "metadata": {},
   "source": [
    "### Removing Rwanda"
   ]
  },
  {
   "cell_type": "code",
   "execution_count": 194,
   "metadata": {},
   "outputs": [],
   "source": [
    "features6 = ['age_of_respondent','is_urban', 'cellphone',\n",
    "       'is_male', 'country_Tanzania', 'country_Uganda',\n",
    "       'relationship_with_head_Head of Household',\n",
    "       'relationship_with_head_Spouse', \n",
    "       'education_level_Primary education',\n",
    "       'education_level_Secondary education',\n",
    "       'education_level_Tertiary education',\n",
    "       'education_level_Vocational/Specialised training',\n",
    "       'job_type_Formally employed Government',\n",
    "       'job_type_Formally employed Private', 'job_type_Government Dependent',\n",
    "       'job_type_Informally employed', 'job_type_No Income',\n",
    "       'job_type_Remittance Dependent','job_type_Other Income','job_type_Self employed']"
   ]
  },
  {
   "cell_type": "code",
   "execution_count": 195,
   "metadata": {},
   "outputs": [
    {
     "name": "stderr",
     "output_type": "stream",
     "text": [
      "/Users/tawneykirkland/opt/anaconda3/lib/python3.8/site-packages/sklearn/utils/validation.py:72: DataConversionWarning: A column-vector y was passed when a 1d array was expected. Please change the shape of y to (n_samples, ), for example using ravel().\n",
      "  return f(**kwargs)\n",
      "<ipython-input-173-8a57167fe860>:42: SettingWithCopyWarning: \n",
      "A value is trying to be set on a copy of a slice from a DataFrame.\n",
      "Try using .loc[row_indexer,col_indexer] = value instead\n",
      "\n",
      "See the caveats in the documentation: https://pandas.pydata.org/pandas-docs/stable/user_guide/indexing.html#returning-a-view-versus-a-copy\n",
      "  self.val_x['proba_bank'] = self.lm.predict_proba(self.val_x[self.features])[:, 1]\n"
     ]
    },
    {
     "name": "stdout",
     "output_type": "stream",
     "text": [
      "Accuracy of logistic regression classifier on val set: 0.89\n",
      "\n",
      " Feature coefficient results: \n",
      "\n",
      "age_of_respondent : -0.015\n",
      "is_urban : -0.314\n",
      "cellphone : -1.620\n",
      "is_male : -0.441\n",
      "country_Tanzania : 1.210\n",
      "country_Uganda : 1.049\n",
      "relationship_with_head_Head of Household : -0.858\n",
      "relationship_with_head_Spouse : -0.625\n",
      "education_level_Primary education : -0.787\n",
      "education_level_Secondary education : -1.827\n",
      "education_level_Tertiary education : -3.294\n",
      "education_level_Vocational/Specialised training : -2.877\n",
      "job_type_Formally employed Government : -1.655\n",
      "job_type_Formally employed Private : -1.789\n",
      "job_type_Government Dependent : -1.203\n",
      "job_type_Informally employed : 0.335\n",
      "job_type_No Income : 0.164\n",
      "job_type_Remittance Dependent : 0.147\n",
      "job_type_Other Income : -0.652\n",
      "job_type_Self employed : -0.517\n",
      "\n",
      " Confusion matrix\n",
      "[[ 172  320]\n",
      " [  79 2958]] \n",
      "\n",
      "Classification report\n",
      "              precision    recall  f1-score   support\n",
      "\n",
      "           0       0.69      0.35      0.46       492\n",
      "           1       0.90      0.97      0.94      3037\n",
      "\n",
      "    accuracy                           0.89      3529\n",
      "   macro avg       0.79      0.66      0.70      3529\n",
      "weighted avg       0.87      0.89      0.87      3529\n",
      "\n"
     ]
    },
    {
     "data": {
      "image/png": "[encoded data removed]",
      "text/plain": [
       "<Figure size 432x288 with 1 Axes>"
      ]
     },
     "metadata": {
      "needs_background": "light"
     },
     "output_type": "display_data"
    }
   ],
   "source": [
    "subset6 = LogReg(train_x=x_train[features6],train_y=y_train,features=features6,val_x=x_val[features6],val_y=y_val, \n",
    "                 dropped=['relationship_with_head_Other relative','relationship_with_head_Parent',\n",
    "                          'marital_status_Married/Living together','household_size',\n",
    "                         'marital_status_Widowed','country_Rwanda'])\n",
    "\n",
    "subset6.fit_pred()\n",
    "\n",
    "subset6.get_coefs()\n",
    "\n",
    "df_val['preds'] = subset6.get_preds()\n",
    "\n",
    "subset6.conf_matrix()\n",
    "\n",
    "subset6.roc()"
   ]
  },
  {
   "cell_type": "markdown",
   "metadata": {},
   "source": [
    "### Removing Single"
   ]
  },
  {
   "cell_type": "code",
   "execution_count": 196,
   "metadata": {},
   "outputs": [],
   "source": [
    "features7 = ['age_of_respondent','is_urban', 'cellphone',\n",
    "       'is_male', 'country_Rwanda', 'country_Tanzania', 'country_Uganda',\n",
    "       'relationship_with_head_Head of Household',\n",
    "       'relationship_with_head_Spouse', \n",
    "       'education_level_Primary education',\n",
    "       'education_level_Secondary education',\n",
    "       'education_level_Tertiary education',\n",
    "       'education_level_Vocational/Specialised training',\n",
    "       'job_type_Formally employed Government',\n",
    "       'job_type_Formally employed Private', 'job_type_Government Dependent',\n",
    "       'job_type_Informally employed', 'job_type_No Income',\n",
    "       'job_type_Remittance Dependent','job_type_Other Income','job_type_Self employed']"
   ]
  },
  {
   "cell_type": "code",
   "execution_count": 197,
   "metadata": {},
   "outputs": [
    {
     "name": "stderr",
     "output_type": "stream",
     "text": [
      "/Users/tawneykirkland/opt/anaconda3/lib/python3.8/site-packages/sklearn/utils/validation.py:72: DataConversionWarning: A column-vector y was passed when a 1d array was expected. Please change the shape of y to (n_samples, ), for example using ravel().\n",
      "  return f(**kwargs)\n",
      "<ipython-input-173-8a57167fe860>:42: SettingWithCopyWarning: \n",
      "A value is trying to be set on a copy of a slice from a DataFrame.\n",
      "Try using .loc[row_indexer,col_indexer] = value instead\n",
      "\n",
      "See the caveats in the documentation: https://pandas.pydata.org/pandas-docs/stable/user_guide/indexing.html#returning-a-view-versus-a-copy\n",
      "  self.val_x['proba_bank'] = self.lm.predict_proba(self.val_x[self.features])[:, 1]\n"
     ]
    },
    {
     "name": "stdout",
     "output_type": "stream",
     "text": [
      "Accuracy of logistic regression classifier on val set: 0.89\n",
      "\n",
      " Feature coefficient results: \n",
      "\n",
      "age_of_respondent : -0.014\n",
      "is_urban : -0.257\n",
      "cellphone : -1.631\n",
      "is_male : -0.448\n",
      "country_Rwanda : 0.336\n",
      "country_Tanzania : 1.337\n",
      "country_Uganda : 1.201\n",
      "relationship_with_head_Head of Household : -0.823\n",
      "relationship_with_head_Spouse : -0.611\n",
      "education_level_Primary education : -0.754\n",
      "education_level_Secondary education : -1.751\n",
      "education_level_Tertiary education : -3.220\n",
      "education_level_Vocational/Specialised training : -2.762\n",
      "job_type_Formally employed Government : -1.608\n",
      "job_type_Formally employed Private : -1.718\n",
      "job_type_Government Dependent : -1.188\n",
      "job_type_Informally employed : 0.365\n",
      "job_type_No Income : 0.183\n",
      "job_type_Remittance Dependent : 0.222\n",
      "job_type_Other Income : -0.657\n",
      "job_type_Self employed : -0.455\n",
      "\n",
      " Confusion matrix\n",
      "[[ 170  322]\n",
      " [  78 2959]] \n",
      "\n",
      "Classification report\n",
      "              precision    recall  f1-score   support\n",
      "\n",
      "           0       0.69      0.35      0.46       492\n",
      "           1       0.90      0.97      0.94      3037\n",
      "\n",
      "    accuracy                           0.89      3529\n",
      "   macro avg       0.79      0.66      0.70      3529\n",
      "weighted avg       0.87      0.89      0.87      3529\n",
      "\n"
     ]
    },
    {
     "data": {
      "image/png": "[encoded data removed]",
      "text/plain": [
       "<Figure size 432x288 with 1 Axes>"
      ]
     },
     "metadata": {
      "needs_background": "light"
     },
     "output_type": "display_data"
    }
   ],
   "source": [
    "subset7 = LogReg(train_x=x_train[features7],train_y=y_train,features=features7,val_x=x_val[features7],val_y=y_val, \n",
    "                 dropped=['relationship_with_head_Other relative','relationship_with_head_Parent',\n",
    "                          'marital_status_Married/Living together','household_size',\n",
    "                         'marital_status_Widowed','marital_status_Single/Never Married'])\n",
    "\n",
    "subset7.fit_pred()\n",
    "\n",
    "subset7.get_coefs()\n",
    "\n",
    "df_val['preds'] = subset7.get_preds()\n",
    "\n",
    "subset7.conf_matrix()\n",
    "\n",
    "subset7.roc()"
   ]
  },
  {
   "cell_type": "markdown",
   "metadata": {},
   "source": [
    "### Removing Other income"
   ]
  },
  {
   "cell_type": "code",
   "execution_count": 205,
   "metadata": {},
   "outputs": [],
   "source": [
    "features8 = ['age_of_respondent','is_urban', 'cellphone',\n",
    "       'is_male', 'country_Tanzania','country_Rwanda', 'country_Uganda',\n",
    "       'relationship_with_head_Head of Household',\n",
    "       'relationship_with_head_Spouse', \n",
    "       'education_level_Primary education',\n",
    "       'education_level_Secondary education',\n",
    "       'education_level_Tertiary education',\n",
    "       'education_level_Vocational/Specialised training',\n",
    "       'job_type_Formally employed Government',\n",
    "       'job_type_Formally employed Private', 'job_type_Government Dependent',\n",
    "       'job_type_Informally employed', 'job_type_No Income',\n",
    "       'job_type_Remittance Dependent','job_type_Self employed']"
   ]
  },
  {
   "cell_type": "code",
   "execution_count": 206,
   "metadata": {},
   "outputs": [
    {
     "name": "stderr",
     "output_type": "stream",
     "text": [
      "/Users/tawneykirkland/opt/anaconda3/lib/python3.8/site-packages/sklearn/utils/validation.py:72: DataConversionWarning: A column-vector y was passed when a 1d array was expected. Please change the shape of y to (n_samples, ), for example using ravel().\n",
      "  return f(**kwargs)\n",
      "<ipython-input-173-8a57167fe860>:42: SettingWithCopyWarning: \n",
      "A value is trying to be set on a copy of a slice from a DataFrame.\n",
      "Try using .loc[row_indexer,col_indexer] = value instead\n",
      "\n",
      "See the caveats in the documentation: https://pandas.pydata.org/pandas-docs/stable/user_guide/indexing.html#returning-a-view-versus-a-copy\n",
      "  self.val_x['proba_bank'] = self.lm.predict_proba(self.val_x[self.features])[:, 1]\n"
     ]
    },
    {
     "name": "stdout",
     "output_type": "stream",
     "text": [
      "Accuracy of logistic regression classifier on val set: 0.89\n",
      "\n",
      " Feature coefficient results: \n",
      "\n",
      "age_of_respondent : -0.013\n",
      "is_urban : -0.313\n",
      "cellphone : -1.630\n",
      "is_male : -0.443\n",
      "country_Tanzania : 1.309\n",
      "country_Rwanda : 0.330\n",
      "country_Uganda : 1.024\n",
      "relationship_with_head_Head of Household : -0.815\n",
      "relationship_with_head_Spouse : -0.592\n",
      "education_level_Primary education : -0.761\n",
      "education_level_Secondary education : -1.768\n",
      "education_level_Tertiary education : -3.249\n",
      "education_level_Vocational/Specialised training : -2.784\n",
      "job_type_Formally employed Government : -1.481\n",
      "job_type_Formally employed Private : -1.565\n",
      "job_type_Government Dependent : -1.080\n",
      "job_type_Informally employed : 0.481\n",
      "job_type_No Income : 0.388\n",
      "job_type_Remittance Dependent : 0.352\n",
      "job_type_Self employed : -0.298\n",
      "\n",
      " Confusion matrix\n",
      "[[ 170  322]\n",
      " [  79 2958]] \n",
      "\n",
      "Classification report\n",
      "              precision    recall  f1-score   support\n",
      "\n",
      "           0       0.68      0.35      0.46       492\n",
      "           1       0.90      0.97      0.94      3037\n",
      "\n",
      "    accuracy                           0.89      3529\n",
      "   macro avg       0.79      0.66      0.70      3529\n",
      "weighted avg       0.87      0.89      0.87      3529\n",
      "\n"
     ]
    },
    {
     "data": {
      "image/png": "[encoded data removed]",
      "text/plain": [
       "<Figure size 432x288 with 1 Axes>"
      ]
     },
     "metadata": {
      "needs_background": "light"
     },
     "output_type": "display_data"
    }
   ],
   "source": [
    "subset8 = LogReg(train_x=x_train[features8],train_y=y_train,features=features8,val_x=x_val[features8],val_y=y_val, \n",
    "                 dropped=['relationship_with_head_Other relative','relationship_with_head_Parent',\n",
    "                          'marital_status_Married/Living together','household_size',\n",
    "                         'marital_status_Widowed','marital_status_Single/Never Married',\n",
    "                         'job_type_Other Income'])\n",
    "\n",
    "subset8.fit_pred()\n",
    "\n",
    "subset8.get_coefs()\n",
    "\n",
    "df_val['preds'] = subset8.get_preds()\n",
    "\n",
    "subset8.conf_matrix()\n",
    "\n",
    "subset8.roc()"
   ]
  },
  {
   "cell_type": "markdown",
   "metadata": {},
   "source": [
    "### Removing Age of respondent"
   ]
  },
  {
   "cell_type": "code",
   "execution_count": 207,
   "metadata": {},
   "outputs": [],
   "source": [
    "features9 = ['is_urban', 'cellphone',\n",
    "       'is_male', 'country_Tanzania','country_Rwanda', 'country_Uganda',\n",
    "       'relationship_with_head_Head of Household',\n",
    "       'relationship_with_head_Spouse', \n",
    "       'education_level_Primary education',\n",
    "       'education_level_Secondary education',\n",
    "       'education_level_Tertiary education',\n",
    "       'education_level_Vocational/Specialised training',\n",
    "       'job_type_Formally employed Government',\n",
    "       'job_type_Formally employed Private', 'job_type_Government Dependent',\n",
    "       'job_type_Informally employed', 'job_type_No Income',\n",
    "       'job_type_Remittance Dependent','job_type_Self employed']"
   ]
  },
  {
   "cell_type": "code",
   "execution_count": 208,
   "metadata": {},
   "outputs": [
    {
     "name": "stderr",
     "output_type": "stream",
     "text": [
      "/Users/tawneykirkland/opt/anaconda3/lib/python3.8/site-packages/sklearn/utils/validation.py:72: DataConversionWarning: A column-vector y was passed when a 1d array was expected. Please change the shape of y to (n_samples, ), for example using ravel().\n",
      "  return f(**kwargs)\n",
      "<ipython-input-173-8a57167fe860>:42: SettingWithCopyWarning: \n",
      "A value is trying to be set on a copy of a slice from a DataFrame.\n",
      "Try using .loc[row_indexer,col_indexer] = value instead\n",
      "\n",
      "See the caveats in the documentation: https://pandas.pydata.org/pandas-docs/stable/user_guide/indexing.html#returning-a-view-versus-a-copy\n",
      "  self.val_x['proba_bank'] = self.lm.predict_proba(self.val_x[self.features])[:, 1]\n"
     ]
    },
    {
     "name": "stdout",
     "output_type": "stream",
     "text": [
      "Accuracy of logistic regression classifier on val set: 0.88\n",
      "\n",
      " Feature coefficient results: \n",
      "\n",
      "is_urban : -0.301\n",
      "cellphone : -1.590\n",
      "is_male : -0.438\n",
      "country_Tanzania : 1.322\n",
      "country_Rwanda : 0.364\n",
      "country_Uganda : 1.096\n",
      "relationship_with_head_Head of Household : -1.035\n",
      "relationship_with_head_Spouse : -0.727\n",
      "education_level_Primary education : -0.657\n",
      "education_level_Secondary education : -1.624\n",
      "education_level_Tertiary education : -3.081\n",
      "education_level_Vocational/Specialised training : -2.656\n",
      "job_type_Formally employed Government : -1.426\n",
      "job_type_Formally employed Private : -1.481\n",
      "job_type_Government Dependent : -1.317\n",
      "job_type_Informally employed : 0.568\n",
      "job_type_No Income : 0.431\n",
      "job_type_Remittance Dependent : 0.409\n",
      "job_type_Self employed : -0.236\n",
      "\n",
      " Confusion matrix\n",
      "[[ 160  332]\n",
      " [  84 2953]] \n",
      "\n",
      "Classification report\n",
      "              precision    recall  f1-score   support\n",
      "\n",
      "           0       0.66      0.33      0.43       492\n",
      "           1       0.90      0.97      0.93      3037\n",
      "\n",
      "    accuracy                           0.88      3529\n",
      "   macro avg       0.78      0.65      0.68      3529\n",
      "weighted avg       0.87      0.88      0.86      3529\n",
      "\n"
     ]
    },
    {
     "data": {
      "image/png": "[encoded data removed]",
      "text/plain": [
       "<Figure size 432x288 with 1 Axes>"
      ]
     },
     "metadata": {
      "needs_background": "light"
     },
     "output_type": "display_data"
    }
   ],
   "source": [
    "subset9 = LogReg(train_x=x_train[features9],train_y=y_train,features=features9,val_x=x_val[features9],val_y=y_val, \n",
    "                 dropped=['relationship_with_head_Other relative','relationship_with_head_Parent',\n",
    "                          'marital_status_Married/Living together','household_size',\n",
    "                         'marital_status_Widowed','marital_status_Single/Never Married',\n",
    "                         'job_type_Other Income','age_of_respondent'])\n",
    "\n",
    "subset9.fit_pred()\n",
    "\n",
    "subset9.get_coefs()\n",
    "\n",
    "df_val['preds'] = subset9.get_preds()\n",
    "\n",
    "subset9.conf_matrix()\n",
    "\n",
    "subset9.roc()"
   ]
  },
  {
   "cell_type": "code",
   "execution_count": 209,
   "metadata": {},
   "outputs": [
    {
     "data": {
      "image/png": "[encoded data removed]",
      "text/plain": [
       "<Figure size 1152x1152 with 2 Axes>"
      ]
     },
     "metadata": {
      "needs_background": "light"
     },
     "output_type": "display_data"
    }
   ],
   "source": [
    "fig, ax = plt.subplots(figsize=(16, 16))\n",
    "sns.heatmap(subset9.train_x.corr(), cmap=\"seismic\", vmin=-1, vmax=1, ax=ax);"
   ]
  },
  {
   "cell_type": "markdown",
   "metadata": {},
   "source": [
    "# Testing the model on the test set\n",
    "\n",
    "Note the first analysis is based on the first multiple regression model above (including all features, no interactions)"
   ]
  },
  {
   "cell_type": "markdown",
   "metadata": {},
   "source": [
    "## 1. Preparing the test sample "
   ]
  },
  {
   "cell_type": "code",
   "execution_count": 220,
   "metadata": {},
   "outputs": [],
   "source": [
    "df_test = pd.read_csv('/Users/tawneykirkland/GitStuff/03-mcnulty/04-data/data_test_clean.csv')"
   ]
  },
  {
   "cell_type": "code",
   "execution_count": 221,
   "metadata": {},
   "outputs": [],
   "source": [
    "x_test_cont = df_test[['year','household_size','age_of_respondent','is_urban','cellphone','is_male']]\n",
    "x_test_cat = df_test[['country','relationship_with_head', 'marital_status','education_level', 'job_type']]\n",
    "\n",
    "y_test = df_test[['no_acc']]"
   ]
  },
  {
   "cell_type": "code",
   "execution_count": 222,
   "metadata": {},
   "outputs": [],
   "source": [
    "ohe = OneHotEncoder(drop='first', sparse=False)\n",
    "\n",
    "ohe.fit(x_test_cat)\n",
    "\n",
    "ohe_x_test = ohe.transform(x_test_cat)\n",
    "\n",
    "columns = ohe.get_feature_names(['country',\n",
    "                                 'relationship_with_head', \n",
    "                                 'marital_status',\n",
    "                                 'education_level', \n",
    "                                 'job_type'])\n",
    "\n",
    "ohe_x_test_df = pd.DataFrame(ohe_x_test, columns=columns, index=df_test.index)"
   ]
  },
  {
   "cell_type": "code",
   "execution_count": 223,
   "metadata": {},
   "outputs": [],
   "source": [
    "combo_test_df = pd.concat([x_test_cont, ohe_x_test_df], axis=1)"
   ]
  },
  {
   "cell_type": "code",
   "execution_count": 224,
   "metadata": {
    "scrolled": true
   },
   "outputs": [],
   "source": [
    "df_test = pd.concat([combo_test_df,y_test],axis=1)"
   ]
  },
  {
   "cell_type": "markdown",
   "metadata": {},
   "source": [
    "## 2. Testing the model on the test sample"
   ]
  },
  {
   "cell_type": "markdown",
   "metadata": {},
   "source": [
    "### Model 1 - all features"
   ]
  },
  {
   "cell_type": "code",
   "execution_count": 226,
   "metadata": {},
   "outputs": [
    {
     "ename": "TypeError",
     "evalue": "fit_pred() takes 1 positional argument but 2 were given",
     "output_type": "error",
     "traceback": [
      "\u001b[0;31m---------------------------------------------------------------------------\u001b[0m",
      "\u001b[0;31mTypeError\u001b[0m                                 Traceback (most recent call last)",
      "\u001b[0;32m<ipython-input-226-0e5a2f9cc967>\u001b[0m in \u001b[0;36m<module>\u001b[0;34m\u001b[0m\n\u001b[0;32m----> 1\u001b[0;31m \u001b[0mpreds1_test\u001b[0m \u001b[0;34m=\u001b[0m \u001b[0mfull\u001b[0m\u001b[0;34m.\u001b[0m\u001b[0mfit_pred\u001b[0m\u001b[0;34m(\u001b[0m\u001b[0mdf_test\u001b[0m\u001b[0;34m[\u001b[0m\u001b[0mfeatures\u001b[0m\u001b[0;34m]\u001b[0m\u001b[0;34m)\u001b[0m\u001b[0;34m\u001b[0m\u001b[0;34m\u001b[0m\u001b[0m\n\u001b[0m",
      "\u001b[0;31mTypeError\u001b[0m: fit_pred() takes 1 positional argument but 2 were given"
     ]
    }
   ],
   "source": [
    "preds1_test = full.fit_pred(df_test[features]) ## Need to rewrite to accept test dataframe"
   ]
  },
  {
   "cell_type": "code",
   "execution_count": 124,
   "metadata": {},
   "outputs": [
    {
     "data": {
      "text/plain": [
       "array([[ 291,  543],\n",
       "       [ 149, 4898]])"
      ]
     },
     "execution_count": 124,
     "metadata": {},
     "output_type": "execute_result"
    }
   ],
   "source": [
    "confusion_matrix(df_test['no_acc'], \n",
    "                 preds1_test)"
   ]
  },
  {
   "cell_type": "markdown",
   "metadata": {},
   "source": [
    "\n",
    "| | predict banked (0) | predict unbanked (1)|\n",
    "|---|---|---|\n",
    "| **is banked (0)** | 290 | 544|\n",
    "| **is UNbanked (1)** | 149 | 4898 |"
   ]
  },
  {
   "cell_type": "code",
   "execution_count": 125,
   "metadata": {},
   "outputs": [
    {
     "name": "stdout",
     "output_type": "stream",
     "text": [
      "              precision    recall  f1-score   support\n",
      "\n",
      "           0       0.66      0.35      0.46       834\n",
      "           1       0.90      0.97      0.93      5047\n",
      "\n",
      "    accuracy                           0.88      5881\n",
      "   macro avg       0.78      0.66      0.70      5881\n",
      "weighted avg       0.87      0.88      0.87      5881\n",
      "\n"
     ]
    }
   ],
   "source": [
    "print(classification_report(df_test['no_acc'], preds1_test))"
   ]
  },
  {
   "cell_type": "markdown",
   "metadata": {},
   "source": [
    "Consistent performance across validation and test"
   ]
  },
  {
   "cell_type": "markdown",
   "metadata": {},
   "source": [
    "#### Multiple regression with model 13"
   ]
  },
  {
   "cell_type": "code",
   "execution_count": 126,
   "metadata": {},
   "outputs": [],
   "source": [
    "df_test_17 = df_test.copy()"
   ]
  },
  {
   "cell_type": "code",
   "execution_count": 127,
   "metadata": {},
   "outputs": [
    {
     "name": "stdout",
     "output_type": "stream",
     "text": [
      "Accuracy of logistic regression classifier on test set: 0.881\n"
     ]
    }
   ],
   "source": [
    "preds17_test = lm_17.predict(df_test_17[features17])\n",
    "print('Accuracy of logistic regression classifier on test set: {:.3f}'.format(\n",
    "    lm_17.score(df_test_17[features17],df_test_17['no_acc'])))"
   ]
  },
  {
   "cell_type": "code",
   "execution_count": 128,
   "metadata": {
    "scrolled": false
   },
   "outputs": [
    {
     "data": {
      "text/plain": [
       "array([[ 284,  550],\n",
       "       [ 148, 4899]])"
      ]
     },
     "execution_count": 128,
     "metadata": {},
     "output_type": "execute_result"
    }
   ],
   "source": [
    "confusion_matrix(df_test_17['no_acc'], \n",
    "                 preds17_test)"
   ]
  },
  {
   "cell_type": "code",
   "execution_count": 129,
   "metadata": {},
   "outputs": [
    {
     "name": "stdout",
     "output_type": "stream",
     "text": [
      "              precision    recall  f1-score   support\n",
      "\n",
      "           0       0.66      0.34      0.45       834\n",
      "           1       0.90      0.97      0.93      5047\n",
      "\n",
      "    accuracy                           0.88      5881\n",
      "   macro avg       0.78      0.66      0.69      5881\n",
      "weighted avg       0.86      0.88      0.86      5881\n",
      "\n"
     ]
    }
   ],
   "source": [
    "print(classification_report(df_test_17['no_acc'], preds17_test))"
   ]
  },
  {
   "cell_type": "markdown",
   "metadata": {},
   "source": [
    "Model is broadly consistent across train - val - test"
   ]
  },
  {
   "cell_type": "code",
   "execution_count": 130,
   "metadata": {},
   "outputs": [],
   "source": [
    "df_test_17['proba_bank'] = lm_17.predict_proba(df_test_17[features17])[:, 1]\n",
    "\n",
    "fpr17_test, tpr17_test, thresholds17_test = roc_curve(df_test_17['no_acc'],\n",
    "                                 df_test_17['proba_bank'])"
   ]
  },
  {
   "cell_type": "code",
   "execution_count": 131,
   "metadata": {
    "scrolled": false
   },
   "outputs": [
    {
     "data": {
      "image/png": "[encoded data removed]",
      "text/plain": [
       "<Figure size 432x288 with 1 Axes>"
      ]
     },
     "metadata": {
      "needs_background": "light"
     },
     "output_type": "display_data"
    }
   ],
   "source": [
    "plot_roc(df_test_17['no_acc'], df_test_17['proba_bank'],fpr17_test,tpr17_test)"
   ]
  },
  {
   "cell_type": "markdown",
   "metadata": {},
   "source": [
    "With model 13 the AUC is 0.853"
   ]
  },
  {
   "cell_type": "code",
   "execution_count": 132,
   "metadata": {},
   "outputs": [],
   "source": [
    "df_test_17['preds'] = lm_17.predict(df_test_17[features17])"
   ]
  },
  {
   "cell_type": "code",
   "execution_count": 133,
   "metadata": {},
   "outputs": [],
   "source": [
    "final_test = pd.concat([df_test_17,x_test_cat],axis=1)"
   ]
  },
  {
   "cell_type": "code",
   "execution_count": 134,
   "metadata": {},
   "outputs": [],
   "source": [
    "# Send to csv for visualisation in Tableau\n",
    "#final_test.to_csv('test_preds.csv')"
   ]
  }
 ],
 "metadata": {
  "kernelspec": {
   "display_name": "Python 3",
   "language": "python",
   "name": "python3"
  },
  "language_info": {
   "codemirror_mode": {
    "name": "ipython",
    "version": 3
   },
   "file_extension": ".py",
   "mimetype": "text/x-python",
   "name": "python",
   "nbconvert_exporter": "python",
   "pygments_lexer": "ipython3",
   "version": "3.8.5"
  }
 },
 "nbformat": 4,
 "nbformat_minor": 4
}
