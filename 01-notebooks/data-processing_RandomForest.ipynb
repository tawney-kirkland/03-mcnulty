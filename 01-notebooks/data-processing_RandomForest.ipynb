{
 "cells": [
  {
   "cell_type": "code",
   "execution_count": 1,
   "metadata": {},
   "outputs": [],
   "source": [
    "import pandas as pd\n",
    "import numpy as np\n",
    "\n",
    "from sklearn.model_selection import train_test_split\n",
    "from sklearn.preprocessing import StandardScaler, PolynomialFeatures, OneHotEncoder\n",
    "from sklearn.ensemble import RandomForestClassifier\n",
    "from sklearn.metrics import auc,roc_auc_score, confusion_matrix, roc_curve, accuracy_score, precision_score, recall_score, f1_score, precision_recall_curve\n",
    "\n",
    "import seaborn as sns\n",
    "import matplotlib.pyplot as plt\n",
    "from matplotlib import pyplot\n",
    "\n",
    "import datetime as dt\n",
    "from datetime import datetime\n",
    "\n",
    "import statsmodels.api as sm\n",
    "import statsmodels.formula.api as smf\n",
    "\n",
    "from pandasql import sqldf\n",
    "\n",
    "from sklearn.compose import ColumnTransformer\n",
    "from sklearn.datasets import fetch_openml\n",
    "from sklearn.pipeline import Pipeline"
   ]
  },
  {
   "cell_type": "markdown",
   "metadata": {},
   "source": [
    "This is the final notebook for the  logistic regression analysis. Previous iterations are in the archive folder."
   ]
  },
  {
   "cell_type": "code",
   "execution_count": 2,
   "metadata": {},
   "outputs": [
    {
     "data": {
      "text/plain": [
       "(23524, 13)"
      ]
     },
     "execution_count": 2,
     "metadata": {},
     "output_type": "execute_result"
    }
   ],
   "source": [
    "df = pd.read_csv('/Users/tawneykirkland/GitStuff/03-mcnulty/04-data/data.csv')\n",
    "df.shape"
   ]
  },
  {
   "cell_type": "code",
   "execution_count": 3,
   "metadata": {},
   "outputs": [],
   "source": [
    "x = df[['country', 'year', 'uniqueid', 'location_type',\n",
    "       'cellphone_access', 'household_size', 'age_of_respondent',\n",
    "       'gender_of_respondent', 'relationship_with_head', 'marital_status',\n",
    "       'education_level', 'job_type']]\n",
    "\n",
    "\n",
    "y = df[['bank_account']]\n",
    "\n",
    "x_tr, x_test, y_tr, y_test = train_test_split(x, y,test_size=.25, random_state=12)"
   ]
  },
  {
   "cell_type": "code",
   "execution_count": 4,
   "metadata": {
    "scrolled": true
   },
   "outputs": [
    {
     "name": "stderr",
     "output_type": "stream",
     "text": [
      "<ipython-input-4-02e3f9e08314>:1: SettingWithCopyWarning: \n",
      "A value is trying to be set on a copy of a slice from a DataFrame.\n",
      "Try using .loc[row_indexer,col_indexer] = value instead\n",
      "\n",
      "See the caveats in the documentation: https://pandas.pydata.org/pandas-docs/stable/user_guide/indexing.html#returning-a-view-versus-a-copy\n",
      "  x_tr['is_urban'] = np.where(x_tr['location_type'] == 'Urban',1,0)\n",
      "<ipython-input-4-02e3f9e08314>:2: SettingWithCopyWarning: \n",
      "A value is trying to be set on a copy of a slice from a DataFrame.\n",
      "Try using .loc[row_indexer,col_indexer] = value instead\n",
      "\n",
      "See the caveats in the documentation: https://pandas.pydata.org/pandas-docs/stable/user_guide/indexing.html#returning-a-view-versus-a-copy\n",
      "  x_tr['cellphone'] = np.where(x_tr['cellphone_access'] == 'Yes',1,0)\n",
      "<ipython-input-4-02e3f9e08314>:3: SettingWithCopyWarning: \n",
      "A value is trying to be set on a copy of a slice from a DataFrame.\n",
      "Try using .loc[row_indexer,col_indexer] = value instead\n",
      "\n",
      "See the caveats in the documentation: https://pandas.pydata.org/pandas-docs/stable/user_guide/indexing.html#returning-a-view-versus-a-copy\n",
      "  x_tr['is_male'] = np.where(x_tr['gender_of_respondent'] == 'Male',1,0)\n"
     ]
    }
   ],
   "source": [
    "x_tr['is_urban'] = np.where(x_tr['location_type'] == 'Urban',1,0)\n",
    "x_tr['cellphone'] = np.where(x_tr['cellphone_access'] == 'Yes',1,0)\n",
    "x_tr['is_male'] = np.where(x_tr['gender_of_respondent'] == 'Male',1,0)"
   ]
  },
  {
   "cell_type": "code",
   "execution_count": 5,
   "metadata": {},
   "outputs": [],
   "source": [
    "x_tr_cont = x_tr[['year','household_size','age_of_respondent','is_urban','cellphone','is_male']]\n",
    "x_tr_cat = x_tr[['country','relationship_with_head', 'marital_status','education_level', 'job_type']]"
   ]
  },
  {
   "cell_type": "code",
   "execution_count": 6,
   "metadata": {},
   "outputs": [
    {
     "name": "stderr",
     "output_type": "stream",
     "text": [
      "/Users/tawneykirkland/opt/anaconda3/lib/python3.8/site-packages/pandas/core/indexing.py:670: SettingWithCopyWarning: \n",
      "A value is trying to be set on a copy of a slice from a DataFrame\n",
      "\n",
      "See the caveats in the documentation: https://pandas.pydata.org/pandas-docs/stable/user_guide/indexing.html#returning-a-view-versus-a-copy\n",
      "  iloc._setitem_with_indexer(indexer, value)\n",
      "<ipython-input-6-4a08e3cd5a34>:2: SettingWithCopyWarning: \n",
      "A value is trying to be set on a copy of a slice from a DataFrame\n",
      "\n",
      "See the caveats in the documentation: https://pandas.pydata.org/pandas-docs/stable/user_guide/indexing.html#returning-a-view-versus-a-copy\n",
      "  x_tr_cat.loc[x_tr['marital_status'] == 'Dont know', ['marital_status']] = 'Single/Never Married'\n",
      "<ipython-input-6-4a08e3cd5a34>:3: SettingWithCopyWarning: \n",
      "A value is trying to be set on a copy of a slice from a DataFrame\n",
      "\n",
      "See the caveats in the documentation: https://pandas.pydata.org/pandas-docs/stable/user_guide/indexing.html#returning-a-view-versus-a-copy\n",
      "  x_tr_cat.loc[x_tr['education_level'] == 'Other/Dont know/RTA', ['education_level']] = 'No formal education'\n",
      "<ipython-input-6-4a08e3cd5a34>:4: SettingWithCopyWarning: \n",
      "A value is trying to be set on a copy of a slice from a DataFrame\n",
      "\n",
      "See the caveats in the documentation: https://pandas.pydata.org/pandas-docs/stable/user_guide/indexing.html#returning-a-view-versus-a-copy\n",
      "  x_tr_cat.loc[x_tr['job_type'] == 'Dont Know/Refuse to answer', ['job_type']] = 'No Income'\n",
      "<ipython-input-6-4a08e3cd5a34>:5: SettingWithCopyWarning: \n",
      "A value is trying to be set on a copy of a slice from a DataFrame\n",
      "\n",
      "See the caveats in the documentation: https://pandas.pydata.org/pandas-docs/stable/user_guide/indexing.html#returning-a-view-versus-a-copy\n",
      "  x_tr_cat.loc[x_tr['relationship_with_head'] == 'Other non-relatives', ['relationship_with_head']] = 'Other relative'\n"
     ]
    }
   ],
   "source": [
    "# Regroup to reduce number of categories\n",
    "x_tr_cat.loc[x_tr['marital_status'] == 'Dont know', ['marital_status']] = 'Single/Never Married'\n",
    "x_tr_cat.loc[x_tr['education_level'] == 'Other/Dont know/RTA', ['education_level']] = 'No formal education'\n",
    "x_tr_cat.loc[x_tr['job_type'] == 'Dont Know/Refuse to answer', ['job_type']] = 'No Income'\n",
    "x_tr_cat.loc[x_tr['relationship_with_head'] == 'Other non-relatives', ['relationship_with_head']] = 'Other relative'"
   ]
  },
  {
   "cell_type": "code",
   "execution_count": 7,
   "metadata": {},
   "outputs": [
    {
     "name": "stderr",
     "output_type": "stream",
     "text": [
      "<ipython-input-7-dc6323112d16>:1: SettingWithCopyWarning: \n",
      "A value is trying to be set on a copy of a slice from a DataFrame.\n",
      "Try using .loc[row_indexer,col_indexer] = value instead\n",
      "\n",
      "See the caveats in the documentation: https://pandas.pydata.org/pandas-docs/stable/user_guide/indexing.html#returning-a-view-versus-a-copy\n",
      "  y_tr['no_acc'] = np.where(y_tr['bank_account'] == 'No', 1,0)\n",
      "/Users/tawneykirkland/opt/anaconda3/lib/python3.8/site-packages/pandas/core/frame.py:4163: SettingWithCopyWarning: \n",
      "A value is trying to be set on a copy of a slice from a DataFrame\n",
      "\n",
      "See the caveats in the documentation: https://pandas.pydata.org/pandas-docs/stable/user_guide/indexing.html#returning-a-view-versus-a-copy\n",
      "  return super().drop(\n"
     ]
    }
   ],
   "source": [
    "y_tr['no_acc'] = np.where(y_tr['bank_account'] == 'No', 1,0)\n",
    "y_tr.drop(columns='bank_account',inplace=True)"
   ]
  },
  {
   "cell_type": "code",
   "execution_count": 8,
   "metadata": {
    "scrolled": true
   },
   "outputs": [],
   "source": [
    "ohe = OneHotEncoder(drop='first', sparse=False)\n",
    "\n",
    "ohe.fit(x_tr_cat)\n",
    "\n",
    "ohe_x_train = ohe.transform(x_tr_cat)\n",
    "\n",
    "columns = ohe.get_feature_names(['country',\n",
    "                                 'relationship_with_head', \n",
    "                                 'marital_status',\n",
    "                                 'education_level', \n",
    "                                 'job_type'])\n",
    "\n",
    "ohe_x_tr_df = pd.DataFrame(ohe_x_train, columns=columns, index=x_tr.index)"
   ]
  },
  {
   "cell_type": "code",
   "execution_count": 9,
   "metadata": {},
   "outputs": [],
   "source": [
    "combo_train_df = pd.concat([x_tr_cont, ohe_x_tr_df], axis=1)"
   ]
  },
  {
   "cell_type": "code",
   "execution_count": 10,
   "metadata": {},
   "outputs": [],
   "source": [
    "x_train, x_val, y_train, y_val = train_test_split(combo_train_df, y_tr, test_size=.20, random_state=11)"
   ]
  },
  {
   "cell_type": "code",
   "execution_count": 11,
   "metadata": {
    "scrolled": true
   },
   "outputs": [
    {
     "data": {
      "image/png": "[encoded data removed]",
      "text/plain": [
       "<Figure size 432x288 with 1 Axes>"
      ]
     },
     "metadata": {
      "needs_background": "light"
     },
     "output_type": "display_data"
    }
   ],
   "source": [
    "sns.countplot(x='no_acc', data=y_train)\n",
    "plt.title('Bank account holding status',family='arial',fontsize=16)\n",
    "plt.xlabel('Unbanked')\n",
    "plt.ylabel('Count')\n",
    "plt.show;"
   ]
  },
  {
   "cell_type": "code",
   "execution_count": 12,
   "metadata": {},
   "outputs": [
    {
     "name": "stdout",
     "output_type": "stream",
     "text": [
      "percentage of no account: 85.93\n",
      "percentage of account 14.07\n"
     ]
    }
   ],
   "source": [
    "count_no_acc = len(y_train[y_train['no_acc']==1])\n",
    "count_acc = len(y_train[y_train['no_acc']==0])\n",
    "pct_of_no_acc = count_no_acc/(count_no_acc+count_acc)\n",
    "print(\"percentage of no account:\", round(pct_of_no_acc*100,2))\n",
    "pct_of_acc = count_acc/(count_no_acc+count_acc)\n",
    "print(\"percentage of account\", round(pct_of_acc*100,2))"
   ]
  },
  {
   "cell_type": "markdown",
   "metadata": {},
   "source": [
    "Classes are __very imbalanced__ - investigate threshold, over and undersampling"
   ]
  },
  {
   "cell_type": "code",
   "execution_count": 13,
   "metadata": {},
   "outputs": [],
   "source": [
    "df_train = pd.concat([x_train,y_train],axis=1)\n",
    "df_val = pd.concat([x_val,y_val],axis=1)"
   ]
  },
  {
   "cell_type": "code",
   "execution_count": 14,
   "metadata": {},
   "outputs": [],
   "source": [
    "# Create dateframes to use for visualisations\n",
    "df_vis_cont = pd.concat([x_tr_cont,y_tr],axis=1)\n",
    "df_vis_cat = pd.concat([ohe_x_tr_df,y_tr],axis=1)"
   ]
  },
  {
   "cell_type": "code",
   "execution_count": 15,
   "metadata": {
    "scrolled": true
   },
   "outputs": [
    {
     "data": {
      "image/png": "[encoded data removed]",
      "text/plain": [
       "<Figure size 1080x1080 with 2 Axes>"
      ]
     },
     "metadata": {
      "needs_background": "light"
     },
     "output_type": "display_data"
    }
   ],
   "source": [
    "fig, ax = plt.subplots(figsize=(15, 15))\n",
    "sns.heatmap(df_train.corr(), cmap=\"seismic\", vmin=-1, vmax=1, ax=ax);"
   ]
  },
  {
   "cell_type": "markdown",
   "metadata": {},
   "source": [
    "Note that some of these features are correlated and should be removed during analysis below"
   ]
  },
  {
   "cell_type": "markdown",
   "metadata": {},
   "source": [
    "## Random Forest classifier"
   ]
  },
  {
   "cell_type": "code",
   "execution_count": 16,
   "metadata": {},
   "outputs": [],
   "source": [
    "clf = RandomForestClassifier(n_estimators=100)"
   ]
  },
  {
   "cell_type": "code",
   "execution_count": 17,
   "metadata": {},
   "outputs": [],
   "source": [
    "features = ['household_size', 'age_of_respondent', 'is_urban', 'cellphone',\n",
    "       'is_male', 'country_Rwanda', 'country_Tanzania', 'country_Uganda',\n",
    "       'relationship_with_head_Head of Household',\n",
    "       'relationship_with_head_Other relative',\n",
    "       'relationship_with_head_Parent', 'relationship_with_head_Spouse',\n",
    "       'marital_status_Married/Living together',\n",
    "       'marital_status_Single/Never Married', 'marital_status_Widowed',\n",
    "       'education_level_Primary education',\n",
    "       'education_level_Secondary education',\n",
    "       'education_level_Tertiary education',\n",
    "       'education_level_Vocational/Specialised training',\n",
    "       'job_type_Formally employed Government',\n",
    "       'job_type_Formally employed Private', 'job_type_Government Dependent',\n",
    "       'job_type_Informally employed', 'job_type_No Income',\n",
    "       'job_type_Other Income', 'job_type_Remittance Dependent',\n",
    "       'job_type_Self employed']"
   ]
  },
  {
   "cell_type": "markdown",
   "metadata": {},
   "source": [
    "The below analysis includes all features. Thereafter the analyses remove insignificant features one by one."
   ]
  },
  {
   "cell_type": "code",
   "execution_count": 18,
   "metadata": {},
   "outputs": [
    {
     "name": "stderr",
     "output_type": "stream",
     "text": [
      "<ipython-input-18-8229e30292ca>:2: DataConversionWarning: A column-vector y was passed when a 1d array was expected. Please change the shape of y to (n_samples,), for example using ravel().\n",
      "  clf.fit(x_train[features],y_train)\n"
     ]
    },
    {
     "data": {
      "text/plain": [
       "RandomForestClassifier()"
      ]
     },
     "execution_count": 18,
     "metadata": {},
     "output_type": "execute_result"
    }
   ],
   "source": [
    "#Train the model using the training sets y_pred=clf.predict(X_test)\n",
    "clf.fit(x_train[features],y_train)"
   ]
  },
  {
   "cell_type": "code",
   "execution_count": 19,
   "metadata": {
    "scrolled": true
   },
   "outputs": [
    {
     "name": "stdout",
     "output_type": "stream",
     "text": [
      "Accuracy of logistic regression classifier on val set: 0.87\n"
     ]
    }
   ],
   "source": [
    "preds = clf.predict(df_val[features])\n",
    "print('Accuracy of logistic regression classifier on val set: {:.2f}'.format(clf.score(x_val[features], y_val)))"
   ]
  },
  {
   "cell_type": "code",
   "execution_count": 20,
   "metadata": {
    "scrolled": true
   },
   "outputs": [
    {
     "data": {
      "text/plain": [
       "array([[ 185,  307],\n",
       "       [ 155, 2882]])"
      ]
     },
     "execution_count": 20,
     "metadata": {},
     "output_type": "execute_result"
    }
   ],
   "source": [
    "confusion_matrix(y_val, \n",
    "                 preds)"
   ]
  },
  {
   "cell_type": "markdown",
   "metadata": {},
   "source": [
    "\n",
    "| | predict banked (0) | predict unbanked (1)|\n",
    "|---|---|---|\n",
    "| **is banked (0)** | 185 | 307|\n",
    "| **is UNbanked (1)** | 152 | 2885 |"
   ]
  },
  {
   "cell_type": "code",
   "execution_count": 21,
   "metadata": {
    "scrolled": true
   },
   "outputs": [
    {
     "name": "stdout",
     "output_type": "stream",
     "text": [
      "              precision    recall  f1-score   support\n",
      "\n",
      "           0       0.54      0.38      0.44       492\n",
      "           1       0.90      0.95      0.93      3037\n",
      "\n",
      "    accuracy                           0.87      3529\n",
      "   macro avg       0.72      0.66      0.69      3529\n",
      "weighted avg       0.85      0.87      0.86      3529\n",
      "\n"
     ]
    }
   ],
   "source": [
    "from sklearn.metrics import classification_report\n",
    "print(classification_report(y_val, preds))"
   ]
  },
  {
   "cell_type": "markdown",
   "metadata": {},
   "source": [
    "The model should optimise for recall given the importance of identifying the unbanked and understanding the most important features linked to being unbanked. Therefore, the recall for the positive class is quite good. However, precision is comparatively low meaning that banked individuals are being classified as unbanked. \n",
    "\n",
    "Precision and recall for negative class are much lower - again because many banked are being classified as unbanked"
   ]
  },
  {
   "cell_type": "code",
   "execution_count": 22,
   "metadata": {},
   "outputs": [
    {
     "name": "stderr",
     "output_type": "stream",
     "text": [
      "<ipython-input-22-c29b7276b726>:1: SettingWithCopyWarning: \n",
      "A value is trying to be set on a copy of a slice from a DataFrame.\n",
      "Try using .loc[row_indexer,col_indexer] = value instead\n",
      "\n",
      "See the caveats in the documentation: https://pandas.pydata.org/pandas-docs/stable/user_guide/indexing.html#returning-a-view-versus-a-copy\n",
      "  x_val['proba_bank'] = clf.predict_proba(x_val[features])[:, 1]\n"
     ]
    }
   ],
   "source": [
    "x_val['proba_bank'] = clf.predict_proba(x_val[features])[:, 1]\n",
    "\n",
    "fpr2, tpr2, thresholds2 = roc_curve(y_val,\n",
    "                                 x_val['proba_bank'])"
   ]
  },
  {
   "cell_type": "code",
   "execution_count": 23,
   "metadata": {},
   "outputs": [],
   "source": [
    "def plot_roc(true, probas,fpr,tpr):\n",
    "    auc = roc_auc_score(true, probas)\n",
    "\n",
    "    plt.plot(fpr, tpr, marker='o')\n",
    "    plt.xlabel('1 - Specificity (FPR)')\n",
    "    plt.ylabel('Sensitivity (TPR)');\n",
    "    plt.title(f\"Area Under the ROC Curve: {round(auc, 3)}\");"
   ]
  },
  {
   "cell_type": "code",
   "execution_count": 24,
   "metadata": {
    "scrolled": false
   },
   "outputs": [
    {
     "data": {
      "image/png": "[encoded data removed]",
      "text/plain": [
       "<Figure size 432x288 with 1 Axes>"
      ]
     },
     "metadata": {
      "needs_background": "light"
     },
     "output_type": "display_data"
    }
   ],
   "source": [
    "plot_roc(y_val, x_val['proba_bank'],fpr2,tpr2)"
   ]
  },
  {
   "cell_type": "markdown",
   "metadata": {},
   "source": [
    "## Random oversampling\n",
    "\n",
    "Dataset too small to warrant undersampling. Try ROS and then SMOTE to up sample the minority class."
   ]
  },
  {
   "cell_type": "code",
   "execution_count": 25,
   "metadata": {},
   "outputs": [],
   "source": [
    "y_train = y_train['no_acc']"
   ]
  },
  {
   "cell_type": "code",
   "execution_count": 26,
   "metadata": {},
   "outputs": [
    {
     "name": "stdout",
     "output_type": "stream",
     "text": [
      "Simple Random Forest Classifier; Test F1: 0.927, Test AUC: 0.809\n",
      "Random Forest Classifier on Oversampled Train Data; Test F1: 0.910, Test AUC: 0.801\n"
     ]
    }
   ],
   "source": [
    "import imblearn.over_sampling\n",
    "\n",
    "# setup for the ratio argument of RandomOverSampler initialization\n",
    "n_pos = np.sum(y_train == 1)\n",
    "n_neg = np.sum(y_train == 0)\n",
    "ratio = {1 : n_pos, 0 : n_neg * 4} \n",
    "\n",
    "# randomly oversample positive samples: create 4x as many \n",
    "ROS = imblearn.over_sampling.RandomOverSampler(sampling_strategy = ratio, random_state=42) \n",
    "    \n",
    "X_tr_rs, y_tr_rs = ROS.fit_sample(x_train[features], y_train)\n",
    "\n",
    "clf2 = RandomForestClassifier(n_estimators=100) \n",
    "clf2.fit(x_train[features], y_train)\n",
    "\n",
    "print('Simple Random Forest Classifier; Test F1: %.3f, Test AUC: %.3f' % \\\n",
    "      (f1_score(y_val, clf2.predict(x_val[features])), roc_auc_score(y_val, clf2.predict_proba(x_val[features])[:,1]))) \n",
    "\n",
    "clf_os = RandomForestClassifier(n_estimators=100) \n",
    "clf_os.fit(X_tr_rs, y_tr_rs)\n",
    "\n",
    "print('Random Forest Classifier on Oversampled Train Data; Test F1: %.3f, Test AUC: %.3f' % \\\n",
    "      (f1_score(y_val, clf_os.predict(x_val[features])), roc_auc_score(y_val, clf_os.predict_proba(x_val[features])[:,1])))"
   ]
  },
  {
   "cell_type": "code",
   "execution_count": 27,
   "metadata": {},
   "outputs": [
    {
     "name": "stderr",
     "output_type": "stream",
     "text": [
      "<ipython-input-27-c3b3082bed6d>:1: SettingWithCopyWarning: \n",
      "A value is trying to be set on a copy of a slice from a DataFrame.\n",
      "Try using .loc[row_indexer,col_indexer] = value instead\n",
      "\n",
      "See the caveats in the documentation: https://pandas.pydata.org/pandas-docs/stable/user_guide/indexing.html#returning-a-view-versus-a-copy\n",
      "  x_val['proba_bank'] = clf_os.predict_proba(x_val[features])[:, 1]\n"
     ]
    }
   ],
   "source": [
    "x_val['proba_bank'] = clf_os.predict_proba(x_val[features])[:, 1]"
   ]
  },
  {
   "cell_type": "code",
   "execution_count": 28,
   "metadata": {},
   "outputs": [],
   "source": [
    "y_pred_ROS = np.where((x_val['proba_bank'] > 0.5),1,0)"
   ]
  },
  {
   "cell_type": "code",
   "execution_count": 29,
   "metadata": {},
   "outputs": [
    {
     "name": "stdout",
     "output_type": "stream",
     "text": [
      "              precision    recall  f1-score   support\n",
      "\n",
      "           0       0.45      0.46      0.46       492\n",
      "           1       0.91      0.91      0.91      3037\n",
      "\n",
      "    accuracy                           0.85      3529\n",
      "   macro avg       0.68      0.69      0.68      3529\n",
      "weighted avg       0.85      0.85      0.85      3529\n",
      "\n"
     ]
    }
   ],
   "source": [
    "print(classification_report(y_val, y_pred_ROS))"
   ]
  },
  {
   "cell_type": "code",
   "execution_count": 54,
   "metadata": {},
   "outputs": [
    {
     "data": {
      "image/png": "[encoded data removed]",
      "text/plain": [
       "<Figure size 432x288 with 1 Axes>"
      ]
     },
     "metadata": {
      "needs_background": "light"
     },
     "output_type": "display_data"
    }
   ],
   "source": [
    "plot_roc(y_val, x_val['proba_bank'],fpr2,tpr2)"
   ]
  },
  {
   "cell_type": "markdown",
   "metadata": {},
   "source": [
    "### Adjust decision threshold"
   ]
  },
  {
   "cell_type": "code",
   "execution_count": 52,
   "metadata": {},
   "outputs": [],
   "source": [
    "y_pred_ROS1 = np.where((x_val['proba_bank'] > 0.54),1,0)"
   ]
  },
  {
   "cell_type": "code",
   "execution_count": 53,
   "metadata": {},
   "outputs": [
    {
     "name": "stdout",
     "output_type": "stream",
     "text": [
      "              precision    recall  f1-score   support\n",
      "\n",
      "           0       0.44      0.49      0.47       492\n",
      "           1       0.92      0.90      0.91      3037\n",
      "\n",
      "    accuracy                           0.84      3529\n",
      "   macro avg       0.68      0.70      0.69      3529\n",
      "weighted avg       0.85      0.84      0.85      3529\n",
      "\n"
     ]
    }
   ],
   "source": [
    "print(classification_report(y_val, y_pred_ROS1))"
   ]
  },
  {
   "cell_type": "markdown",
   "metadata": {},
   "source": [
    "Signficant improvement in prediction of minority class with some reduction in prediction of majority (positive) class."
   ]
  },
  {
   "cell_type": "markdown",
   "metadata": {},
   "source": [
    "## Adjust decision threshold only (no oversampling)"
   ]
  },
  {
   "cell_type": "code",
   "execution_count": 250,
   "metadata": {},
   "outputs": [
    {
     "name": "stdout",
     "output_type": "stream",
     "text": [
      "Random Forest Model best F1 score 0.934 at prob decision threshold >= 0.285\n"
     ]
    },
    {
     "data": {
      "image/png": "[encoded data removed]",
      "text/plain": [
       "<Figure size 432x288 with 1 Axes>"
      ]
     },
     "metadata": {},
     "output_type": "display_data"
    }
   ],
   "source": [
    "from sklearn.metrics import precision_score, recall_score, accuracy_score\n",
    "\n",
    "import matplotlib.pyplot as plt\n",
    "%matplotlib inline\n",
    "import seaborn as sns\n",
    "sns.set()\n",
    "\n",
    "#X_val, y_val = X_te, y_te # explicitly calling this validation since we're using it for selection\n",
    "\n",
    "thresh_ps = np.linspace(.10,.50,1000)\n",
    "model_val_probs = clf.predict_proba(x_val[features])[:,1] # positive class probs, same basic logistic model we fit in section 2 \n",
    "\n",
    "f1_scores, prec_scores, rec_scores, acc_scores = [], [], [], []\n",
    "for p in thresh_ps:\n",
    "    model_val_labels = model_val_probs >= p\n",
    "    f1_scores.append(f1_score(y_val, model_val_labels))    \n",
    "    prec_scores.append(precision_score(y_val, model_val_labels))\n",
    "    rec_scores.append(recall_score(y_val, model_val_labels))\n",
    "    acc_scores.append(accuracy_score(y_val, model_val_labels))\n",
    "    \n",
    "plt.plot(thresh_ps, f1_scores)\n",
    "plt.plot(thresh_ps, prec_scores)\n",
    "plt.plot(thresh_ps, rec_scores)\n",
    "plt.plot(thresh_ps, acc_scores)\n",
    "\n",
    "plt.title('Metric Scores vs. Positive Class Decision Probability Threshold')\n",
    "plt.legend(['F1','Precision','Recall','Accuracy'])\n",
    "plt.xlabel('P threshold')\n",
    "plt.ylabel('Metric score')\n",
    "\n",
    "best_f1_score = np.max(f1_scores) \n",
    "best_thresh_p = thresh_ps[np.argmax(f1_scores)]\n",
    "\n",
    "print('Random Forest Model best F1 score %.3f at prob decision threshold >= %.3f' \n",
    "      % (best_f1_score, best_thresh_p))"
   ]
  },
  {
   "cell_type": "markdown",
   "metadata": {},
   "source": [
    "Note that since this is for the majority class moving the threshold in this direction significantly reduces prediction for minority class"
   ]
  },
  {
   "cell_type": "code",
   "execution_count": 251,
   "metadata": {},
   "outputs": [],
   "source": [
    "threshold = .56\n",
    "\n",
    "y_pred = np.where((x_val['proba_bank'] > threshold),1,0)"
   ]
  },
  {
   "cell_type": "code",
   "execution_count": 252,
   "metadata": {
    "scrolled": false
   },
   "outputs": [
    {
     "data": {
      "text/plain": [
       "array([[ 177,  315],\n",
       "       [ 150, 2887]])"
      ]
     },
     "execution_count": 252,
     "metadata": {},
     "output_type": "execute_result"
    }
   ],
   "source": [
    "confusion_matrix(y_val, \n",
    "                 y_pred)"
   ]
  },
  {
   "cell_type": "code",
   "execution_count": 253,
   "metadata": {},
   "outputs": [
    {
     "name": "stderr",
     "output_type": "stream",
     "text": [
      "<ipython-input-253-3d085f866f96>:1: SettingWithCopyWarning: \n",
      "A value is trying to be set on a copy of a slice from a DataFrame.\n",
      "Try using .loc[row_indexer,col_indexer] = value instead\n",
      "\n",
      "See the caveats in the documentation: https://pandas.pydata.org/pandas-docs/stable/user_guide/indexing.html#returning-a-view-versus-a-copy\n",
      "  x_val['preds'] = np.where((x_val['proba_bank'] > threshold),1,0)\n"
     ]
    }
   ],
   "source": [
    "x_val['preds'] = np.where((x_val['proba_bank'] > threshold),1,0)"
   ]
  },
  {
   "cell_type": "code",
   "execution_count": 254,
   "metadata": {},
   "outputs": [
    {
     "name": "stdout",
     "output_type": "stream",
     "text": [
      "              precision    recall  f1-score   support\n",
      "\n",
      "           0       0.54      0.36      0.43       492\n",
      "           1       0.90      0.95      0.93      3037\n",
      "\n",
      "    accuracy                           0.87      3529\n",
      "   macro avg       0.72      0.66      0.68      3529\n",
      "weighted avg       0.85      0.87      0.86      3529\n",
      "\n"
     ]
    }
   ],
   "source": [
    "print(classification_report(y_val, x_val['preds']))"
   ]
  },
  {
   "cell_type": "markdown",
   "metadata": {},
   "source": [
    "Marginal improvement in the prediction of the minority class when compared to the logistic regression model. However, model with ROS performs better"
   ]
  },
  {
   "cell_type": "markdown",
   "metadata": {},
   "source": [
    "# Testing the model on the test set\n",
    "\n",
    "Note the first analysis is based on the first multiple regression model above (including all features, no interactions)"
   ]
  },
  {
   "cell_type": "markdown",
   "metadata": {},
   "source": [
    "## 1. Preparing the test sample "
   ]
  },
  {
   "cell_type": "code",
   "execution_count": 255,
   "metadata": {},
   "outputs": [
    {
     "name": "stderr",
     "output_type": "stream",
     "text": [
      "<ipython-input-255-120e2e6065ba>:1: SettingWithCopyWarning: \n",
      "A value is trying to be set on a copy of a slice from a DataFrame.\n",
      "Try using .loc[row_indexer,col_indexer] = value instead\n",
      "\n",
      "See the caveats in the documentation: https://pandas.pydata.org/pandas-docs/stable/user_guide/indexing.html#returning-a-view-versus-a-copy\n",
      "  x_test['is_urban'] = np.where(x_test['location_type'] == 'Urban',1,0)\n",
      "<ipython-input-255-120e2e6065ba>:2: SettingWithCopyWarning: \n",
      "A value is trying to be set on a copy of a slice from a DataFrame.\n",
      "Try using .loc[row_indexer,col_indexer] = value instead\n",
      "\n",
      "See the caveats in the documentation: https://pandas.pydata.org/pandas-docs/stable/user_guide/indexing.html#returning-a-view-versus-a-copy\n",
      "  x_test['cellphone'] = np.where(x_test['cellphone_access'] == 'Yes',1,0)\n",
      "<ipython-input-255-120e2e6065ba>:3: SettingWithCopyWarning: \n",
      "A value is trying to be set on a copy of a slice from a DataFrame.\n",
      "Try using .loc[row_indexer,col_indexer] = value instead\n",
      "\n",
      "See the caveats in the documentation: https://pandas.pydata.org/pandas-docs/stable/user_guide/indexing.html#returning-a-view-versus-a-copy\n",
      "  x_test['is_male'] = np.where(x_test['gender_of_respondent'] == 'Male',1,0)\n"
     ]
    }
   ],
   "source": [
    "x_test['is_urban'] = np.where(x_test['location_type'] == 'Urban',1,0)\n",
    "x_test['cellphone'] = np.where(x_test['cellphone_access'] == 'Yes',1,0)\n",
    "x_test['is_male'] = np.where(x_test['gender_of_respondent'] == 'Male',1,0)"
   ]
  },
  {
   "cell_type": "code",
   "execution_count": 256,
   "metadata": {},
   "outputs": [],
   "source": [
    "x_test_cont = x_test[['year','household_size','age_of_respondent','is_urban','cellphone','is_male']]\n",
    "x_test_cat = x_test[['country','relationship_with_head', 'marital_status','education_level', 'job_type']]"
   ]
  },
  {
   "cell_type": "code",
   "execution_count": 257,
   "metadata": {},
   "outputs": [
    {
     "name": "stderr",
     "output_type": "stream",
     "text": [
      "/Users/tawneykirkland/opt/anaconda3/lib/python3.8/site-packages/pandas/core/indexing.py:670: SettingWithCopyWarning: \n",
      "A value is trying to be set on a copy of a slice from a DataFrame\n",
      "\n",
      "See the caveats in the documentation: https://pandas.pydata.org/pandas-docs/stable/user_guide/indexing.html#returning-a-view-versus-a-copy\n",
      "  iloc._setitem_with_indexer(indexer, value)\n",
      "<ipython-input-257-c58a8d9a8085>:1: SettingWithCopyWarning: \n",
      "A value is trying to be set on a copy of a slice from a DataFrame\n",
      "\n",
      "See the caveats in the documentation: https://pandas.pydata.org/pandas-docs/stable/user_guide/indexing.html#returning-a-view-versus-a-copy\n",
      "  x_test_cat.loc[x_test_cat['marital_status'] == 'Dont know', ['marital_status']] = 'Single/Never Married'\n",
      "<ipython-input-257-c58a8d9a8085>:2: SettingWithCopyWarning: \n",
      "A value is trying to be set on a copy of a slice from a DataFrame\n",
      "\n",
      "See the caveats in the documentation: https://pandas.pydata.org/pandas-docs/stable/user_guide/indexing.html#returning-a-view-versus-a-copy\n",
      "  x_test_cat.loc[x_test_cat['education_level'] == 'Other/Dont know/RTA', ['education_level']] = 'No formal education'\n",
      "<ipython-input-257-c58a8d9a8085>:3: SettingWithCopyWarning: \n",
      "A value is trying to be set on a copy of a slice from a DataFrame\n",
      "\n",
      "See the caveats in the documentation: https://pandas.pydata.org/pandas-docs/stable/user_guide/indexing.html#returning-a-view-versus-a-copy\n",
      "  x_test_cat.loc[x_test_cat['job_type'] == 'Dont Know/Refuse to answer', ['job_type']] = 'No Income'\n",
      "<ipython-input-257-c58a8d9a8085>:4: SettingWithCopyWarning: \n",
      "A value is trying to be set on a copy of a slice from a DataFrame\n",
      "\n",
      "See the caveats in the documentation: https://pandas.pydata.org/pandas-docs/stable/user_guide/indexing.html#returning-a-view-versus-a-copy\n",
      "  x_test_cat.loc[x_test_cat['relationship_with_head'] == 'Other non-relatives', ['relationship_with_head']] = 'Other relative'\n"
     ]
    }
   ],
   "source": [
    "x_test_cat.loc[x_test_cat['marital_status'] == 'Dont know', ['marital_status']] = 'Single/Never Married'\n",
    "x_test_cat.loc[x_test_cat['education_level'] == 'Other/Dont know/RTA', ['education_level']] = 'No formal education'\n",
    "x_test_cat.loc[x_test_cat['job_type'] == 'Dont Know/Refuse to answer', ['job_type']] = 'No Income'\n",
    "x_test_cat.loc[x_test_cat['relationship_with_head'] == 'Other non-relatives', ['relationship_with_head']] = 'Other relative'"
   ]
  },
  {
   "cell_type": "code",
   "execution_count": 258,
   "metadata": {},
   "outputs": [],
   "source": [
    "ohe = OneHotEncoder(drop='first', sparse=False)\n",
    "\n",
    "ohe.fit(x_test_cat)\n",
    "\n",
    "ohe_x_test = ohe.transform(x_test_cat)\n",
    "\n",
    "columns = ohe.get_feature_names(['country',\n",
    "                                 'relationship_with_head', \n",
    "                                 'marital_status',\n",
    "                                 'education_level', \n",
    "                                 'job_type'])\n",
    "\n",
    "ohe_x_test_df = pd.DataFrame(ohe_x_test, columns=columns, index=x_test.index)"
   ]
  },
  {
   "cell_type": "code",
   "execution_count": 259,
   "metadata": {},
   "outputs": [],
   "source": [
    "combo_test_df = pd.concat([x_test_cont, ohe_x_test_df], axis=1)"
   ]
  },
  {
   "cell_type": "code",
   "execution_count": 260,
   "metadata": {
    "scrolled": true
   },
   "outputs": [
    {
     "name": "stderr",
     "output_type": "stream",
     "text": [
      "<ipython-input-260-41dba9f5dd1c>:1: SettingWithCopyWarning: \n",
      "A value is trying to be set on a copy of a slice from a DataFrame.\n",
      "Try using .loc[row_indexer,col_indexer] = value instead\n",
      "\n",
      "See the caveats in the documentation: https://pandas.pydata.org/pandas-docs/stable/user_guide/indexing.html#returning-a-view-versus-a-copy\n",
      "  y_test['no_acc'] = np.where(y_test['bank_account'] == 'No', 1,0)\n",
      "/Users/tawneykirkland/opt/anaconda3/lib/python3.8/site-packages/pandas/core/frame.py:4163: SettingWithCopyWarning: \n",
      "A value is trying to be set on a copy of a slice from a DataFrame\n",
      "\n",
      "See the caveats in the documentation: https://pandas.pydata.org/pandas-docs/stable/user_guide/indexing.html#returning-a-view-versus-a-copy\n",
      "  return super().drop(\n"
     ]
    }
   ],
   "source": [
    "y_test['no_acc'] = np.where(y_test['bank_account'] == 'No', 1,0)\n",
    "y_test.drop(columns='bank_account',inplace=True)\n",
    "df_test = pd.concat([combo_test_df,y_test],axis=1)"
   ]
  },
  {
   "cell_type": "markdown",
   "metadata": {},
   "source": [
    "## 2. Testing the model on the test sample"
   ]
  },
  {
   "cell_type": "markdown",
   "metadata": {},
   "source": [
    "#### ROS model"
   ]
  },
  {
   "cell_type": "code",
   "execution_count": 261,
   "metadata": {},
   "outputs": [
    {
     "name": "stdout",
     "output_type": "stream",
     "text": [
      "Accuracy of Random Forest ROS classifier on test set: 0.870\n"
     ]
    }
   ],
   "source": [
    "preds1_test = clf_os.predict(combo_test_df[features])\n",
    "print('Accuracy of Random Forest ROS classifier on test set: {:.3f}'.format(\n",
    "    clf_os.score(combo_test_df[features], y_test)))"
   ]
  },
  {
   "cell_type": "code",
   "execution_count": 262,
   "metadata": {},
   "outputs": [
    {
     "data": {
      "text/plain": [
       "array([[ 274,  560],\n",
       "       [ 203, 4844]])"
      ]
     },
     "execution_count": 262,
     "metadata": {},
     "output_type": "execute_result"
    }
   ],
   "source": [
    "confusion_matrix(y_test, \n",
    "                 preds1_test)"
   ]
  },
  {
   "cell_type": "markdown",
   "metadata": {},
   "source": [
    "\n",
    "| | predict banked (0) | predict unbanked (1)|\n",
    "|---|---|---|\n",
    "| **is banked (0)** | 274 | 560|\n",
    "| **is UNbanked (1)** | 203 | 4844 |"
   ]
  },
  {
   "cell_type": "code",
   "execution_count": 263,
   "metadata": {},
   "outputs": [
    {
     "name": "stdout",
     "output_type": "stream",
     "text": [
      "              precision    recall  f1-score   support\n",
      "\n",
      "           0       0.57      0.33      0.42       834\n",
      "           1       0.90      0.96      0.93      5047\n",
      "\n",
      "    accuracy                           0.87      5881\n",
      "   macro avg       0.74      0.64      0.67      5881\n",
      "weighted avg       0.85      0.87      0.85      5881\n",
      "\n"
     ]
    }
   ],
   "source": [
    "print(classification_report(y_test['no_acc'], preds1_test))"
   ]
  },
  {
   "cell_type": "markdown",
   "metadata": {},
   "source": [
    "Note this is with 0.5 threshold. Adjusted threshold:"
   ]
  },
  {
   "cell_type": "code",
   "execution_count": null,
   "metadata": {},
   "outputs": [],
   "source": []
  }
 ],
 "metadata": {
  "kernelspec": {
   "display_name": "Python 3",
   "language": "python",
   "name": "python3"
  },
  "language_info": {
   "codemirror_mode": {
    "name": "ipython",
    "version": 3
   },
   "file_extension": ".py",
   "mimetype": "text/x-python",
   "name": "python",
   "nbconvert_exporter": "python",
   "pygments_lexer": "ipython3",
   "version": "3.8.5"
  }
 },
 "nbformat": 4,
 "nbformat_minor": 4
}
