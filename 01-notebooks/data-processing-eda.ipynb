{
 "cells": [
  {
   "cell_type": "code",
   "execution_count": 2,
   "metadata": {},
   "outputs": [],
   "source": [
    "import pandas as pd\n",
    "import numpy as np\n",
    "\n",
    "import seaborn as sns\n",
    "import matplotlib.pyplot as plt\n",
    "\n",
    "import datetime as dt\n",
    "from datetime import datetime"
   ]
  },
  {
   "cell_type": "markdown",
   "metadata": {},
   "source": [
    "Note this is the initial eda conducted for the analysis. Further analysis was conducted in Tableau."
   ]
  },
  {
   "cell_type": "code",
   "execution_count": 3,
   "metadata": {},
   "outputs": [],
   "source": [
    "df_train = pd.read_csv('/Users/tawneykirkland/GitStuff/03-mcnulty/04-data/data_clean.csv')"
   ]
  },
  {
   "cell_type": "markdown",
   "metadata": {},
   "source": [
    "## EDA for target variable: Has bank account (yes/no)\n",
    "Analysis of train sample (including val)"
   ]
  },
  {
   "cell_type": "code",
   "execution_count": 4,
   "metadata": {},
   "outputs": [
    {
     "data": {
      "image/png": "[encoded data removed]",
      "text/plain": [
       "<Figure size 432x288 with 1 Axes>"
      ]
     },
     "metadata": {
      "needs_background": "light"
     },
     "output_type": "display_data"
    }
   ],
   "source": [
    "sns.countplot(x='no_acc', data=df_train)\n",
    "plt.title('Bank account holding status',family='arial',fontsize=16)\n",
    "plt.xlabel('Unbanked')\n",
    "plt.ylabel('Count')\n",
    "plt.show;\n",
    "#plt.savefig(\"bank_status.svg\")"
   ]
  },
  {
   "cell_type": "code",
   "execution_count": 5,
   "metadata": {
    "scrolled": true
   },
   "outputs": [
    {
     "name": "stdout",
     "output_type": "stream",
     "text": [
      "percentage of no account: 85.95\n",
      "percentage of account 14.05\n"
     ]
    }
   ],
   "source": [
    "count_no_acc = len(df_train[df_train['no_acc']==1])\n",
    "count_acc = len(df_train[df_train['no_acc']==0])\n",
    "pct_of_no_acc = count_no_acc/(count_no_acc+count_acc)\n",
    "print(\"percentage of no account:\", round(pct_of_no_acc*100,2))\n",
    "pct_of_acc = count_acc/(count_no_acc+count_acc)\n",
    "print(\"percentage of account\", round(pct_of_acc*100,2))"
   ]
  },
  {
   "cell_type": "markdown",
   "metadata": {},
   "source": [
    "Classes are very __imbalanced__."
   ]
  },
  {
   "cell_type": "code",
   "execution_count": 6,
   "metadata": {},
   "outputs": [],
   "source": [
    "def calculate_pct(feature1,label1,label2,feature2,title):\n",
    "    df1 = df_train[(df_train[feature1]== label1) & (df_train[feature2]== 0)]\n",
    "    df1_acc = len(df1)\n",
    "    df2 = df_train[(df_train[feature1]== label2) & (df_train[feature2]== 1)]\n",
    "    df2_no_acc = len(df2)\n",
    "    print(title)\n",
    "    pct_no_acc = df2_no_acc / (df1_acc + df2_no_acc)\n",
    "    print(\"Percentage of unbanked:\", round(pct_no_acc*100,2))\n",
    "    pct_acc = 1-pct_no_acc\n",
    "    print(\"Percentage of banked:\", round(pct_acc*100,2))"
   ]
  },
  {
   "cell_type": "markdown",
   "metadata": {},
   "source": [
    "## By country"
   ]
  },
  {
   "cell_type": "code",
   "execution_count": 7,
   "metadata": {
    "scrolled": true
   },
   "outputs": [
    {
     "data": {
      "image/png": "[encoded data removed]",
      "text/plain": [
       "<Figure size 432x288 with 1 Axes>"
      ]
     },
     "metadata": {
      "needs_background": "light"
     },
     "output_type": "display_data"
    }
   ],
   "source": [
    "bank_country = sns.countplot(\n",
    "        data=df_train,\n",
    "        x=\"country\", hue=\"no_acc\")\n",
    "plt.title('Bank account holding status by country',family='arial',fontsize=12)\n",
    "plt.xlabel('Country')\n",
    "plt.ylabel('Count');"
   ]
  },
  {
   "cell_type": "code",
   "execution_count": 13,
   "metadata": {},
   "outputs": [
    {
     "name": "stdout",
     "output_type": "stream",
     "text": [
      "Rwanda\n",
      "Percentage of unbanked: 88.65\n",
      "Percentage of banked: 11.35\n",
      "\n",
      "\n",
      "Kenya\n",
      "Percentage of unbanked: 75.08\n",
      "Percentage of banked: 24.92\n",
      "\n",
      "\n",
      "Tanzania\n",
      "Percentage of unbanked: 90.71\n",
      "Percentage of banked: 9.29\n",
      "\n",
      "\n",
      "Uganda\n",
      "Percentage of unbanked: 90.66\n",
      "Percentage of banked: 9.34\n"
     ]
    }
   ],
   "source": [
    "calculate_pct('country','Rwanda','Rwanda','no_acc','Rwanda')\n",
    "print('\\n')\n",
    "calculate_pct('country','Kenya','Kenya','no_acc','Kenya')\n",
    "print('\\n')\n",
    "calculate_pct('country','Tanzania','Tanzania','no_acc','Tanzania')\n",
    "print('\\n')\n",
    "calculate_pct('country','Uganda','Uganda','no_acc','Uganda')"
   ]
  },
  {
   "cell_type": "markdown",
   "metadata": {},
   "source": [
    "## By gender"
   ]
  },
  {
   "cell_type": "code",
   "execution_count": 13,
   "metadata": {
    "scrolled": true
   },
   "outputs": [
    {
     "data": {
      "image/png": "[encoded data removed]",
      "text/plain": [
       "<Figure size 432x288 with 1 Axes>"
      ]
     },
     "metadata": {
      "needs_background": "light"
     },
     "output_type": "display_data"
    }
   ],
   "source": [
    "bank_gender = sns.countplot(\n",
    "        data=df_train,\n",
    "        x=\"is_male\", hue=\"no_acc\")\n",
    "plt.title('Bank account holding status by respondent gender',family='arial',fontsize=12)\n",
    "plt.xlabel('Gender')\n",
    "plt.ylabel('Count');"
   ]
  },
  {
   "cell_type": "markdown",
   "metadata": {},
   "source": [
    "Majority of respondents in the sample identified as female; lower percentage of females have an account in comparison to male respondents"
   ]
  },
  {
   "cell_type": "code",
   "execution_count": 14,
   "metadata": {},
   "outputs": [
    {
     "name": "stdout",
     "output_type": "stream",
     "text": [
      "Male\n",
      "Percentage of unbanked: 80.93\n",
      "Percentage of banked: 19.07\n",
      "\n",
      "\n",
      "Female\n",
      "Percentage of unbanked: 89.42\n",
      "Percentage of banked: 10.58\n"
     ]
    }
   ],
   "source": [
    "calculate_pct('is_male',1,1,'no_acc','Male')\n",
    "print('\\n')\n",
    "calculate_pct('is_male',0,0,'no_acc','Female')"
   ]
  },
  {
   "cell_type": "markdown",
   "metadata": {},
   "source": [
    "## By location type"
   ]
  },
  {
   "cell_type": "code",
   "execution_count": 16,
   "metadata": {
    "scrolled": true
   },
   "outputs": [
    {
     "data": {
      "image/png": "[encoded data removed]",
      "text/plain": [
       "<Figure size 432x288 with 1 Axes>"
      ]
     },
     "metadata": {
      "needs_background": "light"
     },
     "output_type": "display_data"
    }
   ],
   "source": [
    "bank_urban = sns.countplot(\n",
    "        data=df_train,\n",
    "        x=\"is_urban\", hue=\"no_acc\")\n",
    "plt.title('Bank account holding status by location type',family='arial',fontsize=12)\n",
    "plt.xlabel('Rural and urban')\n",
    "plt.ylabel('Count');"
   ]
  },
  {
   "cell_type": "code",
   "execution_count": 15,
   "metadata": {},
   "outputs": [
    {
     "name": "stdout",
     "output_type": "stream",
     "text": [
      "Urban\n",
      "Percentage of unbanked: 82.05\n",
      "Percentage of banked: 17.95\n",
      "\n",
      "\n",
      "Rural\n",
      "Percentage of unbanked: 88.47\n",
      "Percentage of banked: 11.53\n"
     ]
    }
   ],
   "source": [
    "calculate_pct('is_urban',1,1,'no_acc','Urban')\n",
    "print('\\n')\n",
    "calculate_pct('is_urban',0,0,'no_acc','Rural')"
   ]
  },
  {
   "cell_type": "markdown",
   "metadata": {},
   "source": [
    "## By education level"
   ]
  },
  {
   "cell_type": "code",
   "execution_count": 19,
   "metadata": {
    "scrolled": true
   },
   "outputs": [
    {
     "data": {
      "image/png": "[encoded data removed]",
      "text/plain": [
       "<Figure size 1080x288 with 1 Axes>"
      ]
     },
     "metadata": {
      "needs_background": "light"
     },
     "output_type": "display_data"
    }
   ],
   "source": [
    "plt.figure(figsize=[15,4])\n",
    "bank_education = sns.countplot(\n",
    "        data=df_train,\n",
    "        x=\"education_level\", hue=\"no_acc\")\n",
    "plt.title('Bank account holding status by education level',family='arial',fontsize=12)\n",
    "plt.xlabel('Level of education')\n",
    "plt.ylabel('Count');"
   ]
  },
  {
   "cell_type": "code",
   "execution_count": 16,
   "metadata": {},
   "outputs": [
    {
     "name": "stdout",
     "output_type": "stream",
     "text": [
      "No formal education\n",
      "Percentage of unbanked: 95.8\n",
      "Percentage of banked: 4.2\n",
      "\n",
      "\n",
      "Primary education\n",
      "Percentage of unbanked: 91.5\n",
      "Percentage of banked: 8.5\n",
      "\n",
      "\n",
      "Secondary education\n",
      "Percentage of unbanked: 76.42\n",
      "Percentage of banked: 23.58\n",
      "\n",
      "\n",
      "Vocational/Specialised training\n",
      "Percentage of unbanked: 44.43\n",
      "Percentage of banked: 55.57\n",
      "\n",
      "\n",
      "Tertiary education\n",
      "Percentage of unbanked: 49.32\n",
      "Percentage of banked: 50.68\n"
     ]
    }
   ],
   "source": [
    "calculate_pct('education_level','No formal education','No formal education','no_acc','No formal education')\n",
    "print('\\n')\n",
    "calculate_pct('education_level','Primary education','Primary education','no_acc','Primary education')\n",
    "print('\\n')\n",
    "calculate_pct('education_level','Secondary education','Secondary education','no_acc','Secondary education')\n",
    "print('\\n')\n",
    "calculate_pct('education_level','Vocational/Specialised training','Vocational/Specialised training','no_acc','Vocational/Specialised training')\n",
    "print('\\n')\n",
    "calculate_pct('education_level','Tertiary education','Tertiary education','no_acc','Tertiary education')"
   ]
  },
  {
   "cell_type": "markdown",
   "metadata": {},
   "source": [
    "## By relationship with head of household"
   ]
  },
  {
   "cell_type": "code",
   "execution_count": 25,
   "metadata": {
    "scrolled": true
   },
   "outputs": [
    {
     "data": {
      "image/png": "[encoded data removed]",
      "text/plain": [
       "<Figure size 1080x288 with 1 Axes>"
      ]
     },
     "metadata": {
      "needs_background": "light"
     },
     "output_type": "display_data"
    }
   ],
   "source": [
    "plt.figure(figsize=[15,4])\n",
    "bank_education = sns.countplot(\n",
    "        data=df_train,\n",
    "        x=\"relationship_with_head\", hue=\"no_acc\")\n",
    "plt.title('Bank account holding status by household position',family='arial',fontsize=12)\n",
    "plt.xlabel('Position in household')\n",
    "plt.ylabel('Count');"
   ]
  },
  {
   "cell_type": "code",
   "execution_count": 17,
   "metadata": {},
   "outputs": [
    {
     "name": "stdout",
     "output_type": "stream",
     "text": [
      "Head of Household\n",
      "Percentage of unbanked: 82.16\n",
      "Percentage of banked: 17.84\n",
      "\n",
      "\n",
      "Spouse\n",
      "Percentage of unbanked: 89.99\n",
      "Percentage of banked: 10.01\n",
      "\n",
      "\n",
      "Parent\n",
      "Percentage of unbanked: 93.41\n",
      "Percentage of banked: 6.59\n",
      "\n",
      "\n",
      "Child\n",
      "Percentage of unbanked: 90.99\n",
      "Percentage of banked: 9.01\n",
      "\n",
      "\n",
      "Other relative\n",
      "Percentage of unbanked: 89.47\n",
      "Percentage of banked: 10.53\n"
     ]
    }
   ],
   "source": [
    "calculate_pct('relationship_with_head','Head of Household','Head of Household','no_acc','Head of Household')\n",
    "print('\\n')\n",
    "calculate_pct('relationship_with_head','Spouse','Spouse','no_acc','Spouse')\n",
    "print('\\n')\n",
    "calculate_pct('relationship_with_head','Parent','Parent','no_acc','Parent')\n",
    "print('\\n')\n",
    "calculate_pct('relationship_with_head','Child','Child','no_acc','Child')\n",
    "print('\\n')\n",
    "calculate_pct('relationship_with_head','Other relative','Other relative','no_acc','Other relative')"
   ]
  },
  {
   "cell_type": "markdown",
   "metadata": {},
   "source": [
    "## By marital status"
   ]
  },
  {
   "cell_type": "code",
   "execution_count": 31,
   "metadata": {
    "scrolled": true
   },
   "outputs": [
    {
     "data": {
      "image/png": "[encoded data removed]",
      "text/plain": [
       "<Figure size 1080x288 with 1 Axes>"
      ]
     },
     "metadata": {
      "needs_background": "light"
     },
     "output_type": "display_data"
    }
   ],
   "source": [
    "plt.figure(figsize=[15,4])\n",
    "bank_education = sns.countplot(\n",
    "        data=df_train,\n",
    "        x=\"marital_status\", hue=\"no_acc\")\n",
    "plt.title('Bank account holding status by marital status',family='arial',fontsize=12)\n",
    "plt.xlabel('Marital status')\n",
    "plt.ylabel('Count');"
   ]
  },
  {
   "cell_type": "code",
   "execution_count": 18,
   "metadata": {},
   "outputs": [
    {
     "name": "stdout",
     "output_type": "stream",
     "text": [
      "Widowed\n",
      "Percentage of unbanked: 90.45\n",
      "Percentage of banked: 9.55\n",
      "\n",
      "\n",
      "Married/Living together\n",
      "Percentage of unbanked: 83.18\n",
      "Percentage of banked: 16.82\n",
      "\n",
      "\n",
      "Divorced/Seperated\n",
      "Percentage of unbanked: 87.94\n",
      "Percentage of banked: 12.06\n",
      "\n",
      "\n",
      "Single/Never married\n",
      "Percentage of unbanked: 87.64\n",
      "Percentage of banked: 12.36\n"
     ]
    }
   ],
   "source": [
    "calculate_pct('marital_status','Widowed','Widowed','no_acc','Widowed')\n",
    "print('\\n')\n",
    "calculate_pct('marital_status','Married/Living together','Married/Living together','no_acc','Married/Living together')\n",
    "print('\\n')\n",
    "calculate_pct('marital_status','Divorced/Seperated','Divorced/Seperated','no_acc','Divorced/Seperated')\n",
    "print('\\n')\n",
    "calculate_pct('marital_status','Single/Never Married','Single/Never Married','no_acc','Single/Never married')"
   ]
  },
  {
   "cell_type": "markdown",
   "metadata": {},
   "source": [
    "## By job type"
   ]
  },
  {
   "cell_type": "code",
   "execution_count": 36,
   "metadata": {},
   "outputs": [
    {
     "data": {
      "image/png": "[encoded data removed]",
      "text/plain": [
       "<Figure size 1584x288 with 1 Axes>"
      ]
     },
     "metadata": {
      "needs_background": "light"
     },
     "output_type": "display_data"
    }
   ],
   "source": [
    "plt.figure(figsize=[22,4])\n",
    "bank_education = sns.countplot(\n",
    "        data=df_train,\n",
    "        x=\"job_type\", hue=\"no_acc\")\n",
    "plt.title('Bank account holding status by job type',family='arial',fontsize=12)\n",
    "plt.xlabel('Source of income')\n",
    "plt.ylabel('Count');"
   ]
  },
  {
   "cell_type": "code",
   "execution_count": 19,
   "metadata": {},
   "outputs": [
    {
     "name": "stdout",
     "output_type": "stream",
     "text": [
      "Farming and fishing\n",
      "Percentage of unbanked: 88.36\n",
      "Percentage of banked: 11.64\n",
      "\n",
      "\n",
      "Remittance dependent\n",
      "Percentage of unbanked: 90.67\n",
      "Percentage of banked: 9.33\n",
      "\n",
      "\n",
      "Other income\n",
      "Percentage of unbanked: 82.16\n",
      "Percentage of banked: 17.84\n",
      "\n",
      "\n",
      "Self employed\n",
      "Percentage of unbanked: 86.91\n",
      "Percentage of banked: 13.09\n",
      "\n",
      "\n",
      "Informally employed\n",
      "Percentage of unbanked: 92.06\n",
      "Percentage of banked: 7.94\n",
      "\n",
      "\n",
      "Formerly employed Private\n",
      "Percentage of unbanked: 0.0\n",
      "Percentage of banked: 100.0\n",
      "\n",
      "\n",
      "Formerly employed Government\n",
      "Percentage of unbanked: 0.0\n",
      "Percentage of banked: 100.0\n",
      "\n",
      "\n",
      "Government Dependent\n",
      "Percentage of unbanked: 78.8\n",
      "Percentage of banked: 21.2\n",
      "\n",
      "\n",
      "No Income\n",
      "Percentage of unbanked: 96.28\n",
      "Percentage of banked: 3.72\n",
      "\n",
      "\n"
     ]
    }
   ],
   "source": [
    "calculate_pct('job_type','Farming and Fishing','Farming and Fishing','no_acc','Farming and fishing')\n",
    "print('\\n')\n",
    "calculate_pct('job_type','Remittance Dependent','Remittance Dependent','no_acc','Remittance dependent')\n",
    "print('\\n')\n",
    "calculate_pct('job_type','Other Income','Other Income','no_acc','Other income')\n",
    "print('\\n')\n",
    "calculate_pct('job_type','Self employed','Self employed','no_acc','Self employed')\n",
    "print('\\n')\n",
    "calculate_pct('job_type','Informally employed','Informally employed','no_acc','Informally employed')\n",
    "print('\\n')\n",
    "calculate_pct('job_type','Formally employed Private','Formerly employed Private','no_acc','Formerly employed Private')\n",
    "print('\\n')\n",
    "calculate_pct('job_type','Formally employed Government','Formerly employed Government','no_acc','Formerly employed Government')\n",
    "print('\\n')\n",
    "calculate_pct('job_type','Government Dependent','Government Dependent','no_acc','Government Dependent')\n",
    "print('\\n')\n",
    "calculate_pct('job_type','No Income','No Income','no_acc','No Income')\n",
    "print('\\n')"
   ]
  },
  {
   "cell_type": "markdown",
   "metadata": {},
   "source": [
    "## By cellphone access"
   ]
  },
  {
   "cell_type": "code",
   "execution_count": 46,
   "metadata": {},
   "outputs": [
    {
     "data": {
      "image/png": "[encoded data removed]",
      "text/plain": [
       "<Figure size 432x288 with 1 Axes>"
      ]
     },
     "metadata": {
      "needs_background": "light"
     },
     "output_type": "display_data"
    }
   ],
   "source": [
    "bank_cell = sns.countplot(\n",
    "        data=df_train,\n",
    "        x=\"cellphone\", hue=\"no_acc\")\n",
    "plt.title('Bank account holding status by cellphone access',family='arial',fontsize=12)\n",
    "plt.xlabel('Cellphone access')\n",
    "plt.ylabel('Count');"
   ]
  },
  {
   "cell_type": "code",
   "execution_count": 20,
   "metadata": {},
   "outputs": [
    {
     "name": "stdout",
     "output_type": "stream",
     "text": [
      "Does not own a cellphone\n",
      "Percentage of unbanked: 98.11\n",
      "Percentage of banked: 1.89\n",
      "\n",
      "\n",
      "Owns a cellphone\n",
      "Percentage of unbanked: 81.72\n",
      "Percentage of banked: 18.28\n"
     ]
    }
   ],
   "source": [
    "calculate_pct('cellphone',0,0,'no_acc','Does not own a cellphone')\n",
    "print('\\n')\n",
    "calculate_pct('cellphone',1,1,'no_acc','Owns a cellphone')"
   ]
  },
  {
   "cell_type": "code",
   "execution_count": 49,
   "metadata": {},
   "outputs": [],
   "source": [
    "#df_train.to_excel('bank_train1.xlsx')"
   ]
  }
 ],
 "metadata": {
  "kernelspec": {
   "display_name": "Python 3",
   "language": "python",
   "name": "python3"
  },
  "language_info": {
   "codemirror_mode": {
    "name": "ipython",
    "version": 3
   },
   "file_extension": ".py",
   "mimetype": "text/x-python",
   "name": "python",
   "nbconvert_exporter": "python",
   "pygments_lexer": "ipython3",
   "version": "3.8.5"
  }
 },
 "nbformat": 4,
 "nbformat_minor": 4
}
