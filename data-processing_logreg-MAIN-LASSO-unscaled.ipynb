{
 "cells": [
  {
   "cell_type": "code",
   "execution_count": 1,
   "metadata": {},
   "outputs": [],
   "source": [
    "import pandas as pd\n",
    "import numpy as np\n",
    "\n",
    "from sklearn.model_selection import train_test_split\n",
    "from sklearn.preprocessing import StandardScaler, PolynomialFeatures, OneHotEncoder\n",
    "from sklearn.linear_model import LogisticRegression\n",
    "from sklearn.metrics import roc_auc_score, confusion_matrix, roc_curve, accuracy_score, precision_score, recall_score, f1_score\n",
    "\n",
    "import seaborn as sns\n",
    "import matplotlib.pyplot as plt\n",
    "\n",
    "import datetime as dt\n",
    "from datetime import datetime\n",
    "\n",
    "import statsmodels.api as sm\n",
    "import statsmodels.formula.api as smf\n",
    "\n",
    "from pandasql import sqldf\n",
    "\n",
    "from sklearn.compose import ColumnTransformer\n",
    "from sklearn.datasets import fetch_openml\n",
    "from sklearn.pipeline import Pipeline"
   ]
  },
  {
   "cell_type": "code",
   "execution_count": 2,
   "metadata": {},
   "outputs": [
    {
     "data": {
      "text/plain": [
       "(23524, 13)"
      ]
     },
     "execution_count": 2,
     "metadata": {},
     "output_type": "execute_result"
    }
   ],
   "source": [
    "df = pd.read_csv('data.csv')\n",
    "df.shape"
   ]
  },
  {
   "cell_type": "code",
   "execution_count": 3,
   "metadata": {},
   "outputs": [
    {
     "data": {
      "text/html": [
       "<div>\n",
       "<style scoped>\n",
       "    .dataframe tbody tr th:only-of-type {\n",
       "        vertical-align: middle;\n",
       "    }\n",
       "\n",
       "    .dataframe tbody tr th {\n",
       "        vertical-align: top;\n",
       "    }\n",
       "\n",
       "    .dataframe thead th {\n",
       "        text-align: right;\n",
       "    }\n",
       "</style>\n",
       "<table border=\"1\" class=\"dataframe\">\n",
       "  <thead>\n",
       "    <tr style=\"text-align: right;\">\n",
       "      <th></th>\n",
       "      <th>country</th>\n",
       "      <th>year</th>\n",
       "      <th>uniqueid</th>\n",
       "      <th>bank_account</th>\n",
       "      <th>location_type</th>\n",
       "      <th>cellphone_access</th>\n",
       "      <th>household_size</th>\n",
       "      <th>age_of_respondent</th>\n",
       "      <th>relationship_with_head</th>\n",
       "      <th>marital_status</th>\n",
       "      <th>education_level</th>\n",
       "      <th>job_type</th>\n",
       "    </tr>\n",
       "    <tr>\n",
       "      <th>gender_of_respondent</th>\n",
       "      <th></th>\n",
       "      <th></th>\n",
       "      <th></th>\n",
       "      <th></th>\n",
       "      <th></th>\n",
       "      <th></th>\n",
       "      <th></th>\n",
       "      <th></th>\n",
       "      <th></th>\n",
       "      <th></th>\n",
       "      <th></th>\n",
       "      <th></th>\n",
       "    </tr>\n",
       "  </thead>\n",
       "  <tbody>\n",
       "    <tr>\n",
       "      <th>Female</th>\n",
       "      <td>13877</td>\n",
       "      <td>13877</td>\n",
       "      <td>13877</td>\n",
       "      <td>13877</td>\n",
       "      <td>13877</td>\n",
       "      <td>13877</td>\n",
       "      <td>13877</td>\n",
       "      <td>13877</td>\n",
       "      <td>13877</td>\n",
       "      <td>13877</td>\n",
       "      <td>13877</td>\n",
       "      <td>13877</td>\n",
       "    </tr>\n",
       "    <tr>\n",
       "      <th>Male</th>\n",
       "      <td>9647</td>\n",
       "      <td>9647</td>\n",
       "      <td>9647</td>\n",
       "      <td>9647</td>\n",
       "      <td>9647</td>\n",
       "      <td>9647</td>\n",
       "      <td>9647</td>\n",
       "      <td>9647</td>\n",
       "      <td>9647</td>\n",
       "      <td>9647</td>\n",
       "      <td>9647</td>\n",
       "      <td>9647</td>\n",
       "    </tr>\n",
       "  </tbody>\n",
       "</table>\n",
       "</div>"
      ],
      "text/plain": [
       "                      country   year  uniqueid  bank_account  location_type  \\\n",
       "gender_of_respondent                                                          \n",
       "Female                  13877  13877     13877         13877          13877   \n",
       "Male                     9647   9647      9647          9647           9647   \n",
       "\n",
       "                      cellphone_access  household_size  age_of_respondent  \\\n",
       "gender_of_respondent                                                        \n",
       "Female                           13877           13877              13877   \n",
       "Male                              9647            9647               9647   \n",
       "\n",
       "                      relationship_with_head  marital_status  education_level  \\\n",
       "gender_of_respondent                                                            \n",
       "Female                                 13877           13877            13877   \n",
       "Male                                    9647            9647             9647   \n",
       "\n",
       "                      job_type  \n",
       "gender_of_respondent            \n",
       "Female                   13877  \n",
       "Male                      9647  "
      ]
     },
     "execution_count": 3,
     "metadata": {},
     "output_type": "execute_result"
    }
   ],
   "source": [
    "df.groupby('gender_of_respondent').count()"
   ]
  },
  {
   "cell_type": "code",
   "execution_count": 4,
   "metadata": {},
   "outputs": [],
   "source": [
    "x = df[['country', 'year', 'uniqueid', 'location_type',\n",
    "       'cellphone_access', 'household_size', 'age_of_respondent',\n",
    "       'gender_of_respondent', 'relationship_with_head', 'marital_status',\n",
    "       'education_level', 'job_type']]\n",
    "\n",
    "\n",
    "y = df[['bank_account']]\n",
    "\n",
    "x_tr, x_test, y_tr, y_test = train_test_split(x, y,test_size=.25, random_state=12)"
   ]
  },
  {
   "cell_type": "code",
   "execution_count": 5,
   "metadata": {
    "scrolled": true
   },
   "outputs": [
    {
     "name": "stderr",
     "output_type": "stream",
     "text": [
      "<ipython-input-5-02e3f9e08314>:1: SettingWithCopyWarning: \n",
      "A value is trying to be set on a copy of a slice from a DataFrame.\n",
      "Try using .loc[row_indexer,col_indexer] = value instead\n",
      "\n",
      "See the caveats in the documentation: https://pandas.pydata.org/pandas-docs/stable/user_guide/indexing.html#returning-a-view-versus-a-copy\n",
      "  x_tr['is_urban'] = np.where(x_tr['location_type'] == 'Urban',1,0)\n",
      "<ipython-input-5-02e3f9e08314>:2: SettingWithCopyWarning: \n",
      "A value is trying to be set on a copy of a slice from a DataFrame.\n",
      "Try using .loc[row_indexer,col_indexer] = value instead\n",
      "\n",
      "See the caveats in the documentation: https://pandas.pydata.org/pandas-docs/stable/user_guide/indexing.html#returning-a-view-versus-a-copy\n",
      "  x_tr['cellphone'] = np.where(x_tr['cellphone_access'] == 'Yes',1,0)\n",
      "<ipython-input-5-02e3f9e08314>:3: SettingWithCopyWarning: \n",
      "A value is trying to be set on a copy of a slice from a DataFrame.\n",
      "Try using .loc[row_indexer,col_indexer] = value instead\n",
      "\n",
      "See the caveats in the documentation: https://pandas.pydata.org/pandas-docs/stable/user_guide/indexing.html#returning-a-view-versus-a-copy\n",
      "  x_tr['is_male'] = np.where(x_tr['gender_of_respondent'] == 'Male',1,0)\n"
     ]
    }
   ],
   "source": [
    "x_tr['is_urban'] = np.where(x_tr['location_type'] == 'Urban',1,0)\n",
    "x_tr['cellphone'] = np.where(x_tr['cellphone_access'] == 'Yes',1,0)\n",
    "x_tr['is_male'] = np.where(x_tr['gender_of_respondent'] == 'Male',1,0)"
   ]
  },
  {
   "cell_type": "code",
   "execution_count": 6,
   "metadata": {},
   "outputs": [],
   "source": [
    "country_avg = dict(x_tr.groupby('country')['household_size'].mean())"
   ]
  },
  {
   "cell_type": "code",
   "execution_count": 7,
   "metadata": {},
   "outputs": [
    {
     "data": {
      "text/plain": [
       "{'Kenya': 3.980457472795914,\n",
       " 'Rwanda': 4.490705177446612,\n",
       " 'Tanzania': 2.338022587675847,\n",
       " 'Uganda': 4.945707070707071}"
      ]
     },
     "execution_count": 7,
     "metadata": {},
     "output_type": "execute_result"
    }
   ],
   "source": [
    "country_avg"
   ]
  },
  {
   "cell_type": "code",
   "execution_count": 8,
   "metadata": {},
   "outputs": [
    {
     "name": "stderr",
     "output_type": "stream",
     "text": [
      "/Users/tawneykirkland/opt/anaconda3/lib/python3.8/site-packages/pandas/core/indexing.py:659: SettingWithCopyWarning: \n",
      "A value is trying to be set on a copy of a slice from a DataFrame.\n",
      "Try using .loc[row_indexer,col_indexer] = value instead\n",
      "\n",
      "See the caveats in the documentation: https://pandas.pydata.org/pandas-docs/stable/user_guide/indexing.html#returning-a-view-versus-a-copy\n",
      "  self.obj[k] = np.nan\n",
      "/Users/tawneykirkland/opt/anaconda3/lib/python3.8/site-packages/pandas/core/indexing.py:1736: SettingWithCopyWarning: \n",
      "A value is trying to be set on a copy of a slice from a DataFrame.\n",
      "Try using .loc[row_indexer,col_indexer] = value instead\n",
      "\n",
      "See the caveats in the documentation: https://pandas.pydata.org/pandas-docs/stable/user_guide/indexing.html#returning-a-view-versus-a-copy\n",
      "  isetter(loc, value[:, i].tolist())\n"
     ]
    }
   ],
   "source": [
    "x_tr.loc[x_tr['country'] == 'Kenya', ['mean_hh']] = x_tr['household_size'] / 3.98\n",
    "x_tr.loc[x_tr['country'] == 'Rwanda', ['mean_hh']] = x_tr['household_size'] / 4.49\n",
    "x_tr.loc[x_tr['country'] == 'Tanzania', ['mean_hh']] = x_tr['household_size'] / 2.34\n",
    "x_tr.loc[x_tr['country'] == 'Uganda', ['mean_hh']] = x_tr['household_size'] / 4.95"
   ]
  },
  {
   "cell_type": "code",
   "execution_count": 9,
   "metadata": {},
   "outputs": [],
   "source": [
    "x_tr_cont = x_tr[['year','household_size','age_of_respondent','is_urban','cellphone','is_male','mean_hh']]\n",
    "x_tr_cat = x_tr[['country','relationship_with_head', 'marital_status','education_level', 'job_type']]"
   ]
  },
  {
   "cell_type": "code",
   "execution_count": 10,
   "metadata": {},
   "outputs": [
    {
     "name": "stderr",
     "output_type": "stream",
     "text": [
      "/Users/tawneykirkland/opt/anaconda3/lib/python3.8/site-packages/pandas/core/indexing.py:670: SettingWithCopyWarning: \n",
      "A value is trying to be set on a copy of a slice from a DataFrame\n",
      "\n",
      "See the caveats in the documentation: https://pandas.pydata.org/pandas-docs/stable/user_guide/indexing.html#returning-a-view-versus-a-copy\n",
      "  iloc._setitem_with_indexer(indexer, value)\n",
      "<ipython-input-10-4a08e3cd5a34>:2: SettingWithCopyWarning: \n",
      "A value is trying to be set on a copy of a slice from a DataFrame\n",
      "\n",
      "See the caveats in the documentation: https://pandas.pydata.org/pandas-docs/stable/user_guide/indexing.html#returning-a-view-versus-a-copy\n",
      "  x_tr_cat.loc[x_tr['marital_status'] == 'Dont know', ['marital_status']] = 'Single/Never Married'\n",
      "<ipython-input-10-4a08e3cd5a34>:3: SettingWithCopyWarning: \n",
      "A value is trying to be set on a copy of a slice from a DataFrame\n",
      "\n",
      "See the caveats in the documentation: https://pandas.pydata.org/pandas-docs/stable/user_guide/indexing.html#returning-a-view-versus-a-copy\n",
      "  x_tr_cat.loc[x_tr['education_level'] == 'Other/Dont know/RTA', ['education_level']] = 'No formal education'\n",
      "<ipython-input-10-4a08e3cd5a34>:4: SettingWithCopyWarning: \n",
      "A value is trying to be set on a copy of a slice from a DataFrame\n",
      "\n",
      "See the caveats in the documentation: https://pandas.pydata.org/pandas-docs/stable/user_guide/indexing.html#returning-a-view-versus-a-copy\n",
      "  x_tr_cat.loc[x_tr['job_type'] == 'Dont Know/Refuse to answer', ['job_type']] = 'No Income'\n",
      "<ipython-input-10-4a08e3cd5a34>:5: SettingWithCopyWarning: \n",
      "A value is trying to be set on a copy of a slice from a DataFrame\n",
      "\n",
      "See the caveats in the documentation: https://pandas.pydata.org/pandas-docs/stable/user_guide/indexing.html#returning-a-view-versus-a-copy\n",
      "  x_tr_cat.loc[x_tr['relationship_with_head'] == 'Other non-relatives', ['relationship_with_head']] = 'Other relative'\n"
     ]
    }
   ],
   "source": [
    "# Regroup to reduce number of categories\n",
    "x_tr_cat.loc[x_tr['marital_status'] == 'Dont know', ['marital_status']] = 'Single/Never Married'\n",
    "x_tr_cat.loc[x_tr['education_level'] == 'Other/Dont know/RTA', ['education_level']] = 'No formal education'\n",
    "x_tr_cat.loc[x_tr['job_type'] == 'Dont Know/Refuse to answer', ['job_type']] = 'No Income'\n",
    "x_tr_cat.loc[x_tr['relationship_with_head'] == 'Other non-relatives', ['relationship_with_head']] = 'Other relative'"
   ]
  },
  {
   "cell_type": "code",
   "execution_count": 11,
   "metadata": {},
   "outputs": [
    {
     "name": "stderr",
     "output_type": "stream",
     "text": [
      "<ipython-input-11-dc6323112d16>:1: SettingWithCopyWarning: \n",
      "A value is trying to be set on a copy of a slice from a DataFrame.\n",
      "Try using .loc[row_indexer,col_indexer] = value instead\n",
      "\n",
      "See the caveats in the documentation: https://pandas.pydata.org/pandas-docs/stable/user_guide/indexing.html#returning-a-view-versus-a-copy\n",
      "  y_tr['no_acc'] = np.where(y_tr['bank_account'] == 'No', 1,0)\n",
      "/Users/tawneykirkland/opt/anaconda3/lib/python3.8/site-packages/pandas/core/frame.py:4163: SettingWithCopyWarning: \n",
      "A value is trying to be set on a copy of a slice from a DataFrame\n",
      "\n",
      "See the caveats in the documentation: https://pandas.pydata.org/pandas-docs/stable/user_guide/indexing.html#returning-a-view-versus-a-copy\n",
      "  return super().drop(\n"
     ]
    }
   ],
   "source": [
    "y_tr['no_acc'] = np.where(y_tr['bank_account'] == 'No', 1,0)\n",
    "y_tr.drop(columns='bank_account',inplace=True)"
   ]
  },
  {
   "cell_type": "code",
   "execution_count": 12,
   "metadata": {
    "scrolled": true
   },
   "outputs": [],
   "source": [
    "#from sklearn.preprocessing import minmax_scale\n",
    "\n",
    "#x_tr_cont[['household_size','age_of_respondent']] = minmax_scale(x_tr_cont[['household_size','age_of_respondent']])"
   ]
  },
  {
   "cell_type": "code",
   "execution_count": 13,
   "metadata": {
    "scrolled": true
   },
   "outputs": [],
   "source": [
    "ohe = OneHotEncoder(drop='first', sparse=False)\n",
    "\n",
    "ohe.fit(x_tr_cat)\n",
    "\n",
    "ohe_x_train = ohe.transform(x_tr_cat)\n",
    "\n",
    "columns = ohe.get_feature_names(['country',\n",
    "                                 'relationship_with_head', \n",
    "                                 'marital_status',\n",
    "                                 'education_level', \n",
    "                                 'job_type'])\n",
    "\n",
    "ohe_x_tr_df = pd.DataFrame(ohe_x_train, columns=columns, index=x_tr.index)"
   ]
  },
  {
   "cell_type": "code",
   "execution_count": 14,
   "metadata": {},
   "outputs": [],
   "source": [
    "combo_train_df = pd.concat([x_tr_cont, ohe_x_tr_df], axis=1)"
   ]
  },
  {
   "cell_type": "code",
   "execution_count": 15,
   "metadata": {},
   "outputs": [],
   "source": [
    "x_train, x_val, y_train, y_val = train_test_split(combo_train_df, y_tr, test_size=.20, random_state=11)"
   ]
  },
  {
   "cell_type": "code",
   "execution_count": 16,
   "metadata": {
    "scrolled": true
   },
   "outputs": [
    {
     "data": {
      "image/png": "[encoded data removed]",
      "text/plain": [
       "<Figure size 432x288 with 1 Axes>"
      ]
     },
     "metadata": {
      "needs_background": "light"
     },
     "output_type": "display_data"
    }
   ],
   "source": [
    "sns.countplot(x='no_acc', data=y_train)\n",
    "plt.title('Bank account holding status',family='arial',fontsize=16)\n",
    "plt.xlabel('Bank account')\n",
    "plt.ylabel('Count')\n",
    "plt.show;"
   ]
  },
  {
   "cell_type": "code",
   "execution_count": 17,
   "metadata": {},
   "outputs": [
    {
     "name": "stdout",
     "output_type": "stream",
     "text": [
      "percentage of no account: 85.9288649567805\n",
      "percentage of account 14.071135043219499\n"
     ]
    }
   ],
   "source": [
    "count_no_acc = len(y_train[y_train['no_acc']==1])\n",
    "count_acc = len(y_train[y_train['no_acc']==0])\n",
    "pct_of_no_acc = count_no_acc/(count_no_acc+count_acc)\n",
    "print(\"percentage of no account:\", pct_of_no_acc*100)\n",
    "pct_of_acc = count_acc/(count_no_acc+count_acc)\n",
    "print(\"percentage of account\", pct_of_acc*100)"
   ]
  },
  {
   "cell_type": "markdown",
   "metadata": {},
   "source": [
    "Classes are __very imbalanced__ - investigate threshold, over and undersampling"
   ]
  },
  {
   "cell_type": "code",
   "execution_count": 18,
   "metadata": {},
   "outputs": [],
   "source": [
    "df_train = pd.concat([x_train,y_train],axis=1)\n",
    "df_val = pd.concat([x_val,y_val],axis=1)"
   ]
  },
  {
   "cell_type": "code",
   "execution_count": 19,
   "metadata": {},
   "outputs": [],
   "source": [
    "# Create dateframes to use for visualisations\n",
    "df_vis_cont = pd.concat([x_tr_cont,y_tr],axis=1)\n",
    "df_vis_cat = pd.concat([ohe_x_tr_df,y_tr],axis=1)"
   ]
  },
  {
   "cell_type": "code",
   "execution_count": 20,
   "metadata": {
    "scrolled": true
   },
   "outputs": [
    {
     "data": {
      "image/png": "[encoded data removed]",
      "text/plain": [
       "<Figure size 1080x1080 with 2 Axes>"
      ]
     },
     "metadata": {
      "needs_background": "light"
     },
     "output_type": "display_data"
    }
   ],
   "source": [
    "fig, ax = plt.subplots(figsize=(15, 15))\n",
    "sns.heatmap(df_train.corr(), cmap=\"seismic\", vmin=-1, vmax=1, ax=ax);"
   ]
  },
  {
   "cell_type": "markdown",
   "metadata": {},
   "source": [
    "## Simple logistic regression\n",
    "\n",
    "Testing with a single variable: is_male"
   ]
  },
  {
   "cell_type": "code",
   "execution_count": 21,
   "metadata": {},
   "outputs": [
    {
     "name": "stdout",
     "output_type": "stream",
     "text": [
      "Optimization terminated successfully.\n",
      "         Current function value: 0.399382\n",
      "         Iterations 6\n"
     ]
    }
   ],
   "source": [
    "#Model on is_male first\n",
    "lm_1 = sm.Logit(df_train['no_acc'],  # with statsmodels, `y` comes first\n",
    "                sm.add_constant(df_train[['is_male']]))  # and then `x`\n",
    "lm_1 = lm_1.fit()"
   ]
  },
  {
   "cell_type": "code",
   "execution_count": 22,
   "metadata": {},
   "outputs": [
    {
     "data": {
      "text/html": [
       "<table class=\"simpletable\">\n",
       "<caption>Logit Regression Results</caption>\n",
       "<tr>\n",
       "  <th>Dep. Variable:</th>        <td>no_acc</td>      <th>  No. Observations:  </th>  <td> 14114</td>  \n",
       "</tr>\n",
       "<tr>\n",
       "  <th>Model:</th>                 <td>Logit</td>      <th>  Df Residuals:      </th>  <td> 14112</td>  \n",
       "</tr>\n",
       "<tr>\n",
       "  <th>Method:</th>                 <td>MLE</td>       <th>  Df Model:          </th>  <td>     1</td>  \n",
       "</tr>\n",
       "<tr>\n",
       "  <th>Date:</th>            <td>Mon, 08 Feb 2021</td> <th>  Pseudo R-squ.:     </th>  <td>0.01691</td> \n",
       "</tr>\n",
       "<tr>\n",
       "  <th>Time:</th>                <td>16:19:18</td>     <th>  Log-Likelihood:    </th> <td> -5636.9</td> \n",
       "</tr>\n",
       "<tr>\n",
       "  <th>converged:</th>             <td>True</td>       <th>  LL-Null:           </th> <td> -5733.9</td> \n",
       "</tr>\n",
       "<tr>\n",
       "  <th>Covariance Type:</th>     <td>nonrobust</td>    <th>  LLR p-value:       </th> <td>4.398e-44</td>\n",
       "</tr>\n",
       "</table>\n",
       "<table class=\"simpletable\">\n",
       "<tr>\n",
       "     <td></td>        <th>coef</th>     <th>std err</th>      <th>z</th>      <th>P>|z|</th>  <th>[0.025</th>    <th>0.975]</th>  \n",
       "</tr>\n",
       "<tr>\n",
       "  <th>const</th>   <td>    2.1251</td> <td>    0.035</td> <td>   60.055</td> <td> 0.000</td> <td>    2.056</td> <td>    2.194</td>\n",
       "</tr>\n",
       "<tr>\n",
       "  <th>is_male</th> <td>   -0.6779</td> <td>    0.049</td> <td>  -13.887</td> <td> 0.000</td> <td>   -0.774</td> <td>   -0.582</td>\n",
       "</tr>\n",
       "</table>"
      ],
      "text/plain": [
       "<class 'statsmodels.iolib.summary.Summary'>\n",
       "\"\"\"\n",
       "                           Logit Regression Results                           \n",
       "==============================================================================\n",
       "Dep. Variable:                 no_acc   No. Observations:                14114\n",
       "Model:                          Logit   Df Residuals:                    14112\n",
       "Method:                           MLE   Df Model:                            1\n",
       "Date:                Mon, 08 Feb 2021   Pseudo R-squ.:                 0.01691\n",
       "Time:                        16:19:18   Log-Likelihood:                -5636.9\n",
       "converged:                       True   LL-Null:                       -5733.9\n",
       "Covariance Type:            nonrobust   LLR p-value:                 4.398e-44\n",
       "==============================================================================\n",
       "                 coef    std err          z      P>|z|      [0.025      0.975]\n",
       "------------------------------------------------------------------------------\n",
       "const          2.1251      0.035     60.055      0.000       2.056       2.194\n",
       "is_male       -0.6779      0.049    -13.887      0.000      -0.774      -0.582\n",
       "==============================================================================\n",
       "\"\"\""
      ]
     },
     "execution_count": 22,
     "metadata": {},
     "output_type": "execute_result"
    }
   ],
   "source": [
    "lm_1.summary()"
   ]
  },
  {
   "cell_type": "code",
   "execution_count": 23,
   "metadata": {},
   "outputs": [
    {
     "data": {
      "text/plain": [
       "LogisticRegression(C=100000, solver='newton-cg')"
      ]
     },
     "execution_count": 23,
     "metadata": {},
     "output_type": "execute_result"
    }
   ],
   "source": [
    "lm_1 = LogisticRegression(solver='newton-cg',  # For comparison, use the same solver as statsmodels default\n",
    "                          C=100000)  # No regularization\n",
    "\n",
    "lm_1.fit(df_train[['is_male']], df_train['no_acc'])"
   ]
  },
  {
   "cell_type": "code",
   "execution_count": 24,
   "metadata": {},
   "outputs": [
    {
     "name": "stdout",
     "output_type": "stream",
     "text": [
      "intercept:  2.1251\n",
      "is_male coef:  -0.6779\n"
     ]
    }
   ],
   "source": [
    "print('intercept: ', round(lm_1.intercept_[0], 4))\n",
    "print('is_male coef: ', round(lm_1.coef_[0][0], 4))"
   ]
  },
  {
   "cell_type": "code",
   "execution_count": 25,
   "metadata": {},
   "outputs": [],
   "source": [
    "df_eval = df_val.copy()\n",
    "df_eval['pred'] = lm_1.predict(df_val[['is_male']])\n",
    "df_eval.loc[:, 'pred'] = df_eval['pred'].astype('category')\n",
    "df_eval['correct_pred'] = df_eval['pred'] == df_eval['no_acc']"
   ]
  },
  {
   "cell_type": "code",
   "execution_count": 26,
   "metadata": {},
   "outputs": [
    {
     "data": {
      "image/png": "[encoded data removed]",
      "text/plain": [
       "<Figure size 432x288 with 1 Axes>"
      ]
     },
     "metadata": {
      "needs_background": "light"
     },
     "output_type": "display_data"
    }
   ],
   "source": [
    "sns.stripplot(data=df_eval,\n",
    "              x='is_male',\n",
    "              y='pred',\n",
    "              hue='correct_pred',\n",
    "              palette={False: '#f03b20', True: '#3182bd'});"
   ]
  },
  {
   "cell_type": "code",
   "execution_count": 27,
   "metadata": {
    "scrolled": true
   },
   "outputs": [
    {
     "data": {
      "text/plain": [
       "array([[0.10668258, 0.89331742],\n",
       "       [0.19044297, 0.80955703],\n",
       "       [0.10668258, 0.89331742],\n",
       "       [0.10668258, 0.89331742],\n",
       "       [0.19044297, 0.80955703]])"
      ]
     },
     "execution_count": 27,
     "metadata": {},
     "output_type": "execute_result"
    }
   ],
   "source": [
    "lm_1.predict_proba(df_val[['is_male']])[:5]"
   ]
  },
  {
   "cell_type": "code",
   "execution_count": 28,
   "metadata": {},
   "outputs": [
    {
     "data": {
      "text/plain": [
       "array([[   0,  492],\n",
       "       [   0, 3037]])"
      ]
     },
     "execution_count": 28,
     "metadata": {},
     "output_type": "execute_result"
    }
   ],
   "source": [
    "confusion_matrix(df_eval['no_acc'], df_eval['pred'])"
   ]
  },
  {
   "cell_type": "markdown",
   "metadata": {},
   "source": [
    "\n",
    "| | predict No account (0) | predict account (1)|\n",
    "|---|---|---|\n",
    "| **is no account (0)** | 3037 | 0|\n",
    "| **is account (1)** | 492 | 0 |"
   ]
  },
  {
   "cell_type": "markdown",
   "metadata": {},
   "source": [
    "I believe it is predicting all no account because of the following:\n",
    "* Classes are very imbalanced (85:15 no account to account)\n",
    "* One variable alone may not be sufficient enough in this instance\n",
    "* Perhaps because is_male class is also imbalanced?"
   ]
  },
  {
   "cell_type": "markdown",
   "metadata": {},
   "source": [
    "## Multiple regression - excluding mean hh\n",
    "The below analysis is a multiple logistic regression for all features "
   ]
  },
  {
   "cell_type": "code",
   "execution_count": 29,
   "metadata": {},
   "outputs": [],
   "source": [
    "features = ['household_size', 'age_of_respondent', 'is_urban', 'cellphone',\n",
    "       'is_male', 'country_Rwanda', 'country_Tanzania', 'country_Uganda',\n",
    "       'relationship_with_head_Head of Household',\n",
    "       'relationship_with_head_Other relative',\n",
    "       'relationship_with_head_Parent', 'relationship_with_head_Spouse',\n",
    "       'marital_status_Married/Living together',\n",
    "       'marital_status_Single/Never Married', 'marital_status_Widowed',\n",
    "       'education_level_Primary education',\n",
    "       'education_level_Secondary education',\n",
    "       'education_level_Tertiary education',\n",
    "       'education_level_Vocational/Specialised training',\n",
    "       'job_type_Formally employed Government',\n",
    "       'job_type_Formally employed Private', 'job_type_Government Dependent',\n",
    "       'job_type_Informally employed', 'job_type_No Income',\n",
    "       'job_type_Other Income', 'job_type_Remittance Dependent',\n",
    "       'job_type_Self employed']"
   ]
  },
  {
   "cell_type": "markdown",
   "metadata": {},
   "source": [
    "The below analysis includes all features. Thereafter the analyses remove insignificant features one by one."
   ]
  },
  {
   "cell_type": "code",
   "execution_count": 30,
   "metadata": {
    "scrolled": true
   },
   "outputs": [
    {
     "name": "stdout",
     "output_type": "stream",
     "text": [
      "Accuracy of logistic regression classifier on val set: 0.89\n"
     ]
    }
   ],
   "source": [
    "lm_2 = LogisticRegression(C=1e13,penalty='l1',solver='liblinear')\n",
    "lm_2.fit(df_train[features], df_train['no_acc'])\n",
    "\n",
    "preds = lm_2.predict(df_val[features])\n",
    "print('Accuracy of logistic regression classifier on val set: {:.2f}'.format(lm_2.score(df_val[features], y_val)))"
   ]
  },
  {
   "cell_type": "code",
   "execution_count": 31,
   "metadata": {
    "scrolled": true
   },
   "outputs": [
    {
     "name": "stdout",
     "output_type": "stream",
     "text": [
      "Feature coefficient results: \n",
      "\n",
      "household_size : -0.002\n",
      "age_of_respondent : -0.013\n",
      "is_urban : -0.272\n",
      "cellphone : -1.635\n",
      "is_male : -0.456\n",
      "country_Rwanda : 0.335\n",
      "country_Tanzania : 1.267\n",
      "country_Uganda : 1.214\n",
      "relationship_with_head_Head of Household : -0.802\n",
      "relationship_with_head_Other relative : -0.126\n",
      "relationship_with_head_Parent : -0.031\n",
      "relationship_with_head_Spouse : -0.576\n",
      "marital_status_Married/Living together : -0.038\n",
      "marital_status_Single/Never Married : 0.122\n",
      "marital_status_Widowed : -0.066\n",
      "education_level_Primary education : -0.765\n",
      "education_level_Secondary education : -1.767\n",
      "education_level_Tertiary education : -3.238\n",
      "education_level_Vocational/Specialised training : -2.777\n",
      "job_type_Formally employed Government : -1.616\n",
      "job_type_Formally employed Private : -1.726\n",
      "job_type_Government Dependent : -1.215\n",
      "job_type_Informally employed : 0.360\n",
      "job_type_No Income : 0.186\n",
      "job_type_Other Income : -0.674\n",
      "job_type_Remittance Dependent : 0.201\n",
      "job_type_Self employed : -0.463\n"
     ]
    }
   ],
   "source": [
    "print('Feature coefficient results: \\n')\n",
    "for feature, coef in zip(df_train[features].columns, lm_2.coef_.reshape(1, -1)[0]):\n",
    "        print(feature, ':', f'{coef:.3f}')"
   ]
  },
  {
   "cell_type": "code",
   "execution_count": 32,
   "metadata": {},
   "outputs": [
    {
     "data": {
      "text/plain": [
       "array([5.67782525])"
      ]
     },
     "execution_count": 32,
     "metadata": {},
     "output_type": "execute_result"
    }
   ],
   "source": [
    "lm_2.intercept_"
   ]
  },
  {
   "cell_type": "code",
   "execution_count": 33,
   "metadata": {},
   "outputs": [],
   "source": [
    "df_val['preds'] = lm_2.predict(df_val[features])"
   ]
  },
  {
   "cell_type": "code",
   "execution_count": 34,
   "metadata": {},
   "outputs": [],
   "source": [
    "import sys\n",
    "np.set_printoptions(threshold=sys.maxsize)"
   ]
  },
  {
   "cell_type": "code",
   "execution_count": 35,
   "metadata": {},
   "outputs": [],
   "source": [
    "y_prob = lm_2.predict_proba(df_val[features])"
   ]
  },
  {
   "cell_type": "code",
   "execution_count": 36,
   "metadata": {
    "scrolled": true
   },
   "outputs": [
    {
     "data": {
      "text/plain": [
       "array([[ 168,  324],\n",
       "       [  79, 2958]])"
      ]
     },
     "execution_count": 36,
     "metadata": {},
     "output_type": "execute_result"
    }
   ],
   "source": [
    "confusion_matrix(df_val['no_acc'], \n",
    "                 preds)"
   ]
  },
  {
   "cell_type": "markdown",
   "metadata": {},
   "source": [
    "\n",
    "| | predict No account (0) | predict account (1)|\n",
    "|---|---|---|\n",
    "| **is no account (0)** | 2954 | 83|\n",
    "| **is account (1)** | 337 | 155 |"
   ]
  },
  {
   "cell_type": "markdown",
   "metadata": {},
   "source": [
    "Need to understand and decide on the __trade off between recall and precision__\n",
    "\n",
    "Precision is the number of observations predicted positive over the total actual positives. The precision is intuitively the ability of the classifier to not label a sample as positive if it is negative.\n",
    "\n",
    "The recall is the number of actually positive observations over the number predicted positive. The recall is intuitively the ability of the classifier to find all the positive samples."
   ]
  },
  {
   "cell_type": "code",
   "execution_count": 37,
   "metadata": {
    "scrolled": true
   },
   "outputs": [
    {
     "name": "stdout",
     "output_type": "stream",
     "text": [
      "              precision    recall  f1-score   support\n",
      "\n",
      "           0       0.68      0.34      0.45       492\n",
      "           1       0.90      0.97      0.94      3037\n",
      "\n",
      "    accuracy                           0.89      3529\n",
      "   macro avg       0.79      0.66      0.70      3529\n",
      "weighted avg       0.87      0.89      0.87      3529\n",
      "\n"
     ]
    }
   ],
   "source": [
    "from sklearn.metrics import classification_report\n",
    "print(classification_report(y_val, preds))"
   ]
  },
  {
   "cell_type": "code",
   "execution_count": 38,
   "metadata": {},
   "outputs": [],
   "source": [
    "df_val['proba_bank'] = lm_2.predict_proba(df_val[features])[:, 1]\n",
    "\n",
    "fpr2, tpr2, thresholds2 = roc_curve(df_val['no_acc'],\n",
    "                                 df_val['proba_bank'])"
   ]
  },
  {
   "cell_type": "code",
   "execution_count": 39,
   "metadata": {},
   "outputs": [],
   "source": [
    "def plot_roc(true, probas,fpr,tpr):\n",
    "    auc = roc_auc_score(true, probas)\n",
    "\n",
    "    plt.plot(fpr, tpr, marker='o')\n",
    "    plt.xlabel('1 - Specificity (FPR)')\n",
    "    plt.ylabel('Sensitivity (TPR)');\n",
    "    plt.title(f\"Area Under the ROC Curve: {round(auc, 3)}\");"
   ]
  },
  {
   "cell_type": "code",
   "execution_count": 40,
   "metadata": {
    "scrolled": false
   },
   "outputs": [
    {
     "data": {
      "image/png": "[encoded data removed]",
      "text/plain": [
       "<Figure size 432x288 with 1 Axes>"
      ]
     },
     "metadata": {
      "needs_background": "light"
     },
     "output_type": "display_data"
    }
   ],
   "source": [
    "plot_roc(df_val['no_acc'], df_val['proba_bank'],fpr2,tpr2)"
   ]
  },
  {
   "cell_type": "markdown",
   "metadata": {},
   "source": [
    "## Adjusting threshold"
   ]
  },
  {
   "cell_type": "code",
   "execution_count": 41,
   "metadata": {},
   "outputs": [],
   "source": [
    "threshold = .50\n",
    "y_pred = np.where((y_prob[:, 0] > threshold),0,1)"
   ]
  },
  {
   "cell_type": "code",
   "execution_count": 42,
   "metadata": {
    "scrolled": true
   },
   "outputs": [
    {
     "data": {
      "text/plain": [
       "array([[ 168,  324],\n",
       "       [  79, 2958]])"
      ]
     },
     "execution_count": 42,
     "metadata": {},
     "output_type": "execute_result"
    }
   ],
   "source": [
    "confusion_matrix(df_val['no_acc'], \n",
    "                 y_pred)"
   ]
  },
  {
   "cell_type": "code",
   "execution_count": 43,
   "metadata": {},
   "outputs": [],
   "source": [
    "df_val['preds'] = np.where((y_prob[:, 0] > threshold),0,1)\n",
    "df_comp = df_val[(df_val['no_acc'] != df_val['preds']) & (df_val['household_size'] ==1)]"
   ]
  },
  {
   "cell_type": "code",
   "execution_count": 44,
   "metadata": {},
   "outputs": [],
   "source": [
    "pd.set_option('display.max_columns', None)"
   ]
  },
  {
   "cell_type": "markdown",
   "metadata": {},
   "source": [
    "## Multiple regression removing insignificant features one by one\n",
    "\n",
    "Based on logit summary above"
   ]
  },
  {
   "cell_type": "markdown",
   "metadata": {},
   "source": [
    "## Removing parent and other relative\n",
    "\n",
    "Based on logit summary above"
   ]
  },
  {
   "cell_type": "code",
   "execution_count": 45,
   "metadata": {},
   "outputs": [],
   "source": [
    "x_train_9 = df_train.drop(columns = ['year','relationship_with_head_Parent','relationship_with_head_Other relative'])\n",
    "\n",
    "df_val_9 = df_val.drop(columns = ['year','relationship_with_head_Parent','relationship_with_head_Other relative'])\n",
    "\n",
    "features9 = ['age_of_respondent','household_size', 'is_urban', 'cellphone',\n",
    "       'is_male', 'country_Rwanda', 'country_Tanzania', 'country_Uganda',\n",
    "       'relationship_with_head_Head of Household',\n",
    "       'relationship_with_head_Spouse',\n",
    "       'marital_status_Married/Living together',\n",
    "       'marital_status_Single/Never Married', 'marital_status_Widowed',\n",
    "       'education_level_Primary education',\n",
    "       'education_level_Secondary education',\n",
    "       'education_level_Tertiary education',\n",
    "       'education_level_Vocational/Specialised training',\n",
    "       'job_type_Formally employed Government',\n",
    "       'job_type_Formally employed Private', 'job_type_Government Dependent',\n",
    "       'job_type_Informally employed', 'job_type_No Income',\n",
    "       'job_type_Remittance Dependent','job_type_Other Income','job_type_Self employed']"
   ]
  },
  {
   "cell_type": "code",
   "execution_count": 46,
   "metadata": {},
   "outputs": [
    {
     "name": "stdout",
     "output_type": "stream",
     "text": [
      "Accuracy of logistic regression classifier on val set: 0.886\n"
     ]
    }
   ],
   "source": [
    "lm_9 = LogisticRegression(C=1e13,penalty='l1',solver='liblinear')\n",
    "lm_9.fit(x_train_9[features9], x_train_9['no_acc'])\n",
    "\n",
    "preds9 = lm_9.predict(df_val_9[features9])\n",
    "print('Accuracy of logistic regression classifier on val set: {:.3f}'.format(\n",
    "    lm_9.score(df_val_9[features9], df_val_9['no_acc'])))"
   ]
  },
  {
   "cell_type": "code",
   "execution_count": 47,
   "metadata": {},
   "outputs": [
    {
     "name": "stdout",
     "output_type": "stream",
     "text": [
      "Feature coefficient results: \n",
      "\n",
      "age_of_respondent : -0.013\n",
      "household_size : -0.001\n",
      "is_urban : -0.273\n",
      "cellphone : -1.629\n",
      "is_male : -0.456\n",
      "country_Rwanda : 0.338\n",
      "country_Tanzania : 1.265\n",
      "country_Uganda : 1.210\n",
      "relationship_with_head_Head of Household : -0.760\n",
      "relationship_with_head_Spouse : -0.535\n",
      "marital_status_Married/Living together : -0.034\n",
      "marital_status_Single/Never Married : 0.133\n",
      "marital_status_Widowed : -0.061\n",
      "education_level_Primary education : -0.760\n",
      "education_level_Secondary education : -1.761\n",
      "education_level_Tertiary education : -3.231\n",
      "education_level_Vocational/Specialised training : -2.773\n",
      "job_type_Formally employed Government : -1.614\n",
      "job_type_Formally employed Private : -1.730\n",
      "job_type_Government Dependent : -1.213\n",
      "job_type_Informally employed : 0.360\n",
      "job_type_No Income : 0.189\n",
      "job_type_Remittance Dependent : 0.204\n",
      "job_type_Other Income : -0.672\n",
      "job_type_Self employed : -0.462\n"
     ]
    }
   ],
   "source": [
    "print('Feature coefficient results: \\n')\n",
    "for feature, coef in zip(x_train_9[features9].columns, lm_9.coef_.reshape(1, -1)[0]):\n",
    "        print(feature, ':', f'{coef:.3f}')"
   ]
  },
  {
   "cell_type": "code",
   "execution_count": 48,
   "metadata": {
    "scrolled": true
   },
   "outputs": [
    {
     "data": {
      "text/plain": [
       "array([[ 169,  323],\n",
       "       [  78, 2959]])"
      ]
     },
     "execution_count": 48,
     "metadata": {},
     "output_type": "execute_result"
    }
   ],
   "source": [
    "confusion_matrix(df_val_9['no_acc'], \n",
    "                 preds9)"
   ]
  },
  {
   "cell_type": "markdown",
   "metadata": {},
   "source": [
    "No change in recall for non-account but minor improvement in recall for account"
   ]
  },
  {
   "cell_type": "code",
   "execution_count": 49,
   "metadata": {
    "scrolled": true
   },
   "outputs": [
    {
     "name": "stdout",
     "output_type": "stream",
     "text": [
      "              precision    recall  f1-score   support\n",
      "\n",
      "           0       0.68      0.34      0.46       492\n",
      "           1       0.90      0.97      0.94      3037\n",
      "\n",
      "    accuracy                           0.89      3529\n",
      "   macro avg       0.79      0.66      0.70      3529\n",
      "weighted avg       0.87      0.89      0.87      3529\n",
      "\n"
     ]
    }
   ],
   "source": [
    "print(classification_report(df_val_9['no_acc'], preds9))"
   ]
  },
  {
   "cell_type": "markdown",
   "metadata": {},
   "source": [
    "## Removing married / living together"
   ]
  },
  {
   "cell_type": "code",
   "execution_count": 50,
   "metadata": {},
   "outputs": [],
   "source": [
    "x_train_10 = x_train_9.drop(columns='marital_status_Married/Living together')\n",
    "\n",
    "df_val_10 = df_val_9.drop(columns='marital_status_Married/Living together')\n",
    "\n",
    "features10 = ['age_of_respondent','household_size', 'is_urban', 'cellphone',\n",
    "       'is_male', 'country_Rwanda', 'country_Tanzania', 'country_Uganda',\n",
    "       'relationship_with_head_Head of Household',\n",
    "       'relationship_with_head_Spouse',\n",
    "       'marital_status_Single/Never Married', 'marital_status_Widowed',\n",
    "       'education_level_Primary education',\n",
    "       'education_level_Secondary education',\n",
    "       'education_level_Tertiary education',\n",
    "       'education_level_Vocational/Specialised training',\n",
    "       'job_type_Formally employed Government',\n",
    "       'job_type_Formally employed Private', 'job_type_Government Dependent',\n",
    "       'job_type_Informally employed', 'job_type_No Income',\n",
    "       'job_type_Remittance Dependent','job_type_Other Income','job_type_Self employed']"
   ]
  },
  {
   "cell_type": "code",
   "execution_count": 51,
   "metadata": {},
   "outputs": [
    {
     "name": "stdout",
     "output_type": "stream",
     "text": [
      "Accuracy of logistic regression classifier on val set: 0.886\n"
     ]
    }
   ],
   "source": [
    "lm_10 = LogisticRegression(C=1e13,penalty='l1',solver='liblinear')\n",
    "lm_10.fit(x_train_10[features10], x_train_10['no_acc'])\n",
    "\n",
    "preds10 = lm_10.predict(df_val_10[features10])\n",
    "print('Accuracy of logistic regression classifier on val set: {:.3f}'.format(lm_10.score(\n",
    "    df_val_10[features10], df_val_10['no_acc'])))"
   ]
  },
  {
   "cell_type": "code",
   "execution_count": 52,
   "metadata": {},
   "outputs": [
    {
     "name": "stdout",
     "output_type": "stream",
     "text": [
      "Feature coefficient results: \n",
      "\n",
      "age_of_respondent : -0.013\n",
      "household_size : -0.002\n",
      "is_urban : -0.274\n",
      "cellphone : -1.631\n",
      "is_male : -0.460\n",
      "country_Rwanda : 0.338\n",
      "country_Tanzania : 1.272\n",
      "country_Uganda : 1.209\n",
      "relationship_with_head_Head of Household : -0.768\n",
      "relationship_with_head_Spouse : -0.549\n",
      "marital_status_Single/Never Married : 0.156\n",
      "marital_status_Widowed : -0.036\n",
      "education_level_Primary education : -0.760\n",
      "education_level_Secondary education : -1.761\n",
      "education_level_Tertiary education : -3.229\n",
      "education_level_Vocational/Specialised training : -2.772\n",
      "job_type_Formally employed Government : -1.613\n",
      "job_type_Formally employed Private : -1.729\n",
      "job_type_Government Dependent : -1.212\n",
      "job_type_Informally employed : 0.362\n",
      "job_type_No Income : 0.191\n",
      "job_type_Remittance Dependent : 0.204\n",
      "job_type_Other Income : -0.671\n",
      "job_type_Self employed : -0.461\n"
     ]
    }
   ],
   "source": [
    "print('Feature coefficient results: \\n')\n",
    "for feature, coef in zip(x_train_10[features10].columns, lm_10.coef_.reshape(1, -1)[0]):\n",
    "        print(feature, ':', f'{coef:.3f}')"
   ]
  },
  {
   "cell_type": "code",
   "execution_count": 53,
   "metadata": {
    "scrolled": true
   },
   "outputs": [
    {
     "data": {
      "text/plain": [
       "array([[ 169,  323],\n",
       "       [  78, 2959]])"
      ]
     },
     "execution_count": 53,
     "metadata": {},
     "output_type": "execute_result"
    }
   ],
   "source": [
    "confusion_matrix(df_val_10['no_acc'], \n",
    "                 preds10)"
   ]
  },
  {
   "cell_type": "code",
   "execution_count": 54,
   "metadata": {
    "scrolled": false
   },
   "outputs": [
    {
     "name": "stdout",
     "output_type": "stream",
     "text": [
      "              precision    recall  f1-score   support\n",
      "\n",
      "           0       0.68      0.34      0.46       492\n",
      "           1       0.90      0.97      0.94      3037\n",
      "\n",
      "    accuracy                           0.89      3529\n",
      "   macro avg       0.79      0.66      0.70      3529\n",
      "weighted avg       0.87      0.89      0.87      3529\n",
      "\n"
     ]
    }
   ],
   "source": [
    "print(classification_report(df_val_10['no_acc'], preds10))"
   ]
  },
  {
   "cell_type": "code",
   "execution_count": 55,
   "metadata": {},
   "outputs": [],
   "source": [
    "from sklearn.metrics import precision_recall_curve\n",
    "from sklearn.metrics import f1_score\n",
    "from sklearn.metrics import auc\n",
    "from matplotlib import pyplot"
   ]
  },
  {
   "cell_type": "code",
   "execution_count": 56,
   "metadata": {},
   "outputs": [],
   "source": [
    "df_val_10['proba_bank'] = lm_10.predict_proba(df_val_10[features10])[:, 1]\n",
    "\n",
    "fpr10, tpr10, thresholds10 = roc_curve(df_val_10['no_acc'],\n",
    "                                 df_val_10['proba_bank'])"
   ]
  },
  {
   "cell_type": "code",
   "execution_count": 57,
   "metadata": {},
   "outputs": [
    {
     "data": {
      "image/png": "[encoded data removed]",
      "text/plain": [
       "<Figure size 432x288 with 1 Axes>"
      ]
     },
     "metadata": {
      "needs_background": "light"
     },
     "output_type": "display_data"
    }
   ],
   "source": [
    "plot_roc(df_val_10['no_acc'], df_val_10['proba_bank'],fpr10,tpr10)"
   ]
  },
  {
   "cell_type": "code",
   "execution_count": 58,
   "metadata": {},
   "outputs": [
    {
     "name": "stdout",
     "output_type": "stream",
     "text": [
      "F1 score for model 10:\n"
     ]
    },
    {
     "data": {
      "text/plain": [
       "0.9365405918658015"
      ]
     },
     "execution_count": 58,
     "metadata": {},
     "output_type": "execute_result"
    }
   ],
   "source": [
    "# calculate F1 score\n",
    "f1_10 = f1_score(df_val_10['no_acc'], preds10)\n",
    "print('F1 score for model 10:')\n",
    "f1_10"
   ]
  },
  {
   "cell_type": "markdown",
   "metadata": {},
   "source": [
    "## Removing household size"
   ]
  },
  {
   "cell_type": "code",
   "execution_count": 59,
   "metadata": {},
   "outputs": [],
   "source": [
    "x_train_13 = x_train_10.drop(columns=['household_size','mean_hh'])\n",
    "\n",
    "df_val_13 = df_val_10.drop(columns=['household_size','mean_hh'])\n",
    "\n",
    "features13 = ['age_of_respondent','is_urban', 'cellphone',\n",
    "       'is_male', 'country_Rwanda', 'country_Tanzania', 'country_Uganda',\n",
    "       'relationship_with_head_Head of Household',\n",
    "       'relationship_with_head_Spouse', \n",
    "       'marital_status_Single/Never Married', 'marital_status_Widowed',\n",
    "       'education_level_Primary education',\n",
    "       'education_level_Secondary education',\n",
    "       'education_level_Tertiary education',\n",
    "       'education_level_Vocational/Specialised training',\n",
    "       'job_type_Formally employed Government',\n",
    "       'job_type_Formally employed Private', 'job_type_Government Dependent',\n",
    "       'job_type_Informally employed', 'job_type_No Income',\n",
    "       'job_type_Remittance Dependent','job_type_Other Income','job_type_Self employed']"
   ]
  },
  {
   "cell_type": "code",
   "execution_count": 60,
   "metadata": {},
   "outputs": [
    {
     "name": "stdout",
     "output_type": "stream",
     "text": [
      "Accuracy of logistic regression classifier on val set: 0.886\n"
     ]
    }
   ],
   "source": [
    "lm_13 = LogisticRegression(C=1e13,penalty='l1',solver='liblinear')\n",
    "lm_13.fit(x_train_13[features13], x_train_13['no_acc'])\n",
    "\n",
    "preds13 = lm_13.predict(df_val_13[features13])\n",
    "print('Accuracy of logistic regression classifier on val set: {:.3f}'.format(lm_13.score(\n",
    "    df_val_13[features13], df_val_13['no_acc'])))"
   ]
  },
  {
   "cell_type": "code",
   "execution_count": 61,
   "metadata": {},
   "outputs": [
    {
     "name": "stdout",
     "output_type": "stream",
     "text": [
      "Feature coefficient results: \n",
      "\n",
      "age_of_respondent : -0.013\n",
      "is_urban : -0.273\n",
      "cellphone : -1.628\n",
      "is_male : -0.461\n",
      "country_Rwanda : 0.337\n",
      "country_Tanzania : 1.275\n",
      "country_Uganda : 1.208\n",
      "relationship_with_head_Head of Household : -0.763\n",
      "relationship_with_head_Spouse : -0.547\n",
      "marital_status_Single/Never Married : 0.157\n",
      "marital_status_Widowed : -0.034\n",
      "education_level_Primary education : -0.759\n",
      "education_level_Secondary education : -1.759\n",
      "education_level_Tertiary education : -3.228\n",
      "education_level_Vocational/Specialised training : -2.770\n",
      "job_type_Formally employed Government : -1.613\n",
      "job_type_Formally employed Private : -1.728\n",
      "job_type_Government Dependent : -1.211\n",
      "job_type_Informally employed : 0.362\n",
      "job_type_No Income : 0.192\n",
      "job_type_Other Income : 0.205\n",
      "job_type_Remittance Dependent : -0.670\n",
      "job_type_Self employed : -0.461\n"
     ]
    }
   ],
   "source": [
    "print('Feature coefficient results: \\n')\n",
    "for feature, coef in zip(x_train_13.columns, lm_13.coef_.reshape(1, -1)[0]):\n",
    "        print(feature, ':', f'{coef:.3f}')"
   ]
  },
  {
   "cell_type": "code",
   "execution_count": 89,
   "metadata": {},
   "outputs": [
    {
     "data": {
      "image/png": "[encoded data removed]",
      "text/plain": [
       "<Figure size 1080x288 with 1 Axes>"
      ]
     },
     "metadata": {
      "needs_background": "light"
     },
     "output_type": "display_data"
    }
   ],
   "source": [
    "plt.figure(figsize=[15,4])\n",
    "\n",
    "ticks_x = ['Vocational \\n training','Secondary \\n education', \n",
    "           'Formally \\n employed \\n Private','Cellphone','Formally \\n employed \\n Government','Government \\n dependent', \n",
    "           'Primary \\n education','Male']\n",
    "\n",
    "y = [-2.77, -1.76,-1.73, -1.63,-1.61, -1.21, -0.76,-0.461]\n",
    "\n",
    "spacing = np.linspace(0,7,8)\n",
    "plt.bar(ticks_x,y)\n",
    "plt.xticks(spacing, ticks_x)\n",
    "plt.title('Highest coefficients')\n",
    "plt.gca().spines['top'].set_visible(False)\n",
    "plt.gca().spines['right'].set_visible(False)\n",
    "plt.tight_layout()\n",
    "plt.show;\n",
    "plt.savefig(\"strongestcoefficients.svg\")"
   ]
  },
  {
   "cell_type": "code",
   "execution_count": 62,
   "metadata": {},
   "outputs": [
    {
     "data": {
      "text/plain": [
       "array([[ 169,  323],\n",
       "       [  78, 2959]])"
      ]
     },
     "execution_count": 62,
     "metadata": {},
     "output_type": "execute_result"
    }
   ],
   "source": [
    "confusion_matrix(df_val_13['no_acc'], \n",
    "                 preds13)"
   ]
  },
  {
   "cell_type": "code",
   "execution_count": 74,
   "metadata": {},
   "outputs": [
    {
     "data": {
      "text/plain": [
       "array([5.58568548])"
      ]
     },
     "execution_count": 74,
     "metadata": {},
     "output_type": "execute_result"
    }
   ],
   "source": [
    "lm_13.intercept_"
   ]
  },
  {
   "cell_type": "code",
   "execution_count": 64,
   "metadata": {},
   "outputs": [
    {
     "name": "stdout",
     "output_type": "stream",
     "text": [
      "              precision    recall  f1-score   support\n",
      "\n",
      "           0       0.68      0.34      0.46       492\n",
      "           1       0.90      0.97      0.94      3037\n",
      "\n",
      "    accuracy                           0.89      3529\n",
      "   macro avg       0.79      0.66      0.70      3529\n",
      "weighted avg       0.87      0.89      0.87      3529\n",
      "\n"
     ]
    }
   ],
   "source": [
    "print(classification_report(df_val_13['no_acc'], preds13))"
   ]
  },
  {
   "cell_type": "code",
   "execution_count": 65,
   "metadata": {},
   "outputs": [],
   "source": [
    "df_val_13['proba_bank'] = lm_13.predict_proba(df_val_13[features13])[:, 1]\n",
    "\n",
    "fpr13, tpr13, thresholds13 = roc_curve(df_val_13['no_acc'],\n",
    "                                 df_val_13['proba_bank'])"
   ]
  },
  {
   "cell_type": "code",
   "execution_count": 66,
   "metadata": {},
   "outputs": [],
   "source": [
    "df_val_13['preds'] = lm_13.predict(df_val_13[features13])\n",
    "df_check = df_val_13[(df_val_13['no_acc'] != df_val_13['preds']) & (df_val_13['proba_bank'] >= 0.65)]"
   ]
  },
  {
   "cell_type": "code",
   "execution_count": 90,
   "metadata": {},
   "outputs": [
    {
     "data": {
      "image/png": "[encoded data removed]",
      "text/plain": [
       "<Figure size 432x288 with 1 Axes>"
      ]
     },
     "metadata": {
      "needs_background": "light"
     },
     "output_type": "display_data"
    }
   ],
   "source": [
    "plot_roc(df_val_13['no_acc'], df_val_13['proba_bank'],fpr13,tpr13)\n",
    "plt.savefig(\"roc13.svg\")"
   ]
  },
  {
   "cell_type": "code",
   "execution_count": 68,
   "metadata": {},
   "outputs": [
    {
     "name": "stdout",
     "output_type": "stream",
     "text": [
      "F1 score for non bank account holiders in model 13:\n"
     ]
    },
    {
     "data": {
      "text/plain": [
       "0.9365405918658015"
      ]
     },
     "execution_count": 68,
     "metadata": {},
     "output_type": "execute_result"
    }
   ],
   "source": [
    "# calculate F1 score\n",
    "f1_13 = f1_score(df_val_13['no_acc'], preds13)\n",
    "print('F1 score for non bank account holiders in model 13:')\n",
    "f1_13"
   ]
  },
  {
   "cell_type": "code",
   "execution_count": 69,
   "metadata": {},
   "outputs": [],
   "source": [
    "precision13, recall13, thresholds_13 = precision_recall_curve(df_val_13['no_acc'], df_val_13['proba_bank'])"
   ]
  },
  {
   "cell_type": "code",
   "execution_count": 70,
   "metadata": {
    "scrolled": true
   },
   "outputs": [
    {
     "data": {
      "image/png": "[encoded data removed]",
      "text/plain": [
       "<Figure size 432x288 with 1 Axes>"
      ]
     },
     "metadata": {
      "needs_background": "light"
     },
     "output_type": "display_data"
    }
   ],
   "source": [
    "plt.plot(precision13, recall13, label='Precision-recall curve')\n",
    "_ = plt.xlabel('Precision')\n",
    "_ = plt.ylabel('Recall')\n",
    "_ = plt.title('Precision-recall curve')\n",
    "_ = plt.legend(loc=\"lower left\")"
   ]
  },
  {
   "cell_type": "code",
   "execution_count": 71,
   "metadata": {},
   "outputs": [
    {
     "data": {
      "text/plain": [
       "0.9676680349339581"
      ]
     },
     "execution_count": 71,
     "metadata": {},
     "output_type": "execute_result"
    }
   ],
   "source": [
    "auc13 = auc(recall13,precision13)\n",
    "auc13"
   ]
  },
  {
   "cell_type": "markdown",
   "metadata": {},
   "source": [
    "NOTE THIS DOES NOT LOOK CONSISTENT WITH THE FIGURE ABOVE "
   ]
  },
  {
   "cell_type": "code",
   "execution_count": 73,
   "metadata": {
    "scrolled": false
   },
   "outputs": [
    {
     "name": "stdout",
     "output_type": "stream",
     "text": [
      "Rwanda wrong:0.372 \n",
      "Tanzania wrong: 0.242 \n",
      "Uganda wrong:0.048 \n",
      "Kenya wrong:0.338\n"
     ]
    }
   ],
   "source": [
    "rw_wrong = len(df_check[df_check['country_Rwanda']==1]) / len(df_check)\n",
    "tz_wrong = len(df_check[df_check['country_Tanzania']==1]) / len(df_check)\n",
    "ug_wrong = len(df_check[df_check['country_Uganda']==1]) / len(df_check)\n",
    "ke_wrong = 1 - rw_wrong - tz_wrong - ug_wrong\n",
    "print(\"Rwanda wrong:{:0.3f} \\nTanzania wrong: {:0.3f} \\nUganda wrong:{:0.3f} \\nKenya wrong:{:0.3f}\".format(rw_wrong,tz_wrong,ug_wrong,ke_wrong))"
   ]
  },
  {
   "cell_type": "markdown",
   "metadata": {},
   "source": [
    "The majority of the highly confident, incorrect predictions are in Rwanda (37%) and Kenya (33%)"
   ]
  },
  {
   "cell_type": "markdown",
   "metadata": {},
   "source": [
    "## Adjusting threshold"
   ]
  },
  {
   "cell_type": "code",
   "execution_count": 594,
   "metadata": {},
   "outputs": [],
   "source": [
    "threshold = .52\n",
    "y_pred13 = np.where((lm_13.predict_proba(df_val_13[features13])[:, 1] > threshold),1,0)"
   ]
  },
  {
   "cell_type": "code",
   "execution_count": 595,
   "metadata": {},
   "outputs": [
    {
     "data": {
      "text/plain": [
       "array([[ 174,  318],\n",
       "       [  84, 2953]])"
      ]
     },
     "execution_count": 595,
     "metadata": {},
     "output_type": "execute_result"
    }
   ],
   "source": [
    "confusion_matrix(df_val_13['no_acc'], \n",
    "                 y_pred13)"
   ]
  },
  {
   "cell_type": "code",
   "execution_count": 596,
   "metadata": {},
   "outputs": [],
   "source": [
    "df_val_13['preds'] = np.where((lm_13.predict_proba(df_val_13[features13])[:, 1] > threshold),1,0)\n",
    "df_comp13 = df_val_13[(df_val_13['no_acc'] != df_val_13['preds'])]"
   ]
  },
  {
   "cell_type": "markdown",
   "metadata": {},
   "source": [
    "## Oversampling"
   ]
  },
  {
   "cell_type": "code",
   "execution_count": 478,
   "metadata": {},
   "outputs": [],
   "source": [
    "from imblearn.over_sampling import RandomOverSampler\n",
    "ros = RandomOverSampler(random_state=0)\n",
    "X_resampled, y_resampled = ros.fit_sample(df_train[features10], df_train['no_acc'])"
   ]
  },
  {
   "cell_type": "code",
   "execution_count": 479,
   "metadata": {},
   "outputs": [
    {
     "data": {
      "text/plain": [
       "Counter({1: 12128, 0: 12128})"
      ]
     },
     "execution_count": 479,
     "metadata": {},
     "output_type": "execute_result"
    }
   ],
   "source": [
    "from collections import Counter\n",
    "Counter(y_resampled)"
   ]
  },
  {
   "cell_type": "code",
   "execution_count": 483,
   "metadata": {},
   "outputs": [
    {
     "name": "stdout",
     "output_type": "stream",
     "text": [
      "Accuracy of logistic regression classifier on val set: 0.790\n"
     ]
    }
   ],
   "source": [
    "lm_15 = LogisticRegression(C=1,penalty='l1',solver='liblinear')\n",
    "lm_15.fit(X_resampled[features10], y_resampled)\n",
    "\n",
    "preds15 = lm_15.predict(df_val_10[features10])\n",
    "print('Accuracy of logistic regression classifier on val set: {:.3f}'.format(lm_15.score(\n",
    "    df_val_10[features10], df_val_10['no_acc'])))"
   ]
  },
  {
   "cell_type": "code",
   "execution_count": 484,
   "metadata": {},
   "outputs": [
    {
     "name": "stdout",
     "output_type": "stream",
     "text": [
      "Feature coefficient results: \n",
      "\n",
      "age_of_respondent : -1.062\n",
      "household_size : -0.330\n",
      "is_urban : -0.231\n",
      "cellphone : -1.694\n",
      "is_male : -0.487\n",
      "country_Rwanda : 0.433\n",
      "country_Tanzania : 1.389\n",
      "country_Uganda : 1.425\n",
      "relationship_with_head_Head of Household : -0.695\n",
      "relationship_with_head_Spouse : -0.451\n",
      "marital_status_Single/Never Married : 0.171\n",
      "marital_status_Widowed : -0.123\n",
      "education_level_Primary education : -0.801\n",
      "education_level_Secondary education : -1.797\n",
      "education_level_Tertiary education : -3.260\n",
      "education_level_Vocational/Specialised training : -2.891\n",
      "job_type_Formally employed Government : -1.731\n",
      "job_type_Formally employed Private : -1.787\n",
      "job_type_Government Dependent : -1.439\n",
      "job_type_Informally employed : 0.330\n",
      "job_type_No Income : 0.131\n",
      "job_type_Remittance Dependent : 0.182\n",
      "job_type_Other Income : -0.685\n",
      "job_type_Self employed : -0.550\n"
     ]
    }
   ],
   "source": [
    "print('Feature coefficient results: \\n')\n",
    "for feature, coef in zip(X_resampled.columns, lm_15.coef_.reshape(1, -1)[0]):\n",
    "        print(feature, ':', f'{coef:.3f}')"
   ]
  },
  {
   "cell_type": "code",
   "execution_count": 485,
   "metadata": {},
   "outputs": [
    {
     "data": {
      "text/plain": [
       "array([[ 356,  136],\n",
       "       [ 605, 2432]])"
      ]
     },
     "execution_count": 485,
     "metadata": {},
     "output_type": "execute_result"
    }
   ],
   "source": [
    "confusion_matrix(df_val_10['no_acc'], \n",
    "                 preds15)"
   ]
  },
  {
   "cell_type": "code",
   "execution_count": 486,
   "metadata": {
    "scrolled": true
   },
   "outputs": [
    {
     "name": "stdout",
     "output_type": "stream",
     "text": [
      "              precision    recall  f1-score   support\n",
      "\n",
      "           0       0.37      0.72      0.49       492\n",
      "           1       0.95      0.80      0.87      3037\n",
      "\n",
      "    accuracy                           0.79      3529\n",
      "   macro avg       0.66      0.76      0.68      3529\n",
      "weighted avg       0.87      0.79      0.82      3529\n",
      "\n"
     ]
    }
   ],
   "source": [
    "print(classification_report(df_val_10['no_acc'], preds15))"
   ]
  },
  {
   "cell_type": "code",
   "execution_count": 487,
   "metadata": {},
   "outputs": [],
   "source": [
    "df_val_10['proba_bank2'] = lm_15.predict_proba(df_val_10[features10])[:, 1]\n",
    "\n",
    "fpr15, tpr15, thresholds15 = roc_curve(df_val_10['no_acc'],\n",
    "                                 df_val_10['proba_bank2'])"
   ]
  },
  {
   "cell_type": "code",
   "execution_count": 488,
   "metadata": {},
   "outputs": [
    {
     "data": {
      "text/html": [
       "<div>\n",
       "<style scoped>\n",
       "    .dataframe tbody tr th:only-of-type {\n",
       "        vertical-align: middle;\n",
       "    }\n",
       "\n",
       "    .dataframe tbody tr th {\n",
       "        vertical-align: top;\n",
       "    }\n",
       "\n",
       "    .dataframe thead th {\n",
       "        text-align: right;\n",
       "    }\n",
       "</style>\n",
       "<table border=\"1\" class=\"dataframe\">\n",
       "  <thead>\n",
       "    <tr style=\"text-align: right;\">\n",
       "      <th></th>\n",
       "      <th>age_of_respondent</th>\n",
       "      <th>is_urban</th>\n",
       "      <th>cellphone</th>\n",
       "      <th>is_male</th>\n",
       "      <th>country_Rwanda</th>\n",
       "      <th>country_Tanzania</th>\n",
       "      <th>country_Uganda</th>\n",
       "      <th>relationship_with_head_Head of Household</th>\n",
       "      <th>relationship_with_head_Spouse</th>\n",
       "      <th>marital_status_Single/Never Married</th>\n",
       "      <th>marital_status_Widowed</th>\n",
       "      <th>education_level_Primary education</th>\n",
       "      <th>education_level_Secondary education</th>\n",
       "      <th>education_level_Tertiary education</th>\n",
       "      <th>education_level_Vocational/Specialised training</th>\n",
       "      <th>job_type_Formally employed Government</th>\n",
       "      <th>job_type_Formally employed Private</th>\n",
       "      <th>job_type_Government Dependent</th>\n",
       "      <th>job_type_Informally employed</th>\n",
       "      <th>job_type_No Income</th>\n",
       "      <th>job_type_Other Income</th>\n",
       "      <th>job_type_Remittance Dependent</th>\n",
       "      <th>job_type_Self employed</th>\n",
       "      <th>no_acc</th>\n",
       "      <th>preds</th>\n",
       "      <th>proba_bank</th>\n",
       "      <th>proba_bank2</th>\n",
       "    </tr>\n",
       "  </thead>\n",
       "  <tbody>\n",
       "    <tr>\n",
       "      <th>18940</th>\n",
       "      <td>0.226190</td>\n",
       "      <td>0</td>\n",
       "      <td>1</td>\n",
       "      <td>0</td>\n",
       "      <td>0.0</td>\n",
       "      <td>1.0</td>\n",
       "      <td>0.0</td>\n",
       "      <td>0.0</td>\n",
       "      <td>1.0</td>\n",
       "      <td>1.0</td>\n",
       "      <td>0.0</td>\n",
       "      <td>1.0</td>\n",
       "      <td>0.0</td>\n",
       "      <td>0.0</td>\n",
       "      <td>0.0</td>\n",
       "      <td>0.0</td>\n",
       "      <td>0.0</td>\n",
       "      <td>0.0</td>\n",
       "      <td>0.0</td>\n",
       "      <td>0.0</td>\n",
       "      <td>0.0</td>\n",
       "      <td>1.0</td>\n",
       "      <td>0.0</td>\n",
       "      <td>0</td>\n",
       "      <td>1</td>\n",
       "      <td>0.978814</td>\n",
       "      <td>0.896576</td>\n",
       "    </tr>\n",
       "    <tr>\n",
       "      <th>6809</th>\n",
       "      <td>0.011905</td>\n",
       "      <td>1</td>\n",
       "      <td>1</td>\n",
       "      <td>1</td>\n",
       "      <td>1.0</td>\n",
       "      <td>0.0</td>\n",
       "      <td>0.0</td>\n",
       "      <td>0.0</td>\n",
       "      <td>0.0</td>\n",
       "      <td>1.0</td>\n",
       "      <td>0.0</td>\n",
       "      <td>0.0</td>\n",
       "      <td>1.0</td>\n",
       "      <td>0.0</td>\n",
       "      <td>0.0</td>\n",
       "      <td>0.0</td>\n",
       "      <td>0.0</td>\n",
       "      <td>0.0</td>\n",
       "      <td>0.0</td>\n",
       "      <td>0.0</td>\n",
       "      <td>0.0</td>\n",
       "      <td>1.0</td>\n",
       "      <td>0.0</td>\n",
       "      <td>1</td>\n",
       "      <td>1</td>\n",
       "      <td>0.873386</td>\n",
       "      <td>0.532099</td>\n",
       "    </tr>\n",
       "    <tr>\n",
       "      <th>5121</th>\n",
       "      <td>0.083333</td>\n",
       "      <td>1</td>\n",
       "      <td>1</td>\n",
       "      <td>0</td>\n",
       "      <td>0.0</td>\n",
       "      <td>0.0</td>\n",
       "      <td>0.0</td>\n",
       "      <td>0.0</td>\n",
       "      <td>1.0</td>\n",
       "      <td>0.0</td>\n",
       "      <td>0.0</td>\n",
       "      <td>0.0</td>\n",
       "      <td>1.0</td>\n",
       "      <td>0.0</td>\n",
       "      <td>0.0</td>\n",
       "      <td>0.0</td>\n",
       "      <td>0.0</td>\n",
       "      <td>0.0</td>\n",
       "      <td>0.0</td>\n",
       "      <td>0.0</td>\n",
       "      <td>0.0</td>\n",
       "      <td>0.0</td>\n",
       "      <td>1.0</td>\n",
       "      <td>1</td>\n",
       "      <td>1</td>\n",
       "      <td>0.655349</td>\n",
       "      <td>0.226651</td>\n",
       "    </tr>\n",
       "    <tr>\n",
       "      <th>1279</th>\n",
       "      <td>0.404762</td>\n",
       "      <td>0</td>\n",
       "      <td>1</td>\n",
       "      <td>0</td>\n",
       "      <td>0.0</td>\n",
       "      <td>0.0</td>\n",
       "      <td>0.0</td>\n",
       "      <td>1.0</td>\n",
       "      <td>0.0</td>\n",
       "      <td>0.0</td>\n",
       "      <td>1.0</td>\n",
       "      <td>1.0</td>\n",
       "      <td>0.0</td>\n",
       "      <td>0.0</td>\n",
       "      <td>0.0</td>\n",
       "      <td>0.0</td>\n",
       "      <td>0.0</td>\n",
       "      <td>0.0</td>\n",
       "      <td>0.0</td>\n",
       "      <td>0.0</td>\n",
       "      <td>0.0</td>\n",
       "      <td>0.0</td>\n",
       "      <td>0.0</td>\n",
       "      <td>0</td>\n",
       "      <td>1</td>\n",
       "      <td>0.855861</td>\n",
       "      <td>0.464808</td>\n",
       "    </tr>\n",
       "    <tr>\n",
       "      <th>2037</th>\n",
       "      <td>0.380952</td>\n",
       "      <td>1</td>\n",
       "      <td>1</td>\n",
       "      <td>1</td>\n",
       "      <td>0.0</td>\n",
       "      <td>0.0</td>\n",
       "      <td>0.0</td>\n",
       "      <td>1.0</td>\n",
       "      <td>0.0</td>\n",
       "      <td>0.0</td>\n",
       "      <td>0.0</td>\n",
       "      <td>0.0</td>\n",
       "      <td>0.0</td>\n",
       "      <td>1.0</td>\n",
       "      <td>0.0</td>\n",
       "      <td>1.0</td>\n",
       "      <td>0.0</td>\n",
       "      <td>0.0</td>\n",
       "      <td>0.0</td>\n",
       "      <td>0.0</td>\n",
       "      <td>0.0</td>\n",
       "      <td>0.0</td>\n",
       "      <td>0.0</td>\n",
       "      <td>0</td>\n",
       "      <td>0</td>\n",
       "      <td>0.050087</td>\n",
       "      <td>0.007327</td>\n",
       "    </tr>\n",
       "  </tbody>\n",
       "</table>\n",
       "</div>"
      ],
      "text/plain": [
       "       age_of_respondent  is_urban  cellphone  is_male  country_Rwanda  \\\n",
       "18940           0.226190         0          1        0             0.0   \n",
       "6809            0.011905         1          1        1             1.0   \n",
       "5121            0.083333         1          1        0             0.0   \n",
       "1279            0.404762         0          1        0             0.0   \n",
       "2037            0.380952         1          1        1             0.0   \n",
       "\n",
       "       country_Tanzania  country_Uganda  \\\n",
       "18940               1.0             0.0   \n",
       "6809                0.0             0.0   \n",
       "5121                0.0             0.0   \n",
       "1279                0.0             0.0   \n",
       "2037                0.0             0.0   \n",
       "\n",
       "       relationship_with_head_Head of Household  \\\n",
       "18940                                       0.0   \n",
       "6809                                        0.0   \n",
       "5121                                        0.0   \n",
       "1279                                        1.0   \n",
       "2037                                        1.0   \n",
       "\n",
       "       relationship_with_head_Spouse  marital_status_Single/Never Married  \\\n",
       "18940                            1.0                                  1.0   \n",
       "6809                             0.0                                  1.0   \n",
       "5121                             1.0                                  0.0   \n",
       "1279                             0.0                                  0.0   \n",
       "2037                             0.0                                  0.0   \n",
       "\n",
       "       marital_status_Widowed  education_level_Primary education  \\\n",
       "18940                     0.0                                1.0   \n",
       "6809                      0.0                                0.0   \n",
       "5121                      0.0                                0.0   \n",
       "1279                      1.0                                1.0   \n",
       "2037                      0.0                                0.0   \n",
       "\n",
       "       education_level_Secondary education  \\\n",
       "18940                                  0.0   \n",
       "6809                                   1.0   \n",
       "5121                                   1.0   \n",
       "1279                                   0.0   \n",
       "2037                                   0.0   \n",
       "\n",
       "       education_level_Tertiary education  \\\n",
       "18940                                 0.0   \n",
       "6809                                  0.0   \n",
       "5121                                  0.0   \n",
       "1279                                  0.0   \n",
       "2037                                  1.0   \n",
       "\n",
       "       education_level_Vocational/Specialised training  \\\n",
       "18940                                              0.0   \n",
       "6809                                               0.0   \n",
       "5121                                               0.0   \n",
       "1279                                               0.0   \n",
       "2037                                               0.0   \n",
       "\n",
       "       job_type_Formally employed Government  \\\n",
       "18940                                    0.0   \n",
       "6809                                     0.0   \n",
       "5121                                     0.0   \n",
       "1279                                     0.0   \n",
       "2037                                     1.0   \n",
       "\n",
       "       job_type_Formally employed Private  job_type_Government Dependent  \\\n",
       "18940                                 0.0                            0.0   \n",
       "6809                                  0.0                            0.0   \n",
       "5121                                  0.0                            0.0   \n",
       "1279                                  0.0                            0.0   \n",
       "2037                                  0.0                            0.0   \n",
       "\n",
       "       job_type_Informally employed  job_type_No Income  \\\n",
       "18940                           0.0                 0.0   \n",
       "6809                            0.0                 0.0   \n",
       "5121                            0.0                 0.0   \n",
       "1279                            0.0                 0.0   \n",
       "2037                            0.0                 0.0   \n",
       "\n",
       "       job_type_Other Income  job_type_Remittance Dependent  \\\n",
       "18940                    0.0                            1.0   \n",
       "6809                     0.0                            1.0   \n",
       "5121                     0.0                            0.0   \n",
       "1279                     0.0                            0.0   \n",
       "2037                     0.0                            0.0   \n",
       "\n",
       "       job_type_Self employed  no_acc  preds  proba_bank  proba_bank2  \n",
       "18940                     0.0       0      1    0.978814     0.896576  \n",
       "6809                      0.0       1      1    0.873386     0.532099  \n",
       "5121                      1.0       1      1    0.655349     0.226651  \n",
       "1279                      0.0       0      1    0.855861     0.464808  \n",
       "2037                      0.0       0      0    0.050087     0.007327  "
      ]
     },
     "execution_count": 488,
     "metadata": {},
     "output_type": "execute_result"
    }
   ],
   "source": [
    "df_val_13.head()"
   ]
  },
  {
   "cell_type": "code",
   "execution_count": 489,
   "metadata": {},
   "outputs": [
    {
     "data": {
      "image/png": "[encoded data removed]",
      "text/plain": [
       "<Figure size 432x288 with 1 Axes>"
      ]
     },
     "metadata": {
      "needs_background": "light"
     },
     "output_type": "display_data"
    }
   ],
   "source": [
    "plot_roc(df_val_10['no_acc'], df_val_10['proba_bank2'],fpr15,tpr15)"
   ]
  },
  {
   "cell_type": "markdown",
   "metadata": {},
   "source": [
    "## Gridsearch"
   ]
  },
  {
   "cell_type": "code",
   "execution_count": 426,
   "metadata": {},
   "outputs": [
    {
     "name": "stderr",
     "output_type": "stream",
     "text": [
      "/Users/tawneykirkland/opt/anaconda3/lib/python3.8/site-packages/sklearn/model_selection/_validation.py:548: FitFailedWarning: Estimator fit failed. The score on this train-test partition for these parameters will be set to nan. Details: \n",
      "Traceback (most recent call last):\n",
      "  File \"/Users/tawneykirkland/opt/anaconda3/lib/python3.8/site-packages/sklearn/model_selection/_validation.py\", line 531, in _fit_and_score\n",
      "    estimator.fit(X_train, y_train, **fit_params)\n",
      "  File \"/Users/tawneykirkland/opt/anaconda3/lib/python3.8/site-packages/sklearn/linear_model/_logistic.py\", line 1304, in fit\n",
      "    solver = _check_solver(self.solver, self.penalty, self.dual)\n",
      "  File \"/Users/tawneykirkland/opt/anaconda3/lib/python3.8/site-packages/sklearn/linear_model/_logistic.py\", line 442, in _check_solver\n",
      "    raise ValueError(\"Solver %s supports only 'l2' or 'none' penalties, \"\n",
      "ValueError: Solver lbfgs supports only 'l2' or 'none' penalties, got l1 penalty.\n",
      "\n",
      "  warnings.warn(\"Estimator fit failed. The score on this train-test\"\n",
      "/Users/tawneykirkland/opt/anaconda3/lib/python3.8/site-packages/sklearn/model_selection/_validation.py:548: FitFailedWarning: Estimator fit failed. The score on this train-test partition for these parameters will be set to nan. Details: \n",
      "Traceback (most recent call last):\n",
      "  File \"/Users/tawneykirkland/opt/anaconda3/lib/python3.8/site-packages/sklearn/model_selection/_validation.py\", line 531, in _fit_and_score\n",
      "    estimator.fit(X_train, y_train, **fit_params)\n",
      "  File \"/Users/tawneykirkland/opt/anaconda3/lib/python3.8/site-packages/sklearn/linear_model/_logistic.py\", line 1304, in fit\n",
      "    solver = _check_solver(self.solver, self.penalty, self.dual)\n",
      "  File \"/Users/tawneykirkland/opt/anaconda3/lib/python3.8/site-packages/sklearn/linear_model/_logistic.py\", line 442, in _check_solver\n",
      "    raise ValueError(\"Solver %s supports only 'l2' or 'none' penalties, \"\n",
      "ValueError: Solver lbfgs supports only 'l2' or 'none' penalties, got l1 penalty.\n",
      "\n",
      "  warnings.warn(\"Estimator fit failed. The score on this train-test\"\n",
      "/Users/tawneykirkland/opt/anaconda3/lib/python3.8/site-packages/sklearn/model_selection/_validation.py:548: FitFailedWarning: Estimator fit failed. The score on this train-test partition for these parameters will be set to nan. Details: \n",
      "Traceback (most recent call last):\n",
      "  File \"/Users/tawneykirkland/opt/anaconda3/lib/python3.8/site-packages/sklearn/model_selection/_validation.py\", line 531, in _fit_and_score\n",
      "    estimator.fit(X_train, y_train, **fit_params)\n",
      "  File \"/Users/tawneykirkland/opt/anaconda3/lib/python3.8/site-packages/sklearn/linear_model/_logistic.py\", line 1304, in fit\n",
      "    solver = _check_solver(self.solver, self.penalty, self.dual)\n",
      "  File \"/Users/tawneykirkland/opt/anaconda3/lib/python3.8/site-packages/sklearn/linear_model/_logistic.py\", line 442, in _check_solver\n",
      "    raise ValueError(\"Solver %s supports only 'l2' or 'none' penalties, \"\n",
      "ValueError: Solver lbfgs supports only 'l2' or 'none' penalties, got l1 penalty.\n",
      "\n",
      "  warnings.warn(\"Estimator fit failed. The score on this train-test\"\n",
      "/Users/tawneykirkland/opt/anaconda3/lib/python3.8/site-packages/sklearn/model_selection/_validation.py:548: FitFailedWarning: Estimator fit failed. The score on this train-test partition for these parameters will be set to nan. Details: \n",
      "Traceback (most recent call last):\n",
      "  File \"/Users/tawneykirkland/opt/anaconda3/lib/python3.8/site-packages/sklearn/model_selection/_validation.py\", line 531, in _fit_and_score\n",
      "    estimator.fit(X_train, y_train, **fit_params)\n",
      "  File \"/Users/tawneykirkland/opt/anaconda3/lib/python3.8/site-packages/sklearn/linear_model/_logistic.py\", line 1304, in fit\n",
      "    solver = _check_solver(self.solver, self.penalty, self.dual)\n",
      "  File \"/Users/tawneykirkland/opt/anaconda3/lib/python3.8/site-packages/sklearn/linear_model/_logistic.py\", line 442, in _check_solver\n",
      "    raise ValueError(\"Solver %s supports only 'l2' or 'none' penalties, \"\n",
      "ValueError: Solver lbfgs supports only 'l2' or 'none' penalties, got l1 penalty.\n",
      "\n",
      "  warnings.warn(\"Estimator fit failed. The score on this train-test\"\n",
      "/Users/tawneykirkland/opt/anaconda3/lib/python3.8/site-packages/sklearn/model_selection/_validation.py:548: FitFailedWarning: Estimator fit failed. The score on this train-test partition for these parameters will be set to nan. Details: \n",
      "Traceback (most recent call last):\n",
      "  File \"/Users/tawneykirkland/opt/anaconda3/lib/python3.8/site-packages/sklearn/model_selection/_validation.py\", line 531, in _fit_and_score\n",
      "    estimator.fit(X_train, y_train, **fit_params)\n",
      "  File \"/Users/tawneykirkland/opt/anaconda3/lib/python3.8/site-packages/sklearn/linear_model/_logistic.py\", line 1304, in fit\n",
      "    solver = _check_solver(self.solver, self.penalty, self.dual)\n",
      "  File \"/Users/tawneykirkland/opt/anaconda3/lib/python3.8/site-packages/sklearn/linear_model/_logistic.py\", line 442, in _check_solver\n",
      "    raise ValueError(\"Solver %s supports only 'l2' or 'none' penalties, \"\n",
      "ValueError: Solver lbfgs supports only 'l2' or 'none' penalties, got l1 penalty.\n",
      "\n",
      "  warnings.warn(\"Estimator fit failed. The score on this train-test\"\n",
      "/Users/tawneykirkland/opt/anaconda3/lib/python3.8/site-packages/sklearn/model_selection/_validation.py:548: FitFailedWarning: Estimator fit failed. The score on this train-test partition for these parameters will be set to nan. Details: \n",
      "Traceback (most recent call last):\n",
      "  File \"/Users/tawneykirkland/opt/anaconda3/lib/python3.8/site-packages/sklearn/model_selection/_validation.py\", line 531, in _fit_and_score\n",
      "    estimator.fit(X_train, y_train, **fit_params)\n",
      "  File \"/Users/tawneykirkland/opt/anaconda3/lib/python3.8/site-packages/sklearn/linear_model/_logistic.py\", line 1304, in fit\n",
      "    solver = _check_solver(self.solver, self.penalty, self.dual)\n",
      "  File \"/Users/tawneykirkland/opt/anaconda3/lib/python3.8/site-packages/sklearn/linear_model/_logistic.py\", line 442, in _check_solver\n",
      "    raise ValueError(\"Solver %s supports only 'l2' or 'none' penalties, \"\n",
      "ValueError: Solver lbfgs supports only 'l2' or 'none' penalties, got l1 penalty.\n",
      "\n",
      "  warnings.warn(\"Estimator fit failed. The score on this train-test\"\n",
      "/Users/tawneykirkland/opt/anaconda3/lib/python3.8/site-packages/sklearn/model_selection/_validation.py:548: FitFailedWarning: Estimator fit failed. The score on this train-test partition for these parameters will be set to nan. Details: \n",
      "Traceback (most recent call last):\n",
      "  File \"/Users/tawneykirkland/opt/anaconda3/lib/python3.8/site-packages/sklearn/model_selection/_validation.py\", line 531, in _fit_and_score\n",
      "    estimator.fit(X_train, y_train, **fit_params)\n",
      "  File \"/Users/tawneykirkland/opt/anaconda3/lib/python3.8/site-packages/sklearn/linear_model/_logistic.py\", line 1304, in fit\n",
      "    solver = _check_solver(self.solver, self.penalty, self.dual)\n",
      "  File \"/Users/tawneykirkland/opt/anaconda3/lib/python3.8/site-packages/sklearn/linear_model/_logistic.py\", line 442, in _check_solver\n",
      "    raise ValueError(\"Solver %s supports only 'l2' or 'none' penalties, \"\n",
      "ValueError: Solver lbfgs supports only 'l2' or 'none' penalties, got l1 penalty.\n",
      "\n",
      "  warnings.warn(\"Estimator fit failed. The score on this train-test\"\n",
      "/Users/tawneykirkland/opt/anaconda3/lib/python3.8/site-packages/sklearn/model_selection/_validation.py:548: FitFailedWarning: Estimator fit failed. The score on this train-test partition for these parameters will be set to nan. Details: \n",
      "Traceback (most recent call last):\n",
      "  File \"/Users/tawneykirkland/opt/anaconda3/lib/python3.8/site-packages/sklearn/model_selection/_validation.py\", line 531, in _fit_and_score\n",
      "    estimator.fit(X_train, y_train, **fit_params)\n",
      "  File \"/Users/tawneykirkland/opt/anaconda3/lib/python3.8/site-packages/sklearn/linear_model/_logistic.py\", line 1304, in fit\n",
      "    solver = _check_solver(self.solver, self.penalty, self.dual)\n",
      "  File \"/Users/tawneykirkland/opt/anaconda3/lib/python3.8/site-packages/sklearn/linear_model/_logistic.py\", line 442, in _check_solver\n",
      "    raise ValueError(\"Solver %s supports only 'l2' or 'none' penalties, \"\n",
      "ValueError: Solver lbfgs supports only 'l2' or 'none' penalties, got l1 penalty.\n",
      "\n",
      "  warnings.warn(\"Estimator fit failed. The score on this train-test\"\n",
      "/Users/tawneykirkland/opt/anaconda3/lib/python3.8/site-packages/sklearn/model_selection/_validation.py:548: FitFailedWarning: Estimator fit failed. The score on this train-test partition for these parameters will be set to nan. Details: \n",
      "Traceback (most recent call last):\n",
      "  File \"/Users/tawneykirkland/opt/anaconda3/lib/python3.8/site-packages/sklearn/model_selection/_validation.py\", line 531, in _fit_and_score\n",
      "    estimator.fit(X_train, y_train, **fit_params)\n",
      "  File \"/Users/tawneykirkland/opt/anaconda3/lib/python3.8/site-packages/sklearn/linear_model/_logistic.py\", line 1304, in fit\n",
      "    solver = _check_solver(self.solver, self.penalty, self.dual)\n",
      "  File \"/Users/tawneykirkland/opt/anaconda3/lib/python3.8/site-packages/sklearn/linear_model/_logistic.py\", line 442, in _check_solver\n",
      "    raise ValueError(\"Solver %s supports only 'l2' or 'none' penalties, \"\n",
      "ValueError: Solver lbfgs supports only 'l2' or 'none' penalties, got l1 penalty.\n",
      "\n",
      "  warnings.warn(\"Estimator fit failed. The score on this train-test\"\n"
     ]
    },
    {
     "name": "stdout",
     "output_type": "stream",
     "text": [
      "tuned hpyerparameters :(best parameters)  {'C': 2, 'penalty': 'l2'}\n",
      "Accuracy Score : 0.8863700765089261\n",
      "Precision Score : 0.9013398294762485\n",
      "Recall Score : 0.9746460322686862\n",
      "F1 Score : 0.9365606707799399\n",
      "\n",
      "\n",
      "[[ 168  324]\n",
      " [  77 2960]]\n",
      "\n",
      "\n",
      "              precision    recall  f1-score   support\n",
      "\n",
      "           0       0.69      0.34      0.46       492\n",
      "           1       0.90      0.97      0.94      3037\n",
      "\n",
      "    accuracy                           0.89      3529\n",
      "   macro avg       0.79      0.66      0.70      3529\n",
      "weighted avg       0.87      0.89      0.87      3529\n",
      "\n"
     ]
    }
   ],
   "source": [
    "from sklearn.model_selection import GridSearchCV\n",
    "lm_13gs = LogisticRegression()\n",
    "grid_values = {'penalty': ['l1', 'l2'],'C':[0.001,.009,0.01,.09,1,2,5,10,25]}\n",
    "grid_lm13_acc = GridSearchCV(lm_13gs, param_grid = grid_values)\n",
    "grid_lm13_acc.fit(x_train_13[features13], x_train_13['no_acc'])\n",
    "\n",
    "#Predict values based on new parameters\n",
    "y_pred_acc = grid_lm13_acc.predict(df_val_13[features13])\n",
    "\n",
    "# New Model Evaluation metrics \n",
    "print(\"tuned hpyerparameters :(best parameters) \",grid_lm13_acc.best_params_)\n",
    "print('Accuracy Score : ' + str(accuracy_score(df_val_13['no_acc'],y_pred_acc)))\n",
    "print('Precision Score : ' + str(precision_score(df_val_13['no_acc'],y_pred_acc)))\n",
    "print('Recall Score : ' + str(recall_score(df_val_13['no_acc'],y_pred_acc)))\n",
    "print('F1 Score : ' + str(f1_score(df_val_13['no_acc'],y_pred_acc)))\n",
    "print('\\n')\n",
    "\n",
    "#Logistic Regression (Grid Search) Confusion matrix\n",
    "print(confusion_matrix(df_val_13['no_acc'],y_pred_acc))\n",
    "print('\\n')\n",
    "\n",
    "# Classification report\n",
    "print(classification_report(df_val_13['no_acc'], y_pred_acc))"
   ]
  },
  {
   "cell_type": "markdown",
   "metadata": {},
   "source": [
    "## percent of average household size"
   ]
  },
  {
   "cell_type": "code",
   "execution_count": 427,
   "metadata": {},
   "outputs": [],
   "source": [
    "x_train_14 = x_train_10.drop(columns='household_size')\n",
    "\n",
    "df_val_14 = df_val_10.drop(columns='household_size')\n",
    "\n",
    "features14 = ['age_of_respondent', 'mean_hh','is_urban', 'cellphone',\n",
    "       'is_male', 'country_Rwanda', 'country_Tanzania', 'country_Uganda',\n",
    "       'relationship_with_head_Head of Household',\n",
    "       'relationship_with_head_Spouse', \n",
    "       'marital_status_Single/Never Married', 'marital_status_Widowed',\n",
    "       'education_level_Primary education',\n",
    "       'education_level_Secondary education',\n",
    "       'education_level_Tertiary education',\n",
    "       'education_level_Vocational/Specialised training',\n",
    "       'job_type_Formally employed Government',\n",
    "       'job_type_Formally employed Private', 'job_type_Government Dependent',\n",
    "       'job_type_Informally employed', 'job_type_No Income',\n",
    "       'job_type_Remittance Dependent','job_type_Other Income','job_type_Self employed']"
   ]
  },
  {
   "cell_type": "code",
   "execution_count": 428,
   "metadata": {},
   "outputs": [
    {
     "name": "stdout",
     "output_type": "stream",
     "text": [
      "Accuracy of logistic regression classifier on val set: 0.887\n"
     ]
    }
   ],
   "source": [
    "lm_14 = LogisticRegression(C=1,penalty='l1',solver='liblinear')\n",
    "lm_14.fit(x_train_14[features14], x_train_14['no_acc'])\n",
    "\n",
    "preds14 = lm_14.predict(df_val_14[features14])\n",
    "print('Accuracy of logistic regression classifier on val set: {:.3f}'.format(lm_14.score(\n",
    "    df_val_14[features14], df_val_14['no_acc'])))"
   ]
  },
  {
   "cell_type": "code",
   "execution_count": 429,
   "metadata": {},
   "outputs": [
    {
     "name": "stdout",
     "output_type": "stream",
     "text": [
      "Feature coefficient results: \n",
      "\n",
      "age_of_respondent : -1.040\n",
      "is_urban : -0.002\n",
      "cellphone : -0.276\n",
      "is_male : -1.618\n",
      "mean_hh : -0.449\n",
      "country_Rwanda : 0.335\n",
      "country_Tanzania : 1.257\n",
      "country_Uganda : 1.184\n",
      "relationship_with_head_Head of Household : -0.752\n",
      "relationship_with_head_Spouse : -0.520\n",
      "marital_status_Single/Never Married : 0.159\n",
      "marital_status_Widowed : -0.011\n",
      "education_level_Primary education : -0.709\n",
      "education_level_Secondary education : -1.706\n",
      "education_level_Tertiary education : -3.161\n",
      "education_level_Vocational/Specialised training : -2.708\n",
      "job_type_Formally employed Government : -1.581\n",
      "job_type_Formally employed Private : -1.706\n",
      "job_type_Government Dependent : -1.141\n",
      "job_type_Informally employed : 0.368\n",
      "job_type_No Income : 0.152\n",
      "job_type_Other Income : 0.208\n",
      "job_type_Remittance Dependent : -0.638\n",
      "job_type_Self employed : -0.443\n"
     ]
    }
   ],
   "source": [
    "print('Feature coefficient results: \\n')\n",
    "for feature, coef in zip(x_train_14.columns, lm_14.coef_.reshape(1, -1)[0]):\n",
    "        print(feature, ':', f'{coef:.3f}')"
   ]
  },
  {
   "cell_type": "code",
   "execution_count": 430,
   "metadata": {},
   "outputs": [
    {
     "data": {
      "text/plain": [
       "array([[ 168,  324],\n",
       "       [  76, 2961]])"
      ]
     },
     "execution_count": 430,
     "metadata": {},
     "output_type": "execute_result"
    }
   ],
   "source": [
    "confusion_matrix(df_val_14['no_acc'], \n",
    "                 preds14)"
   ]
  },
  {
   "cell_type": "code",
   "execution_count": 431,
   "metadata": {},
   "outputs": [],
   "source": [
    "df_val_14['proba_bank'] = lm_14.predict_proba(df_val_14[features14])[:, 1]\n",
    "\n",
    "fpr14, tpr14, thresholds14 = roc_curve(df_val_14['no_acc'],\n",
    "                                 df_val_14['proba_bank'])"
   ]
  },
  {
   "cell_type": "code",
   "execution_count": 432,
   "metadata": {},
   "outputs": [
    {
     "data": {
      "image/png": "[encoded data removed]",
      "text/plain": [
       "<Figure size 432x288 with 1 Axes>"
      ]
     },
     "metadata": {
      "needs_background": "light"
     },
     "output_type": "display_data"
    }
   ],
   "source": [
    "plot_roc(df_val_14['no_acc'], df_val_14['proba_bank'],fpr14,tpr14)\n",
    "#plt.savefig(\"roc13.svg\")"
   ]
  },
  {
   "cell_type": "code",
   "execution_count": null,
   "metadata": {},
   "outputs": [],
   "source": []
  },
  {
   "cell_type": "code",
   "execution_count": null,
   "metadata": {},
   "outputs": [],
   "source": []
  },
  {
   "cell_type": "markdown",
   "metadata": {},
   "source": [
    "## Just females"
   ]
  },
  {
   "cell_type": "code",
   "execution_count": 433,
   "metadata": {},
   "outputs": [],
   "source": [
    "x_train_15 = x_train_13[x_train_13['is_male']==0]\n",
    "\n",
    "df_val_15 = df_val_13[df_val_13['is_male']==0]\n",
    "\n",
    "x_train_15 = x_train_15.drop(columns='is_male',axis=1)\n",
    "df_val_15 = df_val_15.drop(columns='is_male',axis=1)\n",
    "\n",
    "features15 =['age_of_respondent', 'is_urban', 'cellphone',\n",
    "       'country_Rwanda', 'country_Tanzania', 'country_Uganda',\n",
    "       'relationship_with_head_Head of Household',\n",
    "       'relationship_with_head_Spouse', \n",
    "       'marital_status_Single/Never Married', 'marital_status_Widowed',\n",
    "       'education_level_Primary education',\n",
    "       'education_level_Secondary education',\n",
    "       'education_level_Tertiary education',\n",
    "       'education_level_Vocational/Specialised training',\n",
    "       'job_type_Formally employed Government',\n",
    "       'job_type_Formally employed Private', 'job_type_Government Dependent',\n",
    "       'job_type_Informally employed', 'job_type_No Income',\n",
    "       'job_type_Remittance Dependent','job_type_Other Income','job_type_Self employed']\n"
   ]
  },
  {
   "cell_type": "code",
   "execution_count": 434,
   "metadata": {},
   "outputs": [
    {
     "name": "stdout",
     "output_type": "stream",
     "text": [
      "Accuracy of logistic regression classifier on val set: 0.913\n"
     ]
    }
   ],
   "source": [
    "lm_15 = LogisticRegression(C=1,penalty='l1',solver='liblinear')\n",
    "lm_15.fit(x_train_15[features15], x_train_15['no_acc'])\n",
    "\n",
    "preds15 = lm_15.predict(df_val_15[features15])\n",
    "print('Accuracy of logistic regression classifier on val set: {:.3f}'.format(lm_15.score(\n",
    "    df_val_15[features15], df_val_15['no_acc'])))"
   ]
  },
  {
   "cell_type": "code",
   "execution_count": 435,
   "metadata": {},
   "outputs": [
    {
     "name": "stdout",
     "output_type": "stream",
     "text": [
      "Feature coefficient results: \n",
      "\n",
      "age_of_respondent : -1.340\n",
      "is_urban : -0.268\n",
      "cellphone : -1.603\n",
      "country_Rwanda : 0.475\n",
      "country_Tanzania : 1.237\n",
      "country_Uganda : 1.187\n",
      "relationship_with_head_Head of Household : -0.402\n",
      "relationship_with_head_Spouse : -0.372\n",
      "marital_status_Single/Never Married : 0.214\n",
      "marital_status_Widowed : -0.224\n",
      "education_level_Primary education : -0.629\n",
      "education_level_Secondary education : -1.686\n",
      "education_level_Tertiary education : -3.252\n",
      "education_level_Vocational/Specialised training : -2.446\n",
      "job_type_Formally employed Government : -1.745\n",
      "job_type_Formally employed Private : -2.038\n",
      "job_type_Government Dependent : -0.663\n",
      "job_type_Informally employed : 0.202\n",
      "job_type_No Income : 0.265\n",
      "job_type_Other Income : 0.000\n",
      "job_type_Remittance Dependent : -0.924\n",
      "job_type_Self employed : -0.609\n"
     ]
    }
   ],
   "source": [
    "print('Feature coefficient results: \\n')\n",
    "for feature, coef in zip(x_train_15.columns, lm_15.coef_.reshape(1, -1)[0]):\n",
    "        print(feature, ':', f'{coef:.3f}')"
   ]
  },
  {
   "cell_type": "code",
   "execution_count": 436,
   "metadata": {
    "scrolled": true
   },
   "outputs": [
    {
     "data": {
      "text/plain": [
       "array([[  51,  161],\n",
       "       [  19, 1838]])"
      ]
     },
     "execution_count": 436,
     "metadata": {},
     "output_type": "execute_result"
    }
   ],
   "source": [
    "confusion_matrix(df_val_15['no_acc'], \n",
    "                 preds15)"
   ]
  },
  {
   "cell_type": "code",
   "execution_count": 437,
   "metadata": {},
   "outputs": [
    {
     "name": "stdout",
     "output_type": "stream",
     "text": [
      "              precision    recall  f1-score   support\n",
      "\n",
      "           0       0.73      0.24      0.36       212\n",
      "           1       0.92      0.99      0.95      1857\n",
      "\n",
      "    accuracy                           0.91      2069\n",
      "   macro avg       0.82      0.62      0.66      2069\n",
      "weighted avg       0.90      0.91      0.89      2069\n",
      "\n"
     ]
    }
   ],
   "source": [
    "print(classification_report(df_val_15['no_acc'], preds15))"
   ]
  },
  {
   "cell_type": "markdown",
   "metadata": {},
   "source": [
    "## Just males"
   ]
  },
  {
   "cell_type": "code",
   "execution_count": 438,
   "metadata": {},
   "outputs": [],
   "source": [
    "x_train_16 = x_train_13[x_train_13['is_male']==1]\n",
    "\n",
    "df_val_16 = df_val_13[df_val_13['is_male']==1]\n",
    "\n",
    "x_train_16 = x_train_16.drop(columns='is_male',axis=1)\n",
    "df_val_16 = df_val_16.drop(columns='is_male',axis=1)\n",
    "\n",
    "features16 =['age_of_respondent', 'is_urban', 'cellphone',\n",
    "       'country_Rwanda', 'country_Tanzania', 'country_Uganda',\n",
    "       'relationship_with_head_Head of Household',\n",
    "       'relationship_with_head_Spouse', \n",
    "       'marital_status_Single/Never Married', 'marital_status_Widowed',\n",
    "       'education_level_Primary education',\n",
    "       'education_level_Secondary education',\n",
    "       'education_level_Tertiary education',\n",
    "       'education_level_Vocational/Specialised training',\n",
    "       'job_type_Formally employed Government',\n",
    "       'job_type_Formally employed Private', 'job_type_Government Dependent',\n",
    "       'job_type_Informally employed', 'job_type_No Income',\n",
    "       'job_type_Remittance Dependent','job_type_Other Income','job_type_Self employed']\n"
   ]
  },
  {
   "cell_type": "code",
   "execution_count": 439,
   "metadata": {},
   "outputs": [
    {
     "name": "stdout",
     "output_type": "stream",
     "text": [
      "Accuracy of logistic regression classifier on val set: 0.847\n"
     ]
    }
   ],
   "source": [
    "lm_16 = LogisticRegression(penalty='l2')\n",
    "lm_16.fit(x_train_16[features16], x_train_16['no_acc'])\n",
    "\n",
    "preds16 = lm_16.predict(df_val_16[features16])\n",
    "print('Accuracy of logistic regression classifier on val set: {:.3f}'.format(lm_16.score(\n",
    "    df_val_16[features16], df_val_16['no_acc'])))"
   ]
  },
  {
   "cell_type": "code",
   "execution_count": 440,
   "metadata": {},
   "outputs": [
    {
     "name": "stdout",
     "output_type": "stream",
     "text": [
      "Feature coefficient results: \n",
      "\n",
      "age_of_respondent : -0.708\n",
      "is_urban : -0.291\n",
      "cellphone : -1.608\n",
      "country_Rwanda : 0.281\n",
      "country_Tanzania : 1.311\n",
      "country_Uganda : 1.216\n",
      "relationship_with_head_Head of Household : -0.986\n",
      "relationship_with_head_Spouse : -0.280\n",
      "marital_status_Single/Never Married : 0.038\n",
      "marital_status_Widowed : 0.238\n",
      "education_level_Primary education : -0.583\n",
      "education_level_Secondary education : -1.549\n",
      "education_level_Tertiary education : -2.816\n",
      "education_level_Vocational/Specialised training : -2.753\n",
      "job_type_Formally employed Government : -1.385\n",
      "job_type_Formally employed Private : -1.421\n",
      "job_type_Government Dependent : -1.535\n",
      "job_type_Informally employed : 0.514\n",
      "job_type_No Income : -0.205\n",
      "job_type_Other Income : 0.608\n",
      "job_type_Remittance Dependent : -0.355\n",
      "job_type_Self employed : -0.286\n"
     ]
    }
   ],
   "source": [
    "print('Feature coefficient results: \\n')\n",
    "for feature, coef in zip(x_train_16.columns, lm_16.coef_.reshape(1, -1)[0]):\n",
    "        print(feature, ':', f'{coef:.3f}')"
   ]
  },
  {
   "cell_type": "code",
   "execution_count": 441,
   "metadata": {},
   "outputs": [
    {
     "data": {
      "text/plain": [
       "array([[ 113,  167],\n",
       "       [  56, 1124]])"
      ]
     },
     "execution_count": 441,
     "metadata": {},
     "output_type": "execute_result"
    }
   ],
   "source": [
    "confusion_matrix(df_val_16['no_acc'], \n",
    "                 preds16)"
   ]
  },
  {
   "cell_type": "code",
   "execution_count": 442,
   "metadata": {},
   "outputs": [
    {
     "name": "stdout",
     "output_type": "stream",
     "text": [
      "              precision    recall  f1-score   support\n",
      "\n",
      "           0       0.67      0.40      0.50       280\n",
      "           1       0.87      0.95      0.91      1180\n",
      "\n",
      "    accuracy                           0.85      1460\n",
      "   macro avg       0.77      0.68      0.71      1460\n",
      "weighted avg       0.83      0.85      0.83      1460\n",
      "\n"
     ]
    }
   ],
   "source": [
    "print(classification_report(df_val_16['no_acc'], preds16))"
   ]
  },
  {
   "cell_type": "markdown",
   "metadata": {},
   "source": [
    "## Testing the model on the test set\n",
    "\n",
    "Note the first analysis is based on the first multiple regression model above (including all features, no interactions)"
   ]
  },
  {
   "cell_type": "markdown",
   "metadata": {},
   "source": [
    "## 1. Preparing the test sample "
   ]
  },
  {
   "cell_type": "code",
   "execution_count": 443,
   "metadata": {},
   "outputs": [
    {
     "name": "stderr",
     "output_type": "stream",
     "text": [
      "<ipython-input-443-120e2e6065ba>:1: SettingWithCopyWarning: \n",
      "A value is trying to be set on a copy of a slice from a DataFrame.\n",
      "Try using .loc[row_indexer,col_indexer] = value instead\n",
      "\n",
      "See the caveats in the documentation: https://pandas.pydata.org/pandas-docs/stable/user_guide/indexing.html#returning-a-view-versus-a-copy\n",
      "  x_test['is_urban'] = np.where(x_test['location_type'] == 'Urban',1,0)\n",
      "<ipython-input-443-120e2e6065ba>:2: SettingWithCopyWarning: \n",
      "A value is trying to be set on a copy of a slice from a DataFrame.\n",
      "Try using .loc[row_indexer,col_indexer] = value instead\n",
      "\n",
      "See the caveats in the documentation: https://pandas.pydata.org/pandas-docs/stable/user_guide/indexing.html#returning-a-view-versus-a-copy\n",
      "  x_test['cellphone'] = np.where(x_test['cellphone_access'] == 'Yes',1,0)\n",
      "<ipython-input-443-120e2e6065ba>:3: SettingWithCopyWarning: \n",
      "A value is trying to be set on a copy of a slice from a DataFrame.\n",
      "Try using .loc[row_indexer,col_indexer] = value instead\n",
      "\n",
      "See the caveats in the documentation: https://pandas.pydata.org/pandas-docs/stable/user_guide/indexing.html#returning-a-view-versus-a-copy\n",
      "  x_test['is_male'] = np.where(x_test['gender_of_respondent'] == 'Male',1,0)\n"
     ]
    }
   ],
   "source": [
    "x_test['is_urban'] = np.where(x_test['location_type'] == 'Urban',1,0)\n",
    "x_test['cellphone'] = np.where(x_test['cellphone_access'] == 'Yes',1,0)\n",
    "x_test['is_male'] = np.where(x_test['gender_of_respondent'] == 'Male',1,0)"
   ]
  },
  {
   "cell_type": "code",
   "execution_count": 444,
   "metadata": {},
   "outputs": [],
   "source": [
    "x_test_cont = x_test[['year','household_size','age_of_respondent','is_urban','cellphone','is_male']]\n",
    "x_test_cat = x_test[['country','relationship_with_head', 'marital_status','education_level', 'job_type']]"
   ]
  },
  {
   "cell_type": "code",
   "execution_count": 445,
   "metadata": {},
   "outputs": [
    {
     "name": "stderr",
     "output_type": "stream",
     "text": [
      "/Users/tawneykirkland/opt/anaconda3/lib/python3.8/site-packages/pandas/core/indexing.py:670: SettingWithCopyWarning: \n",
      "A value is trying to be set on a copy of a slice from a DataFrame\n",
      "\n",
      "See the caveats in the documentation: https://pandas.pydata.org/pandas-docs/stable/user_guide/indexing.html#returning-a-view-versus-a-copy\n",
      "  iloc._setitem_with_indexer(indexer, value)\n",
      "<ipython-input-445-c58a8d9a8085>:1: SettingWithCopyWarning: \n",
      "A value is trying to be set on a copy of a slice from a DataFrame\n",
      "\n",
      "See the caveats in the documentation: https://pandas.pydata.org/pandas-docs/stable/user_guide/indexing.html#returning-a-view-versus-a-copy\n",
      "  x_test_cat.loc[x_test_cat['marital_status'] == 'Dont know', ['marital_status']] = 'Single/Never Married'\n",
      "<ipython-input-445-c58a8d9a8085>:2: SettingWithCopyWarning: \n",
      "A value is trying to be set on a copy of a slice from a DataFrame\n",
      "\n",
      "See the caveats in the documentation: https://pandas.pydata.org/pandas-docs/stable/user_guide/indexing.html#returning-a-view-versus-a-copy\n",
      "  x_test_cat.loc[x_test_cat['education_level'] == 'Other/Dont know/RTA', ['education_level']] = 'No formal education'\n",
      "<ipython-input-445-c58a8d9a8085>:3: SettingWithCopyWarning: \n",
      "A value is trying to be set on a copy of a slice from a DataFrame\n",
      "\n",
      "See the caveats in the documentation: https://pandas.pydata.org/pandas-docs/stable/user_guide/indexing.html#returning-a-view-versus-a-copy\n",
      "  x_test_cat.loc[x_test_cat['job_type'] == 'Dont Know/Refuse to answer', ['job_type']] = 'No Income'\n",
      "<ipython-input-445-c58a8d9a8085>:4: SettingWithCopyWarning: \n",
      "A value is trying to be set on a copy of a slice from a DataFrame\n",
      "\n",
      "See the caveats in the documentation: https://pandas.pydata.org/pandas-docs/stable/user_guide/indexing.html#returning-a-view-versus-a-copy\n",
      "  x_test_cat.loc[x_test_cat['relationship_with_head'] == 'Other non-relatives', ['relationship_with_head']] = 'Other relative'\n"
     ]
    }
   ],
   "source": [
    "x_test_cat.loc[x_test_cat['marital_status'] == 'Dont know', ['marital_status']] = 'Single/Never Married'\n",
    "x_test_cat.loc[x_test_cat['education_level'] == 'Other/Dont know/RTA', ['education_level']] = 'No formal education'\n",
    "x_test_cat.loc[x_test_cat['job_type'] == 'Dont Know/Refuse to answer', ['job_type']] = 'No Income'\n",
    "x_test_cat.loc[x_test_cat['relationship_with_head'] == 'Other non-relatives', ['relationship_with_head']] = 'Other relative'"
   ]
  },
  {
   "cell_type": "code",
   "execution_count": 446,
   "metadata": {},
   "outputs": [
    {
     "name": "stderr",
     "output_type": "stream",
     "text": [
      "<ipython-input-446-39dd1fc91703>:1: SettingWithCopyWarning: \n",
      "A value is trying to be set on a copy of a slice from a DataFrame.\n",
      "Try using .loc[row_indexer,col_indexer] = value instead\n",
      "\n",
      "See the caveats in the documentation: https://pandas.pydata.org/pandas-docs/stable/user_guide/indexing.html#returning-a-view-versus-a-copy\n",
      "  x_test_cont[['household_size','age_of_respondent']] = minmax_scale(x_test_cont[['household_size','age_of_respondent']])\n",
      "/Users/tawneykirkland/opt/anaconda3/lib/python3.8/site-packages/pandas/core/indexing.py:1736: SettingWithCopyWarning: \n",
      "A value is trying to be set on a copy of a slice from a DataFrame.\n",
      "Try using .loc[row_indexer,col_indexer] = value instead\n",
      "\n",
      "See the caveats in the documentation: https://pandas.pydata.org/pandas-docs/stable/user_guide/indexing.html#returning-a-view-versus-a-copy\n",
      "  isetter(loc, value[:, i].tolist())\n"
     ]
    }
   ],
   "source": [
    "x_test_cont[['household_size','age_of_respondent']] = minmax_scale(x_test_cont[['household_size','age_of_respondent']])"
   ]
  },
  {
   "cell_type": "code",
   "execution_count": 447,
   "metadata": {},
   "outputs": [],
   "source": [
    "ohe = OneHotEncoder(drop='first', sparse=False)\n",
    "\n",
    "ohe.fit(x_test_cat)\n",
    "\n",
    "ohe_x_test = ohe.transform(x_test_cat)\n",
    "\n",
    "columns = ohe.get_feature_names(['country',\n",
    "                                 'relationship_with_head', \n",
    "                                 'marital_status',\n",
    "                                 'education_level', \n",
    "                                 'job_type'])\n",
    "\n",
    "ohe_x_test_df = pd.DataFrame(ohe_x_test, columns=columns, index=x_test.index)"
   ]
  },
  {
   "cell_type": "code",
   "execution_count": 448,
   "metadata": {},
   "outputs": [],
   "source": [
    "combo_test_df = pd.concat([x_test_cont, ohe_x_test_df], axis=1)"
   ]
  },
  {
   "cell_type": "code",
   "execution_count": 449,
   "metadata": {
    "scrolled": true
   },
   "outputs": [
    {
     "name": "stderr",
     "output_type": "stream",
     "text": [
      "<ipython-input-449-41dba9f5dd1c>:1: SettingWithCopyWarning: \n",
      "A value is trying to be set on a copy of a slice from a DataFrame.\n",
      "Try using .loc[row_indexer,col_indexer] = value instead\n",
      "\n",
      "See the caveats in the documentation: https://pandas.pydata.org/pandas-docs/stable/user_guide/indexing.html#returning-a-view-versus-a-copy\n",
      "  y_test['no_acc'] = np.where(y_test['bank_account'] == 'No', 1,0)\n",
      "/Users/tawneykirkland/opt/anaconda3/lib/python3.8/site-packages/pandas/core/frame.py:4163: SettingWithCopyWarning: \n",
      "A value is trying to be set on a copy of a slice from a DataFrame\n",
      "\n",
      "See the caveats in the documentation: https://pandas.pydata.org/pandas-docs/stable/user_guide/indexing.html#returning-a-view-versus-a-copy\n",
      "  return super().drop(\n"
     ]
    }
   ],
   "source": [
    "y_test['no_acc'] = np.where(y_test['bank_account'] == 'No', 1,0)\n",
    "y_test.drop(columns='bank_account',inplace=True)\n",
    "df_test = pd.concat([combo_test_df,y_test],axis=1)"
   ]
  },
  {
   "cell_type": "markdown",
   "metadata": {},
   "source": [
    "## 2. Testing the model on the test sample"
   ]
  },
  {
   "cell_type": "markdown",
   "metadata": {},
   "source": [
    "## Model 1 - all features"
   ]
  },
  {
   "cell_type": "code",
   "execution_count": 450,
   "metadata": {},
   "outputs": [
    {
     "name": "stdout",
     "output_type": "stream",
     "text": [
      "Accuracy of logistic regression classifier on test set: 0.883\n"
     ]
    }
   ],
   "source": [
    "preds1_test = lm_2.predict(df_test[features])\n",
    "print('Accuracy of logistic regression classifier on test set: {:.3f}'.format(\n",
    "    lm_2.score(df_test[features], df_test['no_acc'])))"
   ]
  },
  {
   "cell_type": "code",
   "execution_count": 451,
   "metadata": {},
   "outputs": [
    {
     "data": {
      "text/plain": [
       "array([[ 290,  544],\n",
       "       [ 144, 4903]])"
      ]
     },
     "execution_count": 451,
     "metadata": {},
     "output_type": "execute_result"
    }
   ],
   "source": [
    "confusion_matrix(df_test['no_acc'], \n",
    "                 preds1_test)"
   ]
  },
  {
   "cell_type": "markdown",
   "metadata": {},
   "source": [
    "\n",
    "| | predict No account (0) | predict account (1)|\n",
    "|---|---|---|\n",
    "| **is no account (0)** | 4909 | 138|\n",
    "| **is account (1)** | 540 | 294 |"
   ]
  },
  {
   "cell_type": "markdown",
   "metadata": {},
   "source": [
    "Need to do the following:\n",
    "* Check error metrics\n",
    "* Conduct cross validation\n",
    "* Test with other classification models "
   ]
  },
  {
   "cell_type": "code",
   "execution_count": 452,
   "metadata": {},
   "outputs": [
    {
     "name": "stdout",
     "output_type": "stream",
     "text": [
      "              precision    recall  f1-score   support\n",
      "\n",
      "           0       0.67      0.35      0.46       834\n",
      "           1       0.90      0.97      0.93      5047\n",
      "\n",
      "    accuracy                           0.88      5881\n",
      "   macro avg       0.78      0.66      0.70      5881\n",
      "weighted avg       0.87      0.88      0.87      5881\n",
      "\n"
     ]
    }
   ],
   "source": [
    "print(classification_report(df_test['no_acc'], preds1_test))"
   ]
  },
  {
   "cell_type": "markdown",
   "metadata": {},
   "source": [
    "## Multiple regression with model 13"
   ]
  },
  {
   "cell_type": "code",
   "execution_count": 453,
   "metadata": {},
   "outputs": [],
   "source": [
    "df_test_13 = df_test.drop(columns= ['year','household_size','relationship_with_head_Other relative',\n",
    "                                   'relationship_with_head_Parent'])"
   ]
  },
  {
   "cell_type": "code",
   "execution_count": 454,
   "metadata": {},
   "outputs": [
    {
     "name": "stdout",
     "output_type": "stream",
     "text": [
      "Accuracy of logistic regression classifier on test set: 0.883\n"
     ]
    }
   ],
   "source": [
    "preds13_test = lm_13.predict(df_test_13[features13])\n",
    "print('Accuracy of logistic regression classifier on test set: {:.3f}'.format(\n",
    "    lm_13.score(df_test_13[features13],df_test_13['no_acc'])))"
   ]
  },
  {
   "cell_type": "code",
   "execution_count": 455,
   "metadata": {},
   "outputs": [
    {
     "data": {
      "text/plain": [
       "array([[ 290,  544],\n",
       "       [ 143, 4904]])"
      ]
     },
     "execution_count": 455,
     "metadata": {},
     "output_type": "execute_result"
    }
   ],
   "source": [
    "confusion_matrix(df_test_13['no_acc'], \n",
    "                 preds13_test)"
   ]
  },
  {
   "cell_type": "code",
   "execution_count": 456,
   "metadata": {},
   "outputs": [
    {
     "name": "stdout",
     "output_type": "stream",
     "text": [
      "              precision    recall  f1-score   support\n",
      "\n",
      "           0       0.67      0.35      0.46       834\n",
      "           1       0.90      0.97      0.93      5047\n",
      "\n",
      "    accuracy                           0.88      5881\n",
      "   macro avg       0.78      0.66      0.70      5881\n",
      "weighted avg       0.87      0.88      0.87      5881\n",
      "\n"
     ]
    }
   ],
   "source": [
    "print(classification_report(df_test_13['no_acc'], preds13_test))"
   ]
  },
  {
   "cell_type": "markdown",
   "metadata": {},
   "source": [
    "Model is broadly consistent across train - val - test"
   ]
  },
  {
   "cell_type": "code",
   "execution_count": 457,
   "metadata": {},
   "outputs": [],
   "source": [
    "df_test_13['proba_bank'] = lm_13.predict_proba(df_test_13[features13])[:, 1]\n",
    "\n",
    "fpr13_test, tpr13_test, thresholds13_test = roc_curve(df_test_13['no_acc'],\n",
    "                                 df_test_13['proba_bank'])"
   ]
  },
  {
   "cell_type": "code",
   "execution_count": 458,
   "metadata": {},
   "outputs": [
    {
     "data": {
      "image/png": "[encoded data removed]",
      "text/plain": [
       "<Figure size 432x288 with 1 Axes>"
      ]
     },
     "metadata": {
      "needs_background": "light"
     },
     "output_type": "display_data"
    }
   ],
   "source": [
    "plot_roc(df_test_13['no_acc'], df_test_13['proba_bank'],fpr13_test,tpr13_test)"
   ]
  },
  {
   "cell_type": "code",
   "execution_count": 459,
   "metadata": {},
   "outputs": [
    {
     "name": "stdout",
     "output_type": "stream",
     "text": [
      "F1 score for bank account holiders in model 13:\n"
     ]
    },
    {
     "data": {
      "text/plain": [
       "0.9345402572653644"
      ]
     },
     "execution_count": 459,
     "metadata": {},
     "output_type": "execute_result"
    }
   ],
   "source": [
    "# calculate F1 score\n",
    "f1_13_test = f1_score(df_test_13['no_acc'], preds13_test)\n",
    "print('F1 score for bank account holiders in model 13:')\n",
    "f1_13_test"
   ]
  },
  {
   "cell_type": "code",
   "execution_count": null,
   "metadata": {},
   "outputs": [],
   "source": []
  }
 ],
 "metadata": {
  "kernelspec": {
   "display_name": "Python 3",
   "language": "python",
   "name": "python3"
  },
  "language_info": {
   "codemirror_mode": {
    "name": "ipython",
    "version": 3
   },
   "file_extension": ".py",
   "mimetype": "text/x-python",
   "name": "python",
   "nbconvert_exporter": "python",
   "pygments_lexer": "ipython3",
   "version": "3.8.5"
  }
 },
 "nbformat": 4,
 "nbformat_minor": 4
}
