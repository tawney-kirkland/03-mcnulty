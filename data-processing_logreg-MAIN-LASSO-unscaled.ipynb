{
 "cells": [
  {
   "cell_type": "code",
   "execution_count": 1,
   "metadata": {},
   "outputs": [],
   "source": [
    "import pandas as pd\n",
    "import numpy as np\n",
    "\n",
    "from sklearn.model_selection import train_test_split\n",
    "from sklearn.preprocessing import StandardScaler, PolynomialFeatures, OneHotEncoder\n",
    "from sklearn.linear_model import LogisticRegression\n",
    "from sklearn.metrics import roc_auc_score, confusion_matrix, roc_curve, accuracy_score, precision_score, recall_score, f1_score\n",
    "\n",
    "import seaborn as sns\n",
    "import matplotlib.pyplot as plt\n",
    "\n",
    "import datetime as dt\n",
    "from datetime import datetime\n",
    "\n",
    "import statsmodels.api as sm\n",
    "import statsmodels.formula.api as smf\n",
    "\n",
    "from pandasql import sqldf\n",
    "\n",
    "from sklearn.compose import ColumnTransformer\n",
    "from sklearn.datasets import fetch_openml\n",
    "from sklearn.pipeline import Pipeline"
   ]
  },
  {
   "cell_type": "code",
   "execution_count": 2,
   "metadata": {},
   "outputs": [
    {
     "data": {
      "text/plain": [
       "(23524, 13)"
      ]
     },
     "execution_count": 2,
     "metadata": {},
     "output_type": "execute_result"
    }
   ],
   "source": [
    "df = pd.read_csv('data.csv')\n",
    "df.shape"
   ]
  },
  {
   "cell_type": "code",
   "execution_count": 3,
   "metadata": {},
   "outputs": [
    {
     "data": {
      "text/html": [
       "<div>\n",
       "<style scoped>\n",
       "    .dataframe tbody tr th:only-of-type {\n",
       "        vertical-align: middle;\n",
       "    }\n",
       "\n",
       "    .dataframe tbody tr th {\n",
       "        vertical-align: top;\n",
       "    }\n",
       "\n",
       "    .dataframe thead th {\n",
       "        text-align: right;\n",
       "    }\n",
       "</style>\n",
       "<table border=\"1\" class=\"dataframe\">\n",
       "  <thead>\n",
       "    <tr style=\"text-align: right;\">\n",
       "      <th></th>\n",
       "      <th>country</th>\n",
       "      <th>year</th>\n",
       "      <th>uniqueid</th>\n",
       "      <th>bank_account</th>\n",
       "      <th>location_type</th>\n",
       "      <th>cellphone_access</th>\n",
       "      <th>household_size</th>\n",
       "      <th>age_of_respondent</th>\n",
       "      <th>relationship_with_head</th>\n",
       "      <th>marital_status</th>\n",
       "      <th>education_level</th>\n",
       "      <th>job_type</th>\n",
       "    </tr>\n",
       "    <tr>\n",
       "      <th>gender_of_respondent</th>\n",
       "      <th></th>\n",
       "      <th></th>\n",
       "      <th></th>\n",
       "      <th></th>\n",
       "      <th></th>\n",
       "      <th></th>\n",
       "      <th></th>\n",
       "      <th></th>\n",
       "      <th></th>\n",
       "      <th></th>\n",
       "      <th></th>\n",
       "      <th></th>\n",
       "    </tr>\n",
       "  </thead>\n",
       "  <tbody>\n",
       "    <tr>\n",
       "      <th>Female</th>\n",
       "      <td>13877</td>\n",
       "      <td>13877</td>\n",
       "      <td>13877</td>\n",
       "      <td>13877</td>\n",
       "      <td>13877</td>\n",
       "      <td>13877</td>\n",
       "      <td>13877</td>\n",
       "      <td>13877</td>\n",
       "      <td>13877</td>\n",
       "      <td>13877</td>\n",
       "      <td>13877</td>\n",
       "      <td>13877</td>\n",
       "    </tr>\n",
       "    <tr>\n",
       "      <th>Male</th>\n",
       "      <td>9647</td>\n",
       "      <td>9647</td>\n",
       "      <td>9647</td>\n",
       "      <td>9647</td>\n",
       "      <td>9647</td>\n",
       "      <td>9647</td>\n",
       "      <td>9647</td>\n",
       "      <td>9647</td>\n",
       "      <td>9647</td>\n",
       "      <td>9647</td>\n",
       "      <td>9647</td>\n",
       "      <td>9647</td>\n",
       "    </tr>\n",
       "  </tbody>\n",
       "</table>\n",
       "</div>"
      ],
      "text/plain": [
       "                      country   year  uniqueid  bank_account  location_type  \\\n",
       "gender_of_respondent                                                          \n",
       "Female                  13877  13877     13877         13877          13877   \n",
       "Male                     9647   9647      9647          9647           9647   \n",
       "\n",
       "                      cellphone_access  household_size  age_of_respondent  \\\n",
       "gender_of_respondent                                                        \n",
       "Female                           13877           13877              13877   \n",
       "Male                              9647            9647               9647   \n",
       "\n",
       "                      relationship_with_head  marital_status  education_level  \\\n",
       "gender_of_respondent                                                            \n",
       "Female                                 13877           13877            13877   \n",
       "Male                                    9647            9647             9647   \n",
       "\n",
       "                      job_type  \n",
       "gender_of_respondent            \n",
       "Female                   13877  \n",
       "Male                      9647  "
      ]
     },
     "execution_count": 3,
     "metadata": {},
     "output_type": "execute_result"
    }
   ],
   "source": [
    "df.groupby('gender_of_respondent').count()"
   ]
  },
  {
   "cell_type": "code",
   "execution_count": 4,
   "metadata": {},
   "outputs": [],
   "source": [
    "x = df[['country', 'year', 'uniqueid', 'location_type',\n",
    "       'cellphone_access', 'household_size', 'age_of_respondent',\n",
    "       'gender_of_respondent', 'relationship_with_head', 'marital_status',\n",
    "       'education_level', 'job_type']]\n",
    "\n",
    "\n",
    "y = df[['bank_account']]\n",
    "\n",
    "x_tr, x_test, y_tr, y_test = train_test_split(x, y,test_size=.25, random_state=12)"
   ]
  },
  {
   "cell_type": "code",
   "execution_count": 5,
   "metadata": {
    "scrolled": true
   },
   "outputs": [
    {
     "name": "stderr",
     "output_type": "stream",
     "text": [
      "<ipython-input-5-02e3f9e08314>:1: SettingWithCopyWarning: \n",
      "A value is trying to be set on a copy of a slice from a DataFrame.\n",
      "Try using .loc[row_indexer,col_indexer] = value instead\n",
      "\n",
      "See the caveats in the documentation: https://pandas.pydata.org/pandas-docs/stable/user_guide/indexing.html#returning-a-view-versus-a-copy\n",
      "  x_tr['is_urban'] = np.where(x_tr['location_type'] == 'Urban',1,0)\n",
      "<ipython-input-5-02e3f9e08314>:2: SettingWithCopyWarning: \n",
      "A value is trying to be set on a copy of a slice from a DataFrame.\n",
      "Try using .loc[row_indexer,col_indexer] = value instead\n",
      "\n",
      "See the caveats in the documentation: https://pandas.pydata.org/pandas-docs/stable/user_guide/indexing.html#returning-a-view-versus-a-copy\n",
      "  x_tr['cellphone'] = np.where(x_tr['cellphone_access'] == 'Yes',1,0)\n",
      "<ipython-input-5-02e3f9e08314>:3: SettingWithCopyWarning: \n",
      "A value is trying to be set on a copy of a slice from a DataFrame.\n",
      "Try using .loc[row_indexer,col_indexer] = value instead\n",
      "\n",
      "See the caveats in the documentation: https://pandas.pydata.org/pandas-docs/stable/user_guide/indexing.html#returning-a-view-versus-a-copy\n",
      "  x_tr['is_male'] = np.where(x_tr['gender_of_respondent'] == 'Male',1,0)\n"
     ]
    }
   ],
   "source": [
    "x_tr['is_urban'] = np.where(x_tr['location_type'] == 'Urban',1,0)\n",
    "x_tr['cellphone'] = np.where(x_tr['cellphone_access'] == 'Yes',1,0)\n",
    "x_tr['is_male'] = np.where(x_tr['gender_of_respondent'] == 'Male',1,0)"
   ]
  },
  {
   "cell_type": "code",
   "execution_count": 6,
   "metadata": {},
   "outputs": [],
   "source": [
    "country_avg = dict(x_tr.groupby('country')['household_size'].mean())"
   ]
  },
  {
   "cell_type": "code",
   "execution_count": 7,
   "metadata": {},
   "outputs": [
    {
     "data": {
      "text/plain": [
       "{'Kenya': 3.980457472795914,\n",
       " 'Rwanda': 4.490705177446612,\n",
       " 'Tanzania': 2.338022587675847,\n",
       " 'Uganda': 4.945707070707071}"
      ]
     },
     "execution_count": 7,
     "metadata": {},
     "output_type": "execute_result"
    }
   ],
   "source": [
    "country_avg"
   ]
  },
  {
   "cell_type": "code",
   "execution_count": 8,
   "metadata": {},
   "outputs": [
    {
     "name": "stderr",
     "output_type": "stream",
     "text": [
      "/Users/tawneykirkland/opt/anaconda3/lib/python3.8/site-packages/pandas/core/indexing.py:659: SettingWithCopyWarning: \n",
      "A value is trying to be set on a copy of a slice from a DataFrame.\n",
      "Try using .loc[row_indexer,col_indexer] = value instead\n",
      "\n",
      "See the caveats in the documentation: https://pandas.pydata.org/pandas-docs/stable/user_guide/indexing.html#returning-a-view-versus-a-copy\n",
      "  self.obj[k] = np.nan\n",
      "/Users/tawneykirkland/opt/anaconda3/lib/python3.8/site-packages/pandas/core/indexing.py:1736: SettingWithCopyWarning: \n",
      "A value is trying to be set on a copy of a slice from a DataFrame.\n",
      "Try using .loc[row_indexer,col_indexer] = value instead\n",
      "\n",
      "See the caveats in the documentation: https://pandas.pydata.org/pandas-docs/stable/user_guide/indexing.html#returning-a-view-versus-a-copy\n",
      "  isetter(loc, value[:, i].tolist())\n"
     ]
    }
   ],
   "source": [
    "x_tr.loc[x_tr['country'] == 'Kenya', ['mean_hh']] = x_tr['household_size'] / 3.98\n",
    "x_tr.loc[x_tr['country'] == 'Rwanda', ['mean_hh']] = x_tr['household_size'] / 4.49\n",
    "x_tr.loc[x_tr['country'] == 'Tanzania', ['mean_hh']] = x_tr['household_size'] / 2.34\n",
    "x_tr.loc[x_tr['country'] == 'Uganda', ['mean_hh']] = x_tr['household_size'] / 4.95"
   ]
  },
  {
   "cell_type": "code",
   "execution_count": 9,
   "metadata": {},
   "outputs": [],
   "source": [
    "x_tr_cont = x_tr[['year','household_size','age_of_respondent','is_urban','cellphone','is_male','mean_hh']]\n",
    "x_tr_cat = x_tr[['country','relationship_with_head', 'marital_status','education_level', 'job_type']]"
   ]
  },
  {
   "cell_type": "code",
   "execution_count": 10,
   "metadata": {},
   "outputs": [
    {
     "name": "stderr",
     "output_type": "stream",
     "text": [
      "/Users/tawneykirkland/opt/anaconda3/lib/python3.8/site-packages/pandas/core/indexing.py:670: SettingWithCopyWarning: \n",
      "A value is trying to be set on a copy of a slice from a DataFrame\n",
      "\n",
      "See the caveats in the documentation: https://pandas.pydata.org/pandas-docs/stable/user_guide/indexing.html#returning-a-view-versus-a-copy\n",
      "  iloc._setitem_with_indexer(indexer, value)\n",
      "<ipython-input-10-4a08e3cd5a34>:2: SettingWithCopyWarning: \n",
      "A value is trying to be set on a copy of a slice from a DataFrame\n",
      "\n",
      "See the caveats in the documentation: https://pandas.pydata.org/pandas-docs/stable/user_guide/indexing.html#returning-a-view-versus-a-copy\n",
      "  x_tr_cat.loc[x_tr['marital_status'] == 'Dont know', ['marital_status']] = 'Single/Never Married'\n",
      "<ipython-input-10-4a08e3cd5a34>:3: SettingWithCopyWarning: \n",
      "A value is trying to be set on a copy of a slice from a DataFrame\n",
      "\n",
      "See the caveats in the documentation: https://pandas.pydata.org/pandas-docs/stable/user_guide/indexing.html#returning-a-view-versus-a-copy\n",
      "  x_tr_cat.loc[x_tr['education_level'] == 'Other/Dont know/RTA', ['education_level']] = 'No formal education'\n",
      "<ipython-input-10-4a08e3cd5a34>:4: SettingWithCopyWarning: \n",
      "A value is trying to be set on a copy of a slice from a DataFrame\n",
      "\n",
      "See the caveats in the documentation: https://pandas.pydata.org/pandas-docs/stable/user_guide/indexing.html#returning-a-view-versus-a-copy\n",
      "  x_tr_cat.loc[x_tr['job_type'] == 'Dont Know/Refuse to answer', ['job_type']] = 'No Income'\n",
      "<ipython-input-10-4a08e3cd5a34>:5: SettingWithCopyWarning: \n",
      "A value is trying to be set on a copy of a slice from a DataFrame\n",
      "\n",
      "See the caveats in the documentation: https://pandas.pydata.org/pandas-docs/stable/user_guide/indexing.html#returning-a-view-versus-a-copy\n",
      "  x_tr_cat.loc[x_tr['relationship_with_head'] == 'Other non-relatives', ['relationship_with_head']] = 'Other relative'\n"
     ]
    }
   ],
   "source": [
    "# Regroup to reduce number of categories\n",
    "x_tr_cat.loc[x_tr['marital_status'] == 'Dont know', ['marital_status']] = 'Single/Never Married'\n",
    "x_tr_cat.loc[x_tr['education_level'] == 'Other/Dont know/RTA', ['education_level']] = 'No formal education'\n",
    "x_tr_cat.loc[x_tr['job_type'] == 'Dont Know/Refuse to answer', ['job_type']] = 'No Income'\n",
    "x_tr_cat.loc[x_tr['relationship_with_head'] == 'Other non-relatives', ['relationship_with_head']] = 'Other relative'"
   ]
  },
  {
   "cell_type": "code",
   "execution_count": 11,
   "metadata": {},
   "outputs": [
    {
     "name": "stderr",
     "output_type": "stream",
     "text": [
      "<ipython-input-11-dc6323112d16>:1: SettingWithCopyWarning: \n",
      "A value is trying to be set on a copy of a slice from a DataFrame.\n",
      "Try using .loc[row_indexer,col_indexer] = value instead\n",
      "\n",
      "See the caveats in the documentation: https://pandas.pydata.org/pandas-docs/stable/user_guide/indexing.html#returning-a-view-versus-a-copy\n",
      "  y_tr['no_acc'] = np.where(y_tr['bank_account'] == 'No', 1,0)\n",
      "/Users/tawneykirkland/opt/anaconda3/lib/python3.8/site-packages/pandas/core/frame.py:4163: SettingWithCopyWarning: \n",
      "A value is trying to be set on a copy of a slice from a DataFrame\n",
      "\n",
      "See the caveats in the documentation: https://pandas.pydata.org/pandas-docs/stable/user_guide/indexing.html#returning-a-view-versus-a-copy\n",
      "  return super().drop(\n"
     ]
    }
   ],
   "source": [
    "y_tr['no_acc'] = np.where(y_tr['bank_account'] == 'No', 1,0)\n",
    "y_tr.drop(columns='bank_account',inplace=True)"
   ]
  },
  {
   "cell_type": "code",
   "execution_count": 12,
   "metadata": {
    "scrolled": true
   },
   "outputs": [],
   "source": [
    "#from sklearn.preprocessing import minmax_scale\n",
    "\n",
    "#x_tr_cont[['household_size','age_of_respondent']] = minmax_scale(x_tr_cont[['household_size','age_of_respondent']])"
   ]
  },
  {
   "cell_type": "code",
   "execution_count": 13,
   "metadata": {
    "scrolled": true
   },
   "outputs": [],
   "source": [
    "ohe = OneHotEncoder(drop='first', sparse=False)\n",
    "\n",
    "ohe.fit(x_tr_cat)\n",
    "\n",
    "ohe_x_train = ohe.transform(x_tr_cat)\n",
    "\n",
    "columns = ohe.get_feature_names(['country',\n",
    "                                 'relationship_with_head', \n",
    "                                 'marital_status',\n",
    "                                 'education_level', \n",
    "                                 'job_type'])\n",
    "\n",
    "ohe_x_tr_df = pd.DataFrame(ohe_x_train, columns=columns, index=x_tr.index)"
   ]
  },
  {
   "cell_type": "code",
   "execution_count": 14,
   "metadata": {},
   "outputs": [],
   "source": [
    "combo_train_df = pd.concat([x_tr_cont, ohe_x_tr_df], axis=1)"
   ]
  },
  {
   "cell_type": "code",
   "execution_count": 15,
   "metadata": {},
   "outputs": [],
   "source": [
    "x_train, x_val, y_train, y_val = train_test_split(combo_train_df, y_tr, test_size=.20, random_state=11)"
   ]
  },
  {
   "cell_type": "code",
   "execution_count": 16,
   "metadata": {
    "scrolled": true
   },
   "outputs": [
    {
     "data": {
      "image/png": "[encoded data removed]",
      "text/plain": [
       "<Figure size 432x288 with 1 Axes>"
      ]
     },
     "metadata": {
      "needs_background": "light"
     },
     "output_type": "display_data"
    }
   ],
   "source": [
    "sns.countplot(x='no_acc', data=y_train)\n",
    "plt.title('Bank account holding status',family='arial',fontsize=16)\n",
    "plt.xlabel('Bank account')\n",
    "plt.ylabel('Count')\n",
    "plt.show;"
   ]
  },
  {
   "cell_type": "code",
   "execution_count": 17,
   "metadata": {},
   "outputs": [
    {
     "name": "stdout",
     "output_type": "stream",
     "text": [
      "percentage of no account: 85.9288649567805\n",
      "percentage of account 14.071135043219499\n"
     ]
    }
   ],
   "source": [
    "count_no_acc = len(y_train[y_train['no_acc']==1])\n",
    "count_acc = len(y_train[y_train['no_acc']==0])\n",
    "pct_of_no_acc = count_no_acc/(count_no_acc+count_acc)\n",
    "print(\"percentage of no account:\", pct_of_no_acc*100)\n",
    "pct_of_acc = count_acc/(count_no_acc+count_acc)\n",
    "print(\"percentage of account\", pct_of_acc*100)"
   ]
  },
  {
   "cell_type": "markdown",
   "metadata": {},
   "source": [
    "Classes are __very imbalanced__ - investigate threshold, over and undersampling"
   ]
  },
  {
   "cell_type": "code",
   "execution_count": 18,
   "metadata": {},
   "outputs": [],
   "source": [
    "df_train = pd.concat([x_train,y_train],axis=1)\n",
    "df_val = pd.concat([x_val,y_val],axis=1)"
   ]
  },
  {
   "cell_type": "code",
   "execution_count": 19,
   "metadata": {},
   "outputs": [],
   "source": [
    "# Create dateframes to use for visualisations\n",
    "df_vis_cont = pd.concat([x_tr_cont,y_tr],axis=1)\n",
    "df_vis_cat = pd.concat([ohe_x_tr_df,y_tr],axis=1)"
   ]
  },
  {
   "cell_type": "code",
   "execution_count": 20,
   "metadata": {
    "scrolled": true
   },
   "outputs": [
    {
     "data": {
      "image/png": "[encoded data removed]",
      "text/plain": [
       "<Figure size 1080x1080 with 2 Axes>"
      ]
     },
     "metadata": {
      "needs_background": "light"
     },
     "output_type": "display_data"
    }
   ],
   "source": [
    "fig, ax = plt.subplots(figsize=(15, 15))\n",
    "sns.heatmap(df_train.corr(), cmap=\"seismic\", vmin=-1, vmax=1, ax=ax);"
   ]
  },
  {
   "cell_type": "markdown",
   "metadata": {},
   "source": [
    "## Simple logistic regression\n",
    "\n",
    "Testing with a single variable: is_male"
   ]
  },
  {
   "cell_type": "code",
   "execution_count": 21,
   "metadata": {},
   "outputs": [
    {
     "name": "stdout",
     "output_type": "stream",
     "text": [
      "Optimization terminated successfully.\n",
      "         Current function value: 0.399382\n",
      "         Iterations 6\n"
     ]
    }
   ],
   "source": [
    "#Model on is_male first\n",
    "lm_1 = sm.Logit(df_train['no_acc'],  # with statsmodels, `y` comes first\n",
    "                sm.add_constant(df_train[['is_male']]))  # and then `x`\n",
    "lm_1 = lm_1.fit()"
   ]
  },
  {
   "cell_type": "code",
   "execution_count": 22,
   "metadata": {},
   "outputs": [
    {
     "data": {
      "text/html": [
       "<table class=\"simpletable\">\n",
       "<caption>Logit Regression Results</caption>\n",
       "<tr>\n",
       "  <th>Dep. Variable:</th>        <td>no_acc</td>      <th>  No. Observations:  </th>  <td> 14114</td>  \n",
       "</tr>\n",
       "<tr>\n",
       "  <th>Model:</th>                 <td>Logit</td>      <th>  Df Residuals:      </th>  <td> 14112</td>  \n",
       "</tr>\n",
       "<tr>\n",
       "  <th>Method:</th>                 <td>MLE</td>       <th>  Df Model:          </th>  <td>     1</td>  \n",
       "</tr>\n",
       "<tr>\n",
       "  <th>Date:</th>            <td>Tue, 09 Feb 2021</td> <th>  Pseudo R-squ.:     </th>  <td>0.01691</td> \n",
       "</tr>\n",
       "<tr>\n",
       "  <th>Time:</th>                <td>10:27:39</td>     <th>  Log-Likelihood:    </th> <td> -5636.9</td> \n",
       "</tr>\n",
       "<tr>\n",
       "  <th>converged:</th>             <td>True</td>       <th>  LL-Null:           </th> <td> -5733.9</td> \n",
       "</tr>\n",
       "<tr>\n",
       "  <th>Covariance Type:</th>     <td>nonrobust</td>    <th>  LLR p-value:       </th> <td>4.398e-44</td>\n",
       "</tr>\n",
       "</table>\n",
       "<table class=\"simpletable\">\n",
       "<tr>\n",
       "     <td></td>        <th>coef</th>     <th>std err</th>      <th>z</th>      <th>P>|z|</th>  <th>[0.025</th>    <th>0.975]</th>  \n",
       "</tr>\n",
       "<tr>\n",
       "  <th>const</th>   <td>    2.1251</td> <td>    0.035</td> <td>   60.055</td> <td> 0.000</td> <td>    2.056</td> <td>    2.194</td>\n",
       "</tr>\n",
       "<tr>\n",
       "  <th>is_male</th> <td>   -0.6779</td> <td>    0.049</td> <td>  -13.887</td> <td> 0.000</td> <td>   -0.774</td> <td>   -0.582</td>\n",
       "</tr>\n",
       "</table>"
      ],
      "text/plain": [
       "<class 'statsmodels.iolib.summary.Summary'>\n",
       "\"\"\"\n",
       "                           Logit Regression Results                           \n",
       "==============================================================================\n",
       "Dep. Variable:                 no_acc   No. Observations:                14114\n",
       "Model:                          Logit   Df Residuals:                    14112\n",
       "Method:                           MLE   Df Model:                            1\n",
       "Date:                Tue, 09 Feb 2021   Pseudo R-squ.:                 0.01691\n",
       "Time:                        10:27:39   Log-Likelihood:                -5636.9\n",
       "converged:                       True   LL-Null:                       -5733.9\n",
       "Covariance Type:            nonrobust   LLR p-value:                 4.398e-44\n",
       "==============================================================================\n",
       "                 coef    std err          z      P>|z|      [0.025      0.975]\n",
       "------------------------------------------------------------------------------\n",
       "const          2.1251      0.035     60.055      0.000       2.056       2.194\n",
       "is_male       -0.6779      0.049    -13.887      0.000      -0.774      -0.582\n",
       "==============================================================================\n",
       "\"\"\""
      ]
     },
     "execution_count": 22,
     "metadata": {},
     "output_type": "execute_result"
    }
   ],
   "source": [
    "lm_1.summary()"
   ]
  },
  {
   "cell_type": "code",
   "execution_count": 23,
   "metadata": {},
   "outputs": [
    {
     "data": {
      "text/plain": [
       "LogisticRegression(C=100000, solver='newton-cg')"
      ]
     },
     "execution_count": 23,
     "metadata": {},
     "output_type": "execute_result"
    }
   ],
   "source": [
    "lm_1 = LogisticRegression(solver='newton-cg',  # For comparison, use the same solver as statsmodels default\n",
    "                          C=100000)  # No regularization\n",
    "\n",
    "lm_1.fit(df_train[['is_male']], df_train['no_acc'])"
   ]
  },
  {
   "cell_type": "code",
   "execution_count": 24,
   "metadata": {},
   "outputs": [
    {
     "name": "stdout",
     "output_type": "stream",
     "text": [
      "intercept:  2.1251\n",
      "is_male coef:  -0.6779\n"
     ]
    }
   ],
   "source": [
    "print('intercept: ', round(lm_1.intercept_[0], 4))\n",
    "print('is_male coef: ', round(lm_1.coef_[0][0], 4))"
   ]
  },
  {
   "cell_type": "code",
   "execution_count": 25,
   "metadata": {},
   "outputs": [],
   "source": [
    "df_eval = df_val.copy()\n",
    "df_eval['pred'] = lm_1.predict(df_val[['is_male']])\n",
    "df_eval.loc[:, 'pred'] = df_eval['pred'].astype('category')\n",
    "df_eval['correct_pred'] = df_eval['pred'] == df_eval['no_acc']"
   ]
  },
  {
   "cell_type": "code",
   "execution_count": 26,
   "metadata": {},
   "outputs": [
    {
     "data": {
      "image/png": "[encoded data removed]",
      "text/plain": [
       "<Figure size 432x288 with 1 Axes>"
      ]
     },
     "metadata": {
      "needs_background": "light"
     },
     "output_type": "display_data"
    }
   ],
   "source": [
    "sns.stripplot(data=df_eval,\n",
    "              x='is_male',\n",
    "              y='pred',\n",
    "              hue='correct_pred',\n",
    "              palette={False: '#f03b20', True: '#3182bd'});"
   ]
  },
  {
   "cell_type": "code",
   "execution_count": 27,
   "metadata": {
    "scrolled": true
   },
   "outputs": [
    {
     "data": {
      "text/plain": [
       "array([[0.10668258, 0.89331742],\n",
       "       [0.19044297, 0.80955703],\n",
       "       [0.10668258, 0.89331742],\n",
       "       [0.10668258, 0.89331742],\n",
       "       [0.19044297, 0.80955703]])"
      ]
     },
     "execution_count": 27,
     "metadata": {},
     "output_type": "execute_result"
    }
   ],
   "source": [
    "lm_1.predict_proba(df_val[['is_male']])[:5]"
   ]
  },
  {
   "cell_type": "code",
   "execution_count": 28,
   "metadata": {},
   "outputs": [
    {
     "data": {
      "text/plain": [
       "array([[   0,  492],\n",
       "       [   0, 3037]])"
      ]
     },
     "execution_count": 28,
     "metadata": {},
     "output_type": "execute_result"
    }
   ],
   "source": [
    "confusion_matrix(df_eval['no_acc'], df_eval['pred'])"
   ]
  },
  {
   "cell_type": "markdown",
   "metadata": {},
   "source": [
    "\n",
    "| | predict No account (0) | predict account (1)|\n",
    "|---|---|---|\n",
    "| **is no account (0)** | 3037 | 0|\n",
    "| **is account (1)** | 492 | 0 |"
   ]
  },
  {
   "cell_type": "markdown",
   "metadata": {},
   "source": [
    "I believe it is predicting all no account because of the following:\n",
    "* Classes are very imbalanced (85:15 no account to account)\n",
    "* One variable alone may not be sufficient enough in this instance\n",
    "* Perhaps because is_male class is also imbalanced?"
   ]
  },
  {
   "cell_type": "markdown",
   "metadata": {},
   "source": [
    "## Multiple regression - excluding mean hh\n",
    "The below analysis is a multiple logistic regression for all features "
   ]
  },
  {
   "cell_type": "code",
   "execution_count": 29,
   "metadata": {},
   "outputs": [],
   "source": [
    "features = ['household_size', 'age_of_respondent', 'is_urban', 'cellphone',\n",
    "       'is_male', 'country_Rwanda', 'country_Tanzania', 'country_Uganda',\n",
    "       'relationship_with_head_Head of Household',\n",
    "       'relationship_with_head_Other relative',\n",
    "       'relationship_with_head_Parent', 'relationship_with_head_Spouse',\n",
    "       'marital_status_Married/Living together',\n",
    "       'marital_status_Single/Never Married', 'marital_status_Widowed',\n",
    "       'education_level_Primary education',\n",
    "       'education_level_Secondary education',\n",
    "       'education_level_Tertiary education',\n",
    "       'education_level_Vocational/Specialised training',\n",
    "       'job_type_Formally employed Government',\n",
    "       'job_type_Formally employed Private', 'job_type_Government Dependent',\n",
    "       'job_type_Informally employed', 'job_type_No Income',\n",
    "       'job_type_Other Income', 'job_type_Remittance Dependent',\n",
    "       'job_type_Self employed']"
   ]
  },
  {
   "cell_type": "markdown",
   "metadata": {},
   "source": [
    "The below analysis includes all features. Thereafter the analyses remove insignificant features one by one."
   ]
  },
  {
   "cell_type": "code",
   "execution_count": 30,
   "metadata": {
    "scrolled": true
   },
   "outputs": [
    {
     "name": "stdout",
     "output_type": "stream",
     "text": [
      "Accuracy of logistic regression classifier on val set: 0.89\n"
     ]
    }
   ],
   "source": [
    "lm_2 = LogisticRegression(C=1e13,penalty='l1',solver='liblinear')\n",
    "lm_2.fit(df_train[features], df_train['no_acc'])\n",
    "\n",
    "preds = lm_2.predict(df_val[features])\n",
    "print('Accuracy of logistic regression classifier on val set: {:.2f}'.format(lm_2.score(df_val[features], y_val)))"
   ]
  },
  {
   "cell_type": "code",
   "execution_count": 31,
   "metadata": {
    "scrolled": true
   },
   "outputs": [
    {
     "name": "stdout",
     "output_type": "stream",
     "text": [
      "Feature coefficient results: \n",
      "\n",
      "household_size : -0.001\n",
      "age_of_respondent : -0.013\n",
      "is_urban : -0.271\n",
      "cellphone : -1.626\n",
      "is_male : -0.455\n",
      "country_Rwanda : 0.337\n",
      "country_Tanzania : 1.267\n",
      "country_Uganda : 1.214\n",
      "relationship_with_head_Head of Household : -0.795\n",
      "relationship_with_head_Other relative : -0.118\n",
      "relationship_with_head_Parent : -0.022\n",
      "relationship_with_head_Spouse : -0.568\n",
      "marital_status_Married/Living together : -0.033\n",
      "marital_status_Single/Never Married : 0.130\n",
      "marital_status_Widowed : -0.060\n",
      "education_level_Primary education : -0.758\n",
      "education_level_Secondary education : -1.759\n",
      "education_level_Tertiary education : -3.230\n",
      "education_level_Vocational/Specialised training : -2.770\n",
      "job_type_Formally employed Government : -1.613\n",
      "job_type_Formally employed Private : -1.723\n",
      "job_type_Government Dependent : -1.213\n",
      "job_type_Informally employed : 0.363\n",
      "job_type_No Income : 0.190\n",
      "job_type_Other Income : -0.672\n",
      "job_type_Remittance Dependent : 0.206\n",
      "job_type_Self employed : -0.460\n"
     ]
    }
   ],
   "source": [
    "print('Feature coefficient results: \\n')\n",
    "for feature, coef in zip(df_train[features].columns, lm_2.coef_.reshape(1, -1)[0]):\n",
    "        print(feature, ':', f'{coef:.3f}')"
   ]
  },
  {
   "cell_type": "code",
   "execution_count": 32,
   "metadata": {},
   "outputs": [
    {
     "data": {
      "text/plain": [
       "array([5.63949814])"
      ]
     },
     "execution_count": 32,
     "metadata": {},
     "output_type": "execute_result"
    }
   ],
   "source": [
    "lm_2.intercept_"
   ]
  },
  {
   "cell_type": "code",
   "execution_count": 33,
   "metadata": {},
   "outputs": [],
   "source": [
    "df_val['preds'] = lm_2.predict(df_val[features])"
   ]
  },
  {
   "cell_type": "code",
   "execution_count": 34,
   "metadata": {},
   "outputs": [],
   "source": [
    "import sys\n",
    "np.set_printoptions(threshold=sys.maxsize)"
   ]
  },
  {
   "cell_type": "code",
   "execution_count": 35,
   "metadata": {},
   "outputs": [],
   "source": [
    "y_prob = lm_2.predict_proba(df_val[features])"
   ]
  },
  {
   "cell_type": "code",
   "execution_count": 36,
   "metadata": {
    "scrolled": true
   },
   "outputs": [
    {
     "data": {
      "text/plain": [
       "array([[ 167,  325],\n",
       "       [  79, 2958]])"
      ]
     },
     "execution_count": 36,
     "metadata": {},
     "output_type": "execute_result"
    }
   ],
   "source": [
    "confusion_matrix(df_val['no_acc'], \n",
    "                 preds)"
   ]
  },
  {
   "cell_type": "markdown",
   "metadata": {},
   "source": [
    "\n",
    "| | predict No account (0) | predict account (1)|\n",
    "|---|---|---|\n",
    "| **is no account (0)** | 2954 | 83|\n",
    "| **is account (1)** | 337 | 155 |"
   ]
  },
  {
   "cell_type": "markdown",
   "metadata": {},
   "source": [
    "Need to understand and decide on the __trade off between recall and precision__\n",
    "\n",
    "Precision is the number of observations predicted positive over the total actual positives. The precision is intuitively the ability of the classifier to not label a sample as positive if it is negative.\n",
    "\n",
    "The recall is the number of actually positive observations over the number predicted positive. The recall is intuitively the ability of the classifier to find all the positive samples."
   ]
  },
  {
   "cell_type": "code",
   "execution_count": 37,
   "metadata": {
    "scrolled": true
   },
   "outputs": [
    {
     "name": "stdout",
     "output_type": "stream",
     "text": [
      "              precision    recall  f1-score   support\n",
      "\n",
      "           0       0.68      0.34      0.45       492\n",
      "           1       0.90      0.97      0.94      3037\n",
      "\n",
      "    accuracy                           0.89      3529\n",
      "   macro avg       0.79      0.66      0.69      3529\n",
      "weighted avg       0.87      0.89      0.87      3529\n",
      "\n"
     ]
    }
   ],
   "source": [
    "from sklearn.metrics import classification_report\n",
    "print(classification_report(y_val, preds))"
   ]
  },
  {
   "cell_type": "code",
   "execution_count": 38,
   "metadata": {},
   "outputs": [],
   "source": [
    "df_val['proba_bank'] = lm_2.predict_proba(df_val[features])[:, 1]\n",
    "\n",
    "fpr2, tpr2, thresholds2 = roc_curve(df_val['no_acc'],\n",
    "                                 df_val['proba_bank'])"
   ]
  },
  {
   "cell_type": "code",
   "execution_count": 39,
   "metadata": {},
   "outputs": [],
   "source": [
    "def plot_roc(true, probas,fpr,tpr):\n",
    "    auc = roc_auc_score(true, probas)\n",
    "\n",
    "    plt.plot(fpr, tpr, marker='o')\n",
    "    plt.xlabel('1 - Specificity (FPR)')\n",
    "    plt.ylabel('Sensitivity (TPR)');\n",
    "    plt.title(f\"Area Under the ROC Curve: {round(auc, 3)}\");"
   ]
  },
  {
   "cell_type": "code",
   "execution_count": 40,
   "metadata": {
    "scrolled": false
   },
   "outputs": [
    {
     "data": {
      "image/png": "[encoded data removed]",
      "text/plain": [
       "<Figure size 432x288 with 1 Axes>"
      ]
     },
     "metadata": {
      "needs_background": "light"
     },
     "output_type": "display_data"
    }
   ],
   "source": [
    "plot_roc(df_val['no_acc'], df_val['proba_bank'],fpr2,tpr2)"
   ]
  },
  {
   "cell_type": "markdown",
   "metadata": {},
   "source": [
    "## Adjusting threshold"
   ]
  },
  {
   "cell_type": "code",
   "execution_count": 41,
   "metadata": {},
   "outputs": [],
   "source": [
    "threshold = .50\n",
    "y_pred = np.where((y_prob[:, 0] > threshold),0,1)"
   ]
  },
  {
   "cell_type": "code",
   "execution_count": 42,
   "metadata": {
    "scrolled": true
   },
   "outputs": [
    {
     "data": {
      "text/plain": [
       "array([[ 167,  325],\n",
       "       [  79, 2958]])"
      ]
     },
     "execution_count": 42,
     "metadata": {},
     "output_type": "execute_result"
    }
   ],
   "source": [
    "confusion_matrix(df_val['no_acc'], \n",
    "                 y_pred)"
   ]
  },
  {
   "cell_type": "code",
   "execution_count": 43,
   "metadata": {},
   "outputs": [],
   "source": [
    "df_val['preds'] = np.where((y_prob[:, 0] > threshold),0,1)\n",
    "df_comp = df_val[(df_val['no_acc'] != df_val['preds']) & (df_val['household_size'] ==1)]"
   ]
  },
  {
   "cell_type": "code",
   "execution_count": 44,
   "metadata": {},
   "outputs": [],
   "source": [
    "pd.set_option('display.max_columns', None)"
   ]
  },
  {
   "cell_type": "markdown",
   "metadata": {},
   "source": [
    "## Multiple regression removing insignificant features one by one\n",
    "\n",
    "Based on logit summary above"
   ]
  },
  {
   "cell_type": "markdown",
   "metadata": {},
   "source": [
    "## Removing parent and other relative\n",
    "\n",
    "Based on logit summary above"
   ]
  },
  {
   "cell_type": "code",
   "execution_count": 45,
   "metadata": {},
   "outputs": [],
   "source": [
    "x_train_9 = df_train.drop(columns = ['year','relationship_with_head_Parent','relationship_with_head_Other relative'])\n",
    "\n",
    "df_val_9 = df_val.drop(columns = ['year','relationship_with_head_Parent','relationship_with_head_Other relative'])\n",
    "\n",
    "features9 = ['age_of_respondent','household_size', 'is_urban', 'cellphone',\n",
    "       'is_male', 'country_Rwanda', 'country_Tanzania', 'country_Uganda',\n",
    "       'relationship_with_head_Head of Household',\n",
    "       'relationship_with_head_Spouse',\n",
    "       'marital_status_Married/Living together',\n",
    "       'marital_status_Single/Never Married', 'marital_status_Widowed',\n",
    "       'education_level_Primary education',\n",
    "       'education_level_Secondary education',\n",
    "       'education_level_Tertiary education',\n",
    "       'education_level_Vocational/Specialised training',\n",
    "       'job_type_Formally employed Government',\n",
    "       'job_type_Formally employed Private', 'job_type_Government Dependent',\n",
    "       'job_type_Informally employed', 'job_type_No Income',\n",
    "       'job_type_Remittance Dependent','job_type_Other Income','job_type_Self employed']"
   ]
  },
  {
   "cell_type": "code",
   "execution_count": 46,
   "metadata": {},
   "outputs": [
    {
     "name": "stdout",
     "output_type": "stream",
     "text": [
      "Accuracy of logistic regression classifier on val set: 0.886\n"
     ]
    }
   ],
   "source": [
    "lm_9 = LogisticRegression(C=1e13,penalty='l1',solver='liblinear')\n",
    "lm_9.fit(x_train_9[features9], x_train_9['no_acc'])\n",
    "\n",
    "preds9 = lm_9.predict(df_val_9[features9])\n",
    "print('Accuracy of logistic regression classifier on val set: {:.3f}'.format(\n",
    "    lm_9.score(df_val_9[features9], df_val_9['no_acc'])))"
   ]
  },
  {
   "cell_type": "code",
   "execution_count": 47,
   "metadata": {},
   "outputs": [
    {
     "name": "stdout",
     "output_type": "stream",
     "text": [
      "Feature coefficient results: \n",
      "\n",
      "age_of_respondent : -0.013\n",
      "household_size : -0.001\n",
      "is_urban : -0.273\n",
      "cellphone : -1.628\n",
      "is_male : -0.456\n",
      "country_Rwanda : 0.338\n",
      "country_Tanzania : 1.265\n",
      "country_Uganda : 1.209\n",
      "relationship_with_head_Head of Household : -0.759\n",
      "relationship_with_head_Spouse : -0.534\n",
      "marital_status_Married/Living together : -0.034\n",
      "marital_status_Single/Never Married : 0.134\n",
      "marital_status_Widowed : -0.060\n",
      "education_level_Primary education : -0.760\n",
      "education_level_Secondary education : -1.760\n",
      "education_level_Tertiary education : -3.231\n",
      "education_level_Vocational/Specialised training : -2.771\n",
      "job_type_Formally employed Government : -1.614\n",
      "job_type_Formally employed Private : -1.730\n",
      "job_type_Government Dependent : -1.212\n",
      "job_type_Informally employed : 0.361\n",
      "job_type_No Income : 0.189\n",
      "job_type_Remittance Dependent : 0.205\n",
      "job_type_Other Income : -0.672\n",
      "job_type_Self employed : -0.461\n"
     ]
    }
   ],
   "source": [
    "print('Feature coefficient results: \\n')\n",
    "for feature, coef in zip(x_train_9[features9].columns, lm_9.coef_.reshape(1, -1)[0]):\n",
    "        print(feature, ':', f'{coef:.3f}')"
   ]
  },
  {
   "cell_type": "code",
   "execution_count": 48,
   "metadata": {
    "scrolled": true
   },
   "outputs": [
    {
     "data": {
      "text/plain": [
       "array([[ 169,  323],\n",
       "       [  78, 2959]])"
      ]
     },
     "execution_count": 48,
     "metadata": {},
     "output_type": "execute_result"
    }
   ],
   "source": [
    "confusion_matrix(df_val_9['no_acc'], \n",
    "                 preds9)"
   ]
  },
  {
   "cell_type": "markdown",
   "metadata": {},
   "source": [
    "No change in recall for non-account but minor improvement in recall for account"
   ]
  },
  {
   "cell_type": "code",
   "execution_count": 49,
   "metadata": {
    "scrolled": true
   },
   "outputs": [
    {
     "name": "stdout",
     "output_type": "stream",
     "text": [
      "              precision    recall  f1-score   support\n",
      "\n",
      "           0       0.68      0.34      0.46       492\n",
      "           1       0.90      0.97      0.94      3037\n",
      "\n",
      "    accuracy                           0.89      3529\n",
      "   macro avg       0.79      0.66      0.70      3529\n",
      "weighted avg       0.87      0.89      0.87      3529\n",
      "\n"
     ]
    }
   ],
   "source": [
    "print(classification_report(df_val_9['no_acc'], preds9))"
   ]
  },
  {
   "cell_type": "markdown",
   "metadata": {},
   "source": [
    "## Removing married / living together"
   ]
  },
  {
   "cell_type": "code",
   "execution_count": 50,
   "metadata": {},
   "outputs": [],
   "source": [
    "x_train_10 = x_train_9.drop(columns='marital_status_Married/Living together')\n",
    "\n",
    "df_val_10 = df_val_9.drop(columns='marital_status_Married/Living together')\n",
    "\n",
    "features10 = ['age_of_respondent','household_size', 'is_urban', 'cellphone',\n",
    "       'is_male', 'country_Rwanda', 'country_Tanzania', 'country_Uganda',\n",
    "       'relationship_with_head_Head of Household',\n",
    "       'relationship_with_head_Spouse',\n",
    "       'marital_status_Single/Never Married', 'marital_status_Widowed',\n",
    "       'education_level_Primary education',\n",
    "       'education_level_Secondary education',\n",
    "       'education_level_Tertiary education',\n",
    "       'education_level_Vocational/Specialised training',\n",
    "       'job_type_Formally employed Government',\n",
    "       'job_type_Formally employed Private', 'job_type_Government Dependent',\n",
    "       'job_type_Informally employed', 'job_type_No Income',\n",
    "       'job_type_Remittance Dependent','job_type_Other Income','job_type_Self employed']"
   ]
  },
  {
   "cell_type": "code",
   "execution_count": 51,
   "metadata": {},
   "outputs": [
    {
     "name": "stdout",
     "output_type": "stream",
     "text": [
      "Accuracy of logistic regression classifier on val set: 0.887\n"
     ]
    }
   ],
   "source": [
    "lm_10 = LogisticRegression(C=1e13,penalty='l1',solver='liblinear')\n",
    "lm_10.fit(x_train_10[features10], x_train_10['no_acc'])\n",
    "\n",
    "preds10 = lm_10.predict(df_val_10[features10])\n",
    "print('Accuracy of logistic regression classifier on val set: {:.3f}'.format(lm_10.score(\n",
    "    df_val_10[features10], df_val_10['no_acc'])))"
   ]
  },
  {
   "cell_type": "code",
   "execution_count": 52,
   "metadata": {},
   "outputs": [
    {
     "name": "stdout",
     "output_type": "stream",
     "text": [
      "Feature coefficient results: \n",
      "\n",
      "age_of_respondent : -0.013\n",
      "household_size : -0.003\n",
      "is_urban : -0.274\n",
      "cellphone : -1.643\n",
      "is_male : -0.461\n",
      "country_Rwanda : 0.336\n",
      "country_Tanzania : 1.272\n",
      "country_Uganda : 1.208\n",
      "relationship_with_head_Head of Household : -0.772\n",
      "relationship_with_head_Spouse : -0.555\n",
      "marital_status_Single/Never Married : 0.152\n",
      "marital_status_Widowed : -0.038\n",
      "education_level_Primary education : -0.769\n",
      "education_level_Secondary education : -1.771\n",
      "education_level_Tertiary education : -3.240\n",
      "education_level_Vocational/Specialised training : -2.782\n",
      "job_type_Formally employed Government : -1.616\n",
      "job_type_Formally employed Private : -1.733\n",
      "job_type_Government Dependent : -1.214\n",
      "job_type_Informally employed : 0.358\n",
      "job_type_No Income : 0.186\n",
      "job_type_Remittance Dependent : 0.199\n",
      "job_type_Other Income : -0.674\n",
      "job_type_Self employed : -0.464\n"
     ]
    }
   ],
   "source": [
    "print('Feature coefficient results: \\n')\n",
    "for feature, coef in zip(x_train_10[features10].columns, lm_10.coef_.reshape(1, -1)[0]):\n",
    "        print(feature, ':', f'{coef:.3f}')"
   ]
  },
  {
   "cell_type": "code",
   "execution_count": 53,
   "metadata": {
    "scrolled": true
   },
   "outputs": [
    {
     "data": {
      "text/plain": [
       "array([[ 170,  322],\n",
       "       [  78, 2959]])"
      ]
     },
     "execution_count": 53,
     "metadata": {},
     "output_type": "execute_result"
    }
   ],
   "source": [
    "confusion_matrix(df_val_10['no_acc'], \n",
    "                 preds10)"
   ]
  },
  {
   "cell_type": "code",
   "execution_count": 54,
   "metadata": {
    "scrolled": false
   },
   "outputs": [
    {
     "name": "stdout",
     "output_type": "stream",
     "text": [
      "              precision    recall  f1-score   support\n",
      "\n",
      "           0       0.69      0.35      0.46       492\n",
      "           1       0.90      0.97      0.94      3037\n",
      "\n",
      "    accuracy                           0.89      3529\n",
      "   macro avg       0.79      0.66      0.70      3529\n",
      "weighted avg       0.87      0.89      0.87      3529\n",
      "\n"
     ]
    }
   ],
   "source": [
    "print(classification_report(df_val_10['no_acc'], preds10))"
   ]
  },
  {
   "cell_type": "code",
   "execution_count": 55,
   "metadata": {},
   "outputs": [],
   "source": [
    "from sklearn.metrics import precision_recall_curve\n",
    "from sklearn.metrics import f1_score\n",
    "from sklearn.metrics import auc\n",
    "from matplotlib import pyplot"
   ]
  },
  {
   "cell_type": "code",
   "execution_count": 56,
   "metadata": {},
   "outputs": [],
   "source": [
    "df_val_10['proba_bank'] = lm_10.predict_proba(df_val_10[features10])[:, 1]\n",
    "\n",
    "fpr10, tpr10, thresholds10 = roc_curve(df_val_10['no_acc'],\n",
    "                                 df_val_10['proba_bank'])"
   ]
  },
  {
   "cell_type": "code",
   "execution_count": 57,
   "metadata": {},
   "outputs": [
    {
     "data": {
      "image/png": "[encoded data removed]",
      "text/plain": [
       "<Figure size 432x288 with 1 Axes>"
      ]
     },
     "metadata": {
      "needs_background": "light"
     },
     "output_type": "display_data"
    }
   ],
   "source": [
    "plot_roc(df_val_10['no_acc'], df_val_10['proba_bank'],fpr10,tpr10)"
   ]
  },
  {
   "cell_type": "code",
   "execution_count": 58,
   "metadata": {},
   "outputs": [
    {
     "name": "stdout",
     "output_type": "stream",
     "text": [
      "F1 score for model 10:\n"
     ]
    },
    {
     "data": {
      "text/plain": [
       "0.9366888255777145"
      ]
     },
     "execution_count": 58,
     "metadata": {},
     "output_type": "execute_result"
    }
   ],
   "source": [
    "# calculate F1 score\n",
    "f1_10 = f1_score(df_val_10['no_acc'], preds10)\n",
    "print('F1 score for model 10:')\n",
    "f1_10"
   ]
  },
  {
   "cell_type": "markdown",
   "metadata": {},
   "source": [
    "## Removing household size"
   ]
  },
  {
   "cell_type": "code",
   "execution_count": 59,
   "metadata": {},
   "outputs": [],
   "source": [
    "x_train_13 = x_train_10.drop(columns=['household_size','mean_hh'])\n",
    "\n",
    "df_val_13 = df_val_10.drop(columns=['household_size','mean_hh'])\n",
    "\n",
    "features13 = ['age_of_respondent','is_urban', 'cellphone',\n",
    "       'is_male', 'country_Rwanda', 'country_Tanzania', 'country_Uganda',\n",
    "       'relationship_with_head_Head of Household',\n",
    "       'relationship_with_head_Spouse', \n",
    "       'marital_status_Single/Never Married', 'marital_status_Widowed',\n",
    "       'education_level_Primary education',\n",
    "       'education_level_Secondary education',\n",
    "       'education_level_Tertiary education',\n",
    "       'education_level_Vocational/Specialised training',\n",
    "       'job_type_Formally employed Government',\n",
    "       'job_type_Formally employed Private', 'job_type_Government Dependent',\n",
    "       'job_type_Informally employed', 'job_type_No Income',\n",
    "       'job_type_Remittance Dependent','job_type_Other Income','job_type_Self employed']"
   ]
  },
  {
   "cell_type": "code",
   "execution_count": 60,
   "metadata": {},
   "outputs": [
    {
     "name": "stdout",
     "output_type": "stream",
     "text": [
      "Accuracy of logistic regression classifier on val set: 0.886\n"
     ]
    }
   ],
   "source": [
    "lm_13 = LogisticRegression(C=1e13,penalty='l1',solver='liblinear')\n",
    "lm_13.fit(x_train_13[features13], x_train_13['no_acc'])\n",
    "\n",
    "preds13 = lm_13.predict(df_val_13[features13])\n",
    "print('Accuracy of logistic regression classifier on val set: {:.3f}'.format(lm_13.score(\n",
    "    df_val_13[features13], df_val_13['no_acc'])))"
   ]
  },
  {
   "cell_type": "code",
   "execution_count": 61,
   "metadata": {},
   "outputs": [
    {
     "name": "stdout",
     "output_type": "stream",
     "text": [
      "Feature coefficient results: \n",
      "\n",
      "age_of_respondent : -0.013\n",
      "is_urban : -0.273\n",
      "cellphone : -1.636\n",
      "is_male : -0.463\n",
      "country_Rwanda : 0.336\n",
      "country_Tanzania : 1.275\n",
      "country_Uganda : 1.207\n",
      "relationship_with_head_Head of Household : -0.766\n",
      "relationship_with_head_Spouse : -0.551\n",
      "marital_status_Single/Never Married : 0.156\n",
      "marital_status_Widowed : -0.035\n",
      "education_level_Primary education : -0.764\n",
      "education_level_Secondary education : -1.765\n",
      "education_level_Tertiary education : -3.234\n",
      "education_level_Vocational/Specialised training : -2.776\n",
      "job_type_Formally employed Government : -1.614\n",
      "job_type_Formally employed Private : -1.730\n",
      "job_type_Government Dependent : -1.212\n",
      "job_type_Informally employed : 0.360\n",
      "job_type_No Income : 0.189\n",
      "job_type_Other Income : 0.202\n",
      "job_type_Remittance Dependent : -0.672\n",
      "job_type_Self employed : -0.462\n"
     ]
    }
   ],
   "source": [
    "print('Feature coefficient results: \\n')\n",
    "for feature, coef in zip(x_train_13.columns, lm_13.coef_.reshape(1, -1)[0]):\n",
    "        print(feature, ':', f'{coef:.3f}')"
   ]
  },
  {
   "cell_type": "code",
   "execution_count": 62,
   "metadata": {},
   "outputs": [
    {
     "data": {
      "image/png": "[encoded data removed]",
      "text/plain": [
       "<Figure size 1080x288 with 1 Axes>"
      ]
     },
     "metadata": {
      "needs_background": "light"
     },
     "output_type": "display_data"
    }
   ],
   "source": [
    "plt.figure(figsize=[15,4])\n",
    "\n",
    "ticks_x = ['Vocational \\n training','Secondary \\n education', \n",
    "           'Formally \\n employed \\n Private','Cellphone','Formally \\n employed \\n Government','Government \\n dependent', \n",
    "           'Primary \\n education','Male']\n",
    "\n",
    "y = [-2.77, -1.76,-1.73, -1.63,-1.61, -1.21, -0.76,-0.461]\n",
    "\n",
    "spacing = np.linspace(0,7,8)\n",
    "plt.bar(ticks_x,y)\n",
    "plt.xticks(spacing, ticks_x)\n",
    "plt.title('Highest coefficients')\n",
    "plt.gca().spines['top'].set_visible(False)\n",
    "plt.gca().spines['right'].set_visible(False)\n",
    "plt.tight_layout()\n",
    "plt.show;\n",
    "#plt.savefig(\"strongestcoefficients.svg\")"
   ]
  },
  {
   "cell_type": "code",
   "execution_count": 136,
   "metadata": {},
   "outputs": [
    {
     "data": {
      "image/png": "[encoded data removed]",
      "text/plain": [
       "<Figure size 576x288 with 1 Axes>"
      ]
     },
     "metadata": {
      "needs_background": "light"
     },
     "output_type": "display_data"
    }
   ],
   "source": [
    "plt.figure(figsize=[8,4])\n",
    "\n",
    "ticks_x = ['Secondary \\n education','Cellphone','Government \\n dependent', 'Primary \\n education','Male']\n",
    "\n",
    "y = [-1.77, -1.64, -1.21, -0.76,-0.46]\n",
    "\n",
    "spacing = np.linspace(0,4,5)\n",
    "plt.bar(ticks_x,y)\n",
    "plt.xticks(spacing, ticks_x,family='arial',fontsize=16)\n",
    "plt.title('Decrease odds of being unbanked')\n",
    "plt.gca().spines['top'].set_visible(False)\n",
    "plt.gca().spines['right'].set_visible(False)\n",
    "plt.tight_layout()\n",
    "plt.show;\n",
    "plt.savefig(\"decrease.svg\")"
   ]
  },
  {
   "cell_type": "code",
   "execution_count": 143,
   "metadata": {},
   "outputs": [
    {
     "data": {
      "image/png": "[encoded data removed]",
      "text/plain": [
       "<Figure size 1080x432 with 1 Axes>"
      ]
     },
     "metadata": {
      "needs_background": "light"
     },
     "output_type": "display_data"
    }
   ],
   "source": [
    "plt.figure(figsize=[15,6])\n",
    "\n",
    "ticks_x = ['Informally \\n employed','Other \\n income','Single','Cellphone',\n",
    "           'Government \\n dependent', 'Primary \\n education','Male']\n",
    "\n",
    "y = [0.36, 0.20, 0.16, -1.64, -1.21, -0.76,-0.46]\n",
    "\n",
    "spacing = np.linspace(0,6,7)\n",
    "plt.bar(ticks_x,y)\n",
    "plt.xticks(spacing, ticks_x,family='arial',fontsize=16)\n",
    "plt.title('Increase odds of being unbanked')\n",
    "plt.gca().spines['top'].set_visible(False)\n",
    "plt.gca().spines['right'].set_visible(False)\n",
    "plt.tight_layout()\n",
    "plt.show;\n",
    "plt.savefig(\"combinedodds.svg\")"
   ]
  },
  {
   "cell_type": "code",
   "execution_count": 127,
   "metadata": {},
   "outputs": [
    {
     "data": {
      "text/plain": [
       "array([[ 169,  323],\n",
       "       [  78, 2959]])"
      ]
     },
     "execution_count": 127,
     "metadata": {},
     "output_type": "execute_result"
    }
   ],
   "source": [
    "confusion_matrix(df_val_13['no_acc'], \n",
    "                 preds13)"
   ]
  },
  {
   "cell_type": "code",
   "execution_count": 128,
   "metadata": {},
   "outputs": [
    {
     "data": {
      "text/plain": [
       "array([5.60881234])"
      ]
     },
     "execution_count": 128,
     "metadata": {},
     "output_type": "execute_result"
    }
   ],
   "source": [
    "lm_13.intercept_"
   ]
  },
  {
   "cell_type": "code",
   "execution_count": 129,
   "metadata": {},
   "outputs": [
    {
     "name": "stdout",
     "output_type": "stream",
     "text": [
      "              precision    recall  f1-score   support\n",
      "\n",
      "           0       0.68      0.34      0.46       492\n",
      "           1       0.90      0.97      0.94      3037\n",
      "\n",
      "    accuracy                           0.89      3529\n",
      "   macro avg       0.79      0.66      0.70      3529\n",
      "weighted avg       0.87      0.89      0.87      3529\n",
      "\n"
     ]
    }
   ],
   "source": [
    "print(classification_report(df_val_13['no_acc'], preds13))"
   ]
  },
  {
   "cell_type": "code",
   "execution_count": 66,
   "metadata": {},
   "outputs": [],
   "source": [
    "df_val_13['proba_bank'] = lm_13.predict_proba(df_val_13[features13])[:, 1]\n",
    "\n",
    "fpr13, tpr13, thresholds13 = roc_curve(df_val_13['no_acc'],\n",
    "                                 df_val_13['proba_bank'])"
   ]
  },
  {
   "cell_type": "code",
   "execution_count": 67,
   "metadata": {},
   "outputs": [],
   "source": [
    "df_val_13['preds'] = lm_13.predict(df_val_13[features13])\n",
    "df_check = df_val_13[(df_val_13['no_acc'] != df_val_13['preds']) & (df_val_13['proba_bank'] >= 0.65)]"
   ]
  },
  {
   "cell_type": "code",
   "execution_count": 68,
   "metadata": {},
   "outputs": [
    {
     "data": {
      "image/png": "[encoded data removed]",
      "text/plain": [
       "<Figure size 432x288 with 1 Axes>"
      ]
     },
     "metadata": {
      "needs_background": "light"
     },
     "output_type": "display_data"
    }
   ],
   "source": [
    "plot_roc(df_val_13['no_acc'], df_val_13['proba_bank'],fpr13,tpr13)\n",
    "#plt.savefig(\"roc13.svg\")"
   ]
  },
  {
   "cell_type": "code",
   "execution_count": 69,
   "metadata": {},
   "outputs": [
    {
     "name": "stdout",
     "output_type": "stream",
     "text": [
      "F1 score for non bank account holiders in model 13:\n"
     ]
    },
    {
     "data": {
      "text/plain": [
       "0.9365405918658015"
      ]
     },
     "execution_count": 69,
     "metadata": {},
     "output_type": "execute_result"
    }
   ],
   "source": [
    "# calculate F1 score\n",
    "f1_13 = f1_score(df_val_13['no_acc'], preds13)\n",
    "print('F1 score for non bank account holiders in model 13:')\n",
    "f1_13"
   ]
  },
  {
   "cell_type": "code",
   "execution_count": 70,
   "metadata": {},
   "outputs": [],
   "source": [
    "precision13, recall13, thresholds_13 = precision_recall_curve(df_val_13['no_acc'], df_val_13['proba_bank'])"
   ]
  },
  {
   "cell_type": "code",
   "execution_count": 71,
   "metadata": {
    "scrolled": true
   },
   "outputs": [
    {
     "data": {
      "image/png": "[encoded data removed]",
      "text/plain": [
       "<Figure size 432x288 with 1 Axes>"
      ]
     },
     "metadata": {
      "needs_background": "light"
     },
     "output_type": "display_data"
    }
   ],
   "source": [
    "plt.plot(precision13, recall13, label='Precision-recall curve')\n",
    "_ = plt.xlabel('Precision')\n",
    "_ = plt.ylabel('Recall')\n",
    "_ = plt.title('Precision-recall curve')\n",
    "_ = plt.legend(loc=\"lower left\")"
   ]
  },
  {
   "cell_type": "code",
   "execution_count": 72,
   "metadata": {},
   "outputs": [
    {
     "data": {
      "text/plain": [
       "0.9676787324403971"
      ]
     },
     "execution_count": 72,
     "metadata": {},
     "output_type": "execute_result"
    }
   ],
   "source": [
    "auc13 = auc(recall13,precision13)\n",
    "auc13"
   ]
  },
  {
   "cell_type": "markdown",
   "metadata": {},
   "source": [
    "NOTE THIS DOES NOT LOOK CONSISTENT WITH THE FIGURE ABOVE "
   ]
  },
  {
   "cell_type": "code",
   "execution_count": 73,
   "metadata": {
    "scrolled": false
   },
   "outputs": [
    {
     "name": "stdout",
     "output_type": "stream",
     "text": [
      "Rwanda wrong:0.372 \n",
      "Tanzania wrong: 0.242 \n",
      "Uganda wrong:0.048 \n",
      "Kenya wrong:0.338\n"
     ]
    }
   ],
   "source": [
    "rw_wrong = len(df_check[df_check['country_Rwanda']==1]) / len(df_check)\n",
    "tz_wrong = len(df_check[df_check['country_Tanzania']==1]) / len(df_check)\n",
    "ug_wrong = len(df_check[df_check['country_Uganda']==1]) / len(df_check)\n",
    "ke_wrong = 1 - rw_wrong - tz_wrong - ug_wrong\n",
    "print(\"Rwanda wrong:{:0.3f} \\nTanzania wrong: {:0.3f} \\nUganda wrong:{:0.3f} \\nKenya wrong:{:0.3f}\".format(rw_wrong,tz_wrong,ug_wrong,ke_wrong))"
   ]
  },
  {
   "cell_type": "markdown",
   "metadata": {},
   "source": [
    "The majority of the highly confident, incorrect predictions are in Rwanda (37%) and Kenya (33%)"
   ]
  },
  {
   "cell_type": "markdown",
   "metadata": {},
   "source": [
    "## Adjusting threshold"
   ]
  },
  {
   "cell_type": "code",
   "execution_count": 74,
   "metadata": {},
   "outputs": [],
   "source": [
    "threshold = .52\n",
    "y_pred13 = np.where((lm_13.predict_proba(df_val_13[features13])[:, 1] > threshold),1,0)"
   ]
  },
  {
   "cell_type": "code",
   "execution_count": 75,
   "metadata": {},
   "outputs": [
    {
     "data": {
      "text/plain": [
       "array([[ 176,  316],\n",
       "       [  86, 2951]])"
      ]
     },
     "execution_count": 75,
     "metadata": {},
     "output_type": "execute_result"
    }
   ],
   "source": [
    "confusion_matrix(df_val_13['no_acc'], \n",
    "                 y_pred13)"
   ]
  },
  {
   "cell_type": "code",
   "execution_count": 76,
   "metadata": {},
   "outputs": [],
   "source": [
    "df_val_13['preds'] = np.where((lm_13.predict_proba(df_val_13[features13])[:, 1] > threshold),1,0)\n",
    "df_comp13 = df_val_13[(df_val_13['no_acc'] != df_val_13['preds'])]"
   ]
  },
  {
   "cell_type": "markdown",
   "metadata": {},
   "source": [
    "## Oversampling with model 13 features"
   ]
  },
  {
   "cell_type": "code",
   "execution_count": 186,
   "metadata": {},
   "outputs": [],
   "source": [
    "from imblearn.over_sampling import RandomOverSampler\n",
    "ros = RandomOverSampler(random_state=0)\n",
    "X_resampled, y_resampled = ros.fit_sample(x_train_13[features13], x_train_13['no_acc'])"
   ]
  },
  {
   "cell_type": "code",
   "execution_count": 187,
   "metadata": {},
   "outputs": [
    {
     "data": {
      "text/plain": [
       "Counter({1: 12128, 0: 12128})"
      ]
     },
     "execution_count": 187,
     "metadata": {},
     "output_type": "execute_result"
    }
   ],
   "source": [
    "from collections import Counter\n",
    "Counter(y_resampled)"
   ]
  },
  {
   "cell_type": "code",
   "execution_count": 188,
   "metadata": {},
   "outputs": [
    {
     "name": "stdout",
     "output_type": "stream",
     "text": [
      "Accuracy of logistic regression classifier on val set: 0.791\n"
     ]
    }
   ],
   "source": [
    "lm_15 = LogisticRegression(C=1,penalty='l1',solver='liblinear')\n",
    "lm_15.fit(X_resampled[features13], y_resampled)\n",
    "\n",
    "preds15 = lm_15.predict(df_val_13[features13])\n",
    "print('Accuracy of logistic regression classifier on val set: {:.3f}'.format(lm_15.score(\n",
    "    df_val_13[features13], df_val_13['no_acc'])))"
   ]
  },
  {
   "cell_type": "code",
   "execution_count": 189,
   "metadata": {},
   "outputs": [
    {
     "name": "stdout",
     "output_type": "stream",
     "text": [
      "Feature coefficient results: \n",
      "\n",
      "age_of_respondent : -0.013\n",
      "is_urban : -0.226\n",
      "cellphone : -1.697\n",
      "is_male : -0.495\n",
      "country_Rwanda : 0.423\n",
      "country_Tanzania : 1.405\n",
      "country_Uganda : 1.406\n",
      "relationship_with_head_Head of Household : -0.661\n",
      "relationship_with_head_Spouse : -0.434\n",
      "marital_status_Single/Never Married : 0.184\n",
      "marital_status_Widowed : -0.106\n",
      "education_level_Primary education : -0.801\n",
      "education_level_Secondary education : -1.794\n",
      "education_level_Tertiary education : -3.255\n",
      "education_level_Vocational/Specialised training : -2.885\n",
      "job_type_Formally employed Government : -1.727\n",
      "job_type_Formally employed Private : -1.778\n",
      "job_type_Government Dependent : -1.439\n",
      "job_type_Informally employed : 0.334\n",
      "job_type_No Income : 0.138\n",
      "job_type_Remittance Dependent : 0.185\n",
      "job_type_Other Income : -0.682\n",
      "job_type_Self employed : -0.547\n"
     ]
    }
   ],
   "source": [
    "print('Feature coefficient results: \\n')\n",
    "for feature, coef in zip(X_resampled.columns, lm_15.coef_.reshape(1, -1)[0]):\n",
    "        print(feature, ':', f'{coef:.3f}')"
   ]
  },
  {
   "cell_type": "code",
   "execution_count": 191,
   "metadata": {},
   "outputs": [
    {
     "data": {
      "text/plain": [
       "array([[ 354,  138],\n",
       "       [ 601, 2436]])"
      ]
     },
     "execution_count": 191,
     "metadata": {},
     "output_type": "execute_result"
    }
   ],
   "source": [
    "confusion_matrix(df_val_13['no_acc'], \n",
    "                 preds15)"
   ]
  },
  {
   "cell_type": "code",
   "execution_count": 192,
   "metadata": {
    "scrolled": true
   },
   "outputs": [
    {
     "name": "stdout",
     "output_type": "stream",
     "text": [
      "              precision    recall  f1-score   support\n",
      "\n",
      "           0       0.37      0.72      0.49       492\n",
      "           1       0.95      0.80      0.87      3037\n",
      "\n",
      "    accuracy                           0.79      3529\n",
      "   macro avg       0.66      0.76      0.68      3529\n",
      "weighted avg       0.87      0.79      0.82      3529\n",
      "\n"
     ]
    }
   ],
   "source": [
    "print(classification_report(df_val_13['no_acc'], preds15))"
   ]
  },
  {
   "cell_type": "markdown",
   "metadata": {},
   "source": [
    "## Gridsearch"
   ]
  },
  {
   "cell_type": "code",
   "execution_count": 86,
   "metadata": {},
   "outputs": [
    {
     "name": "stderr",
     "output_type": "stream",
     "text": [
      "/Users/tawneykirkland/opt/anaconda3/lib/python3.8/site-packages/sklearn/model_selection/_validation.py:548: FitFailedWarning: Estimator fit failed. The score on this train-test partition for these parameters will be set to nan. Details: \n",
      "Traceback (most recent call last):\n",
      "  File \"/Users/tawneykirkland/opt/anaconda3/lib/python3.8/site-packages/sklearn/model_selection/_validation.py\", line 531, in _fit_and_score\n",
      "    estimator.fit(X_train, y_train, **fit_params)\n",
      "  File \"/Users/tawneykirkland/opt/anaconda3/lib/python3.8/site-packages/sklearn/linear_model/_logistic.py\", line 1304, in fit\n",
      "    solver = _check_solver(self.solver, self.penalty, self.dual)\n",
      "  File \"/Users/tawneykirkland/opt/anaconda3/lib/python3.8/site-packages/sklearn/linear_model/_logistic.py\", line 442, in _check_solver\n",
      "    raise ValueError(\"Solver %s supports only 'l2' or 'none' penalties, \"\n",
      "ValueError: Solver lbfgs supports only 'l2' or 'none' penalties, got l1 penalty.\n",
      "\n",
      "  warnings.warn(\"Estimator fit failed. The score on this train-test\"\n",
      "/Users/tawneykirkland/opt/anaconda3/lib/python3.8/site-packages/sklearn/model_selection/_validation.py:548: FitFailedWarning: Estimator fit failed. The score on this train-test partition for these parameters will be set to nan. Details: \n",
      "Traceback (most recent call last):\n",
      "  File \"/Users/tawneykirkland/opt/anaconda3/lib/python3.8/site-packages/sklearn/model_selection/_validation.py\", line 531, in _fit_and_score\n",
      "    estimator.fit(X_train, y_train, **fit_params)\n",
      "  File \"/Users/tawneykirkland/opt/anaconda3/lib/python3.8/site-packages/sklearn/linear_model/_logistic.py\", line 1304, in fit\n",
      "    solver = _check_solver(self.solver, self.penalty, self.dual)\n",
      "  File \"/Users/tawneykirkland/opt/anaconda3/lib/python3.8/site-packages/sklearn/linear_model/_logistic.py\", line 442, in _check_solver\n",
      "    raise ValueError(\"Solver %s supports only 'l2' or 'none' penalties, \"\n",
      "ValueError: Solver lbfgs supports only 'l2' or 'none' penalties, got l1 penalty.\n",
      "\n",
      "  warnings.warn(\"Estimator fit failed. The score on this train-test\"\n",
      "/Users/tawneykirkland/opt/anaconda3/lib/python3.8/site-packages/sklearn/linear_model/_logistic.py:762: ConvergenceWarning: lbfgs failed to converge (status=1):\n",
      "STOP: TOTAL NO. of ITERATIONS REACHED LIMIT.\n",
      "\n",
      "Increase the number of iterations (max_iter) or scale the data as shown in:\n",
      "    https://scikit-learn.org/stable/modules/preprocessing.html\n",
      "Please also refer to the documentation for alternative solver options:\n",
      "    https://scikit-learn.org/stable/modules/linear_model.html#logistic-regression\n",
      "  n_iter_i = _check_optimize_result(\n",
      "/Users/tawneykirkland/opt/anaconda3/lib/python3.8/site-packages/sklearn/linear_model/_logistic.py:762: ConvergenceWarning: lbfgs failed to converge (status=1):\n",
      "STOP: TOTAL NO. of ITERATIONS REACHED LIMIT.\n",
      "\n",
      "Increase the number of iterations (max_iter) or scale the data as shown in:\n",
      "    https://scikit-learn.org/stable/modules/preprocessing.html\n",
      "Please also refer to the documentation for alternative solver options:\n",
      "    https://scikit-learn.org/stable/modules/linear_model.html#logistic-regression\n",
      "  n_iter_i = _check_optimize_result(\n",
      "/Users/tawneykirkland/opt/anaconda3/lib/python3.8/site-packages/sklearn/linear_model/_logistic.py:762: ConvergenceWarning: lbfgs failed to converge (status=1):\n",
      "STOP: TOTAL NO. of ITERATIONS REACHED LIMIT.\n",
      "\n",
      "Increase the number of iterations (max_iter) or scale the data as shown in:\n",
      "    https://scikit-learn.org/stable/modules/preprocessing.html\n",
      "Please also refer to the documentation for alternative solver options:\n",
      "    https://scikit-learn.org/stable/modules/linear_model.html#logistic-regression\n",
      "  n_iter_i = _check_optimize_result(\n",
      "/Users/tawneykirkland/opt/anaconda3/lib/python3.8/site-packages/sklearn/model_selection/_validation.py:548: FitFailedWarning: Estimator fit failed. The score on this train-test partition for these parameters will be set to nan. Details: \n",
      "Traceback (most recent call last):\n",
      "  File \"/Users/tawneykirkland/opt/anaconda3/lib/python3.8/site-packages/sklearn/model_selection/_validation.py\", line 531, in _fit_and_score\n",
      "    estimator.fit(X_train, y_train, **fit_params)\n",
      "  File \"/Users/tawneykirkland/opt/anaconda3/lib/python3.8/site-packages/sklearn/linear_model/_logistic.py\", line 1304, in fit\n",
      "    solver = _check_solver(self.solver, self.penalty, self.dual)\n",
      "  File \"/Users/tawneykirkland/opt/anaconda3/lib/python3.8/site-packages/sklearn/linear_model/_logistic.py\", line 442, in _check_solver\n",
      "    raise ValueError(\"Solver %s supports only 'l2' or 'none' penalties, \"\n",
      "ValueError: Solver lbfgs supports only 'l2' or 'none' penalties, got l1 penalty.\n",
      "\n",
      "  warnings.warn(\"Estimator fit failed. The score on this train-test\"\n",
      "/Users/tawneykirkland/opt/anaconda3/lib/python3.8/site-packages/sklearn/linear_model/_logistic.py:762: ConvergenceWarning: lbfgs failed to converge (status=1):\n",
      "STOP: TOTAL NO. of ITERATIONS REACHED LIMIT.\n",
      "\n",
      "Increase the number of iterations (max_iter) or scale the data as shown in:\n",
      "    https://scikit-learn.org/stable/modules/preprocessing.html\n",
      "Please also refer to the documentation for alternative solver options:\n",
      "    https://scikit-learn.org/stable/modules/linear_model.html#logistic-regression\n",
      "  n_iter_i = _check_optimize_result(\n",
      "/Users/tawneykirkland/opt/anaconda3/lib/python3.8/site-packages/sklearn/linear_model/_logistic.py:762: ConvergenceWarning: lbfgs failed to converge (status=1):\n",
      "STOP: TOTAL NO. of ITERATIONS REACHED LIMIT.\n",
      "\n",
      "Increase the number of iterations (max_iter) or scale the data as shown in:\n",
      "    https://scikit-learn.org/stable/modules/preprocessing.html\n",
      "Please also refer to the documentation for alternative solver options:\n",
      "    https://scikit-learn.org/stable/modules/linear_model.html#logistic-regression\n",
      "  n_iter_i = _check_optimize_result(\n",
      "/Users/tawneykirkland/opt/anaconda3/lib/python3.8/site-packages/sklearn/linear_model/_logistic.py:762: ConvergenceWarning: lbfgs failed to converge (status=1):\n",
      "STOP: TOTAL NO. of ITERATIONS REACHED LIMIT.\n",
      "\n",
      "Increase the number of iterations (max_iter) or scale the data as shown in:\n",
      "    https://scikit-learn.org/stable/modules/preprocessing.html\n",
      "Please also refer to the documentation for alternative solver options:\n",
      "    https://scikit-learn.org/stable/modules/linear_model.html#logistic-regression\n",
      "  n_iter_i = _check_optimize_result(\n",
      "/Users/tawneykirkland/opt/anaconda3/lib/python3.8/site-packages/sklearn/linear_model/_logistic.py:762: ConvergenceWarning: lbfgs failed to converge (status=1):\n",
      "STOP: TOTAL NO. of ITERATIONS REACHED LIMIT.\n",
      "\n",
      "Increase the number of iterations (max_iter) or scale the data as shown in:\n",
      "    https://scikit-learn.org/stable/modules/preprocessing.html\n",
      "Please also refer to the documentation for alternative solver options:\n",
      "    https://scikit-learn.org/stable/modules/linear_model.html#logistic-regression\n",
      "  n_iter_i = _check_optimize_result(\n",
      "/Users/tawneykirkland/opt/anaconda3/lib/python3.8/site-packages/sklearn/model_selection/_validation.py:548: FitFailedWarning: Estimator fit failed. The score on this train-test partition for these parameters will be set to nan. Details: \n",
      "Traceback (most recent call last):\n",
      "  File \"/Users/tawneykirkland/opt/anaconda3/lib/python3.8/site-packages/sklearn/model_selection/_validation.py\", line 531, in _fit_and_score\n",
      "    estimator.fit(X_train, y_train, **fit_params)\n",
      "  File \"/Users/tawneykirkland/opt/anaconda3/lib/python3.8/site-packages/sklearn/linear_model/_logistic.py\", line 1304, in fit\n",
      "    solver = _check_solver(self.solver, self.penalty, self.dual)\n",
      "  File \"/Users/tawneykirkland/opt/anaconda3/lib/python3.8/site-packages/sklearn/linear_model/_logistic.py\", line 442, in _check_solver\n",
      "    raise ValueError(\"Solver %s supports only 'l2' or 'none' penalties, \"\n",
      "ValueError: Solver lbfgs supports only 'l2' or 'none' penalties, got l1 penalty.\n",
      "\n",
      "  warnings.warn(\"Estimator fit failed. The score on this train-test\"\n",
      "/Users/tawneykirkland/opt/anaconda3/lib/python3.8/site-packages/sklearn/linear_model/_logistic.py:762: ConvergenceWarning: lbfgs failed to converge (status=1):\n",
      "STOP: TOTAL NO. of ITERATIONS REACHED LIMIT.\n",
      "\n",
      "Increase the number of iterations (max_iter) or scale the data as shown in:\n",
      "    https://scikit-learn.org/stable/modules/preprocessing.html\n",
      "Please also refer to the documentation for alternative solver options:\n",
      "    https://scikit-learn.org/stable/modules/linear_model.html#logistic-regression\n",
      "  n_iter_i = _check_optimize_result(\n"
     ]
    },
    {
     "name": "stderr",
     "output_type": "stream",
     "text": [
      "/Users/tawneykirkland/opt/anaconda3/lib/python3.8/site-packages/sklearn/linear_model/_logistic.py:762: ConvergenceWarning: lbfgs failed to converge (status=1):\n",
      "STOP: TOTAL NO. of ITERATIONS REACHED LIMIT.\n",
      "\n",
      "Increase the number of iterations (max_iter) or scale the data as shown in:\n",
      "    https://scikit-learn.org/stable/modules/preprocessing.html\n",
      "Please also refer to the documentation for alternative solver options:\n",
      "    https://scikit-learn.org/stable/modules/linear_model.html#logistic-regression\n",
      "  n_iter_i = _check_optimize_result(\n",
      "/Users/tawneykirkland/opt/anaconda3/lib/python3.8/site-packages/sklearn/linear_model/_logistic.py:762: ConvergenceWarning: lbfgs failed to converge (status=1):\n",
      "STOP: TOTAL NO. of ITERATIONS REACHED LIMIT.\n",
      "\n",
      "Increase the number of iterations (max_iter) or scale the data as shown in:\n",
      "    https://scikit-learn.org/stable/modules/preprocessing.html\n",
      "Please also refer to the documentation for alternative solver options:\n",
      "    https://scikit-learn.org/stable/modules/linear_model.html#logistic-regression\n",
      "  n_iter_i = _check_optimize_result(\n",
      "/Users/tawneykirkland/opt/anaconda3/lib/python3.8/site-packages/sklearn/linear_model/_logistic.py:762: ConvergenceWarning: lbfgs failed to converge (status=1):\n",
      "STOP: TOTAL NO. of ITERATIONS REACHED LIMIT.\n",
      "\n",
      "Increase the number of iterations (max_iter) or scale the data as shown in:\n",
      "    https://scikit-learn.org/stable/modules/preprocessing.html\n",
      "Please also refer to the documentation for alternative solver options:\n",
      "    https://scikit-learn.org/stable/modules/linear_model.html#logistic-regression\n",
      "  n_iter_i = _check_optimize_result(\n",
      "/Users/tawneykirkland/opt/anaconda3/lib/python3.8/site-packages/sklearn/linear_model/_logistic.py:762: ConvergenceWarning: lbfgs failed to converge (status=1):\n",
      "STOP: TOTAL NO. of ITERATIONS REACHED LIMIT.\n",
      "\n",
      "Increase the number of iterations (max_iter) or scale the data as shown in:\n",
      "    https://scikit-learn.org/stable/modules/preprocessing.html\n",
      "Please also refer to the documentation for alternative solver options:\n",
      "    https://scikit-learn.org/stable/modules/linear_model.html#logistic-regression\n",
      "  n_iter_i = _check_optimize_result(\n",
      "/Users/tawneykirkland/opt/anaconda3/lib/python3.8/site-packages/sklearn/model_selection/_validation.py:548: FitFailedWarning: Estimator fit failed. The score on this train-test partition for these parameters will be set to nan. Details: \n",
      "Traceback (most recent call last):\n",
      "  File \"/Users/tawneykirkland/opt/anaconda3/lib/python3.8/site-packages/sklearn/model_selection/_validation.py\", line 531, in _fit_and_score\n",
      "    estimator.fit(X_train, y_train, **fit_params)\n",
      "  File \"/Users/tawneykirkland/opt/anaconda3/lib/python3.8/site-packages/sklearn/linear_model/_logistic.py\", line 1304, in fit\n",
      "    solver = _check_solver(self.solver, self.penalty, self.dual)\n",
      "  File \"/Users/tawneykirkland/opt/anaconda3/lib/python3.8/site-packages/sklearn/linear_model/_logistic.py\", line 442, in _check_solver\n",
      "    raise ValueError(\"Solver %s supports only 'l2' or 'none' penalties, \"\n",
      "ValueError: Solver lbfgs supports only 'l2' or 'none' penalties, got l1 penalty.\n",
      "\n",
      "  warnings.warn(\"Estimator fit failed. The score on this train-test\"\n",
      "/Users/tawneykirkland/opt/anaconda3/lib/python3.8/site-packages/sklearn/linear_model/_logistic.py:762: ConvergenceWarning: lbfgs failed to converge (status=1):\n",
      "STOP: TOTAL NO. of ITERATIONS REACHED LIMIT.\n",
      "\n",
      "Increase the number of iterations (max_iter) or scale the data as shown in:\n",
      "    https://scikit-learn.org/stable/modules/preprocessing.html\n",
      "Please also refer to the documentation for alternative solver options:\n",
      "    https://scikit-learn.org/stable/modules/linear_model.html#logistic-regression\n",
      "  n_iter_i = _check_optimize_result(\n",
      "/Users/tawneykirkland/opt/anaconda3/lib/python3.8/site-packages/sklearn/linear_model/_logistic.py:762: ConvergenceWarning: lbfgs failed to converge (status=1):\n",
      "STOP: TOTAL NO. of ITERATIONS REACHED LIMIT.\n",
      "\n",
      "Increase the number of iterations (max_iter) or scale the data as shown in:\n",
      "    https://scikit-learn.org/stable/modules/preprocessing.html\n",
      "Please also refer to the documentation for alternative solver options:\n",
      "    https://scikit-learn.org/stable/modules/linear_model.html#logistic-regression\n",
      "  n_iter_i = _check_optimize_result(\n",
      "/Users/tawneykirkland/opt/anaconda3/lib/python3.8/site-packages/sklearn/linear_model/_logistic.py:762: ConvergenceWarning: lbfgs failed to converge (status=1):\n",
      "STOP: TOTAL NO. of ITERATIONS REACHED LIMIT.\n",
      "\n",
      "Increase the number of iterations (max_iter) or scale the data as shown in:\n",
      "    https://scikit-learn.org/stable/modules/preprocessing.html\n",
      "Please also refer to the documentation for alternative solver options:\n",
      "    https://scikit-learn.org/stable/modules/linear_model.html#logistic-regression\n",
      "  n_iter_i = _check_optimize_result(\n",
      "/Users/tawneykirkland/opt/anaconda3/lib/python3.8/site-packages/sklearn/linear_model/_logistic.py:762: ConvergenceWarning: lbfgs failed to converge (status=1):\n",
      "STOP: TOTAL NO. of ITERATIONS REACHED LIMIT.\n",
      "\n",
      "Increase the number of iterations (max_iter) or scale the data as shown in:\n",
      "    https://scikit-learn.org/stable/modules/preprocessing.html\n",
      "Please also refer to the documentation for alternative solver options:\n",
      "    https://scikit-learn.org/stable/modules/linear_model.html#logistic-regression\n",
      "  n_iter_i = _check_optimize_result(\n",
      "/Users/tawneykirkland/opt/anaconda3/lib/python3.8/site-packages/sklearn/linear_model/_logistic.py:762: ConvergenceWarning: lbfgs failed to converge (status=1):\n",
      "STOP: TOTAL NO. of ITERATIONS REACHED LIMIT.\n",
      "\n",
      "Increase the number of iterations (max_iter) or scale the data as shown in:\n",
      "    https://scikit-learn.org/stable/modules/preprocessing.html\n",
      "Please also refer to the documentation for alternative solver options:\n",
      "    https://scikit-learn.org/stable/modules/linear_model.html#logistic-regression\n",
      "  n_iter_i = _check_optimize_result(\n",
      "/Users/tawneykirkland/opt/anaconda3/lib/python3.8/site-packages/sklearn/model_selection/_validation.py:548: FitFailedWarning: Estimator fit failed. The score on this train-test partition for these parameters will be set to nan. Details: \n",
      "Traceback (most recent call last):\n",
      "  File \"/Users/tawneykirkland/opt/anaconda3/lib/python3.8/site-packages/sklearn/model_selection/_validation.py\", line 531, in _fit_and_score\n",
      "    estimator.fit(X_train, y_train, **fit_params)\n",
      "  File \"/Users/tawneykirkland/opt/anaconda3/lib/python3.8/site-packages/sklearn/linear_model/_logistic.py\", line 1304, in fit\n",
      "    solver = _check_solver(self.solver, self.penalty, self.dual)\n",
      "  File \"/Users/tawneykirkland/opt/anaconda3/lib/python3.8/site-packages/sklearn/linear_model/_logistic.py\", line 442, in _check_solver\n",
      "    raise ValueError(\"Solver %s supports only 'l2' or 'none' penalties, \"\n",
      "ValueError: Solver lbfgs supports only 'l2' or 'none' penalties, got l1 penalty.\n",
      "\n",
      "  warnings.warn(\"Estimator fit failed. The score on this train-test\"\n",
      "/Users/tawneykirkland/opt/anaconda3/lib/python3.8/site-packages/sklearn/linear_model/_logistic.py:762: ConvergenceWarning: lbfgs failed to converge (status=1):\n",
      "STOP: TOTAL NO. of ITERATIONS REACHED LIMIT.\n",
      "\n",
      "Increase the number of iterations (max_iter) or scale the data as shown in:\n",
      "    https://scikit-learn.org/stable/modules/preprocessing.html\n",
      "Please also refer to the documentation for alternative solver options:\n",
      "    https://scikit-learn.org/stable/modules/linear_model.html#logistic-regression\n",
      "  n_iter_i = _check_optimize_result(\n",
      "/Users/tawneykirkland/opt/anaconda3/lib/python3.8/site-packages/sklearn/linear_model/_logistic.py:762: ConvergenceWarning: lbfgs failed to converge (status=1):\n",
      "STOP: TOTAL NO. of ITERATIONS REACHED LIMIT.\n",
      "\n",
      "Increase the number of iterations (max_iter) or scale the data as shown in:\n",
      "    https://scikit-learn.org/stable/modules/preprocessing.html\n",
      "Please also refer to the documentation for alternative solver options:\n",
      "    https://scikit-learn.org/stable/modules/linear_model.html#logistic-regression\n",
      "  n_iter_i = _check_optimize_result(\n",
      "/Users/tawneykirkland/opt/anaconda3/lib/python3.8/site-packages/sklearn/linear_model/_logistic.py:762: ConvergenceWarning: lbfgs failed to converge (status=1):\n",
      "STOP: TOTAL NO. of ITERATIONS REACHED LIMIT.\n",
      "\n",
      "Increase the number of iterations (max_iter) or scale the data as shown in:\n",
      "    https://scikit-learn.org/stable/modules/preprocessing.html\n",
      "Please also refer to the documentation for alternative solver options:\n",
      "    https://scikit-learn.org/stable/modules/linear_model.html#logistic-regression\n",
      "  n_iter_i = _check_optimize_result(\n"
     ]
    },
    {
     "name": "stderr",
     "output_type": "stream",
     "text": [
      "/Users/tawneykirkland/opt/anaconda3/lib/python3.8/site-packages/sklearn/linear_model/_logistic.py:762: ConvergenceWarning: lbfgs failed to converge (status=1):\n",
      "STOP: TOTAL NO. of ITERATIONS REACHED LIMIT.\n",
      "\n",
      "Increase the number of iterations (max_iter) or scale the data as shown in:\n",
      "    https://scikit-learn.org/stable/modules/preprocessing.html\n",
      "Please also refer to the documentation for alternative solver options:\n",
      "    https://scikit-learn.org/stable/modules/linear_model.html#logistic-regression\n",
      "  n_iter_i = _check_optimize_result(\n",
      "/Users/tawneykirkland/opt/anaconda3/lib/python3.8/site-packages/sklearn/linear_model/_logistic.py:762: ConvergenceWarning: lbfgs failed to converge (status=1):\n",
      "STOP: TOTAL NO. of ITERATIONS REACHED LIMIT.\n",
      "\n",
      "Increase the number of iterations (max_iter) or scale the data as shown in:\n",
      "    https://scikit-learn.org/stable/modules/preprocessing.html\n",
      "Please also refer to the documentation for alternative solver options:\n",
      "    https://scikit-learn.org/stable/modules/linear_model.html#logistic-regression\n",
      "  n_iter_i = _check_optimize_result(\n",
      "/Users/tawneykirkland/opt/anaconda3/lib/python3.8/site-packages/sklearn/model_selection/_validation.py:548: FitFailedWarning: Estimator fit failed. The score on this train-test partition for these parameters will be set to nan. Details: \n",
      "Traceback (most recent call last):\n",
      "  File \"/Users/tawneykirkland/opt/anaconda3/lib/python3.8/site-packages/sklearn/model_selection/_validation.py\", line 531, in _fit_and_score\n",
      "    estimator.fit(X_train, y_train, **fit_params)\n",
      "  File \"/Users/tawneykirkland/opt/anaconda3/lib/python3.8/site-packages/sklearn/linear_model/_logistic.py\", line 1304, in fit\n",
      "    solver = _check_solver(self.solver, self.penalty, self.dual)\n",
      "  File \"/Users/tawneykirkland/opt/anaconda3/lib/python3.8/site-packages/sklearn/linear_model/_logistic.py\", line 442, in _check_solver\n",
      "    raise ValueError(\"Solver %s supports only 'l2' or 'none' penalties, \"\n",
      "ValueError: Solver lbfgs supports only 'l2' or 'none' penalties, got l1 penalty.\n",
      "\n",
      "  warnings.warn(\"Estimator fit failed. The score on this train-test\"\n",
      "/Users/tawneykirkland/opt/anaconda3/lib/python3.8/site-packages/sklearn/linear_model/_logistic.py:762: ConvergenceWarning: lbfgs failed to converge (status=1):\n",
      "STOP: TOTAL NO. of ITERATIONS REACHED LIMIT.\n",
      "\n",
      "Increase the number of iterations (max_iter) or scale the data as shown in:\n",
      "    https://scikit-learn.org/stable/modules/preprocessing.html\n",
      "Please also refer to the documentation for alternative solver options:\n",
      "    https://scikit-learn.org/stable/modules/linear_model.html#logistic-regression\n",
      "  n_iter_i = _check_optimize_result(\n",
      "/Users/tawneykirkland/opt/anaconda3/lib/python3.8/site-packages/sklearn/linear_model/_logistic.py:762: ConvergenceWarning: lbfgs failed to converge (status=1):\n",
      "STOP: TOTAL NO. of ITERATIONS REACHED LIMIT.\n",
      "\n",
      "Increase the number of iterations (max_iter) or scale the data as shown in:\n",
      "    https://scikit-learn.org/stable/modules/preprocessing.html\n",
      "Please also refer to the documentation for alternative solver options:\n",
      "    https://scikit-learn.org/stable/modules/linear_model.html#logistic-regression\n",
      "  n_iter_i = _check_optimize_result(\n",
      "/Users/tawneykirkland/opt/anaconda3/lib/python3.8/site-packages/sklearn/linear_model/_logistic.py:762: ConvergenceWarning: lbfgs failed to converge (status=1):\n",
      "STOP: TOTAL NO. of ITERATIONS REACHED LIMIT.\n",
      "\n",
      "Increase the number of iterations (max_iter) or scale the data as shown in:\n",
      "    https://scikit-learn.org/stable/modules/preprocessing.html\n",
      "Please also refer to the documentation for alternative solver options:\n",
      "    https://scikit-learn.org/stable/modules/linear_model.html#logistic-regression\n",
      "  n_iter_i = _check_optimize_result(\n",
      "/Users/tawneykirkland/opt/anaconda3/lib/python3.8/site-packages/sklearn/linear_model/_logistic.py:762: ConvergenceWarning: lbfgs failed to converge (status=1):\n",
      "STOP: TOTAL NO. of ITERATIONS REACHED LIMIT.\n",
      "\n",
      "Increase the number of iterations (max_iter) or scale the data as shown in:\n",
      "    https://scikit-learn.org/stable/modules/preprocessing.html\n",
      "Please also refer to the documentation for alternative solver options:\n",
      "    https://scikit-learn.org/stable/modules/linear_model.html#logistic-regression\n",
      "  n_iter_i = _check_optimize_result(\n",
      "/Users/tawneykirkland/opt/anaconda3/lib/python3.8/site-packages/sklearn/linear_model/_logistic.py:762: ConvergenceWarning: lbfgs failed to converge (status=1):\n",
      "STOP: TOTAL NO. of ITERATIONS REACHED LIMIT.\n",
      "\n",
      "Increase the number of iterations (max_iter) or scale the data as shown in:\n",
      "    https://scikit-learn.org/stable/modules/preprocessing.html\n",
      "Please also refer to the documentation for alternative solver options:\n",
      "    https://scikit-learn.org/stable/modules/linear_model.html#logistic-regression\n",
      "  n_iter_i = _check_optimize_result(\n",
      "/Users/tawneykirkland/opt/anaconda3/lib/python3.8/site-packages/sklearn/model_selection/_validation.py:548: FitFailedWarning: Estimator fit failed. The score on this train-test partition for these parameters will be set to nan. Details: \n",
      "Traceback (most recent call last):\n",
      "  File \"/Users/tawneykirkland/opt/anaconda3/lib/python3.8/site-packages/sklearn/model_selection/_validation.py\", line 531, in _fit_and_score\n",
      "    estimator.fit(X_train, y_train, **fit_params)\n",
      "  File \"/Users/tawneykirkland/opt/anaconda3/lib/python3.8/site-packages/sklearn/linear_model/_logistic.py\", line 1304, in fit\n",
      "    solver = _check_solver(self.solver, self.penalty, self.dual)\n",
      "  File \"/Users/tawneykirkland/opt/anaconda3/lib/python3.8/site-packages/sklearn/linear_model/_logistic.py\", line 442, in _check_solver\n",
      "    raise ValueError(\"Solver %s supports only 'l2' or 'none' penalties, \"\n",
      "ValueError: Solver lbfgs supports only 'l2' or 'none' penalties, got l1 penalty.\n",
      "\n",
      "  warnings.warn(\"Estimator fit failed. The score on this train-test\"\n",
      "/Users/tawneykirkland/opt/anaconda3/lib/python3.8/site-packages/sklearn/linear_model/_logistic.py:762: ConvergenceWarning: lbfgs failed to converge (status=1):\n",
      "STOP: TOTAL NO. of ITERATIONS REACHED LIMIT.\n",
      "\n",
      "Increase the number of iterations (max_iter) or scale the data as shown in:\n",
      "    https://scikit-learn.org/stable/modules/preprocessing.html\n",
      "Please also refer to the documentation for alternative solver options:\n",
      "    https://scikit-learn.org/stable/modules/linear_model.html#logistic-regression\n",
      "  n_iter_i = _check_optimize_result(\n",
      "/Users/tawneykirkland/opt/anaconda3/lib/python3.8/site-packages/sklearn/linear_model/_logistic.py:762: ConvergenceWarning: lbfgs failed to converge (status=1):\n",
      "STOP: TOTAL NO. of ITERATIONS REACHED LIMIT.\n",
      "\n",
      "Increase the number of iterations (max_iter) or scale the data as shown in:\n",
      "    https://scikit-learn.org/stable/modules/preprocessing.html\n",
      "Please also refer to the documentation for alternative solver options:\n",
      "    https://scikit-learn.org/stable/modules/linear_model.html#logistic-regression\n",
      "  n_iter_i = _check_optimize_result(\n",
      "/Users/tawneykirkland/opt/anaconda3/lib/python3.8/site-packages/sklearn/linear_model/_logistic.py:762: ConvergenceWarning: lbfgs failed to converge (status=1):\n",
      "STOP: TOTAL NO. of ITERATIONS REACHED LIMIT.\n",
      "\n",
      "Increase the number of iterations (max_iter) or scale the data as shown in:\n",
      "    https://scikit-learn.org/stable/modules/preprocessing.html\n",
      "Please also refer to the documentation for alternative solver options:\n",
      "    https://scikit-learn.org/stable/modules/linear_model.html#logistic-regression\n",
      "  n_iter_i = _check_optimize_result(\n",
      "/Users/tawneykirkland/opt/anaconda3/lib/python3.8/site-packages/sklearn/linear_model/_logistic.py:762: ConvergenceWarning: lbfgs failed to converge (status=1):\n",
      "STOP: TOTAL NO. of ITERATIONS REACHED LIMIT.\n",
      "\n",
      "Increase the number of iterations (max_iter) or scale the data as shown in:\n",
      "    https://scikit-learn.org/stable/modules/preprocessing.html\n",
      "Please also refer to the documentation for alternative solver options:\n",
      "    https://scikit-learn.org/stable/modules/linear_model.html#logistic-regression\n",
      "  n_iter_i = _check_optimize_result(\n",
      "/Users/tawneykirkland/opt/anaconda3/lib/python3.8/site-packages/sklearn/linear_model/_logistic.py:762: ConvergenceWarning: lbfgs failed to converge (status=1):\n",
      "STOP: TOTAL NO. of ITERATIONS REACHED LIMIT.\n",
      "\n",
      "Increase the number of iterations (max_iter) or scale the data as shown in:\n",
      "    https://scikit-learn.org/stable/modules/preprocessing.html\n",
      "Please also refer to the documentation for alternative solver options:\n",
      "    https://scikit-learn.org/stable/modules/linear_model.html#logistic-regression\n",
      "  n_iter_i = _check_optimize_result(\n",
      "/Users/tawneykirkland/opt/anaconda3/lib/python3.8/site-packages/sklearn/model_selection/_validation.py:548: FitFailedWarning: Estimator fit failed. The score on this train-test partition for these parameters will be set to nan. Details: \n",
      "Traceback (most recent call last):\n",
      "  File \"/Users/tawneykirkland/opt/anaconda3/lib/python3.8/site-packages/sklearn/model_selection/_validation.py\", line 531, in _fit_and_score\n",
      "    estimator.fit(X_train, y_train, **fit_params)\n",
      "  File \"/Users/tawneykirkland/opt/anaconda3/lib/python3.8/site-packages/sklearn/linear_model/_logistic.py\", line 1304, in fit\n",
      "    solver = _check_solver(self.solver, self.penalty, self.dual)\n",
      "  File \"/Users/tawneykirkland/opt/anaconda3/lib/python3.8/site-packages/sklearn/linear_model/_logistic.py\", line 442, in _check_solver\n",
      "    raise ValueError(\"Solver %s supports only 'l2' or 'none' penalties, \"\n",
      "ValueError: Solver lbfgs supports only 'l2' or 'none' penalties, got l1 penalty.\n",
      "\n",
      "  warnings.warn(\"Estimator fit failed. The score on this train-test\"\n",
      "/Users/tawneykirkland/opt/anaconda3/lib/python3.8/site-packages/sklearn/linear_model/_logistic.py:762: ConvergenceWarning: lbfgs failed to converge (status=1):\n",
      "STOP: TOTAL NO. of ITERATIONS REACHED LIMIT.\n",
      "\n",
      "Increase the number of iterations (max_iter) or scale the data as shown in:\n",
      "    https://scikit-learn.org/stable/modules/preprocessing.html\n",
      "Please also refer to the documentation for alternative solver options:\n",
      "    https://scikit-learn.org/stable/modules/linear_model.html#logistic-regression\n",
      "  n_iter_i = _check_optimize_result(\n"
     ]
    },
    {
     "name": "stderr",
     "output_type": "stream",
     "text": [
      "/Users/tawneykirkland/opt/anaconda3/lib/python3.8/site-packages/sklearn/linear_model/_logistic.py:762: ConvergenceWarning: lbfgs failed to converge (status=1):\n",
      "STOP: TOTAL NO. of ITERATIONS REACHED LIMIT.\n",
      "\n",
      "Increase the number of iterations (max_iter) or scale the data as shown in:\n",
      "    https://scikit-learn.org/stable/modules/preprocessing.html\n",
      "Please also refer to the documentation for alternative solver options:\n",
      "    https://scikit-learn.org/stable/modules/linear_model.html#logistic-regression\n",
      "  n_iter_i = _check_optimize_result(\n",
      "/Users/tawneykirkland/opt/anaconda3/lib/python3.8/site-packages/sklearn/linear_model/_logistic.py:762: ConvergenceWarning: lbfgs failed to converge (status=1):\n",
      "STOP: TOTAL NO. of ITERATIONS REACHED LIMIT.\n",
      "\n",
      "Increase the number of iterations (max_iter) or scale the data as shown in:\n",
      "    https://scikit-learn.org/stable/modules/preprocessing.html\n",
      "Please also refer to the documentation for alternative solver options:\n",
      "    https://scikit-learn.org/stable/modules/linear_model.html#logistic-regression\n",
      "  n_iter_i = _check_optimize_result(\n",
      "/Users/tawneykirkland/opt/anaconda3/lib/python3.8/site-packages/sklearn/linear_model/_logistic.py:762: ConvergenceWarning: lbfgs failed to converge (status=1):\n",
      "STOP: TOTAL NO. of ITERATIONS REACHED LIMIT.\n",
      "\n",
      "Increase the number of iterations (max_iter) or scale the data as shown in:\n",
      "    https://scikit-learn.org/stable/modules/preprocessing.html\n",
      "Please also refer to the documentation for alternative solver options:\n",
      "    https://scikit-learn.org/stable/modules/linear_model.html#logistic-regression\n",
      "  n_iter_i = _check_optimize_result(\n",
      "/Users/tawneykirkland/opt/anaconda3/lib/python3.8/site-packages/sklearn/linear_model/_logistic.py:762: ConvergenceWarning: lbfgs failed to converge (status=1):\n",
      "STOP: TOTAL NO. of ITERATIONS REACHED LIMIT.\n",
      "\n",
      "Increase the number of iterations (max_iter) or scale the data as shown in:\n",
      "    https://scikit-learn.org/stable/modules/preprocessing.html\n",
      "Please also refer to the documentation for alternative solver options:\n",
      "    https://scikit-learn.org/stable/modules/linear_model.html#logistic-regression\n",
      "  n_iter_i = _check_optimize_result(\n"
     ]
    },
    {
     "name": "stdout",
     "output_type": "stream",
     "text": [
      "tuned hpyerparameters :(best parameters)  {'C': 5, 'penalty': 'l2'}\n",
      "Accuracy Score : 0.8843865117597053\n",
      "Precision Score : 0.8991800789553599\n",
      "Recall Score : 0.9749753045768851\n",
      "F1 Score : 0.9355450236966825\n",
      "\n",
      "\n",
      "[[ 160  332]\n",
      " [  76 2961]]\n",
      "\n",
      "\n",
      "              precision    recall  f1-score   support\n",
      "\n",
      "           0       0.68      0.33      0.44       492\n",
      "           1       0.90      0.97      0.94      3037\n",
      "\n",
      "    accuracy                           0.88      3529\n",
      "   macro avg       0.79      0.65      0.69      3529\n",
      "weighted avg       0.87      0.88      0.87      3529\n",
      "\n"
     ]
    },
    {
     "name": "stderr",
     "output_type": "stream",
     "text": [
      "/Users/tawneykirkland/opt/anaconda3/lib/python3.8/site-packages/sklearn/linear_model/_logistic.py:762: ConvergenceWarning: lbfgs failed to converge (status=1):\n",
      "STOP: TOTAL NO. of ITERATIONS REACHED LIMIT.\n",
      "\n",
      "Increase the number of iterations (max_iter) or scale the data as shown in:\n",
      "    https://scikit-learn.org/stable/modules/preprocessing.html\n",
      "Please also refer to the documentation for alternative solver options:\n",
      "    https://scikit-learn.org/stable/modules/linear_model.html#logistic-regression\n",
      "  n_iter_i = _check_optimize_result(\n"
     ]
    }
   ],
   "source": [
    "from sklearn.model_selection import GridSearchCV\n",
    "lm_13gs = LogisticRegression()\n",
    "grid_values = {'penalty': ['l1', 'l2'],'C':[0.001,.009,0.01,.09,1,2,5,10,25]}\n",
    "grid_lm13_acc = GridSearchCV(lm_13gs, param_grid = grid_values)\n",
    "grid_lm13_acc.fit(x_train_13[features13], x_train_13['no_acc'])\n",
    "\n",
    "#Predict values based on new parameters\n",
    "y_pred_acc = grid_lm13_acc.predict(df_val_13[features13])\n",
    "\n",
    "# New Model Evaluation metrics \n",
    "print(\"tuned hpyerparameters :(best parameters) \",grid_lm13_acc.best_params_)\n",
    "print('Accuracy Score : ' + str(accuracy_score(df_val_13['no_acc'],y_pred_acc)))\n",
    "print('Precision Score : ' + str(precision_score(df_val_13['no_acc'],y_pred_acc)))\n",
    "print('Recall Score : ' + str(recall_score(df_val_13['no_acc'],y_pred_acc)))\n",
    "print('F1 Score : ' + str(f1_score(df_val_13['no_acc'],y_pred_acc)))\n",
    "print('\\n')\n",
    "\n",
    "#Logistic Regression (Grid Search) Confusion matrix\n",
    "print(confusion_matrix(df_val_13['no_acc'],y_pred_acc))\n",
    "print('\\n')\n",
    "\n",
    "# Classification report\n",
    "print(classification_report(df_val_13['no_acc'], y_pred_acc))"
   ]
  },
  {
   "cell_type": "markdown",
   "metadata": {},
   "source": [
    "## Testing the model on the test set\n",
    "\n",
    "Note the first analysis is based on the first multiple regression model above (including all features, no interactions)"
   ]
  },
  {
   "cell_type": "markdown",
   "metadata": {},
   "source": [
    "## 1. Preparing the test sample "
   ]
  },
  {
   "cell_type": "code",
   "execution_count": 103,
   "metadata": {},
   "outputs": [
    {
     "name": "stderr",
     "output_type": "stream",
     "text": [
      "<ipython-input-103-120e2e6065ba>:1: SettingWithCopyWarning: \n",
      "A value is trying to be set on a copy of a slice from a DataFrame.\n",
      "Try using .loc[row_indexer,col_indexer] = value instead\n",
      "\n",
      "See the caveats in the documentation: https://pandas.pydata.org/pandas-docs/stable/user_guide/indexing.html#returning-a-view-versus-a-copy\n",
      "  x_test['is_urban'] = np.where(x_test['location_type'] == 'Urban',1,0)\n",
      "<ipython-input-103-120e2e6065ba>:2: SettingWithCopyWarning: \n",
      "A value is trying to be set on a copy of a slice from a DataFrame.\n",
      "Try using .loc[row_indexer,col_indexer] = value instead\n",
      "\n",
      "See the caveats in the documentation: https://pandas.pydata.org/pandas-docs/stable/user_guide/indexing.html#returning-a-view-versus-a-copy\n",
      "  x_test['cellphone'] = np.where(x_test['cellphone_access'] == 'Yes',1,0)\n",
      "<ipython-input-103-120e2e6065ba>:3: SettingWithCopyWarning: \n",
      "A value is trying to be set on a copy of a slice from a DataFrame.\n",
      "Try using .loc[row_indexer,col_indexer] = value instead\n",
      "\n",
      "See the caveats in the documentation: https://pandas.pydata.org/pandas-docs/stable/user_guide/indexing.html#returning-a-view-versus-a-copy\n",
      "  x_test['is_male'] = np.where(x_test['gender_of_respondent'] == 'Male',1,0)\n"
     ]
    }
   ],
   "source": [
    "x_test['is_urban'] = np.where(x_test['location_type'] == 'Urban',1,0)\n",
    "x_test['cellphone'] = np.where(x_test['cellphone_access'] == 'Yes',1,0)\n",
    "x_test['is_male'] = np.where(x_test['gender_of_respondent'] == 'Male',1,0)"
   ]
  },
  {
   "cell_type": "code",
   "execution_count": 104,
   "metadata": {},
   "outputs": [],
   "source": [
    "x_test_cont = x_test[['year','household_size','age_of_respondent','is_urban','cellphone','is_male']]\n",
    "x_test_cat = x_test[['country','relationship_with_head', 'marital_status','education_level', 'job_type']]"
   ]
  },
  {
   "cell_type": "code",
   "execution_count": 105,
   "metadata": {},
   "outputs": [
    {
     "name": "stderr",
     "output_type": "stream",
     "text": [
      "/Users/tawneykirkland/opt/anaconda3/lib/python3.8/site-packages/pandas/core/indexing.py:670: SettingWithCopyWarning: \n",
      "A value is trying to be set on a copy of a slice from a DataFrame\n",
      "\n",
      "See the caveats in the documentation: https://pandas.pydata.org/pandas-docs/stable/user_guide/indexing.html#returning-a-view-versus-a-copy\n",
      "  iloc._setitem_with_indexer(indexer, value)\n",
      "<ipython-input-105-c58a8d9a8085>:1: SettingWithCopyWarning: \n",
      "A value is trying to be set on a copy of a slice from a DataFrame\n",
      "\n",
      "See the caveats in the documentation: https://pandas.pydata.org/pandas-docs/stable/user_guide/indexing.html#returning-a-view-versus-a-copy\n",
      "  x_test_cat.loc[x_test_cat['marital_status'] == 'Dont know', ['marital_status']] = 'Single/Never Married'\n",
      "<ipython-input-105-c58a8d9a8085>:2: SettingWithCopyWarning: \n",
      "A value is trying to be set on a copy of a slice from a DataFrame\n",
      "\n",
      "See the caveats in the documentation: https://pandas.pydata.org/pandas-docs/stable/user_guide/indexing.html#returning-a-view-versus-a-copy\n",
      "  x_test_cat.loc[x_test_cat['education_level'] == 'Other/Dont know/RTA', ['education_level']] = 'No formal education'\n",
      "<ipython-input-105-c58a8d9a8085>:3: SettingWithCopyWarning: \n",
      "A value is trying to be set on a copy of a slice from a DataFrame\n",
      "\n",
      "See the caveats in the documentation: https://pandas.pydata.org/pandas-docs/stable/user_guide/indexing.html#returning-a-view-versus-a-copy\n",
      "  x_test_cat.loc[x_test_cat['job_type'] == 'Dont Know/Refuse to answer', ['job_type']] = 'No Income'\n",
      "<ipython-input-105-c58a8d9a8085>:4: SettingWithCopyWarning: \n",
      "A value is trying to be set on a copy of a slice from a DataFrame\n",
      "\n",
      "See the caveats in the documentation: https://pandas.pydata.org/pandas-docs/stable/user_guide/indexing.html#returning-a-view-versus-a-copy\n",
      "  x_test_cat.loc[x_test_cat['relationship_with_head'] == 'Other non-relatives', ['relationship_with_head']] = 'Other relative'\n"
     ]
    }
   ],
   "source": [
    "x_test_cat.loc[x_test_cat['marital_status'] == 'Dont know', ['marital_status']] = 'Single/Never Married'\n",
    "x_test_cat.loc[x_test_cat['education_level'] == 'Other/Dont know/RTA', ['education_level']] = 'No formal education'\n",
    "x_test_cat.loc[x_test_cat['job_type'] == 'Dont Know/Refuse to answer', ['job_type']] = 'No Income'\n",
    "x_test_cat.loc[x_test_cat['relationship_with_head'] == 'Other non-relatives', ['relationship_with_head']] = 'Other relative'"
   ]
  },
  {
   "cell_type": "code",
   "execution_count": 107,
   "metadata": {},
   "outputs": [],
   "source": [
    "#x_test_cont[['household_size','age_of_respondent']] = minmax_scale(x_test_cont[['household_size','age_of_respondent']])"
   ]
  },
  {
   "cell_type": "code",
   "execution_count": 108,
   "metadata": {},
   "outputs": [],
   "source": [
    "ohe = OneHotEncoder(drop='first', sparse=False)\n",
    "\n",
    "ohe.fit(x_test_cat)\n",
    "\n",
    "ohe_x_test = ohe.transform(x_test_cat)\n",
    "\n",
    "columns = ohe.get_feature_names(['country',\n",
    "                                 'relationship_with_head', \n",
    "                                 'marital_status',\n",
    "                                 'education_level', \n",
    "                                 'job_type'])\n",
    "\n",
    "ohe_x_test_df = pd.DataFrame(ohe_x_test, columns=columns, index=x_test.index)"
   ]
  },
  {
   "cell_type": "code",
   "execution_count": 109,
   "metadata": {},
   "outputs": [],
   "source": [
    "combo_test_df = pd.concat([x_test_cont, ohe_x_test_df], axis=1)"
   ]
  },
  {
   "cell_type": "code",
   "execution_count": 110,
   "metadata": {
    "scrolled": true
   },
   "outputs": [],
   "source": [
    "y_test['no_acc'] = np.where(y_test['bank_account'] == 'No', 1,0)\n",
    "y_test.drop(columns='bank_account',inplace=True)\n",
    "df_test = pd.concat([combo_test_df,y_test],axis=1)"
   ]
  },
  {
   "cell_type": "markdown",
   "metadata": {},
   "source": [
    "## 2. Testing the model on the test sample"
   ]
  },
  {
   "cell_type": "markdown",
   "metadata": {},
   "source": [
    "## Model 1 - all features"
   ]
  },
  {
   "cell_type": "code",
   "execution_count": 111,
   "metadata": {},
   "outputs": [
    {
     "name": "stdout",
     "output_type": "stream",
     "text": [
      "Accuracy of logistic regression classifier on test set: 0.882\n"
     ]
    }
   ],
   "source": [
    "preds1_test = lm_2.predict(df_test[features])\n",
    "print('Accuracy of logistic regression classifier on test set: {:.3f}'.format(\n",
    "    lm_2.score(df_test[features], df_test['no_acc'])))"
   ]
  },
  {
   "cell_type": "code",
   "execution_count": 112,
   "metadata": {},
   "outputs": [
    {
     "data": {
      "text/plain": [
       "array([[ 290,  544],\n",
       "       [ 150, 4897]])"
      ]
     },
     "execution_count": 112,
     "metadata": {},
     "output_type": "execute_result"
    }
   ],
   "source": [
    "confusion_matrix(df_test['no_acc'], \n",
    "                 preds1_test)"
   ]
  },
  {
   "cell_type": "markdown",
   "metadata": {},
   "source": [
    "\n",
    "| | predict No account (0) | predict account (1)|\n",
    "|---|---|---|\n",
    "| **is no account (0)** | 4909 | 138|\n",
    "| **is account (1)** | 540 | 294 |"
   ]
  },
  {
   "cell_type": "markdown",
   "metadata": {},
   "source": [
    "Need to do the following:\n",
    "* Check error metrics\n",
    "* Conduct cross validation\n",
    "* Test with other classification models "
   ]
  },
  {
   "cell_type": "code",
   "execution_count": 113,
   "metadata": {},
   "outputs": [
    {
     "name": "stdout",
     "output_type": "stream",
     "text": [
      "              precision    recall  f1-score   support\n",
      "\n",
      "           0       0.66      0.35      0.46       834\n",
      "           1       0.90      0.97      0.93      5047\n",
      "\n",
      "    accuracy                           0.88      5881\n",
      "   macro avg       0.78      0.66      0.69      5881\n",
      "weighted avg       0.87      0.88      0.87      5881\n",
      "\n"
     ]
    }
   ],
   "source": [
    "print(classification_report(df_test['no_acc'], preds1_test))"
   ]
  },
  {
   "cell_type": "markdown",
   "metadata": {},
   "source": [
    "## Multiple regression with model 13"
   ]
  },
  {
   "cell_type": "code",
   "execution_count": 114,
   "metadata": {},
   "outputs": [],
   "source": [
    "# df_test_13 = df_test.drop(columns= ['year','household_size','relationship_with_head_Other relative',\n",
    "#                                    'relationship_with_head_Parent'])"
   ]
  },
  {
   "cell_type": "code",
   "execution_count": 148,
   "metadata": {},
   "outputs": [],
   "source": [
    "df_test_13 = df_test.copy()"
   ]
  },
  {
   "cell_type": "code",
   "execution_count": 149,
   "metadata": {},
   "outputs": [
    {
     "name": "stdout",
     "output_type": "stream",
     "text": [
      "Accuracy of logistic regression classifier on test set: 0.882\n"
     ]
    }
   ],
   "source": [
    "preds13_test = lm_13.predict(df_test_13[features13])\n",
    "print('Accuracy of logistic regression classifier on test set: {:.3f}'.format(\n",
    "    lm_13.score(df_test_13[features13],df_test_13['no_acc'])))"
   ]
  },
  {
   "cell_type": "code",
   "execution_count": 150,
   "metadata": {},
   "outputs": [
    {
     "data": {
      "text/plain": [
       "array([[ 290,  544],\n",
       "       [ 148, 4899]])"
      ]
     },
     "execution_count": 150,
     "metadata": {},
     "output_type": "execute_result"
    }
   ],
   "source": [
    "confusion_matrix(df_test_13['no_acc'], \n",
    "                 preds13_test)"
   ]
  },
  {
   "cell_type": "code",
   "execution_count": 151,
   "metadata": {},
   "outputs": [
    {
     "name": "stdout",
     "output_type": "stream",
     "text": [
      "              precision    recall  f1-score   support\n",
      "\n",
      "           0       0.66      0.35      0.46       834\n",
      "           1       0.90      0.97      0.93      5047\n",
      "\n",
      "    accuracy                           0.88      5881\n",
      "   macro avg       0.78      0.66      0.70      5881\n",
      "weighted avg       0.87      0.88      0.87      5881\n",
      "\n"
     ]
    }
   ],
   "source": [
    "print(classification_report(df_test_13['no_acc'], preds13_test))"
   ]
  },
  {
   "cell_type": "markdown",
   "metadata": {},
   "source": [
    "Model is broadly consistent across train - val - test"
   ]
  },
  {
   "cell_type": "code",
   "execution_count": 152,
   "metadata": {},
   "outputs": [],
   "source": [
    "df_test_13['proba_bank'] = lm_13.predict_proba(df_test_13[features13])[:, 1]\n",
    "\n",
    "fpr13_test, tpr13_test, thresholds13_test = roc_curve(df_test_13['no_acc'],\n",
    "                                 df_test_13['proba_bank'])"
   ]
  },
  {
   "cell_type": "code",
   "execution_count": 153,
   "metadata": {},
   "outputs": [
    {
     "data": {
      "image/png": "[encoded data removed]",
      "text/plain": [
       "<Figure size 432x288 with 1 Axes>"
      ]
     },
     "metadata": {
      "needs_background": "light"
     },
     "output_type": "display_data"
    }
   ],
   "source": [
    "plot_roc(df_test_13['no_acc'], df_test_13['proba_bank'],fpr13_test,tpr13_test)"
   ]
  },
  {
   "cell_type": "code",
   "execution_count": 154,
   "metadata": {},
   "outputs": [
    {
     "name": "stdout",
     "output_type": "stream",
     "text": [
      "F1 score for bank account holiders in model 13:\n"
     ]
    },
    {
     "data": {
      "text/plain": [
       "0.9340324118207817"
      ]
     },
     "execution_count": 154,
     "metadata": {},
     "output_type": "execute_result"
    }
   ],
   "source": [
    "# calculate F1 score\n",
    "f1_13_test = f1_score(df_test_13['no_acc'], preds13_test)\n",
    "print('F1 score for bank account holiders in model 13:')\n",
    "f1_13_test"
   ]
  },
  {
   "cell_type": "code",
   "execution_count": 155,
   "metadata": {},
   "outputs": [],
   "source": [
    "df_test_13['preds'] = lm_13.predict(df_test_13[features13])"
   ]
  },
  {
   "cell_type": "code",
   "execution_count": 157,
   "metadata": {},
   "outputs": [],
   "source": [
    "df_test_13.to_csv('test_preds.csv')"
   ]
  },
  {
   "cell_type": "code",
   "execution_count": 180,
   "metadata": {},
   "outputs": [],
   "source": [
    "final_test = pd.concat([df_test_13,x_test_cat],axis=1)"
   ]
  },
  {
   "cell_type": "code",
   "execution_count": 182,
   "metadata": {},
   "outputs": [],
   "source": [
    "#final_test.to_csv('test_preds.csv')"
   ]
  },
  {
   "cell_type": "markdown",
   "metadata": {},
   "source": [
    "## Multiple regression with model 15 - Oversampling"
   ]
  },
  {
   "cell_type": "code",
   "execution_count": 193,
   "metadata": {
    "scrolled": true
   },
   "outputs": [
    {
     "name": "stdout",
     "output_type": "stream",
     "text": [
      "Accuracy of logistic regression classifier on val set: 0.789\n"
     ]
    }
   ],
   "source": [
    "preds15t = lm_15.predict(df_test_13[features13])\n",
    "print('Accuracy of logistic regression classifier on val set: {:.3f}'.format(lm_15.score(\n",
    "    df_test_13[features13], df_test_13['no_acc'])))"
   ]
  },
  {
   "cell_type": "code",
   "execution_count": 194,
   "metadata": {},
   "outputs": [
    {
     "data": {
      "text/plain": [
       "array([[ 619,  215],\n",
       "       [1028, 4019]])"
      ]
     },
     "execution_count": 194,
     "metadata": {},
     "output_type": "execute_result"
    }
   ],
   "source": [
    "confusion_matrix(df_test_13['no_acc'], \n",
    "                 preds15t)"
   ]
  },
  {
   "cell_type": "code",
   "execution_count": 195,
   "metadata": {},
   "outputs": [
    {
     "name": "stdout",
     "output_type": "stream",
     "text": [
      "              precision    recall  f1-score   support\n",
      "\n",
      "           0       0.38      0.74      0.50       834\n",
      "           1       0.95      0.80      0.87      5047\n",
      "\n",
      "    accuracy                           0.79      5881\n",
      "   macro avg       0.66      0.77      0.68      5881\n",
      "weighted avg       0.87      0.79      0.81      5881\n",
      "\n"
     ]
    }
   ],
   "source": [
    "print(classification_report(df_test_13['no_acc'], preds15t))"
   ]
  },
  {
   "cell_type": "code",
   "execution_count": 196,
   "metadata": {},
   "outputs": [
    {
     "name": "stdout",
     "output_type": "stream",
     "text": [
      "F1 score for test unbanked in model 15:\n"
     ]
    },
    {
     "data": {
      "text/plain": [
       "0.8660704665445533"
      ]
     },
     "execution_count": 196,
     "metadata": {},
     "output_type": "execute_result"
    }
   ],
   "source": [
    "# calculate F1 score\n",
    "f1_15t = f1_score(df_test_13['no_acc'], preds15t)\n",
    "print('F1 score for test unbanked in model 15:')\n",
    "f1_15t"
   ]
  },
  {
   "cell_type": "code",
   "execution_count": null,
   "metadata": {},
   "outputs": [],
   "source": []
  }
 ],
 "metadata": {
  "kernelspec": {
   "display_name": "Python 3",
   "language": "python",
   "name": "python3"
  },
  "language_info": {
   "codemirror_mode": {
    "name": "ipython",
    "version": 3
   },
   "file_extension": ".py",
   "mimetype": "text/x-python",
   "name": "python",
   "nbconvert_exporter": "python",
   "pygments_lexer": "ipython3",
   "version": "3.8.5"
  }
 },
 "nbformat": 4,
 "nbformat_minor": 4
}
